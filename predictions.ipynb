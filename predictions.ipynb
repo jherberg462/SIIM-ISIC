{
 "cells": [
  {
   "cell_type": "code",
   "execution_count": null,
   "metadata": {
    "_cell_guid": "b1076dfc-b9ad-4769-8c92-a6c4dae69d19",
    "_uuid": "8f2839f25d086af736a60e9eeb907d3b93b6e0e5",
    "colab": {},
    "colab_type": "code",
    "execution": {
     "iopub.execute_input": "2020-08-13T07:08:51.024305Z",
     "iopub.status.busy": "2020-08-13T07:08:51.023494Z",
     "iopub.status.idle": "2020-08-13T07:09:00.953853Z",
     "shell.execute_reply": "2020-08-13T07:09:00.953061Z"
    },
    "id": "Z3iibWs053ye",
    "outputId": "0c60d6b2-4cf3-4dca-8cb4-d48485babb0b",
    "papermill": {
     "duration": 9.961533,
     "end_time": "2020-08-13T07:09:00.953997",
     "exception": false,
     "start_time": "2020-08-13T07:08:50.992464",
     "status": "completed"
    },
    "tags": []
   },
   "outputs": [
    {
     "name": "stdout",
     "output_type": "stream",
     "text": [
      "Collecting fsspec\r\n",
      "  Downloading fsspec-0.8.0-py3-none-any.whl (85 kB)\r\n",
      "\u001b[K     |████████████████████████████████| 85 kB 759 kB/s \r\n",
      "\u001b[?25hInstalling collected packages: fsspec\r\n",
      "  Attempting uninstall: fsspec\r\n",
      "    Found existing installation: fsspec 0.7.2\r\n",
      "    Uninstalling fsspec-0.7.2:\r\n",
      "      Successfully uninstalled fsspec-0.7.2\r\n",
      "Successfully installed fsspec-0.8.0\r\n",
      "\u001b[33mWARNING: You are using pip version 20.2.1; however, version 20.2.2 is available.\r\n",
      "You should consider upgrading via the '/opt/conda/bin/python3.7 -m pip install --upgrade pip' command.\u001b[0m\r\n"
     ]
    }
   ],
   "source": [
    "!pip install fsspec --upgrade"
   ]
  },
  {
   "cell_type": "code",
   "execution_count": 1,
   "metadata": {
    "colab": {},
    "colab_type": "code",
    "execution": {
     "iopub.execute_input": "2020-08-13T07:09:01.020141Z",
     "iopub.status.busy": "2020-08-13T07:09:01.019356Z",
     "iopub.status.idle": "2020-08-13T07:09:07.404166Z",
     "shell.execute_reply": "2020-08-13T07:09:07.403375Z"
    },
    "id": "NY-VdKVH53yo",
    "papermill": {
     "duration": 6.420536,
     "end_time": "2020-08-13T07:09:07.404296",
     "exception": false,
     "start_time": "2020-08-13T07:09:00.983760",
     "status": "completed"
    },
    "tags": []
   },
   "outputs": [],
   "source": [
    "import numpy as np # linear algebra\n",
    "import pandas as pd # data processing, CSV file I/O (e.g. pd.read_csv)\n",
    "\n",
    "\n",
    "import os\n",
    "\n",
    "import tensorflow as tf\n",
    "from tensorflow.keras import layers \n",
    "from tensorflow import keras\n",
    "import tensorflow_hub as hub\n",
    "from sklearn.model_selection import train_test_split\n",
    "from matplotlib import pyplot as plt\n",
    "\n",
    "try:\n",
    "    from kaggle_datasets import KaggleDatasets\n",
    "    dataset_gcs = KaggleDatasets().get_gcs_path('siim-isic-melanoma-classification')\n",
    "    print('got GCS path via KaggleDatasets .get_gcs_path method')\n",
    "except ModuleNotFoundError:\n",
    "    #hardcode path while testing locally\n",
    "    dataset_gcs = 'gs://'\n"
   ]
  },
  {
   "cell_type": "code",
   "execution_count": 2,
   "metadata": {
    "_cell_guid": "79c7e3d0-c299-4dcb-8224-4455121ee9b0",
    "_uuid": "d629ff2d2480ee46fbb7e2d37f6b5fab8052498a",
    "colab": {
     "base_uri": "https://localhost:8080/",
     "height": 37
    },
    "colab_type": "code",
    "execution": {
     "iopub.execute_input": "2020-08-13T07:09:07.467567Z",
     "iopub.status.busy": "2020-08-13T07:09:07.466641Z",
     "iopub.status.idle": "2020-08-13T07:09:07.470797Z",
     "shell.execute_reply": "2020-08-13T07:09:07.471345Z"
    },
    "id": "OKR2HSGh53yw",
    "outputId": "78a90df5-fcfe-4f1b-d0af-127ac9807cff",
    "papermill": {
     "duration": 0.039312,
     "end_time": "2020-08-13T07:09:07.471525",
     "exception": false,
     "start_time": "2020-08-13T07:09:07.432213",
     "status": "completed"
    },
    "tags": []
   },
   "outputs": [
    {
     "data": {
      "application/vnd.google.colaboratory.intrinsic+json": {
       "type": "string"
      },
      "text/plain": [
       "'2.3.0'"
      ]
     },
     "execution_count": 2,
     "metadata": {
      "tags": []
     },
     "output_type": "execute_result"
    }
   ],
   "source": [
    "tf.__version__\n"
   ]
  },
  {
   "cell_type": "code",
   "execution_count": 3,
   "metadata": {
    "colab": {},
    "colab_type": "code",
    "execution": {
     "iopub.execute_input": "2020-08-13T07:09:07.534444Z",
     "iopub.status.busy": "2020-08-13T07:09:07.533475Z",
     "iopub.status.idle": "2020-08-13T07:09:07.535895Z",
     "shell.execute_reply": "2020-08-13T07:09:07.536429Z"
    },
    "id": "w1HWbeid53y0",
    "papermill": {
     "duration": 0.036801,
     "end_time": "2020-08-13T07:09:07.536627",
     "exception": false,
     "start_time": "2020-08-13T07:09:07.499826",
     "status": "completed"
    },
    "tags": []
   },
   "outputs": [],
   "source": [
    "params = {\n",
    "    'batch_size' : 64,\n",
    "    'img_size' : [299, 299],\n",
    "    'epochs': 180\n",
    "}\n"
   ]
  },
  {
   "cell_type": "code",
   "execution_count": 4,
   "metadata": {
    "colab": {
     "base_uri": "https://localhost:8080/",
     "height": 768
    },
    "colab_type": "code",
    "execution": {
     "iopub.execute_input": "2020-08-13T07:09:07.681464Z",
     "iopub.status.busy": "2020-08-13T07:09:07.680301Z",
     "iopub.status.idle": "2020-08-13T07:09:12.101830Z",
     "shell.execute_reply": "2020-08-13T07:09:12.100697Z"
    },
    "id": "qaGx_hWW53y3",
    "outputId": "1e805c03-acb2-4bc1-963f-bded9d32dae9",
    "papermill": {
     "duration": 4.536984,
     "end_time": "2020-08-13T07:09:12.101972",
     "exception": false,
     "start_time": "2020-08-13T07:09:07.564988",
     "status": "completed"
    },
    "tags": []
   },
   "outputs": [
    {
     "name": "stdout",
     "output_type": "stream",
     "text": [
      "Running on TPU  grpc://10.127.47.58:8470\n",
      "INFO:tensorflow:Initializing the TPU system: grpc://10.127.47.58:8470\n"
     ]
    },
    {
     "name": "stderr",
     "output_type": "stream",
     "text": [
      "INFO:tensorflow:Initializing the TPU system: grpc://10.127.47.58:8470\n"
     ]
    },
    {
     "name": "stdout",
     "output_type": "stream",
     "text": [
      "INFO:tensorflow:Clearing out eager caches\n"
     ]
    },
    {
     "name": "stderr",
     "output_type": "stream",
     "text": [
      "INFO:tensorflow:Clearing out eager caches\n"
     ]
    },
    {
     "name": "stdout",
     "output_type": "stream",
     "text": [
      "INFO:tensorflow:Finished initializing TPU system.\n"
     ]
    },
    {
     "name": "stderr",
     "output_type": "stream",
     "text": [
      "INFO:tensorflow:Finished initializing TPU system.\n",
      "WARNING:absl:`tf.distribute.experimental.TPUStrategy` is deprecated, please use  the non experimental symbol `tf.distribute.TPUStrategy` instead.\n"
     ]
    },
    {
     "name": "stdout",
     "output_type": "stream",
     "text": [
      "INFO:tensorflow:Found TPU system:\n"
     ]
    },
    {
     "name": "stderr",
     "output_type": "stream",
     "text": [
      "INFO:tensorflow:Found TPU system:\n"
     ]
    },
    {
     "name": "stdout",
     "output_type": "stream",
     "text": [
      "INFO:tensorflow:*** Num TPU Cores: 8\n"
     ]
    },
    {
     "name": "stderr",
     "output_type": "stream",
     "text": [
      "INFO:tensorflow:*** Num TPU Cores: 8\n"
     ]
    },
    {
     "name": "stdout",
     "output_type": "stream",
     "text": [
      "INFO:tensorflow:*** Num TPU Workers: 1\n"
     ]
    },
    {
     "name": "stderr",
     "output_type": "stream",
     "text": [
      "INFO:tensorflow:*** Num TPU Workers: 1\n"
     ]
    },
    {
     "name": "stdout",
     "output_type": "stream",
     "text": [
      "INFO:tensorflow:*** Num TPU Cores Per Worker: 8\n"
     ]
    },
    {
     "name": "stderr",
     "output_type": "stream",
     "text": [
      "INFO:tensorflow:*** Num TPU Cores Per Worker: 8\n"
     ]
    },
    {
     "name": "stdout",
     "output_type": "stream",
     "text": [
      "INFO:tensorflow:*** Available Device: _DeviceAttributes(/job:localhost/replica:0/task:0/device:CPU:0, CPU, 0, 0)\n"
     ]
    },
    {
     "name": "stderr",
     "output_type": "stream",
     "text": [
      "INFO:tensorflow:*** Available Device: _DeviceAttributes(/job:localhost/replica:0/task:0/device:CPU:0, CPU, 0, 0)\n"
     ]
    },
    {
     "name": "stdout",
     "output_type": "stream",
     "text": [
      "INFO:tensorflow:*** Available Device: _DeviceAttributes(/job:localhost/replica:0/task:0/device:XLA_CPU:0, XLA_CPU, 0, 0)\n"
     ]
    },
    {
     "name": "stderr",
     "output_type": "stream",
     "text": [
      "INFO:tensorflow:*** Available Device: _DeviceAttributes(/job:localhost/replica:0/task:0/device:XLA_CPU:0, XLA_CPU, 0, 0)\n"
     ]
    },
    {
     "name": "stdout",
     "output_type": "stream",
     "text": [
      "INFO:tensorflow:*** Available Device: _DeviceAttributes(/job:worker/replica:0/task:0/device:CPU:0, CPU, 0, 0)\n"
     ]
    },
    {
     "name": "stderr",
     "output_type": "stream",
     "text": [
      "INFO:tensorflow:*** Available Device: _DeviceAttributes(/job:worker/replica:0/task:0/device:CPU:0, CPU, 0, 0)\n"
     ]
    },
    {
     "name": "stdout",
     "output_type": "stream",
     "text": [
      "INFO:tensorflow:*** Available Device: _DeviceAttributes(/job:worker/replica:0/task:0/device:TPU:0, TPU, 0, 0)\n"
     ]
    },
    {
     "name": "stderr",
     "output_type": "stream",
     "text": [
      "INFO:tensorflow:*** Available Device: _DeviceAttributes(/job:worker/replica:0/task:0/device:TPU:0, TPU, 0, 0)\n"
     ]
    },
    {
     "name": "stdout",
     "output_type": "stream",
     "text": [
      "INFO:tensorflow:*** Available Device: _DeviceAttributes(/job:worker/replica:0/task:0/device:TPU:1, TPU, 0, 0)\n"
     ]
    },
    {
     "name": "stderr",
     "output_type": "stream",
     "text": [
      "INFO:tensorflow:*** Available Device: _DeviceAttributes(/job:worker/replica:0/task:0/device:TPU:1, TPU, 0, 0)\n"
     ]
    },
    {
     "name": "stdout",
     "output_type": "stream",
     "text": [
      "INFO:tensorflow:*** Available Device: _DeviceAttributes(/job:worker/replica:0/task:0/device:TPU:2, TPU, 0, 0)\n"
     ]
    },
    {
     "name": "stderr",
     "output_type": "stream",
     "text": [
      "INFO:tensorflow:*** Available Device: _DeviceAttributes(/job:worker/replica:0/task:0/device:TPU:2, TPU, 0, 0)\n"
     ]
    },
    {
     "name": "stdout",
     "output_type": "stream",
     "text": [
      "INFO:tensorflow:*** Available Device: _DeviceAttributes(/job:worker/replica:0/task:0/device:TPU:3, TPU, 0, 0)\n"
     ]
    },
    {
     "name": "stderr",
     "output_type": "stream",
     "text": [
      "INFO:tensorflow:*** Available Device: _DeviceAttributes(/job:worker/replica:0/task:0/device:TPU:3, TPU, 0, 0)\n"
     ]
    },
    {
     "name": "stdout",
     "output_type": "stream",
     "text": [
      "INFO:tensorflow:*** Available Device: _DeviceAttributes(/job:worker/replica:0/task:0/device:TPU:4, TPU, 0, 0)\n"
     ]
    },
    {
     "name": "stderr",
     "output_type": "stream",
     "text": [
      "INFO:tensorflow:*** Available Device: _DeviceAttributes(/job:worker/replica:0/task:0/device:TPU:4, TPU, 0, 0)\n"
     ]
    },
    {
     "name": "stdout",
     "output_type": "stream",
     "text": [
      "INFO:tensorflow:*** Available Device: _DeviceAttributes(/job:worker/replica:0/task:0/device:TPU:5, TPU, 0, 0)\n"
     ]
    },
    {
     "name": "stderr",
     "output_type": "stream",
     "text": [
      "INFO:tensorflow:*** Available Device: _DeviceAttributes(/job:worker/replica:0/task:0/device:TPU:5, TPU, 0, 0)\n"
     ]
    },
    {
     "name": "stdout",
     "output_type": "stream",
     "text": [
      "INFO:tensorflow:*** Available Device: _DeviceAttributes(/job:worker/replica:0/task:0/device:TPU:6, TPU, 0, 0)\n"
     ]
    },
    {
     "name": "stderr",
     "output_type": "stream",
     "text": [
      "INFO:tensorflow:*** Available Device: _DeviceAttributes(/job:worker/replica:0/task:0/device:TPU:6, TPU, 0, 0)\n"
     ]
    },
    {
     "name": "stdout",
     "output_type": "stream",
     "text": [
      "INFO:tensorflow:*** Available Device: _DeviceAttributes(/job:worker/replica:0/task:0/device:TPU:7, TPU, 0, 0)\n"
     ]
    },
    {
     "name": "stderr",
     "output_type": "stream",
     "text": [
      "INFO:tensorflow:*** Available Device: _DeviceAttributes(/job:worker/replica:0/task:0/device:TPU:7, TPU, 0, 0)\n"
     ]
    },
    {
     "name": "stdout",
     "output_type": "stream",
     "text": [
      "INFO:tensorflow:*** Available Device: _DeviceAttributes(/job:worker/replica:0/task:0/device:TPU_SYSTEM:0, TPU_SYSTEM, 0, 0)\n"
     ]
    },
    {
     "name": "stderr",
     "output_type": "stream",
     "text": [
      "INFO:tensorflow:*** Available Device: _DeviceAttributes(/job:worker/replica:0/task:0/device:TPU_SYSTEM:0, TPU_SYSTEM, 0, 0)\n"
     ]
    },
    {
     "name": "stdout",
     "output_type": "stream",
     "text": [
      "INFO:tensorflow:*** Available Device: _DeviceAttributes(/job:worker/replica:0/task:0/device:XLA_CPU:0, XLA_CPU, 0, 0)\n"
     ]
    },
    {
     "name": "stderr",
     "output_type": "stream",
     "text": [
      "INFO:tensorflow:*** Available Device: _DeviceAttributes(/job:worker/replica:0/task:0/device:XLA_CPU:0, XLA_CPU, 0, 0)\n"
     ]
    },
    {
     "name": "stdout",
     "output_type": "stream",
     "text": [
      "REPLICAS:  8\n"
     ]
    }
   ],
   "source": [
    "try:\n",
    "    # TPU detection. No parameters necessary if TPU_NAME environment variable is\n",
    "    # set: this is always the case on Kaggle.\n",
    "    tpu = tf.distribute.cluster_resolver.TPUClusterResolver()\n",
    "    print('Running on TPU ', tpu.master())\n",
    "except ValueError:\n",
    "    tpu = None\n",
    "\n",
    "if tpu:\n",
    "    tf.config.experimental_connect_to_cluster(tpu)\n",
    "    tf.tpu.experimental.initialize_tpu_system(tpu)\n",
    "    strategy = tf.distribute.experimental.TPUStrategy(tpu)\n",
    "else:\n",
    "    # Default distribution strategy in Tensorflow. Works on CPU and single GPU.\n",
    "    strategy = tf.distribute.get_strategy()\n",
    "\n",
    "print(\"REPLICAS: \", strategy.num_replicas_in_sync)"
   ]
  },
  {
   "cell_type": "code",
   "execution_count": 5,
   "metadata": {
    "colab": {},
    "colab_type": "code",
    "execution": {
     "iopub.execute_input": "2020-08-13T07:09:12.167161Z",
     "iopub.status.busy": "2020-08-13T07:09:12.166379Z",
     "iopub.status.idle": "2020-08-13T07:09:12.170483Z",
     "shell.execute_reply": "2020-08-13T07:09:12.169749Z"
    },
    "id": "c3Ll9LPB53y6",
    "papermill": {
     "duration": 0.038881,
     "end_time": "2020-08-13T07:09:12.170642",
     "exception": false,
     "start_time": "2020-08-13T07:09:12.131761",
     "status": "completed"
    },
    "tags": []
   },
   "outputs": [],
   "source": [
    "params['batch_size'] = params['batch_size'] * strategy.num_replicas_in_sync"
   ]
  },
  {
   "cell_type": "code",
   "execution_count": 6,
   "metadata": {
    "colab": {
     "base_uri": "https://localhost:8080/",
     "height": 343
    },
    "colab_type": "code",
    "execution": {
     "iopub.execute_input": "2020-08-13T07:09:12.234770Z",
     "iopub.status.busy": "2020-08-13T07:09:12.233917Z",
     "iopub.status.idle": "2020-08-13T07:09:12.238430Z",
     "shell.execute_reply": "2020-08-13T07:09:12.237725Z"
    },
    "id": "48XiT0sH53y8",
    "outputId": "537c7b01-4b20-4371-b4b6-6927bc07ba55",
    "papermill": {
     "duration": 0.038625,
     "end_time": "2020-08-13T07:09:12.238585",
     "exception": false,
     "start_time": "2020-08-13T07:09:12.199960",
     "status": "completed"
    },
    "tags": []
   },
   "outputs": [
    {
     "name": "stdout",
     "output_type": "stream",
     "text": [
      "Requirement already satisfied: gcsfs in /usr/local/lib/python3.6/dist-packages (0.6.2)\n",
      "Requirement already satisfied: google-auth-oauthlib in /usr/local/lib/python3.6/dist-packages (from gcsfs) (0.4.1)\n",
      "Requirement already satisfied: decorator in /usr/local/lib/python3.6/dist-packages (from gcsfs) (4.4.2)\n",
      "Requirement already satisfied: fsspec>=0.6.0 in /usr/local/lib/python3.6/dist-packages (from gcsfs) (0.8.0)\n",
      "Requirement already satisfied: requests in /usr/local/lib/python3.6/dist-packages (from gcsfs) (2.23.0)\n",
      "Requirement already satisfied: google-auth>=1.2 in /usr/local/lib/python3.6/dist-packages (from gcsfs) (1.17.2)\n",
      "Requirement already satisfied: requests-oauthlib>=0.7.0 in /usr/local/lib/python3.6/dist-packages (from google-auth-oauthlib->gcsfs) (1.3.0)\n",
      "Requirement already satisfied: idna<3,>=2.5 in /usr/local/lib/python3.6/dist-packages (from requests->gcsfs) (2.10)\n",
      "Requirement already satisfied: urllib3!=1.25.0,!=1.25.1,<1.26,>=1.21.1 in /usr/local/lib/python3.6/dist-packages (from requests->gcsfs) (1.24.3)\n",
      "Requirement already satisfied: certifi>=2017.4.17 in /usr/local/lib/python3.6/dist-packages (from requests->gcsfs) (2020.6.20)\n",
      "Requirement already satisfied: chardet<4,>=3.0.2 in /usr/local/lib/python3.6/dist-packages (from requests->gcsfs) (3.0.4)\n",
      "Requirement already satisfied: pyasn1-modules>=0.2.1 in /usr/local/lib/python3.6/dist-packages (from google-auth>=1.2->gcsfs) (0.2.8)\n",
      "Requirement already satisfied: setuptools>=40.3.0 in /usr/local/lib/python3.6/dist-packages (from google-auth>=1.2->gcsfs) (49.2.0)\n",
      "Requirement already satisfied: cachetools<5.0,>=2.0.0 in /usr/local/lib/python3.6/dist-packages (from google-auth>=1.2->gcsfs) (4.1.1)\n",
      "Requirement already satisfied: rsa<5,>=3.1.4; python_version >= \"3\" in /usr/local/lib/python3.6/dist-packages (from google-auth>=1.2->gcsfs) (4.6)\n",
      "Requirement already satisfied: six>=1.9.0 in /usr/local/lib/python3.6/dist-packages (from google-auth>=1.2->gcsfs) (1.15.0)\n",
      "Requirement already satisfied: oauthlib>=3.0.0 in /usr/local/lib/python3.6/dist-packages (from requests-oauthlib>=0.7.0->google-auth-oauthlib->gcsfs) (3.1.0)\n",
      "Requirement already satisfied: pyasn1<0.5.0,>=0.4.6 in /usr/local/lib/python3.6/dist-packages (from pyasn1-modules>=0.2.1->google-auth>=1.2->gcsfs) (0.4.8)\n"
     ]
    }
   ],
   "source": [
    "# sub = pd.read_csv(dataset_gcs + '/sample_submission.csv')\n",
    "# sub.head(1)\n",
    "! pip install gcsfs"
   ]
  },
  {
   "cell_type": "code",
   "execution_count": 7,
   "metadata": {
    "colab": {
     "base_uri": "https://localhost:8080/",
     "height": 162
    },
    "colab_type": "code",
    "execution": {
     "iopub.execute_input": "2020-08-13T07:09:12.303010Z",
     "iopub.status.busy": "2020-08-13T07:09:12.301903Z",
     "iopub.status.idle": "2020-08-13T07:09:21.813187Z",
     "shell.execute_reply": "2020-08-13T07:09:21.812415Z"
    },
    "id": "gEAY0rXB53y_",
    "outputId": "7aeb700d-95cf-416a-f548-258ecc600f89",
    "papermill": {
     "duration": 9.545615,
     "end_time": "2020-08-13T07:09:21.813315",
     "exception": false,
     "start_time": "2020-08-13T07:09:12.267700",
     "status": "completed"
    },
    "tags": []
   },
   "outputs": [
    {
     "data": {
      "text/html": [
       "<div>\n",
       "<style scoped>\n",
       "    .dataframe tbody tr th:only-of-type {\n",
       "        vertical-align: middle;\n",
       "    }\n",
       "\n",
       "    .dataframe tbody tr th {\n",
       "        vertical-align: top;\n",
       "    }\n",
       "\n",
       "    .dataframe thead th {\n",
       "        text-align: right;\n",
       "    }\n",
       "</style>\n",
       "<table border=\"1\" class=\"dataframe\">\n",
       "  <thead>\n",
       "    <tr style=\"text-align: right;\">\n",
       "      <th></th>\n",
       "      <th>image_name</th>\n",
       "      <th>patient_id</th>\n",
       "      <th>sex</th>\n",
       "      <th>age_approx</th>\n",
       "      <th>anatom_site_general_challenge</th>\n",
       "      <th>diagnosis</th>\n",
       "      <th>benign_malignant</th>\n",
       "    </tr>\n",
       "    <tr>\n",
       "      <th>target</th>\n",
       "      <th></th>\n",
       "      <th></th>\n",
       "      <th></th>\n",
       "      <th></th>\n",
       "      <th></th>\n",
       "      <th></th>\n",
       "      <th></th>\n",
       "    </tr>\n",
       "  </thead>\n",
       "  <tbody>\n",
       "    <tr>\n",
       "      <th>0</th>\n",
       "      <td>32542</td>\n",
       "      <td>32542</td>\n",
       "      <td>32477</td>\n",
       "      <td>32474</td>\n",
       "      <td>32024</td>\n",
       "      <td>32542</td>\n",
       "      <td>32542</td>\n",
       "    </tr>\n",
       "    <tr>\n",
       "      <th>1</th>\n",
       "      <td>584</td>\n",
       "      <td>584</td>\n",
       "      <td>584</td>\n",
       "      <td>584</td>\n",
       "      <td>575</td>\n",
       "      <td>584</td>\n",
       "      <td>584</td>\n",
       "    </tr>\n",
       "  </tbody>\n",
       "</table>\n",
       "</div>"
      ],
      "text/plain": [
       "        image_name  patient_id  ...  diagnosis  benign_malignant\n",
       "target                          ...                             \n",
       "0            32542       32542  ...      32542             32542\n",
       "1              584         584  ...        584               584\n",
       "\n",
       "[2 rows x 7 columns]"
      ]
     },
     "execution_count": 7,
     "metadata": {
      "tags": []
     },
     "output_type": "execute_result"
    }
   ],
   "source": [
    "train_df = pd.read_csv(dataset_gcs + '/train.csv')\n",
    "train_df.groupby('target').count() "
   ]
  },
  {
   "cell_type": "code",
   "execution_count": 8,
   "metadata": {
    "colab": {},
    "colab_type": "code",
    "execution": {
     "iopub.execute_input": "2020-08-13T07:09:21.882711Z",
     "iopub.status.busy": "2020-08-13T07:09:21.881800Z",
     "iopub.status.idle": "2020-08-13T07:09:21.885038Z",
     "shell.execute_reply": "2020-08-13T07:09:21.884373Z"
    },
    "id": "DZCURaNW53zB",
    "papermill": {
     "duration": 0.042125,
     "end_time": "2020-08-13T07:09:21.885167",
     "exception": false,
     "start_time": "2020-08-13T07:09:21.843042",
     "status": "completed"
    },
    "tags": []
   },
   "outputs": [],
   "source": [
    "def decode_image_label(tfrec):\n",
    "    '''\n",
    "    function to decode an image and target label from tfrecord\n",
    "    \n",
    "    args:\n",
    "        tfrec: tfrecord, single record of training/validation data\n",
    "    \n",
    "    returns:\n",
    "        decoded_image: tensor, converted image from tfrecord\n",
    "        label: tensor, integer, either 1 or 0\n",
    "    \n",
    "    '''\n",
    "    \n",
    "    features_dictionary = {\n",
    "        'image': tf.io.FixedLenFeature([], tf.string),\n",
    "        \"target\": tf.io.FixedLenFeature([], tf.int64)\n",
    "        }\n",
    "    features = tf.io.parse_single_example(tfrec, features_dictionary)\n",
    "    decoded_image = tf.io.decode_jpeg(features['image'], 3)\n",
    "    decoded_image = tf.image.resize(decoded_image, params['img_size'])\n",
    "    label = features['target']\n",
    "    \n",
    "    return decoded_image, label\n",
    "    \n"
   ]
  },
  {
   "cell_type": "code",
   "execution_count": 9,
   "metadata": {
    "colab": {},
    "colab_type": "code",
    "execution": {
     "iopub.execute_input": "2020-08-13T07:09:21.954434Z",
     "iopub.status.busy": "2020-08-13T07:09:21.953298Z",
     "iopub.status.idle": "2020-08-13T07:09:21.956690Z",
     "shell.execute_reply": "2020-08-13T07:09:21.956085Z"
    },
    "id": "cPiicMiY53zD",
    "papermill": {
     "duration": 0.042049,
     "end_time": "2020-08-13T07:09:21.956822",
     "exception": false,
     "start_time": "2020-08-13T07:09:21.914773",
     "status": "completed"
    },
    "tags": []
   },
   "outputs": [],
   "source": [
    "def decode_image(tfrec):\n",
    "    '''\n",
    "    function to decode an image from tfrecord\n",
    "    \n",
    "    args:\n",
    "        tfrec: tfrecord, single record of training/validation data\n",
    "    \n",
    "    returns:\n",
    "        decoded_image: tensor, converted image from tfrecord\n",
    "        img_name: tensor, string, Id of the decoded image\n",
    "    \n",
    "    '''\n",
    "    \n",
    "    features_dictionary = {\n",
    "        'image': tf.io.FixedLenFeature([], tf.string),\n",
    "        \"image_name\": tf.io.FixedLenFeature([], tf.string)\n",
    "        }\n",
    "    features = tf.io.parse_single_example(tfrec, features_dictionary)\n",
    "    decoded_image = tf.io.decode_jpeg(features['image'], 3)\n",
    "    decoded_image = tf.image.resize(decoded_image, params['img_size'])\n",
    "    img_name = features['image_name']\n",
    "    \n",
    "    return decoded_image, img_name"
   ]
  },
  {
   "cell_type": "code",
   "execution_count": 10,
   "metadata": {
    "colab": {},
    "colab_type": "code",
    "execution": {
     "iopub.execute_input": "2020-08-13T07:09:22.026767Z",
     "iopub.status.busy": "2020-08-13T07:09:22.025929Z",
     "iopub.status.idle": "2020-08-13T07:09:22.029395Z",
     "shell.execute_reply": "2020-08-13T07:09:22.028679Z"
    },
    "id": "iLKUlO9G53zE",
    "papermill": {
     "duration": 0.043097,
     "end_time": "2020-08-13T07:09:22.029533",
     "exception": false,
     "start_time": "2020-08-13T07:09:21.986436",
     "status": "completed"
    },
    "tags": []
   },
   "outputs": [],
   "source": [
    "def normalize_image_label(decoded_image, label):\n",
    "    '''\n",
    "    function to convert an image tensor values from 0 to 255 \n",
    "    -> -1 to 1\n",
    "    to be used when dealing with tfrecords containing labels\n",
    "    \n",
    "    args:\n",
    "        decoded_image: tensor that is an image with values from 0 to 255\n",
    "        label: tensor, target label\n",
    "    \n",
    "    returns: \n",
    "        image_tensor: tensor that is an image with values from -1 to 1\n",
    "        label, same as input\n",
    "    \n",
    "    '''\n",
    "    \n",
    "    #add dim at the zero axis Shape will be from (x, y, z) -> (None, x, y, z)\n",
    "    image_tensor = tf.expand_dims(decoded_image, 0)\n",
    "    #undo the above line -- this is needed due to TF not allowing a filtered tensor py_function\n",
    "    image_tensor = tf.gather(image_tensor, 0)\n",
    "\n",
    "    #convert tensor values to between -1 and 1 (0 to 255 -> -1 to 1)\n",
    "    image_tensor = (tf.cast(image_tensor, tf.float32) - 127.5) / 127.5\n",
    "\n",
    "    return image_tensor, label"
   ]
  },
  {
   "cell_type": "code",
   "execution_count": 11,
   "metadata": {
    "colab": {},
    "colab_type": "code",
    "execution": {
     "iopub.execute_input": "2020-08-13T07:09:22.096298Z",
     "iopub.status.busy": "2020-08-13T07:09:22.095549Z",
     "iopub.status.idle": "2020-08-13T07:09:22.099194Z",
     "shell.execute_reply": "2020-08-13T07:09:22.098504Z"
    },
    "id": "XuxEGs6053zG",
    "papermill": {
     "duration": 0.040057,
     "end_time": "2020-08-13T07:09:22.099318",
     "exception": false,
     "start_time": "2020-08-13T07:09:22.059261",
     "status": "completed"
    },
    "tags": []
   },
   "outputs": [],
   "source": [
    "def normalize_image(decoded_image):\n",
    "    '''\n",
    "    function to convert an image tensor values from 0 to 255 \n",
    "    -> -1 to 1\n",
    "    \n",
    "    args:\n",
    "        decoded_image: tensor that is an image with values from 0 to 255\n",
    "    \n",
    "    returns: \n",
    "        image_tensor: tensor that is an image with values from -1 to 1\n",
    "    \n",
    "    '''\n",
    "    \n",
    "    #add dim at the zero axis Shape will be from (x, y, z) -> (None, x, y, z)\n",
    "    image_tensor = tf.expand_dims(decoded_image, 0)\n",
    "    #undo the above line -- this is needed due to TF not allowing a filtered tensor py_function\n",
    "    image_tensor = tf.gather(image_tensor, 0)\n",
    "\n",
    "    #convert tensor values to between -1 and 1 (0 to 255 -> -1 to 1)\n",
    "    image_tensor = (tf.cast(image_tensor, tf.float32) - 127.5) / 127.5\n",
    "\n",
    "    return image_tensor"
   ]
  },
  {
   "cell_type": "code",
   "execution_count": 12,
   "metadata": {
    "colab": {},
    "colab_type": "code",
    "execution": {
     "iopub.execute_input": "2020-08-13T07:09:22.166475Z",
     "iopub.status.busy": "2020-08-13T07:09:22.165710Z",
     "iopub.status.idle": "2020-08-13T07:09:22.169772Z",
     "shell.execute_reply": "2020-08-13T07:09:22.168960Z"
    },
    "id": "Dx1sBMmB53zH",
    "papermill": {
     "duration": 0.039596,
     "end_time": "2020-08-13T07:09:22.169906",
     "exception": false,
     "start_time": "2020-08-13T07:09:22.130310",
     "status": "completed"
    },
    "tags": []
   },
   "outputs": [],
   "source": [
    "def random_flip(image, label):\n",
    "    '''\n",
    "    function to randomly flip images on the x and/or y axis\n",
    "    \n",
    "    args:\n",
    "        image: tensor, an image\n",
    "        label: tensor, target label\n",
    "    \n",
    "    returns: \n",
    "        image: tensor, same as input, but possibly flipped on x and/or y axis\n",
    "        label, tensor, same as input\n",
    "    '''\n",
    "    image = tf.image.random_flip_left_right(image)\n",
    "    image = tf.image.random_flip_up_down(image)\n",
    "    return image, label"
   ]
  },
  {
   "cell_type": "code",
   "execution_count": 13,
   "metadata": {
    "colab": {},
    "colab_type": "code",
    "execution": {
     "iopub.execute_input": "2020-08-13T07:09:22.240730Z",
     "iopub.status.busy": "2020-08-13T07:09:22.239618Z",
     "iopub.status.idle": "2020-08-13T07:09:22.242389Z",
     "shell.execute_reply": "2020-08-13T07:09:22.242945Z"
    },
    "id": "kKfv5YwF53zJ",
    "papermill": {
     "duration": 0.043265,
     "end_time": "2020-08-13T07:09:22.243106",
     "exception": false,
     "start_time": "2020-08-13T07:09:22.199841",
     "status": "completed"
    },
    "tags": []
   },
   "outputs": [],
   "source": [
    "def get_train_ds(tfrecords, batch_size):\n",
    "    '''\n",
    "    function to create a ds pipeline from tfrecord files\n",
    "    \n",
    "    args:\n",
    "        tfrecords: list, tfrecord file paths\n",
    "        batch_size: int, batch size for number of records to pass into\n",
    "            model at a time\n",
    "    returns:\n",
    "        ds: tensorflow input pipeline with images and labels\n",
    "    '''\n",
    "    ds = (tf.data.TFRecordDataset(filenames=[tfrecords],\n",
    "                                 num_parallel_reads=tf.data.experimental.AUTOTUNE).\n",
    "#           cache(). #need to remove cache while not usnig TPUs\n",
    "          map(decode_image_label, num_parallel_calls=tf.data.experimental.AUTOTUNE).\n",
    "          map(normalize_image_label, num_parallel_calls=tf.data.experimental.AUTOTUNE).\n",
    "          map(random_flip, num_parallel_calls=tf.data.experimental.AUTOTUNE).\n",
    "          repeat().\n",
    "          shuffle(512).\n",
    "          batch(batch_size,\n",
    "               drop_remainder=True).\n",
    "          prefetch(tf.data.experimental.AUTOTUNE)\n",
    "         )\n",
    "    \n",
    "\n",
    "    \n",
    "    return ds\n",
    "    "
   ]
  },
  {
   "cell_type": "code",
   "execution_count": 14,
   "metadata": {
    "colab": {},
    "colab_type": "code",
    "execution": {
     "iopub.execute_input": "2020-08-13T07:09:22.311597Z",
     "iopub.status.busy": "2020-08-13T07:09:22.310783Z",
     "iopub.status.idle": "2020-08-13T07:09:22.313940Z",
     "shell.execute_reply": "2020-08-13T07:09:22.314495Z"
    },
    "id": "mtSoYduj53zM",
    "papermill": {
     "duration": 0.041901,
     "end_time": "2020-08-13T07:09:22.314685",
     "exception": false,
     "start_time": "2020-08-13T07:09:22.272784",
     "status": "completed"
    },
    "tags": []
   },
   "outputs": [],
   "source": [
    "def get_test_ds(tfrecords, batch_size):\n",
    "    '''\n",
    "    function to create a dataset for test data\n",
    "    args:\n",
    "        tfrecords: list, tfrecord file paths\n",
    "        batch_size: int, batch size for number of records to pass into\n",
    "            model at a time\n",
    "    returns:\n",
    "        ds: tensorflow input pipeline with images and labels\n",
    "    \n",
    "    '''\n",
    "\n",
    "    ds = (tf.data.TFRecordDataset(filenames=[tfrecords],\n",
    "                                 num_parallel_reads=tf.data.experimental.AUTOTUNE).\n",
    "          cache(). #there is no reason to cache this ds -- it is only being read 1x\n",
    "          map(decode_image, num_parallel_calls=tf.data.experimental.AUTOTUNE).\n",
    "          map(normalize_image_label, num_parallel_calls=tf.data.experimental.AUTOTUNE).\n",
    "#           map(random_flip).\n",
    "          batch(batch_size).\n",
    "#                 drop_remainder=True).\n",
    "          prefetch(tf.data.experimental.AUTOTUNE)\n",
    "         )\n",
    "    \n",
    "    return ds\n",
    "    ###come back to this"
   ]
  },
  {
   "cell_type": "markdown",
   "metadata": {
    "colab_type": "text",
    "id": "GvgN3Phu53zN",
    "papermill": {
     "duration": 0.029635,
     "end_time": "2020-08-13T07:09:22.380097",
     "exception": false,
     "start_time": "2020-08-13T07:09:22.350462",
     "status": "completed"
    },
    "tags": []
   },
   "source": [
    "# model architecture"
   ]
  },
  {
   "cell_type": "code",
   "execution_count": 15,
   "metadata": {
    "colab": {},
    "colab_type": "code",
    "execution": {
     "iopub.execute_input": "2020-08-13T07:09:22.471838Z",
     "iopub.status.busy": "2020-08-13T07:09:22.471037Z",
     "iopub.status.idle": "2020-08-13T07:09:22.475082Z",
     "shell.execute_reply": "2020-08-13T07:09:22.474348Z"
    },
    "id": "68y-BD6E53zN",
    "papermill": {
     "duration": 0.064158,
     "end_time": "2020-08-13T07:09:22.475211",
     "exception": false,
     "start_time": "2020-08-13T07:09:22.411053",
     "status": "completed"
    },
    "tags": []
   },
   "outputs": [],
   "source": [
    "def set_of_layers(input_layer, \n",
    "                  filters_, \n",
    "                  kernal, \n",
    "                  strides_, \n",
    "                  dense=None, \n",
    "                  dense_activation=None,\n",
    "                  dropout=None,\n",
    "                  cnn_activation=None):\n",
    "    '''\n",
    "    function to add the following layers to a model:\n",
    "    Conv2D, MaxPooling2D, BatchNormalization, LeadyReLU, Dense,\n",
    "        Dropout\n",
    "\n",
    "    args:\n",
    "      input_layer : input layer to be fed into above layers\n",
    "      filters_: int, number of filters in Conv2D layer\n",
    "      kernal: int, kernal size in Conv2D layer\n",
    "      strides_: int, stride size in MaxPooling2D layer\n",
    "      dense: int, number of units in dense layer, default is None\n",
    "          Will only add layer if value is passed\n",
    "      dense_activation: str, activation function to pass into Dense layer\n",
    "          default is None\n",
    "      dropout: float, dropout percentage in Dropout layer, default is None\n",
    "        must be less than 1.0. Will only add layer if value is passed \n",
    "      cnn_activation: tensorflow activation layer, default is None\n",
    "          will only add layer is value is passed. Activation layer will be\n",
    "          added after the BatchNormalization layer\n",
    "\n",
    "    returns:\n",
    "      x: model that is the same as the input_layer input plus above \n",
    "        layers added\n",
    "        \n",
    "        \n",
    "    '''\n",
    "    x_dict = {}\n",
    "    for xx in range(len(kernal)):\n",
    "        x_dict[xx] = layers.Conv2D(filters_, (kernal[xx], kernal[xx]),\n",
    "                                   padding='same', activation=cnn_activation)(input_layer)\n",
    "        for _ in range(1): #may be able to try range(2) with the filters halved\n",
    "            x_dict[xx] = layers.Conv2D(filters_, (kernal[xx], kernal[xx]),\n",
    "                                       padding='same', activation=cnn_activation)(x_dict[xx])\n",
    "    x_list = [x_dict[xx] for xx in x_dict]\n",
    "    if len(x_list) > 1:\n",
    "        x = layers.Concatenate()(x_list)\n",
    "    else:\n",
    "        x = x_list[0]\n",
    "    x = layers.MaxPooling2D(strides_, strides_)(x)\n",
    "    x = layers.BatchNormalization()(x)\n",
    "    \n",
    "\n",
    "    \n",
    "    if cnn_activation:\n",
    "        x = cnn_activation(x)\n",
    "    x = layers.ReLU()(x)\n",
    "    if dense:\n",
    "        x = layers.Dense(dense, activation=dense_activation)(x)\n",
    "    if dropout:\n",
    "        x = layers.Dropout(dropout)(x)\n",
    "\n",
    "\n",
    "    return x"
   ]
  },
  {
   "cell_type": "code",
   "execution_count": 16,
   "metadata": {
    "colab": {},
    "colab_type": "code",
    "execution": {
     "iopub.execute_input": "2020-08-13T07:09:22.549160Z",
     "iopub.status.busy": "2020-08-13T07:09:22.548005Z",
     "iopub.status.idle": "2020-08-13T07:09:22.551768Z",
     "shell.execute_reply": "2020-08-13T07:09:22.550795Z"
    },
    "id": "onnohjNJ53zQ",
    "papermill": {
     "duration": 0.047089,
     "end_time": "2020-08-13T07:09:22.551946",
     "exception": false,
     "start_time": "2020-08-13T07:09:22.504857",
     "status": "completed"
    },
    "tags": []
   },
   "outputs": [],
   "source": [
    "def deconv_set_of_layers(input_layer, \n",
    "                         filters_, \n",
    "                         kernal_, \n",
    "                         stride, \n",
    "                         dense=None, \n",
    "                         dense_activation=None, \n",
    "                         dropout=None,\n",
    "                         cnn_activation=None):\n",
    "    '''\n",
    "    function to add the following layers to a model:\n",
    "    Conv2DTranspose, BatchNormalization, LeadyReLU, Dense\n",
    "\n",
    "    args:\n",
    "      input_layer : input layer to be fed into above layers\n",
    "      filters_: int, number of filters in Conv2DTranspose layer\n",
    "      kernal_: int, kernal size in Conv2DTranspose layer\n",
    "      strides_: int, stride size in Conv2DTranspose layer\n",
    "      dense: int, number of units in dense layer, default is None\n",
    "          Will only add layer if value is passed\n",
    "      dense_activation: str, activation function to pass into Dense layer\n",
    "          default is None\n",
    "      dropout: float, dropout percentage in Dropout layer, default is None\n",
    "        must be less than 1.0. Will only add layer if value is passed \n",
    "      cnn_activation: tensorflow activation layer, default is None\n",
    "          will only add layer is value is passed. Activation layer will be\n",
    "          added after the BatchNormalization layer\n",
    "\n",
    "\n",
    "    returns:\n",
    "      x: model that is the same as the input_layer input plus above \n",
    "        layers added\n",
    "    '''\n",
    "\n",
    "        \n",
    "    x_dict = {}\n",
    "    for xx in range(len(kernal_)):\n",
    "        x_dict[xx] = layers.Conv2DTranspose(filters_,\n",
    "                                           kernal_[xx],\n",
    "                                           (stride, stride),\n",
    "                                           padding='same')(input_layer)\n",
    "        x_dict[xx] = layers.BatchNormalization()(x_dict[xx])\n",
    "    x_list = [x_dict[xx] for xx in x_dict]\n",
    "    if len(x_list) > 1:\n",
    "        x = layers.Concatenate()(x_list)\n",
    "    else:\n",
    "        x = x_list[0]\n",
    "    \n",
    "    if cnn_activation:\n",
    "        x = cnn_activation(x)\n",
    "   \n",
    "    if dense:\n",
    "        x = layers.Dense(dense, activation=dense_activation)(x)\n",
    "    \n",
    "    if dropout:\n",
    "        x = layers.Dropout(dropout)(x)\n",
    "    \n",
    "\n",
    "    return x\n"
   ]
  },
  {
   "cell_type": "code",
   "execution_count": 17,
   "metadata": {
    "colab": {},
    "colab_type": "code",
    "execution": {
     "iopub.execute_input": "2020-08-13T07:09:22.636245Z",
     "iopub.status.busy": "2020-08-13T07:09:22.627918Z",
     "iopub.status.idle": "2020-08-13T07:09:22.639861Z",
     "shell.execute_reply": "2020-08-13T07:09:22.639094Z"
    },
    "id": "UEAcaDhi53zR",
    "papermill": {
     "duration": 0.052814,
     "end_time": "2020-08-13T07:09:22.640001",
     "exception": false,
     "start_time": "2020-08-13T07:09:22.587187",
     "status": "completed"
    },
    "tags": []
   },
   "outputs": [],
   "source": [
    "def create_model(input_shape=[*params['img_size'], 3], bias_output=None):\n",
    "    '''\n",
    "    function to create a model that will be used to train DS via xfer learning\n",
    "    \n",
    "    args:\n",
    "        input_shape: array, default: [1024, 1024, 3], shape\n",
    "            of input tensor that will be fed into model\n",
    "    \n",
    "    returns:\n",
    "        model: keras.Model() model\n",
    "    \n",
    "    '''\n",
    "    \n",
    "    input_tensor = layers.Input(shape=input_shape, name='images_input')\n",
    "    \n",
    "#     #input s/b 224, 224, 3 // try to normalize 0 -> 1\n",
    "#     densenet = tf.keras.applications.DenseNet121(include_top=False, \n",
    "#                                                  input_shape=input_shape, \n",
    "#                                                  classes=1)(input_tensor)\n",
    "#     end_of_densenet = layers.GlobalAveragePooling2D()(densenet)\n",
    "#     dense_layers = layers.Dense(512)(end_of_densenet)\n",
    "#     ###end of densenet### auc - 0.8844 (-1 -> 1)\n",
    "    \n",
    "#     #s/b 224, 224, 3 // try to normalize 0 -> 1\n",
    "#     efficientnet = tf.keras.applications.EfficientNetB0(include_top=False,\n",
    "#                                                        input_shape=input_shape,\n",
    "#                                                        classes=1)(input_tensor)\n",
    "#     end_of_efficientnet = layers.GlobalAveragePooling2D()(efficientnet)\n",
    "#     dense_layers = layers.Dense(8)(end_of_efficientnet)\n",
    "#     ###end of efficientnet### auc - 0.8602 (-1 -> 1)\n",
    "    \n",
    "#     #s/b 299, 299, 3 // needs to be -1 -> 1\n",
    "#     inception = tf.keras.applications.InceptionV3(include_top=False,\n",
    "#                                                  input_shape=input_shape,\n",
    "#                                                  classes=1)(input_tensor)\n",
    "#     end_of_inception = layers.GlobalAveragePooling2D()(inception)\n",
    "#     dense_layers = layers.Dense(8)(end_of_inception)\n",
    "#     ##end of inception (2016)###\n",
    "    \n",
    "    #s/b 299, 299, 3 // needs to be -1 -> 1\n",
    "    inception_v2 = tf.keras.applications.InceptionResNetV2(include_top=False,\n",
    "                                                          input_shape=input_shape,\n",
    "                                                          classes=1)(input_tensor)\n",
    "    end_of_inceptionv2 = layers.GlobalAveragePooling2D()(inception_v2)\n",
    "    dense_layers = layers.Dense(8)(end_of_inceptionv2)\n",
    "    ###end of inception (2017)###\n",
    "    \n",
    "\n",
    "\n",
    "\n",
    "    \n",
    "    if bias_output is not None:\n",
    "        bias_output = tf.keras.initializers.Constant(bias_output)\n",
    "    output = layers.Dense(1, activation='sigmoid', bias_initializer=bias_output)(dense_layers)\n",
    "    model = keras.Model(inputs=input_tensor, outputs=output)\n",
    "    \n",
    "    \n",
    "    metrics = [\n",
    "          keras.metrics.TruePositives(name='tp'),\n",
    "          keras.metrics.FalseNegatives(name='fn'), \n",
    "          keras.metrics.BinaryAccuracy(name='accuracy'),\n",
    "          keras.metrics.AUC(name='auc'),\n",
    "    ]\n",
    "    schedule = None\n",
    "    \n",
    "    model.compile(\n",
    "        optimizer=tf.keras.optimizers.Adam(),\n",
    "        loss = tf.keras.losses.BinaryCrossentropy(label_smoothing = 0.01),\n",
    "        metrics=metrics)\n",
    "    \n",
    "    \n",
    "    return model"
   ]
  },
  {
   "cell_type": "code",
   "execution_count": 18,
   "metadata": {
    "colab": {},
    "colab_type": "code",
    "execution": {
     "iopub.execute_input": "2020-08-13T07:09:22.730929Z",
     "iopub.status.busy": "2020-08-13T07:09:22.727873Z",
     "iopub.status.idle": "2020-08-13T07:09:22.734731Z",
     "shell.execute_reply": "2020-08-13T07:09:22.733722Z"
    },
    "id": "3hTxIW2T53zT",
    "papermill": {
     "duration": 0.06466,
     "end_time": "2020-08-13T07:09:22.734873",
     "exception": false,
     "start_time": "2020-08-13T07:09:22.670213",
     "status": "completed"
    },
    "tags": []
   },
   "outputs": [],
   "source": [
    "def create_model_obsol(input_shape=[*params['img_size'], 3], bias_output=None):\n",
    "    '''\n",
    "    function to create a model that will be trained on train DS\n",
    "    \n",
    "    args:\n",
    "        input_shape: array, default: [1024, 1024, 3], shape\n",
    "            of input tensor that will be fed into model\n",
    "    \n",
    "    returns:\n",
    "        model: keras.Model() model\n",
    "    '''\n",
    "\n",
    "    relu = layers.ReLU()\n",
    "    leakyrelu = layers.LeakyReLU()\n",
    "    input_tensor = layers.Input(shape=input_shape, name='images_input')\n",
    "    x = input_tensor\n",
    "#     filters_list = [64, 128, 256, 512, 1024]\n",
    "    filters_list = [32, 64, 128, 256, 512]\n",
    "    \n",
    "    for filter_ in filters_list:\n",
    "        x = set_of_layers(x, filter_, [3, 5], 2, 16,  dropout=0.35, dense_activation='tanh', \n",
    "                           cnn_activation=relu)\n",
    "        \n",
    "    \n",
    "    output_helper_1 = layers.Flatten(name='flatten_output_helper_1')(x)\n",
    "    output_helper_1 = layers.Dense(128)(output_helper_1)\n",
    "    \n",
    "    \n",
    "    \n",
    "#     filters_list = [1024, 512, 256]\n",
    "    filters_list = [512, 256, 128]\n",
    "    \n",
    "    for filter_ in filters_list:\n",
    "        x = deconv_set_of_layers(x, filter_, [2, 4], 2, 16,  dense_activation='tanh', cnn_activation=relu,\n",
    "                                 dropout=0.35)\n",
    "    \n",
    "    output_helper_2 = layers.Flatten(name='flatten_output_helper_2')(x)\n",
    "    output_helper_2 = layers.Dense(128)(output_helper_2)\n",
    "\n",
    "    \n",
    "#     filters_list = [256, 512, 1024]\n",
    "    filters_list = [128, 256, 512]\n",
    "    \n",
    "    for filter_ in filters_list:\n",
    "        x = set_of_layers(x, filter_, [3, 5], 2, 16,  dropout=0.35, dense_activation='tanh',\n",
    "                           cnn_activation=relu)\n",
    "\n",
    "\n",
    "\n",
    "    x = layers.Flatten(name='flatten_main_output')(x)\n",
    "    x = layers.Dense(128)(x)\n",
    "#     model.add(layers.Dense(64))\n",
    "    \n",
    "    if bias_output is not None:\n",
    "        bias_output = tf.keras.initializers.Constant(bias_output)\n",
    "    output_layer = layers.Dense(1, activation='sigmoid', bias_initializer=bias_output)(x)\n",
    "    \n",
    "    output_helper_1 = layers.Dense(1, activation='sigmoid',\n",
    "                                  bias_initializer=bias_output)(output_helper_1)\n",
    "    output_helper_2 = layers.Dense(1, activation='sigmoid',\n",
    "                                  bias_initializer=bias_output)(output_helper_2)\n",
    "    \n",
    "    model=keras.Model(inputs=[input_tensor],\n",
    "                     outputs=[output_layer, output_helper_1, output_helper_2])\n",
    "\n",
    " \n",
    "           \n",
    "    metrics = [\n",
    "          keras.metrics.TruePositives(name='tp'),\n",
    "          keras.metrics.FalseNegatives(name='fn'), \n",
    "          keras.metrics.BinaryAccuracy(name='accuracy'),\n",
    "          keras.metrics.AUC(name='auc'),\n",
    "    ]\n",
    "    schedule = None\n",
    "    \n",
    "    model.compile(\n",
    "        optimizer=tf.keras.optimizers.Adam(0.00033),\n",
    "        loss = [tf.keras.losses.BinaryCrossentropy(label_smoothing = 0.01),\n",
    "                tf.keras.losses.BinaryCrossentropy(label_smoothing = 0.01),\n",
    "                tf.keras.losses.BinaryCrossentropy(label_smoothing = 0.01)],\n",
    "        metrics=metrics,\n",
    "    loss_weights = [1.0, 0.15, 0.15])\n",
    "    \n",
    "\n",
    "    \n",
    "    return model\n",
    "\n"
   ]
  },
  {
   "cell_type": "code",
   "execution_count": 19,
   "metadata": {
    "colab": {},
    "colab_type": "code",
    "execution": {
     "iopub.execute_input": "2020-08-13T07:09:22.813998Z",
     "iopub.status.busy": "2020-08-13T07:09:22.812827Z",
     "iopub.status.idle": "2020-08-13T07:09:22.815429Z",
     "shell.execute_reply": "2020-08-13T07:09:22.816251Z"
    },
    "id": "L9IWSBkz53zU",
    "papermill": {
     "duration": 0.050337,
     "end_time": "2020-08-13T07:09:22.816495",
     "exception": false,
     "start_time": "2020-08-13T07:09:22.766158",
     "status": "completed"
    },
    "tags": []
   },
   "outputs": [],
   "source": [
    "def get_ds_size(files):\n",
    "    '''\n",
    "    function to get size of tfrecord Dataset, based on file name\n",
    "    \n",
    "    the file name has the number of records in the file, for example:\n",
    "    train09-2071.tfrec has 2017 records\n",
    "    \n",
    "    args:\n",
    "        files: list of str file names, each item should be the path to a tfrecord file\n",
    "    \n",
    "    returns:\n",
    "        size: int, size of dataset\n",
    "    '''\n",
    "    size = 0\n",
    "    for file in files:\n",
    "        file_size = int(file.split('.tfrec')[0].split('tfrecords/')[1].split('-')[1])\n",
    "        size += file_size\n",
    "    return size"
   ]
  },
  {
   "cell_type": "code",
   "execution_count": 20,
   "metadata": {
    "colab": {},
    "colab_type": "code",
    "execution": {
     "iopub.execute_input": "2020-08-13T07:09:22.891840Z",
     "iopub.status.busy": "2020-08-13T07:09:22.890896Z",
     "iopub.status.idle": "2020-08-13T07:09:23.540966Z",
     "shell.execute_reply": "2020-08-13T07:09:23.541532Z"
    },
    "id": "mzGIVH7p53zW",
    "papermill": {
     "duration": 0.688413,
     "end_time": "2020-08-13T07:09:23.541703",
     "exception": false,
     "start_time": "2020-08-13T07:09:22.853290",
     "status": "completed"
    },
    "tags": []
   },
   "outputs": [],
   "source": [
    "#get test file paths\n",
    "test_files = tf.io.gfile.glob(dataset_gcs + '/tfrecords/test*.tfrec')\n",
    "\n",
    "#get train and validation file paths\n",
    "train_files, valid_files = train_test_split(tf.io.gfile.glob(dataset_gcs + '/tfrecords/train*.tfrec'),\n",
    "                              test_size=.1, random_state=1)\n",
    "\n",
    "#create datasets\n",
    "train_ds = get_train_ds(train_files, params['batch_size'])\n",
    "valid_ds = get_train_ds(valid_files, params['batch_size'])\n",
    "test_ds = get_test_ds(test_files, params['batch_size'])"
   ]
  },
  {
   "cell_type": "code",
   "execution_count": 21,
   "metadata": {
    "colab": {
     "base_uri": "https://localhost:8080/",
     "height": 34
    },
    "colab_type": "code",
    "execution": {
     "iopub.execute_input": "2020-08-13T07:09:23.612713Z",
     "iopub.status.busy": "2020-08-13T07:09:23.611726Z",
     "iopub.status.idle": "2020-08-13T07:09:23.615682Z",
     "shell.execute_reply": "2020-08-13T07:09:23.616362Z"
    },
    "id": "kWzOwDjd53zX",
    "outputId": "db68dce4-d68b-4c3b-dfc6-7a4b0951c591",
    "papermill": {
     "duration": 0.040674,
     "end_time": "2020-08-13T07:09:23.616557",
     "exception": false,
     "start_time": "2020-08-13T07:09:23.575883",
     "status": "completed"
    },
    "tags": []
   },
   "outputs": [
    {
     "name": "stdout",
     "output_type": "stream",
     "text": [
      "the dataset consists of: 28984 training images, 4142 validation images, and 10982 test images\n"
     ]
    }
   ],
   "source": [
    "train_size, valid_size = get_ds_size(train_files), get_ds_size(valid_files)\n",
    "test_size = get_ds_size(test_files)\n",
    "print('the dataset consists of: {} training images, {} validation images, and {} test images'.\n",
    "     format(train_size, valid_size, test_size))"
   ]
  },
  {
   "cell_type": "code",
   "execution_count": 21,
   "metadata": {
    "colab": {},
    "colab_type": "code",
    "id": "3W3XMn8v53zZ",
    "papermill": {
     "duration": 0.029548,
     "end_time": "2020-08-13T07:09:23.676354",
     "exception": false,
     "start_time": "2020-08-13T07:09:23.646806",
     "status": "completed"
    },
    "tags": []
   },
   "outputs": [],
   "source": []
  },
  {
   "cell_type": "code",
   "execution_count": 22,
   "metadata": {
    "colab": {},
    "colab_type": "code",
    "execution": {
     "iopub.execute_input": "2020-08-13T07:09:23.741957Z",
     "iopub.status.busy": "2020-08-13T07:09:23.741065Z",
     "iopub.status.idle": "2020-08-13T07:09:23.744036Z",
     "shell.execute_reply": "2020-08-13T07:09:23.743313Z"
    },
    "id": "kqfFlY7d53za",
    "papermill": {
     "duration": 0.038138,
     "end_time": "2020-08-13T07:09:23.744160",
     "exception": false,
     "start_time": "2020-08-13T07:09:23.706022",
     "status": "completed"
    },
    "tags": []
   },
   "outputs": [],
   "source": [
    "epoch_steps = train_size / params['batch_size'] \n",
    "valid_steps = valid_size / params['batch_size']\n",
    "test_steps = 1.0 * test_size / params['batch_size'] "
   ]
  },
  {
   "cell_type": "code",
   "execution_count": 23,
   "metadata": {
    "colab": {},
    "colab_type": "code",
    "execution": {
     "iopub.execute_input": "2020-08-13T07:09:23.813494Z",
     "iopub.status.busy": "2020-08-13T07:09:23.812404Z",
     "iopub.status.idle": "2020-08-13T07:09:23.843672Z",
     "shell.execute_reply": "2020-08-13T07:09:23.842882Z"
    },
    "id": "DzCSNms553zb",
    "papermill": {
     "duration": 0.069923,
     "end_time": "2020-08-13T07:09:23.843801",
     "exception": false,
     "start_time": "2020-08-13T07:09:23.773878",
     "status": "completed"
    },
    "tags": []
   },
   "outputs": [],
   "source": [
    "#calculate class weights\n",
    "\n",
    "targets = train_df.groupby('target').count()['diagnosis'].to_list()\n",
    "target_0 = targets[0]\n",
    "target_1 = targets[1]\n",
    "total = target_0 + target_1\n",
    "\n",
    "class_weight_0 = (1 / target_0) * (total) / 2.0\n",
    "class_weight_1 = (1 / target_1) * (total) / 2.0\n",
    "\n",
    "class_weights = {0: class_weight_0, 1: class_weight_1}\n",
    "\n",
    "initial_bias = np.log([target_1 / target_0])\n",
    "\n"
   ]
  },
  {
   "cell_type": "code",
   "execution_count": 24,
   "metadata": {
    "colab": {},
    "colab_type": "code",
    "execution": {
     "iopub.execute_input": "2020-08-13T07:09:23.910747Z",
     "iopub.status.busy": "2020-08-13T07:09:23.909689Z",
     "iopub.status.idle": "2020-08-13T07:09:23.913024Z",
     "shell.execute_reply": "2020-08-13T07:09:23.912261Z"
    },
    "id": "sxIl5lvH53zd",
    "papermill": {
     "duration": 0.039548,
     "end_time": "2020-08-13T07:09:23.913147",
     "exception": false,
     "start_time": "2020-08-13T07:09:23.873599",
     "status": "completed"
    },
    "tags": []
   },
   "outputs": [],
   "source": [
    "def lr_schedule_fn(epoch, lr):\n",
    "    if epoch < 20:\n",
    "        return 0.000001\n",
    "    elif epoch == 20:\n",
    "        return 0.001\n",
    "    elif epoch %2 ==0 and epoch < 79:\n",
    "        return lr * 0.75\n",
    "    else:\n",
    "        return lr"
   ]
  },
  {
   "cell_type": "code",
   "execution_count": 25,
   "metadata": {
    "colab": {
     "base_uri": "https://localhost:8080/",
     "height": 323
    },
    "colab_type": "code",
    "execution": {
     "iopub.execute_input": "2020-08-13T07:09:23.979957Z",
     "iopub.status.busy": "2020-08-13T07:09:23.979150Z",
     "iopub.status.idle": "2020-08-13T07:10:36.507464Z",
     "shell.execute_reply": "2020-08-13T07:10:36.508294Z"
    },
    "id": "lJNysvP053ze",
    "outputId": "f695a45f-edf1-49d2-81cf-4774d5ce46d2",
    "papermill": {
     "duration": 72.565114,
     "end_time": "2020-08-13T07:10:36.508567",
     "exception": false,
     "start_time": "2020-08-13T07:09:23.943453",
     "status": "completed"
    },
    "tags": []
   },
   "outputs": [
    {
     "name": "stdout",
     "output_type": "stream",
     "text": [
      "Model: \"functional_1\"\n",
      "_________________________________________________________________\n",
      "Layer (type)                 Output Shape              Param #   \n",
      "=================================================================\n",
      "images_input (InputLayer)    [(None, 299, 299, 3)]     0         \n",
      "_________________________________________________________________\n",
      "inception_resnet_v2 (Functio (None, 8, 8, 1536)        54336736  \n",
      "_________________________________________________________________\n",
      "global_average_pooling2d (Gl (None, 1536)              0         \n",
      "_________________________________________________________________\n",
      "dense (Dense)                (None, 8)                 12296     \n",
      "_________________________________________________________________\n",
      "dense_1 (Dense)              (None, 1)                 9         \n",
      "=================================================================\n",
      "Total params: 54,349,041\n",
      "Trainable params: 54,288,497\n",
      "Non-trainable params: 60,544\n",
      "_________________________________________________________________\n"
     ]
    }
   ],
   "source": [
    "with strategy.scope():\n",
    "    model = create_model(bias_output=initial_bias)\n",
    "    model.summary()"
   ]
  },
  {
   "cell_type": "markdown",
   "metadata": {
    "colab_type": "text",
    "id": "Ia_Iq85e53zg",
    "papermill": {
     "duration": 0.031052,
     "end_time": "2020-08-13T07:10:36.571860",
     "exception": false,
     "start_time": "2020-08-13T07:10:36.540808",
     "status": "completed"
    },
    "tags": []
   },
   "source": [
    "# Training"
   ]
  },
  {
   "cell_type": "code",
   "execution_count": 26,
   "metadata": {
    "colab": {
     "base_uri": "https://localhost:8080/",
     "height": 1000
    },
    "colab_type": "code",
    "execution": {
     "iopub.execute_input": "2020-08-13T07:10:36.650625Z",
     "iopub.status.busy": "2020-08-13T07:10:36.649562Z",
     "iopub.status.idle": "2020-08-13T07:30:13.685273Z",
     "shell.execute_reply": "2020-08-13T07:30:13.686184Z"
    },
    "id": "hap2ShPe53zg",
    "outputId": "afd7ea46-1286-45ad-a104-16d8bec66479",
    "papermill": {
     "duration": 1177.083089,
     "end_time": "2020-08-13T07:30:13.686433",
     "exception": false,
     "start_time": "2020-08-13T07:10:36.603344",
     "status": "completed"
    },
    "tags": []
   },
   "outputs": [
    {
     "name": "stdout",
     "output_type": "stream",
     "text": [
      "Epoch 1/180\n",
      " 2/56 [>.............................] - ETA: 27s - loss: 1.5930 - tp: 0.0000e+00 - fn: 16.0000 - accuracy: 0.9844 - auc: 0.4238WARNING:tensorflow:Callbacks method `on_train_batch_end` is slow compared to the batch time (batch time: 0.0242s vs `on_train_batch_end` time: 0.9857s). Check your callbacks.\n"
     ]
    },
    {
     "name": "stderr",
     "output_type": "stream",
     "text": [
      "WARNING:tensorflow:Callbacks method `on_train_batch_end` is slow compared to the batch time (batch time: 0.0242s vs `on_train_batch_end` time: 0.9857s). Check your callbacks.\n"
     ]
    },
    {
     "name": "stdout",
     "output_type": "stream",
     "text": [
      "57/56 [==============================] - ETA: 0s - loss: 1.7056 - tp: 0.0000e+00 - fn: 521.0000 - accuracy: 0.9821 - auc: 0.5508WARNING:tensorflow:Callbacks method `on_test_batch_end` is slow compared to the batch time (batch time: 0.0103s vs `on_test_batch_end` time: 0.2571s). Check your callbacks.\n"
     ]
    },
    {
     "name": "stderr",
     "output_type": "stream",
     "text": [
      "WARNING:tensorflow:Callbacks method `on_test_batch_end` is slow compared to the batch time (batch time: 0.0103s vs `on_test_batch_end` time: 0.2571s). Check your callbacks.\n"
     ]
    },
    {
     "name": "stdout",
     "output_type": "stream",
     "text": [
      "\b\b\b\b\b\b\b\b\b\b\b\b\b\b\b\b\b\b\b\b\b\b\b\b\b\b\b\b\b\b\b\b\b\b\b\b\b\b\b\b\b\b\b\b\b\b\b\b\b\b\b\b\b\b\b\b\b\b\b\b\b\b\b\b\b\b\b\b\b\b\b\b\b\b\b\b\b\b\b\b\b\b\b\b\b\b\b\b\b\b\b\b\b\b\b\b\b\b\b\b\b\b\b\b\b\b\b\b\b\b\b\b\b\b\b\b\b\b\b\b\b\b\b\b\b\b\b\b\r",
      "57/56 [==============================] - 91s 2s/step - loss: 1.7056 - tp: 0.0000e+00 - fn: 521.0000 - accuracy: 0.9821 - auc: 0.5508 - val_loss: 0.1176 - val_tp: 0.0000e+00 - val_fn: 76.0000 - val_accuracy: 0.9835 - val_auc: 0.4535\n",
      "Epoch 2/180\n",
      "57/56 [==============================] - 73s 1s/step - loss: 1.5896 - tp: 0.0000e+00 - fn: 516.0000 - accuracy: 0.9823 - auc: 0.6094 - val_loss: 0.1146 - val_tp: 0.0000e+00 - val_fn: 79.0000 - val_accuracy: 0.9829 - val_auc: 0.5359\n",
      "Epoch 3/180\n",
      "57/56 [==============================] - 72s 1s/step - loss: 1.4743 - tp: 0.0000e+00 - fn: 516.0000 - accuracy: 0.9823 - auc: 0.6853 - val_loss: 0.1122 - val_tp: 0.0000e+00 - val_fn: 78.0000 - val_accuracy: 0.9831 - val_auc: 0.6389\n",
      "Epoch 4/180\n",
      "57/56 [==============================] - 72s 1s/step - loss: 1.3670 - tp: 0.0000e+00 - fn: 520.0000 - accuracy: 0.9822 - auc: 0.7317 - val_loss: 0.1151 - val_tp: 0.0000e+00 - val_fn: 76.0000 - val_accuracy: 0.9835 - val_auc: 0.6854\n",
      "Epoch 5/180\n",
      "57/56 [==============================] - 72s 1s/step - loss: 1.2406 - tp: 0.0000e+00 - fn: 517.0000 - accuracy: 0.9823 - auc: 0.7611 - val_loss: 0.1188 - val_tp: 0.0000e+00 - val_fn: 72.0000 - val_accuracy: 0.9844 - val_auc: 0.7361\n",
      "Epoch 6/180\n",
      "57/56 [==============================] - 72s 1s/step - loss: 1.1238 - tp: 1.0000 - fn: 516.0000 - accuracy: 0.9823 - auc: 0.7784 - val_loss: 0.1333 - val_tp: 0.0000e+00 - val_fn: 79.0000 - val_accuracy: 0.9829 - val_auc: 0.7468\n",
      "Epoch 7/180\n",
      "57/56 [==============================] - 71s 1s/step - loss: 1.0143 - tp: 4.0000 - fn: 517.0000 - accuracy: 0.9805 - auc: 0.7936 - val_loss: 0.1482 - val_tp: 1.0000 - val_fn: 76.0000 - val_accuracy: 0.9809 - val_auc: 0.7557\n",
      "Epoch 8/180\n",
      "57/56 [==============================] - 72s 1s/step - loss: 0.9023 - tp: 27.0000 - fn: 489.0000 - accuracy: 0.9756 - auc: 0.7987 - val_loss: 0.1702 - val_tp: 7.0000 - val_fn: 71.0000 - val_accuracy: 0.9724 - val_auc: 0.7721\n",
      "Epoch 9/180\n",
      "57/56 [==============================] - 72s 1s/step - loss: 0.7936 - tp: 80.0000 - fn: 441.0000 - accuracy: 0.9620 - auc: 0.8179 - val_loss: 0.1923 - val_tp: 13.0000 - val_fn: 67.0000 - val_accuracy: 0.9564 - val_auc: 0.7926\n",
      "Epoch 10/180\n",
      "57/56 [==============================] - 68s 1s/step - loss: 0.7144 - tp: 146.0000 - fn: 370.0000 - accuracy: 0.9418 - auc: 0.8188 - val_loss: 0.2198 - val_tp: 21.0000 - val_fn: 58.0000 - val_accuracy: 0.9397 - val_auc: 0.7888\n",
      "Epoch 11/180\n",
      "57/56 [==============================] - 73s 1s/step - loss: 0.6394 - tp: 186.0000 - fn: 334.0000 - accuracy: 0.9184 - auc: 0.8354 - val_loss: 0.2545 - val_tp: 23.0000 - val_fn: 55.0000 - val_accuracy: 0.9069 - val_auc: 0.7998\n",
      "Epoch 12/180\n",
      "57/56 [==============================] - 72s 1s/step - loss: 0.5938 - tp: 245.0000 - fn: 274.0000 - accuracy: 0.8942 - auc: 0.8385 - val_loss: 0.2826 - val_tp: 30.0000 - val_fn: 45.0000 - val_accuracy: 0.8850 - val_auc: 0.8120\n",
      "Epoch 13/180\n",
      "57/56 [==============================] - 69s 1s/step - loss: 0.5428 - tp: 284.0000 - fn: 233.0000 - accuracy: 0.8719 - auc: 0.8502 - val_loss: 0.3044 - val_tp: 39.0000 - val_fn: 41.0000 - val_accuracy: 0.8730 - val_auc: 0.8016\n",
      "Epoch 14/180\n",
      "57/56 [==============================] - 69s 1s/step - loss: 0.5200 - tp: 314.0000 - fn: 206.0000 - accuracy: 0.8562 - auc: 0.8548 - val_loss: 0.3250 - val_tp: 41.0000 - val_fn: 38.0000 - val_accuracy: 0.8559 - val_auc: 0.8099\n",
      "Epoch 15/180\n",
      "57/56 [==============================] - 67s 1s/step - loss: 0.5163 - tp: 329.0000 - fn: 190.0000 - accuracy: 0.8418 - auc: 0.8511 - val_loss: 0.3433 - val_tp: 36.0000 - val_fn: 37.0000 - val_accuracy: 0.8368 - val_auc: 0.8007\n",
      "Epoch 16/180\n",
      "57/56 [==============================] - 68s 1s/step - loss: 0.4734 - tp: 367.0000 - fn: 151.0000 - accuracy: 0.8316 - auc: 0.8688 - val_loss: 0.3479 - val_tp: 40.0000 - val_fn: 36.0000 - val_accuracy: 0.8438 - val_auc: 0.8108\n",
      "Epoch 17/180\n",
      "57/56 [==============================] - 68s 1s/step - loss: 0.4784 - tp: 369.0000 - fn: 149.0000 - accuracy: 0.8216 - auc: 0.8637 - val_loss: 0.3642 - val_tp: 43.0000 - val_fn: 34.0000 - val_accuracy: 0.8279 - val_auc: 0.8111\n",
      "Epoch 18/180\n",
      "57/56 [==============================] - 73s 1s/step - loss: 0.4465 - tp: 402.0000 - fn: 112.0000 - accuracy: 0.8159 - auc: 0.8770 - val_loss: 0.3723 - val_tp: 45.0000 - val_fn: 34.0000 - val_accuracy: 0.8277 - val_auc: 0.8169\n",
      "Epoch 19/180\n",
      "57/56 [==============================] - 72s 1s/step - loss: 0.4520 - tp: 402.0000 - fn: 119.0000 - accuracy: 0.8088 - auc: 0.8755 - val_loss: 0.3808 - val_tp: 50.0000 - val_fn: 28.0000 - val_accuracy: 0.8192 - val_auc: 0.8284\n",
      "Epoch 20/180\n",
      "57/56 [==============================] - 68s 1s/step - loss: 0.4442 - tp: 403.0000 - fn: 117.0000 - accuracy: 0.8075 - auc: 0.8794 - val_loss: 0.3844 - val_tp: 44.0000 - val_fn: 32.0000 - val_accuracy: 0.8179 - val_auc: 0.8133\n",
      "Epoch 21/180\n",
      "57/56 [==============================] - 68s 1s/step - loss: 0.6227 - tp: 375.0000 - fn: 146.0000 - accuracy: 0.7594 - auc: 0.8047 - val_loss: 1932.3817 - val_tp: 79.0000 - val_fn: 0.0000e+00 - val_accuracy: 0.0171 - val_auc: 0.5000\n",
      "Epoch 22/180\n",
      "57/56 [==============================] - 68s 1s/step - loss: 0.4368 - tp: 414.0000 - fn: 100.0000 - accuracy: 0.7830 - auc: 0.8809 - val_loss: 11.6775 - val_tp: 28.0000 - val_fn: 54.0000 - val_accuracy: 0.7179 - val_auc: 0.5869\n",
      "Epoch 23/180\n",
      "57/56 [==============================] - 72s 1s/step - loss: 0.3808 - tp: 455.0000 - fn: 70.0000 - accuracy: 0.8130 - auc: 0.9135 - val_loss: 1.0353 - val_tp: 68.0000 - val_fn: 11.0000 - val_accuracy: 0.7582 - val_auc: 0.8797\n",
      "Epoch 24/180\n",
      "57/56 [==============================] - 73s 1s/step - loss: 0.3421 - tp: 459.0000 - fn: 61.0000 - accuracy: 0.8357 - auc: 0.9310 - val_loss: 0.7628 - val_tp: 72.0000 - val_fn: 4.0000 - val_accuracy: 0.6701 - val_auc: 0.9031\n",
      "Epoch 25/180\n",
      "57/56 [==============================] - 68s 1s/step - loss: 0.2947 - tp: 468.0000 - fn: 48.0000 - accuracy: 0.8583 - auc: 0.9481 - val_loss: 0.6181 - val_tp: 68.0000 - val_fn: 9.0000 - val_accuracy: 0.7517 - val_auc: 0.8964\n",
      "Epoch 26/180\n",
      "57/56 [==============================] - 68s 1s/step - loss: 0.2749 - tp: 484.0000 - fn: 39.0000 - accuracy: 0.8726 - auc: 0.9553 - val_loss: 0.5423 - val_tp: 67.0000 - val_fn: 12.0000 - val_accuracy: 0.7418 - val_auc: 0.8668\n",
      "Epoch 27/180\n",
      "57/56 [==============================] - 68s 1s/step - loss: 0.2314 - tp: 490.0000 - fn: 26.0000 - accuracy: 0.8943 - auc: 0.9692 - val_loss: 2.4343 - val_tp: 62.0000 - val_fn: 18.0000 - val_accuracy: 0.7702 - val_auc: 0.8447\n",
      "Epoch 28/180\n",
      "57/56 [==============================] - 72s 1s/step - loss: 0.2187 - tp: 492.0000 - fn: 29.0000 - accuracy: 0.9025 - auc: 0.9720 - val_loss: 0.5918 - val_tp: 69.0000 - val_fn: 8.0000 - val_accuracy: 0.8242 - val_auc: 0.9125\n",
      "Epoch 29/180\n",
      "57/56 [==============================] - 68s 1s/step - loss: 0.1832 - tp: 490.0000 - fn: 20.0000 - accuracy: 0.9203 - auc: 0.9811 - val_loss: 0.2764 - val_tp: 44.0000 - val_fn: 35.0000 - val_accuracy: 0.9264 - val_auc: 0.9046\n",
      "Epoch 30/180\n",
      "57/56 [==============================] - 69s 1s/step - loss: 0.1702 - tp: 507.0000 - fn: 19.0000 - accuracy: 0.9290 - auc: 0.9840 - val_loss: 0.2521 - val_tp: 44.0000 - val_fn: 31.0000 - val_accuracy: 0.9076 - val_auc: 0.8963\n",
      "Epoch 31/180\n",
      "57/56 [==============================] - 68s 1s/step - loss: 0.1548 - tp: 506.0000 - fn: 15.0000 - accuracy: 0.9379 - auc: 0.9872 - val_loss: 0.1438 - val_tp: 31.0000 - val_fn: 49.0000 - val_accuracy: 0.9586 - val_auc: 0.8883\n",
      "Epoch 32/180\n",
      "57/56 [==============================] - 68s 1s/step - loss: 0.1262 - tp: 506.0000 - fn: 10.0000 - accuracy: 0.9515 - auc: 0.9920 - val_loss: 0.1596 - val_tp: 42.0000 - val_fn: 38.0000 - val_accuracy: 0.9518 - val_auc: 0.8869\n",
      "Epoch 33/180\n",
      "57/56 [==============================] - 67s 1s/step - loss: 0.1126 - tp: 511.0000 - fn: 9.0000 - accuracy: 0.9619 - auc: 0.9942 - val_loss: 0.3199 - val_tp: 54.0000 - val_fn: 23.0000 - val_accuracy: 0.9000 - val_auc: 0.8966\n",
      "Epoch 34/180\n",
      "57/56 [==============================] - 68s 1s/step - loss: 0.1028 - tp: 508.0000 - fn: 8.0000 - accuracy: 0.9647 - auc: 0.9954 - val_loss: 0.1721 - val_tp: 31.0000 - val_fn: 42.0000 - val_accuracy: 0.9520 - val_auc: 0.8581\n",
      "Epoch 35/180\n",
      "57/56 [==============================] - 68s 1s/step - loss: 0.0922 - tp: 513.0000 - fn: 6.0000 - accuracy: 0.9688 - auc: 0.9966 - val_loss: 0.1380 - val_tp: 24.0000 - val_fn: 54.0000 - val_accuracy: 0.9668 - val_auc: 0.8641\n",
      "Epoch 36/180\n",
      "57/56 [==============================] - 68s 1s/step - loss: 0.0830 - tp: 517.0000 - fn: 3.0000 - accuracy: 0.9750 - auc: 0.9973 - val_loss: 0.1747 - val_tp: 37.0000 - val_fn: 45.0000 - val_accuracy: 0.9551 - val_auc: 0.8779\n",
      "Epoch 37/180\n",
      "57/56 [==============================] - 68s 1s/step - loss: 0.0839 - tp: 514.0000 - fn: 5.0000 - accuracy: 0.9752 - auc: 0.9974 - val_loss: 0.1637 - val_tp: 36.0000 - val_fn: 44.0000 - val_accuracy: 0.9612 - val_auc: 0.8856\n",
      "Epoch 38/180\n",
      "57/56 [==============================] - 67s 1s/step - loss: 0.0766 - tp: 513.0000 - fn: 4.0000 - accuracy: 0.9791 - auc: 0.9979 - val_loss: 0.1656 - val_tp: 27.0000 - val_fn: 51.0000 - val_accuracy: 0.9590 - val_auc: 0.8760\n",
      "Epoch 39/180\n",
      "57/56 [==============================] - 68s 1s/step - loss: 0.0770 - tp: 515.0000 - fn: 4.0000 - accuracy: 0.9783 - auc: 0.9979 - val_loss: 0.1701 - val_tp: 33.0000 - val_fn: 39.0000 - val_accuracy: 0.9527 - val_auc: 0.8753\n",
      "Epoch 40/180\n",
      "57/56 [==============================] - 68s 1s/step - loss: 0.0694 - tp: 514.0000 - fn: 3.0000 - accuracy: 0.9804 - auc: 0.9986 - val_loss: 0.1793 - val_tp: 35.0000 - val_fn: 45.0000 - val_accuracy: 0.9546 - val_auc: 0.8877\n",
      "Epoch 41/180\n",
      "57/56 [==============================] - 68s 1s/step - loss: 0.0631 - tp: 521.0000 - fn: 4.0000 - accuracy: 0.9861 - auc: 0.9990 - val_loss: 0.1833 - val_tp: 33.0000 - val_fn: 44.0000 - val_accuracy: 0.9527 - val_auc: 0.8792\n",
      "Epoch 42/180\n",
      "57/56 [==============================] - 68s 1s/step - loss: 0.0609 - tp: 516.0000 - fn: 3.0000 - accuracy: 0.9871 - auc: 0.9991 - val_loss: 0.1818 - val_tp: 30.0000 - val_fn: 47.0000 - val_accuracy: 0.9575 - val_auc: 0.8821\n",
      "Epoch 43/180\n",
      "57/56 [==============================] - 68s 1s/step - loss: 0.0600 - tp: 519.0000 - fn: 3.0000 - accuracy: 0.9872 - auc: 0.9992 - val_loss: 0.1811 - val_tp: 35.0000 - val_fn: 46.0000 - val_accuracy: 0.9553 - val_auc: 0.8715\n",
      "Epoch 44/180\n",
      "57/56 [==============================] - 68s 1s/step - loss: 0.0551 - tp: 515.0000 - fn: 1.0000 - accuracy: 0.9893 - auc: 0.9993 - val_loss: 0.1534 - val_tp: 29.0000 - val_fn: 49.0000 - val_accuracy: 0.9627 - val_auc: 0.8461\n",
      "Epoch 45/180\n",
      "57/56 [==============================] - 68s 1s/step - loss: 0.0551 - tp: 518.0000 - fn: 3.0000 - accuracy: 0.9906 - auc: 0.9994 - val_loss: 0.1458 - val_tp: 25.0000 - val_fn: 53.0000 - val_accuracy: 0.9648 - val_auc: 0.8566\n",
      "Epoch 46/180\n",
      "57/56 [==============================] - 69s 1s/step - loss: 0.0535 - tp: 523.0000 - fn: 1.0000 - accuracy: 0.9904 - auc: 0.9995 - val_loss: 0.1464 - val_tp: 22.0000 - val_fn: 52.0000 - val_accuracy: 0.9646 - val_auc: 0.8347\n",
      "Epoch 47/180\n",
      "57/56 [==============================] - 69s 1s/step - loss: 0.0488 - tp: 516.0000 - fn: 0.0000e+00 - accuracy: 0.9922 - auc: 0.9997 - val_loss: 0.1495 - val_tp: 28.0000 - val_fn: 53.0000 - val_accuracy: 0.9668 - val_auc: 0.8288\n",
      "Epoch 48/180\n",
      "57/56 [==============================] - 69s 1s/step - loss: 0.0493 - tp: 515.0000 - fn: 1.0000 - accuracy: 0.9916 - auc: 0.9996 - val_loss: 0.1567 - val_tp: 27.0000 - val_fn: 51.0000 - val_accuracy: 0.9653 - val_auc: 0.8479\n",
      "Epoch 49/180\n",
      "57/56 [==============================] - 68s 1s/step - loss: 0.0475 - tp: 519.0000 - fn: 0.0000e+00 - accuracy: 0.9933 - auc: 0.9997 - val_loss: 0.1625 - val_tp: 25.0000 - val_fn: 51.0000 - val_accuracy: 0.9638 - val_auc: 0.8639\n",
      "Epoch 50/180\n",
      "57/56 [==============================] - 68s 1s/step - loss: 0.0459 - tp: 522.0000 - fn: 0.0000e+00 - accuracy: 0.9942 - auc: 0.9998 - val_loss: 0.1565 - val_tp: 22.0000 - val_fn: 53.0000 - val_accuracy: 0.9679 - val_auc: 0.8279\n",
      "Epoch 51/180\n",
      "57/56 [==============================] - 68s 1s/step - loss: 0.0455 - tp: 514.0000 - fn: 0.0000e+00 - accuracy: 0.9941 - auc: 0.9998 - val_loss: 0.1424 - val_tp: 20.0000 - val_fn: 61.0000 - val_accuracy: 0.9685 - val_auc: 0.8165\n",
      "Epoch 52/180\n",
      "57/56 [==============================] - 69s 1s/step - loss: 0.0453 - tp: 519.0000 - fn: 0.0000e+00 - accuracy: 0.9949 - auc: 0.9998 - val_loss: 0.1622 - val_tp: 23.0000 - val_fn: 50.0000 - val_accuracy: 0.9674 - val_auc: 0.8195\n",
      "Epoch 53/180\n",
      "57/56 [==============================] - 69s 1s/step - loss: 0.0458 - tp: 518.0000 - fn: 0.0000e+00 - accuracy: 0.9945 - auc: 0.9998 - val_loss: 0.1510 - val_tp: 26.0000 - val_fn: 52.0000 - val_accuracy: 0.9688 - val_auc: 0.8163\n",
      "Epoch 54/180\n",
      "57/56 [==============================] - 69s 1s/step - loss: 0.0463 - tp: 517.0000 - fn: 1.0000 - accuracy: 0.9950 - auc: 0.9998 - val_loss: 0.1474 - val_tp: 23.0000 - val_fn: 54.0000 - val_accuracy: 0.9668 - val_auc: 0.8226\n",
      "Epoch 55/180\n",
      "57/56 [==============================] - 68s 1s/step - loss: 0.0450 - tp: 520.0000 - fn: 0.0000e+00 - accuracy: 0.9943 - auc: 0.9998 - val_loss: 0.1440 - val_tp: 23.0000 - val_fn: 54.0000 - val_accuracy: 0.9722 - val_auc: 0.8157\n",
      "Epoch 56/180\n",
      "57/56 [==============================] - 68s 1s/step - loss: 0.0435 - tp: 511.0000 - fn: 0.0000e+00 - accuracy: 0.9948 - auc: 0.9998 - val_loss: 0.1481 - val_tp: 19.0000 - val_fn: 59.0000 - val_accuracy: 0.9674 - val_auc: 0.8262\n",
      "Epoch 57/180\n",
      "57/56 [==============================] - 68s 1s/step - loss: 0.0434 - tp: 522.0000 - fn: 0.0000e+00 - accuracy: 0.9954 - auc: 0.9998 - val_loss: 0.1290 - val_tp: 22.0000 - val_fn: 52.0000 - val_accuracy: 0.9716 - val_auc: 0.8434\n",
      "Epoch 58/180\n",
      "57/56 [==============================] - 69s 1s/step - loss: 0.0443 - tp: 520.0000 - fn: 0.0000e+00 - accuracy: 0.9949 - auc: 0.9998 - val_loss: 0.1539 - val_tp: 24.0000 - val_fn: 56.0000 - val_accuracy: 0.9685 - val_auc: 0.8257\n",
      "Epoch 59/180\n",
      "57/56 [==============================] - 68s 1s/step - loss: 0.0449 - tp: 513.0000 - fn: 0.0000e+00 - accuracy: 0.9946 - auc: 0.9999 - val_loss: 0.1607 - val_tp: 19.0000 - val_fn: 55.0000 - val_accuracy: 0.9694 - val_auc: 0.8204\n",
      "Epoch 60/180\n",
      "57/56 [==============================] - 68s 1s/step - loss: 0.0438 - tp: 521.0000 - fn: 0.0000e+00 - accuracy: 0.9955 - auc: 0.9998 - val_loss: 0.1412 - val_tp: 21.0000 - val_fn: 55.0000 - val_accuracy: 0.9711 - val_auc: 0.8118\n",
      "Epoch 61/180\n",
      "57/56 [==============================] - 68s 1s/step - loss: 0.0437 - tp: 520.0000 - fn: 0.0000e+00 - accuracy: 0.9954 - auc: 0.9998 - val_loss: 0.1439 - val_tp: 21.0000 - val_fn: 58.0000 - val_accuracy: 0.9703 - val_auc: 0.8082\n",
      "Epoch 62/180\n",
      "57/56 [==============================] - 68s 1s/step - loss: 0.0441 - tp: 514.0000 - fn: 2.0000 - accuracy: 0.9960 - auc: 0.9998 - val_loss: 0.1504 - val_tp: 20.0000 - val_fn: 55.0000 - val_accuracy: 0.9690 - val_auc: 0.8066\n",
      "Epoch 63/180\n",
      "57/56 [==============================] - 68s 1s/step - loss: 0.0437 - tp: 517.0000 - fn: 0.0000e+00 - accuracy: 0.9947 - auc: 0.9998 - val_loss: 0.1585 - val_tp: 22.0000 - val_fn: 56.0000 - val_accuracy: 0.9701 - val_auc: 0.8155\n",
      "Epoch 64/180\n",
      "57/56 [==============================] - 68s 1s/step - loss: 0.0424 - tp: 520.0000 - fn: 0.0000e+00 - accuracy: 0.9961 - auc: 0.9999 - val_loss: 0.1441 - val_tp: 22.0000 - val_fn: 55.0000 - val_accuracy: 0.9711 - val_auc: 0.8116\n",
      "Epoch 65/180\n",
      "57/56 [==============================] - 69s 1s/step - loss: 0.0436 - tp: 521.0000 - fn: 0.0000e+00 - accuracy: 0.9958 - auc: 0.9999 - val_loss: 0.1497 - val_tp: 20.0000 - val_fn: 57.0000 - val_accuracy: 0.9688 - val_auc: 0.8043\n",
      "Epoch 66/180\n",
      "57/56 [==============================] - 68s 1s/step - loss: 0.0428 - tp: 517.0000 - fn: 0.0000e+00 - accuracy: 0.9953 - auc: 0.9999 - val_loss: 0.1578 - val_tp: 22.0000 - val_fn: 57.0000 - val_accuracy: 0.9694 - val_auc: 0.8045\n",
      "Epoch 67/180\n",
      "57/56 [==============================] - 68s 1s/step - loss: 0.0428 - tp: 517.0000 - fn: 0.0000e+00 - accuracy: 0.9954 - auc: 0.9999 - val_loss: 0.1590 - val_tp: 15.0000 - val_fn: 59.0000 - val_accuracy: 0.9674 - val_auc: 0.8247\n",
      "Epoch 68/180\n",
      "57/56 [==============================] - 68s 1s/step - loss: 0.0432 - tp: 522.0000 - fn: 0.0000e+00 - accuracy: 0.9957 - auc: 0.9999 - val_loss: 0.1541 - val_tp: 22.0000 - val_fn: 59.0000 - val_accuracy: 0.9677 - val_auc: 0.8115\n",
      "Epoch 69/180\n",
      "57/56 [==============================] - 68s 1s/step - loss: 0.0444 - tp: 518.0000 - fn: 1.0000 - accuracy: 0.9959 - auc: 0.9999 - val_loss: 0.1441 - val_tp: 24.0000 - val_fn: 56.0000 - val_accuracy: 0.9705 - val_auc: 0.8113\n",
      "Epoch 70/180\n",
      "57/56 [==============================] - 68s 1s/step - loss: 0.0425 - tp: 518.0000 - fn: 0.0000e+00 - accuracy: 0.9952 - auc: 0.9999 - val_loss: 0.1528 - val_tp: 22.0000 - val_fn: 56.0000 - val_accuracy: 0.9685 - val_auc: 0.8167\n",
      "Epoch 71/180\n",
      "57/56 [==============================] - 69s 1s/step - loss: 0.0428 - tp: 517.0000 - fn: 0.0000e+00 - accuracy: 0.9959 - auc: 0.9999 - val_loss: 0.1622 - val_tp: 24.0000 - val_fn: 55.0000 - val_accuracy: 0.9705 - val_auc: 0.8156\n",
      "Epoch 72/180\n",
      "57/56 [==============================] - 68s 1s/step - loss: 0.0424 - tp: 516.0000 - fn: 0.0000e+00 - accuracy: 0.9956 - auc: 0.9999 - val_loss: 0.1553 - val_tp: 20.0000 - val_fn: 56.0000 - val_accuracy: 0.9707 - val_auc: 0.8229\n",
      "Epoch 73/180\n",
      "57/56 [==============================] - 68s 1s/step - loss: 0.0437 - tp: 515.0000 - fn: 1.0000 - accuracy: 0.9959 - auc: 0.9999 - val_loss: 0.1553 - val_tp: 21.0000 - val_fn: 59.0000 - val_accuracy: 0.9674 - val_auc: 0.8104\n",
      "Epoch 74/180\n",
      "57/56 [==============================] - 68s 1s/step - loss: 0.0434 - tp: 521.0000 - fn: 0.0000e+00 - accuracy: 0.9959 - auc: 0.9999 - val_loss: 0.1530 - val_tp: 23.0000 - val_fn: 58.0000 - val_accuracy: 0.9685 - val_auc: 0.8024\n",
      "Epoch 75/180\n",
      "57/56 [==============================] - 68s 1s/step - loss: 0.0443 - tp: 520.0000 - fn: 0.0000e+00 - accuracy: 0.9957 - auc: 0.9999 - val_loss: 0.1382 - val_tp: 20.0000 - val_fn: 60.0000 - val_accuracy: 0.9685 - val_auc: 0.8107\n",
      "Epoch 76/180\n",
      "57/56 [==============================] - 67s 1s/step - loss: 0.0429 - tp: 516.0000 - fn: 0.0000e+00 - accuracy: 0.9954 - auc: 0.9999 - val_loss: 0.1537 - val_tp: 22.0000 - val_fn: 57.0000 - val_accuracy: 0.9694 - val_auc: 0.7956\n",
      "Epoch 77/180\n",
      "57/56 [==============================] - 68s 1s/step - loss: 0.0445 - tp: 519.0000 - fn: 1.0000 - accuracy: 0.9956 - auc: 0.9998 - val_loss: 0.1562 - val_tp: 18.0000 - val_fn: 59.0000 - val_accuracy: 0.9690 - val_auc: 0.8053\n",
      "Epoch 78/180\n",
      "57/56 [==============================] - 85s 1s/step - loss: 0.0436 - tp: 521.0000 - fn: 1.0000 - accuracy: 0.9957 - auc: 0.9999 - val_loss: 0.1499 - val_tp: 19.0000 - val_fn: 55.0000 - val_accuracy: 0.9711 - val_auc: 0.8088\n"
     ]
    }
   ],
   "source": [
    "early_stopping = tf.keras.callbacks.EarlyStopping(monitor='val_auc', #val_auc\n",
    "                                patience=50,\n",
    "                                mode='max',\n",
    "                                restore_best_weights=True)\n",
    "lr_schedule = tf.keras.callbacks.LearningRateScheduler(lr_schedule_fn)\n",
    "\n",
    "\n",
    "history = model.fit(\n",
    "    train_ds,\n",
    "#     batch_size=params['batch_size'],\n",
    "    epochs= params['epochs'], \n",
    "    steps_per_epoch=epoch_steps,\n",
    "    validation_data=valid_ds,\n",
    "    validation_steps=valid_steps,\n",
    "    class_weight=class_weights,\n",
    "    callbacks=[early_stopping, lr_schedule]\n",
    ")\n",
    "\n"
   ]
  },
  {
   "cell_type": "code",
   "execution_count": 27,
   "metadata": {
    "colab": {
     "base_uri": "https://localhost:8080/",
     "height": 139
    },
    "colab_type": "code",
    "execution": {
     "iopub.execute_input": "2020-08-13T07:30:13.865531Z",
     "iopub.status.busy": "2020-08-13T07:30:13.858350Z",
     "iopub.status.idle": "2020-08-13T07:31:02.268978Z",
     "shell.execute_reply": "2020-08-13T07:31:02.268175Z"
    },
    "id": "bhFbnAyn53zh",
    "outputId": "958d1cbb-804e-4c5d-93f4-fabe86417f09",
    "papermill": {
     "duration": 48.499987,
     "end_time": "2020-08-13T07:31:02.269108",
     "exception": false,
     "start_time": "2020-08-13T07:30:13.769121",
     "status": "completed"
    },
    "tags": []
   },
   "outputs": [
    {
     "name": "stdout",
     "output_type": "stream",
     "text": [
      "WARNING:tensorflow:From /usr/local/lib/python3.6/dist-packages/tensorflow/python/data/ops/multi_device_iterator_ops.py:601: get_next_as_optional (from tensorflow.python.data.ops.iterator_ops) is deprecated and will be removed in a future version.\n",
      "Instructions for updating:\n",
      "Use `tf.data.Iterator.get_next_as_optional()` instead.\n"
     ]
    },
    {
     "name": "stderr",
     "output_type": "stream",
     "text": [
      "WARNING:tensorflow:From /usr/local/lib/python3.6/dist-packages/tensorflow/python/data/ops/multi_device_iterator_ops.py:601: get_next_as_optional (from tensorflow.python.data.ops.iterator_ops) is deprecated and will be removed in a future version.\n",
      "Instructions for updating:\n",
      "Use `tf.data.Iterator.get_next_as_optional()` instead.\n"
     ]
    }
   ],
   "source": [
    "predictions = model.predict(test_ds.map(lambda img, igs: img), steps=test_steps)  "
   ]
  },
  {
   "cell_type": "code",
   "execution_count": 28,
   "metadata": {
    "colab": {
     "base_uri": "https://localhost:8080/",
     "height": 445
    },
    "colab_type": "code",
    "execution": {
     "iopub.execute_input": "2020-08-13T07:31:02.448051Z",
     "iopub.status.busy": "2020-08-13T07:31:02.439699Z",
     "iopub.status.idle": "2020-08-13T07:31:07.920581Z",
     "shell.execute_reply": "2020-08-13T07:31:07.919955Z"
    },
    "id": "UpstDt5353zi",
    "outputId": "9e85abb6-36e1-4e05-d064-a7da7bf43359",
    "papermill": {
     "duration": 5.568861,
     "end_time": "2020-08-13T07:31:07.920714",
     "exception": false,
     "start_time": "2020-08-13T07:31:02.351853",
     "status": "completed"
    },
    "tags": []
   },
   "outputs": [
    {
     "name": "stdout",
     "output_type": "stream",
     "text": [
      "WARNING:tensorflow:AutoGraph could not transform <function <lambda> at 0x7f4b9f77fe18> and will run it as-is.\n",
      "Cause: could not parse the source code:\n",
      "\n",
      "                          map(lambda img, ids:ids).\n",
      "\n",
      "This error may be avoided by creating the lambda in a standalone statement.\n",
      "\n",
      "To silence this warning, decorate the function with @tf.autograph.experimental.do_not_convert\n"
     ]
    },
    {
     "name": "stderr",
     "output_type": "stream",
     "text": [
      "WARNING:tensorflow:AutoGraph could not transform <function <lambda> at 0x7f4b9f77fe18> and will run it as-is.\n",
      "Cause: could not parse the source code:\n",
      "\n",
      "                          map(lambda img, ids:ids).\n",
      "\n",
      "This error may be avoided by creating the lambda in a standalone statement.\n",
      "\n",
      "To silence this warning, decorate the function with @tf.autograph.experimental.do_not_convert\n"
     ]
    },
    {
     "name": "stdout",
     "output_type": "stream",
     "text": [
      "WARNING: AutoGraph could not transform <function <lambda> at 0x7f4b9f77fe18> and will run it as-is.\n",
      "Cause: could not parse the source code:\n",
      "\n",
      "                          map(lambda img, ids:ids).\n",
      "\n",
      "This error may be avoided by creating the lambda in a standalone statement.\n",
      "\n",
      "To silence this warning, decorate the function with @tf.autograph.experimental.do_not_convert\n"
     ]
    }
   ],
   "source": [
    "prediction_ids = next(iter(test_ds.\n",
    "                          map(lambda img, ids:ids).\n",
    "                          unbatch().\n",
    "                          batch(test_size))).numpy().astype('str')"
   ]
  },
  {
   "cell_type": "code",
   "execution_count": 29,
   "metadata": {
    "colab": {},
    "colab_type": "code",
    "execution": {
     "iopub.execute_input": "2020-08-13T07:31:08.099820Z",
     "iopub.status.busy": "2020-08-13T07:31:08.098784Z",
     "iopub.status.idle": "2020-08-13T07:31:08.114775Z",
     "shell.execute_reply": "2020-08-13T07:31:08.114129Z"
    },
    "id": "m2ItHBu853zk",
    "papermill": {
     "duration": 0.110305,
     "end_time": "2020-08-13T07:31:08.114899",
     "exception": false,
     "start_time": "2020-08-13T07:31:08.004594",
     "status": "completed"
    },
    "tags": []
   },
   "outputs": [],
   "source": [
    "prediction_dict = {\n",
    "    'image_name': prediction_ids,\n",
    "    'target': np.concatenate(predictions)\n",
    "}\n",
    "submission_ds = pd.DataFrame(prediction_dict)"
   ]
  },
  {
   "cell_type": "code",
   "execution_count": 30,
   "metadata": {
    "colab": {
     "base_uri": "https://localhost:8080/",
     "height": 204
    },
    "colab_type": "code",
    "execution": {
     "iopub.execute_input": "2020-08-13T07:31:08.291229Z",
     "iopub.status.busy": "2020-08-13T07:31:08.290303Z",
     "iopub.status.idle": "2020-08-13T07:31:08.294849Z",
     "shell.execute_reply": "2020-08-13T07:31:08.294235Z"
    },
    "id": "tJS2d6yI53zl",
    "outputId": "593d6806-5a59-4461-9508-1395824375cc",
    "papermill": {
     "duration": 0.097296,
     "end_time": "2020-08-13T07:31:08.294972",
     "exception": false,
     "start_time": "2020-08-13T07:31:08.197676",
     "status": "completed"
    },
    "tags": []
   },
   "outputs": [
    {
     "data": {
      "text/html": [
       "<div>\n",
       "<style scoped>\n",
       "    .dataframe tbody tr th:only-of-type {\n",
       "        vertical-align: middle;\n",
       "    }\n",
       "\n",
       "    .dataframe tbody tr th {\n",
       "        vertical-align: top;\n",
       "    }\n",
       "\n",
       "    .dataframe thead th {\n",
       "        text-align: right;\n",
       "    }\n",
       "</style>\n",
       "<table border=\"1\" class=\"dataframe\">\n",
       "  <thead>\n",
       "    <tr style=\"text-align: right;\">\n",
       "      <th></th>\n",
       "      <th>image_name</th>\n",
       "      <th>target</th>\n",
       "    </tr>\n",
       "  </thead>\n",
       "  <tbody>\n",
       "    <tr>\n",
       "      <th>0</th>\n",
       "      <td>ISIC_6381819</td>\n",
       "      <td>0.154519</td>\n",
       "    </tr>\n",
       "    <tr>\n",
       "      <th>1</th>\n",
       "      <td>ISIC_5583376</td>\n",
       "      <td>0.261072</td>\n",
       "    </tr>\n",
       "    <tr>\n",
       "      <th>2</th>\n",
       "      <td>ISIC_6408546</td>\n",
       "      <td>0.004148</td>\n",
       "    </tr>\n",
       "    <tr>\n",
       "      <th>3</th>\n",
       "      <td>ISIC_6932354</td>\n",
       "      <td>0.278588</td>\n",
       "    </tr>\n",
       "    <tr>\n",
       "      <th>4</th>\n",
       "      <td>ISIC_8191278</td>\n",
       "      <td>0.106571</td>\n",
       "    </tr>\n",
       "  </tbody>\n",
       "</table>\n",
       "</div>"
      ],
      "text/plain": [
       "     image_name    target\n",
       "0  ISIC_6381819  0.154519\n",
       "1  ISIC_5583376  0.261072\n",
       "2  ISIC_6408546  0.004148\n",
       "3  ISIC_6932354  0.278588\n",
       "4  ISIC_8191278  0.106571"
      ]
     },
     "execution_count": 30,
     "metadata": {
      "tags": []
     },
     "output_type": "execute_result"
    }
   ],
   "source": [
    "submission_ds.head()"
   ]
  },
  {
   "cell_type": "code",
   "execution_count": 31,
   "metadata": {
    "colab": {},
    "colab_type": "code",
    "execution": {
     "iopub.execute_input": "2020-08-13T07:31:08.464315Z",
     "iopub.status.busy": "2020-08-13T07:31:08.463530Z",
     "iopub.status.idle": "2020-08-13T07:31:08.524416Z",
     "shell.execute_reply": "2020-08-13T07:31:08.523661Z"
    },
    "id": "0HNtbxBM53zm",
    "papermill": {
     "duration": 0.147717,
     "end_time": "2020-08-13T07:31:08.524568",
     "exception": false,
     "start_time": "2020-08-13T07:31:08.376851",
     "status": "completed"
    },
    "tags": []
   },
   "outputs": [],
   "source": [
    "submission_ds.to_csv('submission.csv', index=False)"
   ]
  },
  {
   "cell_type": "markdown",
   "metadata": {
    "colab_type": "text",
    "id": "2oSANscP53zn",
    "papermill": {
     "duration": 0.081326,
     "end_time": "2020-08-13T07:31:08.686994",
     "exception": false,
     "start_time": "2020-08-13T07:31:08.605668",
     "status": "completed"
    },
    "tags": []
   },
   "source": [
    "# Metrics"
   ]
  },
  {
   "cell_type": "code",
   "execution_count": 32,
   "metadata": {
    "colab": {},
    "colab_type": "code",
    "execution": {
     "iopub.execute_input": "2020-08-13T07:31:08.859889Z",
     "iopub.status.busy": "2020-08-13T07:31:08.859106Z",
     "iopub.status.idle": "2020-08-13T07:31:08.862248Z",
     "shell.execute_reply": "2020-08-13T07:31:08.861449Z"
    },
    "id": "75kwpHDr53zn",
    "papermill": {
     "duration": 0.092658,
     "end_time": "2020-08-13T07:31:08.862375",
     "exception": false,
     "start_time": "2020-08-13T07:31:08.769717",
     "status": "completed"
    },
    "tags": []
   },
   "outputs": [],
   "source": [
    "def plot_metric(metric1, metric2, ylabel):\n",
    "    plt.plot(history.history[metric1], label=metric1)\n",
    "    plt.plot(history.history[metric2], label=metric2)\n",
    "    plt.ylabel(ylabel)\n",
    "    plt.xlabel('epoch')\n",
    "    plt.legend()\n",
    "    plt.show()"
   ]
  },
  {
   "cell_type": "code",
   "execution_count": 33,
   "metadata": {
    "colab": {
     "base_uri": "https://localhost:8080/",
     "height": 804
    },
    "colab_type": "code",
    "execution": {
     "iopub.execute_input": "2020-08-13T07:31:09.032194Z",
     "iopub.status.busy": "2020-08-13T07:31:09.031388Z",
     "iopub.status.idle": "2020-08-13T07:31:09.657390Z",
     "shell.execute_reply": "2020-08-13T07:31:09.656724Z"
    },
    "id": "_kE5HVMk53zp",
    "outputId": "3cee9980-a2c7-4a58-ef17-7b9544d75aa6",
    "papermill": {
     "duration": 0.712273,
     "end_time": "2020-08-13T07:31:09.657534",
     "exception": false,
     "start_time": "2020-08-13T07:31:08.945261",
     "status": "completed"
    },
    "tags": []
   },
   "outputs": [
    {
     "data": {
      "image/png": "[encoded data removed]",
      "text/plain": [
       "<Figure size 432x288 with 1 Axes>"
      ]
     },
     "metadata": {
      "needs_background": "light",
      "tags": []
     },
     "output_type": "display_data"
    },
    {
     "data": {
      "image/png": "[encoded data removed]",
      "text/plain": [
       "<Figure size 432x288 with 1 Axes>"
      ]
     },
     "metadata": {
      "needs_background": "light",
      "tags": []
     },
     "output_type": "display_data"
    },
    {
     "data": {
      "image/png": "[encoded data removed]",
      "text/plain": [
       "<Figure size 432x288 with 1 Axes>"
      ]
     },
     "metadata": {
      "needs_background": "light",
      "tags": []
     },
     "output_type": "display_data"
    }
   ],
   "source": [
    "plot_metric('auc', 'val_auc', 'auc')\n",
    "plot_metric('loss', 'val_loss', 'loss')\n",
    "plot_metric('accuracy', 'val_accuracy', 'accuracy')"
   ]
  },
  {
   "cell_type": "code",
   "execution_count": 34,
   "metadata": {
    "colab": {
     "base_uri": "https://localhost:8080/",
     "height": 1000
    },
    "colab_type": "code",
    "execution": {
     "iopub.execute_input": "2020-08-13T07:31:09.833840Z",
     "iopub.status.busy": "2020-08-13T07:31:09.833122Z",
     "iopub.status.idle": "2020-08-13T07:31:09.838435Z",
     "shell.execute_reply": "2020-08-13T07:31:09.837729Z"
    },
    "id": "KfhtbP2k53zq",
    "outputId": "9a72ebd5-fc41-455f-9768-68e9000d2f73",
    "papermill": {
     "duration": 0.098593,
     "end_time": "2020-08-13T07:31:09.838573",
     "exception": false,
     "start_time": "2020-08-13T07:31:09.739980",
     "status": "completed"
    },
    "tags": []
   },
   "outputs": [
    {
     "data": {
      "text/plain": [
       "{'accuracy': [0.982147753238678,\n",
       "  0.9823190569877625,\n",
       "  0.9823190569877625,\n",
       "  0.9821820259094238,\n",
       "  0.9822848439216614,\n",
       "  0.9822505712509155,\n",
       "  0.9805030226707458,\n",
       "  0.9755688309669495,\n",
       "  0.9619654417037964,\n",
       "  0.9417831897735596,\n",
       "  0.9184142351150513,\n",
       "  0.8942228555679321,\n",
       "  0.8718818426132202,\n",
       "  0.8561883568763733,\n",
       "  0.841796875,\n",
       "  0.8315858244895935,\n",
       "  0.8216488361358643,\n",
       "  0.8159265518188477,\n",
       "  0.8087650537490845,\n",
       "  0.8074972629547119,\n",
       "  0.7593544721603394,\n",
       "  0.7830318212509155,\n",
       "  0.8129796981811523,\n",
       "  0.8357319235801697,\n",
       "  0.8582785129547119,\n",
       "  0.8726357221603394,\n",
       "  0.8943256735801697,\n",
       "  0.9025493264198303,\n",
       "  0.9202645421028137,\n",
       "  0.9290364384651184,\n",
       "  0.9379454851150513,\n",
       "  0.9515488147735596,\n",
       "  0.9619312286376953,\n",
       "  0.9646724462509155,\n",
       "  0.96875,\n",
       "  0.9750205874443054,\n",
       "  0.975157618522644,\n",
       "  0.9790981411933899,\n",
       "  0.9783100485801697,\n",
       "  0.9803659319877625,\n",
       "  0.9861225485801697,\n",
       "  0.9871162176132202,\n",
       "  0.9871504902839661,\n",
       "  0.9893091917037964,\n",
       "  0.9906455874443054,\n",
       "  0.9904057383537292,\n",
       "  0.9921532273292542,\n",
       "  0.991639256477356,\n",
       "  0.9932839870452881,\n",
       "  0.9941748976707458,\n",
       "  0.994140625,\n",
       "  0.9948944449424744,\n",
       "  0.9945175647735596,\n",
       "  0.9949972629547119,\n",
       "  0.9943119883537292,\n",
       "  0.9947574138641357,\n",
       "  0.9954426884651184,\n",
       "  0.9948944449424744,\n",
       "  0.9945518374443054,\n",
       "  0.9954769611358643,\n",
       "  0.9953742027282715,\n",
       "  0.9960252046585083,\n",
       "  0.994688868522644,\n",
       "  0.99609375,\n",
       "  0.9957853555679321,\n",
       "  0.9952713847160339,\n",
       "  0.9954426884651184,\n",
       "  0.9957168102264404,\n",
       "  0.9958539009094238,\n",
       "  0.9951685667037964,\n",
       "  0.9958881735801697,\n",
       "  0.9956483244895935,\n",
       "  0.9958539009094238,\n",
       "  0.9958539009094238,\n",
       "  0.9956825971603394,\n",
       "  0.9954426884651184,\n",
       "  0.9956140518188477,\n",
       "  0.9956825971603394],\n",
       " 'auc': [0.5508425235748291,\n",
       "  0.6093695163726807,\n",
       "  0.6853480339050293,\n",
       "  0.7317195534706116,\n",
       "  0.76114422082901,\n",
       "  0.7783699631690979,\n",
       "  0.7936387062072754,\n",
       "  0.7987476587295532,\n",
       "  0.8179249167442322,\n",
       "  0.8187798261642456,\n",
       "  0.8354343175888062,\n",
       "  0.838464617729187,\n",
       "  0.850199818611145,\n",
       "  0.8548137545585632,\n",
       "  0.8511293530464172,\n",
       "  0.8687787652015686,\n",
       "  0.8637345433235168,\n",
       "  0.8770363926887512,\n",
       "  0.8754648566246033,\n",
       "  0.879386842250824,\n",
       "  0.8047125339508057,\n",
       "  0.8809362649917603,\n",
       "  0.9134606122970581,\n",
       "  0.9309541583061218,\n",
       "  0.9481432437896729,\n",
       "  0.9552773237228394,\n",
       "  0.9692487716674805,\n",
       "  0.9719602465629578,\n",
       "  0.9810746908187866,\n",
       "  0.9839715957641602,\n",
       "  0.9871855974197388,\n",
       "  0.992021381855011,\n",
       "  0.9941918849945068,\n",
       "  0.9953736662864685,\n",
       "  0.9965825080871582,\n",
       "  0.9973222613334656,\n",
       "  0.9973586201667786,\n",
       "  0.9978784918785095,\n",
       "  0.9978986382484436,\n",
       "  0.998577356338501,\n",
       "  0.9990229606628418,\n",
       "  0.9990993142127991,\n",
       "  0.999199390411377,\n",
       "  0.9993423223495483,\n",
       "  0.9994364380836487,\n",
       "  0.9994860291481018,\n",
       "  0.9997308850288391,\n",
       "  0.9996294379234314,\n",
       "  0.9997326731681824,\n",
       "  0.9997844696044922,\n",
       "  0.9997960329055786,\n",
       "  0.99984210729599,\n",
       "  0.9997654557228088,\n",
       "  0.9997884035110474,\n",
       "  0.99981290102005,\n",
       "  0.9998483061790466,\n",
       "  0.9998490810394287,\n",
       "  0.9998050928115845,\n",
       "  0.9998540282249451,\n",
       "  0.9998470544815063,\n",
       "  0.9998446702957153,\n",
       "  0.9998342990875244,\n",
       "  0.9998181462287903,\n",
       "  0.9998654127120972,\n",
       "  0.9998942613601685,\n",
       "  0.9998523592948914,\n",
       "  0.9999271631240845,\n",
       "  0.9999088644981384,\n",
       "  0.9998526573181152,\n",
       "  0.9998685717582703,\n",
       "  0.9998583197593689,\n",
       "  0.9998600482940674,\n",
       "  0.9998775720596313,\n",
       "  0.9998533725738525,\n",
       "  0.9998511075973511,\n",
       "  0.999874472618103,\n",
       "  0.9998016953468323,\n",
       "  0.9999197125434875],\n",
       " 'fn': [521.0,\n",
       "  516.0,\n",
       "  516.0,\n",
       "  520.0,\n",
       "  517.0,\n",
       "  516.0,\n",
       "  517.0,\n",
       "  489.0,\n",
       "  441.0,\n",
       "  370.0,\n",
       "  334.0,\n",
       "  274.0,\n",
       "  233.0,\n",
       "  206.0,\n",
       "  190.0,\n",
       "  151.0,\n",
       "  149.0,\n",
       "  112.0,\n",
       "  119.0,\n",
       "  117.0,\n",
       "  146.0,\n",
       "  100.0,\n",
       "  70.0,\n",
       "  61.0,\n",
       "  48.0,\n",
       "  39.0,\n",
       "  26.0,\n",
       "  29.0,\n",
       "  20.0,\n",
       "  19.0,\n",
       "  15.0,\n",
       "  10.0,\n",
       "  9.0,\n",
       "  8.0,\n",
       "  6.0,\n",
       "  3.0,\n",
       "  5.0,\n",
       "  4.0,\n",
       "  4.0,\n",
       "  3.0,\n",
       "  4.0,\n",
       "  3.0,\n",
       "  3.0,\n",
       "  1.0,\n",
       "  3.0,\n",
       "  1.0,\n",
       "  0.0,\n",
       "  1.0,\n",
       "  0.0,\n",
       "  0.0,\n",
       "  0.0,\n",
       "  0.0,\n",
       "  0.0,\n",
       "  1.0,\n",
       "  0.0,\n",
       "  0.0,\n",
       "  0.0,\n",
       "  0.0,\n",
       "  0.0,\n",
       "  0.0,\n",
       "  0.0,\n",
       "  2.0,\n",
       "  0.0,\n",
       "  0.0,\n",
       "  0.0,\n",
       "  0.0,\n",
       "  0.0,\n",
       "  0.0,\n",
       "  1.0,\n",
       "  0.0,\n",
       "  0.0,\n",
       "  0.0,\n",
       "  1.0,\n",
       "  0.0,\n",
       "  0.0,\n",
       "  0.0,\n",
       "  1.0,\n",
       "  1.0],\n",
       " 'loss': [1.7055550813674927,\n",
       "  1.589596152305603,\n",
       "  1.474276065826416,\n",
       "  1.3670471906661987,\n",
       "  1.2406384944915771,\n",
       "  1.1238198280334473,\n",
       "  1.0142563581466675,\n",
       "  0.9023269414901733,\n",
       "  0.7936115264892578,\n",
       "  0.7144148349761963,\n",
       "  0.6393738985061646,\n",
       "  0.5938131213188171,\n",
       "  0.5428091287612915,\n",
       "  0.5200080871582031,\n",
       "  0.5162805914878845,\n",
       "  0.47339826822280884,\n",
       "  0.4784482419490814,\n",
       "  0.4464872181415558,\n",
       "  0.4519619643688202,\n",
       "  0.4441939890384674,\n",
       "  0.6226637959480286,\n",
       "  0.4367995858192444,\n",
       "  0.380847692489624,\n",
       "  0.3421204388141632,\n",
       "  0.29466748237609863,\n",
       "  0.2748523950576782,\n",
       "  0.23135168850421906,\n",
       "  0.21868224442005157,\n",
       "  0.18324126303195953,\n",
       "  0.17019809782505035,\n",
       "  0.15475739538669586,\n",
       "  0.12623652815818787,\n",
       "  0.11255794763565063,\n",
       "  0.10284307599067688,\n",
       "  0.09222444891929626,\n",
       "  0.0829509049654007,\n",
       "  0.08394350856542587,\n",
       "  0.0765930712223053,\n",
       "  0.07698044180870056,\n",
       "  0.06938213855028152,\n",
       "  0.0630854144692421,\n",
       "  0.060906991362571716,\n",
       "  0.060017410665750504,\n",
       "  0.05506882816553116,\n",
       "  0.05511893332004547,\n",
       "  0.05353626236319542,\n",
       "  0.04882226511836052,\n",
       "  0.04926392063498497,\n",
       "  0.04754355549812317,\n",
       "  0.04592110589146614,\n",
       "  0.04547463357448578,\n",
       "  0.045265547931194305,\n",
       "  0.04575396701693535,\n",
       "  0.04634396359324455,\n",
       "  0.0450192429125309,\n",
       "  0.04354703426361084,\n",
       "  0.043394532054662704,\n",
       "  0.04425385221838951,\n",
       "  0.044867709279060364,\n",
       "  0.043808355927467346,\n",
       "  0.0437205508351326,\n",
       "  0.044123344123363495,\n",
       "  0.04371117055416107,\n",
       "  0.04242155700922012,\n",
       "  0.04357773810625076,\n",
       "  0.04284418374300003,\n",
       "  0.04282497242093086,\n",
       "  0.04324923828244209,\n",
       "  0.04442056640982628,\n",
       "  0.04250020161271095,\n",
       "  0.0428292490541935,\n",
       "  0.04241218417882919,\n",
       "  0.04368181154131889,\n",
       "  0.043405450880527496,\n",
       "  0.044323358684778214,\n",
       "  0.04292258620262146,\n",
       "  0.04449422284960747,\n",
       "  0.04361588880419731],\n",
       " 'lr': [1e-06,\n",
       "  1e-06,\n",
       "  1e-06,\n",
       "  1e-06,\n",
       "  1e-06,\n",
       "  1e-06,\n",
       "  1e-06,\n",
       "  1e-06,\n",
       "  1e-06,\n",
       "  1e-06,\n",
       "  1e-06,\n",
       "  1e-06,\n",
       "  1e-06,\n",
       "  1e-06,\n",
       "  1e-06,\n",
       "  1e-06,\n",
       "  1e-06,\n",
       "  1e-06,\n",
       "  1e-06,\n",
       "  1e-06,\n",
       "  0.001,\n",
       "  0.001,\n",
       "  0.00075,\n",
       "  0.00075,\n",
       "  0.0005625,\n",
       "  0.0005625,\n",
       "  0.00042187498,\n",
       "  0.00042187498,\n",
       "  0.00031640625,\n",
       "  0.00031640625,\n",
       "  0.00023730469,\n",
       "  0.00023730469,\n",
       "  0.00017797851,\n",
       "  0.00017797851,\n",
       "  0.00013348387,\n",
       "  0.00013348387,\n",
       "  0.000100112906,\n",
       "  0.000100112906,\n",
       "  7.508468e-05,\n",
       "  7.508468e-05,\n",
       "  5.631351e-05,\n",
       "  5.631351e-05,\n",
       "  4.2235133e-05,\n",
       "  4.2235133e-05,\n",
       "  3.167635e-05,\n",
       "  3.167635e-05,\n",
       "  2.3757264e-05,\n",
       "  2.3757264e-05,\n",
       "  1.7817947e-05,\n",
       "  1.7817947e-05,\n",
       "  1.336346e-05,\n",
       "  1.336346e-05,\n",
       "  1.0022595e-05,\n",
       "  1.0022595e-05,\n",
       "  7.5169464e-06,\n",
       "  7.5169464e-06,\n",
       "  5.63771e-06,\n",
       "  5.63771e-06,\n",
       "  4.2282823e-06,\n",
       "  4.2282823e-06,\n",
       "  3.1712116e-06,\n",
       "  3.1712116e-06,\n",
       "  2.3784087e-06,\n",
       "  2.3784087e-06,\n",
       "  1.7838065e-06,\n",
       "  1.7838065e-06,\n",
       "  1.3378549e-06,\n",
       "  1.3378549e-06,\n",
       "  1.0033912e-06,\n",
       "  1.0033912e-06,\n",
       "  7.525434e-07,\n",
       "  7.525434e-07,\n",
       "  5.644075e-07,\n",
       "  5.644075e-07,\n",
       "  4.2330564e-07,\n",
       "  4.2330564e-07,\n",
       "  3.1747922e-07,\n",
       "  3.1747922e-07],\n",
       " 'tp': [0.0,\n",
       "  0.0,\n",
       "  0.0,\n",
       "  0.0,\n",
       "  0.0,\n",
       "  1.0,\n",
       "  4.0,\n",
       "  27.0,\n",
       "  80.0,\n",
       "  146.0,\n",
       "  186.0,\n",
       "  245.0,\n",
       "  284.0,\n",
       "  314.0,\n",
       "  329.0,\n",
       "  367.0,\n",
       "  369.0,\n",
       "  402.0,\n",
       "  402.0,\n",
       "  403.0,\n",
       "  375.0,\n",
       "  414.0,\n",
       "  455.0,\n",
       "  459.0,\n",
       "  468.0,\n",
       "  484.0,\n",
       "  490.0,\n",
       "  492.0,\n",
       "  490.0,\n",
       "  507.0,\n",
       "  506.0,\n",
       "  506.0,\n",
       "  511.0,\n",
       "  508.0,\n",
       "  513.0,\n",
       "  517.0,\n",
       "  514.0,\n",
       "  513.0,\n",
       "  515.0,\n",
       "  514.0,\n",
       "  521.0,\n",
       "  516.0,\n",
       "  519.0,\n",
       "  515.0,\n",
       "  518.0,\n",
       "  523.0,\n",
       "  516.0,\n",
       "  515.0,\n",
       "  519.0,\n",
       "  522.0,\n",
       "  514.0,\n",
       "  519.0,\n",
       "  518.0,\n",
       "  517.0,\n",
       "  520.0,\n",
       "  511.0,\n",
       "  522.0,\n",
       "  520.0,\n",
       "  513.0,\n",
       "  521.0,\n",
       "  520.0,\n",
       "  514.0,\n",
       "  517.0,\n",
       "  520.0,\n",
       "  521.0,\n",
       "  517.0,\n",
       "  517.0,\n",
       "  522.0,\n",
       "  518.0,\n",
       "  518.0,\n",
       "  517.0,\n",
       "  516.0,\n",
       "  515.0,\n",
       "  521.0,\n",
       "  520.0,\n",
       "  516.0,\n",
       "  519.0,\n",
       "  521.0],\n",
       " 'val_accuracy': [0.983506977558136,\n",
       "  0.9828559160232544,\n",
       "  0.9830729365348816,\n",
       "  0.983506977558136,\n",
       "  0.984375,\n",
       "  0.9828559160232544,\n",
       "  0.9809027910232544,\n",
       "  0.9724392294883728,\n",
       "  0.9563801884651184,\n",
       "  0.9396701455116272,\n",
       "  0.9069010615348816,\n",
       "  0.8849826455116272,\n",
       "  0.873046875,\n",
       "  0.8559027910232544,\n",
       "  0.8368055820465088,\n",
       "  0.84375,\n",
       "  0.8279079794883728,\n",
       "  0.8276909589767456,\n",
       "  0.8192274570465088,\n",
       "  0.8179253339767456,\n",
       "  0.01714409701526165,\n",
       "  0.717881977558136,\n",
       "  0.7582465410232544,\n",
       "  0.6701388955116272,\n",
       "  0.7517361044883728,\n",
       "  0.7417534589767456,\n",
       "  0.7701823115348816,\n",
       "  0.82421875,\n",
       "  0.9264323115348816,\n",
       "  0.9075520634651184,\n",
       "  0.9585503339767456,\n",
       "  0.9518229365348816,\n",
       "  0.8999565839767456,\n",
       "  0.9520399570465088,\n",
       "  0.966796875,\n",
       "  0.955078125,\n",
       "  0.9611545205116272,\n",
       "  0.958984375,\n",
       "  0.9526909589767456,\n",
       "  0.9546440839767456,\n",
       "  0.9526909589767456,\n",
       "  0.9574652910232544,\n",
       "  0.9552951455116272,\n",
       "  0.9626736044883728,\n",
       "  0.96484375,\n",
       "  0.9646267294883728,\n",
       "  0.966796875,\n",
       "  0.9652777910232544,\n",
       "  0.9637587070465088,\n",
       "  0.967881977558136,\n",
       "  0.9685329794883728,\n",
       "  0.9674479365348816,\n",
       "  0.96875,\n",
       "  0.966796875,\n",
       "  0.9722222089767456,\n",
       "  0.9674479365348816,\n",
       "  0.9715712070465088,\n",
       "  0.9685329794883728,\n",
       "  0.9694010615348816,\n",
       "  0.9711371660232544,\n",
       "  0.9702690839767456,\n",
       "  0.9689670205116272,\n",
       "  0.9700520634651184,\n",
       "  0.9711371660232544,\n",
       "  0.96875,\n",
       "  0.9694010615348816,\n",
       "  0.9674479365348816,\n",
       "  0.9676649570465088,\n",
       "  0.9704861044883728,\n",
       "  0.9685329794883728,\n",
       "  0.9704861044883728,\n",
       "  0.970703125,\n",
       "  0.9674479365348816,\n",
       "  0.9685329794883728,\n",
       "  0.9685329794883728,\n",
       "  0.9694010615348816,\n",
       "  0.9689670205116272,\n",
       "  0.9711371660232544],\n",
       " 'val_auc': [0.45350757241249084,\n",
       "  0.535876989364624,\n",
       "  0.638850748538971,\n",
       "  0.6854313611984253,\n",
       "  0.7360880374908447,\n",
       "  0.7467641830444336,\n",
       "  0.7556658983230591,\n",
       "  0.7720509767532349,\n",
       "  0.7926416397094727,\n",
       "  0.7888264060020447,\n",
       "  0.7998244762420654,\n",
       "  0.8120051026344299,\n",
       "  0.8015639781951904,\n",
       "  0.8099295496940613,\n",
       "  0.8006721138954163,\n",
       "  0.8108494281768799,\n",
       "  0.8111193776130676,\n",
       "  0.8169153928756714,\n",
       "  0.8283918499946594,\n",
       "  0.8133184909820557,\n",
       "  0.4999999701976776,\n",
       "  0.5868720412254333,\n",
       "  0.8796669840812683,\n",
       "  0.9031000137329102,\n",
       "  0.896430492401123,\n",
       "  0.8668286800384521,\n",
       "  0.8447480201721191,\n",
       "  0.9125285744667053,\n",
       "  0.9046441316604614,\n",
       "  0.8963450789451599,\n",
       "  0.8883322477340698,\n",
       "  0.8869147896766663,\n",
       "  0.8966181874275208,\n",
       "  0.8580929636955261,\n",
       "  0.8640981316566467,\n",
       "  0.8779410123825073,\n",
       "  0.8855634927749634,\n",
       "  0.8760047554969788,\n",
       "  0.875272274017334,\n",
       "  0.8877497911453247,\n",
       "  0.8791645169258118,\n",
       "  0.8821339011192322,\n",
       "  0.8714819550514221,\n",
       "  0.8461140990257263,\n",
       "  0.856558620929718,\n",
       "  0.8347184658050537,\n",
       "  0.8287752270698547,\n",
       "  0.8479140996932983,\n",
       "  0.863922119140625,\n",
       "  0.8278813362121582,\n",
       "  0.8164878487586975,\n",
       "  0.8195076584815979,\n",
       "  0.8162647485733032,\n",
       "  0.8226031064987183,\n",
       "  0.8156551122665405,\n",
       "  0.8261673450469971,\n",
       "  0.8434321284294128,\n",
       "  0.8257454633712769,\n",
       "  0.8204238414764404,\n",
       "  0.8118149042129517,\n",
       "  0.8081967830657959,\n",
       "  0.8065693974494934,\n",
       "  0.8155403733253479,\n",
       "  0.8116037845611572,\n",
       "  0.8043337464332581,\n",
       "  0.804466962814331,\n",
       "  0.8247188329696655,\n",
       "  0.8115435838699341,\n",
       "  0.8113117814064026,\n",
       "  0.8167161345481873,\n",
       "  0.8155514001846313,\n",
       "  0.8228909373283386,\n",
       "  0.8104325532913208,\n",
       "  0.8023794889450073,\n",
       "  0.8107154965400696,\n",
       "  0.7955958247184753,\n",
       "  0.8053008317947388,\n",
       "  0.8087882399559021],\n",
       " 'val_fn': [76.0,\n",
       "  79.0,\n",
       "  78.0,\n",
       "  76.0,\n",
       "  72.0,\n",
       "  79.0,\n",
       "  76.0,\n",
       "  71.0,\n",
       "  67.0,\n",
       "  58.0,\n",
       "  55.0,\n",
       "  45.0,\n",
       "  41.0,\n",
       "  38.0,\n",
       "  37.0,\n",
       "  36.0,\n",
       "  34.0,\n",
       "  34.0,\n",
       "  28.0,\n",
       "  32.0,\n",
       "  0.0,\n",
       "  54.0,\n",
       "  11.0,\n",
       "  4.0,\n",
       "  9.0,\n",
       "  12.0,\n",
       "  18.0,\n",
       "  8.0,\n",
       "  35.0,\n",
       "  31.0,\n",
       "  49.0,\n",
       "  38.0,\n",
       "  23.0,\n",
       "  42.0,\n",
       "  54.0,\n",
       "  45.0,\n",
       "  44.0,\n",
       "  51.0,\n",
       "  39.0,\n",
       "  45.0,\n",
       "  44.0,\n",
       "  47.0,\n",
       "  46.0,\n",
       "  49.0,\n",
       "  53.0,\n",
       "  52.0,\n",
       "  53.0,\n",
       "  51.0,\n",
       "  51.0,\n",
       "  53.0,\n",
       "  61.0,\n",
       "  50.0,\n",
       "  52.0,\n",
       "  54.0,\n",
       "  54.0,\n",
       "  59.0,\n",
       "  52.0,\n",
       "  56.0,\n",
       "  55.0,\n",
       "  55.0,\n",
       "  58.0,\n",
       "  55.0,\n",
       "  56.0,\n",
       "  55.0,\n",
       "  57.0,\n",
       "  57.0,\n",
       "  59.0,\n",
       "  59.0,\n",
       "  56.0,\n",
       "  56.0,\n",
       "  55.0,\n",
       "  56.0,\n",
       "  59.0,\n",
       "  58.0,\n",
       "  60.0,\n",
       "  57.0,\n",
       "  59.0,\n",
       "  55.0],\n",
       " 'val_loss': [0.11762729287147522,\n",
       "  0.1146450862288475,\n",
       "  0.11219925433397293,\n",
       "  0.11512234807014465,\n",
       "  0.11884020268917084,\n",
       "  0.13328459858894348,\n",
       "  0.1482105702161789,\n",
       "  0.1702239215373993,\n",
       "  0.19225740432739258,\n",
       "  0.21976564824581146,\n",
       "  0.25445929169654846,\n",
       "  0.28259578347206116,\n",
       "  0.30441728234291077,\n",
       "  0.32497638463974,\n",
       "  0.3432631492614746,\n",
       "  0.34788239002227783,\n",
       "  0.3642245829105377,\n",
       "  0.3722778856754303,\n",
       "  0.38084864616394043,\n",
       "  0.38436827063560486,\n",
       "  1932.3817138671875,\n",
       "  11.677468299865723,\n",
       "  1.035273790359497,\n",
       "  0.7628279328346252,\n",
       "  0.6180583238601685,\n",
       "  0.5423315167427063,\n",
       "  2.4343020915985107,\n",
       "  0.5917662382125854,\n",
       "  0.2763868570327759,\n",
       "  0.252053439617157,\n",
       "  0.14380709826946259,\n",
       "  0.1596309393644333,\n",
       "  0.31985318660736084,\n",
       "  0.1721470206975937,\n",
       "  0.13800296187400818,\n",
       "  0.17465181648731232,\n",
       "  0.16368146240711212,\n",
       "  0.16561920940876007,\n",
       "  0.1700645089149475,\n",
       "  0.1793329119682312,\n",
       "  0.18329675495624542,\n",
       "  0.1817638874053955,\n",
       "  0.18109522759914398,\n",
       "  0.15341231226921082,\n",
       "  0.14575204253196716,\n",
       "  0.14638188481330872,\n",
       "  0.14950132369995117,\n",
       "  0.1567063182592392,\n",
       "  0.16252653300762177,\n",
       "  0.15649062395095825,\n",
       "  0.14237117767333984,\n",
       "  0.16222885251045227,\n",
       "  0.15102097392082214,\n",
       "  0.14738453924655914,\n",
       "  0.14395369589328766,\n",
       "  0.14807617664337158,\n",
       "  0.12897522747516632,\n",
       "  0.15391656756401062,\n",
       "  0.16071173548698425,\n",
       "  0.14118152856826782,\n",
       "  0.143911674618721,\n",
       "  0.15044261515140533,\n",
       "  0.1585485190153122,\n",
       "  0.1440676599740982,\n",
       "  0.1496514230966568,\n",
       "  0.15781614184379578,\n",
       "  0.15898722410202026,\n",
       "  0.15407676994800568,\n",
       "  0.14411580562591553,\n",
       "  0.1528085172176361,\n",
       "  0.16217029094696045,\n",
       "  0.15528114140033722,\n",
       "  0.15533024072647095,\n",
       "  0.15302929282188416,\n",
       "  0.1382017433643341,\n",
       "  0.15371210873126984,\n",
       "  0.15618181228637695,\n",
       "  0.14990174770355225],\n",
       " 'val_tp': [0.0,\n",
       "  0.0,\n",
       "  0.0,\n",
       "  0.0,\n",
       "  0.0,\n",
       "  0.0,\n",
       "  1.0,\n",
       "  7.0,\n",
       "  13.0,\n",
       "  21.0,\n",
       "  23.0,\n",
       "  30.0,\n",
       "  39.0,\n",
       "  41.0,\n",
       "  36.0,\n",
       "  40.0,\n",
       "  43.0,\n",
       "  45.0,\n",
       "  50.0,\n",
       "  44.0,\n",
       "  79.0,\n",
       "  28.0,\n",
       "  68.0,\n",
       "  72.0,\n",
       "  68.0,\n",
       "  67.0,\n",
       "  62.0,\n",
       "  69.0,\n",
       "  44.0,\n",
       "  44.0,\n",
       "  31.0,\n",
       "  42.0,\n",
       "  54.0,\n",
       "  31.0,\n",
       "  24.0,\n",
       "  37.0,\n",
       "  36.0,\n",
       "  27.0,\n",
       "  33.0,\n",
       "  35.0,\n",
       "  33.0,\n",
       "  30.0,\n",
       "  35.0,\n",
       "  29.0,\n",
       "  25.0,\n",
       "  22.0,\n",
       "  28.0,\n",
       "  27.0,\n",
       "  25.0,\n",
       "  22.0,\n",
       "  20.0,\n",
       "  23.0,\n",
       "  26.0,\n",
       "  23.0,\n",
       "  23.0,\n",
       "  19.0,\n",
       "  22.0,\n",
       "  24.0,\n",
       "  19.0,\n",
       "  21.0,\n",
       "  21.0,\n",
       "  20.0,\n",
       "  22.0,\n",
       "  22.0,\n",
       "  20.0,\n",
       "  22.0,\n",
       "  15.0,\n",
       "  22.0,\n",
       "  24.0,\n",
       "  22.0,\n",
       "  24.0,\n",
       "  20.0,\n",
       "  21.0,\n",
       "  23.0,\n",
       "  20.0,\n",
       "  22.0,\n",
       "  18.0,\n",
       "  19.0]}"
      ]
     },
     "execution_count": 34,
     "metadata": {
      "tags": []
     },
     "output_type": "execute_result"
    }
   ],
   "source": [
    "history.history"
   ]
  },
  {
   "cell_type": "code",
   "execution_count": 35,
   "metadata": {
    "colab": {},
    "colab_type": "code",
    "execution": {
     "iopub.execute_input": "2020-08-13T07:31:10.040493Z",
     "iopub.status.busy": "2020-08-13T07:31:10.030226Z",
     "iopub.status.idle": "2020-08-13T07:31:18.654159Z",
     "shell.execute_reply": "2020-08-13T07:31:18.653273Z"
    },
    "id": "o7yVr2nm53zr",
    "papermill": {
     "duration": 8.731854,
     "end_time": "2020-08-13T07:31:18.654296",
     "exception": false,
     "start_time": "2020-08-13T07:31:09.922442",
     "status": "completed"
    },
    "tags": []
   },
   "outputs": [],
   "source": [
    "model.save('model.h5')"
   ]
  },
  {
   "cell_type": "code",
   "execution_count": null,
   "metadata": {
    "colab": {},
    "colab_type": "code",
    "id": "vtNz6R2G53zz",
    "papermill": {
     "duration": 0.093693,
     "end_time": "2020-08-13T07:31:44.736930",
     "exception": false,
     "start_time": "2020-08-13T07:31:44.643237",
     "status": "completed"
    },
    "tags": []
   },
   "outputs": [],
   "source": []
  }
 ],
 "metadata": {
  "accelerator": "TPU",
  "colab": {
   "name": "kernel7a13774f7c (2).ipynb",
   "provenance": [],
   "toc_visible": true
  },
  "kernelspec": {
   "display_name": "Python 3",
   "language": "python",
   "name": "python3"
  },
  "language_info": {
   "codemirror_mode": {
    "name": "ipython",
    "version": 3
   },
   "file_extension": ".py",
   "mimetype": "text/x-python",
   "name": "python",
   "nbconvert_exporter": "python",
   "pygments_lexer": "ipython3",
   "version": "3.7.3"
  },
  "papermill": {
   "duration": 1378.820296,
   "end_time": "2020-08-13T07:31:45.042589",
   "environment_variables": {},
   "exception": null,
   "input_path": "__notebook__.ipynb",
   "output_path": "__notebook__.ipynb",
   "parameters": {},
   "start_time": "2020-08-13T07:08:46.222293",
   "version": "2.1.0"
  }
 },
 "nbformat": 4,
 "nbformat_minor": 1
}
