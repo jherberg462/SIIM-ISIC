{
 "cells": [
  {
   "cell_type": "code",
   "execution_count": 1,
   "metadata": {
    "_cell_guid": "b1076dfc-b9ad-4769-8c92-a6c4dae69d19",
    "_uuid": "8f2839f25d086af736a60e9eeb907d3b93b6e0e5",
    "execution": {
     "iopub.execute_input": "2020-08-16T07:54:37.233092Z",
     "iopub.status.busy": "2020-08-16T07:54:37.232293Z",
     "iopub.status.idle": "2020-08-16T07:54:46.749050Z",
     "shell.execute_reply": "2020-08-16T07:54:46.748323Z"
    },
    "id": "PF6_qaQlLMfX",
    "papermill": {
     "duration": 9.548039,
     "end_time": "2020-08-16T07:54:46.749214",
     "exception": false,
     "start_time": "2020-08-16T07:54:37.201175",
     "status": "completed"
    },
    "tags": []
   },
   "outputs": [
    {
     "name": "stdout",
     "output_type": "stream",
     "text": [
      "Collecting fsspec\r\n",
      "  Downloading fsspec-0.8.0-py3-none-any.whl (85 kB)\r\n",
      "\u001b[K     |████████████████████████████████| 85 kB 894 kB/s \r\n",
      "\u001b[?25hInstalling collected packages: fsspec\r\n",
      "  Attempting uninstall: fsspec\r\n",
      "    Found existing installation: fsspec 0.7.2\r\n",
      "    Uninstalling fsspec-0.7.2:\r\n",
      "      Successfully uninstalled fsspec-0.7.2\r\n",
      "Successfully installed fsspec-0.8.0\r\n",
      "\u001b[33mWARNING: You are using pip version 20.1.1; however, version 20.2.2 is available.\r\n",
      "You should consider upgrading via the '/opt/conda/bin/python3.7 -m pip install --upgrade pip' command.\u001b[0m\r\n"
     ]
    }
   ],
   "source": [
    "!pip install fsspec --upgrade\n"
   ]
  },
  {
   "cell_type": "code",
   "execution_count": 2,
   "metadata": {
    "execution": {
     "iopub.execute_input": "2020-08-16T07:54:46.814608Z",
     "iopub.status.busy": "2020-08-16T07:54:46.813544Z",
     "iopub.status.idle": "2020-08-16T07:54:55.327991Z",
     "shell.execute_reply": "2020-08-16T07:54:55.327136Z"
    },
    "id": "GS3hpqThLMfd",
    "papermill": {
     "duration": 8.549969,
     "end_time": "2020-08-16T07:54:55.328151",
     "exception": false,
     "start_time": "2020-08-16T07:54:46.778182",
     "status": "completed"
    },
    "tags": []
   },
   "outputs": [
    {
     "name": "stdout",
     "output_type": "stream",
     "text": [
      "got GCS path via KaggleDatasets .get_gcs_path method\n"
     ]
    }
   ],
   "source": [
    "import numpy as np # linear algebra\n",
    "import pandas as pd # data processing, CSV file I/O (e.g. pd.read_csv)\n",
    "\n",
    "\n",
    "import os\n",
    "\n",
    "import tensorflow as tf\n",
    "from tensorflow.keras import layers \n",
    "from tensorflow import keras\n",
    "import tensorflow_hub as hub\n",
    "from sklearn.model_selection import train_test_split\n",
    "from matplotlib import pyplot as plt\n",
    "\n",
    "try:\n",
    "    from kaggle_datasets import KaggleDatasets\n",
    "    dataset_gcs = KaggleDatasets().get_gcs_path('siim-isic-melanoma-classification')\n",
    "    print('got GCS path via KaggleDatasets .get_gcs_path method')\n",
    "except ModuleNotFoundError:\n",
    "    #hardcode path while testing locally\n",
    "    dataset_gcs = 'gs://'\n"
   ]
  },
  {
   "cell_type": "code",
   "execution_count": 3,
   "metadata": {
    "_cell_guid": "79c7e3d0-c299-4dcb-8224-4455121ee9b0",
    "_uuid": "d629ff2d2480ee46fbb7e2d37f6b5fab8052498a",
    "execution": {
     "iopub.execute_input": "2020-08-16T07:54:55.391332Z",
     "iopub.status.busy": "2020-08-16T07:54:55.390278Z",
     "iopub.status.idle": "2020-08-16T07:54:55.394127Z",
     "shell.execute_reply": "2020-08-16T07:54:55.394706Z"
    },
    "id": "5-hPqmwDLMfh",
    "outputId": "84a28cbb-4263-4ea8-dab4-a09b1aea5e77",
    "papermill": {
     "duration": 0.038695,
     "end_time": "2020-08-16T07:54:55.394895",
     "exception": false,
     "start_time": "2020-08-16T07:54:55.356200",
     "status": "completed"
    },
    "tags": []
   },
   "outputs": [
    {
     "data": {
      "text/plain": [
       "'2.2.0'"
      ]
     },
     "execution_count": 3,
     "metadata": {},
     "output_type": "execute_result"
    }
   ],
   "source": [
    "tf.__version__\n"
   ]
  },
  {
   "cell_type": "code",
   "execution_count": 4,
   "metadata": {
    "execution": {
     "iopub.execute_input": "2020-08-16T07:54:55.457045Z",
     "iopub.status.busy": "2020-08-16T07:54:55.456286Z",
     "iopub.status.idle": "2020-08-16T07:54:55.459293Z",
     "shell.execute_reply": "2020-08-16T07:54:55.458709Z"
    },
    "id": "aTNSywU3LMfk",
    "papermill": {
     "duration": 0.036176,
     "end_time": "2020-08-16T07:54:55.459463",
     "exception": false,
     "start_time": "2020-08-16T07:54:55.423287",
     "status": "completed"
    },
    "tags": []
   },
   "outputs": [],
   "source": [
    "params = {\n",
    "    'batch_size' : 128,\n",
    "    'img_size' : [299, 299],\n",
    "    'epochs': 350\n",
    "}\n"
   ]
  },
  {
   "cell_type": "code",
   "execution_count": 5,
   "metadata": {
    "execution": {
     "iopub.execute_input": "2020-08-16T07:54:55.611544Z",
     "iopub.status.busy": "2020-08-16T07:54:55.610468Z",
     "iopub.status.idle": "2020-08-16T07:54:59.719477Z",
     "shell.execute_reply": "2020-08-16T07:54:59.718686Z"
    },
    "id": "dQ4ru6rMLMfm",
    "outputId": "f3a1204a-6467-4474-91ab-a0b851783d25",
    "papermill": {
     "duration": 4.232478,
     "end_time": "2020-08-16T07:54:59.719605",
     "exception": false,
     "start_time": "2020-08-16T07:54:55.487127",
     "status": "completed"
    },
    "tags": []
   },
   "outputs": [
    {
     "name": "stdout",
     "output_type": "stream",
     "text": [
      "Running on TPU  grpc://10.0.0.2:8470\n",
      "REPLICAS:  8\n"
     ]
    }
   ],
   "source": [
    "try:\n",
    "    # TPU detection. No parameters necessary if TPU_NAME environment variable is\n",
    "    # set: this is always the case on Kaggle.\n",
    "    tpu = tf.distribute.cluster_resolver.TPUClusterResolver()\n",
    "    print('Running on TPU ', tpu.master())\n",
    "except ValueError:\n",
    "    tpu = None\n",
    "\n",
    "if tpu:\n",
    "    tf.config.experimental_connect_to_cluster(tpu)\n",
    "    tf.tpu.experimental.initialize_tpu_system(tpu)\n",
    "    strategy = tf.distribute.experimental.TPUStrategy(tpu)\n",
    "else:\n",
    "    # Default distribution strategy in Tensorflow. Works on CPU and single GPU.\n",
    "    strategy = tf.distribute.get_strategy()\n",
    "\n",
    "print(\"REPLICAS: \", strategy.num_replicas_in_sync)"
   ]
  },
  {
   "cell_type": "code",
   "execution_count": 6,
   "metadata": {
    "execution": {
     "iopub.execute_input": "2020-08-16T07:54:59.783281Z",
     "iopub.status.busy": "2020-08-16T07:54:59.782448Z",
     "iopub.status.idle": "2020-08-16T07:54:59.785976Z",
     "shell.execute_reply": "2020-08-16T07:54:59.785333Z"
    },
    "id": "Z0DRQE47LMfp",
    "papermill": {
     "duration": 0.037452,
     "end_time": "2020-08-16T07:54:59.786123",
     "exception": false,
     "start_time": "2020-08-16T07:54:59.748671",
     "status": "completed"
    },
    "tags": []
   },
   "outputs": [],
   "source": [
    "params['batch_size'] = params['batch_size'] * strategy.num_replicas_in_sync"
   ]
  },
  {
   "cell_type": "code",
   "execution_count": 7,
   "metadata": {
    "execution": {
     "iopub.execute_input": "2020-08-16T07:54:59.856309Z",
     "iopub.status.busy": "2020-08-16T07:54:59.849223Z",
     "iopub.status.idle": "2020-08-16T07:55:07.485458Z",
     "shell.execute_reply": "2020-08-16T07:55:07.484743Z"
    },
    "id": "GWzXMYZyLMfs",
    "outputId": "35d3148d-5b0a-4490-93df-858b2272bc90",
    "papermill": {
     "duration": 7.670348,
     "end_time": "2020-08-16T07:55:07.485598",
     "exception": false,
     "start_time": "2020-08-16T07:54:59.815250",
     "status": "completed"
    },
    "tags": []
   },
   "outputs": [
    {
     "name": "stdout",
     "output_type": "stream",
     "text": [
      "Requirement already satisfied: gcsfs in /opt/conda/lib/python3.7/site-packages (0.6.1)\r\n",
      "Requirement already satisfied: fsspec>=0.6.0 in /opt/conda/lib/python3.7/site-packages (from gcsfs) (0.8.0)\r\n",
      "Requirement already satisfied: requests in /opt/conda/lib/python3.7/site-packages (from gcsfs) (2.23.0)\r\n",
      "Requirement already satisfied: decorator in /opt/conda/lib/python3.7/site-packages (from gcsfs) (4.4.2)\r\n",
      "Requirement already satisfied: google-auth-oauthlib in /opt/conda/lib/python3.7/site-packages (from gcsfs) (0.4.1)\r\n",
      "Requirement already satisfied: google-auth>=1.2 in /opt/conda/lib/python3.7/site-packages (from gcsfs) (1.14.0)\r\n",
      "Requirement already satisfied: idna<3,>=2.5 in /opt/conda/lib/python3.7/site-packages (from requests->gcsfs) (2.9)\r\n",
      "Requirement already satisfied: certifi>=2017.4.17 in /opt/conda/lib/python3.7/site-packages (from requests->gcsfs) (2020.6.20)\r\n",
      "Requirement already satisfied: urllib3!=1.25.0,!=1.25.1,<1.26,>=1.21.1 in /opt/conda/lib/python3.7/site-packages (from requests->gcsfs) (1.24.3)\r\n",
      "Requirement already satisfied: chardet<4,>=3.0.2 in /opt/conda/lib/python3.7/site-packages (from requests->gcsfs) (3.0.4)\r\n",
      "Requirement already satisfied: requests-oauthlib>=0.7.0 in /opt/conda/lib/python3.7/site-packages (from google-auth-oauthlib->gcsfs) (1.2.0)\r\n",
      "Requirement already satisfied: rsa<4.1,>=3.1.4 in /opt/conda/lib/python3.7/site-packages (from google-auth>=1.2->gcsfs) (4.0)\r\n",
      "Requirement already satisfied: cachetools<5.0,>=2.0.0 in /opt/conda/lib/python3.7/site-packages (from google-auth>=1.2->gcsfs) (3.1.1)\r\n",
      "Requirement already satisfied: setuptools>=40.3.0 in /opt/conda/lib/python3.7/site-packages (from google-auth>=1.2->gcsfs) (46.1.3.post20200325)\r\n",
      "Requirement already satisfied: pyasn1-modules>=0.2.1 in /opt/conda/lib/python3.7/site-packages (from google-auth>=1.2->gcsfs) (0.2.7)\r\n",
      "Requirement already satisfied: six>=1.9.0 in /opt/conda/lib/python3.7/site-packages (from google-auth>=1.2->gcsfs) (1.14.0)\r\n",
      "Requirement already satisfied: oauthlib>=3.0.0 in /opt/conda/lib/python3.7/site-packages (from requests-oauthlib>=0.7.0->google-auth-oauthlib->gcsfs) (3.0.1)\r\n",
      "Requirement already satisfied: pyasn1>=0.1.3 in /opt/conda/lib/python3.7/site-packages (from rsa<4.1,>=3.1.4->google-auth>=1.2->gcsfs) (0.4.8)\r\n",
      "\u001b[33mWARNING: You are using pip version 20.1.1; however, version 20.2.2 is available.\r\n",
      "You should consider upgrading via the '/opt/conda/bin/python3.7 -m pip install --upgrade pip' command.\u001b[0m\r\n"
     ]
    }
   ],
   "source": [
    "# sub = pd.read_csv(dataset_gcs + '/sample_submission.csv')\n",
    "# sub.head(1)\n",
    "!pip install gcsfs"
   ]
  },
  {
   "cell_type": "code",
   "execution_count": 8,
   "metadata": {
    "execution": {
     "iopub.execute_input": "2020-08-16T07:55:07.553061Z",
     "iopub.status.busy": "2020-08-16T07:55:07.552320Z",
     "iopub.status.idle": "2020-08-16T07:55:16.929549Z",
     "shell.execute_reply": "2020-08-16T07:55:16.928795Z"
    },
    "id": "UeRPDwBrLMfu",
    "outputId": "832ac74b-3ecd-4a3d-92df-5ceb3122f397",
    "papermill": {
     "duration": 9.413724,
     "end_time": "2020-08-16T07:55:16.929670",
     "exception": false,
     "start_time": "2020-08-16T07:55:07.515946",
     "status": "completed"
    },
    "tags": []
   },
   "outputs": [
    {
     "data": {
      "text/html": [
       "<div>\n",
       "<style scoped>\n",
       "    .dataframe tbody tr th:only-of-type {\n",
       "        vertical-align: middle;\n",
       "    }\n",
       "\n",
       "    .dataframe tbody tr th {\n",
       "        vertical-align: top;\n",
       "    }\n",
       "\n",
       "    .dataframe thead th {\n",
       "        text-align: right;\n",
       "    }\n",
       "</style>\n",
       "<table border=\"1\" class=\"dataframe\">\n",
       "  <thead>\n",
       "    <tr style=\"text-align: right;\">\n",
       "      <th></th>\n",
       "      <th>image_name</th>\n",
       "      <th>patient_id</th>\n",
       "      <th>sex</th>\n",
       "      <th>age_approx</th>\n",
       "      <th>anatom_site_general_challenge</th>\n",
       "      <th>diagnosis</th>\n",
       "      <th>benign_malignant</th>\n",
       "    </tr>\n",
       "    <tr>\n",
       "      <th>target</th>\n",
       "      <th></th>\n",
       "      <th></th>\n",
       "      <th></th>\n",
       "      <th></th>\n",
       "      <th></th>\n",
       "      <th></th>\n",
       "      <th></th>\n",
       "    </tr>\n",
       "  </thead>\n",
       "  <tbody>\n",
       "    <tr>\n",
       "      <th>0</th>\n",
       "      <td>32542</td>\n",
       "      <td>32542</td>\n",
       "      <td>32477</td>\n",
       "      <td>32474</td>\n",
       "      <td>32024</td>\n",
       "      <td>32542</td>\n",
       "      <td>32542</td>\n",
       "    </tr>\n",
       "    <tr>\n",
       "      <th>1</th>\n",
       "      <td>584</td>\n",
       "      <td>584</td>\n",
       "      <td>584</td>\n",
       "      <td>584</td>\n",
       "      <td>575</td>\n",
       "      <td>584</td>\n",
       "      <td>584</td>\n",
       "    </tr>\n",
       "  </tbody>\n",
       "</table>\n",
       "</div>"
      ],
      "text/plain": [
       "        image_name  patient_id    sex  age_approx  \\\n",
       "target                                              \n",
       "0            32542       32542  32477       32474   \n",
       "1              584         584    584         584   \n",
       "\n",
       "        anatom_site_general_challenge  diagnosis  benign_malignant  \n",
       "target                                                              \n",
       "0                               32024      32542             32542  \n",
       "1                                 575        584               584  "
      ]
     },
     "execution_count": 8,
     "metadata": {},
     "output_type": "execute_result"
    }
   ],
   "source": [
    "train_df = pd.read_csv(dataset_gcs + '/train.csv')\n",
    "train_df.groupby('target').count() "
   ]
  },
  {
   "cell_type": "code",
   "execution_count": 9,
   "metadata": {
    "execution": {
     "iopub.execute_input": "2020-08-16T07:55:17.004859Z",
     "iopub.status.busy": "2020-08-16T07:55:17.003898Z",
     "iopub.status.idle": "2020-08-16T07:55:17.007598Z",
     "shell.execute_reply": "2020-08-16T07:55:17.006999Z"
    },
    "id": "3QB0P3M8LMfw",
    "papermill": {
     "duration": 0.04555,
     "end_time": "2020-08-16T07:55:17.007733",
     "exception": false,
     "start_time": "2020-08-16T07:55:16.962183",
     "status": "completed"
    },
    "tags": []
   },
   "outputs": [],
   "source": [
    "def decode_image_label(tfrec):\n",
    "    '''\n",
    "    function to decode an image and target label from tfrecord\n",
    "    \n",
    "    args:\n",
    "        tfrec: tfrecord, single record of training/validation data\n",
    "    \n",
    "    returns:\n",
    "        decoded_image: tensor, converted image from tfrecord\n",
    "        label: tensor, integer, either 1 or 0\n",
    "    \n",
    "    '''\n",
    "    \n",
    "    features_dictionary = {\n",
    "        'image': tf.io.FixedLenFeature([], tf.string),\n",
    "        \"target\": tf.io.FixedLenFeature([], tf.int64)\n",
    "        }\n",
    "    features = tf.io.parse_single_example(tfrec, features_dictionary)\n",
    "    decoded_image = tf.io.decode_jpeg(features['image'], 3)\n",
    "    decoded_image = tf.image.resize(decoded_image, params['img_size'])\n",
    "    label = features['target']\n",
    "    \n",
    "    return decoded_image, label\n",
    "    \n"
   ]
  },
  {
   "cell_type": "code",
   "execution_count": 10,
   "metadata": {
    "execution": {
     "iopub.execute_input": "2020-08-16T07:55:17.081918Z",
     "iopub.status.busy": "2020-08-16T07:55:17.080894Z",
     "iopub.status.idle": "2020-08-16T07:55:17.084130Z",
     "shell.execute_reply": "2020-08-16T07:55:17.083374Z"
    },
    "id": "KGXvzF6BLMfy",
    "papermill": {
     "duration": 0.04501,
     "end_time": "2020-08-16T07:55:17.084258",
     "exception": false,
     "start_time": "2020-08-16T07:55:17.039248",
     "status": "completed"
    },
    "tags": []
   },
   "outputs": [],
   "source": [
    "def decode_image(tfrec):\n",
    "    '''\n",
    "    function to decode an image from tfrecord\n",
    "    \n",
    "    args:\n",
    "        tfrec: tfrecord, single record of training/validation data\n",
    "    \n",
    "    returns:\n",
    "        decoded_image: tensor, converted image from tfrecord\n",
    "        img_name: tensor, string, Id of the decoded image\n",
    "    \n",
    "    '''\n",
    "    \n",
    "    features_dictionary = {\n",
    "        'image': tf.io.FixedLenFeature([], tf.string),\n",
    "        \"image_name\": tf.io.FixedLenFeature([], tf.string)\n",
    "        }\n",
    "    features = tf.io.parse_single_example(tfrec, features_dictionary)\n",
    "    decoded_image = tf.io.decode_jpeg(features['image'], 3)\n",
    "    decoded_image = tf.image.resize(decoded_image, params['img_size'])\n",
    "    img_name = features['image_name']\n",
    "    \n",
    "    return decoded_image, img_name"
   ]
  },
  {
   "cell_type": "code",
   "execution_count": 11,
   "metadata": {
    "execution": {
     "iopub.execute_input": "2020-08-16T07:55:17.155926Z",
     "iopub.status.busy": "2020-08-16T07:55:17.154817Z",
     "iopub.status.idle": "2020-08-16T07:55:17.158453Z",
     "shell.execute_reply": "2020-08-16T07:55:17.157713Z"
    },
    "id": "1YjPx4SWLMfz",
    "papermill": {
     "duration": 0.042913,
     "end_time": "2020-08-16T07:55:17.158574",
     "exception": false,
     "start_time": "2020-08-16T07:55:17.115661",
     "status": "completed"
    },
    "tags": []
   },
   "outputs": [],
   "source": [
    "def normalize_image_label(decoded_image, label):\n",
    "    '''\n",
    "    function to convert an image tensor values from 0 to 255 \n",
    "    -> -1 to 1\n",
    "    to be used when dealing with tfrecords containing labels\n",
    "    \n",
    "    args:\n",
    "        decoded_image: tensor that is an image with values from 0 to 255\n",
    "        label: tensor, target label\n",
    "    \n",
    "    returns: \n",
    "        image_tensor: tensor that is an image with values from -1 to 1\n",
    "        label, same as input\n",
    "    \n",
    "    '''\n",
    "    \n",
    "    #add dim at the zero axis Shape will be from (x, y, z) -> (None, x, y, z)\n",
    "    image_tensor = tf.expand_dims(decoded_image, 0)\n",
    "    #undo the above line -- this is needed due to TF not allowing a filtered tensor py_function\n",
    "    image_tensor = tf.gather(image_tensor, 0)\n",
    "\n",
    "    #convert tensor values to between -1 and 1 (0 to 255 -> -1 to 1)\n",
    "    image_tensor = (tf.cast(image_tensor, tf.float32) - 127.5) / 127.5\n",
    "\n",
    "#     #convert tensor values to between 0 and 1 (0 to 255 -> 0 to 1)\n",
    "#     image_tensor = (tf.cast(image_tensor, tf.float32) /255.0 )\n",
    "\n",
    "    return image_tensor, label"
   ]
  },
  {
   "cell_type": "code",
   "execution_count": 12,
   "metadata": {
    "execution": {
     "iopub.execute_input": "2020-08-16T07:55:17.226482Z",
     "iopub.status.busy": "2020-08-16T07:55:17.225716Z",
     "iopub.status.idle": "2020-08-16T07:55:17.228827Z",
     "shell.execute_reply": "2020-08-16T07:55:17.229404Z"
    },
    "id": "VRTS4GnmLMf1",
    "papermill": {
     "duration": 0.040213,
     "end_time": "2020-08-16T07:55:17.229568",
     "exception": false,
     "start_time": "2020-08-16T07:55:17.189355",
     "status": "completed"
    },
    "tags": []
   },
   "outputs": [],
   "source": [
    "# def normalize_image(decoded_image): not used -- can be removed\n",
    "#     '''\n",
    "#     function to convert an image tensor values from 0 to 255 \n",
    "#     -> -1 to 1\n",
    "    \n",
    "#     args:\n",
    "#         decoded_image: tensor that is an image with values from 0 to 255\n",
    "    \n",
    "#     returns: \n",
    "#         image_tensor: tensor that is an image with values from -1 to 1\n",
    "    \n",
    "#     '''\n",
    "    \n",
    "#     #add dim at the zero axis Shape will be from (x, y, z) -> (None, x, y, z)\n",
    "#     image_tensor = tf.expand_dims(decoded_image, 0)\n",
    "#     #undo the above line -- this is needed due to TF not allowing a filtered tensor py_function\n",
    "#     image_tensor = tf.gather(image_tensor, 0)\n",
    "\n",
    "#     #convert tensor values to between -1 and 1 (0 to 255 -> -1 to 1)\n",
    "#     image_tensor = (tf.cast(image_tensor, tf.float32) - 127.5) / 127.5\n",
    "\n",
    "#     return image_tensor"
   ]
  },
  {
   "cell_type": "code",
   "execution_count": 13,
   "metadata": {
    "execution": {
     "iopub.execute_input": "2020-08-16T07:55:17.298579Z",
     "iopub.status.busy": "2020-08-16T07:55:17.297541Z",
     "iopub.status.idle": "2020-08-16T07:55:17.300778Z",
     "shell.execute_reply": "2020-08-16T07:55:17.300021Z"
    },
    "id": "mBBVpiTzLMf3",
    "papermill": {
     "duration": 0.040478,
     "end_time": "2020-08-16T07:55:17.300906",
     "exception": false,
     "start_time": "2020-08-16T07:55:17.260428",
     "status": "completed"
    },
    "tags": []
   },
   "outputs": [],
   "source": [
    "def random_flip(image, label):\n",
    "    '''\n",
    "    function to randomly flip images on the x and/or y axis\n",
    "    \n",
    "    args:\n",
    "        image: tensor, an image\n",
    "        label: tensor, target label\n",
    "    \n",
    "    returns: \n",
    "        image: tensor, same as input, but possibly flipped on x and/or y axis\n",
    "        label, tensor, same as input\n",
    "    '''\n",
    "    image = tf.image.random_flip_left_right(image)\n",
    "    image = tf.image.random_flip_up_down(image)\n",
    "    return image, label"
   ]
  },
  {
   "cell_type": "code",
   "execution_count": 14,
   "metadata": {
    "execution": {
     "iopub.execute_input": "2020-08-16T07:55:17.373359Z",
     "iopub.status.busy": "2020-08-16T07:55:17.372300Z",
     "iopub.status.idle": "2020-08-16T07:55:17.376155Z",
     "shell.execute_reply": "2020-08-16T07:55:17.375367Z"
    },
    "id": "q-n0QjpXLMf4",
    "papermill": {
     "duration": 0.044541,
     "end_time": "2020-08-16T07:55:17.376284",
     "exception": false,
     "start_time": "2020-08-16T07:55:17.331743",
     "status": "completed"
    },
    "tags": []
   },
   "outputs": [],
   "source": [
    "def get_train_ds(tfrecords, batch_size):\n",
    "    '''\n",
    "    function to create a ds pipeline from tfrecord files\n",
    "    \n",
    "    args:\n",
    "        tfrecords: list, tfrecord file paths\n",
    "        batch_size: int, batch size for number of records to pass into\n",
    "            model at a time\n",
    "    returns:\n",
    "        ds: tensorflow input pipeline with images and labels\n",
    "    '''\n",
    "    ds = (tf.data.TFRecordDataset(filenames=[tfrecords],\n",
    "                                 num_parallel_reads=tf.data.experimental.AUTOTUNE).\n",
    "          cache(). #need to remove cache while not usnig TPUs\n",
    "          map(decode_image_label, num_parallel_calls=tf.data.experimental.AUTOTUNE).\n",
    "          map(normalize_image_label, num_parallel_calls=tf.data.experimental.AUTOTUNE).\n",
    "          map(random_flip, num_parallel_calls=tf.data.experimental.AUTOTUNE).\n",
    "          repeat().\n",
    "          shuffle(512).\n",
    "          batch(batch_size,\n",
    "               drop_remainder=True).\n",
    "          prefetch(tf.data.experimental.AUTOTUNE)\n",
    "         )\n",
    "    \n",
    "\n",
    "    \n",
    "    return ds\n",
    "    "
   ]
  },
  {
   "cell_type": "code",
   "execution_count": 15,
   "metadata": {
    "execution": {
     "iopub.execute_input": "2020-08-16T07:55:17.447539Z",
     "iopub.status.busy": "2020-08-16T07:55:17.446477Z",
     "iopub.status.idle": "2020-08-16T07:55:17.450046Z",
     "shell.execute_reply": "2020-08-16T07:55:17.449409Z"
    },
    "id": "yqeQFaHrLMf6",
    "papermill": {
     "duration": 0.042755,
     "end_time": "2020-08-16T07:55:17.450174",
     "exception": false,
     "start_time": "2020-08-16T07:55:17.407419",
     "status": "completed"
    },
    "tags": []
   },
   "outputs": [],
   "source": [
    "def get_test_ds(tfrecords, batch_size):\n",
    "    '''\n",
    "    function to create a dataset for test data\n",
    "    args:\n",
    "        tfrecords: list, tfrecord file paths\n",
    "        batch_size: int, batch size for number of records to pass into\n",
    "            model at a time\n",
    "    returns:\n",
    "        ds: tensorflow input pipeline with images and labels\n",
    "    \n",
    "    '''\n",
    "\n",
    "    ds = (tf.data.TFRecordDataset(filenames=[tfrecords],\n",
    "                                 num_parallel_reads=tf.data.experimental.AUTOTUNE).\n",
    "#           cache(). #there is no reason to cache this ds -- it is only being read 1x\n",
    "          map(decode_image, num_parallel_calls=tf.data.experimental.AUTOTUNE).\n",
    "          map(normalize_image_label, num_parallel_calls=tf.data.experimental.AUTOTUNE).\n",
    "#           map(random_flip).\n",
    "          batch(batch_size).\n",
    "#                 drop_remainder=True).\n",
    "          prefetch(tf.data.experimental.AUTOTUNE)\n",
    "         )\n",
    "    \n",
    "    return ds\n",
    "    ###come back to this"
   ]
  },
  {
   "cell_type": "markdown",
   "metadata": {
    "id": "AmG0gCIVLMf8",
    "papermill": {
     "duration": 0.03039,
     "end_time": "2020-08-16T07:55:17.511254",
     "exception": false,
     "start_time": "2020-08-16T07:55:17.480864",
     "status": "completed"
    },
    "tags": []
   },
   "source": [
    "# model architecture"
   ]
  },
  {
   "cell_type": "code",
   "execution_count": 16,
   "metadata": {
    "execution": {
     "iopub.execute_input": "2020-08-16T07:55:17.585062Z",
     "iopub.status.busy": "2020-08-16T07:55:17.583940Z",
     "iopub.status.idle": "2020-08-16T07:55:17.587281Z",
     "shell.execute_reply": "2020-08-16T07:55:17.586647Z"
    },
    "id": "QO86yIWVLMf8",
    "papermill": {
     "duration": 0.045216,
     "end_time": "2020-08-16T07:55:17.587418",
     "exception": false,
     "start_time": "2020-08-16T07:55:17.542202",
     "status": "completed"
    },
    "tags": []
   },
   "outputs": [],
   "source": [
    "def set_of_layers(input_layer, \n",
    "                  filters_, \n",
    "                  kernal, \n",
    "                  strides_, \n",
    "                  dense=None, \n",
    "                  dense_activation=None,\n",
    "                  dropout=None,\n",
    "                  cnn_activation=None):\n",
    "    '''\n",
    "    function to add the following layers to a model:\n",
    "    Conv2D, MaxPooling2D, BatchNormalization, LeadyReLU, Dense,\n",
    "        Dropout\n",
    "\n",
    "    args:\n",
    "      input_layer : input layer to be fed into above layers\n",
    "      filters_: int, number of filters in Conv2D layer\n",
    "      kernal: int, kernal size in Conv2D layer\n",
    "      strides_: int, stride size in MaxPooling2D layer\n",
    "      dense: int, number of units in dense layer, default is None\n",
    "          Will only add layer if value is passed\n",
    "      dense_activation: str, activation function to pass into Dense layer\n",
    "          default is None\n",
    "      dropout: float, dropout percentage in Dropout layer, default is None\n",
    "        must be less than 1.0. Will only add layer if value is passed \n",
    "      cnn_activation: tensorflow activation layer, default is None\n",
    "          will only add layer is value is passed. Activation layer will be\n",
    "          added after the BatchNormalization layer\n",
    "\n",
    "    returns:\n",
    "      x: model that is the same as the input_layer input plus above \n",
    "        layers added\n",
    "        \n",
    "        \n",
    "    '''\n",
    "    \n",
    "\n",
    "    x = layers.Conv2D(filters_, (kernal, kernal), padding='same')(input_layer)\n",
    "    x = layers.MaxPooling2D(strides_, strides_)(x)\n",
    "    if cnn_activation:\n",
    "        x = cnn_activation(x) #s/b layers.Relu()\n",
    "    if dense:\n",
    "        x = layers.Dense(dense, activation=dense_activation)(x) #s/b none\n",
    "    if dropout:\n",
    "        x = layers.Dropout(dropout)(x) #s/b 0.5\n",
    "\n",
    "\n",
    "    return x\n",
    "\n"
   ]
  },
  {
   "cell_type": "code",
   "execution_count": 17,
   "metadata": {
    "execution": {
     "iopub.execute_input": "2020-08-16T07:55:17.659229Z",
     "iopub.status.busy": "2020-08-16T07:55:17.657739Z",
     "iopub.status.idle": "2020-08-16T07:55:17.662955Z",
     "shell.execute_reply": "2020-08-16T07:55:17.662317Z"
    },
    "id": "cwUPyepvLMf9",
    "papermill": {
     "duration": 0.044841,
     "end_time": "2020-08-16T07:55:17.663088",
     "exception": false,
     "start_time": "2020-08-16T07:55:17.618247",
     "status": "completed"
    },
    "tags": []
   },
   "outputs": [],
   "source": [
    "def deconv_set_of_layers(input_layer, \n",
    "                         filters_, \n",
    "                         kernal_, \n",
    "                         stride, \n",
    "                         dense=None, \n",
    "                         dense_activation=None, \n",
    "                         dropout=None,\n",
    "                         cnn_activation=None):\n",
    "    '''\n",
    "    function to add the following layers to a model:\n",
    "    Conv2DTranspose, BatchNormalization, LeadyReLU, Dense\n",
    "\n",
    "    args:\n",
    "      input_layer : input layer to be fed into above layers\n",
    "      filters_: int, number of filters in Conv2DTranspose layer\n",
    "      kernal_: int, kernal size in Conv2DTranspose layer\n",
    "      strides_: int, stride size in Conv2DTranspose layer\n",
    "      dense: int, number of units in dense layer, default is None\n",
    "          Will only add layer if value is passed\n",
    "      dense_activation: str, activation function to pass into Dense layer\n",
    "          default is None\n",
    "      dropout: float, dropout percentage in Dropout layer, default is None\n",
    "        must be less than 1.0. Will only add layer if value is passed \n",
    "      cnn_activation: tensorflow activation layer, default is None\n",
    "          will only add layer is value is passed. Activation layer will be\n",
    "          added after the BatchNormalization layer\n",
    "\n",
    "\n",
    "    returns:\n",
    "      x: model that is the same as the input_layer input plus above \n",
    "        layers added\n",
    "    '''\n",
    "    \n",
    "    x = layers.Conv2DTranspose(filters_,\n",
    "                              kernal_,\n",
    "                              (stride, stride),\n",
    "                              padding='same')(input_layer)\n",
    "    x = layers.BatchNormalization()(x)\n",
    "    if dense:\n",
    "        x = layers.Dense(dense, activation=dense_activation)(x) #s/b 16, tanh\n",
    "    if dropout:\n",
    "        x = layers.Dropout(dropout)(x) #s/b 0.5\n",
    "\n",
    "        \n",
    "    return x\n"
   ]
  },
  {
   "cell_type": "code",
   "execution_count": 18,
   "metadata": {
    "execution": {
     "iopub.execute_input": "2020-08-16T07:55:17.734637Z",
     "iopub.status.busy": "2020-08-16T07:55:17.733706Z",
     "iopub.status.idle": "2020-08-16T07:55:17.736886Z",
     "shell.execute_reply": "2020-08-16T07:55:17.736131Z"
    },
    "papermill": {
     "duration": 0.043107,
     "end_time": "2020-08-16T07:55:17.737012",
     "exception": false,
     "start_time": "2020-08-16T07:55:17.693905",
     "status": "completed"
    },
    "tags": []
   },
   "outputs": [],
   "source": [
    "def xfer_learning_layers(input_tensor,\n",
    "                         model,\n",
    "                         input_shape,\n",
    "                         end_of_model,\n",
    "                         dense,\n",
    "                         bias=None\n",
    "                        ):\n",
    "    '''\n",
    "    function to create set of layers for transfer learning as follows:\n",
    "    input_tensor -> pre-trained model(model) -> end_of_model ->\n",
    "        dense layer -> dense prediction layer\n",
    "    \n",
    "    args:\n",
    "        input_tensor, tensor, layer that will preceed the pre-trained model\n",
    "        model, tf.keras.applications fn (without the '()'), pre-trained model\n",
    "            whose architecture and weights will be used\n",
    "        end_of_model, keras.Layer layer that will be the end of the pre-trained model\n",
    "        input_shape, tuple (w, h, channels), shape of input being fed into model\n",
    "        dense, int, number of dense nodes in a layer after end_of_model, and before\n",
    "            prediction layer\n",
    "        bias, array, shaped (1,), bias of prediction layer, default is None\n",
    "        \n",
    "    returns:\n",
    "        x: set of layers as described above\n",
    "    '''\n",
    "    \n",
    "    x = model(include_top=False,\n",
    "             input_shape=input_shape,\n",
    "             classes=1)(input_tensor)\n",
    "    x = end_of_model(x)\n",
    "    x = layers.Dense(dense)(x)\n",
    "    x = layers.Dense(1, activation='sigmoid', bias_initializer=bias)(x)\n",
    "    \n",
    "    return x\n",
    "    "
   ]
  },
  {
   "cell_type": "code",
   "execution_count": 19,
   "metadata": {
    "execution": {
     "iopub.execute_input": "2020-08-16T07:55:17.819678Z",
     "iopub.status.busy": "2020-08-16T07:55:17.818492Z",
     "iopub.status.idle": "2020-08-16T07:55:17.822228Z",
     "shell.execute_reply": "2020-08-16T07:55:17.821471Z"
    },
    "id": "ZUGGmJIZLMf_",
    "papermill": {
     "duration": 0.054407,
     "end_time": "2020-08-16T07:55:17.822358",
     "exception": false,
     "start_time": "2020-08-16T07:55:17.767951",
     "status": "completed"
    },
    "tags": []
   },
   "outputs": [],
   "source": [
    "def create_model(input_shape=[*params['img_size'], 3], bias_output=None):\n",
    "    '''\n",
    "    function to create a model that will be used to train DS via xfer learning\n",
    "    \n",
    "    args:\n",
    "        input_shape: array, shape of input tensor that will be fed into model\n",
    "    \n",
    "    returns:\n",
    "        model: keras.Model() model\n",
    "    \n",
    "    '''\n",
    "    \n",
    "    input_tensor = layers.Input(shape=input_shape, name='images_input')\n",
    "    GblAvgPool = layers.GlobalAveragePooling2D()\n",
    "    \n",
    "    if bias_output is not None:\n",
    "        bias_output = tf.keras.initializers.Constant(bias_output)\n",
    "    \n",
    "#     # #input s/b 224, 224, 3 // try to normalize 0 -> 1\n",
    "#     densenet_fn = tf.keras.applications.DenseNet121\n",
    "#     densenet = xfer_learning_layers(input_tensor, \n",
    "#                                     densenet_fn, \n",
    "#                                     input_shape,\n",
    "#                                     GblAvgPool,\n",
    "#                                     512,\n",
    "#                                     bias_output\n",
    "#                                    )\n",
    "#     ###end of densenet### auc - 0.8844 (-1 -> 1) auc 0.8967 (0 -> 1)\n",
    "    \n",
    "    # #s/b 224, 224, 3 // \n",
    "    # efficientnet = tf.keras.applications.EfficientNetB0(include_top=False,\n",
    "    #                                                    input_shape=input_shape,\n",
    "    #                                                    classes=1)(input_tensor)\n",
    "    # end_of_efficientnet = layers.GlobalAveragePooling2D()(efficientnet)\n",
    "    # dense_layers = layers.Dense(8)(end_of_efficientnet)\n",
    "    # ###end of efficientnet### auc - 0.8602 (-1 -> 1)\n",
    "\n",
    "\n",
    "    \n",
    "    #s/b 299, 299, 3 // needs to be -1 --> 1\n",
    "    xception_fn = tf.keras.applications.Xception\n",
    "    xception = xfer_learning_layers(input_tensor,\n",
    "                                   xception_fn,\n",
    "                                   input_shape,\n",
    "                                   GblAvgPool,\n",
    "                                   8,\n",
    "                                   bias_output)\n",
    "    ###end of xception### auc - 0.9058 (2nd best)\n",
    "    \n",
    "    #s/b 299, 299, 3 // needs to be -1 -> 1\n",
    "    inception_fn = tf.keras.applications.InceptionV3\n",
    "    inception = xfer_learning_layers(input_tensor,\n",
    "                                    inception_fn,\n",
    "                                    input_shape,\n",
    "                                    GblAvgPool,\n",
    "                                    8,\n",
    "                                    bias_output)\n",
    "    ##end of inception (2016)### auc - 0.9009 (best)\n",
    "    \n",
    "#     #s/b 299, 299, 3 // needs to be -1 -> 1\n",
    "#     inception_v2 = tf.keras.applications.InceptionResNetV2(include_top=False,\n",
    "#                                                           input_shape=input_shape,\n",
    "#                                                           classes=1)(input_tensor)\n",
    "#     end_of_inceptionv2 = layers.GlobalAveragePooling2D()(inception_v2)\n",
    "#     dense_layers = layers.Dense(8)(end_of_inceptionv2)\n",
    "#     ###end of inception (2017)###\n",
    "    \n",
    "    #s/b 224, 224, 3 // needs to be -1 -> 1\n",
    "    # mobilnet = tf.keras.applications.MobileNet(include_top=False,\n",
    "    #                                           input_shape=input_shape,\n",
    "    #                                           classes=1)(input_tensor)\n",
    "    # end_of_mobilnet = layers.GlobalAveragePooling2D() (mobilnet)\n",
    "    # dense_layers = layers.Dense(8)(end_of_mobilnet)\n",
    "    ###end of mobilnet (v1)### auc - 0.8681\n",
    "\n",
    "    # # s/b 224, 224, 3 // needs to be -1 --> 1\n",
    "    # mobilnet_v2 = tf.keras.applications.MobileNetV2(include_top=False,\n",
    "    #                                                input_shape=input_shape,\n",
    "    #                                                classes=1)(input_tensor)\n",
    "    # end_of_mobilnet_v2 = layers.GlobalAveragePooling2D()(mobilnet_v2)\n",
    "    # dense_layers = layers.Dense(8)(end_of_mobilnet_v2)\n",
    "    # ###end of mobilnet (2018)### #dont use -- immediately overfits training data\n",
    "\n",
    "\n",
    "\n",
    "\n",
    "    \n",
    "\n",
    "\n",
    "\n",
    "    x = layers.Concatenate()([xception, inception])\n",
    "    x = layers.Dense(8)(x)\n",
    "\n",
    "    output = layers.Dense(1, activation='sigmoid', bias_initializer=bias_output)(x)\n",
    "    model = keras.Model(inputs=input_tensor, outputs=output)\n",
    "    \n",
    "    \n",
    "    metrics = [\n",
    "          keras.metrics.TruePositives(name='tp'),\n",
    "          keras.metrics.FalseNegatives(name='fn'), \n",
    "          keras.metrics.BinaryAccuracy(name='accuracy'),\n",
    "          keras.metrics.AUC(name='auc'),\n",
    "    ]\n",
    "    schedule = None\n",
    "    \n",
    "    model.compile(\n",
    "        optimizer=tf.keras.optimizers.Adam(),\n",
    "        loss = tf.keras.losses.BinaryCrossentropy(label_smoothing = 0.01),\n",
    "        metrics=metrics)\n",
    "    \n",
    "    \n",
    "    return model"
   ]
  },
  {
   "cell_type": "code",
   "execution_count": 20,
   "metadata": {
    "execution": {
     "iopub.execute_input": "2020-08-16T07:55:17.913162Z",
     "iopub.status.busy": "2020-08-16T07:55:17.910381Z",
     "iopub.status.idle": "2020-08-16T07:55:17.916529Z",
     "shell.execute_reply": "2020-08-16T07:55:17.915849Z"
    },
    "id": "nfrWgAxjLMgA",
    "papermill": {
     "duration": 0.061959,
     "end_time": "2020-08-16T07:55:17.916654",
     "exception": false,
     "start_time": "2020-08-16T07:55:17.854695",
     "status": "completed"
    },
    "tags": []
   },
   "outputs": [],
   "source": [
    "def create_model_obsol(input_shape=[*params['img_size'], 3], bias_output=None):\n",
    "    '''\n",
    "    function to create a model that will be trained on train DS\n",
    "    \n",
    "    args:\n",
    "        input_shape: array, default: [1024, 1024, 3], shape\n",
    "            of input tensor that will be fed into model\n",
    "    \n",
    "    returns:\n",
    "        model: keras.Model() model\n",
    "    '''\n",
    "\n",
    "    relu = layers.ReLU()\n",
    "    leakyrelu = layers.LeakyReLU()\n",
    "    input_tensor = layers.Input(shape=input_shape, name='images_input')\n",
    "    x = input_tensor\n",
    "#     filters_list = [64, 128, 256, 512, 1024]\n",
    "    filters_list = [32, 64, 128, 256, 512]\n",
    "    \n",
    "    for filter_ in filters_list:\n",
    "        x = set_of_layers(x, filter_, [3, 5], 2, 16,  dropout=0.35, dense_activation='tanh', \n",
    "                           cnn_activation=relu)\n",
    "        \n",
    "    \n",
    "    output_helper_1 = layers.Flatten(name='flatten_output_helper_1')(x)\n",
    "    output_helper_1 = layers.Dense(128)(output_helper_1)\n",
    "    \n",
    "    \n",
    "    \n",
    "#     filters_list = [1024, 512, 256]\n",
    "    filters_list = [512, 256, 128]\n",
    "    \n",
    "    for filter_ in filters_list:\n",
    "        x = deconv_set_of_layers(x, filter_, [2, 4], 2, 16,  dense_activation='tanh', cnn_activation=relu,\n",
    "                                 dropout=0.35)\n",
    "    \n",
    "    output_helper_2 = layers.Flatten(name='flatten_output_helper_2')(x)\n",
    "    output_helper_2 = layers.Dense(128)(output_helper_2)\n",
    "\n",
    "    \n",
    "#     filters_list = [256, 512, 1024]\n",
    "    filters_list = [128, 256, 512]\n",
    "    \n",
    "    for filter_ in filters_list:\n",
    "        x = set_of_layers(x, filter_, [3, 5], 2, 16,  dropout=0.35, dense_activation='tanh',\n",
    "                           cnn_activation=relu)\n",
    "\n",
    "\n",
    "\n",
    "    x = layers.Flatten(name='flatten_main_output')(x)\n",
    "    x = layers.Dense(128)(x)\n",
    "#     model.add(layers.Dense(64))\n",
    "    \n",
    "    if bias_output is not None:\n",
    "        bias_output = tf.keras.initializers.Constant(bias_output)\n",
    "    output_layer = layers.Dense(1, activation='sigmoid', bias_initializer=bias_output)(x)\n",
    "    \n",
    "    output_helper_1 = layers.Dense(1, activation='sigmoid',\n",
    "                                  bias_initializer=bias_output)(output_helper_1)\n",
    "    output_helper_2 = layers.Dense(1, activation='sigmoid',\n",
    "                                  bias_initializer=bias_output)(output_helper_2)\n",
    "    \n",
    "    model=keras.Model(inputs=[input_tensor],\n",
    "                     outputs=[output_layer, output_helper_1, output_helper_2])\n",
    "\n",
    " \n",
    "           \n",
    "    metrics = [\n",
    "          keras.metrics.TruePositives(name='tp'),\n",
    "          keras.metrics.FalseNegatives(name='fn'), \n",
    "          keras.metrics.BinaryAccuracy(name='accuracy'),\n",
    "          keras.metrics.AUC(name='auc'),\n",
    "    ]\n",
    "    schedule = None\n",
    "    \n",
    "    model.compile(\n",
    "        optimizer=tf.keras.optimizers.Adam(0.00033),\n",
    "        loss = [tf.keras.losses.BinaryCrossentropy(label_smoothing = 0.01),\n",
    "                tf.keras.losses.BinaryCrossentropy(label_smoothing = 0.01),\n",
    "                tf.keras.losses.BinaryCrossentropy(label_smoothing = 0.01)],\n",
    "        metrics=metrics,\n",
    "    loss_weights = [1.0, 0.15, 0.15])\n",
    "    \n",
    "\n",
    "    \n",
    "    return model\n",
    "\n"
   ]
  },
  {
   "cell_type": "code",
   "execution_count": 21,
   "metadata": {
    "execution": {
     "iopub.execute_input": "2020-08-16T07:55:17.987937Z",
     "iopub.status.busy": "2020-08-16T07:55:17.986941Z",
     "iopub.status.idle": "2020-08-16T07:55:17.990481Z",
     "shell.execute_reply": "2020-08-16T07:55:17.989687Z"
    },
    "id": "ctZtGXcBLMgC",
    "papermill": {
     "duration": 0.043135,
     "end_time": "2020-08-16T07:55:17.990609",
     "exception": false,
     "start_time": "2020-08-16T07:55:17.947474",
     "status": "completed"
    },
    "tags": []
   },
   "outputs": [],
   "source": [
    "def get_ds_size(files):\n",
    "    '''\n",
    "    function to get size of tfrecord Dataset, based on file name\n",
    "    \n",
    "    the file name has the number of records in the file, for example:\n",
    "    train09-2071.tfrec has 2017 records\n",
    "    \n",
    "    args:\n",
    "        files: list of str file names, each item should be the path to a tfrecord file\n",
    "    \n",
    "    returns:\n",
    "        size: int, size of dataset\n",
    "    '''\n",
    "    size = 0\n",
    "    for file in files:\n",
    "        file_size = int(file.split('.tfrec')[0].split('tfrecords/')[1].split('-')[1])\n",
    "        size += file_size\n",
    "    return size"
   ]
  },
  {
   "cell_type": "code",
   "execution_count": 22,
   "metadata": {
    "execution": {
     "iopub.execute_input": "2020-08-16T07:55:18.212168Z",
     "iopub.status.busy": "2020-08-16T07:55:18.143250Z",
     "iopub.status.idle": "2020-08-16T07:55:18.954252Z",
     "shell.execute_reply": "2020-08-16T07:55:18.953443Z"
    },
    "id": "N7SqvS9ULMgD",
    "papermill": {
     "duration": 0.932699,
     "end_time": "2020-08-16T07:55:18.954380",
     "exception": false,
     "start_time": "2020-08-16T07:55:18.021681",
     "status": "completed"
    },
    "tags": []
   },
   "outputs": [],
   "source": [
    "#get test file paths\n",
    "test_files = tf.io.gfile.glob(dataset_gcs + '/tfrecords/test*.tfrec')\n",
    "\n",
    "#get train and validation file paths\n",
    "train_files, valid_files = train_test_split(tf.io.gfile.glob(dataset_gcs + '/tfrecords/train*.tfrec'),\n",
    "                              test_size=.1, random_state=1)\n",
    "\n",
    "#create datasets\n",
    "train_ds = get_train_ds(train_files, params['batch_size'])\n",
    "valid_ds = get_train_ds(valid_files, params['batch_size'])\n",
    "test_ds = get_test_ds(test_files, params['batch_size'])"
   ]
  },
  {
   "cell_type": "code",
   "execution_count": 23,
   "metadata": {
    "execution": {
     "iopub.execute_input": "2020-08-16T07:55:19.023201Z",
     "iopub.status.busy": "2020-08-16T07:55:19.022162Z",
     "iopub.status.idle": "2020-08-16T07:55:19.025802Z",
     "shell.execute_reply": "2020-08-16T07:55:19.026451Z"
    },
    "id": "fVGrZ5WFLMgE",
    "outputId": "0c9f07a1-f059-4154-ab61-ee251be6951a",
    "papermill": {
     "duration": 0.041444,
     "end_time": "2020-08-16T07:55:19.026614",
     "exception": false,
     "start_time": "2020-08-16T07:55:18.985170",
     "status": "completed"
    },
    "tags": []
   },
   "outputs": [
    {
     "name": "stdout",
     "output_type": "stream",
     "text": [
      "the dataset consists of: 28984 training images, 4142 validation images, and 10982 test images\n"
     ]
    }
   ],
   "source": [
    "train_size, valid_size = get_ds_size(train_files), get_ds_size(valid_files)\n",
    "test_size = get_ds_size(test_files)\n",
    "print('the dataset consists of: {} training images, {} validation images, and {} test images'.\n",
    "     format(train_size, valid_size, test_size))"
   ]
  },
  {
   "cell_type": "code",
   "execution_count": null,
   "metadata": {
    "id": "gVpGnOMJLMgG",
    "papermill": {
     "duration": 0.030506,
     "end_time": "2020-08-16T07:55:19.087943",
     "exception": false,
     "start_time": "2020-08-16T07:55:19.057437",
     "status": "completed"
    },
    "tags": []
   },
   "outputs": [],
   "source": []
  },
  {
   "cell_type": "code",
   "execution_count": 24,
   "metadata": {
    "execution": {
     "iopub.execute_input": "2020-08-16T07:55:19.157267Z",
     "iopub.status.busy": "2020-08-16T07:55:19.156419Z",
     "iopub.status.idle": "2020-08-16T07:55:19.160184Z",
     "shell.execute_reply": "2020-08-16T07:55:19.159406Z"
    },
    "id": "aykTwKSdLMgH",
    "papermill": {
     "duration": 0.041257,
     "end_time": "2020-08-16T07:55:19.160311",
     "exception": false,
     "start_time": "2020-08-16T07:55:19.119054",
     "status": "completed"
    },
    "tags": []
   },
   "outputs": [],
   "source": [
    "epoch_steps = train_size / params['batch_size'] \n",
    "valid_steps = valid_size / params['batch_size']\n",
    "test_steps = 1.0 * test_size / params['batch_size'] "
   ]
  },
  {
   "cell_type": "code",
   "execution_count": 25,
   "metadata": {
    "execution": {
     "iopub.execute_input": "2020-08-16T07:55:19.232411Z",
     "iopub.status.busy": "2020-08-16T07:55:19.231629Z",
     "iopub.status.idle": "2020-08-16T07:55:19.263404Z",
     "shell.execute_reply": "2020-08-16T07:55:19.262730Z"
    },
    "id": "ZSyag_aJLMgI",
    "papermill": {
     "duration": 0.072284,
     "end_time": "2020-08-16T07:55:19.263542",
     "exception": false,
     "start_time": "2020-08-16T07:55:19.191258",
     "status": "completed"
    },
    "tags": []
   },
   "outputs": [],
   "source": [
    "#calculate class weights\n",
    "\n",
    "targets = train_df.groupby('target').count()['diagnosis'].to_list()\n",
    "target_0 = targets[0]\n",
    "target_1 = targets[1]\n",
    "total = target_0 + target_1\n",
    "\n",
    "class_weight_0 = (1 / target_0) * (total) / 2.0\n",
    "class_weight_1 = (1 / target_1) * (total) / 2.0\n",
    "\n",
    "class_weights = {0: class_weight_0, 1: class_weight_1}\n",
    "\n",
    "initial_bias = np.log([target_1 / target_0])\n",
    "\n"
   ]
  },
  {
   "cell_type": "code",
   "execution_count": 26,
   "metadata": {
    "execution": {
     "iopub.execute_input": "2020-08-16T07:55:19.334216Z",
     "iopub.status.busy": "2020-08-16T07:55:19.333062Z",
     "iopub.status.idle": "2020-08-16T07:55:19.336020Z",
     "shell.execute_reply": "2020-08-16T07:55:19.336566Z"
    },
    "id": "M_-z4cMRLMgJ",
    "papermill": {
     "duration": 0.042135,
     "end_time": "2020-08-16T07:55:19.336737",
     "exception": false,
     "start_time": "2020-08-16T07:55:19.294602",
     "status": "completed"
    },
    "tags": []
   },
   "outputs": [],
   "source": [
    "def lr_schedule_fn(epoch, lr):\n",
    "    if epoch < 8:\n",
    "        return 0.000001\n",
    "    elif epoch == 8:\n",
    "        return 0.0003\n",
    "    elif epoch %2 ==0 and epoch < 69:\n",
    "        return lr * 0.85\n",
    "    else:\n",
    "        return lr"
   ]
  },
  {
   "cell_type": "code",
   "execution_count": 27,
   "metadata": {
    "execution": {
     "iopub.execute_input": "2020-08-16T07:55:19.406087Z",
     "iopub.status.busy": "2020-08-16T07:55:19.405204Z",
     "iopub.status.idle": "2020-08-16T07:56:09.388455Z",
     "shell.execute_reply": "2020-08-16T07:56:09.389482Z"
    },
    "id": "fOtpzGueLMgK",
    "outputId": "fc3dc0c6-374b-40e1-fa96-787198b49945",
    "papermill": {
     "duration": 50.021775,
     "end_time": "2020-08-16T07:56:09.389829",
     "exception": false,
     "start_time": "2020-08-16T07:55:19.368054",
     "status": "completed"
    },
    "tags": []
   },
   "outputs": [
    {
     "name": "stdout",
     "output_type": "stream",
     "text": [
      "Downloading data from https://storage.googleapis.com/tensorflow/keras-applications/xception/xception_weights_tf_dim_ordering_tf_kernels_notop.h5\n",
      "83689472/83683744 [==============================] - 1s 0us/step\n",
      "Downloading data from https://storage.googleapis.com/tensorflow/keras-applications/inception_v3/inception_v3_weights_tf_dim_ordering_tf_kernels_notop.h5\n",
      "87916544/87910968 [==============================] - 1s 0us/step\n",
      "Model: \"model\"\n",
      "__________________________________________________________________________________________________\n",
      "Layer (type)                    Output Shape         Param #     Connected to                     \n",
      "==================================================================================================\n",
      "images_input (InputLayer)       [(None, 299, 299, 3) 0                                            \n",
      "__________________________________________________________________________________________________\n",
      "xception (Model)                (None, 10, 10, 2048) 20861480    images_input[0][0]               \n",
      "__________________________________________________________________________________________________\n",
      "inception_v3 (Model)            (None, 8, 8, 2048)   21802784    images_input[0][0]               \n",
      "__________________________________________________________________________________________________\n",
      "global_average_pooling2d (Globa (None, 2048)         0           xception[1][0]                   \n",
      "                                                                 inception_v3[1][0]               \n",
      "__________________________________________________________________________________________________\n",
      "dense (Dense)                   (None, 8)            16392       global_average_pooling2d[0][0]   \n",
      "__________________________________________________________________________________________________\n",
      "dense_2 (Dense)                 (None, 8)            16392       global_average_pooling2d[1][0]   \n",
      "__________________________________________________________________________________________________\n",
      "dense_1 (Dense)                 (None, 1)            9           dense[0][0]                      \n",
      "__________________________________________________________________________________________________\n",
      "dense_3 (Dense)                 (None, 1)            9           dense_2[0][0]                    \n",
      "__________________________________________________________________________________________________\n",
      "concatenate_2 (Concatenate)     (None, 2)            0           dense_1[0][0]                    \n",
      "                                                                 dense_3[0][0]                    \n",
      "__________________________________________________________________________________________________\n",
      "dense_4 (Dense)                 (None, 8)            24          concatenate_2[0][0]              \n",
      "__________________________________________________________________________________________________\n",
      "dense_5 (Dense)                 (None, 1)            9           dense_4[0][0]                    \n",
      "==================================================================================================\n",
      "Total params: 42,697,099\n",
      "Trainable params: 42,608,139\n",
      "Non-trainable params: 88,960\n",
      "__________________________________________________________________________________________________\n"
     ]
    }
   ],
   "source": [
    "with strategy.scope():\n",
    "    model = create_model(bias_output=None)\n",
    "    model.summary()"
   ]
  },
  {
   "cell_type": "markdown",
   "metadata": {
    "id": "PpMHxSTyLMgL",
    "papermill": {
     "duration": 0.034076,
     "end_time": "2020-08-16T07:56:09.470645",
     "exception": false,
     "start_time": "2020-08-16T07:56:09.436569",
     "status": "completed"
    },
    "tags": []
   },
   "source": [
    "# Training"
   ]
  },
  {
   "cell_type": "code",
   "execution_count": 28,
   "metadata": {
    "execution": {
     "iopub.execute_input": "2020-08-16T07:56:09.566453Z",
     "iopub.status.busy": "2020-08-16T07:56:09.565325Z",
     "iopub.status.idle": "2020-08-16T08:28:34.877455Z",
     "shell.execute_reply": "2020-08-16T08:28:34.878051Z"
    },
    "id": "kS9LOS2sLMgL",
    "outputId": "a026509a-8ff1-409f-95bf-797b1da5e06d",
    "papermill": {
     "duration": 1945.368548,
     "end_time": "2020-08-16T08:28:34.878236",
     "exception": false,
     "start_time": "2020-08-16T07:56:09.509688",
     "status": "completed"
    },
    "tags": []
   },
   "outputs": [
    {
     "name": "stdout",
     "output_type": "stream",
     "text": [
      "Epoch 1/350\n",
      "29/28 [==============================] - 63s 2s/step - auc: 0.5520 - tp: 524.0000 - fn: 0.0000e+00 - loss: 0.8928 - accuracy: 0.0176 - val_auc: 0.5428 - val_tp: 84.0000 - val_fn: 0.0000e+00 - val_loss: 1.4905 - val_accuracy: 0.0164 - lr: 1.0000e-06\n",
      "Epoch 2/350\n",
      "29/28 [==============================] - 38s 1s/step - auc: 0.6035 - tp: 526.0000 - fn: 0.0000e+00 - loss: 0.8876 - accuracy: 0.0177 - val_auc: 0.5834 - val_tp: 87.0000 - val_fn: 0.0000e+00 - val_loss: 1.4643 - val_accuracy: 0.0170 - lr: 1.0000e-06\n",
      "Epoch 3/350\n",
      "29/28 [==============================] - 35s 1s/step - auc: 0.6516 - tp: 529.0000 - fn: 0.0000e+00 - loss: 0.8827 - accuracy: 0.0178 - val_auc: 0.5698 - val_tp: 87.0000 - val_fn: 0.0000e+00 - val_loss: 1.4422 - val_accuracy: 0.0170 - lr: 1.0000e-06\n",
      "Epoch 4/350\n",
      "29/28 [==============================] - 38s 1s/step - auc: 0.6944 - tp: 527.0000 - fn: 0.0000e+00 - loss: 0.8765 - accuracy: 0.0177 - val_auc: 0.6094 - val_tp: 86.0000 - val_fn: 0.0000e+00 - val_loss: 1.4248 - val_accuracy: 0.0168 - lr: 1.0000e-06\n",
      "Epoch 5/350\n",
      "29/28 [==============================] - 38s 1s/step - auc: 0.7207 - tp: 525.0000 - fn: 0.0000e+00 - loss: 0.8706 - accuracy: 0.0177 - val_auc: 0.6392 - val_tp: 83.0000 - val_fn: 0.0000e+00 - val_loss: 1.4085 - val_accuracy: 0.0162 - lr: 1.0000e-06\n",
      "Epoch 6/350\n",
      "29/28 [==============================] - 38s 1s/step - auc: 0.7524 - tp: 533.0000 - fn: 0.0000e+00 - loss: 0.8661 - accuracy: 0.0179 - val_auc: 0.7166 - val_tp: 84.0000 - val_fn: 0.0000e+00 - val_loss: 1.3954 - val_accuracy: 0.0164 - lr: 1.0000e-06\n",
      "Epoch 7/350\n",
      "29/28 [==============================] - 39s 1s/step - auc: 0.7734 - tp: 528.0000 - fn: 0.0000e+00 - loss: 0.8591 - accuracy: 0.0178 - val_auc: 0.7201 - val_tp: 85.0000 - val_fn: 0.0000e+00 - val_loss: 1.3821 - val_accuracy: 0.0166 - lr: 1.0000e-06\n",
      "Epoch 8/350\n",
      "29/28 [==============================] - 39s 1s/step - auc: 0.7876 - tp: 526.0000 - fn: 0.0000e+00 - loss: 0.8526 - accuracy: 0.0177 - val_auc: 0.7214 - val_tp: 85.0000 - val_fn: 0.0000e+00 - val_loss: 1.3709 - val_accuracy: 0.0166 - lr: 1.0000e-06\n",
      "Epoch 9/350\n",
      "29/28 [==============================] - 42s 1s/step - auc: 0.8136 - tp: 534.0000 - fn: 0.0000e+00 - loss: 0.6966 - accuracy: 0.0180 - val_auc: 0.8638 - val_tp: 86.0000 - val_fn: 0.0000e+00 - val_loss: 1.0112 - val_accuracy: 0.0168 - lr: 3.0000e-04\n",
      "Epoch 10/350\n",
      "29/28 [==============================] - 36s 1s/step - auc: 0.8723 - tp: 519.0000 - fn: 0.0000e+00 - loss: 0.6534 - accuracy: 0.0175 - val_auc: 0.8418 - val_tp: 84.0000 - val_fn: 0.0000e+00 - val_loss: 1.0321 - val_accuracy: 0.0164 - lr: 3.0000e-04\n",
      "Epoch 11/350\n",
      "29/28 [==============================] - 38s 1s/step - auc: 0.8812 - tp: 537.0000 - fn: 0.0000e+00 - loss: 0.6412 - accuracy: 0.0181 - val_auc: 0.8715 - val_tp: 86.0000 - val_fn: 0.0000e+00 - val_loss: 0.9845 - val_accuracy: 0.0168 - lr: 2.5500e-04\n",
      "Epoch 12/350\n",
      "29/28 [==============================] - 36s 1s/step - auc: 0.8866 - tp: 533.0000 - fn: 0.0000e+00 - loss: 0.6270 - accuracy: 0.0179 - val_auc: 0.8595 - val_tp: 87.0000 - val_fn: 0.0000e+00 - val_loss: 0.9669 - val_accuracy: 0.0170 - lr: 2.5500e-04\n",
      "Epoch 13/350\n",
      "29/28 [==============================] - 37s 1s/step - auc: 0.8980 - tp: 529.0000 - fn: 0.0000e+00 - loss: 0.6154 - accuracy: 0.0178 - val_auc: 0.8182 - val_tp: 85.0000 - val_fn: 0.0000e+00 - val_loss: 0.9993 - val_accuracy: 0.0166 - lr: 2.1675e-04\n",
      "Epoch 14/350\n",
      "29/28 [==============================] - 36s 1s/step - auc: 0.9086 - tp: 528.0000 - fn: 0.0000e+00 - loss: 0.6017 - accuracy: 0.0178 - val_auc: 0.8352 - val_tp: 85.0000 - val_fn: 0.0000e+00 - val_loss: 0.9524 - val_accuracy: 0.0166 - lr: 2.1675e-04\n",
      "Epoch 15/350\n",
      "29/28 [==============================] - 36s 1s/step - auc: 0.9208 - tp: 526.0000 - fn: 0.0000e+00 - loss: 0.5876 - accuracy: 0.0177 - val_auc: 0.8325 - val_tp: 87.0000 - val_fn: 0.0000e+00 - val_loss: 0.9055 - val_accuracy: 0.0170 - lr: 1.8424e-04\n",
      "Epoch 16/350\n",
      "29/28 [==============================] - 36s 1s/step - auc: 0.9373 - tp: 527.0000 - fn: 0.0000e+00 - loss: 0.5766 - accuracy: 0.0177 - val_auc: 0.7384 - val_tp: 85.0000 - val_fn: 0.0000e+00 - val_loss: 0.8769 - val_accuracy: 0.0166 - lr: 1.8424e-04\n",
      "Epoch 17/350\n",
      "29/28 [==============================] - 36s 1s/step - auc: 0.9422 - tp: 524.0000 - fn: 0.0000e+00 - loss: 0.5656 - accuracy: 0.0176 - val_auc: 0.7118 - val_tp: 85.0000 - val_fn: 0.0000e+00 - val_loss: 0.8454 - val_accuracy: 0.0166 - lr: 1.5660e-04\n",
      "Epoch 18/350\n",
      "29/28 [==============================] - 37s 1s/step - auc: 0.9476 - tp: 528.0000 - fn: 0.0000e+00 - loss: 0.5562 - accuracy: 0.0178 - val_auc: 0.7531 - val_tp: 83.0000 - val_fn: 0.0000e+00 - val_loss: 0.8481 - val_accuracy: 0.0162 - lr: 1.5660e-04\n",
      "Epoch 19/350\n",
      "29/28 [==============================] - 35s 1s/step - auc: 0.9555 - tp: 529.0000 - fn: 0.0000e+00 - loss: 0.5446 - accuracy: 0.0178 - val_auc: 0.8103 - val_tp: 89.0000 - val_fn: 0.0000e+00 - val_loss: 0.8435 - val_accuracy: 0.0174 - lr: 1.3311e-04\n",
      "Epoch 20/350\n",
      "29/28 [==============================] - 36s 1s/step - auc: 0.9560 - tp: 527.0000 - fn: 0.0000e+00 - loss: 0.5428 - accuracy: 0.0177 - val_auc: 0.7422 - val_tp: 85.0000 - val_fn: 0.0000e+00 - val_loss: 0.8217 - val_accuracy: 0.0166 - lr: 1.3311e-04\n",
      "Epoch 21/350\n",
      "29/28 [==============================] - 36s 1s/step - auc: 0.9595 - tp: 529.0000 - fn: 0.0000e+00 - loss: 0.5341 - accuracy: 0.0178 - val_auc: 0.7886 - val_tp: 82.0000 - val_fn: 0.0000e+00 - val_loss: 0.8232 - val_accuracy: 0.0160 - lr: 1.1314e-04\n",
      "Epoch 22/350\n",
      "29/28 [==============================] - 36s 1s/step - auc: 0.9608 - tp: 523.0000 - fn: 0.0000e+00 - loss: 0.5277 - accuracy: 0.0176 - val_auc: 0.8405 - val_tp: 89.0000 - val_fn: 0.0000e+00 - val_loss: 0.8264 - val_accuracy: 0.0174 - lr: 1.1314e-04\n",
      "Epoch 23/350\n",
      "29/28 [==============================] - 36s 1s/step - auc: 0.9598 - tp: 534.0000 - fn: 0.0000e+00 - loss: 0.5222 - accuracy: 0.0180 - val_auc: 0.8463 - val_tp: 88.0000 - val_fn: 0.0000e+00 - val_loss: 0.8069 - val_accuracy: 0.0172 - lr: 9.6173e-05\n",
      "Epoch 24/350\n",
      "29/28 [==============================] - 36s 1s/step - auc: 0.9647 - tp: 526.0000 - fn: 0.0000e+00 - loss: 0.5124 - accuracy: 0.0177 - val_auc: 0.7933 - val_tp: 88.0000 - val_fn: 0.0000e+00 - val_loss: 0.7975 - val_accuracy: 0.0172 - lr: 9.6173e-05\n",
      "Epoch 25/350\n",
      "29/28 [==============================] - 36s 1s/step - auc: 0.9695 - tp: 525.0000 - fn: 0.0000e+00 - loss: 0.5059 - accuracy: 0.0177 - val_auc: 0.8037 - val_tp: 86.0000 - val_fn: 0.0000e+00 - val_loss: 0.7903 - val_accuracy: 0.0168 - lr: 8.1747e-05\n",
      "Epoch 26/350\n",
      "29/28 [==============================] - 36s 1s/step - auc: 0.9708 - tp: 532.0000 - fn: 0.0000e+00 - loss: 0.5024 - accuracy: 0.0179 - val_auc: 0.7764 - val_tp: 84.0000 - val_fn: 0.0000e+00 - val_loss: 0.7844 - val_accuracy: 0.0164 - lr: 8.1747e-05\n",
      "Epoch 27/350\n",
      "29/28 [==============================] - 36s 1s/step - auc: 0.9733 - tp: 529.0000 - fn: 0.0000e+00 - loss: 0.4985 - accuracy: 0.0178 - val_auc: 0.8018 - val_tp: 84.0000 - val_fn: 0.0000e+00 - val_loss: 0.7787 - val_accuracy: 0.0164 - lr: 6.9485e-05\n",
      "Epoch 28/350\n",
      "29/28 [==============================] - 37s 1s/step - auc: 0.9691 - tp: 524.0000 - fn: 0.0000e+00 - loss: 0.4936 - accuracy: 0.0176 - val_auc: 0.8015 - val_tp: 85.0000 - val_fn: 0.0000e+00 - val_loss: 0.7867 - val_accuracy: 0.0166 - lr: 6.9485e-05\n",
      "Epoch 29/350\n",
      "29/28 [==============================] - 37s 1s/step - auc: 0.9771 - tp: 525.0000 - fn: 0.0000e+00 - loss: 0.4896 - accuracy: 0.0177 - val_auc: 0.7857 - val_tp: 83.0000 - val_fn: 0.0000e+00 - val_loss: 0.7767 - val_accuracy: 0.0162 - lr: 5.9062e-05\n",
      "Epoch 30/350\n",
      "29/28 [==============================] - 36s 1s/step - auc: 0.9704 - tp: 526.0000 - fn: 0.0000e+00 - loss: 0.4877 - accuracy: 0.0177 - val_auc: 0.8542 - val_tp: 87.0000 - val_fn: 0.0000e+00 - val_loss: 0.7874 - val_accuracy: 0.0170 - lr: 5.9062e-05\n",
      "Epoch 31/350\n",
      "29/28 [==============================] - 36s 1s/step - auc: 0.9715 - tp: 527.0000 - fn: 0.0000e+00 - loss: 0.4831 - accuracy: 0.0177 - val_auc: 0.7207 - val_tp: 84.0000 - val_fn: 0.0000e+00 - val_loss: 0.7584 - val_accuracy: 0.0164 - lr: 5.0203e-05\n",
      "Epoch 32/350\n",
      "29/28 [==============================] - 36s 1s/step - auc: 0.9733 - tp: 529.0000 - fn: 0.0000e+00 - loss: 0.4798 - accuracy: 0.0178 - val_auc: 0.7661 - val_tp: 85.0000 - val_fn: 0.0000e+00 - val_loss: 0.7547 - val_accuracy: 0.0166 - lr: 5.0203e-05\n",
      "Epoch 33/350\n",
      "29/28 [==============================] - 38s 1s/step - auc: 0.9715 - tp: 532.0000 - fn: 0.0000e+00 - loss: 0.4773 - accuracy: 0.0179 - val_auc: 0.7231 - val_tp: 87.0000 - val_fn: 0.0000e+00 - val_loss: 0.7490 - val_accuracy: 0.0170 - lr: 4.2673e-05\n",
      "Epoch 34/350\n",
      "29/28 [==============================] - 36s 1s/step - auc: 0.9729 - tp: 527.0000 - fn: 0.0000e+00 - loss: 0.4734 - accuracy: 0.0177 - val_auc: 0.7918 - val_tp: 85.0000 - val_fn: 0.0000e+00 - val_loss: 0.7549 - val_accuracy: 0.0166 - lr: 4.2673e-05\n",
      "Epoch 35/350\n",
      "29/28 [==============================] - 37s 1s/step - auc: 0.9748 - tp: 529.0000 - fn: 0.0000e+00 - loss: 0.4717 - accuracy: 0.0178 - val_auc: 0.7695 - val_tp: 87.0000 - val_fn: 0.0000e+00 - val_loss: 0.7447 - val_accuracy: 0.0170 - lr: 3.6272e-05\n",
      "Epoch 36/350\n",
      "29/28 [==============================] - 37s 1s/step - auc: 0.9748 - tp: 528.0000 - fn: 0.0000e+00 - loss: 0.4702 - accuracy: 0.0178 - val_auc: 0.7658 - val_tp: 87.0000 - val_fn: 0.0000e+00 - val_loss: 0.7413 - val_accuracy: 0.0170 - lr: 3.6272e-05\n",
      "Epoch 37/350\n",
      "29/28 [==============================] - 37s 1s/step - auc: 0.9757 - tp: 525.0000 - fn: 0.0000e+00 - loss: 0.4659 - accuracy: 0.0177 - val_auc: 0.7407 - val_tp: 89.0000 - val_fn: 0.0000e+00 - val_loss: 0.7372 - val_accuracy: 0.0174 - lr: 3.0831e-05\n",
      "Epoch 38/350\n",
      "29/28 [==============================] - 38s 1s/step - auc: 0.9738 - tp: 524.0000 - fn: 0.0000e+00 - loss: 0.4653 - accuracy: 0.0176 - val_auc: 0.7118 - val_tp: 86.0000 - val_fn: 0.0000e+00 - val_loss: 0.7383 - val_accuracy: 0.0168 - lr: 3.0831e-05\n",
      "Epoch 39/350\n",
      "29/28 [==============================] - 36s 1s/step - auc: 0.9728 - tp: 522.0000 - fn: 0.0000e+00 - loss: 0.4627 - accuracy: 0.0176 - val_auc: 0.7854 - val_tp: 85.0000 - val_fn: 0.0000e+00 - val_loss: 0.7360 - val_accuracy: 0.0166 - lr: 2.6206e-05\n",
      "Epoch 40/350\n",
      "29/28 [==============================] - 36s 1s/step - auc: 0.9756 - tp: 531.0000 - fn: 0.0000e+00 - loss: 0.4648 - accuracy: 0.0179 - val_auc: 0.7623 - val_tp: 87.0000 - val_fn: 0.0000e+00 - val_loss: 0.7351 - val_accuracy: 0.0170 - lr: 2.6206e-05\n",
      "Epoch 41/350\n",
      "29/28 [==============================] - 36s 1s/step - auc: 0.9761 - tp: 531.0000 - fn: 0.0000e+00 - loss: 0.4608 - accuracy: 0.0179 - val_auc: 0.7799 - val_tp: 87.0000 - val_fn: 0.0000e+00 - val_loss: 0.7383 - val_accuracy: 0.0170 - lr: 2.2275e-05\n",
      "Epoch 42/350\n",
      "29/28 [==============================] - 37s 1s/step - auc: 0.9771 - tp: 519.0000 - fn: 0.0000e+00 - loss: 0.4567 - accuracy: 0.0175 - val_auc: 0.7534 - val_tp: 84.0000 - val_fn: 0.0000e+00 - val_loss: 0.7293 - val_accuracy: 0.0164 - lr: 2.2275e-05\n",
      "Epoch 43/350\n",
      "29/28 [==============================] - 36s 1s/step - auc: 0.9778 - tp: 533.0000 - fn: 0.0000e+00 - loss: 0.4575 - accuracy: 0.0179 - val_auc: 0.7742 - val_tp: 87.0000 - val_fn: 0.0000e+00 - val_loss: 0.7311 - val_accuracy: 0.0170 - lr: 1.8934e-05\n",
      "Epoch 44/350\n",
      "29/28 [==============================] - 36s 1s/step - auc: 0.9785 - tp: 524.0000 - fn: 0.0000e+00 - loss: 0.4547 - accuracy: 0.0176 - val_auc: 0.7318 - val_tp: 89.0000 - val_fn: 0.0000e+00 - val_loss: 0.7290 - val_accuracy: 0.0174 - lr: 1.8934e-05\n",
      "Epoch 45/350\n",
      "29/28 [==============================] - 37s 1s/step - auc: 0.9778 - tp: 527.0000 - fn: 0.0000e+00 - loss: 0.4542 - accuracy: 0.0177 - val_auc: 0.7833 - val_tp: 84.0000 - val_fn: 0.0000e+00 - val_loss: 0.7267 - val_accuracy: 0.0164 - lr: 1.6094e-05\n",
      "Epoch 46/350\n",
      "29/28 [==============================] - 40s 1s/step - auc: 0.9778 - tp: 529.0000 - fn: 0.0000e+00 - loss: 0.4542 - accuracy: 0.0178 - val_auc: 0.7800 - val_tp: 88.0000 - val_fn: 0.0000e+00 - val_loss: 0.7248 - val_accuracy: 0.0172 - lr: 1.6094e-05\n"
     ]
    }
   ],
   "source": [
    "early_stopping = tf.keras.callbacks.EarlyStopping(monitor='val_auc', #val_auc\n",
    "                                patience=35,\n",
    "                                mode='max',\n",
    "                                restore_best_weights=True)\n",
    "lr_schedule = tf.keras.callbacks.LearningRateScheduler(lr_schedule_fn)\n",
    "\n",
    "\n",
    "history = model.fit(\n",
    "    train_ds,\n",
    "#     batch_size=params['batch_size'],\n",
    "    epochs= params['epochs'], \n",
    "    steps_per_epoch=epoch_steps,\n",
    "    validation_data=valid_ds,\n",
    "    validation_steps=valid_steps,\n",
    "    class_weight=class_weights,\n",
    "    callbacks=[early_stopping, lr_schedule]\n",
    ")\n",
    "\n"
   ]
  },
  {
   "cell_type": "code",
   "execution_count": 29,
   "metadata": {
    "execution": {
     "iopub.execute_input": "2020-08-16T08:28:35.169925Z",
     "iopub.status.busy": "2020-08-16T08:28:35.159572Z",
     "iopub.status.idle": "2020-08-16T08:29:15.503746Z",
     "shell.execute_reply": "2020-08-16T08:29:15.503044Z"
    },
    "id": "eA4PkEzsLMgM",
    "papermill": {
     "duration": 40.49673,
     "end_time": "2020-08-16T08:29:15.503908",
     "exception": false,
     "start_time": "2020-08-16T08:28:35.007178",
     "status": "completed"
    },
    "tags": []
   },
   "outputs": [],
   "source": [
    "predictions = model.predict(test_ds.map(lambda img, igs: img), steps=test_steps)  "
   ]
  },
  {
   "cell_type": "code",
   "execution_count": 30,
   "metadata": {
    "execution": {
     "iopub.execute_input": "2020-08-16T08:29:15.772543Z",
     "iopub.status.busy": "2020-08-16T08:29:15.771584Z",
     "iopub.status.idle": "2020-08-16T08:29:22.784595Z",
     "shell.execute_reply": "2020-08-16T08:29:22.783811Z"
    },
    "id": "1U9IhzWcLMgN",
    "papermill": {
     "duration": 7.149607,
     "end_time": "2020-08-16T08:29:22.784722",
     "exception": false,
     "start_time": "2020-08-16T08:29:15.635115",
     "status": "completed"
    },
    "tags": []
   },
   "outputs": [
    {
     "name": "stdout",
     "output_type": "stream",
     "text": [
      "WARNING: AutoGraph could not transform <function <lambda> at 0x7f4675a87830> and will run it as-is.\n",
      "Cause: could not parse the source code:\n",
      "\n",
      "                          map(lambda img, ids:ids).\n",
      "\n",
      "This error may be avoided by creating the lambda in a standalone statement.\n",
      "\n",
      "To silence this warning, decorate the function with @tf.autograph.experimental.do_not_convert\n"
     ]
    }
   ],
   "source": [
    "prediction_ids = next(iter(test_ds.\n",
    "                          map(lambda img, ids:ids).\n",
    "                          unbatch().\n",
    "                          batch(test_size))).numpy().astype('str')"
   ]
  },
  {
   "cell_type": "code",
   "execution_count": 31,
   "metadata": {
    "execution": {
     "iopub.execute_input": "2020-08-16T08:29:23.100303Z",
     "iopub.status.busy": "2020-08-16T08:29:23.099499Z",
     "iopub.status.idle": "2020-08-16T08:29:23.114568Z",
     "shell.execute_reply": "2020-08-16T08:29:23.113702Z"
    },
    "id": "kQ7UGn3vLMgO",
    "papermill": {
     "duration": 0.203155,
     "end_time": "2020-08-16T08:29:23.114699",
     "exception": false,
     "start_time": "2020-08-16T08:29:22.911544",
     "status": "completed"
    },
    "tags": []
   },
   "outputs": [],
   "source": [
    "prediction_dict = {\n",
    "    'image_name': prediction_ids,\n",
    "    'target': np.concatenate(predictions)\n",
    "}\n",
    "submission_ds = pd.DataFrame(prediction_dict)"
   ]
  },
  {
   "cell_type": "code",
   "execution_count": 32,
   "metadata": {
    "execution": {
     "iopub.execute_input": "2020-08-16T08:29:23.381377Z",
     "iopub.status.busy": "2020-08-16T08:29:23.380499Z",
     "iopub.status.idle": "2020-08-16T08:29:23.385799Z",
     "shell.execute_reply": "2020-08-16T08:29:23.385104Z"
    },
    "id": "1A4o3bZ4LMgP",
    "papermill": {
     "duration": 0.143546,
     "end_time": "2020-08-16T08:29:23.385934",
     "exception": false,
     "start_time": "2020-08-16T08:29:23.242388",
     "status": "completed"
    },
    "tags": []
   },
   "outputs": [
    {
     "data": {
      "text/html": [
       "<div>\n",
       "<style scoped>\n",
       "    .dataframe tbody tr th:only-of-type {\n",
       "        vertical-align: middle;\n",
       "    }\n",
       "\n",
       "    .dataframe tbody tr th {\n",
       "        vertical-align: top;\n",
       "    }\n",
       "\n",
       "    .dataframe thead th {\n",
       "        text-align: right;\n",
       "    }\n",
       "</style>\n",
       "<table border=\"1\" class=\"dataframe\">\n",
       "  <thead>\n",
       "    <tr style=\"text-align: right;\">\n",
       "      <th></th>\n",
       "      <th>image_name</th>\n",
       "      <th>target</th>\n",
       "    </tr>\n",
       "  </thead>\n",
       "  <tbody>\n",
       "    <tr>\n",
       "      <th>0</th>\n",
       "      <td>ISIC_6381819</td>\n",
       "      <td>0.815493</td>\n",
       "    </tr>\n",
       "    <tr>\n",
       "      <th>1</th>\n",
       "      <td>ISIC_5583376</td>\n",
       "      <td>0.601476</td>\n",
       "    </tr>\n",
       "    <tr>\n",
       "      <th>2</th>\n",
       "      <td>ISIC_6408546</td>\n",
       "      <td>0.601476</td>\n",
       "    </tr>\n",
       "    <tr>\n",
       "      <th>3</th>\n",
       "      <td>ISIC_6932354</td>\n",
       "      <td>0.601478</td>\n",
       "    </tr>\n",
       "    <tr>\n",
       "      <th>4</th>\n",
       "      <td>ISIC_8191278</td>\n",
       "      <td>0.601477</td>\n",
       "    </tr>\n",
       "  </tbody>\n",
       "</table>\n",
       "</div>"
      ],
      "text/plain": [
       "     image_name    target\n",
       "0  ISIC_6381819  0.815493\n",
       "1  ISIC_5583376  0.601476\n",
       "2  ISIC_6408546  0.601476\n",
       "3  ISIC_6932354  0.601478\n",
       "4  ISIC_8191278  0.601477"
      ]
     },
     "execution_count": 32,
     "metadata": {},
     "output_type": "execute_result"
    }
   ],
   "source": [
    "submission_ds.head()"
   ]
  },
  {
   "cell_type": "code",
   "execution_count": 33,
   "metadata": {
    "execution": {
     "iopub.execute_input": "2020-08-16T08:29:23.648846Z",
     "iopub.status.busy": "2020-08-16T08:29:23.647703Z",
     "iopub.status.idle": "2020-08-16T08:29:23.712555Z",
     "shell.execute_reply": "2020-08-16T08:29:23.711689Z"
    },
    "id": "KcsPat4yLMgQ",
    "papermill": {
     "duration": 0.198677,
     "end_time": "2020-08-16T08:29:23.712696",
     "exception": false,
     "start_time": "2020-08-16T08:29:23.514019",
     "status": "completed"
    },
    "tags": []
   },
   "outputs": [],
   "source": [
    "submission_ds.to_csv('submission.csv', index=False)"
   ]
  },
  {
   "cell_type": "markdown",
   "metadata": {
    "id": "ubGSnZkvLMgR",
    "papermill": {
     "duration": 0.127578,
     "end_time": "2020-08-16T08:29:23.968130",
     "exception": false,
     "start_time": "2020-08-16T08:29:23.840552",
     "status": "completed"
    },
    "tags": []
   },
   "source": [
    "# Metrics"
   ]
  },
  {
   "cell_type": "code",
   "execution_count": 34,
   "metadata": {
    "execution": {
     "iopub.execute_input": "2020-08-16T08:29:24.239561Z",
     "iopub.status.busy": "2020-08-16T08:29:24.238483Z",
     "iopub.status.idle": "2020-08-16T08:29:24.242080Z",
     "shell.execute_reply": "2020-08-16T08:29:24.241451Z"
    },
    "id": "UxBeXMGxLMgR",
    "papermill": {
     "duration": 0.144261,
     "end_time": "2020-08-16T08:29:24.242219",
     "exception": false,
     "start_time": "2020-08-16T08:29:24.097958",
     "status": "completed"
    },
    "tags": []
   },
   "outputs": [],
   "source": [
    "def plot_metric(metric1, metric2, ylabel):\n",
    "    plt.plot(history.history[metric1], label=metric1)\n",
    "    plt.plot(history.history[metric2], label=metric2)\n",
    "    plt.ylabel(ylabel)\n",
    "    plt.xlabel('epoch')\n",
    "    plt.legend()\n",
    "    plt.show()"
   ]
  },
  {
   "cell_type": "code",
   "execution_count": 35,
   "metadata": {
    "execution": {
     "iopub.execute_input": "2020-08-16T08:29:24.505540Z",
     "iopub.status.busy": "2020-08-16T08:29:24.504685Z",
     "iopub.status.idle": "2020-08-16T08:29:25.145076Z",
     "shell.execute_reply": "2020-08-16T08:29:25.144291Z"
    },
    "id": "eMIClAMiLMgS",
    "papermill": {
     "duration": 0.773877,
     "end_time": "2020-08-16T08:29:25.145206",
     "exception": false,
     "start_time": "2020-08-16T08:29:24.371329",
     "status": "completed"
    },
    "tags": []
   },
   "outputs": [
    {
     "data": {
      "image/png": "[encoded data removed]",
      "text/plain": [
       "<Figure size 432x288 with 1 Axes>"
      ]
     },
     "metadata": {
      "needs_background": "light"
     },
     "output_type": "display_data"
    },
    {
     "data": {
      "image/png": "[encoded data removed]",
      "text/plain": [
       "<Figure size 432x288 with 1 Axes>"
      ]
     },
     "metadata": {
      "needs_background": "light"
     },
     "output_type": "display_data"
    },
    {
     "data": {
      "image/png": "[encoded data removed]",
      "text/plain": [
       "<Figure size 432x288 with 1 Axes>"
      ]
     },
     "metadata": {
      "needs_background": "light"
     },
     "output_type": "display_data"
    }
   ],
   "source": [
    "plot_metric('auc', 'val_auc', 'auc')\n",
    "plot_metric('loss', 'val_loss', 'loss')\n",
    "plot_metric('accuracy', 'val_accuracy', 'accuracy')"
   ]
  },
  {
   "cell_type": "code",
   "execution_count": 36,
   "metadata": {
    "execution": {
     "iopub.execute_input": "2020-08-16T08:29:25.437930Z",
     "iopub.status.busy": "2020-08-16T08:29:25.436847Z",
     "iopub.status.idle": "2020-08-16T08:29:25.442103Z",
     "shell.execute_reply": "2020-08-16T08:29:25.442677Z"
    },
    "id": "5Q8vZ-fALMgS",
    "papermill": {
     "duration": 0.148961,
     "end_time": "2020-08-16T08:29:25.442876",
     "exception": false,
     "start_time": "2020-08-16T08:29:25.293915",
     "status": "completed"
    },
    "tags": []
   },
   "outputs": [
    {
     "data": {
      "text/plain": [
       "{'auc': [0.5519592761993408,\n",
       "  0.6034871339797974,\n",
       "  0.6515713334083557,\n",
       "  0.6944467425346375,\n",
       "  0.7207053303718567,\n",
       "  0.7523835301399231,\n",
       "  0.7733964323997498,\n",
       "  0.7876133322715759,\n",
       "  0.8135900497436523,\n",
       "  0.8723440170288086,\n",
       "  0.8811525702476501,\n",
       "  0.8866137266159058,\n",
       "  0.8979663252830505,\n",
       "  0.9086024165153503,\n",
       "  0.9208170771598816,\n",
       "  0.937260627746582,\n",
       "  0.9421738386154175,\n",
       "  0.9475752711296082,\n",
       "  0.9555260539054871,\n",
       "  0.956043004989624,\n",
       "  0.9594634771347046,\n",
       "  0.9607964754104614,\n",
       "  0.9598474502563477,\n",
       "  0.9646613001823425,\n",
       "  0.969525933265686,\n",
       "  0.9708380103111267,\n",
       "  0.9733035564422607,\n",
       "  0.9690686464309692,\n",
       "  0.9771106243133545,\n",
       "  0.9704310297966003,\n",
       "  0.9715354442596436,\n",
       "  0.9732648730278015,\n",
       "  0.9714673161506653,\n",
       "  0.9728734493255615,\n",
       "  0.9748080968856812,\n",
       "  0.9748367667198181,\n",
       "  0.9756808280944824,\n",
       "  0.9738290905952454,\n",
       "  0.9728285074234009,\n",
       "  0.9755961894989014,\n",
       "  0.9761260747909546,\n",
       "  0.9771440029144287,\n",
       "  0.9778311252593994,\n",
       "  0.978450357913971,\n",
       "  0.9777535796165466,\n",
       "  0.9777745604515076],\n",
       " 'tp': [524.0,\n",
       "  526.0,\n",
       "  529.0,\n",
       "  527.0,\n",
       "  525.0,\n",
       "  533.0,\n",
       "  528.0,\n",
       "  526.0,\n",
       "  534.0,\n",
       "  519.0,\n",
       "  537.0,\n",
       "  533.0,\n",
       "  529.0,\n",
       "  528.0,\n",
       "  526.0,\n",
       "  527.0,\n",
       "  524.0,\n",
       "  528.0,\n",
       "  529.0,\n",
       "  527.0,\n",
       "  529.0,\n",
       "  523.0,\n",
       "  534.0,\n",
       "  526.0,\n",
       "  525.0,\n",
       "  532.0,\n",
       "  529.0,\n",
       "  524.0,\n",
       "  525.0,\n",
       "  526.0,\n",
       "  527.0,\n",
       "  529.0,\n",
       "  532.0,\n",
       "  527.0,\n",
       "  529.0,\n",
       "  528.0,\n",
       "  525.0,\n",
       "  524.0,\n",
       "  522.0,\n",
       "  531.0,\n",
       "  531.0,\n",
       "  519.0,\n",
       "  533.0,\n",
       "  524.0,\n",
       "  527.0,\n",
       "  529.0],\n",
       " 'fn': [0.0,\n",
       "  0.0,\n",
       "  0.0,\n",
       "  0.0,\n",
       "  0.0,\n",
       "  0.0,\n",
       "  0.0,\n",
       "  0.0,\n",
       "  0.0,\n",
       "  0.0,\n",
       "  0.0,\n",
       "  0.0,\n",
       "  0.0,\n",
       "  0.0,\n",
       "  0.0,\n",
       "  0.0,\n",
       "  0.0,\n",
       "  0.0,\n",
       "  0.0,\n",
       "  0.0,\n",
       "  0.0,\n",
       "  0.0,\n",
       "  0.0,\n",
       "  0.0,\n",
       "  0.0,\n",
       "  0.0,\n",
       "  0.0,\n",
       "  0.0,\n",
       "  0.0,\n",
       "  0.0,\n",
       "  0.0,\n",
       "  0.0,\n",
       "  0.0,\n",
       "  0.0,\n",
       "  0.0,\n",
       "  0.0,\n",
       "  0.0,\n",
       "  0.0,\n",
       "  0.0,\n",
       "  0.0,\n",
       "  0.0,\n",
       "  0.0,\n",
       "  0.0,\n",
       "  0.0,\n",
       "  0.0,\n",
       "  0.0],\n",
       " 'loss': [0.8928393721580505,\n",
       "  0.8876264691352844,\n",
       "  0.8826673626899719,\n",
       "  0.876532256603241,\n",
       "  0.870604932308197,\n",
       "  0.8660686016082764,\n",
       "  0.8590997457504272,\n",
       "  0.8525509238243103,\n",
       "  0.6965768337249756,\n",
       "  0.6533560156822205,\n",
       "  0.6412093639373779,\n",
       "  0.6270273923873901,\n",
       "  0.6154371500015259,\n",
       "  0.6017064452171326,\n",
       "  0.5876114964485168,\n",
       "  0.5766010880470276,\n",
       "  0.5655867457389832,\n",
       "  0.5561977028846741,\n",
       "  0.5446341633796692,\n",
       "  0.5428427457809448,\n",
       "  0.5341407656669617,\n",
       "  0.5277497172355652,\n",
       "  0.5221543908119202,\n",
       "  0.5123692154884338,\n",
       "  0.505890429019928,\n",
       "  0.5024088025093079,\n",
       "  0.4985004663467407,\n",
       "  0.4936297535896301,\n",
       "  0.4896005690097809,\n",
       "  0.4876997470855713,\n",
       "  0.48308369517326355,\n",
       "  0.47979748249053955,\n",
       "  0.47730910778045654,\n",
       "  0.4733557403087616,\n",
       "  0.47167545557022095,\n",
       "  0.4702305197715759,\n",
       "  0.4658544361591339,\n",
       "  0.4653289020061493,\n",
       "  0.46267154812812805,\n",
       "  0.46480458974838257,\n",
       "  0.4608182907104492,\n",
       "  0.45667850971221924,\n",
       "  0.4575357735157013,\n",
       "  0.45470312237739563,\n",
       "  0.45423465967178345,\n",
       "  0.45420166850090027],\n",
       " 'accuracy': [0.017645474523305893,\n",
       "  0.017712824046611786,\n",
       "  0.017813846468925476,\n",
       "  0.017746496945619583,\n",
       "  0.01767914928495884,\n",
       "  0.017948545515537262,\n",
       "  0.01778017170727253,\n",
       "  0.017712824046611786,\n",
       "  0.01798222027719021,\n",
       "  0.01747710071504116,\n",
       "  0.0180832426995039,\n",
       "  0.017948545515537262,\n",
       "  0.017813846468925476,\n",
       "  0.01778017170727253,\n",
       "  0.017712824046611786,\n",
       "  0.017746496945619583,\n",
       "  0.017645474523305893,\n",
       "  0.01778017170727253,\n",
       "  0.017813846468925476,\n",
       "  0.017746496945619583,\n",
       "  0.017813846468925476,\n",
       "  0.017611799761652946,\n",
       "  0.01798222027719021,\n",
       "  0.017712824046611786,\n",
       "  0.01767914928495884,\n",
       "  0.017914870753884315,\n",
       "  0.017813846468925476,\n",
       "  0.017645474523305893,\n",
       "  0.01767914928495884,\n",
       "  0.017712824046611786,\n",
       "  0.017746496945619583,\n",
       "  0.017813846468925476,\n",
       "  0.017914870753884315,\n",
       "  0.017746496945619583,\n",
       "  0.017813846468925476,\n",
       "  0.01778017170727253,\n",
       "  0.01767914928495884,\n",
       "  0.017645474523305893,\n",
       "  0.017578125,\n",
       "  0.01788119599223137,\n",
       "  0.01788119599223137,\n",
       "  0.01747710071504116,\n",
       "  0.017948545515537262,\n",
       "  0.017645474523305893,\n",
       "  0.017746496945619583,\n",
       "  0.017813846468925476],\n",
       " 'val_auc': [0.5427966117858887,\n",
       "  0.5834023952484131,\n",
       "  0.5698173642158508,\n",
       "  0.6094048619270325,\n",
       "  0.6391617655754089,\n",
       "  0.7165680527687073,\n",
       "  0.7200514078140259,\n",
       "  0.7213598489761353,\n",
       "  0.8638490438461304,\n",
       "  0.8417927026748657,\n",
       "  0.8715096712112427,\n",
       "  0.8595430850982666,\n",
       "  0.8181540966033936,\n",
       "  0.835152804851532,\n",
       "  0.8324792981147766,\n",
       "  0.7384135127067566,\n",
       "  0.7117612361907959,\n",
       "  0.7530550956726074,\n",
       "  0.8102773427963257,\n",
       "  0.7422292232513428,\n",
       "  0.7886151075363159,\n",
       "  0.840548038482666,\n",
       "  0.8462555408477783,\n",
       "  0.793340802192688,\n",
       "  0.8036630153656006,\n",
       "  0.7764358520507812,\n",
       "  0.8017523884773254,\n",
       "  0.8015375137329102,\n",
       "  0.7857457399368286,\n",
       "  0.8541786074638367,\n",
       "  0.7206990122795105,\n",
       "  0.7661126255989075,\n",
       "  0.7230965495109558,\n",
       "  0.7917506694793701,\n",
       "  0.7694799900054932,\n",
       "  0.765795111656189,\n",
       "  0.7406896948814392,\n",
       "  0.7118396759033203,\n",
       "  0.7853729128837585,\n",
       "  0.7622769474983215,\n",
       "  0.7798610329627991,\n",
       "  0.7534205913543701,\n",
       "  0.7742143273353577,\n",
       "  0.7317866086959839,\n",
       "  0.7832900285720825,\n",
       "  0.7800406813621521],\n",
       " 'val_tp': [84.0,\n",
       "  87.0,\n",
       "  87.0,\n",
       "  86.0,\n",
       "  83.0,\n",
       "  84.0,\n",
       "  85.0,\n",
       "  85.0,\n",
       "  86.0,\n",
       "  84.0,\n",
       "  86.0,\n",
       "  87.0,\n",
       "  85.0,\n",
       "  85.0,\n",
       "  87.0,\n",
       "  85.0,\n",
       "  85.0,\n",
       "  83.0,\n",
       "  89.0,\n",
       "  85.0,\n",
       "  82.0,\n",
       "  89.0,\n",
       "  88.0,\n",
       "  88.0,\n",
       "  86.0,\n",
       "  84.0,\n",
       "  84.0,\n",
       "  85.0,\n",
       "  83.0,\n",
       "  87.0,\n",
       "  84.0,\n",
       "  85.0,\n",
       "  87.0,\n",
       "  85.0,\n",
       "  87.0,\n",
       "  87.0,\n",
       "  89.0,\n",
       "  86.0,\n",
       "  85.0,\n",
       "  87.0,\n",
       "  87.0,\n",
       "  84.0,\n",
       "  87.0,\n",
       "  89.0,\n",
       "  84.0,\n",
       "  88.0],\n",
       " 'val_fn': [0.0,\n",
       "  0.0,\n",
       "  0.0,\n",
       "  0.0,\n",
       "  0.0,\n",
       "  0.0,\n",
       "  0.0,\n",
       "  0.0,\n",
       "  0.0,\n",
       "  0.0,\n",
       "  0.0,\n",
       "  0.0,\n",
       "  0.0,\n",
       "  0.0,\n",
       "  0.0,\n",
       "  0.0,\n",
       "  0.0,\n",
       "  0.0,\n",
       "  0.0,\n",
       "  0.0,\n",
       "  0.0,\n",
       "  0.0,\n",
       "  0.0,\n",
       "  0.0,\n",
       "  0.0,\n",
       "  0.0,\n",
       "  0.0,\n",
       "  0.0,\n",
       "  0.0,\n",
       "  0.0,\n",
       "  0.0,\n",
       "  0.0,\n",
       "  0.0,\n",
       "  0.0,\n",
       "  0.0,\n",
       "  0.0,\n",
       "  0.0,\n",
       "  0.0,\n",
       "  0.0,\n",
       "  0.0,\n",
       "  0.0,\n",
       "  0.0,\n",
       "  0.0,\n",
       "  0.0,\n",
       "  0.0,\n",
       "  0.0],\n",
       " 'val_loss': [1.4905226230621338,\n",
       "  1.4642841815948486,\n",
       "  1.4421865940093994,\n",
       "  1.4248167276382446,\n",
       "  1.4085050821304321,\n",
       "  1.3954095840454102,\n",
       "  1.3820751905441284,\n",
       "  1.370895266532898,\n",
       "  1.0111546516418457,\n",
       "  1.0321104526519775,\n",
       "  0.9845015406608582,\n",
       "  0.966937243938446,\n",
       "  0.9993106126785278,\n",
       "  0.9523721933364868,\n",
       "  0.9054684638977051,\n",
       "  0.8768758773803711,\n",
       "  0.8453727960586548,\n",
       "  0.8481395840644836,\n",
       "  0.8434869647026062,\n",
       "  0.8216764330863953,\n",
       "  0.8231984972953796,\n",
       "  0.8264301419258118,\n",
       "  0.8069450259208679,\n",
       "  0.797460675239563,\n",
       "  0.7902700304985046,\n",
       "  0.7844323515892029,\n",
       "  0.7787010073661804,\n",
       "  0.7867276072502136,\n",
       "  0.7766836881637573,\n",
       "  0.7874156832695007,\n",
       "  0.7583853602409363,\n",
       "  0.7546634078025818,\n",
       "  0.7490403652191162,\n",
       "  0.7549210786819458,\n",
       "  0.7446563243865967,\n",
       "  0.7413028478622437,\n",
       "  0.7372031211853027,\n",
       "  0.7382684350013733,\n",
       "  0.7359592318534851,\n",
       "  0.7351470589637756,\n",
       "  0.7382935285568237,\n",
       "  0.7293221354484558,\n",
       "  0.7310823798179626,\n",
       "  0.728958785533905,\n",
       "  0.726735532283783,\n",
       "  0.7247778177261353],\n",
       " 'val_accuracy': [0.01640625111758709,\n",
       "  0.01699218712747097,\n",
       "  0.01699218712747097,\n",
       "  0.01679687574505806,\n",
       "  0.01621093787252903,\n",
       "  0.01640625111758709,\n",
       "  0.0166015625,\n",
       "  0.0166015625,\n",
       "  0.01679687574505806,\n",
       "  0.01640625111758709,\n",
       "  0.01679687574505806,\n",
       "  0.01699218712747097,\n",
       "  0.0166015625,\n",
       "  0.0166015625,\n",
       "  0.01699218712747097,\n",
       "  0.0166015625,\n",
       "  0.0166015625,\n",
       "  0.01621093787252903,\n",
       "  0.01738281361758709,\n",
       "  0.0166015625,\n",
       "  0.01601562462747097,\n",
       "  0.01738281361758709,\n",
       "  0.01718750037252903,\n",
       "  0.01718750037252903,\n",
       "  0.01679687574505806,\n",
       "  0.01640625111758709,\n",
       "  0.01640625111758709,\n",
       "  0.0166015625,\n",
       "  0.01621093787252903,\n",
       "  0.01699218712747097,\n",
       "  0.01640625111758709,\n",
       "  0.0166015625,\n",
       "  0.01699218712747097,\n",
       "  0.0166015625,\n",
       "  0.01699218712747097,\n",
       "  0.01699218712747097,\n",
       "  0.01738281361758709,\n",
       "  0.01679687574505806,\n",
       "  0.0166015625,\n",
       "  0.01699218712747097,\n",
       "  0.01699218712747097,\n",
       "  0.01640625111758709,\n",
       "  0.01699218712747097,\n",
       "  0.01738281361758709,\n",
       "  0.01640625111758709,\n",
       "  0.01718750037252903],\n",
       " 'lr': [1e-06,\n",
       "  1e-06,\n",
       "  1e-06,\n",
       "  1e-06,\n",
       "  1e-06,\n",
       "  1e-06,\n",
       "  1e-06,\n",
       "  1e-06,\n",
       "  0.0003,\n",
       "  0.0003,\n",
       "  0.00025500002,\n",
       "  0.00025500002,\n",
       "  0.00021675002,\n",
       "  0.00021675002,\n",
       "  0.00018423752,\n",
       "  0.00018423752,\n",
       "  0.00015660189,\n",
       "  0.00015660189,\n",
       "  0.00013311161,\n",
       "  0.00013311161,\n",
       "  0.000113144866,\n",
       "  0.000113144866,\n",
       "  9.6173135e-05,\n",
       "  9.6173135e-05,\n",
       "  8.174717e-05,\n",
       "  8.174717e-05,\n",
       "  6.948509e-05,\n",
       "  6.948509e-05,\n",
       "  5.9062328e-05,\n",
       "  5.9062328e-05,\n",
       "  5.020298e-05,\n",
       "  5.020298e-05,\n",
       "  4.267253e-05,\n",
       "  4.267253e-05,\n",
       "  3.6271653e-05,\n",
       "  3.6271653e-05,\n",
       "  3.0830906e-05,\n",
       "  3.0830906e-05,\n",
       "  2.6206271e-05,\n",
       "  2.6206271e-05,\n",
       "  2.227533e-05,\n",
       "  2.227533e-05,\n",
       "  1.893403e-05,\n",
       "  1.893403e-05,\n",
       "  1.6093925e-05,\n",
       "  1.6093925e-05]}"
      ]
     },
     "execution_count": 36,
     "metadata": {},
     "output_type": "execute_result"
    }
   ],
   "source": [
    "history.history"
   ]
  },
  {
   "cell_type": "code",
   "execution_count": 37,
   "metadata": {
    "execution": {
     "iopub.execute_input": "2020-08-16T08:29:25.739128Z",
     "iopub.status.busy": "2020-08-16T08:29:25.718466Z",
     "iopub.status.idle": "2020-08-16T08:29:32.614416Z",
     "shell.execute_reply": "2020-08-16T08:29:32.613778Z"
    },
    "id": "2LH6uE5yLMgT",
    "papermill": {
     "duration": 7.040842,
     "end_time": "2020-08-16T08:29:32.614556",
     "exception": false,
     "start_time": "2020-08-16T08:29:25.573714",
     "status": "completed"
    },
    "tags": []
   },
   "outputs": [],
   "source": [
    "model.save('model.h5')"
   ]
  },
  {
   "cell_type": "code",
   "execution_count": null,
   "metadata": {
    "papermill": {
     "duration": 0.127993,
     "end_time": "2020-08-16T08:29:32.870889",
     "exception": false,
     "start_time": "2020-08-16T08:29:32.742896",
     "status": "completed"
    },
    "tags": []
   },
   "outputs": [],
   "source": []
  }
 ],
 "metadata": {
  "kernelspec": {
   "display_name": "Python 3",
   "language": "python",
   "name": "python3"
  },
  "language_info": {
   "codemirror_mode": {
    "name": "ipython",
    "version": 3
   },
   "file_extension": ".py",
   "mimetype": "text/x-python",
   "name": "python",
   "nbconvert_exporter": "python",
   "pygments_lexer": "ipython3",
   "version": "3.7.3"
  },
  "papermill": {
   "duration": 2101.598177,
   "end_time": "2020-08-16T08:29:34.092922",
   "environment_variables": {},
   "exception": null,
   "input_path": "__notebook__.ipynb",
   "output_path": "__notebook__.ipynb",
   "parameters": {},
   "start_time": "2020-08-16T07:54:32.494745",
   "version": "2.1.0"
  }
 },
 "nbformat": 4,
 "nbformat_minor": 4
}
