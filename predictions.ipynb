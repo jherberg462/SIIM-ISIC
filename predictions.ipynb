{
 "cells": [
  {
   "cell_type": "code",
   "execution_count": null,
   "metadata": {
    "_cell_guid": "b1076dfc-b9ad-4769-8c92-a6c4dae69d19",
    "_uuid": "8f2839f25d086af736a60e9eeb907d3b93b6e0e5",
    "colab": {},
    "colab_type": "code",
    "execution": {
     "iopub.execute_input": "2020-08-10T05:29:05.046274Z",
     "iopub.status.busy": "2020-08-10T05:29:05.045400Z",
     "iopub.status.idle": "2020-08-10T05:29:12.636858Z",
     "shell.execute_reply": "2020-08-10T05:29:12.637518Z"
    },
    "id": "PF6_qaQlLMfX",
    "papermill": {
     "duration": 7.621096,
     "end_time": "2020-08-10T05:29:12.637757",
     "exception": false,
     "start_time": "2020-08-10T05:29:05.016661",
     "status": "completed"
    },
    "tags": []
   },
   "outputs": [],
   "source": [
    "!pip install fsspec --upgrade"
   ]
  },
  {
   "cell_type": "code",
   "execution_count": 1,
   "metadata": {
    "colab": {},
    "colab_type": "code",
    "id": "GS3hpqThLMfd"
   },
   "outputs": [],
   "source": [
    "import numpy as np # linear algebra\n",
    "import pandas as pd # data processing, CSV file I/O (e.g. pd.read_csv)\n",
    "\n",
    "\n",
    "import os\n",
    "\n",
    "import tensorflow as tf\n",
    "from tensorflow.keras import layers \n",
    "from tensorflow import keras\n",
    "import tensorflow_hub as hub\n",
    "from sklearn.model_selection import train_test_split\n",
    "from matplotlib import pyplot as plt\n",
    "\n",
    "try:\n",
    "    from kaggle_datasets import KaggleDatasets\n",
    "    dataset_gcs = KaggleDatasets().get_gcs_path('siim-isic-melanoma-classification')\n",
    "    print('got GCS path via KaggleDatasets .get_gcs_path method')\n",
    "except ModuleNotFoundError:\n",
    "    #hardcode path while testing locally\n",
    "    dataset_gcs = 'gs://'\n"
   ]
  },
  {
   "cell_type": "code",
   "execution_count": 2,
   "metadata": {
    "_cell_guid": "79c7e3d0-c299-4dcb-8224-4455121ee9b0",
    "_uuid": "d629ff2d2480ee46fbb7e2d37f6b5fab8052498a",
    "colab": {
     "base_uri": "https://localhost:8080/",
     "height": 37
    },
    "colab_type": "code",
    "execution": {
     "iopub.execute_input": "2020-08-10T05:29:12.686320Z",
     "iopub.status.busy": "2020-08-10T05:29:12.685158Z",
     "iopub.status.idle": "2020-08-10T05:29:12.690065Z",
     "shell.execute_reply": "2020-08-10T05:29:12.689312Z"
    },
    "id": "5-hPqmwDLMfh",
    "outputId": "7d535f4b-b505-48a5-c0e8-aa8381dd2b7b",
    "papermill": {
     "duration": 0.030991,
     "end_time": "2020-08-10T05:29:12.690195",
     "exception": false,
     "start_time": "2020-08-10T05:29:12.659204",
     "status": "completed"
    },
    "tags": []
   },
   "outputs": [
    {
     "data": {
      "application/vnd.google.colaboratory.intrinsic+json": {
       "type": "string"
      },
      "text/plain": [
       "'2.3.0'"
      ]
     },
     "execution_count": 2,
     "metadata": {
      "tags": []
     },
     "output_type": "execute_result"
    }
   ],
   "source": [
    "tf.__version__\n"
   ]
  },
  {
   "cell_type": "code",
   "execution_count": 3,
   "metadata": {
    "colab": {},
    "colab_type": "code",
    "execution": {
     "iopub.execute_input": "2020-08-10T05:29:12.736349Z",
     "iopub.status.busy": "2020-08-10T05:29:12.735260Z",
     "iopub.status.idle": "2020-08-10T05:29:12.738583Z",
     "shell.execute_reply": "2020-08-10T05:29:12.737845Z"
    },
    "id": "aTNSywU3LMfk",
    "papermill": {
     "duration": 0.028214,
     "end_time": "2020-08-10T05:29:12.738719",
     "exception": false,
     "start_time": "2020-08-10T05:29:12.710505",
     "status": "completed"
    },
    "tags": []
   },
   "outputs": [],
   "source": [
    "params = {\n",
    "    'batch_size' : 128,\n",
    "    'img_size' : [224, 224],\n",
    "    'epochs': 150\n",
    "}\n"
   ]
  },
  {
   "cell_type": "code",
   "execution_count": 4,
   "metadata": {
    "colab": {
     "base_uri": "https://localhost:8080/",
     "height": 768
    },
    "colab_type": "code",
    "execution": {
     "iopub.execute_input": "2020-08-10T05:29:12.890509Z",
     "iopub.status.busy": "2020-08-10T05:29:12.786292Z",
     "iopub.status.idle": "2020-08-10T05:29:17.045160Z",
     "shell.execute_reply": "2020-08-10T05:29:17.044059Z"
    },
    "id": "dQ4ru6rMLMfm",
    "outputId": "6ac22328-013b-4984-df25-74472293cac1",
    "papermill": {
     "duration": 4.287003,
     "end_time": "2020-08-10T05:29:17.045350",
     "exception": false,
     "start_time": "2020-08-10T05:29:12.758347",
     "status": "completed"
    },
    "tags": []
   },
   "outputs": [
    {
     "name": "stdout",
     "output_type": "stream",
     "text": [
      "Running on TPU  grpc://10.126.129.58:8470\n",
      "INFO:tensorflow:Initializing the TPU system: grpc://10.126.129.58:8470\n"
     ]
    },
    {
     "name": "stderr",
     "output_type": "stream",
     "text": [
      "INFO:tensorflow:Initializing the TPU system: grpc://10.126.129.58:8470\n"
     ]
    },
    {
     "name": "stdout",
     "output_type": "stream",
     "text": [
      "INFO:tensorflow:Clearing out eager caches\n"
     ]
    },
    {
     "name": "stderr",
     "output_type": "stream",
     "text": [
      "INFO:tensorflow:Clearing out eager caches\n"
     ]
    },
    {
     "name": "stdout",
     "output_type": "stream",
     "text": [
      "INFO:tensorflow:Finished initializing TPU system.\n"
     ]
    },
    {
     "name": "stderr",
     "output_type": "stream",
     "text": [
      "INFO:tensorflow:Finished initializing TPU system.\n",
      "WARNING:absl:`tf.distribute.experimental.TPUStrategy` is deprecated, please use  the non experimental symbol `tf.distribute.TPUStrategy` instead.\n"
     ]
    },
    {
     "name": "stdout",
     "output_type": "stream",
     "text": [
      "INFO:tensorflow:Found TPU system:\n"
     ]
    },
    {
     "name": "stderr",
     "output_type": "stream",
     "text": [
      "INFO:tensorflow:Found TPU system:\n"
     ]
    },
    {
     "name": "stdout",
     "output_type": "stream",
     "text": [
      "INFO:tensorflow:*** Num TPU Cores: 8\n"
     ]
    },
    {
     "name": "stderr",
     "output_type": "stream",
     "text": [
      "INFO:tensorflow:*** Num TPU Cores: 8\n"
     ]
    },
    {
     "name": "stdout",
     "output_type": "stream",
     "text": [
      "INFO:tensorflow:*** Num TPU Workers: 1\n"
     ]
    },
    {
     "name": "stderr",
     "output_type": "stream",
     "text": [
      "INFO:tensorflow:*** Num TPU Workers: 1\n"
     ]
    },
    {
     "name": "stdout",
     "output_type": "stream",
     "text": [
      "INFO:tensorflow:*** Num TPU Cores Per Worker: 8\n"
     ]
    },
    {
     "name": "stderr",
     "output_type": "stream",
     "text": [
      "INFO:tensorflow:*** Num TPU Cores Per Worker: 8\n"
     ]
    },
    {
     "name": "stdout",
     "output_type": "stream",
     "text": [
      "INFO:tensorflow:*** Available Device: _DeviceAttributes(/job:localhost/replica:0/task:0/device:CPU:0, CPU, 0, 0)\n"
     ]
    },
    {
     "name": "stderr",
     "output_type": "stream",
     "text": [
      "INFO:tensorflow:*** Available Device: _DeviceAttributes(/job:localhost/replica:0/task:0/device:CPU:0, CPU, 0, 0)\n"
     ]
    },
    {
     "name": "stdout",
     "output_type": "stream",
     "text": [
      "INFO:tensorflow:*** Available Device: _DeviceAttributes(/job:localhost/replica:0/task:0/device:XLA_CPU:0, XLA_CPU, 0, 0)\n"
     ]
    },
    {
     "name": "stderr",
     "output_type": "stream",
     "text": [
      "INFO:tensorflow:*** Available Device: _DeviceAttributes(/job:localhost/replica:0/task:0/device:XLA_CPU:0, XLA_CPU, 0, 0)\n"
     ]
    },
    {
     "name": "stdout",
     "output_type": "stream",
     "text": [
      "INFO:tensorflow:*** Available Device: _DeviceAttributes(/job:worker/replica:0/task:0/device:CPU:0, CPU, 0, 0)\n"
     ]
    },
    {
     "name": "stderr",
     "output_type": "stream",
     "text": [
      "INFO:tensorflow:*** Available Device: _DeviceAttributes(/job:worker/replica:0/task:0/device:CPU:0, CPU, 0, 0)\n"
     ]
    },
    {
     "name": "stdout",
     "output_type": "stream",
     "text": [
      "INFO:tensorflow:*** Available Device: _DeviceAttributes(/job:worker/replica:0/task:0/device:TPU:0, TPU, 0, 0)\n"
     ]
    },
    {
     "name": "stderr",
     "output_type": "stream",
     "text": [
      "INFO:tensorflow:*** Available Device: _DeviceAttributes(/job:worker/replica:0/task:0/device:TPU:0, TPU, 0, 0)\n"
     ]
    },
    {
     "name": "stdout",
     "output_type": "stream",
     "text": [
      "INFO:tensorflow:*** Available Device: _DeviceAttributes(/job:worker/replica:0/task:0/device:TPU:1, TPU, 0, 0)\n"
     ]
    },
    {
     "name": "stderr",
     "output_type": "stream",
     "text": [
      "INFO:tensorflow:*** Available Device: _DeviceAttributes(/job:worker/replica:0/task:0/device:TPU:1, TPU, 0, 0)\n"
     ]
    },
    {
     "name": "stdout",
     "output_type": "stream",
     "text": [
      "INFO:tensorflow:*** Available Device: _DeviceAttributes(/job:worker/replica:0/task:0/device:TPU:2, TPU, 0, 0)\n"
     ]
    },
    {
     "name": "stderr",
     "output_type": "stream",
     "text": [
      "INFO:tensorflow:*** Available Device: _DeviceAttributes(/job:worker/replica:0/task:0/device:TPU:2, TPU, 0, 0)\n"
     ]
    },
    {
     "name": "stdout",
     "output_type": "stream",
     "text": [
      "INFO:tensorflow:*** Available Device: _DeviceAttributes(/job:worker/replica:0/task:0/device:TPU:3, TPU, 0, 0)\n"
     ]
    },
    {
     "name": "stderr",
     "output_type": "stream",
     "text": [
      "INFO:tensorflow:*** Available Device: _DeviceAttributes(/job:worker/replica:0/task:0/device:TPU:3, TPU, 0, 0)\n"
     ]
    },
    {
     "name": "stdout",
     "output_type": "stream",
     "text": [
      "INFO:tensorflow:*** Available Device: _DeviceAttributes(/job:worker/replica:0/task:0/device:TPU:4, TPU, 0, 0)\n"
     ]
    },
    {
     "name": "stderr",
     "output_type": "stream",
     "text": [
      "INFO:tensorflow:*** Available Device: _DeviceAttributes(/job:worker/replica:0/task:0/device:TPU:4, TPU, 0, 0)\n"
     ]
    },
    {
     "name": "stdout",
     "output_type": "stream",
     "text": [
      "INFO:tensorflow:*** Available Device: _DeviceAttributes(/job:worker/replica:0/task:0/device:TPU:5, TPU, 0, 0)\n"
     ]
    },
    {
     "name": "stderr",
     "output_type": "stream",
     "text": [
      "INFO:tensorflow:*** Available Device: _DeviceAttributes(/job:worker/replica:0/task:0/device:TPU:5, TPU, 0, 0)\n"
     ]
    },
    {
     "name": "stdout",
     "output_type": "stream",
     "text": [
      "INFO:tensorflow:*** Available Device: _DeviceAttributes(/job:worker/replica:0/task:0/device:TPU:6, TPU, 0, 0)\n"
     ]
    },
    {
     "name": "stderr",
     "output_type": "stream",
     "text": [
      "INFO:tensorflow:*** Available Device: _DeviceAttributes(/job:worker/replica:0/task:0/device:TPU:6, TPU, 0, 0)\n"
     ]
    },
    {
     "name": "stdout",
     "output_type": "stream",
     "text": [
      "INFO:tensorflow:*** Available Device: _DeviceAttributes(/job:worker/replica:0/task:0/device:TPU:7, TPU, 0, 0)\n"
     ]
    },
    {
     "name": "stderr",
     "output_type": "stream",
     "text": [
      "INFO:tensorflow:*** Available Device: _DeviceAttributes(/job:worker/replica:0/task:0/device:TPU:7, TPU, 0, 0)\n"
     ]
    },
    {
     "name": "stdout",
     "output_type": "stream",
     "text": [
      "INFO:tensorflow:*** Available Device: _DeviceAttributes(/job:worker/replica:0/task:0/device:TPU_SYSTEM:0, TPU_SYSTEM, 0, 0)\n"
     ]
    },
    {
     "name": "stderr",
     "output_type": "stream",
     "text": [
      "INFO:tensorflow:*** Available Device: _DeviceAttributes(/job:worker/replica:0/task:0/device:TPU_SYSTEM:0, TPU_SYSTEM, 0, 0)\n"
     ]
    },
    {
     "name": "stdout",
     "output_type": "stream",
     "text": [
      "INFO:tensorflow:*** Available Device: _DeviceAttributes(/job:worker/replica:0/task:0/device:XLA_CPU:0, XLA_CPU, 0, 0)\n"
     ]
    },
    {
     "name": "stderr",
     "output_type": "stream",
     "text": [
      "INFO:tensorflow:*** Available Device: _DeviceAttributes(/job:worker/replica:0/task:0/device:XLA_CPU:0, XLA_CPU, 0, 0)\n"
     ]
    },
    {
     "name": "stdout",
     "output_type": "stream",
     "text": [
      "REPLICAS:  8\n"
     ]
    }
   ],
   "source": [
    "try:\n",
    "    # TPU detection. No parameters necessary if TPU_NAME environment variable is\n",
    "    # set: this is always the case on Kaggle.\n",
    "    tpu = tf.distribute.cluster_resolver.TPUClusterResolver()\n",
    "    print('Running on TPU ', tpu.master())\n",
    "except ValueError:\n",
    "    tpu = None\n",
    "\n",
    "if tpu:\n",
    "    tf.config.experimental_connect_to_cluster(tpu)\n",
    "    tf.tpu.experimental.initialize_tpu_system(tpu)\n",
    "    strategy = tf.distribute.experimental.TPUStrategy(tpu)\n",
    "else:\n",
    "    # Default distribution strategy in Tensorflow. Works on CPU and single GPU.\n",
    "    strategy = tf.distribute.get_strategy()\n",
    "\n",
    "print(\"REPLICAS: \", strategy.num_replicas_in_sync)"
   ]
  },
  {
   "cell_type": "code",
   "execution_count": 5,
   "metadata": {
    "colab": {},
    "colab_type": "code",
    "execution": {
     "iopub.execute_input": "2020-08-10T05:29:17.098573Z",
     "iopub.status.busy": "2020-08-10T05:29:17.097557Z",
     "iopub.status.idle": "2020-08-10T05:29:17.101236Z",
     "shell.execute_reply": "2020-08-10T05:29:17.100579Z"
    },
    "id": "Z0DRQE47LMfp",
    "papermill": {
     "duration": 0.030113,
     "end_time": "2020-08-10T05:29:17.101371",
     "exception": false,
     "start_time": "2020-08-10T05:29:17.071258",
     "status": "completed"
    },
    "tags": []
   },
   "outputs": [],
   "source": [
    "params['batch_size'] = params['batch_size'] * strategy.num_replicas_in_sync"
   ]
  },
  {
   "cell_type": "code",
   "execution_count": 6,
   "metadata": {
    "colab": {
     "base_uri": "https://localhost:8080/",
     "height": 343
    },
    "colab_type": "code",
    "execution": {
     "iopub.execute_input": "2020-08-10T05:29:17.149207Z",
     "iopub.status.busy": "2020-08-10T05:29:17.148291Z",
     "iopub.status.idle": "2020-08-10T05:29:17.150875Z",
     "shell.execute_reply": "2020-08-10T05:29:17.151459Z"
    },
    "id": "GWzXMYZyLMfs",
    "outputId": "bd168bc8-4197-4c47-c36b-3f210266e0e5",
    "papermill": {
     "duration": 0.028759,
     "end_time": "2020-08-10T05:29:17.151631",
     "exception": false,
     "start_time": "2020-08-10T05:29:17.122872",
     "status": "completed"
    },
    "tags": []
   },
   "outputs": [
    {
     "name": "stdout",
     "output_type": "stream",
     "text": [
      "Requirement already satisfied: gcsfs in /usr/local/lib/python3.6/dist-packages (0.6.2)\n",
      "Requirement already satisfied: fsspec>=0.6.0 in /usr/local/lib/python3.6/dist-packages (from gcsfs) (0.8.0)\n",
      "Requirement already satisfied: google-auth>=1.2 in /usr/local/lib/python3.6/dist-packages (from gcsfs) (1.17.2)\n",
      "Requirement already satisfied: google-auth-oauthlib in /usr/local/lib/python3.6/dist-packages (from gcsfs) (0.4.1)\n",
      "Requirement already satisfied: decorator in /usr/local/lib/python3.6/dist-packages (from gcsfs) (4.4.2)\n",
      "Requirement already satisfied: requests in /usr/local/lib/python3.6/dist-packages (from gcsfs) (2.23.0)\n",
      "Requirement already satisfied: cachetools<5.0,>=2.0.0 in /usr/local/lib/python3.6/dist-packages (from google-auth>=1.2->gcsfs) (4.1.1)\n",
      "Requirement already satisfied: setuptools>=40.3.0 in /usr/local/lib/python3.6/dist-packages (from google-auth>=1.2->gcsfs) (49.2.0)\n",
      "Requirement already satisfied: pyasn1-modules>=0.2.1 in /usr/local/lib/python3.6/dist-packages (from google-auth>=1.2->gcsfs) (0.2.8)\n",
      "Requirement already satisfied: six>=1.9.0 in /usr/local/lib/python3.6/dist-packages (from google-auth>=1.2->gcsfs) (1.15.0)\n",
      "Requirement already satisfied: rsa<5,>=3.1.4; python_version >= \"3\" in /usr/local/lib/python3.6/dist-packages (from google-auth>=1.2->gcsfs) (4.6)\n",
      "Requirement already satisfied: requests-oauthlib>=0.7.0 in /usr/local/lib/python3.6/dist-packages (from google-auth-oauthlib->gcsfs) (1.3.0)\n",
      "Requirement already satisfied: certifi>=2017.4.17 in /usr/local/lib/python3.6/dist-packages (from requests->gcsfs) (2020.6.20)\n",
      "Requirement already satisfied: chardet<4,>=3.0.2 in /usr/local/lib/python3.6/dist-packages (from requests->gcsfs) (3.0.4)\n",
      "Requirement already satisfied: urllib3!=1.25.0,!=1.25.1,<1.26,>=1.21.1 in /usr/local/lib/python3.6/dist-packages (from requests->gcsfs) (1.24.3)\n",
      "Requirement already satisfied: idna<3,>=2.5 in /usr/local/lib/python3.6/dist-packages (from requests->gcsfs) (2.10)\n",
      "Requirement already satisfied: pyasn1<0.5.0,>=0.4.6 in /usr/local/lib/python3.6/dist-packages (from pyasn1-modules>=0.2.1->google-auth>=1.2->gcsfs) (0.4.8)\n",
      "Requirement already satisfied: oauthlib>=3.0.0 in /usr/local/lib/python3.6/dist-packages (from requests-oauthlib>=0.7.0->google-auth-oauthlib->gcsfs) (3.1.0)\n"
     ]
    }
   ],
   "source": [
    "# sub = pd.read_csv(dataset_gcs + '/sample_submission.csv')\n",
    "# sub.head(1)\n",
    "!pip install gcsfs"
   ]
  },
  {
   "cell_type": "code",
   "execution_count": 7,
   "metadata": {
    "colab": {
     "base_uri": "https://localhost:8080/",
     "height": 162
    },
    "colab_type": "code",
    "execution": {
     "iopub.execute_input": "2020-08-10T05:29:17.201629Z",
     "iopub.status.busy": "2020-08-10T05:29:17.200809Z",
     "iopub.status.idle": "2020-08-10T05:29:26.666973Z",
     "shell.execute_reply": "2020-08-10T05:29:26.666355Z"
    },
    "id": "UeRPDwBrLMfu",
    "outputId": "af4a8535-ac78-4f33-c437-5b5ce126b364",
    "papermill": {
     "duration": 9.493676,
     "end_time": "2020-08-10T05:29:26.667129",
     "exception": false,
     "start_time": "2020-08-10T05:29:17.173453",
     "status": "completed"
    },
    "tags": []
   },
   "outputs": [
    {
     "data": {
      "text/html": [
       "<div>\n",
       "<style scoped>\n",
       "    .dataframe tbody tr th:only-of-type {\n",
       "        vertical-align: middle;\n",
       "    }\n",
       "\n",
       "    .dataframe tbody tr th {\n",
       "        vertical-align: top;\n",
       "    }\n",
       "\n",
       "    .dataframe thead th {\n",
       "        text-align: right;\n",
       "    }\n",
       "</style>\n",
       "<table border=\"1\" class=\"dataframe\">\n",
       "  <thead>\n",
       "    <tr style=\"text-align: right;\">\n",
       "      <th></th>\n",
       "      <th>image_name</th>\n",
       "      <th>patient_id</th>\n",
       "      <th>sex</th>\n",
       "      <th>age_approx</th>\n",
       "      <th>anatom_site_general_challenge</th>\n",
       "      <th>diagnosis</th>\n",
       "      <th>benign_malignant</th>\n",
       "    </tr>\n",
       "    <tr>\n",
       "      <th>target</th>\n",
       "      <th></th>\n",
       "      <th></th>\n",
       "      <th></th>\n",
       "      <th></th>\n",
       "      <th></th>\n",
       "      <th></th>\n",
       "      <th></th>\n",
       "    </tr>\n",
       "  </thead>\n",
       "  <tbody>\n",
       "    <tr>\n",
       "      <th>0</th>\n",
       "      <td>32542</td>\n",
       "      <td>32542</td>\n",
       "      <td>32477</td>\n",
       "      <td>32474</td>\n",
       "      <td>32024</td>\n",
       "      <td>32542</td>\n",
       "      <td>32542</td>\n",
       "    </tr>\n",
       "    <tr>\n",
       "      <th>1</th>\n",
       "      <td>584</td>\n",
       "      <td>584</td>\n",
       "      <td>584</td>\n",
       "      <td>584</td>\n",
       "      <td>575</td>\n",
       "      <td>584</td>\n",
       "      <td>584</td>\n",
       "    </tr>\n",
       "  </tbody>\n",
       "</table>\n",
       "</div>"
      ],
      "text/plain": [
       "        image_name  patient_id  ...  diagnosis  benign_malignant\n",
       "target                          ...                             \n",
       "0            32542       32542  ...      32542             32542\n",
       "1              584         584  ...        584               584\n",
       "\n",
       "[2 rows x 7 columns]"
      ]
     },
     "execution_count": 7,
     "metadata": {
      "tags": []
     },
     "output_type": "execute_result"
    }
   ],
   "source": [
    "train_df = pd.read_csv(dataset_gcs + '/train.csv')\n",
    "train_df.groupby('target').count() "
   ]
  },
  {
   "cell_type": "code",
   "execution_count": 8,
   "metadata": {
    "colab": {},
    "colab_type": "code",
    "execution": {
     "iopub.execute_input": "2020-08-10T05:29:26.721346Z",
     "iopub.status.busy": "2020-08-10T05:29:26.720466Z",
     "iopub.status.idle": "2020-08-10T05:29:26.723851Z",
     "shell.execute_reply": "2020-08-10T05:29:26.723121Z"
    },
    "id": "3QB0P3M8LMfw",
    "papermill": {
     "duration": 0.034585,
     "end_time": "2020-08-10T05:29:26.723985",
     "exception": false,
     "start_time": "2020-08-10T05:29:26.689400",
     "status": "completed"
    },
    "tags": []
   },
   "outputs": [],
   "source": [
    "def decode_image_label(tfrec):\n",
    "    '''\n",
    "    function to decode an image and target label from tfrecord\n",
    "    \n",
    "    args:\n",
    "        tfrec: tfrecord, single record of training/validation data\n",
    "    \n",
    "    returns:\n",
    "        decoded_image: tensor, converted image from tfrecord\n",
    "        label: tensor, integer, either 1 or 0\n",
    "    \n",
    "    '''\n",
    "    \n",
    "    features_dictionary = {\n",
    "        'image': tf.io.FixedLenFeature([], tf.string),\n",
    "        \"target\": tf.io.FixedLenFeature([], tf.int64)\n",
    "        }\n",
    "    features = tf.io.parse_single_example(tfrec, features_dictionary)\n",
    "    decoded_image = tf.io.decode_jpeg(features['image'], 3)\n",
    "    decoded_image = tf.image.resize(decoded_image, params['img_size'])\n",
    "    label = features['target']\n",
    "    \n",
    "    return decoded_image, label\n",
    "    \n"
   ]
  },
  {
   "cell_type": "code",
   "execution_count": 9,
   "metadata": {
    "colab": {},
    "colab_type": "code",
    "execution": {
     "iopub.execute_input": "2020-08-10T05:29:26.777665Z",
     "iopub.status.busy": "2020-08-10T05:29:26.776646Z",
     "iopub.status.idle": "2020-08-10T05:29:26.779776Z",
     "shell.execute_reply": "2020-08-10T05:29:26.779192Z"
    },
    "id": "KGXvzF6BLMfy",
    "papermill": {
     "duration": 0.034023,
     "end_time": "2020-08-10T05:29:26.779907",
     "exception": false,
     "start_time": "2020-08-10T05:29:26.745884",
     "status": "completed"
    },
    "tags": []
   },
   "outputs": [],
   "source": [
    "def decode_image(tfrec):\n",
    "    '''\n",
    "    function to decode an image from tfrecord\n",
    "    \n",
    "    args:\n",
    "        tfrec: tfrecord, single record of training/validation data\n",
    "    \n",
    "    returns:\n",
    "        decoded_image: tensor, converted image from tfrecord\n",
    "        img_name: tensor, string, Id of the decoded image\n",
    "    \n",
    "    '''\n",
    "    \n",
    "    features_dictionary = {\n",
    "        'image': tf.io.FixedLenFeature([], tf.string),\n",
    "        \"image_name\": tf.io.FixedLenFeature([], tf.string)\n",
    "        }\n",
    "    features = tf.io.parse_single_example(tfrec, features_dictionary)\n",
    "    decoded_image = tf.io.decode_jpeg(features['image'], 3)\n",
    "    decoded_image = tf.image.resize(decoded_image, params['img_size'])\n",
    "    img_name = features['image_name']\n",
    "    \n",
    "    return decoded_image, img_name"
   ]
  },
  {
   "cell_type": "code",
   "execution_count": 10,
   "metadata": {
    "colab": {},
    "colab_type": "code",
    "execution": {
     "iopub.execute_input": "2020-08-10T05:29:26.833829Z",
     "iopub.status.busy": "2020-08-10T05:29:26.832680Z",
     "iopub.status.idle": "2020-08-10T05:29:26.836282Z",
     "shell.execute_reply": "2020-08-10T05:29:26.835513Z"
    },
    "id": "1YjPx4SWLMfz",
    "papermill": {
     "duration": 0.034237,
     "end_time": "2020-08-10T05:29:26.836412",
     "exception": false,
     "start_time": "2020-08-10T05:29:26.802175",
     "status": "completed"
    },
    "tags": []
   },
   "outputs": [],
   "source": [
    "def normalize_image_label(decoded_image, label):\n",
    "    '''\n",
    "    function to convert an image tensor values from 0 to 255 \n",
    "    -> -1 to 1\n",
    "    to be used when dealing with tfrecords containing labels\n",
    "    \n",
    "    args:\n",
    "        decoded_image: tensor that is an image with values from 0 to 255\n",
    "        label: tensor, target label\n",
    "    \n",
    "    returns: \n",
    "        image_tensor: tensor that is an image with values from -1 to 1\n",
    "        label, same as input\n",
    "    \n",
    "    '''\n",
    "    \n",
    "    #add dim at the zero axis Shape will be from (x, y, z) -> (None, x, y, z)\n",
    "    image_tensor = tf.expand_dims(decoded_image, 0)\n",
    "    #undo the above line -- this is needed due to TF not allowing a filtered tensor py_function\n",
    "    image_tensor = tf.gather(image_tensor, 0)\n",
    "\n",
    "    #convert tensor values to between -1 and 1 (0 to 255 -> -1 to 1)\n",
    "    image_tensor = (tf.cast(image_tensor, tf.float32) - 127.5) / 127.5\n",
    "\n",
    "    return image_tensor, label"
   ]
  },
  {
   "cell_type": "code",
   "execution_count": 11,
   "metadata": {
    "colab": {},
    "colab_type": "code",
    "execution": {
     "iopub.execute_input": "2020-08-10T05:29:26.888985Z",
     "iopub.status.busy": "2020-08-10T05:29:26.887989Z",
     "iopub.status.idle": "2020-08-10T05:29:26.890522Z",
     "shell.execute_reply": "2020-08-10T05:29:26.891092Z"
    },
    "id": "VRTS4GnmLMf1",
    "papermill": {
     "duration": 0.032336,
     "end_time": "2020-08-10T05:29:26.891259",
     "exception": false,
     "start_time": "2020-08-10T05:29:26.858923",
     "status": "completed"
    },
    "tags": []
   },
   "outputs": [],
   "source": [
    "def normalize_image(decoded_image):\n",
    "    '''\n",
    "    function to convert an image tensor values from 0 to 255 \n",
    "    -> -1 to 1\n",
    "    \n",
    "    args:\n",
    "        decoded_image: tensor that is an image with values from 0 to 255\n",
    "    \n",
    "    returns: \n",
    "        image_tensor: tensor that is an image with values from -1 to 1\n",
    "    \n",
    "    '''\n",
    "    \n",
    "    #add dim at the zero axis Shape will be from (x, y, z) -> (None, x, y, z)\n",
    "    image_tensor = tf.expand_dims(decoded_image, 0)\n",
    "    #undo the above line -- this is needed due to TF not allowing a filtered tensor py_function\n",
    "    image_tensor = tf.gather(image_tensor, 0)\n",
    "\n",
    "    #convert tensor values to between -1 and 1 (0 to 255 -> -1 to 1)\n",
    "    image_tensor = (tf.cast(image_tensor, tf.float32) - 127.5) / 127.5\n",
    "\n",
    "    return image_tensor"
   ]
  },
  {
   "cell_type": "code",
   "execution_count": 12,
   "metadata": {
    "colab": {},
    "colab_type": "code",
    "execution": {
     "iopub.execute_input": "2020-08-10T05:29:26.944221Z",
     "iopub.status.busy": "2020-08-10T05:29:26.943211Z",
     "iopub.status.idle": "2020-08-10T05:29:26.946291Z",
     "shell.execute_reply": "2020-08-10T05:29:26.945626Z"
    },
    "id": "mBBVpiTzLMf3",
    "papermill": {
     "duration": 0.032591,
     "end_time": "2020-08-10T05:29:26.946428",
     "exception": false,
     "start_time": "2020-08-10T05:29:26.913837",
     "status": "completed"
    },
    "tags": []
   },
   "outputs": [],
   "source": [
    "def random_flip(image, label):\n",
    "    '''\n",
    "    function to randomly flip images on the x and/or y axis\n",
    "    \n",
    "    args:\n",
    "        image: tensor, an image\n",
    "        label: tensor, target label\n",
    "    \n",
    "    returns: \n",
    "        image: tensor, same as input, but possibly flipped on x and/or y axis\n",
    "        label, tensor, same as input\n",
    "    '''\n",
    "    image = tf.image.random_flip_left_right(image)\n",
    "    image = tf.image.random_flip_up_down(image)\n",
    "    return image, label"
   ]
  },
  {
   "cell_type": "code",
   "execution_count": 13,
   "metadata": {
    "colab": {},
    "colab_type": "code",
    "execution": {
     "iopub.execute_input": "2020-08-10T05:29:27.001465Z",
     "iopub.status.busy": "2020-08-10T05:29:27.000601Z",
     "iopub.status.idle": "2020-08-10T05:29:27.005541Z",
     "shell.execute_reply": "2020-08-10T05:29:27.004731Z"
    },
    "id": "q-n0QjpXLMf4",
    "papermill": {
     "duration": 0.036311,
     "end_time": "2020-08-10T05:29:27.005674",
     "exception": false,
     "start_time": "2020-08-10T05:29:26.969363",
     "status": "completed"
    },
    "tags": []
   },
   "outputs": [],
   "source": [
    "def get_train_ds(tfrecords, batch_size):\n",
    "    '''\n",
    "    function to create a ds pipeline from tfrecord files\n",
    "    \n",
    "    args:\n",
    "        tfrecords: list, tfrecord file paths\n",
    "        batch_size: int, batch size for number of records to pass into\n",
    "            model at a time\n",
    "    returns:\n",
    "        ds: tensorflow input pipeline with images and labels\n",
    "    '''\n",
    "    ds = (tf.data.TFRecordDataset(filenames=[tfrecords],\n",
    "                                 num_parallel_reads=tf.data.experimental.AUTOTUNE).\n",
    "          cache(). #need to remove cache while not usnig TPUs\n",
    "          map(decode_image_label, num_parallel_calls=tf.data.experimental.AUTOTUNE).\n",
    "          map(normalize_image_label, num_parallel_calls=tf.data.experimental.AUTOTUNE).\n",
    "          map(random_flip, num_parallel_calls=tf.data.experimental.AUTOTUNE).\n",
    "          repeat().\n",
    "          shuffle(512).\n",
    "          batch(batch_size,\n",
    "               drop_remainder=True).\n",
    "          prefetch(tf.data.experimental.AUTOTUNE)\n",
    "         )\n",
    "    \n",
    "\n",
    "    \n",
    "    return ds\n",
    "    "
   ]
  },
  {
   "cell_type": "code",
   "execution_count": 14,
   "metadata": {
    "colab": {},
    "colab_type": "code",
    "execution": {
     "iopub.execute_input": "2020-08-10T05:29:27.060905Z",
     "iopub.status.busy": "2020-08-10T05:29:27.059951Z",
     "iopub.status.idle": "2020-08-10T05:29:27.063151Z",
     "shell.execute_reply": "2020-08-10T05:29:27.062464Z"
    },
    "id": "yqeQFaHrLMf6",
    "papermill": {
     "duration": 0.034685,
     "end_time": "2020-08-10T05:29:27.063280",
     "exception": false,
     "start_time": "2020-08-10T05:29:27.028595",
     "status": "completed"
    },
    "tags": []
   },
   "outputs": [],
   "source": [
    "def get_test_ds(tfrecords, batch_size):\n",
    "    '''\n",
    "    function to create a dataset for test data\n",
    "    args:\n",
    "        tfrecords: list, tfrecord file paths\n",
    "        batch_size: int, batch size for number of records to pass into\n",
    "            model at a time\n",
    "    returns:\n",
    "        ds: tensorflow input pipeline with images and labels\n",
    "    \n",
    "    '''\n",
    "\n",
    "    ds = (tf.data.TFRecordDataset(filenames=[tfrecords],\n",
    "                                 num_parallel_reads=tf.data.experimental.AUTOTUNE).\n",
    "#           cache(). #there is no reason to cache this ds -- it is only being read 1x\n",
    "          map(decode_image, num_parallel_calls=tf.data.experimental.AUTOTUNE).\n",
    "          map(normalize_image_label, num_parallel_calls=tf.data.experimental.AUTOTUNE).\n",
    "#           map(random_flip).\n",
    "          batch(batch_size).\n",
    "#                 drop_remainder=True).\n",
    "          prefetch(tf.data.experimental.AUTOTUNE)\n",
    "         )\n",
    "    \n",
    "    return ds\n",
    "    ###come back to this"
   ]
  },
  {
   "cell_type": "markdown",
   "metadata": {
    "colab_type": "text",
    "id": "AmG0gCIVLMf8",
    "papermill": {
     "duration": 0.022544,
     "end_time": "2020-08-10T05:29:27.108722",
     "exception": false,
     "start_time": "2020-08-10T05:29:27.086178",
     "status": "completed"
    },
    "tags": []
   },
   "source": [
    "# model architecture"
   ]
  },
  {
   "cell_type": "code",
   "execution_count": 15,
   "metadata": {
    "colab": {},
    "colab_type": "code",
    "execution": {
     "iopub.execute_input": "2020-08-10T05:29:27.170147Z",
     "iopub.status.busy": "2020-08-10T05:29:27.169308Z",
     "iopub.status.idle": "2020-08-10T05:29:27.172297Z",
     "shell.execute_reply": "2020-08-10T05:29:27.172850Z"
    },
    "id": "QO86yIWVLMf8",
    "papermill": {
     "duration": 0.041151,
     "end_time": "2020-08-10T05:29:27.173043",
     "exception": false,
     "start_time": "2020-08-10T05:29:27.131892",
     "status": "completed"
    },
    "tags": []
   },
   "outputs": [],
   "source": [
    "def set_of_layers(input_layer, \n",
    "                  filters_, \n",
    "                  kernal, \n",
    "                  strides_, \n",
    "                  dense=None, \n",
    "                  dense_activation=None,\n",
    "                  dropout=None,\n",
    "                  cnn_activation=None):\n",
    "    '''\n",
    "    function to add the following layers to a model:\n",
    "    Conv2D, MaxPooling2D, BatchNormalization, LeadyReLU, Dense,\n",
    "        Dropout\n",
    "\n",
    "    args:\n",
    "      input_layer : input layer to be fed into above layers\n",
    "      filters_: int, number of filters in Conv2D layer\n",
    "      kernal: int, kernal size in Conv2D layer\n",
    "      strides_: int, stride size in MaxPooling2D layer\n",
    "      dense: int, number of units in dense layer, default is None\n",
    "          Will only add layer if value is passed\n",
    "      dense_activation: str, activation function to pass into Dense layer\n",
    "          default is None\n",
    "      dropout: float, dropout percentage in Dropout layer, default is None\n",
    "        must be less than 1.0. Will only add layer if value is passed \n",
    "      cnn_activation: tensorflow activation layer, default is None\n",
    "          will only add layer is value is passed. Activation layer will be\n",
    "          added after the BatchNormalization layer\n",
    "\n",
    "    returns:\n",
    "      x: model that is the same as the input_layer input plus above \n",
    "        layers added\n",
    "        \n",
    "        \n",
    "    '''\n",
    "    x_dict = {}\n",
    "    for xx in range(len(kernal)):\n",
    "        x_dict[xx] = layers.Conv2D(filters_, (kernal[xx], kernal[xx]),\n",
    "                                   padding='same', activation=cnn_activation)(input_layer)\n",
    "        for _ in range(1): #may be able to try range(2) with the filters halved\n",
    "            x_dict[xx] = layers.Conv2D(filters_, (kernal[xx], kernal[xx]),\n",
    "                                       padding='same', activation=cnn_activation)(x_dict[xx])\n",
    "    x_list = [x_dict[xx] for xx in x_dict]\n",
    "    if len(x_list) > 1:\n",
    "        x = layers.Concatenate()(x_list)\n",
    "    else:\n",
    "        x = x_list[0]\n",
    "    x = layers.MaxPooling2D(strides_, strides_)(x)\n",
    "    x = layers.BatchNormalization()(x)\n",
    "    \n",
    "\n",
    "    \n",
    "    if cnn_activation:\n",
    "        x = cnn_activation(x)\n",
    "    x = layers.ReLU()(x)\n",
    "    if dense:\n",
    "        x = layers.Dense(dense, activation=dense_activation)(x)\n",
    "    if dropout:\n",
    "        x = layers.Dropout(dropout)(x)\n",
    "\n",
    "\n",
    "    return x"
   ]
  },
  {
   "cell_type": "code",
   "execution_count": 16,
   "metadata": {
    "colab": {},
    "colab_type": "code",
    "execution": {
     "iopub.execute_input": "2020-08-10T05:29:27.235107Z",
     "iopub.status.busy": "2020-08-10T05:29:27.234208Z",
     "iopub.status.idle": "2020-08-10T05:29:27.237745Z",
     "shell.execute_reply": "2020-08-10T05:29:27.236995Z"
    },
    "id": "cwUPyepvLMf9",
    "papermill": {
     "duration": 0.041647,
     "end_time": "2020-08-10T05:29:27.237867",
     "exception": false,
     "start_time": "2020-08-10T05:29:27.196220",
     "status": "completed"
    },
    "tags": []
   },
   "outputs": [],
   "source": [
    "def deconv_set_of_layers(input_layer, \n",
    "                         filters_, \n",
    "                         kernal_, \n",
    "                         stride, \n",
    "                         dense=None, \n",
    "                         dense_activation=None, \n",
    "                         dropout=None,\n",
    "                         cnn_activation=None):\n",
    "    '''\n",
    "    function to add the following layers to a model:\n",
    "    Conv2DTranspose, BatchNormalization, LeadyReLU, Dense\n",
    "\n",
    "    args:\n",
    "      input_layer : input layer to be fed into above layers\n",
    "      filters_: int, number of filters in Conv2DTranspose layer\n",
    "      kernal_: int, kernal size in Conv2DTranspose layer\n",
    "      strides_: int, stride size in Conv2DTranspose layer\n",
    "      dense: int, number of units in dense layer, default is None\n",
    "          Will only add layer if value is passed\n",
    "      dense_activation: str, activation function to pass into Dense layer\n",
    "          default is None\n",
    "      dropout: float, dropout percentage in Dropout layer, default is None\n",
    "        must be less than 1.0. Will only add layer if value is passed \n",
    "      cnn_activation: tensorflow activation layer, default is None\n",
    "          will only add layer is value is passed. Activation layer will be\n",
    "          added after the BatchNormalization layer\n",
    "\n",
    "\n",
    "    returns:\n",
    "      x: model that is the same as the input_layer input plus above \n",
    "        layers added\n",
    "    '''\n",
    "\n",
    "        \n",
    "    x_dict = {}\n",
    "    for xx in range(len(kernal_)):\n",
    "        x_dict[xx] = layers.Conv2DTranspose(filters_,\n",
    "                                           kernal_[xx],\n",
    "                                           (stride, stride),\n",
    "                                           padding='same')(input_layer)\n",
    "        x_dict[xx] = layers.BatchNormalization()(x_dict[xx])\n",
    "    x_list = [x_dict[xx] for xx in x_dict]\n",
    "    if len(x_list) > 1:\n",
    "        x = layers.Concatenate()(x_list)\n",
    "    else:\n",
    "        x = x_list[0]\n",
    "    \n",
    "    if cnn_activation:\n",
    "        x = cnn_activation(x)\n",
    "   \n",
    "    if dense:\n",
    "        x = layers.Dense(dense, activation=dense_activation)(x)\n",
    "    \n",
    "    if dropout:\n",
    "        x = layers.Dropout(dropout)(x)\n",
    "    \n",
    "\n",
    "    return x\n"
   ]
  },
  {
   "cell_type": "code",
   "execution_count": 17,
   "metadata": {
    "colab": {},
    "colab_type": "code",
    "id": "ZUGGmJIZLMf_"
   },
   "outputs": [],
   "source": [
    "def create_model(input_shape=[*params['img_size'], 3], bias_output=None):\n",
    "    '''\n",
    "    function to create a model that will be used to train DS via xfer learning\n",
    "    \n",
    "    args:\n",
    "        input_shape: array, default: [1024, 1024, 3], shape\n",
    "            of input tensor that will be fed into model\n",
    "    \n",
    "    returns:\n",
    "        model: keras.Model() model\n",
    "    \n",
    "    '''\n",
    "    \n",
    "    input_tensor = layers.Input(shape=input_shape, name='images_input')\n",
    "    \n",
    "#     #input s/b 224, 224, 3 // try to normalize 0 -> 1\n",
    "#     densenet = tf.keras.applications.DenseNet121(include_top=False, \n",
    "#                                                  input_shape=input_shape, \n",
    "#                                                  classes=1)(input_tensor)\n",
    "#     end_of_densenet = layers.GlobalAveragePooling2D()(densenet)\n",
    "#     dense_layers = layers.Dense(512)(end_of_densenet)\n",
    "#     ###end of densenet### auc - 0.8844 (-1 -> 1)\n",
    "    \n",
    "#     #s/b 224, 224, 3 // try to normalize 0 -> 1\n",
    "#     efficientnet = tf.keras.applications.EfficientNetB0(include_top=False,\n",
    "#                                                        input_shape=input_shape,\n",
    "#                                                        classes=1)(input_tensor)\n",
    "#     end_of_efficientnet = layers.GlobalAveragePooling2D()(efficientnet)\n",
    "#     dense_layers = layers.Dense(8)(end_of_efficientnet)\n",
    "#     ###end of efficientnet### auc - 0.8602 (-1 -> 1)\n",
    "    \n",
    "    # #s/b 299, 299, 3 // needs to be -1 -> 1\n",
    "    # inception = tf.keras.applications.InceptionV3(include_top=False,\n",
    "    #                                              input_shape=input_shape,\n",
    "    #                                              classes=1)(input_tensor)\n",
    "    # end_of_inception = layers.GlobalAveragePooling2D()(inception)\n",
    "    # dense_layers = layers.Dense(8)(end_of_inception)\n",
    "    # ##end of inception (2016)### auc - 0.9009 (best)\n",
    "    \n",
    "#     #s/b 299, 299, 3 // needs to be -1 -> 1\n",
    "#     inception_v2 = tf.keras.applications.InceptionResNetV2(include_top=False,\n",
    "#                                                           input_shape=input_shape,\n",
    "#                                                           classes=1)(input_tensor)\n",
    "#     end_of_inceptionv2 = layers.GlobalAveragePooling2D()(inception_v2)\n",
    "#     dense_layers = layers.Dense(8)(end_of_inceptionv2)\n",
    "#     ###end of inception (2017)###\n",
    "    \n",
    "    #s/b 224, 224, 3 // needs to be -1 -> 1\n",
    "    mobilnet = tf.keras.applications.MobileNet(include_top=False,\n",
    "                                              input_shape=input_shape,\n",
    "                                              classes=1)(input_tensor)\n",
    "    end_of_mobilnet = layers.GlobalAveragePooling2D() (mobilnet)\n",
    "    dense_layers = layers.Dense(8)(end_of_mobilnet)\n",
    "    ###end of mobilnet (v1)###\n",
    "\n",
    "#     # s/b 224, 224, 3 // needs to be -1 --> 1\n",
    "#     mobilnet_v2 = tf.keras.applications.MobileNetV2(include_top=False,\n",
    "#                                                    input_shape=input_shape,\n",
    "#                                                    classes=1)(input_tensor)\n",
    "#     end_of_mobilnet_v2 = layers.GlobalAveragePooling2D()(mobilnet_v2)\n",
    "#     dense_layers = layers.Dense(8)(end_of_mobilnet_v2)\n",
    "#     ###end of mobilnet (2018)###\n",
    "\n",
    "\n",
    "\n",
    "\n",
    "    \n",
    "\n",
    "\n",
    "\n",
    "    \n",
    "    if bias_output is not None:\n",
    "        bias_output = tf.keras.initializers.Constant(bias_output)\n",
    "    output = layers.Dense(1, activation='sigmoid', bias_initializer=bias_output)(dense_layers)\n",
    "    model = keras.Model(inputs=input_tensor, outputs=output)\n",
    "    \n",
    "    \n",
    "    metrics = [\n",
    "          keras.metrics.TruePositives(name='tp'),\n",
    "          keras.metrics.FalseNegatives(name='fn'), \n",
    "          keras.metrics.BinaryAccuracy(name='accuracy'),\n",
    "          keras.metrics.AUC(name='auc'),\n",
    "    ]\n",
    "    schedule = None\n",
    "    \n",
    "    model.compile(\n",
    "        optimizer=tf.keras.optimizers.Adam(),\n",
    "        loss = tf.keras.losses.BinaryCrossentropy(label_smoothing = 0.01),\n",
    "        metrics=metrics)\n",
    "    \n",
    "    \n",
    "    return model"
   ]
  },
  {
   "cell_type": "code",
   "execution_count": 18,
   "metadata": {
    "colab": {},
    "colab_type": "code",
    "execution": {
     "iopub.execute_input": "2020-08-10T05:29:27.307725Z",
     "iopub.status.busy": "2020-08-10T05:29:27.306683Z",
     "iopub.status.idle": "2020-08-10T05:29:27.309381Z",
     "shell.execute_reply": "2020-08-10T05:29:27.309913Z"
    },
    "id": "nfrWgAxjLMgA",
    "papermill": {
     "duration": 0.048823,
     "end_time": "2020-08-10T05:29:27.310105",
     "exception": false,
     "start_time": "2020-08-10T05:29:27.261282",
     "status": "completed"
    },
    "tags": []
   },
   "outputs": [],
   "source": [
    "def create_model_obsol(input_shape=[*params['img_size'], 3], bias_output=None):\n",
    "    '''\n",
    "    function to create a model that will be trained on train DS\n",
    "    \n",
    "    args:\n",
    "        input_shape: array, default: [1024, 1024, 3], shape\n",
    "            of input tensor that will be fed into model\n",
    "    \n",
    "    returns:\n",
    "        model: keras.Model() model\n",
    "    '''\n",
    "\n",
    "    relu = layers.ReLU()\n",
    "    leakyrelu = layers.LeakyReLU()\n",
    "    input_tensor = layers.Input(shape=input_shape, name='images_input')\n",
    "    x = input_tensor\n",
    "#     filters_list = [64, 128, 256, 512, 1024]\n",
    "    filters_list = [32, 64, 128, 256, 512]\n",
    "    \n",
    "    for filter_ in filters_list:\n",
    "        x = set_of_layers(x, filter_, [3, 5], 2, 16,  dropout=0.35, dense_activation='tanh', \n",
    "                           cnn_activation=relu)\n",
    "        \n",
    "    \n",
    "    output_helper_1 = layers.Flatten(name='flatten_output_helper_1')(x)\n",
    "    output_helper_1 = layers.Dense(128)(output_helper_1)\n",
    "    \n",
    "    \n",
    "    \n",
    "#     filters_list = [1024, 512, 256]\n",
    "    filters_list = [512, 256, 128]\n",
    "    \n",
    "    for filter_ in filters_list:\n",
    "        x = deconv_set_of_layers(x, filter_, [2, 4], 2, 16,  dense_activation='tanh', cnn_activation=relu,\n",
    "                                 dropout=0.35)\n",
    "    \n",
    "    output_helper_2 = layers.Flatten(name='flatten_output_helper_2')(x)\n",
    "    output_helper_2 = layers.Dense(128)(output_helper_2)\n",
    "\n",
    "    \n",
    "#     filters_list = [256, 512, 1024]\n",
    "    filters_list = [128, 256, 512]\n",
    "    \n",
    "    for filter_ in filters_list:\n",
    "        x = set_of_layers(x, filter_, [3, 5], 2, 16,  dropout=0.35, dense_activation='tanh',\n",
    "                           cnn_activation=relu)\n",
    "\n",
    "\n",
    "\n",
    "    x = layers.Flatten(name='flatten_main_output')(x)\n",
    "    x = layers.Dense(128)(x)\n",
    "#     model.add(layers.Dense(64))\n",
    "    \n",
    "    if bias_output is not None:\n",
    "        bias_output = tf.keras.initializers.Constant(bias_output)\n",
    "    output_layer = layers.Dense(1, activation='sigmoid', bias_initializer=bias_output)(x)\n",
    "    \n",
    "    output_helper_1 = layers.Dense(1, activation='sigmoid',\n",
    "                                  bias_initializer=bias_output)(output_helper_1)\n",
    "    output_helper_2 = layers.Dense(1, activation='sigmoid',\n",
    "                                  bias_initializer=bias_output)(output_helper_2)\n",
    "    \n",
    "    model=keras.Model(inputs=[input_tensor],\n",
    "                     outputs=[output_layer, output_helper_1, output_helper_2])\n",
    "\n",
    " \n",
    "           \n",
    "    metrics = [\n",
    "          keras.metrics.TruePositives(name='tp'),\n",
    "          keras.metrics.FalseNegatives(name='fn'), \n",
    "          keras.metrics.BinaryAccuracy(name='accuracy'),\n",
    "          keras.metrics.AUC(name='auc'),\n",
    "    ]\n",
    "    schedule = None\n",
    "    \n",
    "    model.compile(\n",
    "        optimizer=tf.keras.optimizers.Adam(0.00033),\n",
    "        loss = [tf.keras.losses.BinaryCrossentropy(label_smoothing = 0.01),\n",
    "                tf.keras.losses.BinaryCrossentropy(label_smoothing = 0.01),\n",
    "                tf.keras.losses.BinaryCrossentropy(label_smoothing = 0.01)],\n",
    "        metrics=metrics,\n",
    "    loss_weights = [1.0, 0.15, 0.15])\n",
    "    \n",
    "\n",
    "    \n",
    "    return model\n",
    "\n"
   ]
  },
  {
   "cell_type": "code",
   "execution_count": 19,
   "metadata": {
    "colab": {},
    "colab_type": "code",
    "execution": {
     "iopub.execute_input": "2020-08-10T05:29:27.365550Z",
     "iopub.status.busy": "2020-08-10T05:29:27.364537Z",
     "iopub.status.idle": "2020-08-10T05:29:27.367978Z",
     "shell.execute_reply": "2020-08-10T05:29:27.367223Z"
    },
    "id": "ctZtGXcBLMgC",
    "papermill": {
     "duration": 0.034554,
     "end_time": "2020-08-10T05:29:27.368133",
     "exception": false,
     "start_time": "2020-08-10T05:29:27.333579",
     "status": "completed"
    },
    "tags": []
   },
   "outputs": [],
   "source": [
    "def get_ds_size(files):\n",
    "    '''\n",
    "    function to get size of tfrecord Dataset, based on file name\n",
    "    \n",
    "    the file name has the number of records in the file, for example:\n",
    "    train09-2071.tfrec has 2017 records\n",
    "    \n",
    "    args:\n",
    "        files: list of str file names, each item should be the path to a tfrecord file\n",
    "    \n",
    "    returns:\n",
    "        size: int, size of dataset\n",
    "    '''\n",
    "    size = 0\n",
    "    for file in files:\n",
    "        file_size = int(file.split('.tfrec')[0].split('tfrecords/')[1].split('-')[1])\n",
    "        size += file_size\n",
    "    return size"
   ]
  },
  {
   "cell_type": "code",
   "execution_count": 20,
   "metadata": {
    "colab": {},
    "colab_type": "code",
    "execution": {
     "iopub.execute_input": "2020-08-10T05:29:27.591545Z",
     "iopub.status.busy": "2020-08-10T05:29:27.586562Z",
     "iopub.status.idle": "2020-08-10T05:29:28.311476Z",
     "shell.execute_reply": "2020-08-10T05:29:28.310631Z"
    },
    "id": "N7SqvS9ULMgD",
    "papermill": {
     "duration": 0.919898,
     "end_time": "2020-08-10T05:29:28.311604",
     "exception": false,
     "start_time": "2020-08-10T05:29:27.391706",
     "status": "completed"
    },
    "tags": []
   },
   "outputs": [],
   "source": [
    "#get test file paths\n",
    "test_files = tf.io.gfile.glob(dataset_gcs + '/tfrecords/test*.tfrec')\n",
    "\n",
    "#get train and validation file paths\n",
    "train_files, valid_files = train_test_split(tf.io.gfile.glob(dataset_gcs + '/tfrecords/train*.tfrec'),\n",
    "                              test_size=.1, random_state=1)\n",
    "\n",
    "#create datasets\n",
    "train_ds = get_train_ds(train_files, params['batch_size'])\n",
    "valid_ds = get_train_ds(valid_files, params['batch_size'])\n",
    "test_ds = get_test_ds(test_files, params['batch_size'])"
   ]
  },
  {
   "cell_type": "code",
   "execution_count": 21,
   "metadata": {
    "colab": {
     "base_uri": "https://localhost:8080/",
     "height": 34
    },
    "colab_type": "code",
    "execution": {
     "iopub.execute_input": "2020-08-10T05:29:28.365324Z",
     "iopub.status.busy": "2020-08-10T05:29:28.364523Z",
     "iopub.status.idle": "2020-08-10T05:29:28.367784Z",
     "shell.execute_reply": "2020-08-10T05:29:28.368736Z"
    },
    "id": "fVGrZ5WFLMgE",
    "outputId": "871661e0-cd28-4edc-8cb8-aeab83443241",
    "papermill": {
     "duration": 0.034059,
     "end_time": "2020-08-10T05:29:28.368958",
     "exception": false,
     "start_time": "2020-08-10T05:29:28.334899",
     "status": "completed"
    },
    "tags": []
   },
   "outputs": [
    {
     "name": "stdout",
     "output_type": "stream",
     "text": [
      "the dataset consists of: 28984 training images, 4142 validation images, and 10982 test images\n"
     ]
    }
   ],
   "source": [
    "train_size, valid_size = get_ds_size(train_files), get_ds_size(valid_files)\n",
    "test_size = get_ds_size(test_files)\n",
    "print('the dataset consists of: {} training images, {} validation images, and {} test images'.\n",
    "     format(train_size, valid_size, test_size))"
   ]
  },
  {
   "cell_type": "code",
   "execution_count": 21,
   "metadata": {
    "colab": {},
    "colab_type": "code",
    "id": "gVpGnOMJLMgG",
    "papermill": {
     "duration": 0.024878,
     "end_time": "2020-08-10T05:29:28.418699",
     "exception": false,
     "start_time": "2020-08-10T05:29:28.393821",
     "status": "completed"
    },
    "tags": []
   },
   "outputs": [],
   "source": []
  },
  {
   "cell_type": "code",
   "execution_count": 22,
   "metadata": {
    "colab": {},
    "colab_type": "code",
    "execution": {
     "iopub.execute_input": "2020-08-10T05:29:28.473067Z",
     "iopub.status.busy": "2020-08-10T05:29:28.471947Z",
     "iopub.status.idle": "2020-08-10T05:29:28.475504Z",
     "shell.execute_reply": "2020-08-10T05:29:28.474867Z"
    },
    "id": "aykTwKSdLMgH",
    "papermill": {
     "duration": 0.033353,
     "end_time": "2020-08-10T05:29:28.475640",
     "exception": false,
     "start_time": "2020-08-10T05:29:28.442287",
     "status": "completed"
    },
    "tags": []
   },
   "outputs": [],
   "source": [
    "epoch_steps = train_size / params['batch_size'] \n",
    "valid_steps = valid_size / params['batch_size']\n",
    "test_steps = 1.0 * test_size / params['batch_size'] "
   ]
  },
  {
   "cell_type": "code",
   "execution_count": 23,
   "metadata": {
    "colab": {},
    "colab_type": "code",
    "execution": {
     "iopub.execute_input": "2020-08-10T05:29:28.534284Z",
     "iopub.status.busy": "2020-08-10T05:29:28.533405Z",
     "iopub.status.idle": "2020-08-10T05:29:28.574657Z",
     "shell.execute_reply": "2020-08-10T05:29:28.575364Z"
    },
    "id": "ZSyag_aJLMgI",
    "papermill": {
     "duration": 0.076334,
     "end_time": "2020-08-10T05:29:28.575543",
     "exception": false,
     "start_time": "2020-08-10T05:29:28.499209",
     "status": "completed"
    },
    "tags": []
   },
   "outputs": [],
   "source": [
    "#calculate class weights\n",
    "\n",
    "targets = train_df.groupby('target').count()['diagnosis'].to_list()\n",
    "target_0 = targets[0]\n",
    "target_1 = targets[1]\n",
    "total = target_0 + target_1\n",
    "\n",
    "class_weight_0 = (1 / target_0) * (total) / 2.0\n",
    "class_weight_1 = (1 / target_1) * (total) / 2.0\n",
    "\n",
    "class_weights = {0: class_weight_0, 1: class_weight_1}\n",
    "\n",
    "initial_bias = np.log([target_1 / target_0])\n",
    "\n"
   ]
  },
  {
   "cell_type": "code",
   "execution_count": 24,
   "metadata": {
    "colab": {},
    "colab_type": "code",
    "id": "M_-z4cMRLMgJ",
    "papermill": {
     "duration": 0.025821,
     "end_time": "2020-08-10T05:29:28.626335",
     "exception": false,
     "start_time": "2020-08-10T05:29:28.600514",
     "status": "completed"
    },
    "tags": []
   },
   "outputs": [],
   "source": [
    "def lr_schedule_fn(epoch, lr):\n",
    "    if epoch < 3:\n",
    "        return 0.000001\n",
    "    elif epoch == 3:\n",
    "        return 0.001\n",
    "    elif epoch %2 ==0 and epoch < 49:\n",
    "        return lr * 0.75\n",
    "    else:\n",
    "        return lr"
   ]
  },
  {
   "cell_type": "code",
   "execution_count": 25,
   "metadata": {
    "colab": {
     "base_uri": "https://localhost:8080/",
     "height": 323
    },
    "colab_type": "code",
    "execution": {
     "iopub.execute_input": "2020-08-10T05:29:28.680038Z",
     "iopub.status.busy": "2020-08-10T05:29:28.679268Z",
     "iopub.status.idle": "2020-08-10T05:29:34.746441Z",
     "shell.execute_reply": "2020-08-10T05:29:34.747377Z"
    },
    "id": "fOtpzGueLMgK",
    "outputId": "d8f8fbea-a5e2-4aaa-fbc7-b03e8b94636d",
    "papermill": {
     "duration": 6.097709,
     "end_time": "2020-08-10T05:29:34.747615",
     "exception": false,
     "start_time": "2020-08-10T05:29:28.649906",
     "status": "completed"
    },
    "tags": []
   },
   "outputs": [
    {
     "name": "stdout",
     "output_type": "stream",
     "text": [
      "Model: \"functional_1\"\n",
      "_________________________________________________________________\n",
      "Layer (type)                 Output Shape              Param #   \n",
      "=================================================================\n",
      "images_input (InputLayer)    [(None, 224, 224, 3)]     0         \n",
      "_________________________________________________________________\n",
      "mobilenet_1.00_224 (Function (None, 7, 7, 1024)        3228864   \n",
      "_________________________________________________________________\n",
      "global_average_pooling2d (Gl (None, 1024)              0         \n",
      "_________________________________________________________________\n",
      "dense (Dense)                (None, 8)                 8200      \n",
      "_________________________________________________________________\n",
      "dense_1 (Dense)              (None, 1)                 9         \n",
      "=================================================================\n",
      "Total params: 3,237,073\n",
      "Trainable params: 3,215,185\n",
      "Non-trainable params: 21,888\n",
      "_________________________________________________________________\n"
     ]
    }
   ],
   "source": [
    "with strategy.scope():\n",
    "    model = create_model(bias_output=initial_bias)\n",
    "    model.summary()"
   ]
  },
  {
   "cell_type": "markdown",
   "metadata": {
    "colab_type": "text",
    "id": "PpMHxSTyLMgL",
    "papermill": {
     "duration": 0.023785,
     "end_time": "2020-08-10T05:29:34.802909",
     "exception": false,
     "start_time": "2020-08-10T05:29:34.779124",
     "status": "completed"
    },
    "tags": []
   },
   "source": [
    "# Training"
   ]
  },
  {
   "cell_type": "code",
   "execution_count": 26,
   "metadata": {
    "colab": {
     "base_uri": "https://localhost:8080/",
     "height": 1000
    },
    "colab_type": "code",
    "execution": {
     "iopub.execute_input": "2020-08-10T05:29:34.863831Z",
     "iopub.status.busy": "2020-08-10T05:29:34.862857Z",
     "iopub.status.idle": "2020-08-10T07:26:16.782372Z",
     "shell.execute_reply": "2020-08-10T07:26:16.781673Z"
    },
    "id": "kS9LOS2sLMgL",
    "outputId": "5ca084da-410d-4a96-b24d-287576093b57",
    "papermill": {
     "duration": 7001.954688,
     "end_time": "2020-08-10T07:26:16.782530",
     "exception": false,
     "start_time": "2020-08-10T05:29:34.827842",
     "status": "completed"
    },
    "tags": []
   },
   "outputs": [
    {
     "name": "stdout",
     "output_type": "stream",
     "text": [
      "Epoch 1/150\n",
      " 2/28 [=>............................] - ETA: 8s - loss: 2.2139 - tp: 0.0000e+00 - fn: 33.0000 - accuracy: 0.9834 - auc: 0.4776WARNING:tensorflow:Callbacks method `on_train_batch_end` is slow compared to the batch time (batch time: 0.0044s vs `on_train_batch_end` time: 0.6673s). Check your callbacks.\n"
     ]
    },
    {
     "name": "stderr",
     "output_type": "stream",
     "text": [
      "WARNING:tensorflow:Callbacks method `on_train_batch_end` is slow compared to the batch time (batch time: 0.0044s vs `on_train_batch_end` time: 0.6673s). Check your callbacks.\n"
     ]
    },
    {
     "name": "stdout",
     "output_type": "stream",
     "text": [
      "29/28 [==============================] - ETA: -1s - loss: 2.4052 - tp: 0.0000e+00 - fn: 525.0000 - accuracy: 0.9819 - auc: 0.5009WARNING:tensorflow:Callbacks method `on_test_batch_end` is slow compared to the batch time (batch time: 0.0024s vs `on_test_batch_end` time: 0.7698s). Check your callbacks.\n"
     ]
    },
    {
     "name": "stderr",
     "output_type": "stream",
     "text": [
      "WARNING:tensorflow:Callbacks method `on_test_batch_end` is slow compared to the batch time (batch time: 0.0024s vs `on_test_batch_end` time: 0.7698s). Check your callbacks.\n"
     ]
    },
    {
     "name": "stdout",
     "output_type": "stream",
     "text": [
      "\b\b\b\b\b\b\b\b\b\b\b\b\b\b\b\b\b\b\b\b\b\b\b\b\b\b\b\b\b\b\b\b\b\b\b\b\b\b\b\b\b\b\b\b\b\b\b\b\b\b\b\b\b\b\b\b\b\b\b\b\b\b\b\b\b\b\b\b\b\b\b\b\b\b\b\b\b\b\b\b\b\b\b\b\b\b\b\b\b\b\b\b\b\b\b\b\b\b\b\b\b\b\b\b\b\b\b\b\b\b\b\b\b\b\b\b\b\b\b\b\b\b\b\b\b\b\b\b\b\r",
      "29/28 [==============================] - 105s 4s/step - loss: 2.4052 - tp: 0.0000e+00 - fn: 525.0000 - accuracy: 0.9819 - auc: 0.5009 - val_loss: 0.1258 - val_tp: 0.0000e+00 - val_fn: 86.0000 - val_accuracy: 0.9832 - val_auc: 0.4517\n",
      "Epoch 2/150\n",
      "29/28 [==============================] - 19s 642ms/step - loss: 2.2919 - tp: 0.0000e+00 - fn: 529.0000 - accuracy: 0.9820 - auc: 0.5352 - val_loss: 0.1293 - val_tp: 0.0000e+00 - val_fn: 87.0000 - val_accuracy: 0.9830 - val_auc: 0.4897\n",
      "Epoch 3/150\n",
      "29/28 [==============================] - 19s 669ms/step - loss: 2.1516 - tp: 0.0000e+00 - fn: 525.0000 - accuracy: 0.9819 - auc: 0.5830 - val_loss: 0.1256 - val_tp: 0.0000e+00 - val_fn: 82.0000 - val_accuracy: 0.9840 - val_auc: 0.5258\n",
      "Epoch 4/150\n",
      "29/28 [==============================] - 17s 588ms/step - loss: 1.5618 - tp: 434.0000 - fn: 97.0000 - accuracy: 0.5170 - auc: 0.7098 - val_loss: 22.0102 - val_tp: 86.0000 - val_fn: 0.0000e+00 - val_accuracy: 0.0168 - val_auc: 0.5000\n",
      "Epoch 5/150\n",
      "29/28 [==============================] - 16s 559ms/step - loss: 0.5371 - tp: 414.0000 - fn: 111.0000 - accuracy: 0.7776 - auc: 0.8660 - val_loss: 10.9975 - val_tp: 85.0000 - val_fn: 0.0000e+00 - val_accuracy: 0.0227 - val_auc: 0.5171\n",
      "Epoch 6/150\n",
      "29/28 [==============================] - 16s 560ms/step - loss: 0.3586 - tp: 471.0000 - fn: 53.0000 - accuracy: 0.8027 - auc: 0.9233 - val_loss: 3.8736 - val_tp: 83.0000 - val_fn: 0.0000e+00 - val_accuracy: 0.3381 - val_auc: 0.7826\n",
      "Epoch 7/150\n",
      "29/28 [==============================] - 18s 608ms/step - loss: 0.2840 - tp: 494.0000 - fn: 42.0000 - accuracy: 0.8603 - auc: 0.9547 - val_loss: 2.2102 - val_tp: 87.0000 - val_fn: 1.0000 - val_accuracy: 0.4633 - val_auc: 0.8772\n",
      "Epoch 8/150\n",
      "29/28 [==============================] - 16s 558ms/step - loss: 0.2498 - tp: 495.0000 - fn: 32.0000 - accuracy: 0.8744 - auc: 0.9658 - val_loss: 0.5381 - val_tp: 74.0000 - val_fn: 11.0000 - val_accuracy: 0.7805 - val_auc: 0.9019\n",
      "Epoch 9/150\n",
      "29/28 [==============================] - 15s 504ms/step - loss: 0.2119 - tp: 503.0000 - fn: 22.0000 - accuracy: 0.8977 - auc: 0.9770 - val_loss: 0.4513 - val_tp: 73.0000 - val_fn: 15.0000 - val_accuracy: 0.8023 - val_auc: 0.8933\n",
      "Epoch 10/150\n",
      "29/28 [==============================] - 19s 652ms/step - loss: 0.1896 - tp: 518.0000 - fn: 14.0000 - accuracy: 0.9139 - auc: 0.9821 - val_loss: 0.2735 - val_tp: 61.0000 - val_fn: 24.0000 - val_accuracy: 0.8982 - val_auc: 0.9036\n",
      "Epoch 11/150\n",
      "29/28 [==============================] - 16s 538ms/step - loss: 0.1710 - tp: 510.0000 - fn: 17.0000 - accuracy: 0.9266 - auc: 0.9859 - val_loss: 0.1289 - val_tp: 28.0000 - val_fn: 61.0000 - val_accuracy: 0.9674 - val_auc: 0.8983\n",
      "Epoch 12/150\n",
      "29/28 [==============================] - 17s 582ms/step - loss: 0.1476 - tp: 520.0000 - fn: 15.0000 - accuracy: 0.9349 - auc: 0.9906 - val_loss: 0.1198 - val_tp: 19.0000 - val_fn: 65.0000 - val_accuracy: 0.9711 - val_auc: 0.8809\n",
      "Epoch 13/150\n",
      "29/28 [==============================] - 17s 577ms/step - loss: 0.1312 - tp: 520.0000 - fn: 12.0000 - accuracy: 0.9495 - auc: 0.9929 - val_loss: 0.1163 - val_tp: 7.0000 - val_fn: 78.0000 - val_accuracy: 0.9816 - val_auc: 0.8579\n",
      "Epoch 14/150\n",
      "29/28 [==============================] - 17s 585ms/step - loss: 0.1316 - tp: 514.0000 - fn: 13.0000 - accuracy: 0.9510 - auc: 0.9926 - val_loss: 0.1110 - val_tp: 19.0000 - val_fn: 71.0000 - val_accuracy: 0.9801 - val_auc: 0.8951\n",
      "Epoch 15/150\n",
      "29/28 [==============================] - 16s 563ms/step - loss: 0.1173 - tp: 515.0000 - fn: 8.0000 - accuracy: 0.9571 - auc: 0.9943 - val_loss: 0.1142 - val_tp: 21.0000 - val_fn: 69.0000 - val_accuracy: 0.9740 - val_auc: 0.8744\n",
      "Epoch 16/150\n",
      "29/28 [==============================] - 17s 594ms/step - loss: 0.1084 - tp: 523.0000 - fn: 4.0000 - accuracy: 0.9595 - auc: 0.9956 - val_loss: 0.1245 - val_tp: 27.0000 - val_fn: 63.0000 - val_accuracy: 0.9678 - val_auc: 0.8876\n",
      "Epoch 17/150\n",
      "29/28 [==============================] - 19s 640ms/step - loss: 0.1024 - tp: 522.0000 - fn: 6.0000 - accuracy: 0.9637 - auc: 0.9962 - val_loss: 0.1095 - val_tp: 20.0000 - val_fn: 65.0000 - val_accuracy: 0.9773 - val_auc: 0.9039\n",
      "Epoch 18/150\n",
      "29/28 [==============================] - 15s 532ms/step - loss: 0.0992 - tp: 518.0000 - fn: 4.0000 - accuracy: 0.9658 - auc: 0.9963 - val_loss: 0.1099 - val_tp: 12.0000 - val_fn: 76.0000 - val_accuracy: 0.9818 - val_auc: 0.8557\n",
      "Epoch 19/150\n",
      "29/28 [==============================] - 17s 580ms/step - loss: 0.0941 - tp: 527.0000 - fn: 4.0000 - accuracy: 0.9667 - auc: 0.9969 - val_loss: 0.1078 - val_tp: 9.0000 - val_fn: 79.0000 - val_accuracy: 0.9807 - val_auc: 0.8499\n",
      "Epoch 20/150\n",
      "29/28 [==============================] - 16s 543ms/step - loss: 0.0915 - tp: 523.0000 - fn: 5.0000 - accuracy: 0.9705 - auc: 0.9976 - val_loss: 0.1017 - val_tp: 20.0000 - val_fn: 67.0000 - val_accuracy: 0.9812 - val_auc: 0.8861\n",
      "Epoch 21/150\n",
      "29/28 [==============================] - 19s 648ms/step - loss: 0.0796 - tp: 519.0000 - fn: 1.0000 - accuracy: 0.9756 - auc: 0.9985 - val_loss: 0.1040 - val_tp: 15.0000 - val_fn: 73.0000 - val_accuracy: 0.9814 - val_auc: 0.8597\n",
      "Epoch 22/150\n",
      "29/28 [==============================] - 17s 572ms/step - loss: 0.0796 - tp: 525.0000 - fn: 4.0000 - accuracy: 0.9772 - auc: 0.9986 - val_loss: 0.1017 - val_tp: 20.0000 - val_fn: 65.0000 - val_accuracy: 0.9824 - val_auc: 0.8693\n",
      "Epoch 23/150\n",
      "29/28 [==============================] - 16s 559ms/step - loss: 0.0757 - tp: 533.0000 - fn: 1.0000 - accuracy: 0.9772 - auc: 0.9989 - val_loss: 0.1096 - val_tp: 17.0000 - val_fn: 70.0000 - val_accuracy: 0.9816 - val_auc: 0.8314\n",
      "Epoch 24/150\n",
      "29/28 [==============================] - 18s 604ms/step - loss: 0.0679 - tp: 529.0000 - fn: 0.0000e+00 - accuracy: 0.9828 - auc: 0.9993 - val_loss: 0.1084 - val_tp: 16.0000 - val_fn: 71.0000 - val_accuracy: 0.9799 - val_auc: 0.8331\n",
      "Epoch 25/150\n",
      "29/28 [==============================] - 16s 565ms/step - loss: 0.0682 - tp: 525.0000 - fn: 1.0000 - accuracy: 0.9824 - auc: 0.9992 - val_loss: 0.1076 - val_tp: 19.0000 - val_fn: 68.0000 - val_accuracy: 0.9797 - val_auc: 0.8539\n",
      "Epoch 26/150\n",
      "29/28 [==============================] - 17s 576ms/step - loss: 0.0657 - tp: 530.0000 - fn: 0.0000e+00 - accuracy: 0.9833 - auc: 0.9994 - val_loss: 0.1101 - val_tp: 19.0000 - val_fn: 69.0000 - val_accuracy: 0.9791 - val_auc: 0.8481\n",
      "Epoch 27/150\n",
      "29/28 [==============================] - 16s 560ms/step - loss: 0.0664 - tp: 524.0000 - fn: 0.0000e+00 - accuracy: 0.9832 - auc: 0.9993 - val_loss: 0.1068 - val_tp: 17.0000 - val_fn: 68.0000 - val_accuracy: 0.9793 - val_auc: 0.8534\n",
      "Epoch 28/150\n",
      "29/28 [==============================] - 18s 629ms/step - loss: 0.0645 - tp: 527.0000 - fn: 0.0000e+00 - accuracy: 0.9841 - auc: 0.9994 - val_loss: 0.1072 - val_tp: 18.0000 - val_fn: 68.0000 - val_accuracy: 0.9781 - val_auc: 0.8557\n",
      "Epoch 29/150\n",
      "29/28 [==============================] - 17s 602ms/step - loss: 0.0634 - tp: 525.0000 - fn: 1.0000 - accuracy: 0.9853 - auc: 0.9995 - val_loss: 0.1103 - val_tp: 17.0000 - val_fn: 66.0000 - val_accuracy: 0.9752 - val_auc: 0.8469\n",
      "Epoch 30/150\n",
      "29/28 [==============================] - 17s 580ms/step - loss: 0.0623 - tp: 531.0000 - fn: 0.0000e+00 - accuracy: 0.9862 - auc: 0.9995 - val_loss: 0.1085 - val_tp: 22.0000 - val_fn: 67.0000 - val_accuracy: 0.9762 - val_auc: 0.8723\n",
      "Epoch 31/150\n",
      "29/28 [==============================] - 16s 554ms/step - loss: 0.0610 - tp: 522.0000 - fn: 0.0000e+00 - accuracy: 0.9862 - auc: 0.9995 - val_loss: 0.1116 - val_tp: 24.0000 - val_fn: 63.0000 - val_accuracy: 0.9740 - val_auc: 0.8716\n",
      "Epoch 32/150\n",
      "29/28 [==============================] - 17s 570ms/step - loss: 0.0642 - tp: 529.0000 - fn: 1.0000 - accuracy: 0.9860 - auc: 0.9994 - val_loss: 0.1134 - val_tp: 26.0000 - val_fn: 62.0000 - val_accuracy: 0.9738 - val_auc: 0.8771\n",
      "Epoch 33/150\n",
      "29/28 [==============================] - 16s 561ms/step - loss: 0.0602 - tp: 534.0000 - fn: 0.0000e+00 - accuracy: 0.9857 - auc: 0.9996 - val_loss: 0.1102 - val_tp: 26.0000 - val_fn: 59.0000 - val_accuracy: 0.9738 - val_auc: 0.8712\n",
      "Epoch 34/150\n",
      "29/28 [==============================] - 17s 593ms/step - loss: 0.0598 - tp: 526.0000 - fn: 0.0000e+00 - accuracy: 0.9871 - auc: 0.9996 - val_loss: 0.1154 - val_tp: 23.0000 - val_fn: 61.0000 - val_accuracy: 0.9723 - val_auc: 0.8597\n",
      "Epoch 35/150\n",
      "29/28 [==============================] - 17s 592ms/step - loss: 0.0604 - tp: 526.0000 - fn: 0.0000e+00 - accuracy: 0.9869 - auc: 0.9995 - val_loss: 0.1165 - val_tp: 26.0000 - val_fn: 61.0000 - val_accuracy: 0.9709 - val_auc: 0.8620\n",
      "Epoch 36/150\n",
      "29/28 [==============================] - 17s 586ms/step - loss: 0.0623 - tp: 528.0000 - fn: 1.0000 - accuracy: 0.9862 - auc: 0.9995 - val_loss: 0.1177 - val_tp: 32.0000 - val_fn: 54.0000 - val_accuracy: 0.9693 - val_auc: 0.8839\n",
      "Epoch 37/150\n",
      "29/28 [==============================] - 16s 565ms/step - loss: 0.0598 - tp: 529.0000 - fn: 0.0000e+00 - accuracy: 0.9864 - auc: 0.9996 - val_loss: 0.1171 - val_tp: 31.0000 - val_fn: 58.0000 - val_accuracy: 0.9707 - val_auc: 0.8845\n",
      "Epoch 38/150\n",
      "29/28 [==============================] - 17s 601ms/step - loss: 0.0598 - tp: 525.0000 - fn: 1.0000 - accuracy: 0.9871 - auc: 0.9996 - val_loss: 0.1218 - val_tp: 28.0000 - val_fn: 55.0000 - val_accuracy: 0.9678 - val_auc: 0.8682\n",
      "Epoch 39/150\n",
      "29/28 [==============================] - 16s 565ms/step - loss: 0.0585 - tp: 522.0000 - fn: 0.0000e+00 - accuracy: 0.9864 - auc: 0.9997 - val_loss: 0.1168 - val_tp: 30.0000 - val_fn: 56.0000 - val_accuracy: 0.9680 - val_auc: 0.8983\n",
      "Epoch 40/150\n",
      "29/28 [==============================] - 18s 608ms/step - loss: 0.0591 - tp: 529.0000 - fn: 0.0000e+00 - accuracy: 0.9873 - auc: 0.9996 - val_loss: 0.1175 - val_tp: 28.0000 - val_fn: 59.0000 - val_accuracy: 0.9684 - val_auc: 0.8944\n",
      "Epoch 41/150\n",
      "29/28 [==============================] - 16s 561ms/step - loss: 0.0585 - tp: 527.0000 - fn: 0.0000e+00 - accuracy: 0.9871 - auc: 0.9996 - val_loss: 0.1156 - val_tp: 30.0000 - val_fn: 59.0000 - val_accuracy: 0.9689 - val_auc: 0.8950\n",
      "Epoch 42/150\n",
      "29/28 [==============================] - 18s 624ms/step - loss: 0.0593 - tp: 525.0000 - fn: 0.0000e+00 - accuracy: 0.9875 - auc: 0.9996 - val_loss: 0.1192 - val_tp: 30.0000 - val_fn: 56.0000 - val_accuracy: 0.9668 - val_auc: 0.8847\n"
     ]
    }
   ],
   "source": [
    "early_stopping = tf.keras.callbacks.EarlyStopping(monitor='val_auc', #val_auc\n",
    "                                patience=25,\n",
    "                                mode='max',\n",
    "                                restore_best_weights=True)\n",
    "lr_schedule = tf.keras.callbacks.LearningRateScheduler(lr_schedule_fn)\n",
    "\n",
    "\n",
    "history = model.fit(\n",
    "    train_ds,\n",
    "#     batch_size=params['batch_size'],\n",
    "    epochs= params['epochs'], \n",
    "    steps_per_epoch=epoch_steps,\n",
    "    validation_data=valid_ds,\n",
    "    validation_steps=valid_steps,\n",
    "    class_weight=class_weights,\n",
    "    callbacks=[early_stopping, lr_schedule]\n",
    ")\n",
    "\n"
   ]
  },
  {
   "cell_type": "code",
   "execution_count": 27,
   "metadata": {
    "colab": {
     "base_uri": "https://localhost:8080/",
     "height": 139
    },
    "colab_type": "code",
    "execution": {
     "iopub.execute_input": "2020-08-10T07:26:17.988752Z",
     "iopub.status.busy": "2020-08-10T07:26:17.987551Z",
     "iopub.status.idle": "2020-08-10T07:27:05.467405Z",
     "shell.execute_reply": "2020-08-10T07:27:05.466555Z"
    },
    "id": "eA4PkEzsLMgM",
    "outputId": "502af5b1-fc74-418c-bf9f-e9ba1ad57084",
    "papermill": {
     "duration": 48.044916,
     "end_time": "2020-08-10T07:27:05.467551",
     "exception": false,
     "start_time": "2020-08-10T07:26:17.422635",
     "status": "completed"
    },
    "tags": []
   },
   "outputs": [
    {
     "name": "stdout",
     "output_type": "stream",
     "text": [
      "WARNING:tensorflow:From /usr/local/lib/python3.6/dist-packages/tensorflow/python/data/ops/multi_device_iterator_ops.py:601: get_next_as_optional (from tensorflow.python.data.ops.iterator_ops) is deprecated and will be removed in a future version.\n",
      "Instructions for updating:\n",
      "Use `tf.data.Iterator.get_next_as_optional()` instead.\n"
     ]
    },
    {
     "name": "stderr",
     "output_type": "stream",
     "text": [
      "WARNING:tensorflow:From /usr/local/lib/python3.6/dist-packages/tensorflow/python/data/ops/multi_device_iterator_ops.py:601: get_next_as_optional (from tensorflow.python.data.ops.iterator_ops) is deprecated and will be removed in a future version.\n",
      "Instructions for updating:\n",
      "Use `tf.data.Iterator.get_next_as_optional()` instead.\n"
     ]
    }
   ],
   "source": [
    "predictions = model.predict(test_ds.map(lambda img, igs: img), steps=test_steps)  "
   ]
  },
  {
   "cell_type": "code",
   "execution_count": 28,
   "metadata": {
    "colab": {
     "base_uri": "https://localhost:8080/",
     "height": 445
    },
    "colab_type": "code",
    "execution": {
     "iopub.execute_input": "2020-08-10T07:27:06.572095Z",
     "iopub.status.busy": "2020-08-10T07:27:06.571043Z",
     "iopub.status.idle": "2020-08-10T07:27:10.897767Z",
     "shell.execute_reply": "2020-08-10T07:27:10.896877Z"
    },
    "id": "1U9IhzWcLMgN",
    "outputId": "1bd6147a-13d3-417e-8269-80dfc5f0c02d",
    "papermill": {
     "duration": 4.884037,
     "end_time": "2020-08-10T07:27:10.897906",
     "exception": false,
     "start_time": "2020-08-10T07:27:06.013869",
     "status": "completed"
    },
    "tags": []
   },
   "outputs": [
    {
     "name": "stdout",
     "output_type": "stream",
     "text": [
      "WARNING:tensorflow:AutoGraph could not transform <function <lambda> at 0x7fa2628b20d0> and will run it as-is.\n",
      "Cause: could not parse the source code:\n",
      "\n",
      "                          map(lambda img, ids:ids).\n",
      "\n",
      "This error may be avoided by creating the lambda in a standalone statement.\n",
      "\n",
      "To silence this warning, decorate the function with @tf.autograph.experimental.do_not_convert\n"
     ]
    },
    {
     "name": "stderr",
     "output_type": "stream",
     "text": [
      "WARNING:tensorflow:AutoGraph could not transform <function <lambda> at 0x7fa2628b20d0> and will run it as-is.\n",
      "Cause: could not parse the source code:\n",
      "\n",
      "                          map(lambda img, ids:ids).\n",
      "\n",
      "This error may be avoided by creating the lambda in a standalone statement.\n",
      "\n",
      "To silence this warning, decorate the function with @tf.autograph.experimental.do_not_convert\n"
     ]
    },
    {
     "name": "stdout",
     "output_type": "stream",
     "text": [
      "WARNING: AutoGraph could not transform <function <lambda> at 0x7fa2628b20d0> and will run it as-is.\n",
      "Cause: could not parse the source code:\n",
      "\n",
      "                          map(lambda img, ids:ids).\n",
      "\n",
      "This error may be avoided by creating the lambda in a standalone statement.\n",
      "\n",
      "To silence this warning, decorate the function with @tf.autograph.experimental.do_not_convert\n"
     ]
    }
   ],
   "source": [
    "prediction_ids = next(iter(test_ds.\n",
    "                          map(lambda img, ids:ids).\n",
    "                          unbatch().\n",
    "                          batch(test_size))).numpy().astype('str')"
   ]
  },
  {
   "cell_type": "code",
   "execution_count": 29,
   "metadata": {
    "colab": {},
    "colab_type": "code",
    "execution": {
     "iopub.execute_input": "2020-08-10T07:27:12.128064Z",
     "iopub.status.busy": "2020-08-10T07:27:12.127208Z",
     "iopub.status.idle": "2020-08-10T07:27:12.142643Z",
     "shell.execute_reply": "2020-08-10T07:27:12.141837Z"
    },
    "id": "kQ7UGn3vLMgO",
    "papermill": {
     "duration": 0.574152,
     "end_time": "2020-08-10T07:27:12.142772",
     "exception": false,
     "start_time": "2020-08-10T07:27:11.568620",
     "status": "completed"
    },
    "tags": []
   },
   "outputs": [],
   "source": [
    "prediction_dict = {\n",
    "    'image_name': prediction_ids,\n",
    "    'target': np.concatenate(predictions)\n",
    "}\n",
    "submission_ds = pd.DataFrame(prediction_dict)"
   ]
  },
  {
   "cell_type": "code",
   "execution_count": 30,
   "metadata": {
    "colab": {
     "base_uri": "https://localhost:8080/",
     "height": 204
    },
    "colab_type": "code",
    "execution": {
     "iopub.execute_input": "2020-08-10T07:27:13.356629Z",
     "iopub.status.busy": "2020-08-10T07:27:13.355341Z",
     "iopub.status.idle": "2020-08-10T07:27:13.360912Z",
     "shell.execute_reply": "2020-08-10T07:27:13.360045Z"
    },
    "id": "1A4o3bZ4LMgP",
    "outputId": "5b08d958-3037-4441-bba0-551341a5d72a",
    "papermill": {
     "duration": 0.660873,
     "end_time": "2020-08-10T07:27:13.361076",
     "exception": false,
     "start_time": "2020-08-10T07:27:12.700203",
     "status": "completed"
    },
    "tags": []
   },
   "outputs": [
    {
     "data": {
      "text/html": [
       "<div>\n",
       "<style scoped>\n",
       "    .dataframe tbody tr th:only-of-type {\n",
       "        vertical-align: middle;\n",
       "    }\n",
       "\n",
       "    .dataframe tbody tr th {\n",
       "        vertical-align: top;\n",
       "    }\n",
       "\n",
       "    .dataframe thead th {\n",
       "        text-align: right;\n",
       "    }\n",
       "</style>\n",
       "<table border=\"1\" class=\"dataframe\">\n",
       "  <thead>\n",
       "    <tr style=\"text-align: right;\">\n",
       "      <th></th>\n",
       "      <th>image_name</th>\n",
       "      <th>target</th>\n",
       "    </tr>\n",
       "  </thead>\n",
       "  <tbody>\n",
       "    <tr>\n",
       "      <th>0</th>\n",
       "      <td>ISIC_6381819</td>\n",
       "      <td>1.639270e-02</td>\n",
       "    </tr>\n",
       "    <tr>\n",
       "      <th>1</th>\n",
       "      <td>ISIC_5583376</td>\n",
       "      <td>5.150219e-03</td>\n",
       "    </tr>\n",
       "    <tr>\n",
       "      <th>2</th>\n",
       "      <td>ISIC_6408546</td>\n",
       "      <td>5.357443e-07</td>\n",
       "    </tr>\n",
       "    <tr>\n",
       "      <th>3</th>\n",
       "      <td>ISIC_6932354</td>\n",
       "      <td>8.252948e-02</td>\n",
       "    </tr>\n",
       "    <tr>\n",
       "      <th>4</th>\n",
       "      <td>ISIC_8191278</td>\n",
       "      <td>1.845418e-03</td>\n",
       "    </tr>\n",
       "  </tbody>\n",
       "</table>\n",
       "</div>"
      ],
      "text/plain": [
       "     image_name        target\n",
       "0  ISIC_6381819  1.639270e-02\n",
       "1  ISIC_5583376  5.150219e-03\n",
       "2  ISIC_6408546  5.357443e-07\n",
       "3  ISIC_6932354  8.252948e-02\n",
       "4  ISIC_8191278  1.845418e-03"
      ]
     },
     "execution_count": 30,
     "metadata": {
      "tags": []
     },
     "output_type": "execute_result"
    }
   ],
   "source": [
    "submission_ds.head()"
   ]
  },
  {
   "cell_type": "code",
   "execution_count": 31,
   "metadata": {
    "colab": {},
    "colab_type": "code",
    "execution": {
     "iopub.execute_input": "2020-08-10T07:27:14.495784Z",
     "iopub.status.busy": "2020-08-10T07:27:14.494636Z",
     "iopub.status.idle": "2020-08-10T07:27:14.562995Z",
     "shell.execute_reply": "2020-08-10T07:27:14.562184Z"
    },
    "id": "KcsPat4yLMgQ",
    "papermill": {
     "duration": 0.640161,
     "end_time": "2020-08-10T07:27:14.563171",
     "exception": false,
     "start_time": "2020-08-10T07:27:13.923010",
     "status": "completed"
    },
    "tags": []
   },
   "outputs": [],
   "source": [
    "submission_ds.to_csv('submission.csv', index=False)"
   ]
  },
  {
   "cell_type": "markdown",
   "metadata": {
    "colab_type": "text",
    "id": "ubGSnZkvLMgR",
    "papermill": {
     "duration": 0.560236,
     "end_time": "2020-08-10T07:27:15.750840",
     "exception": false,
     "start_time": "2020-08-10T07:27:15.190604",
     "status": "completed"
    },
    "tags": []
   },
   "source": [
    "# Metrics"
   ]
  },
  {
   "cell_type": "code",
   "execution_count": 32,
   "metadata": {
    "colab": {},
    "colab_type": "code",
    "execution": {
     "iopub.execute_input": "2020-08-10T07:27:16.938779Z",
     "iopub.status.busy": "2020-08-10T07:27:16.937645Z",
     "iopub.status.idle": "2020-08-10T07:27:16.940763Z",
     "shell.execute_reply": "2020-08-10T07:27:16.941337Z"
    },
    "id": "UxBeXMGxLMgR",
    "papermill": {
     "duration": 0.629839,
     "end_time": "2020-08-10T07:27:16.941507",
     "exception": false,
     "start_time": "2020-08-10T07:27:16.311668",
     "status": "completed"
    },
    "tags": []
   },
   "outputs": [],
   "source": [
    "def plot_metric(metric1, metric2, ylabel):\n",
    "    plt.plot(history.history[metric1], label=metric1)\n",
    "    plt.plot(history.history[metric2], label=metric2)\n",
    "    plt.ylabel(ylabel)\n",
    "    plt.xlabel('epoch')\n",
    "    plt.legend()\n",
    "    plt.show()"
   ]
  },
  {
   "cell_type": "code",
   "execution_count": 33,
   "metadata": {
    "colab": {
     "base_uri": "https://localhost:8080/",
     "height": 803
    },
    "colab_type": "code",
    "execution": {
     "iopub.execute_input": "2020-08-10T07:27:18.076192Z",
     "iopub.status.busy": "2020-08-10T07:27:18.075358Z",
     "iopub.status.idle": "2020-08-10T07:27:18.785477Z",
     "shell.execute_reply": "2020-08-10T07:27:18.784625Z"
    },
    "id": "eMIClAMiLMgS",
    "outputId": "5133672b-0a55-433f-e4d9-da37c342a2b8",
    "papermill": {
     "duration": 1.275459,
     "end_time": "2020-08-10T07:27:18.785617",
     "exception": false,
     "start_time": "2020-08-10T07:27:17.510158",
     "status": "completed"
    },
    "tags": []
   },
   "outputs": [
    {
     "data": {
      "image/png": "[encoded data removed]",
      "text/plain": [
       "<Figure size 432x288 with 1 Axes>"
      ]
     },
     "metadata": {
      "needs_background": "light",
      "tags": []
     },
     "output_type": "display_data"
    },
    {
     "data": {
      "image/png": "[encoded data removed]",
      "text/plain": [
       "<Figure size 432x288 with 1 Axes>"
      ]
     },
     "metadata": {
      "needs_background": "light",
      "tags": []
     },
     "output_type": "display_data"
    },
    {
     "data": {
      "image/png": "[encoded data removed]",
      "text/plain": [
       "<Figure size 432x288 with 1 Axes>"
      ]
     },
     "metadata": {
      "needs_background": "light",
      "tags": []
     },
     "output_type": "display_data"
    }
   ],
   "source": [
    "plot_metric('auc', 'val_auc', 'auc')\n",
    "plot_metric('loss', 'val_loss', 'loss')\n",
    "plot_metric('accuracy', 'val_accuracy', 'accuracy')"
   ]
  },
  {
   "cell_type": "code",
   "execution_count": 34,
   "metadata": {
    "colab": {
     "base_uri": "https://localhost:8080/",
     "height": 1000
    },
    "colab_type": "code",
    "execution": {
     "iopub.execute_input": "2020-08-10T07:27:20.013676Z",
     "iopub.status.busy": "2020-08-10T07:27:19.987689Z",
     "iopub.status.idle": "2020-08-10T07:27:20.026708Z",
     "shell.execute_reply": "2020-08-10T07:27:20.027321Z"
    },
    "id": "5Q8vZ-fALMgS",
    "outputId": "ceb9e2ea-a632-42f9-da88-96f8059729c0",
    "papermill": {
     "duration": 0.603291,
     "end_time": "2020-08-10T07:27:20.027521",
     "exception": false,
     "start_time": "2020-08-10T07:27:19.424230",
     "status": "completed"
    },
    "tags": []
   },
   "outputs": [
    {
     "data": {
      "text/plain": [
       "{'accuracy': [0.9818830490112305,\n",
       "  0.9819504022598267,\n",
       "  0.9819167256355286,\n",
       "  0.5170393586158752,\n",
       "  0.7775794863700867,\n",
       "  0.802734375,\n",
       "  0.8602842092514038,\n",
       "  0.874360203742981,\n",
       "  0.8976966738700867,\n",
       "  0.9138604402542114,\n",
       "  0.9265557527542114,\n",
       "  0.934907078742981,\n",
       "  0.9494544863700867,\n",
       "  0.9510371685028076,\n",
       "  0.9570986032485962,\n",
       "  0.9594894647598267,\n",
       "  0.9636651277542114,\n",
       "  0.9658203125,\n",
       "  0.9666958451271057,\n",
       "  0.9705347418785095,\n",
       "  0.9755859375,\n",
       "  0.977202296257019,\n",
       "  0.977168619632721,\n",
       "  0.982758641242981,\n",
       "  0.9823545217514038,\n",
       "  0.9832974076271057,\n",
       "  0.9831627011299133,\n",
       "  0.9840719103813171,\n",
       "  0.9853178858757019,\n",
       "  0.9862270951271057,\n",
       "  0.9861934185028076,\n",
       "  0.985991358757019,\n",
       "  0.985722005367279,\n",
       "  0.9870689511299133,\n",
       "  0.9868668913841248,\n",
       "  0.9861597418785095,\n",
       "  0.9863618016242981,\n",
       "  0.9871363043785095,\n",
       "  0.9864291548728943,\n",
       "  0.9873046875,\n",
       "  0.9870689511299133,\n",
       "  0.9874730706214905],\n",
       " 'auc': [0.5009453892707825,\n",
       "  0.5351574420928955,\n",
       "  0.5829564332962036,\n",
       "  0.7098127603530884,\n",
       "  0.866028904914856,\n",
       "  0.9232801795005798,\n",
       "  0.9546757936477661,\n",
       "  0.9657949805259705,\n",
       "  0.9769860506057739,\n",
       "  0.9820965528488159,\n",
       "  0.9858919978141785,\n",
       "  0.9906129837036133,\n",
       "  0.9929190874099731,\n",
       "  0.9926443099975586,\n",
       "  0.9942973852157593,\n",
       "  0.9955620169639587,\n",
       "  0.9962018728256226,\n",
       "  0.9962782263755798,\n",
       "  0.9969367980957031,\n",
       "  0.997600793838501,\n",
       "  0.9985314607620239,\n",
       "  0.9985656142234802,\n",
       "  0.9988501071929932,\n",
       "  0.999323844909668,\n",
       "  0.9992166757583618,\n",
       "  0.9994012713432312,\n",
       "  0.999342679977417,\n",
       "  0.9994069337844849,\n",
       "  0.999496340751648,\n",
       "  0.9995450973510742,\n",
       "  0.9995434880256653,\n",
       "  0.9994270205497742,\n",
       "  0.9996275305747986,\n",
       "  0.999606728553772,\n",
       "  0.9995467066764832,\n",
       "  0.9995052218437195,\n",
       "  0.9996253848075867,\n",
       "  0.9995776414871216,\n",
       "  0.9997109174728394,\n",
       "  0.999633252620697,\n",
       "  0.9996492266654968,\n",
       "  0.9996196031570435],\n",
       " 'fn': [525.0,\n",
       "  529.0,\n",
       "  525.0,\n",
       "  97.0,\n",
       "  111.0,\n",
       "  53.0,\n",
       "  42.0,\n",
       "  32.0,\n",
       "  22.0,\n",
       "  14.0,\n",
       "  17.0,\n",
       "  15.0,\n",
       "  12.0,\n",
       "  13.0,\n",
       "  8.0,\n",
       "  4.0,\n",
       "  6.0,\n",
       "  4.0,\n",
       "  4.0,\n",
       "  5.0,\n",
       "  1.0,\n",
       "  4.0,\n",
       "  1.0,\n",
       "  0.0,\n",
       "  1.0,\n",
       "  0.0,\n",
       "  0.0,\n",
       "  0.0,\n",
       "  1.0,\n",
       "  0.0,\n",
       "  0.0,\n",
       "  1.0,\n",
       "  0.0,\n",
       "  0.0,\n",
       "  0.0,\n",
       "  1.0,\n",
       "  0.0,\n",
       "  1.0,\n",
       "  0.0,\n",
       "  0.0,\n",
       "  0.0,\n",
       "  0.0],\n",
       " 'loss': [2.405238389968872,\n",
       "  2.2918717861175537,\n",
       "  2.1516239643096924,\n",
       "  1.5617583990097046,\n",
       "  0.5371099710464478,\n",
       "  0.358623206615448,\n",
       "  0.2839965522289276,\n",
       "  0.24984724819660187,\n",
       "  0.2119278907775879,\n",
       "  0.18958759307861328,\n",
       "  0.17097122967243195,\n",
       "  0.14762002229690552,\n",
       "  0.13121706247329712,\n",
       "  0.13157734274864197,\n",
       "  0.11731822043657303,\n",
       "  0.10838793963193893,\n",
       "  0.10238154977560043,\n",
       "  0.0992322564125061,\n",
       "  0.09406822174787521,\n",
       "  0.09152955561876297,\n",
       "  0.07959098368883133,\n",
       "  0.0795653685927391,\n",
       "  0.0756855234503746,\n",
       "  0.06786061823368073,\n",
       "  0.06822621077299118,\n",
       "  0.06573273241519928,\n",
       "  0.06641577929258347,\n",
       "  0.06451983004808426,\n",
       "  0.06343052536249161,\n",
       "  0.062290556728839874,\n",
       "  0.06101289018988609,\n",
       "  0.06423357129096985,\n",
       "  0.060240183025598526,\n",
       "  0.059806741774082184,\n",
       "  0.06037406995892525,\n",
       "  0.0622817799448967,\n",
       "  0.05975620821118355,\n",
       "  0.05976787954568863,\n",
       "  0.05848178640007973,\n",
       "  0.059053078293800354,\n",
       "  0.05849992111325264,\n",
       "  0.05925493314862251],\n",
       " 'lr': [1e-06,\n",
       "  1e-06,\n",
       "  1e-06,\n",
       "  0.001,\n",
       "  0.00075,\n",
       "  0.00075,\n",
       "  0.0005625,\n",
       "  0.0005625,\n",
       "  0.00042187498,\n",
       "  0.00042187498,\n",
       "  0.00031640625,\n",
       "  0.00031640625,\n",
       "  0.00023730469,\n",
       "  0.00023730469,\n",
       "  0.00017797851,\n",
       "  0.00017797851,\n",
       "  0.00013348387,\n",
       "  0.00013348387,\n",
       "  0.000100112906,\n",
       "  0.000100112906,\n",
       "  7.508468e-05,\n",
       "  7.508468e-05,\n",
       "  5.631351e-05,\n",
       "  5.631351e-05,\n",
       "  4.2235133e-05,\n",
       "  4.2235133e-05,\n",
       "  3.167635e-05,\n",
       "  3.167635e-05,\n",
       "  2.3757264e-05,\n",
       "  2.3757264e-05,\n",
       "  1.7817947e-05,\n",
       "  1.7817947e-05,\n",
       "  1.336346e-05,\n",
       "  1.336346e-05,\n",
       "  1.0022595e-05,\n",
       "  1.0022595e-05,\n",
       "  7.5169464e-06,\n",
       "  7.5169464e-06,\n",
       "  5.63771e-06,\n",
       "  5.63771e-06,\n",
       "  4.2282823e-06,\n",
       "  4.2282823e-06],\n",
       " 'tp': [0.0,\n",
       "  0.0,\n",
       "  0.0,\n",
       "  434.0,\n",
       "  414.0,\n",
       "  471.0,\n",
       "  494.0,\n",
       "  495.0,\n",
       "  503.0,\n",
       "  518.0,\n",
       "  510.0,\n",
       "  520.0,\n",
       "  520.0,\n",
       "  514.0,\n",
       "  515.0,\n",
       "  523.0,\n",
       "  522.0,\n",
       "  518.0,\n",
       "  527.0,\n",
       "  523.0,\n",
       "  519.0,\n",
       "  525.0,\n",
       "  533.0,\n",
       "  529.0,\n",
       "  525.0,\n",
       "  530.0,\n",
       "  524.0,\n",
       "  527.0,\n",
       "  525.0,\n",
       "  531.0,\n",
       "  522.0,\n",
       "  529.0,\n",
       "  534.0,\n",
       "  526.0,\n",
       "  526.0,\n",
       "  528.0,\n",
       "  529.0,\n",
       "  525.0,\n",
       "  522.0,\n",
       "  529.0,\n",
       "  527.0,\n",
       "  525.0],\n",
       " 'val_accuracy': [0.983203113079071,\n",
       "  0.9830078482627869,\n",
       "  0.9839844107627869,\n",
       "  0.01679687574505806,\n",
       "  0.02265625074505806,\n",
       "  0.33808594942092896,\n",
       "  0.4632812440395355,\n",
       "  0.780468761920929,\n",
       "  0.8023437857627869,\n",
       "  0.898242175579071,\n",
       "  0.9673828482627869,\n",
       "  0.9710937738418579,\n",
       "  0.981640636920929,\n",
       "  0.9800781607627869,\n",
       "  0.9740234613418579,\n",
       "  0.9677734375,\n",
       "  0.977343738079071,\n",
       "  0.9818359613418579,\n",
       "  0.980664074420929,\n",
       "  0.981249988079071,\n",
       "  0.9814453125,\n",
       "  0.982421875,\n",
       "  0.981640636920929,\n",
       "  0.9798828363418579,\n",
       "  0.979687511920929,\n",
       "  0.9791015982627869,\n",
       "  0.979296863079071,\n",
       "  0.9781250357627869,\n",
       "  0.9751953482627869,\n",
       "  0.9761719107627869,\n",
       "  0.9740234613418579,\n",
       "  0.973828136920929,\n",
       "  0.973828136920929,\n",
       "  0.9722656607627869,\n",
       "  0.970898449420929,\n",
       "  0.9693359732627869,\n",
       "  0.970703125,\n",
       "  0.9677734375,\n",
       "  0.967968761920929,\n",
       "  0.9683594107627869,\n",
       "  0.968945324420929,\n",
       "  0.966796875],\n",
       " 'val_auc': [0.45166704058647156,\n",
       "  0.48965445160865784,\n",
       "  0.525844931602478,\n",
       "  0.5,\n",
       "  0.5170804262161255,\n",
       "  0.7825667262077332,\n",
       "  0.8771803975105286,\n",
       "  0.9018937945365906,\n",
       "  0.893282949924469,\n",
       "  0.9035539031028748,\n",
       "  0.8983134627342224,\n",
       "  0.8808740973472595,\n",
       "  0.8579120635986328,\n",
       "  0.8950773477554321,\n",
       "  0.8744345307350159,\n",
       "  0.8876398801803589,\n",
       "  0.9039067625999451,\n",
       "  0.8557367920875549,\n",
       "  0.8499084711074829,\n",
       "  0.8860680460929871,\n",
       "  0.8597003221511841,\n",
       "  0.8693113327026367,\n",
       "  0.8313656449317932,\n",
       "  0.8331494927406311,\n",
       "  0.8539490103721619,\n",
       "  0.8480905294418335,\n",
       "  0.8533720970153809,\n",
       "  0.8556697964668274,\n",
       "  0.8469216823577881,\n",
       "  0.8722648620605469,\n",
       "  0.8715512752532959,\n",
       "  0.8770958781242371,\n",
       "  0.8712236285209656,\n",
       "  0.8596983551979065,\n",
       "  0.8620357513427734,\n",
       "  0.8838827013969421,\n",
       "  0.8844947814941406,\n",
       "  0.868225634098053,\n",
       "  0.8983100056648254,\n",
       "  0.8944064378738403,\n",
       "  0.8950114846229553,\n",
       "  0.8847154974937439],\n",
       " 'val_fn': [86.0,\n",
       "  87.0,\n",
       "  82.0,\n",
       "  0.0,\n",
       "  0.0,\n",
       "  0.0,\n",
       "  1.0,\n",
       "  11.0,\n",
       "  15.0,\n",
       "  24.0,\n",
       "  61.0,\n",
       "  65.0,\n",
       "  78.0,\n",
       "  71.0,\n",
       "  69.0,\n",
       "  63.0,\n",
       "  65.0,\n",
       "  76.0,\n",
       "  79.0,\n",
       "  67.0,\n",
       "  73.0,\n",
       "  65.0,\n",
       "  70.0,\n",
       "  71.0,\n",
       "  68.0,\n",
       "  69.0,\n",
       "  68.0,\n",
       "  68.0,\n",
       "  66.0,\n",
       "  67.0,\n",
       "  63.0,\n",
       "  62.0,\n",
       "  59.0,\n",
       "  61.0,\n",
       "  61.0,\n",
       "  54.0,\n",
       "  58.0,\n",
       "  55.0,\n",
       "  56.0,\n",
       "  59.0,\n",
       "  59.0,\n",
       "  56.0],\n",
       " 'val_loss': [0.12580446898937225,\n",
       "  0.12926256656646729,\n",
       "  0.1256302297115326,\n",
       "  22.01020622253418,\n",
       "  10.99747371673584,\n",
       "  3.8735756874084473,\n",
       "  2.21016263961792,\n",
       "  0.5381148457527161,\n",
       "  0.4512570798397064,\n",
       "  0.2735065519809723,\n",
       "  0.1288626790046692,\n",
       "  0.11976958811283112,\n",
       "  0.11631784588098526,\n",
       "  0.11103454977273941,\n",
       "  0.1142495647072792,\n",
       "  0.12450060993432999,\n",
       "  0.10945980995893478,\n",
       "  0.10986663401126862,\n",
       "  0.10776956379413605,\n",
       "  0.10169613361358643,\n",
       "  0.10400810092687607,\n",
       "  0.10166288912296295,\n",
       "  0.10959678143262863,\n",
       "  0.10836583375930786,\n",
       "  0.10759460926055908,\n",
       "  0.11010497808456421,\n",
       "  0.10676044225692749,\n",
       "  0.10717666149139404,\n",
       "  0.11033624410629272,\n",
       "  0.10848990827798843,\n",
       "  0.11161752790212631,\n",
       "  0.11339515447616577,\n",
       "  0.11019628494977951,\n",
       "  0.11544280499219894,\n",
       "  0.11652473360300064,\n",
       "  0.1177440658211708,\n",
       "  0.11707675457000732,\n",
       "  0.12184693664312363,\n",
       "  0.1168106198310852,\n",
       "  0.11746759712696075,\n",
       "  0.11557698249816895,\n",
       "  0.11921695619821548],\n",
       " 'val_tp': [0.0,\n",
       "  0.0,\n",
       "  0.0,\n",
       "  86.0,\n",
       "  85.0,\n",
       "  83.0,\n",
       "  87.0,\n",
       "  74.0,\n",
       "  73.0,\n",
       "  61.0,\n",
       "  28.0,\n",
       "  19.0,\n",
       "  7.0,\n",
       "  19.0,\n",
       "  21.0,\n",
       "  27.0,\n",
       "  20.0,\n",
       "  12.0,\n",
       "  9.0,\n",
       "  20.0,\n",
       "  15.0,\n",
       "  20.0,\n",
       "  17.0,\n",
       "  16.0,\n",
       "  19.0,\n",
       "  19.0,\n",
       "  17.0,\n",
       "  18.0,\n",
       "  17.0,\n",
       "  22.0,\n",
       "  24.0,\n",
       "  26.0,\n",
       "  26.0,\n",
       "  23.0,\n",
       "  26.0,\n",
       "  32.0,\n",
       "  31.0,\n",
       "  28.0,\n",
       "  30.0,\n",
       "  28.0,\n",
       "  30.0,\n",
       "  30.0]}"
      ]
     },
     "execution_count": 34,
     "metadata": {
      "tags": []
     },
     "output_type": "execute_result"
    }
   ],
   "source": [
    "history.history"
   ]
  },
  {
   "cell_type": "code",
   "execution_count": null,
   "metadata": {
    "colab": {},
    "colab_type": "code",
    "execution": {
     "iopub.execute_input": "2020-08-10T07:27:21.261282Z",
     "iopub.status.busy": "2020-08-10T07:27:21.257010Z",
     "iopub.status.idle": "2020-08-10T07:27:22.506785Z",
     "shell.execute_reply": "2020-08-10T07:27:22.505913Z"
    },
    "id": "2LH6uE5yLMgT",
    "papermill": {
     "duration": 1.91359,
     "end_time": "2020-08-10T07:27:22.506968",
     "exception": false,
     "start_time": "2020-08-10T07:27:20.593378",
     "status": "completed"
    },
    "tags": []
   },
   "outputs": [],
   "source": [
    "model.save('model.h5')"
   ]
  },
  {
   "cell_type": "code",
   "execution_count": null,
   "metadata": {
    "colab": {},
    "colab_type": "code",
    "id": "FqS_fPjDLMgj"
   },
   "outputs": [],
   "source": []
  }
 ],
 "metadata": {
  "accelerator": "TPU",
  "colab": {
   "name": "predictions_draft.ipynb",
   "provenance": [],
   "toc_visible": true
  },
  "kernelspec": {
   "display_name": "Python 3",
   "language": "python",
   "name": "python3"
  },
  "language_info": {
   "codemirror_mode": {
    "name": "ipython",
    "version": 3
   },
   "file_extension": ".py",
   "mimetype": "text/x-python",
   "name": "python",
   "nbconvert_exporter": "python",
   "pygments_lexer": "ipython3",
   "version": "3.7.3"
  },
  "papermill": {
   "duration": 7110.3586,
   "end_time": "2020-08-10T07:27:30.001979",
   "environment_variables": {},
   "exception": null,
   "input_path": "__notebook__.ipynb",
   "output_path": "__notebook__.ipynb",
   "parameters": {},
   "start_time": "2020-08-10T05:28:59.643379",
   "version": "2.1.0"
  }
 },
 "nbformat": 4,
 "nbformat_minor": 1
}
