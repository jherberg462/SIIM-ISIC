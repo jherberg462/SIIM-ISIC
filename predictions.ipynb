{
 "cells": [
  {
   "cell_type": "code",
   "execution_count": null,
   "metadata": {
    "_cell_guid": "b1076dfc-b9ad-4769-8c92-a6c4dae69d19",
    "_uuid": "8f2839f25d086af736a60e9eeb907d3b93b6e0e5",
    "colab": {},
    "colab_type": "code",
    "execution": {
     "iopub.execute_input": "2020-08-10T05:29:05.046274Z",
     "iopub.status.busy": "2020-08-10T05:29:05.045400Z",
     "iopub.status.idle": "2020-08-10T05:29:12.636858Z",
     "shell.execute_reply": "2020-08-10T05:29:12.637518Z"
    },
    "id": "PF6_qaQlLMfX",
    "papermill": {
     "duration": 7.621096,
     "end_time": "2020-08-10T05:29:12.637757",
     "exception": false,
     "start_time": "2020-08-10T05:29:05.016661",
     "status": "completed"
    },
    "tags": []
   },
   "outputs": [],
   "source": [
    "!pip install fsspec --upgrade"
   ]
  },
  {
   "cell_type": "code",
   "execution_count": 1,
   "metadata": {
    "colab": {},
    "colab_type": "code",
    "id": "GS3hpqThLMfd"
   },
   "outputs": [],
   "source": [
    "import numpy as np # linear algebra\n",
    "import pandas as pd # data processing, CSV file I/O (e.g. pd.read_csv)\n",
    "\n",
    "\n",
    "import os\n",
    "\n",
    "import tensorflow as tf\n",
    "from tensorflow.keras import layers \n",
    "from tensorflow import keras\n",
    "import tensorflow_hub as hub\n",
    "from sklearn.model_selection import train_test_split\n",
    "from matplotlib import pyplot as plt\n",
    "\n",
    "try:\n",
    "    from kaggle_datasets import KaggleDatasets\n",
    "    dataset_gcs = KaggleDatasets().get_gcs_path('siim-isic-melanoma-classification')\n",
    "    print('got GCS path via KaggleDatasets .get_gcs_path method')\n",
    "except ModuleNotFoundError:\n",
    "    #hardcode path while testing locally\n",
    "    dataset_gcs = 'gs://'\n"
   ]
  },
  {
   "cell_type": "code",
   "execution_count": 2,
   "metadata": {
    "_cell_guid": "79c7e3d0-c299-4dcb-8224-4455121ee9b0",
    "_uuid": "d629ff2d2480ee46fbb7e2d37f6b5fab8052498a",
    "colab": {
     "base_uri": "https://localhost:8080/",
     "height": 37
    },
    "colab_type": "code",
    "execution": {
     "iopub.execute_input": "2020-08-10T05:29:12.686320Z",
     "iopub.status.busy": "2020-08-10T05:29:12.685158Z",
     "iopub.status.idle": "2020-08-10T05:29:12.690065Z",
     "shell.execute_reply": "2020-08-10T05:29:12.689312Z"
    },
    "id": "5-hPqmwDLMfh",
    "outputId": "2e8d6b20-b85f-4975-be53-e67a9cab8962",
    "papermill": {
     "duration": 0.030991,
     "end_time": "2020-08-10T05:29:12.690195",
     "exception": false,
     "start_time": "2020-08-10T05:29:12.659204",
     "status": "completed"
    },
    "tags": []
   },
   "outputs": [
    {
     "data": {
      "application/vnd.google.colaboratory.intrinsic+json": {
       "type": "string"
      },
      "text/plain": [
       "'2.3.0'"
      ]
     },
     "execution_count": 2,
     "metadata": {
      "tags": []
     },
     "output_type": "execute_result"
    }
   ],
   "source": [
    "tf.__version__\n"
   ]
  },
  {
   "cell_type": "code",
   "execution_count": 3,
   "metadata": {
    "colab": {},
    "colab_type": "code",
    "execution": {
     "iopub.execute_input": "2020-08-10T05:29:12.736349Z",
     "iopub.status.busy": "2020-08-10T05:29:12.735260Z",
     "iopub.status.idle": "2020-08-10T05:29:12.738583Z",
     "shell.execute_reply": "2020-08-10T05:29:12.737845Z"
    },
    "id": "aTNSywU3LMfk",
    "papermill": {
     "duration": 0.028214,
     "end_time": "2020-08-10T05:29:12.738719",
     "exception": false,
     "start_time": "2020-08-10T05:29:12.710505",
     "status": "completed"
    },
    "tags": []
   },
   "outputs": [],
   "source": [
    "params = {\n",
    "    'batch_size' : 128,\n",
    "    'img_size' : [224, 224],\n",
    "    'epochs': 150\n",
    "}\n"
   ]
  },
  {
   "cell_type": "code",
   "execution_count": 4,
   "metadata": {
    "colab": {
     "base_uri": "https://localhost:8080/",
     "height": 768
    },
    "colab_type": "code",
    "execution": {
     "iopub.execute_input": "2020-08-10T05:29:12.890509Z",
     "iopub.status.busy": "2020-08-10T05:29:12.786292Z",
     "iopub.status.idle": "2020-08-10T05:29:17.045160Z",
     "shell.execute_reply": "2020-08-10T05:29:17.044059Z"
    },
    "id": "dQ4ru6rMLMfm",
    "outputId": "5ccbedd9-107c-4546-9bf6-da9786c60ef0",
    "papermill": {
     "duration": 4.287003,
     "end_time": "2020-08-10T05:29:17.045350",
     "exception": false,
     "start_time": "2020-08-10T05:29:12.758347",
     "status": "completed"
    },
    "tags": []
   },
   "outputs": [
    {
     "name": "stdout",
     "output_type": "stream",
     "text": [
      "Running on TPU  grpc://10.126.129.58:8470\n",
      "INFO:tensorflow:Initializing the TPU system: grpc://10.126.129.58:8470\n"
     ]
    },
    {
     "name": "stderr",
     "output_type": "stream",
     "text": [
      "INFO:tensorflow:Initializing the TPU system: grpc://10.126.129.58:8470\n"
     ]
    },
    {
     "name": "stdout",
     "output_type": "stream",
     "text": [
      "INFO:tensorflow:Clearing out eager caches\n"
     ]
    },
    {
     "name": "stderr",
     "output_type": "stream",
     "text": [
      "INFO:tensorflow:Clearing out eager caches\n"
     ]
    },
    {
     "name": "stdout",
     "output_type": "stream",
     "text": [
      "INFO:tensorflow:Finished initializing TPU system.\n"
     ]
    },
    {
     "name": "stderr",
     "output_type": "stream",
     "text": [
      "INFO:tensorflow:Finished initializing TPU system.\n",
      "WARNING:absl:`tf.distribute.experimental.TPUStrategy` is deprecated, please use  the non experimental symbol `tf.distribute.TPUStrategy` instead.\n"
     ]
    },
    {
     "name": "stdout",
     "output_type": "stream",
     "text": [
      "INFO:tensorflow:Found TPU system:\n"
     ]
    },
    {
     "name": "stderr",
     "output_type": "stream",
     "text": [
      "INFO:tensorflow:Found TPU system:\n"
     ]
    },
    {
     "name": "stdout",
     "output_type": "stream",
     "text": [
      "INFO:tensorflow:*** Num TPU Cores: 8\n"
     ]
    },
    {
     "name": "stderr",
     "output_type": "stream",
     "text": [
      "INFO:tensorflow:*** Num TPU Cores: 8\n"
     ]
    },
    {
     "name": "stdout",
     "output_type": "stream",
     "text": [
      "INFO:tensorflow:*** Num TPU Workers: 1\n"
     ]
    },
    {
     "name": "stderr",
     "output_type": "stream",
     "text": [
      "INFO:tensorflow:*** Num TPU Workers: 1\n"
     ]
    },
    {
     "name": "stdout",
     "output_type": "stream",
     "text": [
      "INFO:tensorflow:*** Num TPU Cores Per Worker: 8\n"
     ]
    },
    {
     "name": "stderr",
     "output_type": "stream",
     "text": [
      "INFO:tensorflow:*** Num TPU Cores Per Worker: 8\n"
     ]
    },
    {
     "name": "stdout",
     "output_type": "stream",
     "text": [
      "INFO:tensorflow:*** Available Device: _DeviceAttributes(/job:localhost/replica:0/task:0/device:CPU:0, CPU, 0, 0)\n"
     ]
    },
    {
     "name": "stderr",
     "output_type": "stream",
     "text": [
      "INFO:tensorflow:*** Available Device: _DeviceAttributes(/job:localhost/replica:0/task:0/device:CPU:0, CPU, 0, 0)\n"
     ]
    },
    {
     "name": "stdout",
     "output_type": "stream",
     "text": [
      "INFO:tensorflow:*** Available Device: _DeviceAttributes(/job:localhost/replica:0/task:0/device:XLA_CPU:0, XLA_CPU, 0, 0)\n"
     ]
    },
    {
     "name": "stderr",
     "output_type": "stream",
     "text": [
      "INFO:tensorflow:*** Available Device: _DeviceAttributes(/job:localhost/replica:0/task:0/device:XLA_CPU:0, XLA_CPU, 0, 0)\n"
     ]
    },
    {
     "name": "stdout",
     "output_type": "stream",
     "text": [
      "INFO:tensorflow:*** Available Device: _DeviceAttributes(/job:worker/replica:0/task:0/device:CPU:0, CPU, 0, 0)\n"
     ]
    },
    {
     "name": "stderr",
     "output_type": "stream",
     "text": [
      "INFO:tensorflow:*** Available Device: _DeviceAttributes(/job:worker/replica:0/task:0/device:CPU:0, CPU, 0, 0)\n"
     ]
    },
    {
     "name": "stdout",
     "output_type": "stream",
     "text": [
      "INFO:tensorflow:*** Available Device: _DeviceAttributes(/job:worker/replica:0/task:0/device:TPU:0, TPU, 0, 0)\n"
     ]
    },
    {
     "name": "stderr",
     "output_type": "stream",
     "text": [
      "INFO:tensorflow:*** Available Device: _DeviceAttributes(/job:worker/replica:0/task:0/device:TPU:0, TPU, 0, 0)\n"
     ]
    },
    {
     "name": "stdout",
     "output_type": "stream",
     "text": [
      "INFO:tensorflow:*** Available Device: _DeviceAttributes(/job:worker/replica:0/task:0/device:TPU:1, TPU, 0, 0)\n"
     ]
    },
    {
     "name": "stderr",
     "output_type": "stream",
     "text": [
      "INFO:tensorflow:*** Available Device: _DeviceAttributes(/job:worker/replica:0/task:0/device:TPU:1, TPU, 0, 0)\n"
     ]
    },
    {
     "name": "stdout",
     "output_type": "stream",
     "text": [
      "INFO:tensorflow:*** Available Device: _DeviceAttributes(/job:worker/replica:0/task:0/device:TPU:2, TPU, 0, 0)\n"
     ]
    },
    {
     "name": "stderr",
     "output_type": "stream",
     "text": [
      "INFO:tensorflow:*** Available Device: _DeviceAttributes(/job:worker/replica:0/task:0/device:TPU:2, TPU, 0, 0)\n"
     ]
    },
    {
     "name": "stdout",
     "output_type": "stream",
     "text": [
      "INFO:tensorflow:*** Available Device: _DeviceAttributes(/job:worker/replica:0/task:0/device:TPU:3, TPU, 0, 0)\n"
     ]
    },
    {
     "name": "stderr",
     "output_type": "stream",
     "text": [
      "INFO:tensorflow:*** Available Device: _DeviceAttributes(/job:worker/replica:0/task:0/device:TPU:3, TPU, 0, 0)\n"
     ]
    },
    {
     "name": "stdout",
     "output_type": "stream",
     "text": [
      "INFO:tensorflow:*** Available Device: _DeviceAttributes(/job:worker/replica:0/task:0/device:TPU:4, TPU, 0, 0)\n"
     ]
    },
    {
     "name": "stderr",
     "output_type": "stream",
     "text": [
      "INFO:tensorflow:*** Available Device: _DeviceAttributes(/job:worker/replica:0/task:0/device:TPU:4, TPU, 0, 0)\n"
     ]
    },
    {
     "name": "stdout",
     "output_type": "stream",
     "text": [
      "INFO:tensorflow:*** Available Device: _DeviceAttributes(/job:worker/replica:0/task:0/device:TPU:5, TPU, 0, 0)\n"
     ]
    },
    {
     "name": "stderr",
     "output_type": "stream",
     "text": [
      "INFO:tensorflow:*** Available Device: _DeviceAttributes(/job:worker/replica:0/task:0/device:TPU:5, TPU, 0, 0)\n"
     ]
    },
    {
     "name": "stdout",
     "output_type": "stream",
     "text": [
      "INFO:tensorflow:*** Available Device: _DeviceAttributes(/job:worker/replica:0/task:0/device:TPU:6, TPU, 0, 0)\n"
     ]
    },
    {
     "name": "stderr",
     "output_type": "stream",
     "text": [
      "INFO:tensorflow:*** Available Device: _DeviceAttributes(/job:worker/replica:0/task:0/device:TPU:6, TPU, 0, 0)\n"
     ]
    },
    {
     "name": "stdout",
     "output_type": "stream",
     "text": [
      "INFO:tensorflow:*** Available Device: _DeviceAttributes(/job:worker/replica:0/task:0/device:TPU:7, TPU, 0, 0)\n"
     ]
    },
    {
     "name": "stderr",
     "output_type": "stream",
     "text": [
      "INFO:tensorflow:*** Available Device: _DeviceAttributes(/job:worker/replica:0/task:0/device:TPU:7, TPU, 0, 0)\n"
     ]
    },
    {
     "name": "stdout",
     "output_type": "stream",
     "text": [
      "INFO:tensorflow:*** Available Device: _DeviceAttributes(/job:worker/replica:0/task:0/device:TPU_SYSTEM:0, TPU_SYSTEM, 0, 0)\n"
     ]
    },
    {
     "name": "stderr",
     "output_type": "stream",
     "text": [
      "INFO:tensorflow:*** Available Device: _DeviceAttributes(/job:worker/replica:0/task:0/device:TPU_SYSTEM:0, TPU_SYSTEM, 0, 0)\n"
     ]
    },
    {
     "name": "stdout",
     "output_type": "stream",
     "text": [
      "INFO:tensorflow:*** Available Device: _DeviceAttributes(/job:worker/replica:0/task:0/device:XLA_CPU:0, XLA_CPU, 0, 0)\n"
     ]
    },
    {
     "name": "stderr",
     "output_type": "stream",
     "text": [
      "INFO:tensorflow:*** Available Device: _DeviceAttributes(/job:worker/replica:0/task:0/device:XLA_CPU:0, XLA_CPU, 0, 0)\n"
     ]
    },
    {
     "name": "stdout",
     "output_type": "stream",
     "text": [
      "REPLICAS:  8\n"
     ]
    }
   ],
   "source": [
    "try:\n",
    "    # TPU detection. No parameters necessary if TPU_NAME environment variable is\n",
    "    # set: this is always the case on Kaggle.\n",
    "    tpu = tf.distribute.cluster_resolver.TPUClusterResolver()\n",
    "    print('Running on TPU ', tpu.master())\n",
    "except ValueError:\n",
    "    tpu = None\n",
    "\n",
    "if tpu:\n",
    "    tf.config.experimental_connect_to_cluster(tpu)\n",
    "    tf.tpu.experimental.initialize_tpu_system(tpu)\n",
    "    strategy = tf.distribute.experimental.TPUStrategy(tpu)\n",
    "else:\n",
    "    # Default distribution strategy in Tensorflow. Works on CPU and single GPU.\n",
    "    strategy = tf.distribute.get_strategy()\n",
    "\n",
    "print(\"REPLICAS: \", strategy.num_replicas_in_sync)"
   ]
  },
  {
   "cell_type": "code",
   "execution_count": 5,
   "metadata": {
    "colab": {},
    "colab_type": "code",
    "execution": {
     "iopub.execute_input": "2020-08-10T05:29:17.098573Z",
     "iopub.status.busy": "2020-08-10T05:29:17.097557Z",
     "iopub.status.idle": "2020-08-10T05:29:17.101236Z",
     "shell.execute_reply": "2020-08-10T05:29:17.100579Z"
    },
    "id": "Z0DRQE47LMfp",
    "papermill": {
     "duration": 0.030113,
     "end_time": "2020-08-10T05:29:17.101371",
     "exception": false,
     "start_time": "2020-08-10T05:29:17.071258",
     "status": "completed"
    },
    "tags": []
   },
   "outputs": [],
   "source": [
    "params['batch_size'] = params['batch_size'] * strategy.num_replicas_in_sync"
   ]
  },
  {
   "cell_type": "code",
   "execution_count": 6,
   "metadata": {
    "colab": {
     "base_uri": "https://localhost:8080/",
     "height": 343
    },
    "colab_type": "code",
    "execution": {
     "iopub.execute_input": "2020-08-10T05:29:17.149207Z",
     "iopub.status.busy": "2020-08-10T05:29:17.148291Z",
     "iopub.status.idle": "2020-08-10T05:29:17.150875Z",
     "shell.execute_reply": "2020-08-10T05:29:17.151459Z"
    },
    "id": "GWzXMYZyLMfs",
    "outputId": "620caed6-41e4-421f-dc4f-1f9f11feca60",
    "papermill": {
     "duration": 0.028759,
     "end_time": "2020-08-10T05:29:17.151631",
     "exception": false,
     "start_time": "2020-08-10T05:29:17.122872",
     "status": "completed"
    },
    "tags": []
   },
   "outputs": [
    {
     "name": "stdout",
     "output_type": "stream",
     "text": [
      "Requirement already satisfied: gcsfs in /usr/local/lib/python3.6/dist-packages (0.6.2)\n",
      "Requirement already satisfied: requests in /usr/local/lib/python3.6/dist-packages (from gcsfs) (2.23.0)\n",
      "Requirement already satisfied: fsspec>=0.6.0 in /usr/local/lib/python3.6/dist-packages (from gcsfs) (0.8.0)\n",
      "Requirement already satisfied: decorator in /usr/local/lib/python3.6/dist-packages (from gcsfs) (4.4.2)\n",
      "Requirement already satisfied: google-auth-oauthlib in /usr/local/lib/python3.6/dist-packages (from gcsfs) (0.4.1)\n",
      "Requirement already satisfied: google-auth>=1.2 in /usr/local/lib/python3.6/dist-packages (from gcsfs) (1.17.2)\n",
      "Requirement already satisfied: urllib3!=1.25.0,!=1.25.1,<1.26,>=1.21.1 in /usr/local/lib/python3.6/dist-packages (from requests->gcsfs) (1.24.3)\n",
      "Requirement already satisfied: idna<3,>=2.5 in /usr/local/lib/python3.6/dist-packages (from requests->gcsfs) (2.10)\n",
      "Requirement already satisfied: certifi>=2017.4.17 in /usr/local/lib/python3.6/dist-packages (from requests->gcsfs) (2020.6.20)\n",
      "Requirement already satisfied: chardet<4,>=3.0.2 in /usr/local/lib/python3.6/dist-packages (from requests->gcsfs) (3.0.4)\n",
      "Requirement already satisfied: requests-oauthlib>=0.7.0 in /usr/local/lib/python3.6/dist-packages (from google-auth-oauthlib->gcsfs) (1.3.0)\n",
      "Requirement already satisfied: cachetools<5.0,>=2.0.0 in /usr/local/lib/python3.6/dist-packages (from google-auth>=1.2->gcsfs) (4.1.1)\n",
      "Requirement already satisfied: pyasn1-modules>=0.2.1 in /usr/local/lib/python3.6/dist-packages (from google-auth>=1.2->gcsfs) (0.2.8)\n",
      "Requirement already satisfied: rsa<5,>=3.1.4; python_version >= \"3\" in /usr/local/lib/python3.6/dist-packages (from google-auth>=1.2->gcsfs) (4.6)\n",
      "Requirement already satisfied: setuptools>=40.3.0 in /usr/local/lib/python3.6/dist-packages (from google-auth>=1.2->gcsfs) (49.2.0)\n",
      "Requirement already satisfied: six>=1.9.0 in /usr/local/lib/python3.6/dist-packages (from google-auth>=1.2->gcsfs) (1.15.0)\n",
      "Requirement already satisfied: oauthlib>=3.0.0 in /usr/local/lib/python3.6/dist-packages (from requests-oauthlib>=0.7.0->google-auth-oauthlib->gcsfs) (3.1.0)\n",
      "Requirement already satisfied: pyasn1<0.5.0,>=0.4.6 in /usr/local/lib/python3.6/dist-packages (from pyasn1-modules>=0.2.1->google-auth>=1.2->gcsfs) (0.4.8)\n"
     ]
    }
   ],
   "source": [
    "# sub = pd.read_csv(dataset_gcs + '/sample_submission.csv')\n",
    "# sub.head(1)\n",
    "!pip install gcsfs"
   ]
  },
  {
   "cell_type": "code",
   "execution_count": 7,
   "metadata": {
    "colab": {
     "base_uri": "https://localhost:8080/",
     "height": 162
    },
    "colab_type": "code",
    "execution": {
     "iopub.execute_input": "2020-08-10T05:29:17.201629Z",
     "iopub.status.busy": "2020-08-10T05:29:17.200809Z",
     "iopub.status.idle": "2020-08-10T05:29:26.666973Z",
     "shell.execute_reply": "2020-08-10T05:29:26.666355Z"
    },
    "id": "UeRPDwBrLMfu",
    "outputId": "bd3e6cef-da33-41ee-a896-c49ed27b7c8a",
    "papermill": {
     "duration": 9.493676,
     "end_time": "2020-08-10T05:29:26.667129",
     "exception": false,
     "start_time": "2020-08-10T05:29:17.173453",
     "status": "completed"
    },
    "tags": []
   },
   "outputs": [
    {
     "data": {
      "text/html": [
       "<div>\n",
       "<style scoped>\n",
       "    .dataframe tbody tr th:only-of-type {\n",
       "        vertical-align: middle;\n",
       "    }\n",
       "\n",
       "    .dataframe tbody tr th {\n",
       "        vertical-align: top;\n",
       "    }\n",
       "\n",
       "    .dataframe thead th {\n",
       "        text-align: right;\n",
       "    }\n",
       "</style>\n",
       "<table border=\"1\" class=\"dataframe\">\n",
       "  <thead>\n",
       "    <tr style=\"text-align: right;\">\n",
       "      <th></th>\n",
       "      <th>image_name</th>\n",
       "      <th>patient_id</th>\n",
       "      <th>sex</th>\n",
       "      <th>age_approx</th>\n",
       "      <th>anatom_site_general_challenge</th>\n",
       "      <th>diagnosis</th>\n",
       "      <th>benign_malignant</th>\n",
       "    </tr>\n",
       "    <tr>\n",
       "      <th>target</th>\n",
       "      <th></th>\n",
       "      <th></th>\n",
       "      <th></th>\n",
       "      <th></th>\n",
       "      <th></th>\n",
       "      <th></th>\n",
       "      <th></th>\n",
       "    </tr>\n",
       "  </thead>\n",
       "  <tbody>\n",
       "    <tr>\n",
       "      <th>0</th>\n",
       "      <td>32542</td>\n",
       "      <td>32542</td>\n",
       "      <td>32477</td>\n",
       "      <td>32474</td>\n",
       "      <td>32024</td>\n",
       "      <td>32542</td>\n",
       "      <td>32542</td>\n",
       "    </tr>\n",
       "    <tr>\n",
       "      <th>1</th>\n",
       "      <td>584</td>\n",
       "      <td>584</td>\n",
       "      <td>584</td>\n",
       "      <td>584</td>\n",
       "      <td>575</td>\n",
       "      <td>584</td>\n",
       "      <td>584</td>\n",
       "    </tr>\n",
       "  </tbody>\n",
       "</table>\n",
       "</div>"
      ],
      "text/plain": [
       "        image_name  patient_id  ...  diagnosis  benign_malignant\n",
       "target                          ...                             \n",
       "0            32542       32542  ...      32542             32542\n",
       "1              584         584  ...        584               584\n",
       "\n",
       "[2 rows x 7 columns]"
      ]
     },
     "execution_count": 7,
     "metadata": {
      "tags": []
     },
     "output_type": "execute_result"
    }
   ],
   "source": [
    "train_df = pd.read_csv(dataset_gcs + '/train.csv')\n",
    "train_df.groupby('target').count() "
   ]
  },
  {
   "cell_type": "code",
   "execution_count": 8,
   "metadata": {
    "colab": {},
    "colab_type": "code",
    "execution": {
     "iopub.execute_input": "2020-08-10T05:29:26.721346Z",
     "iopub.status.busy": "2020-08-10T05:29:26.720466Z",
     "iopub.status.idle": "2020-08-10T05:29:26.723851Z",
     "shell.execute_reply": "2020-08-10T05:29:26.723121Z"
    },
    "id": "3QB0P3M8LMfw",
    "papermill": {
     "duration": 0.034585,
     "end_time": "2020-08-10T05:29:26.723985",
     "exception": false,
     "start_time": "2020-08-10T05:29:26.689400",
     "status": "completed"
    },
    "tags": []
   },
   "outputs": [],
   "source": [
    "def decode_image_label(tfrec):\n",
    "    '''\n",
    "    function to decode an image and target label from tfrecord\n",
    "    \n",
    "    args:\n",
    "        tfrec: tfrecord, single record of training/validation data\n",
    "    \n",
    "    returns:\n",
    "        decoded_image: tensor, converted image from tfrecord\n",
    "        label: tensor, integer, either 1 or 0\n",
    "    \n",
    "    '''\n",
    "    \n",
    "    features_dictionary = {\n",
    "        'image': tf.io.FixedLenFeature([], tf.string),\n",
    "        \"target\": tf.io.FixedLenFeature([], tf.int64)\n",
    "        }\n",
    "    features = tf.io.parse_single_example(tfrec, features_dictionary)\n",
    "    decoded_image = tf.io.decode_jpeg(features['image'], 3)\n",
    "    decoded_image = tf.image.resize(decoded_image, params['img_size'])\n",
    "    label = features['target']\n",
    "    \n",
    "    return decoded_image, label\n",
    "    \n"
   ]
  },
  {
   "cell_type": "code",
   "execution_count": 9,
   "metadata": {
    "colab": {},
    "colab_type": "code",
    "execution": {
     "iopub.execute_input": "2020-08-10T05:29:26.777665Z",
     "iopub.status.busy": "2020-08-10T05:29:26.776646Z",
     "iopub.status.idle": "2020-08-10T05:29:26.779776Z",
     "shell.execute_reply": "2020-08-10T05:29:26.779192Z"
    },
    "id": "KGXvzF6BLMfy",
    "papermill": {
     "duration": 0.034023,
     "end_time": "2020-08-10T05:29:26.779907",
     "exception": false,
     "start_time": "2020-08-10T05:29:26.745884",
     "status": "completed"
    },
    "tags": []
   },
   "outputs": [],
   "source": [
    "def decode_image(tfrec):\n",
    "    '''\n",
    "    function to decode an image from tfrecord\n",
    "    \n",
    "    args:\n",
    "        tfrec: tfrecord, single record of training/validation data\n",
    "    \n",
    "    returns:\n",
    "        decoded_image: tensor, converted image from tfrecord\n",
    "        img_name: tensor, string, Id of the decoded image\n",
    "    \n",
    "    '''\n",
    "    \n",
    "    features_dictionary = {\n",
    "        'image': tf.io.FixedLenFeature([], tf.string),\n",
    "        \"image_name\": tf.io.FixedLenFeature([], tf.string)\n",
    "        }\n",
    "    features = tf.io.parse_single_example(tfrec, features_dictionary)\n",
    "    decoded_image = tf.io.decode_jpeg(features['image'], 3)\n",
    "    decoded_image = tf.image.resize(decoded_image, params['img_size'])\n",
    "    img_name = features['image_name']\n",
    "    \n",
    "    return decoded_image, img_name"
   ]
  },
  {
   "cell_type": "code",
   "execution_count": 10,
   "metadata": {
    "colab": {},
    "colab_type": "code",
    "execution": {
     "iopub.execute_input": "2020-08-10T05:29:26.833829Z",
     "iopub.status.busy": "2020-08-10T05:29:26.832680Z",
     "iopub.status.idle": "2020-08-10T05:29:26.836282Z",
     "shell.execute_reply": "2020-08-10T05:29:26.835513Z"
    },
    "id": "1YjPx4SWLMfz",
    "papermill": {
     "duration": 0.034237,
     "end_time": "2020-08-10T05:29:26.836412",
     "exception": false,
     "start_time": "2020-08-10T05:29:26.802175",
     "status": "completed"
    },
    "tags": []
   },
   "outputs": [],
   "source": [
    "def normalize_image_label(decoded_image, label):\n",
    "    '''\n",
    "    function to convert an image tensor values from 0 to 255 \n",
    "    -> -1 to 1\n",
    "    to be used when dealing with tfrecords containing labels\n",
    "    \n",
    "    args:\n",
    "        decoded_image: tensor that is an image with values from 0 to 255\n",
    "        label: tensor, target label\n",
    "    \n",
    "    returns: \n",
    "        image_tensor: tensor that is an image with values from -1 to 1\n",
    "        label, same as input\n",
    "    \n",
    "    '''\n",
    "    \n",
    "    #add dim at the zero axis Shape will be from (x, y, z) -> (None, x, y, z)\n",
    "    image_tensor = tf.expand_dims(decoded_image, 0)\n",
    "    #undo the above line -- this is needed due to TF not allowing a filtered tensor py_function\n",
    "    image_tensor = tf.gather(image_tensor, 0)\n",
    "\n",
    "    # #convert tensor values to between -1 and 1 (0 to 255 -> -1 to 1)\n",
    "    # image_tensor = (tf.cast(image_tensor, tf.float32) - 127.5) / 127.5\n",
    "\n",
    "    #convert tensor values to between 0 and 1 (0 to 255 -> 0 to 1)\n",
    "    image_tensor = (tf.cast(image_tensor, tf.float32) /255.0 )\n",
    "\n",
    "    return image_tensor, label"
   ]
  },
  {
   "cell_type": "code",
   "execution_count": 11,
   "metadata": {
    "colab": {},
    "colab_type": "code",
    "execution": {
     "iopub.execute_input": "2020-08-10T05:29:26.888985Z",
     "iopub.status.busy": "2020-08-10T05:29:26.887989Z",
     "iopub.status.idle": "2020-08-10T05:29:26.890522Z",
     "shell.execute_reply": "2020-08-10T05:29:26.891092Z"
    },
    "id": "VRTS4GnmLMf1",
    "papermill": {
     "duration": 0.032336,
     "end_time": "2020-08-10T05:29:26.891259",
     "exception": false,
     "start_time": "2020-08-10T05:29:26.858923",
     "status": "completed"
    },
    "tags": []
   },
   "outputs": [],
   "source": [
    "def normalize_image(decoded_image):\n",
    "    '''\n",
    "    function to convert an image tensor values from 0 to 255 \n",
    "    -> -1 to 1\n",
    "    \n",
    "    args:\n",
    "        decoded_image: tensor that is an image with values from 0 to 255\n",
    "    \n",
    "    returns: \n",
    "        image_tensor: tensor that is an image with values from -1 to 1\n",
    "    \n",
    "    '''\n",
    "    \n",
    "    #add dim at the zero axis Shape will be from (x, y, z) -> (None, x, y, z)\n",
    "    image_tensor = tf.expand_dims(decoded_image, 0)\n",
    "    #undo the above line -- this is needed due to TF not allowing a filtered tensor py_function\n",
    "    image_tensor = tf.gather(image_tensor, 0)\n",
    "\n",
    "    #convert tensor values to between -1 and 1 (0 to 255 -> -1 to 1)\n",
    "    image_tensor = (tf.cast(image_tensor, tf.float32) - 127.5) / 127.5\n",
    "\n",
    "    return image_tensor"
   ]
  },
  {
   "cell_type": "code",
   "execution_count": 12,
   "metadata": {
    "colab": {},
    "colab_type": "code",
    "execution": {
     "iopub.execute_input": "2020-08-10T05:29:26.944221Z",
     "iopub.status.busy": "2020-08-10T05:29:26.943211Z",
     "iopub.status.idle": "2020-08-10T05:29:26.946291Z",
     "shell.execute_reply": "2020-08-10T05:29:26.945626Z"
    },
    "id": "mBBVpiTzLMf3",
    "papermill": {
     "duration": 0.032591,
     "end_time": "2020-08-10T05:29:26.946428",
     "exception": false,
     "start_time": "2020-08-10T05:29:26.913837",
     "status": "completed"
    },
    "tags": []
   },
   "outputs": [],
   "source": [
    "def random_flip(image, label):\n",
    "    '''\n",
    "    function to randomly flip images on the x and/or y axis\n",
    "    \n",
    "    args:\n",
    "        image: tensor, an image\n",
    "        label: tensor, target label\n",
    "    \n",
    "    returns: \n",
    "        image: tensor, same as input, but possibly flipped on x and/or y axis\n",
    "        label, tensor, same as input\n",
    "    '''\n",
    "    image = tf.image.random_flip_left_right(image)\n",
    "    image = tf.image.random_flip_up_down(image)\n",
    "    return image, label"
   ]
  },
  {
   "cell_type": "code",
   "execution_count": 13,
   "metadata": {
    "colab": {},
    "colab_type": "code",
    "execution": {
     "iopub.execute_input": "2020-08-10T05:29:27.001465Z",
     "iopub.status.busy": "2020-08-10T05:29:27.000601Z",
     "iopub.status.idle": "2020-08-10T05:29:27.005541Z",
     "shell.execute_reply": "2020-08-10T05:29:27.004731Z"
    },
    "id": "q-n0QjpXLMf4",
    "papermill": {
     "duration": 0.036311,
     "end_time": "2020-08-10T05:29:27.005674",
     "exception": false,
     "start_time": "2020-08-10T05:29:26.969363",
     "status": "completed"
    },
    "tags": []
   },
   "outputs": [],
   "source": [
    "def get_train_ds(tfrecords, batch_size):\n",
    "    '''\n",
    "    function to create a ds pipeline from tfrecord files\n",
    "    \n",
    "    args:\n",
    "        tfrecords: list, tfrecord file paths\n",
    "        batch_size: int, batch size for number of records to pass into\n",
    "            model at a time\n",
    "    returns:\n",
    "        ds: tensorflow input pipeline with images and labels\n",
    "    '''\n",
    "    ds = (tf.data.TFRecordDataset(filenames=[tfrecords],\n",
    "                                 num_parallel_reads=tf.data.experimental.AUTOTUNE).\n",
    "          cache(). #need to remove cache while not usnig TPUs\n",
    "          map(decode_image_label, num_parallel_calls=tf.data.experimental.AUTOTUNE).\n",
    "          map(normalize_image_label, num_parallel_calls=tf.data.experimental.AUTOTUNE).\n",
    "          map(random_flip, num_parallel_calls=tf.data.experimental.AUTOTUNE).\n",
    "          repeat().\n",
    "          shuffle(512).\n",
    "          batch(batch_size,\n",
    "               drop_remainder=True).\n",
    "          prefetch(tf.data.experimental.AUTOTUNE)\n",
    "         )\n",
    "    \n",
    "\n",
    "    \n",
    "    return ds\n",
    "    "
   ]
  },
  {
   "cell_type": "code",
   "execution_count": 14,
   "metadata": {
    "colab": {},
    "colab_type": "code",
    "execution": {
     "iopub.execute_input": "2020-08-10T05:29:27.060905Z",
     "iopub.status.busy": "2020-08-10T05:29:27.059951Z",
     "iopub.status.idle": "2020-08-10T05:29:27.063151Z",
     "shell.execute_reply": "2020-08-10T05:29:27.062464Z"
    },
    "id": "yqeQFaHrLMf6",
    "papermill": {
     "duration": 0.034685,
     "end_time": "2020-08-10T05:29:27.063280",
     "exception": false,
     "start_time": "2020-08-10T05:29:27.028595",
     "status": "completed"
    },
    "tags": []
   },
   "outputs": [],
   "source": [
    "def get_test_ds(tfrecords, batch_size):\n",
    "    '''\n",
    "    function to create a dataset for test data\n",
    "    args:\n",
    "        tfrecords: list, tfrecord file paths\n",
    "        batch_size: int, batch size for number of records to pass into\n",
    "            model at a time\n",
    "    returns:\n",
    "        ds: tensorflow input pipeline with images and labels\n",
    "    \n",
    "    '''\n",
    "\n",
    "    ds = (tf.data.TFRecordDataset(filenames=[tfrecords],\n",
    "                                 num_parallel_reads=tf.data.experimental.AUTOTUNE).\n",
    "#           cache(). #there is no reason to cache this ds -- it is only being read 1x\n",
    "          map(decode_image, num_parallel_calls=tf.data.experimental.AUTOTUNE).\n",
    "          map(normalize_image_label, num_parallel_calls=tf.data.experimental.AUTOTUNE).\n",
    "#           map(random_flip).\n",
    "          batch(batch_size).\n",
    "#                 drop_remainder=True).\n",
    "          prefetch(tf.data.experimental.AUTOTUNE)\n",
    "         )\n",
    "    \n",
    "    return ds\n",
    "    ###come back to this"
   ]
  },
  {
   "cell_type": "markdown",
   "metadata": {
    "colab_type": "text",
    "id": "AmG0gCIVLMf8",
    "papermill": {
     "duration": 0.022544,
     "end_time": "2020-08-10T05:29:27.108722",
     "exception": false,
     "start_time": "2020-08-10T05:29:27.086178",
     "status": "completed"
    },
    "tags": []
   },
   "source": [
    "# model architecture"
   ]
  },
  {
   "cell_type": "code",
   "execution_count": 15,
   "metadata": {
    "colab": {},
    "colab_type": "code",
    "execution": {
     "iopub.execute_input": "2020-08-10T05:29:27.170147Z",
     "iopub.status.busy": "2020-08-10T05:29:27.169308Z",
     "iopub.status.idle": "2020-08-10T05:29:27.172297Z",
     "shell.execute_reply": "2020-08-10T05:29:27.172850Z"
    },
    "id": "QO86yIWVLMf8",
    "papermill": {
     "duration": 0.041151,
     "end_time": "2020-08-10T05:29:27.173043",
     "exception": false,
     "start_time": "2020-08-10T05:29:27.131892",
     "status": "completed"
    },
    "tags": []
   },
   "outputs": [],
   "source": [
    "def set_of_layers(input_layer, \n",
    "                  filters_, \n",
    "                  kernal, \n",
    "                  strides_, \n",
    "                  dense=None, \n",
    "                  dense_activation=None,\n",
    "                  dropout=None,\n",
    "                  cnn_activation=None):\n",
    "    '''\n",
    "    function to add the following layers to a model:\n",
    "    Conv2D, MaxPooling2D, BatchNormalization, LeadyReLU, Dense,\n",
    "        Dropout\n",
    "\n",
    "    args:\n",
    "      input_layer : input layer to be fed into above layers\n",
    "      filters_: int, number of filters in Conv2D layer\n",
    "      kernal: int, kernal size in Conv2D layer\n",
    "      strides_: int, stride size in MaxPooling2D layer\n",
    "      dense: int, number of units in dense layer, default is None\n",
    "          Will only add layer if value is passed\n",
    "      dense_activation: str, activation function to pass into Dense layer\n",
    "          default is None\n",
    "      dropout: float, dropout percentage in Dropout layer, default is None\n",
    "        must be less than 1.0. Will only add layer if value is passed \n",
    "      cnn_activation: tensorflow activation layer, default is None\n",
    "          will only add layer is value is passed. Activation layer will be\n",
    "          added after the BatchNormalization layer\n",
    "\n",
    "    returns:\n",
    "      x: model that is the same as the input_layer input plus above \n",
    "        layers added\n",
    "        \n",
    "        \n",
    "    '''\n",
    "    x_dict = {}\n",
    "    for xx in range(len(kernal)):\n",
    "        x_dict[xx] = layers.Conv2D(filters_, (kernal[xx], kernal[xx]),\n",
    "                                   padding='same', activation=cnn_activation)(input_layer)\n",
    "        for _ in range(1): #may be able to try range(2) with the filters halved\n",
    "            x_dict[xx] = layers.Conv2D(filters_, (kernal[xx], kernal[xx]),\n",
    "                                       padding='same', activation=cnn_activation)(x_dict[xx])\n",
    "    x_list = [x_dict[xx] for xx in x_dict]\n",
    "    if len(x_list) > 1:\n",
    "        x = layers.Concatenate()(x_list)\n",
    "    else:\n",
    "        x = x_list[0]\n",
    "    x = layers.MaxPooling2D(strides_, strides_)(x)\n",
    "    x = layers.BatchNormalization()(x)\n",
    "    \n",
    "\n",
    "    \n",
    "    if cnn_activation:\n",
    "        x = cnn_activation(x)\n",
    "    x = layers.ReLU()(x)\n",
    "    if dense:\n",
    "        x = layers.Dense(dense, activation=dense_activation)(x)\n",
    "    if dropout:\n",
    "        x = layers.Dropout(dropout)(x)\n",
    "\n",
    "\n",
    "    return x"
   ]
  },
  {
   "cell_type": "code",
   "execution_count": 16,
   "metadata": {
    "colab": {},
    "colab_type": "code",
    "execution": {
     "iopub.execute_input": "2020-08-10T05:29:27.235107Z",
     "iopub.status.busy": "2020-08-10T05:29:27.234208Z",
     "iopub.status.idle": "2020-08-10T05:29:27.237745Z",
     "shell.execute_reply": "2020-08-10T05:29:27.236995Z"
    },
    "id": "cwUPyepvLMf9",
    "papermill": {
     "duration": 0.041647,
     "end_time": "2020-08-10T05:29:27.237867",
     "exception": false,
     "start_time": "2020-08-10T05:29:27.196220",
     "status": "completed"
    },
    "tags": []
   },
   "outputs": [],
   "source": [
    "def deconv_set_of_layers(input_layer, \n",
    "                         filters_, \n",
    "                         kernal_, \n",
    "                         stride, \n",
    "                         dense=None, \n",
    "                         dense_activation=None, \n",
    "                         dropout=None,\n",
    "                         cnn_activation=None):\n",
    "    '''\n",
    "    function to add the following layers to a model:\n",
    "    Conv2DTranspose, BatchNormalization, LeadyReLU, Dense\n",
    "\n",
    "    args:\n",
    "      input_layer : input layer to be fed into above layers\n",
    "      filters_: int, number of filters in Conv2DTranspose layer\n",
    "      kernal_: int, kernal size in Conv2DTranspose layer\n",
    "      strides_: int, stride size in Conv2DTranspose layer\n",
    "      dense: int, number of units in dense layer, default is None\n",
    "          Will only add layer if value is passed\n",
    "      dense_activation: str, activation function to pass into Dense layer\n",
    "          default is None\n",
    "      dropout: float, dropout percentage in Dropout layer, default is None\n",
    "        must be less than 1.0. Will only add layer if value is passed \n",
    "      cnn_activation: tensorflow activation layer, default is None\n",
    "          will only add layer is value is passed. Activation layer will be\n",
    "          added after the BatchNormalization layer\n",
    "\n",
    "\n",
    "    returns:\n",
    "      x: model that is the same as the input_layer input plus above \n",
    "        layers added\n",
    "    '''\n",
    "\n",
    "        \n",
    "    x_dict = {}\n",
    "    for xx in range(len(kernal_)):\n",
    "        x_dict[xx] = layers.Conv2DTranspose(filters_,\n",
    "                                           kernal_[xx],\n",
    "                                           (stride, stride),\n",
    "                                           padding='same')(input_layer)\n",
    "        x_dict[xx] = layers.BatchNormalization()(x_dict[xx])\n",
    "    x_list = [x_dict[xx] for xx in x_dict]\n",
    "    if len(x_list) > 1:\n",
    "        x = layers.Concatenate()(x_list)\n",
    "    else:\n",
    "        x = x_list[0]\n",
    "    \n",
    "    if cnn_activation:\n",
    "        x = cnn_activation(x)\n",
    "   \n",
    "    if dense:\n",
    "        x = layers.Dense(dense, activation=dense_activation)(x)\n",
    "    \n",
    "    if dropout:\n",
    "        x = layers.Dropout(dropout)(x)\n",
    "    \n",
    "\n",
    "    return x\n"
   ]
  },
  {
   "cell_type": "code",
   "execution_count": 17,
   "metadata": {
    "colab": {},
    "colab_type": "code",
    "id": "ZUGGmJIZLMf_"
   },
   "outputs": [],
   "source": [
    "def create_model(input_shape=[*params['img_size'], 3], bias_output=None):\n",
    "    '''\n",
    "    function to create a model that will be used to train DS via xfer learning\n",
    "    \n",
    "    args:\n",
    "        input_shape: array, default: [1024, 1024, 3], shape\n",
    "            of input tensor that will be fed into model\n",
    "    \n",
    "    returns:\n",
    "        model: keras.Model() model\n",
    "    \n",
    "    '''\n",
    "    \n",
    "    input_tensor = layers.Input(shape=input_shape, name='images_input')\n",
    "    \n",
    "    #input s/b 224, 224, 3 // try to normalize 0 -> 1\n",
    "    densenet = tf.keras.applications.DenseNet121(include_top=False, \n",
    "                                                 input_shape=input_shape, \n",
    "                                                 classes=1)(input_tensor)\n",
    "    end_of_densenet = layers.GlobalAveragePooling2D()(densenet)\n",
    "    dense_layers = layers.Dense(512)(end_of_densenet)\n",
    "    # dense_layers = layers.Dropout(0.2)(dense_layers)\n",
    "    ###end of densenet### auc - 0.8844 (-1 -> 1) auc 0.8967 (0 -> 1)\n",
    "    \n",
    "#     #s/b 224, 224, 3 // try to normalize 0 -> 1\n",
    "#     efficientnet = tf.keras.applications.EfficientNetB0(include_top=False,\n",
    "#                                                        input_shape=input_shape,\n",
    "#                                                        classes=1)(input_tensor)\n",
    "#     end_of_efficientnet = layers.GlobalAveragePooling2D()(efficientnet)\n",
    "#     dense_layers = layers.Dense(8)(end_of_efficientnet)\n",
    "#     ###end of efficientnet### auc - 0.8602 (-1 -> 1)\n",
    "    \n",
    "    # #s/b 299, 299, 3 // needs to be -1 -> 1\n",
    "    # inception = tf.keras.applications.InceptionV3(include_top=False,\n",
    "    #                                              input_shape=input_shape,\n",
    "    #                                              classes=1)(input_tensor)\n",
    "    # end_of_inception = layers.GlobalAveragePooling2D()(inception)\n",
    "    # dense_layers = layers.Dense(8)(end_of_inception)\n",
    "    # ##end of inception (2016)### auc - 0.9009 (best)\n",
    "    \n",
    "#     #s/b 299, 299, 3 // needs to be -1 -> 1\n",
    "#     inception_v2 = tf.keras.applications.InceptionResNetV2(include_top=False,\n",
    "#                                                           input_shape=input_shape,\n",
    "#                                                           classes=1)(input_tensor)\n",
    "#     end_of_inceptionv2 = layers.GlobalAveragePooling2D()(inception_v2)\n",
    "#     dense_layers = layers.Dense(8)(end_of_inceptionv2)\n",
    "#     ###end of inception (2017)###\n",
    "    \n",
    "    #s/b 224, 224, 3 // needs to be -1 -> 1\n",
    "    # mobilnet = tf.keras.applications.MobileNet(include_top=False,\n",
    "    #                                           input_shape=input_shape,\n",
    "    #                                           classes=1)(input_tensor)\n",
    "    # end_of_mobilnet = layers.GlobalAveragePooling2D() (mobilnet)\n",
    "    # dense_layers = layers.Dense(8)(end_of_mobilnet)\n",
    "    ###end of mobilnet (v1)### auc - 0.8681\n",
    "\n",
    "    # # s/b 224, 224, 3 // needs to be -1 --> 1\n",
    "    # mobilnet_v2 = tf.keras.applications.MobileNetV2(include_top=False,\n",
    "    #                                                input_shape=input_shape,\n",
    "    #                                                classes=1)(input_tensor)\n",
    "    # end_of_mobilnet_v2 = layers.GlobalAveragePooling2D()(mobilnet_v2)\n",
    "    # dense_layers = layers.Dense(8)(end_of_mobilnet_v2)\n",
    "    # ###end of mobilnet (2018)### #dont use -- immediately overfits training data\n",
    "\n",
    "\n",
    "\n",
    "\n",
    "    \n",
    "\n",
    "\n",
    "\n",
    "    \n",
    "    if bias_output is not None:\n",
    "        bias_output = tf.keras.initializers.Constant(bias_output)\n",
    "    output = layers.Dense(1, activation='sigmoid', bias_initializer=bias_output)(dense_layers)\n",
    "    model = keras.Model(inputs=input_tensor, outputs=output)\n",
    "    \n",
    "    \n",
    "    metrics = [\n",
    "          keras.metrics.TruePositives(name='tp'),\n",
    "          keras.metrics.FalseNegatives(name='fn'), \n",
    "          keras.metrics.BinaryAccuracy(name='accuracy'),\n",
    "          keras.metrics.AUC(name='auc'),\n",
    "    ]\n",
    "    schedule = None\n",
    "    \n",
    "    model.compile(\n",
    "        optimizer=tf.keras.optimizers.Adam(),\n",
    "        loss = tf.keras.losses.BinaryCrossentropy(label_smoothing = 0.01),\n",
    "        metrics=metrics)\n",
    "    \n",
    "    \n",
    "    return model"
   ]
  },
  {
   "cell_type": "code",
   "execution_count": 18,
   "metadata": {
    "colab": {},
    "colab_type": "code",
    "execution": {
     "iopub.execute_input": "2020-08-10T05:29:27.307725Z",
     "iopub.status.busy": "2020-08-10T05:29:27.306683Z",
     "iopub.status.idle": "2020-08-10T05:29:27.309381Z",
     "shell.execute_reply": "2020-08-10T05:29:27.309913Z"
    },
    "id": "nfrWgAxjLMgA",
    "papermill": {
     "duration": 0.048823,
     "end_time": "2020-08-10T05:29:27.310105",
     "exception": false,
     "start_time": "2020-08-10T05:29:27.261282",
     "status": "completed"
    },
    "tags": []
   },
   "outputs": [],
   "source": [
    "def create_model_obsol(input_shape=[*params['img_size'], 3], bias_output=None):\n",
    "    '''\n",
    "    function to create a model that will be trained on train DS\n",
    "    \n",
    "    args:\n",
    "        input_shape: array, default: [1024, 1024, 3], shape\n",
    "            of input tensor that will be fed into model\n",
    "    \n",
    "    returns:\n",
    "        model: keras.Model() model\n",
    "    '''\n",
    "\n",
    "    relu = layers.ReLU()\n",
    "    leakyrelu = layers.LeakyReLU()\n",
    "    input_tensor = layers.Input(shape=input_shape, name='images_input')\n",
    "    x = input_tensor\n",
    "#     filters_list = [64, 128, 256, 512, 1024]\n",
    "    filters_list = [32, 64, 128, 256, 512]\n",
    "    \n",
    "    for filter_ in filters_list:\n",
    "        x = set_of_layers(x, filter_, [3, 5], 2, 16,  dropout=0.35, dense_activation='tanh', \n",
    "                           cnn_activation=relu)\n",
    "        \n",
    "    \n",
    "    output_helper_1 = layers.Flatten(name='flatten_output_helper_1')(x)\n",
    "    output_helper_1 = layers.Dense(128)(output_helper_1)\n",
    "    \n",
    "    \n",
    "    \n",
    "#     filters_list = [1024, 512, 256]\n",
    "    filters_list = [512, 256, 128]\n",
    "    \n",
    "    for filter_ in filters_list:\n",
    "        x = deconv_set_of_layers(x, filter_, [2, 4], 2, 16,  dense_activation='tanh', cnn_activation=relu,\n",
    "                                 dropout=0.35)\n",
    "    \n",
    "    output_helper_2 = layers.Flatten(name='flatten_output_helper_2')(x)\n",
    "    output_helper_2 = layers.Dense(128)(output_helper_2)\n",
    "\n",
    "    \n",
    "#     filters_list = [256, 512, 1024]\n",
    "    filters_list = [128, 256, 512]\n",
    "    \n",
    "    for filter_ in filters_list:\n",
    "        x = set_of_layers(x, filter_, [3, 5], 2, 16,  dropout=0.35, dense_activation='tanh',\n",
    "                           cnn_activation=relu)\n",
    "\n",
    "\n",
    "\n",
    "    x = layers.Flatten(name='flatten_main_output')(x)\n",
    "    x = layers.Dense(128)(x)\n",
    "#     model.add(layers.Dense(64))\n",
    "    \n",
    "    if bias_output is not None:\n",
    "        bias_output = tf.keras.initializers.Constant(bias_output)\n",
    "    output_layer = layers.Dense(1, activation='sigmoid', bias_initializer=bias_output)(x)\n",
    "    \n",
    "    output_helper_1 = layers.Dense(1, activation='sigmoid',\n",
    "                                  bias_initializer=bias_output)(output_helper_1)\n",
    "    output_helper_2 = layers.Dense(1, activation='sigmoid',\n",
    "                                  bias_initializer=bias_output)(output_helper_2)\n",
    "    \n",
    "    model=keras.Model(inputs=[input_tensor],\n",
    "                     outputs=[output_layer, output_helper_1, output_helper_2])\n",
    "\n",
    " \n",
    "           \n",
    "    metrics = [\n",
    "          keras.metrics.TruePositives(name='tp'),\n",
    "          keras.metrics.FalseNegatives(name='fn'), \n",
    "          keras.metrics.BinaryAccuracy(name='accuracy'),\n",
    "          keras.metrics.AUC(name='auc'),\n",
    "    ]\n",
    "    schedule = None\n",
    "    \n",
    "    model.compile(\n",
    "        optimizer=tf.keras.optimizers.Adam(0.00033),\n",
    "        loss = [tf.keras.losses.BinaryCrossentropy(label_smoothing = 0.01),\n",
    "                tf.keras.losses.BinaryCrossentropy(label_smoothing = 0.01),\n",
    "                tf.keras.losses.BinaryCrossentropy(label_smoothing = 0.01)],\n",
    "        metrics=metrics,\n",
    "    loss_weights = [1.0, 0.15, 0.15])\n",
    "    \n",
    "\n",
    "    \n",
    "    return model\n",
    "\n"
   ]
  },
  {
   "cell_type": "code",
   "execution_count": 19,
   "metadata": {
    "colab": {},
    "colab_type": "code",
    "execution": {
     "iopub.execute_input": "2020-08-10T05:29:27.365550Z",
     "iopub.status.busy": "2020-08-10T05:29:27.364537Z",
     "iopub.status.idle": "2020-08-10T05:29:27.367978Z",
     "shell.execute_reply": "2020-08-10T05:29:27.367223Z"
    },
    "id": "ctZtGXcBLMgC",
    "papermill": {
     "duration": 0.034554,
     "end_time": "2020-08-10T05:29:27.368133",
     "exception": false,
     "start_time": "2020-08-10T05:29:27.333579",
     "status": "completed"
    },
    "tags": []
   },
   "outputs": [],
   "source": [
    "def get_ds_size(files):\n",
    "    '''\n",
    "    function to get size of tfrecord Dataset, based on file name\n",
    "    \n",
    "    the file name has the number of records in the file, for example:\n",
    "    train09-2071.tfrec has 2017 records\n",
    "    \n",
    "    args:\n",
    "        files: list of str file names, each item should be the path to a tfrecord file\n",
    "    \n",
    "    returns:\n",
    "        size: int, size of dataset\n",
    "    '''\n",
    "    size = 0\n",
    "    for file in files:\n",
    "        file_size = int(file.split('.tfrec')[0].split('tfrecords/')[1].split('-')[1])\n",
    "        size += file_size\n",
    "    return size"
   ]
  },
  {
   "cell_type": "code",
   "execution_count": 20,
   "metadata": {
    "colab": {},
    "colab_type": "code",
    "execution": {
     "iopub.execute_input": "2020-08-10T05:29:27.591545Z",
     "iopub.status.busy": "2020-08-10T05:29:27.586562Z",
     "iopub.status.idle": "2020-08-10T05:29:28.311476Z",
     "shell.execute_reply": "2020-08-10T05:29:28.310631Z"
    },
    "id": "N7SqvS9ULMgD",
    "papermill": {
     "duration": 0.919898,
     "end_time": "2020-08-10T05:29:28.311604",
     "exception": false,
     "start_time": "2020-08-10T05:29:27.391706",
     "status": "completed"
    },
    "tags": []
   },
   "outputs": [],
   "source": [
    "#get test file paths\n",
    "test_files = tf.io.gfile.glob(dataset_gcs + '/tfrecords/test*.tfrec')\n",
    "\n",
    "#get train and validation file paths\n",
    "train_files, valid_files = train_test_split(tf.io.gfile.glob(dataset_gcs + '/tfrecords/train*.tfrec'),\n",
    "                              test_size=.1, random_state=1)\n",
    "\n",
    "#create datasets\n",
    "train_ds = get_train_ds(train_files, params['batch_size'])\n",
    "valid_ds = get_train_ds(valid_files, params['batch_size'])\n",
    "test_ds = get_test_ds(test_files, params['batch_size'])"
   ]
  },
  {
   "cell_type": "code",
   "execution_count": 21,
   "metadata": {
    "colab": {
     "base_uri": "https://localhost:8080/",
     "height": 34
    },
    "colab_type": "code",
    "execution": {
     "iopub.execute_input": "2020-08-10T05:29:28.365324Z",
     "iopub.status.busy": "2020-08-10T05:29:28.364523Z",
     "iopub.status.idle": "2020-08-10T05:29:28.367784Z",
     "shell.execute_reply": "2020-08-10T05:29:28.368736Z"
    },
    "id": "fVGrZ5WFLMgE",
    "outputId": "5b8d931a-db0c-4f6b-a97b-4371d27a1f8f",
    "papermill": {
     "duration": 0.034059,
     "end_time": "2020-08-10T05:29:28.368958",
     "exception": false,
     "start_time": "2020-08-10T05:29:28.334899",
     "status": "completed"
    },
    "tags": []
   },
   "outputs": [
    {
     "name": "stdout",
     "output_type": "stream",
     "text": [
      "the dataset consists of: 28984 training images, 4142 validation images, and 10982 test images\n"
     ]
    }
   ],
   "source": [
    "train_size, valid_size = get_ds_size(train_files), get_ds_size(valid_files)\n",
    "test_size = get_ds_size(test_files)\n",
    "print('the dataset consists of: {} training images, {} validation images, and {} test images'.\n",
    "     format(train_size, valid_size, test_size))"
   ]
  },
  {
   "cell_type": "code",
   "execution_count": 21,
   "metadata": {
    "colab": {},
    "colab_type": "code",
    "id": "gVpGnOMJLMgG",
    "papermill": {
     "duration": 0.024878,
     "end_time": "2020-08-10T05:29:28.418699",
     "exception": false,
     "start_time": "2020-08-10T05:29:28.393821",
     "status": "completed"
    },
    "tags": []
   },
   "outputs": [],
   "source": []
  },
  {
   "cell_type": "code",
   "execution_count": 22,
   "metadata": {
    "colab": {},
    "colab_type": "code",
    "execution": {
     "iopub.execute_input": "2020-08-10T05:29:28.473067Z",
     "iopub.status.busy": "2020-08-10T05:29:28.471947Z",
     "iopub.status.idle": "2020-08-10T05:29:28.475504Z",
     "shell.execute_reply": "2020-08-10T05:29:28.474867Z"
    },
    "id": "aykTwKSdLMgH",
    "papermill": {
     "duration": 0.033353,
     "end_time": "2020-08-10T05:29:28.475640",
     "exception": false,
     "start_time": "2020-08-10T05:29:28.442287",
     "status": "completed"
    },
    "tags": []
   },
   "outputs": [],
   "source": [
    "epoch_steps = train_size / params['batch_size'] \n",
    "valid_steps = valid_size / params['batch_size']\n",
    "test_steps = 1.0 * test_size / params['batch_size'] "
   ]
  },
  {
   "cell_type": "code",
   "execution_count": 23,
   "metadata": {
    "colab": {},
    "colab_type": "code",
    "execution": {
     "iopub.execute_input": "2020-08-10T05:29:28.534284Z",
     "iopub.status.busy": "2020-08-10T05:29:28.533405Z",
     "iopub.status.idle": "2020-08-10T05:29:28.574657Z",
     "shell.execute_reply": "2020-08-10T05:29:28.575364Z"
    },
    "id": "ZSyag_aJLMgI",
    "papermill": {
     "duration": 0.076334,
     "end_time": "2020-08-10T05:29:28.575543",
     "exception": false,
     "start_time": "2020-08-10T05:29:28.499209",
     "status": "completed"
    },
    "tags": []
   },
   "outputs": [],
   "source": [
    "#calculate class weights\n",
    "\n",
    "targets = train_df.groupby('target').count()['diagnosis'].to_list()\n",
    "target_0 = targets[0]\n",
    "target_1 = targets[1]\n",
    "total = target_0 + target_1\n",
    "\n",
    "class_weight_0 = (1 / target_0) * (total) / 2.0\n",
    "class_weight_1 = (1 / target_1) * (total) / 2.0\n",
    "\n",
    "class_weights = {0: class_weight_0, 1: class_weight_1}\n",
    "\n",
    "initial_bias = np.log([target_1 / target_0])\n",
    "\n"
   ]
  },
  {
   "cell_type": "code",
   "execution_count": 24,
   "metadata": {
    "colab": {},
    "colab_type": "code",
    "id": "M_-z4cMRLMgJ",
    "papermill": {
     "duration": 0.025821,
     "end_time": "2020-08-10T05:29:28.626335",
     "exception": false,
     "start_time": "2020-08-10T05:29:28.600514",
     "status": "completed"
    },
    "tags": []
   },
   "outputs": [],
   "source": [
    "def lr_schedule_fn(epoch, lr):\n",
    "    if epoch < 10:\n",
    "        return 0.000001\n",
    "    elif epoch == 10:\n",
    "        return 0.001\n",
    "    elif epoch %2 ==0 and epoch < 49:\n",
    "        return lr * 0.75\n",
    "    else:\n",
    "        return lr"
   ]
  },
  {
   "cell_type": "code",
   "execution_count": 25,
   "metadata": {
    "colab": {
     "base_uri": "https://localhost:8080/",
     "height": 377
    },
    "colab_type": "code",
    "execution": {
     "iopub.execute_input": "2020-08-10T05:29:28.680038Z",
     "iopub.status.busy": "2020-08-10T05:29:28.679268Z",
     "iopub.status.idle": "2020-08-10T05:29:34.746441Z",
     "shell.execute_reply": "2020-08-10T05:29:34.747377Z"
    },
    "id": "fOtpzGueLMgK",
    "outputId": "45975dc7-f2af-467d-b222-44dfab8aeab4",
    "papermill": {
     "duration": 6.097709,
     "end_time": "2020-08-10T05:29:34.747615",
     "exception": false,
     "start_time": "2020-08-10T05:29:28.649906",
     "status": "completed"
    },
    "tags": []
   },
   "outputs": [
    {
     "name": "stdout",
     "output_type": "stream",
     "text": [
      "Downloading data from https://storage.googleapis.com/tensorflow/keras-applications/densenet/densenet121_weights_tf_dim_ordering_tf_kernels_notop.h5\n",
      "29089792/29084464 [==============================] - 0s 0us/step\n",
      "Model: \"functional_1\"\n",
      "_________________________________________________________________\n",
      "Layer (type)                 Output Shape              Param #   \n",
      "=================================================================\n",
      "images_input (InputLayer)    [(None, 224, 224, 3)]     0         \n",
      "_________________________________________________________________\n",
      "densenet121 (Functional)     (None, 7, 7, 1024)        7037504   \n",
      "_________________________________________________________________\n",
      "global_average_pooling2d (Gl (None, 1024)              0         \n",
      "_________________________________________________________________\n",
      "dense (Dense)                (None, 512)               524800    \n",
      "_________________________________________________________________\n",
      "dense_1 (Dense)              (None, 1)                 513       \n",
      "=================================================================\n",
      "Total params: 7,562,817\n",
      "Trainable params: 7,479,169\n",
      "Non-trainable params: 83,648\n",
      "_________________________________________________________________\n"
     ]
    }
   ],
   "source": [
    "with strategy.scope():\n",
    "    model = create_model(bias_output=initial_bias)\n",
    "    model.summary()"
   ]
  },
  {
   "cell_type": "markdown",
   "metadata": {
    "colab_type": "text",
    "id": "PpMHxSTyLMgL",
    "papermill": {
     "duration": 0.023785,
     "end_time": "2020-08-10T05:29:34.802909",
     "exception": false,
     "start_time": "2020-08-10T05:29:34.779124",
     "status": "completed"
    },
    "tags": []
   },
   "source": [
    "# Training"
   ]
  },
  {
   "cell_type": "code",
   "execution_count": 26,
   "metadata": {
    "colab": {
     "base_uri": "https://localhost:8080/",
     "height": 1000
    },
    "colab_type": "code",
    "execution": {
     "iopub.execute_input": "2020-08-10T05:29:34.863831Z",
     "iopub.status.busy": "2020-08-10T05:29:34.862857Z",
     "iopub.status.idle": "2020-08-10T07:26:16.782372Z",
     "shell.execute_reply": "2020-08-10T07:26:16.781673Z"
    },
    "id": "kS9LOS2sLMgL",
    "outputId": "ee3f2b71-29fd-4359-c1d7-6be9196de158",
    "papermill": {
     "duration": 7001.954688,
     "end_time": "2020-08-10T07:26:16.782530",
     "exception": false,
     "start_time": "2020-08-10T05:29:34.827842",
     "status": "completed"
    },
    "tags": []
   },
   "outputs": [
    {
     "name": "stdout",
     "output_type": "stream",
     "text": [
      "Epoch 1/150\n",
      " 2/28 [=>............................] - ETA: 7s - loss: 1.4936 - tp: 1.0000 - fn: 30.0000 - accuracy: 0.9854 - auc: 0.4552    WARNING:tensorflow:Callbacks method `on_train_batch_end` is slow compared to the batch time (batch time: 0.0173s vs `on_train_batch_end` time: 0.5719s). Check your callbacks.\n"
     ]
    },
    {
     "name": "stderr",
     "output_type": "stream",
     "text": [
      "WARNING:tensorflow:Callbacks method `on_train_batch_end` is slow compared to the batch time (batch time: 0.0173s vs `on_train_batch_end` time: 0.5719s). Check your callbacks.\n"
     ]
    },
    {
     "name": "stdout",
     "output_type": "stream",
     "text": [
      "29/28 [==============================] - ETA: 0s - loss: 1.5437 - tp: 1.0000 - fn: 525.0000 - accuracy: 0.9819 - auc: 0.5504WARNING:tensorflow:Callbacks method `on_test_batch_end` is slow compared to the batch time (batch time: 0.0077s vs `on_test_batch_end` time: 0.2009s). Check your callbacks.\n"
     ]
    },
    {
     "name": "stderr",
     "output_type": "stream",
     "text": [
      "WARNING:tensorflow:Callbacks method `on_test_batch_end` is slow compared to the batch time (batch time: 0.0077s vs `on_test_batch_end` time: 0.2009s). Check your callbacks.\n"
     ]
    },
    {
     "name": "stdout",
     "output_type": "stream",
     "text": [
      "\b\b\b\b\b\b\b\b\b\b\b\b\b\b\b\b\b\b\b\b\b\b\b\b\b\b\b\b\b\b\b\b\b\b\b\b\b\b\b\b\b\b\b\b\b\b\b\b\b\b\b\b\b\b\b\b\b\b\b\b\b\b\b\b\b\b\b\b\b\b\b\b\b\b\b\b\b\b\b\b\b\b\b\b\b\b\b\b\b\b\b\b\b\b\b\b\b\b\b\b\b\b\b\b\b\b\b\b\b\b\b\b\b\b\b\b\b\b\b\b\b\b\b\b\r",
      "29/28 [==============================] - 44s 2s/step - loss: 1.5437 - tp: 1.0000 - fn: 525.0000 - accuracy: 0.9819 - auc: 0.5504 - val_loss: 0.1062 - val_tp: 0.0000e+00 - val_fn: 83.0000 - val_accuracy: 0.9838 - val_auc: 0.5348\n",
      "Epoch 2/150\n",
      "29/28 [==============================] - 24s 829ms/step - loss: 1.2942 - tp: 7.0000 - fn: 520.0000 - accuracy: 0.9791 - auc: 0.6107 - val_loss: 0.1090 - val_tp: 0.0000e+00 - val_fn: 86.0000 - val_accuracy: 0.9832 - val_auc: 0.6070\n",
      "Epoch 3/150\n",
      "29/28 [==============================] - 22s 749ms/step - loss: 1.0786 - tp: 29.0000 - fn: 500.0000 - accuracy: 0.9706 - auc: 0.6629 - val_loss: 0.1161 - val_tp: 0.0000e+00 - val_fn: 84.0000 - val_accuracy: 0.9836 - val_auc: 0.5954\n",
      "Epoch 4/150\n",
      "29/28 [==============================] - 24s 837ms/step - loss: 0.9127 - tp: 54.0000 - fn: 474.0000 - accuracy: 0.9506 - auc: 0.7023 - val_loss: 0.1293 - val_tp: 1.0000 - val_fn: 82.0000 - val_accuracy: 0.9822 - val_auc: 0.6473\n",
      "Epoch 5/150\n",
      "29/28 [==============================] - 24s 841ms/step - loss: 0.7799 - tp: 127.0000 - fn: 397.0000 - accuracy: 0.9238 - auc: 0.7309 - val_loss: 0.1543 - val_tp: 2.0000 - val_fn: 83.0000 - val_accuracy: 0.9789 - val_auc: 0.6512\n",
      "Epoch 6/150\n",
      "29/28 [==============================] - 24s 832ms/step - loss: 0.6816 - tp: 190.0000 - fn: 339.0000 - accuracy: 0.8847 - auc: 0.7617 - val_loss: 0.1886 - val_tp: 2.0000 - val_fn: 84.0000 - val_accuracy: 0.9664 - val_auc: 0.6622\n",
      "Epoch 7/150\n",
      "29/28 [==============================] - 24s 833ms/step - loss: 0.6385 - tp: 247.0000 - fn: 286.0000 - accuracy: 0.8445 - auc: 0.7688 - val_loss: 0.2254 - val_tp: 14.0000 - val_fn: 69.0000 - val_accuracy: 0.9494 - val_auc: 0.7161\n",
      "Epoch 8/150\n",
      "29/28 [==============================] - 24s 837ms/step - loss: 0.5774 - tp: 299.0000 - fn: 227.0000 - accuracy: 0.8162 - auc: 0.7931 - val_loss: 0.2699 - val_tp: 20.0000 - val_fn: 63.0000 - val_accuracy: 0.9242 - val_auc: 0.7550\n",
      "Epoch 9/150\n",
      "29/28 [==============================] - 22s 749ms/step - loss: 0.5658 - tp: 335.0000 - fn: 194.0000 - accuracy: 0.7901 - auc: 0.7976 - val_loss: 0.3186 - val_tp: 27.0000 - val_fn: 59.0000 - val_accuracy: 0.8889 - val_auc: 0.7383\n",
      "Epoch 10/150\n",
      "29/28 [==============================] - 22s 754ms/step - loss: 0.5546 - tp: 358.0000 - fn: 172.0000 - accuracy: 0.7727 - auc: 0.8022 - val_loss: 0.3665 - val_tp: 38.0000 - val_fn: 46.0000 - val_accuracy: 0.8572 - val_auc: 0.7390\n",
      "Epoch 11/150\n",
      "29/28 [==============================] - 22s 757ms/step - loss: 0.6453 - tp: 397.0000 - fn: 129.0000 - accuracy: 0.6967 - auc: 0.8019 - val_loss: 12.1598 - val_tp: 86.0000 - val_fn: 0.0000e+00 - val_accuracy: 0.0246 - val_auc: 0.3853\n",
      "Epoch 12/150\n",
      "29/28 [==============================] - 22s 753ms/step - loss: 0.4437 - tp: 453.0000 - fn: 81.0000 - accuracy: 0.7449 - auc: 0.8745 - val_loss: 5.9182 - val_tp: 76.0000 - val_fn: 6.0000 - val_accuracy: 0.0787 - val_auc: 0.3203\n",
      "Epoch 13/150\n",
      "29/28 [==============================] - 22s 751ms/step - loss: 0.3663 - tp: 463.0000 - fn: 66.0000 - accuracy: 0.8089 - auc: 0.9175 - val_loss: 0.8317 - val_tp: 56.0000 - val_fn: 30.0000 - val_accuracy: 0.6006 - val_auc: 0.7220\n",
      "Epoch 14/150\n",
      "29/28 [==============================] - 24s 841ms/step - loss: 0.3167 - tp: 481.0000 - fn: 49.0000 - accuracy: 0.8309 - auc: 0.9400 - val_loss: 0.5491 - val_tp: 67.0000 - val_fn: 20.0000 - val_accuracy: 0.7535 - val_auc: 0.8559\n",
      "Epoch 15/150\n",
      "29/28 [==============================] - 22s 757ms/step - loss: 0.2815 - tp: 484.0000 - fn: 41.0000 - accuracy: 0.8557 - auc: 0.9529 - val_loss: 0.2103 - val_tp: 35.0000 - val_fn: 52.0000 - val_accuracy: 0.9199 - val_auc: 0.8409\n",
      "Epoch 16/150\n",
      "29/28 [==============================] - 24s 838ms/step - loss: 0.2689 - tp: 499.0000 - fn: 30.0000 - accuracy: 0.8684 - auc: 0.9572 - val_loss: 0.4800 - val_tp: 68.0000 - val_fn: 16.0000 - val_accuracy: 0.8020 - val_auc: 0.8887\n",
      "Epoch 17/150\n",
      "29/28 [==============================] - 24s 834ms/step - loss: 0.2501 - tp: 478.0000 - fn: 43.0000 - accuracy: 0.8847 - auc: 0.9635 - val_loss: 0.3225 - val_tp: 61.0000 - val_fn: 24.0000 - val_accuracy: 0.8691 - val_auc: 0.8895\n",
      "Epoch 18/150\n",
      "29/28 [==============================] - 22s 749ms/step - loss: 0.2362 - tp: 494.0000 - fn: 33.0000 - accuracy: 0.8840 - auc: 0.9674 - val_loss: 0.2576 - val_tp: 55.0000 - val_fn: 31.0000 - val_accuracy: 0.9010 - val_auc: 0.8710\n",
      "Epoch 19/150\n",
      "29/28 [==============================] - 22s 748ms/step - loss: 0.2079 - tp: 509.0000 - fn: 25.0000 - accuracy: 0.9078 - auc: 0.9757 - val_loss: 0.4362 - val_tp: 60.0000 - val_fn: 22.0000 - val_accuracy: 0.8324 - val_auc: 0.8736\n",
      "Epoch 20/150\n",
      "29/28 [==============================] - 22s 747ms/step - loss: 0.1689 - tp: 510.0000 - fn: 14.0000 - accuracy: 0.9269 - auc: 0.9843 - val_loss: 0.1525 - val_tp: 43.0000 - val_fn: 42.0000 - val_accuracy: 0.9492 - val_auc: 0.8807\n",
      "Epoch 21/150\n",
      "29/28 [==============================] - 22s 750ms/step - loss: 0.1474 - tp: 511.0000 - fn: 15.0000 - accuracy: 0.9347 - auc: 0.9886 - val_loss: 0.2533 - val_tp: 53.0000 - val_fn: 33.0000 - val_accuracy: 0.9104 - val_auc: 0.8740\n",
      "Epoch 22/150\n",
      "29/28 [==============================] - 22s 752ms/step - loss: 0.1431 - tp: 513.0000 - fn: 11.0000 - accuracy: 0.9408 - auc: 0.9894 - val_loss: 0.2339 - val_tp: 56.0000 - val_fn: 30.0000 - val_accuracy: 0.9156 - val_auc: 0.8876\n",
      "Epoch 23/150\n",
      "29/28 [==============================] - 22s 751ms/step - loss: 0.1345 - tp: 518.0000 - fn: 14.0000 - accuracy: 0.9480 - auc: 0.9913 - val_loss: 0.1568 - val_tp: 43.0000 - val_fn: 46.0000 - val_accuracy: 0.9492 - val_auc: 0.8710\n",
      "Epoch 24/150\n",
      "29/28 [==============================] - 22s 745ms/step - loss: 0.1091 - tp: 522.0000 - fn: 7.0000 - accuracy: 0.9592 - auc: 0.9951 - val_loss: 0.1687 - val_tp: 48.0000 - val_fn: 38.0000 - val_accuracy: 0.9471 - val_auc: 0.8752\n",
      "Epoch 25/150\n",
      "29/28 [==============================] - 22s 744ms/step - loss: 0.0978 - tp: 521.0000 - fn: 7.0000 - accuracy: 0.9656 - auc: 0.9964 - val_loss: 0.1403 - val_tp: 45.0000 - val_fn: 42.0000 - val_accuracy: 0.9580 - val_auc: 0.8657\n",
      "Epoch 26/150\n",
      "29/28 [==============================] - 22s 755ms/step - loss: 0.0867 - tp: 523.0000 - fn: 4.0000 - accuracy: 0.9711 - auc: 0.9974 - val_loss: 0.1724 - val_tp: 42.0000 - val_fn: 47.0000 - val_accuracy: 0.9465 - val_auc: 0.8617\n",
      "Epoch 27/150\n",
      "29/28 [==============================] - 22s 750ms/step - loss: 0.0827 - tp: 520.0000 - fn: 4.0000 - accuracy: 0.9743 - auc: 0.9976 - val_loss: 0.1737 - val_tp: 51.0000 - val_fn: 39.0000 - val_accuracy: 0.9443 - val_auc: 0.8729\n",
      "Epoch 28/150\n",
      "29/28 [==============================] - 22s 746ms/step - loss: 0.0797 - tp: 528.0000 - fn: 3.0000 - accuracy: 0.9761 - auc: 0.9981 - val_loss: 0.1414 - val_tp: 43.0000 - val_fn: 41.0000 - val_accuracy: 0.9605 - val_auc: 0.8729\n",
      "Epoch 29/150\n",
      "29/28 [==============================] - 22s 748ms/step - loss: 0.0715 - tp: 525.0000 - fn: 3.0000 - accuracy: 0.9802 - auc: 0.9987 - val_loss: 0.1365 - val_tp: 38.0000 - val_fn: 46.0000 - val_accuracy: 0.9617 - val_auc: 0.8571\n",
      "Epoch 30/150\n",
      "29/28 [==============================] - 22s 749ms/step - loss: 0.0707 - tp: 517.0000 - fn: 3.0000 - accuracy: 0.9837 - auc: 0.9986 - val_loss: 0.1466 - val_tp: 37.0000 - val_fn: 50.0000 - val_accuracy: 0.9615 - val_auc: 0.8681\n",
      "Epoch 31/150\n",
      "29/28 [==============================] - 22s 752ms/step - loss: 0.0665 - tp: 527.0000 - fn: 2.0000 - accuracy: 0.9855 - auc: 0.9990 - val_loss: 0.1282 - val_tp: 31.0000 - val_fn: 55.0000 - val_accuracy: 0.9668 - val_auc: 0.8350\n",
      "Epoch 32/150\n",
      "29/28 [==============================] - 22s 748ms/step - loss: 0.0598 - tp: 528.0000 - fn: 2.0000 - accuracy: 0.9864 - auc: 0.9994 - val_loss: 0.1188 - val_tp: 25.0000 - val_fn: 61.0000 - val_accuracy: 0.9727 - val_auc: 0.8498\n",
      "Epoch 33/150\n",
      "29/28 [==============================] - 22s 755ms/step - loss: 0.0622 - tp: 534.0000 - fn: 3.0000 - accuracy: 0.9884 - auc: 0.9992 - val_loss: 0.1322 - val_tp: 31.0000 - val_fn: 55.0000 - val_accuracy: 0.9648 - val_auc: 0.8676\n",
      "Epoch 34/150\n",
      "29/28 [==============================] - 22s 755ms/step - loss: 0.0544 - tp: 523.0000 - fn: 0.0000e+00 - accuracy: 0.9893 - auc: 0.9996 - val_loss: 0.1147 - val_tp: 24.0000 - val_fn: 60.0000 - val_accuracy: 0.9732 - val_auc: 0.8438\n",
      "Epoch 35/150\n",
      "29/28 [==============================] - 22s 748ms/step - loss: 0.0559 - tp: 528.0000 - fn: 1.0000 - accuracy: 0.9893 - auc: 0.9996 - val_loss: 0.1217 - val_tp: 27.0000 - val_fn: 62.0000 - val_accuracy: 0.9689 - val_auc: 0.8610\n",
      "Epoch 36/150\n",
      "29/28 [==============================] - 22s 748ms/step - loss: 0.0540 - tp: 525.0000 - fn: 1.0000 - accuracy: 0.9902 - auc: 0.9996 - val_loss: 0.1308 - val_tp: 26.0000 - val_fn: 60.0000 - val_accuracy: 0.9666 - val_auc: 0.8429\n",
      "Epoch 37/150\n",
      "29/28 [==============================] - 22s 745ms/step - loss: 0.0520 - tp: 525.0000 - fn: 1.0000 - accuracy: 0.9899 - auc: 0.9998 - val_loss: 0.1250 - val_tp: 24.0000 - val_fn: 62.0000 - val_accuracy: 0.9709 - val_auc: 0.8555\n",
      "Epoch 38/150\n",
      "29/28 [==============================] - 22s 748ms/step - loss: 0.0518 - tp: 525.0000 - fn: 1.0000 - accuracy: 0.9923 - auc: 0.9997 - val_loss: 0.1150 - val_tp: 26.0000 - val_fn: 59.0000 - val_accuracy: 0.9744 - val_auc: 0.8524\n",
      "Epoch 39/150\n",
      "29/28 [==============================] - 22s 748ms/step - loss: 0.0480 - tp: 521.0000 - fn: 0.0000e+00 - accuracy: 0.9928 - auc: 0.9998 - val_loss: 0.1121 - val_tp: 22.0000 - val_fn: 62.0000 - val_accuracy: 0.9752 - val_auc: 0.8197\n",
      "Epoch 40/150\n",
      "29/28 [==============================] - 22s 751ms/step - loss: 0.0495 - tp: 533.0000 - fn: 0.0000e+00 - accuracy: 0.9926 - auc: 0.9998 - val_loss: 0.1141 - val_tp: 26.0000 - val_fn: 58.0000 - val_accuracy: 0.9727 - val_auc: 0.8482\n",
      "Epoch 41/150\n",
      "29/28 [==============================] - 22s 753ms/step - loss: 0.0477 - tp: 524.0000 - fn: 0.0000e+00 - accuracy: 0.9934 - auc: 0.9999 - val_loss: 0.1142 - val_tp: 22.0000 - val_fn: 63.0000 - val_accuracy: 0.9736 - val_auc: 0.8474\n",
      "Epoch 42/150\n",
      "29/28 [==============================] - 22s 756ms/step - loss: 0.0477 - tp: 524.0000 - fn: 0.0000e+00 - accuracy: 0.9942 - auc: 0.9999 - val_loss: 0.1172 - val_tp: 20.0000 - val_fn: 64.0000 - val_accuracy: 0.9721 - val_auc: 0.8366\n",
      "Epoch 43/150\n",
      "29/28 [==============================] - 22s 746ms/step - loss: 0.0470 - tp: 530.0000 - fn: 0.0000e+00 - accuracy: 0.9936 - auc: 0.9999 - val_loss: 0.1164 - val_tp: 23.0000 - val_fn: 65.0000 - val_accuracy: 0.9721 - val_auc: 0.8310\n",
      "Epoch 44/150\n",
      "29/28 [==============================] - 22s 752ms/step - loss: 0.0491 - tp: 527.0000 - fn: 1.0000 - accuracy: 0.9938 - auc: 0.9999 - val_loss: 0.1127 - val_tp: 28.0000 - val_fn: 55.0000 - val_accuracy: 0.9748 - val_auc: 0.8450\n",
      "Epoch 45/150\n",
      "29/28 [==============================] - 22s 745ms/step - loss: 0.0475 - tp: 525.0000 - fn: 0.0000e+00 - accuracy: 0.9930 - auc: 0.9999 - val_loss: 0.1114 - val_tp: 25.0000 - val_fn: 57.0000 - val_accuracy: 0.9738 - val_auc: 0.8577\n",
      "Epoch 46/150\n",
      "29/28 [==============================] - 22s 747ms/step - loss: 0.0478 - tp: 528.0000 - fn: 0.0000e+00 - accuracy: 0.9936 - auc: 0.9999 - val_loss: 0.1134 - val_tp: 24.0000 - val_fn: 60.0000 - val_accuracy: 0.9734 - val_auc: 0.8456\n",
      "Epoch 47/150\n",
      "29/28 [==============================] - 22s 750ms/step - loss: 0.0470 - tp: 531.0000 - fn: 0.0000e+00 - accuracy: 0.9940 - auc: 0.9999 - val_loss: 0.1167 - val_tp: 23.0000 - val_fn: 60.0000 - val_accuracy: 0.9738 - val_auc: 0.8248\n",
      "Epoch 48/150\n",
      "29/28 [==============================] - 22s 747ms/step - loss: 0.0464 - tp: 525.0000 - fn: 0.0000e+00 - accuracy: 0.9940 - auc: 0.9999 - val_loss: 0.1180 - val_tp: 21.0000 - val_fn: 65.0000 - val_accuracy: 0.9730 - val_auc: 0.8381\n",
      "Epoch 49/150\n",
      "29/28 [==============================] - 22s 754ms/step - loss: 0.0466 - tp: 531.0000 - fn: 0.0000e+00 - accuracy: 0.9941 - auc: 0.9998 - val_loss: 0.1174 - val_tp: 23.0000 - val_fn: 64.0000 - val_accuracy: 0.9742 - val_auc: 0.8124\n",
      "Epoch 50/150\n",
      "29/28 [==============================] - 22s 755ms/step - loss: 0.0462 - tp: 533.0000 - fn: 0.0000e+00 - accuracy: 0.9946 - auc: 0.9999 - val_loss: 0.1141 - val_tp: 21.0000 - val_fn: 64.0000 - val_accuracy: 0.9746 - val_auc: 0.8577\n",
      "Epoch 51/150\n",
      "29/28 [==============================] - 22s 757ms/step - loss: 0.0463 - tp: 525.0000 - fn: 0.0000e+00 - accuracy: 0.9947 - auc: 0.9999 - val_loss: 0.1112 - val_tp: 23.0000 - val_fn: 61.0000 - val_accuracy: 0.9742 - val_auc: 0.8520\n",
      "Epoch 52/150\n",
      "29/28 [==============================] - 26s 885ms/step - loss: 0.0446 - tp: 530.0000 - fn: 0.0000e+00 - accuracy: 0.9953 - auc: 0.9999 - val_loss: 0.1150 - val_tp: 22.0000 - val_fn: 65.0000 - val_accuracy: 0.9738 - val_auc: 0.8391\n"
     ]
    }
   ],
   "source": [
    "early_stopping = tf.keras.callbacks.EarlyStopping(monitor='val_auc', #val_auc\n",
    "                                patience=35,\n",
    "                                mode='max',\n",
    "                                restore_best_weights=True)\n",
    "lr_schedule = tf.keras.callbacks.LearningRateScheduler(lr_schedule_fn)\n",
    "\n",
    "\n",
    "history = model.fit(\n",
    "    train_ds,\n",
    "#     batch_size=params['batch_size'],\n",
    "    epochs= params['epochs'], \n",
    "    steps_per_epoch=epoch_steps,\n",
    "    validation_data=valid_ds,\n",
    "    validation_steps=valid_steps,\n",
    "    class_weight=class_weights,\n",
    "    callbacks=[early_stopping, lr_schedule]\n",
    ")\n",
    "\n"
   ]
  },
  {
   "cell_type": "code",
   "execution_count": 27,
   "metadata": {
    "colab": {
     "base_uri": "https://localhost:8080/",
     "height": 139
    },
    "colab_type": "code",
    "execution": {
     "iopub.execute_input": "2020-08-10T07:26:17.988752Z",
     "iopub.status.busy": "2020-08-10T07:26:17.987551Z",
     "iopub.status.idle": "2020-08-10T07:27:05.467405Z",
     "shell.execute_reply": "2020-08-10T07:27:05.466555Z"
    },
    "id": "eA4PkEzsLMgM",
    "outputId": "bc8e4752-2158-4d25-a1db-f4b817b4fb93",
    "papermill": {
     "duration": 48.044916,
     "end_time": "2020-08-10T07:27:05.467551",
     "exception": false,
     "start_time": "2020-08-10T07:26:17.422635",
     "status": "completed"
    },
    "tags": []
   },
   "outputs": [
    {
     "name": "stdout",
     "output_type": "stream",
     "text": [
      "WARNING:tensorflow:From /usr/local/lib/python3.6/dist-packages/tensorflow/python/data/ops/multi_device_iterator_ops.py:601: get_next_as_optional (from tensorflow.python.data.ops.iterator_ops) is deprecated and will be removed in a future version.\n",
      "Instructions for updating:\n",
      "Use `tf.data.Iterator.get_next_as_optional()` instead.\n"
     ]
    },
    {
     "name": "stderr",
     "output_type": "stream",
     "text": [
      "WARNING:tensorflow:From /usr/local/lib/python3.6/dist-packages/tensorflow/python/data/ops/multi_device_iterator_ops.py:601: get_next_as_optional (from tensorflow.python.data.ops.iterator_ops) is deprecated and will be removed in a future version.\n",
      "Instructions for updating:\n",
      "Use `tf.data.Iterator.get_next_as_optional()` instead.\n"
     ]
    }
   ],
   "source": [
    "predictions = model.predict(test_ds.map(lambda img, igs: img), steps=test_steps)  "
   ]
  },
  {
   "cell_type": "code",
   "execution_count": 28,
   "metadata": {
    "colab": {
     "base_uri": "https://localhost:8080/",
     "height": 445
    },
    "colab_type": "code",
    "execution": {
     "iopub.execute_input": "2020-08-10T07:27:06.572095Z",
     "iopub.status.busy": "2020-08-10T07:27:06.571043Z",
     "iopub.status.idle": "2020-08-10T07:27:10.897767Z",
     "shell.execute_reply": "2020-08-10T07:27:10.896877Z"
    },
    "id": "1U9IhzWcLMgN",
    "outputId": "1d2e5494-aacb-4ecc-d200-df7d0fa14b5b",
    "papermill": {
     "duration": 4.884037,
     "end_time": "2020-08-10T07:27:10.897906",
     "exception": false,
     "start_time": "2020-08-10T07:27:06.013869",
     "status": "completed"
    },
    "tags": []
   },
   "outputs": [
    {
     "name": "stdout",
     "output_type": "stream",
     "text": [
      "WARNING:tensorflow:AutoGraph could not transform <function <lambda> at 0x7fe218b489d8> and will run it as-is.\n",
      "Cause: could not parse the source code:\n",
      "\n",
      "                          map(lambda img, ids:ids).\n",
      "\n",
      "This error may be avoided by creating the lambda in a standalone statement.\n",
      "\n",
      "To silence this warning, decorate the function with @tf.autograph.experimental.do_not_convert\n"
     ]
    },
    {
     "name": "stderr",
     "output_type": "stream",
     "text": [
      "WARNING:tensorflow:AutoGraph could not transform <function <lambda> at 0x7fe218b489d8> and will run it as-is.\n",
      "Cause: could not parse the source code:\n",
      "\n",
      "                          map(lambda img, ids:ids).\n",
      "\n",
      "This error may be avoided by creating the lambda in a standalone statement.\n",
      "\n",
      "To silence this warning, decorate the function with @tf.autograph.experimental.do_not_convert\n"
     ]
    },
    {
     "name": "stdout",
     "output_type": "stream",
     "text": [
      "WARNING: AutoGraph could not transform <function <lambda> at 0x7fe218b489d8> and will run it as-is.\n",
      "Cause: could not parse the source code:\n",
      "\n",
      "                          map(lambda img, ids:ids).\n",
      "\n",
      "This error may be avoided by creating the lambda in a standalone statement.\n",
      "\n",
      "To silence this warning, decorate the function with @tf.autograph.experimental.do_not_convert\n"
     ]
    }
   ],
   "source": [
    "prediction_ids = next(iter(test_ds.\n",
    "                          map(lambda img, ids:ids).\n",
    "                          unbatch().\n",
    "                          batch(test_size))).numpy().astype('str')"
   ]
  },
  {
   "cell_type": "code",
   "execution_count": 29,
   "metadata": {
    "colab": {},
    "colab_type": "code",
    "execution": {
     "iopub.execute_input": "2020-08-10T07:27:12.128064Z",
     "iopub.status.busy": "2020-08-10T07:27:12.127208Z",
     "iopub.status.idle": "2020-08-10T07:27:12.142643Z",
     "shell.execute_reply": "2020-08-10T07:27:12.141837Z"
    },
    "id": "kQ7UGn3vLMgO",
    "papermill": {
     "duration": 0.574152,
     "end_time": "2020-08-10T07:27:12.142772",
     "exception": false,
     "start_time": "2020-08-10T07:27:11.568620",
     "status": "completed"
    },
    "tags": []
   },
   "outputs": [],
   "source": [
    "prediction_dict = {\n",
    "    'image_name': prediction_ids,\n",
    "    'target': np.concatenate(predictions)\n",
    "}\n",
    "submission_ds = pd.DataFrame(prediction_dict)"
   ]
  },
  {
   "cell_type": "code",
   "execution_count": 30,
   "metadata": {
    "colab": {
     "base_uri": "https://localhost:8080/",
     "height": 204
    },
    "colab_type": "code",
    "execution": {
     "iopub.execute_input": "2020-08-10T07:27:13.356629Z",
     "iopub.status.busy": "2020-08-10T07:27:13.355341Z",
     "iopub.status.idle": "2020-08-10T07:27:13.360912Z",
     "shell.execute_reply": "2020-08-10T07:27:13.360045Z"
    },
    "id": "1A4o3bZ4LMgP",
    "outputId": "5e1e1057-0a6f-418c-c290-dc4d8ed7ddf5",
    "papermill": {
     "duration": 0.660873,
     "end_time": "2020-08-10T07:27:13.361076",
     "exception": false,
     "start_time": "2020-08-10T07:27:12.700203",
     "status": "completed"
    },
    "tags": []
   },
   "outputs": [
    {
     "data": {
      "text/html": [
       "<div>\n",
       "<style scoped>\n",
       "    .dataframe tbody tr th:only-of-type {\n",
       "        vertical-align: middle;\n",
       "    }\n",
       "\n",
       "    .dataframe tbody tr th {\n",
       "        vertical-align: top;\n",
       "    }\n",
       "\n",
       "    .dataframe thead th {\n",
       "        text-align: right;\n",
       "    }\n",
       "</style>\n",
       "<table border=\"1\" class=\"dataframe\">\n",
       "  <thead>\n",
       "    <tr style=\"text-align: right;\">\n",
       "      <th></th>\n",
       "      <th>image_name</th>\n",
       "      <th>target</th>\n",
       "    </tr>\n",
       "  </thead>\n",
       "  <tbody>\n",
       "    <tr>\n",
       "      <th>0</th>\n",
       "      <td>ISIC_6381819</td>\n",
       "      <td>0.406826</td>\n",
       "    </tr>\n",
       "    <tr>\n",
       "      <th>1</th>\n",
       "      <td>ISIC_5583376</td>\n",
       "      <td>0.384418</td>\n",
       "    </tr>\n",
       "    <tr>\n",
       "      <th>2</th>\n",
       "      <td>ISIC_6408546</td>\n",
       "      <td>0.000341</td>\n",
       "    </tr>\n",
       "    <tr>\n",
       "      <th>3</th>\n",
       "      <td>ISIC_6932354</td>\n",
       "      <td>0.522125</td>\n",
       "    </tr>\n",
       "    <tr>\n",
       "      <th>4</th>\n",
       "      <td>ISIC_8191278</td>\n",
       "      <td>0.017282</td>\n",
       "    </tr>\n",
       "  </tbody>\n",
       "</table>\n",
       "</div>"
      ],
      "text/plain": [
       "     image_name    target\n",
       "0  ISIC_6381819  0.406826\n",
       "1  ISIC_5583376  0.384418\n",
       "2  ISIC_6408546  0.000341\n",
       "3  ISIC_6932354  0.522125\n",
       "4  ISIC_8191278  0.017282"
      ]
     },
     "execution_count": 30,
     "metadata": {
      "tags": []
     },
     "output_type": "execute_result"
    }
   ],
   "source": [
    "submission_ds.head()"
   ]
  },
  {
   "cell_type": "code",
   "execution_count": 31,
   "metadata": {
    "colab": {},
    "colab_type": "code",
    "execution": {
     "iopub.execute_input": "2020-08-10T07:27:14.495784Z",
     "iopub.status.busy": "2020-08-10T07:27:14.494636Z",
     "iopub.status.idle": "2020-08-10T07:27:14.562995Z",
     "shell.execute_reply": "2020-08-10T07:27:14.562184Z"
    },
    "id": "KcsPat4yLMgQ",
    "papermill": {
     "duration": 0.640161,
     "end_time": "2020-08-10T07:27:14.563171",
     "exception": false,
     "start_time": "2020-08-10T07:27:13.923010",
     "status": "completed"
    },
    "tags": []
   },
   "outputs": [],
   "source": [
    "submission_ds.to_csv('submission.csv', index=False)"
   ]
  },
  {
   "cell_type": "markdown",
   "metadata": {
    "colab_type": "text",
    "id": "ubGSnZkvLMgR",
    "papermill": {
     "duration": 0.560236,
     "end_time": "2020-08-10T07:27:15.750840",
     "exception": false,
     "start_time": "2020-08-10T07:27:15.190604",
     "status": "completed"
    },
    "tags": []
   },
   "source": [
    "# Metrics"
   ]
  },
  {
   "cell_type": "code",
   "execution_count": 32,
   "metadata": {
    "colab": {},
    "colab_type": "code",
    "execution": {
     "iopub.execute_input": "2020-08-10T07:27:16.938779Z",
     "iopub.status.busy": "2020-08-10T07:27:16.937645Z",
     "iopub.status.idle": "2020-08-10T07:27:16.940763Z",
     "shell.execute_reply": "2020-08-10T07:27:16.941337Z"
    },
    "id": "UxBeXMGxLMgR",
    "papermill": {
     "duration": 0.629839,
     "end_time": "2020-08-10T07:27:16.941507",
     "exception": false,
     "start_time": "2020-08-10T07:27:16.311668",
     "status": "completed"
    },
    "tags": []
   },
   "outputs": [],
   "source": [
    "def plot_metric(metric1, metric2, ylabel):\n",
    "    plt.plot(history.history[metric1], label=metric1)\n",
    "    plt.plot(history.history[metric2], label=metric2)\n",
    "    plt.ylabel(ylabel)\n",
    "    plt.xlabel('epoch')\n",
    "    plt.legend()\n",
    "    plt.show()"
   ]
  },
  {
   "cell_type": "code",
   "execution_count": 33,
   "metadata": {
    "colab": {
     "base_uri": "https://localhost:8080/",
     "height": 803
    },
    "colab_type": "code",
    "execution": {
     "iopub.execute_input": "2020-08-10T07:27:18.076192Z",
     "iopub.status.busy": "2020-08-10T07:27:18.075358Z",
     "iopub.status.idle": "2020-08-10T07:27:18.785477Z",
     "shell.execute_reply": "2020-08-10T07:27:18.784625Z"
    },
    "id": "eMIClAMiLMgS",
    "outputId": "dcfa8253-436c-4bb1-9707-bc353ac73a28",
    "papermill": {
     "duration": 1.275459,
     "end_time": "2020-08-10T07:27:18.785617",
     "exception": false,
     "start_time": "2020-08-10T07:27:17.510158",
     "status": "completed"
    },
    "tags": []
   },
   "outputs": [
    {
     "data": {
      "image/png": "[encoded data removed]",
      "text/plain": [
       "<Figure size 432x288 with 1 Axes>"
      ]
     },
     "metadata": {
      "needs_background": "light",
      "tags": []
     },
     "output_type": "display_data"
    },
    {
     "data": {
      "image/png": "[encoded data removed]",
      "text/plain": [
       "<Figure size 432x288 with 1 Axes>"
      ]
     },
     "metadata": {
      "needs_background": "light",
      "tags": []
     },
     "output_type": "display_data"
    },
    {
     "data": {
      "image/png": "[encoded data removed]",
      "text/plain": [
       "<Figure size 432x288 with 1 Axes>"
      ]
     },
     "metadata": {
      "needs_background": "light",
      "tags": []
     },
     "output_type": "display_data"
    }
   ],
   "source": [
    "plot_metric('auc', 'val_auc', 'auc')\n",
    "plot_metric('loss', 'val_loss', 'loss')\n",
    "plot_metric('accuracy', 'val_accuracy', 'accuracy')"
   ]
  },
  {
   "cell_type": "code",
   "execution_count": 34,
   "metadata": {
    "colab": {
     "base_uri": "https://localhost:8080/",
     "height": 1000
    },
    "colab_type": "code",
    "execution": {
     "iopub.execute_input": "2020-08-10T07:27:20.013676Z",
     "iopub.status.busy": "2020-08-10T07:27:19.987689Z",
     "iopub.status.idle": "2020-08-10T07:27:20.026708Z",
     "shell.execute_reply": "2020-08-10T07:27:20.027321Z"
    },
    "id": "5Q8vZ-fALMgS",
    "outputId": "3192828c-bd9e-48fb-dba1-32fe15cc296b",
    "papermill": {
     "duration": 0.603291,
     "end_time": "2020-08-10T07:27:20.027521",
     "exception": false,
     "start_time": "2020-08-10T07:27:19.424230",
     "status": "completed"
    },
    "tags": []
   },
   "outputs": [
    {
     "data": {
      "text/plain": [
       "{'accuracy': [0.9819167256355286,\n",
       "  0.9790880680084229,\n",
       "  0.9706357717514038,\n",
       "  0.950565755367279,\n",
       "  0.9237944483757019,\n",
       "  0.8846645951271057,\n",
       "  0.8445245027542114,\n",
       "  0.8162378668785095,\n",
       "  0.7901400923728943,\n",
       "  0.7727303504943848,\n",
       "  0.696659505367279,\n",
       "  0.7448814511299133,\n",
       "  0.808930516242981,\n",
       "  0.8308526277542114,\n",
       "  0.8557044863700867,\n",
       "  0.8684334754943848,\n",
       "  0.8846645951271057,\n",
       "  0.8840247988700867,\n",
       "  0.907832682132721,\n",
       "  0.9268588423728943,\n",
       "  0.9347386956214905,\n",
       "  0.9408338069915771,\n",
       "  0.9479727745056152,\n",
       "  0.9592201113700867,\n",
       "  0.9655508995056152,\n",
       "  0.971073567867279,\n",
       "  0.9743062853813171,\n",
       "  0.9761247038841248,\n",
       "  0.9802330136299133,\n",
       "  0.983735203742981,\n",
       "  0.9854525923728943,\n",
       "  0.9863618016242981,\n",
       "  0.9884496331214905,\n",
       "  0.9893251657485962,\n",
       "  0.9892578125,\n",
       "  0.990234375,\n",
       "  0.989863932132721,\n",
       "  0.9922885298728943,\n",
       "  0.992827296257019,\n",
       "  0.9925916194915771,\n",
       "  0.9934334754943848,\n",
       "  0.9942416548728943,\n",
       "  0.9935681819915771,\n",
       "  0.993803858757019,\n",
       "  0.9929620027542114,\n",
       "  0.9935681819915771,\n",
       "  0.9940059185028076,\n",
       "  0.9940059185028076,\n",
       "  0.9941069483757019,\n",
       "  0.9946120381355286,\n",
       "  0.9947130680084229,\n",
       "  0.9952518939971924],\n",
       " 'auc': [0.5504461526870728,\n",
       "  0.6106656789779663,\n",
       "  0.6628996133804321,\n",
       "  0.7022585272789001,\n",
       "  0.7309317588806152,\n",
       "  0.7616926431655884,\n",
       "  0.7688088417053223,\n",
       "  0.7931108474731445,\n",
       "  0.7975966930389404,\n",
       "  0.8022444844245911,\n",
       "  0.8019017577171326,\n",
       "  0.8744603991508484,\n",
       "  0.9175152778625488,\n",
       "  0.9399617910385132,\n",
       "  0.9529320001602173,\n",
       "  0.9572141766548157,\n",
       "  0.9635437726974487,\n",
       "  0.9674103260040283,\n",
       "  0.9756634831428528,\n",
       "  0.9843322038650513,\n",
       "  0.9886247515678406,\n",
       "  0.9894060492515564,\n",
       "  0.9913316965103149,\n",
       "  0.9950646162033081,\n",
       "  0.9963892698287964,\n",
       "  0.9973853826522827,\n",
       "  0.9976487755775452,\n",
       "  0.9980716705322266,\n",
       "  0.9987212419509888,\n",
       "  0.9986442923545837,\n",
       "  0.9989687204360962,\n",
       "  0.9993610382080078,\n",
       "  0.9992464780807495,\n",
       "  0.9996289014816284,\n",
       "  0.9995523691177368,\n",
       "  0.9996262192726135,\n",
       "  0.9997764825820923,\n",
       "  0.9997298717498779,\n",
       "  0.9998209476470947,\n",
       "  0.999841570854187,\n",
       "  0.9998750686645508,\n",
       "  0.9998546838760376,\n",
       "  0.9998547434806824,\n",
       "  0.9998686909675598,\n",
       "  0.9998862147331238,\n",
       "  0.9998564124107361,\n",
       "  0.9998811483383179,\n",
       "  0.9998994469642639,\n",
       "  0.9998387694358826,\n",
       "  0.9999027252197266,\n",
       "  0.9999097585678101,\n",
       "  0.9999182224273682],\n",
       " 'fn': [525.0,\n",
       "  520.0,\n",
       "  500.0,\n",
       "  474.0,\n",
       "  397.0,\n",
       "  339.0,\n",
       "  286.0,\n",
       "  227.0,\n",
       "  194.0,\n",
       "  172.0,\n",
       "  129.0,\n",
       "  81.0,\n",
       "  66.0,\n",
       "  49.0,\n",
       "  41.0,\n",
       "  30.0,\n",
       "  43.0,\n",
       "  33.0,\n",
       "  25.0,\n",
       "  14.0,\n",
       "  15.0,\n",
       "  11.0,\n",
       "  14.0,\n",
       "  7.0,\n",
       "  7.0,\n",
       "  4.0,\n",
       "  4.0,\n",
       "  3.0,\n",
       "  3.0,\n",
       "  3.0,\n",
       "  2.0,\n",
       "  2.0,\n",
       "  3.0,\n",
       "  0.0,\n",
       "  1.0,\n",
       "  1.0,\n",
       "  1.0,\n",
       "  1.0,\n",
       "  0.0,\n",
       "  0.0,\n",
       "  0.0,\n",
       "  0.0,\n",
       "  0.0,\n",
       "  1.0,\n",
       "  0.0,\n",
       "  0.0,\n",
       "  0.0,\n",
       "  0.0,\n",
       "  0.0,\n",
       "  0.0,\n",
       "  0.0,\n",
       "  0.0],\n",
       " 'loss': [1.5437092781066895,\n",
       "  1.294189691543579,\n",
       "  1.0786060094833374,\n",
       "  0.9127357006072998,\n",
       "  0.7799047231674194,\n",
       "  0.681592583656311,\n",
       "  0.6384627223014832,\n",
       "  0.5773918032646179,\n",
       "  0.5658085942268372,\n",
       "  0.5545631647109985,\n",
       "  0.6453086137771606,\n",
       "  0.44370847940444946,\n",
       "  0.3662542700767517,\n",
       "  0.31674617528915405,\n",
       "  0.28149810433387756,\n",
       "  0.2688941955566406,\n",
       "  0.25006183981895447,\n",
       "  0.23621328175067902,\n",
       "  0.20793920755386353,\n",
       "  0.16893209517002106,\n",
       "  0.14743970334529877,\n",
       "  0.14310139417648315,\n",
       "  0.1345045119524002,\n",
       "  0.10906027257442474,\n",
       "  0.09779476374387741,\n",
       "  0.08672153204679489,\n",
       "  0.082684725522995,\n",
       "  0.07967019826173782,\n",
       "  0.07152678072452545,\n",
       "  0.07066641002893448,\n",
       "  0.06649907678365707,\n",
       "  0.059848517179489136,\n",
       "  0.06218506395816803,\n",
       "  0.054393649101257324,\n",
       "  0.055865466594696045,\n",
       "  0.05402868613600731,\n",
       "  0.051950134336948395,\n",
       "  0.05177158862352371,\n",
       "  0.047952406108379364,\n",
       "  0.049483172595500946,\n",
       "  0.0476849265396595,\n",
       "  0.04765952005982399,\n",
       "  0.04696403816342354,\n",
       "  0.04910295084118843,\n",
       "  0.04751039668917656,\n",
       "  0.047806452959775925,\n",
       "  0.047010235488414764,\n",
       "  0.04638039693236351,\n",
       "  0.04660264030098915,\n",
       "  0.04621918126940727,\n",
       "  0.04627193138003349,\n",
       "  0.044649962335824966],\n",
       " 'lr': [1e-06,\n",
       "  1e-06,\n",
       "  1e-06,\n",
       "  1e-06,\n",
       "  1e-06,\n",
       "  1e-06,\n",
       "  1e-06,\n",
       "  1e-06,\n",
       "  1e-06,\n",
       "  1e-06,\n",
       "  0.001,\n",
       "  0.001,\n",
       "  0.00075,\n",
       "  0.00075,\n",
       "  0.0005625,\n",
       "  0.0005625,\n",
       "  0.00042187498,\n",
       "  0.00042187498,\n",
       "  0.00031640625,\n",
       "  0.00031640625,\n",
       "  0.00023730469,\n",
       "  0.00023730469,\n",
       "  0.00017797851,\n",
       "  0.00017797851,\n",
       "  0.00013348387,\n",
       "  0.00013348387,\n",
       "  0.000100112906,\n",
       "  0.000100112906,\n",
       "  7.508468e-05,\n",
       "  7.508468e-05,\n",
       "  5.631351e-05,\n",
       "  5.631351e-05,\n",
       "  4.2235133e-05,\n",
       "  4.2235133e-05,\n",
       "  3.167635e-05,\n",
       "  3.167635e-05,\n",
       "  2.3757264e-05,\n",
       "  2.3757264e-05,\n",
       "  1.7817947e-05,\n",
       "  1.7817947e-05,\n",
       "  1.336346e-05,\n",
       "  1.336346e-05,\n",
       "  1.0022595e-05,\n",
       "  1.0022595e-05,\n",
       "  7.5169464e-06,\n",
       "  7.5169464e-06,\n",
       "  5.63771e-06,\n",
       "  5.63771e-06,\n",
       "  4.2282823e-06,\n",
       "  4.2282823e-06,\n",
       "  4.2282823e-06,\n",
       "  4.2282823e-06],\n",
       " 'tp': [1.0,\n",
       "  7.0,\n",
       "  29.0,\n",
       "  54.0,\n",
       "  127.0,\n",
       "  190.0,\n",
       "  247.0,\n",
       "  299.0,\n",
       "  335.0,\n",
       "  358.0,\n",
       "  397.0,\n",
       "  453.0,\n",
       "  463.0,\n",
       "  481.0,\n",
       "  484.0,\n",
       "  499.0,\n",
       "  478.0,\n",
       "  494.0,\n",
       "  509.0,\n",
       "  510.0,\n",
       "  511.0,\n",
       "  513.0,\n",
       "  518.0,\n",
       "  522.0,\n",
       "  521.0,\n",
       "  523.0,\n",
       "  520.0,\n",
       "  528.0,\n",
       "  525.0,\n",
       "  517.0,\n",
       "  527.0,\n",
       "  528.0,\n",
       "  534.0,\n",
       "  523.0,\n",
       "  528.0,\n",
       "  525.0,\n",
       "  525.0,\n",
       "  525.0,\n",
       "  521.0,\n",
       "  533.0,\n",
       "  524.0,\n",
       "  524.0,\n",
       "  530.0,\n",
       "  527.0,\n",
       "  525.0,\n",
       "  528.0,\n",
       "  531.0,\n",
       "  525.0,\n",
       "  531.0,\n",
       "  533.0,\n",
       "  525.0,\n",
       "  530.0],\n",
       " 'val_accuracy': [0.9837890863418579,\n",
       "  0.983203113079071,\n",
       "  0.983593761920929,\n",
       "  0.982226550579071,\n",
       "  0.9789062738418579,\n",
       "  0.9664062857627869,\n",
       "  0.949414074420929,\n",
       "  0.9242187738418579,\n",
       "  0.888867199420929,\n",
       "  0.857226550579071,\n",
       "  0.02460937574505806,\n",
       "  0.07871093600988388,\n",
       "  0.6005859375,\n",
       "  0.7535156607627869,\n",
       "  0.919921875,\n",
       "  0.801953136920929,\n",
       "  0.869140625,\n",
       "  0.9009765982627869,\n",
       "  0.8324218988418579,\n",
       "  0.94921875,\n",
       "  0.910351574420929,\n",
       "  0.9156250357627869,\n",
       "  0.94921875,\n",
       "  0.947070300579071,\n",
       "  0.9580078125,\n",
       "  0.946484386920929,\n",
       "  0.9443359375,\n",
       "  0.9605469107627869,\n",
       "  0.961718738079071,\n",
       "  0.9615234732627869,\n",
       "  0.966796875,\n",
       "  0.97265625,\n",
       "  0.96484375,\n",
       "  0.9732422232627869,\n",
       "  0.968945324420929,\n",
       "  0.966601550579071,\n",
       "  0.970898449420929,\n",
       "  0.974414050579071,\n",
       "  0.9751953482627869,\n",
       "  0.97265625,\n",
       "  0.9736328125,\n",
       "  0.9720703363418579,\n",
       "  0.9720703363418579,\n",
       "  0.974804699420929,\n",
       "  0.973828136920929,\n",
       "  0.973437488079071,\n",
       "  0.973828136920929,\n",
       "  0.9730468988418579,\n",
       "  0.9742187857627869,\n",
       "  0.974609375,\n",
       "  0.9742187857627869,\n",
       "  0.973828136920929],\n",
       " 'val_auc': [0.5348325371742249,\n",
       "  0.6069576740264893,\n",
       "  0.5953930616378784,\n",
       "  0.6472678184509277,\n",
       "  0.651212215423584,\n",
       "  0.6622074246406555,\n",
       "  0.7161200046539307,\n",
       "  0.7549698352813721,\n",
       "  0.738349974155426,\n",
       "  0.739044189453125,\n",
       "  0.3853309154510498,\n",
       "  0.32029134035110474,\n",
       "  0.722042441368103,\n",
       "  0.8558501601219177,\n",
       "  0.840867280960083,\n",
       "  0.8886730074882507,\n",
       "  0.8894538283348083,\n",
       "  0.8709691166877747,\n",
       "  0.8736468553543091,\n",
       "  0.880679726600647,\n",
       "  0.8740435838699341,\n",
       "  0.8875980377197266,\n",
       "  0.8709897994995117,\n",
       "  0.8752390742301941,\n",
       "  0.8656830787658691,\n",
       "  0.8617382645606995,\n",
       "  0.8728848695755005,\n",
       "  0.8729314804077148,\n",
       "  0.8570823073387146,\n",
       "  0.868115246295929,\n",
       "  0.8349596858024597,\n",
       "  0.8497819900512695,\n",
       "  0.8675886392593384,\n",
       "  0.843838632106781,\n",
       "  0.8610008955001831,\n",
       "  0.8428881168365479,\n",
       "  0.8554607033729553,\n",
       "  0.8523849844932556,\n",
       "  0.8196590542793274,\n",
       "  0.8481763601303101,\n",
       "  0.8473565578460693,\n",
       "  0.8365944027900696,\n",
       "  0.8309727311134338,\n",
       "  0.8449772000312805,\n",
       "  0.8576775789260864,\n",
       "  0.8456326723098755,\n",
       "  0.8247617483139038,\n",
       "  0.8380677103996277,\n",
       "  0.8124493360519409,\n",
       "  0.8576632738113403,\n",
       "  0.8520345687866211,\n",
       "  0.8391022086143494],\n",
       " 'val_fn': [83.0,\n",
       "  86.0,\n",
       "  84.0,\n",
       "  82.0,\n",
       "  83.0,\n",
       "  84.0,\n",
       "  69.0,\n",
       "  63.0,\n",
       "  59.0,\n",
       "  46.0,\n",
       "  0.0,\n",
       "  6.0,\n",
       "  30.0,\n",
       "  20.0,\n",
       "  52.0,\n",
       "  16.0,\n",
       "  24.0,\n",
       "  31.0,\n",
       "  22.0,\n",
       "  42.0,\n",
       "  33.0,\n",
       "  30.0,\n",
       "  46.0,\n",
       "  38.0,\n",
       "  42.0,\n",
       "  47.0,\n",
       "  39.0,\n",
       "  41.0,\n",
       "  46.0,\n",
       "  50.0,\n",
       "  55.0,\n",
       "  61.0,\n",
       "  55.0,\n",
       "  60.0,\n",
       "  62.0,\n",
       "  60.0,\n",
       "  62.0,\n",
       "  59.0,\n",
       "  62.0,\n",
       "  58.0,\n",
       "  63.0,\n",
       "  64.0,\n",
       "  65.0,\n",
       "  55.0,\n",
       "  57.0,\n",
       "  60.0,\n",
       "  60.0,\n",
       "  65.0,\n",
       "  64.0,\n",
       "  64.0,\n",
       "  61.0,\n",
       "  65.0],\n",
       " 'val_loss': [0.1062183752655983,\n",
       "  0.10896532982587814,\n",
       "  0.11608963459730148,\n",
       "  0.12929308414459229,\n",
       "  0.15429382026195526,\n",
       "  0.18858426809310913,\n",
       "  0.2253710776567459,\n",
       "  0.26992517709732056,\n",
       "  0.318610817193985,\n",
       "  0.3665390908718109,\n",
       "  12.159764289855957,\n",
       "  5.918160915374756,\n",
       "  0.8317193984985352,\n",
       "  0.5490802526473999,\n",
       "  0.21033380925655365,\n",
       "  0.4799705445766449,\n",
       "  0.3225230276584625,\n",
       "  0.2576325833797455,\n",
       "  0.4362468719482422,\n",
       "  0.15248684585094452,\n",
       "  0.25332915782928467,\n",
       "  0.23389439284801483,\n",
       "  0.15680934488773346,\n",
       "  0.16868887841701508,\n",
       "  0.14027075469493866,\n",
       "  0.172407865524292,\n",
       "  0.17368297278881073,\n",
       "  0.14144329726696014,\n",
       "  0.13647888600826263,\n",
       "  0.14656956493854523,\n",
       "  0.12821064889431,\n",
       "  0.11880037933588028,\n",
       "  0.1321738213300705,\n",
       "  0.11469262838363647,\n",
       "  0.12170387804508209,\n",
       "  0.13079933822155,\n",
       "  0.12503984570503235,\n",
       "  0.1150422915816307,\n",
       "  0.11205244064331055,\n",
       "  0.11407177895307541,\n",
       "  0.11417859047651291,\n",
       "  0.11721407622098923,\n",
       "  0.11639966815710068,\n",
       "  0.11267098039388657,\n",
       "  0.11144210398197174,\n",
       "  0.1133691668510437,\n",
       "  0.11668004840612411,\n",
       "  0.11804719269275665,\n",
       "  0.1173509955406189,\n",
       "  0.11405974626541138,\n",
       "  0.1112014651298523,\n",
       "  0.11500488966703415],\n",
       " 'val_tp': [0.0,\n",
       "  0.0,\n",
       "  0.0,\n",
       "  1.0,\n",
       "  2.0,\n",
       "  2.0,\n",
       "  14.0,\n",
       "  20.0,\n",
       "  27.0,\n",
       "  38.0,\n",
       "  86.0,\n",
       "  76.0,\n",
       "  56.0,\n",
       "  67.0,\n",
       "  35.0,\n",
       "  68.0,\n",
       "  61.0,\n",
       "  55.0,\n",
       "  60.0,\n",
       "  43.0,\n",
       "  53.0,\n",
       "  56.0,\n",
       "  43.0,\n",
       "  48.0,\n",
       "  45.0,\n",
       "  42.0,\n",
       "  51.0,\n",
       "  43.0,\n",
       "  38.0,\n",
       "  37.0,\n",
       "  31.0,\n",
       "  25.0,\n",
       "  31.0,\n",
       "  24.0,\n",
       "  27.0,\n",
       "  26.0,\n",
       "  24.0,\n",
       "  26.0,\n",
       "  22.0,\n",
       "  26.0,\n",
       "  22.0,\n",
       "  20.0,\n",
       "  23.0,\n",
       "  28.0,\n",
       "  25.0,\n",
       "  24.0,\n",
       "  23.0,\n",
       "  21.0,\n",
       "  23.0,\n",
       "  21.0,\n",
       "  23.0,\n",
       "  22.0]}"
      ]
     },
     "execution_count": 34,
     "metadata": {
      "tags": []
     },
     "output_type": "execute_result"
    }
   ],
   "source": [
    "history.history"
   ]
  },
  {
   "cell_type": "code",
   "execution_count": 35,
   "metadata": {
    "colab": {},
    "colab_type": "code",
    "execution": {
     "iopub.execute_input": "2020-08-10T07:27:21.261282Z",
     "iopub.status.busy": "2020-08-10T07:27:21.257010Z",
     "iopub.status.idle": "2020-08-10T07:27:22.506785Z",
     "shell.execute_reply": "2020-08-10T07:27:22.505913Z"
    },
    "id": "2LH6uE5yLMgT",
    "papermill": {
     "duration": 1.91359,
     "end_time": "2020-08-10T07:27:22.506968",
     "exception": false,
     "start_time": "2020-08-10T07:27:20.593378",
     "status": "completed"
    },
    "tags": []
   },
   "outputs": [],
   "source": [
    "model.save('model.h5')"
   ]
  },
  {
   "cell_type": "code",
   "execution_count": null,
   "metadata": {
    "colab": {},
    "colab_type": "code",
    "id": "FqS_fPjDLMgj"
   },
   "outputs": [],
   "source": []
  }
 ],
 "metadata": {
  "accelerator": "TPU",
  "colab": {
   "name": "predictions_draft.ipynb",
   "provenance": []
  },
  "kernelspec": {
   "display_name": "Python 3",
   "language": "python",
   "name": "python3"
  },
  "language_info": {
   "codemirror_mode": {
    "name": "ipython",
    "version": 3
   },
   "file_extension": ".py",
   "mimetype": "text/x-python",
   "name": "python",
   "nbconvert_exporter": "python",
   "pygments_lexer": "ipython3",
   "version": "3.7.3"
  },
  "papermill": {
   "duration": 7110.3586,
   "end_time": "2020-08-10T07:27:30.001979",
   "environment_variables": {},
   "exception": null,
   "input_path": "__notebook__.ipynb",
   "output_path": "__notebook__.ipynb",
   "parameters": {},
   "start_time": "2020-08-10T05:28:59.643379",
   "version": "2.1.0"
  }
 },
 "nbformat": 4,
 "nbformat_minor": 1
}
