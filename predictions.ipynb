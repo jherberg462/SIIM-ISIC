{
 "cells": [
  {
   "cell_type": "code",
   "execution_count": null,
   "metadata": {
    "_cell_guid": "b1076dfc-b9ad-4769-8c92-a6c4dae69d19",
    "_uuid": "8f2839f25d086af736a60e9eeb907d3b93b6e0e5",
    "colab": {},
    "colab_type": "code",
    "execution": {
     "iopub.execute_input": "2020-08-10T05:29:05.046274Z",
     "iopub.status.busy": "2020-08-10T05:29:05.045400Z",
     "iopub.status.idle": "2020-08-10T05:29:12.636858Z",
     "shell.execute_reply": "2020-08-10T05:29:12.637518Z"
    },
    "id": "PF6_qaQlLMfX",
    "papermill": {
     "duration": 7.621096,
     "end_time": "2020-08-10T05:29:12.637757",
     "exception": false,
     "start_time": "2020-08-10T05:29:05.016661",
     "status": "completed"
    },
    "tags": []
   },
   "outputs": [],
   "source": [
    "!pip install fsspec --upgrade"
   ]
  },
  {
   "cell_type": "code",
   "execution_count": 1,
   "metadata": {
    "colab": {},
    "colab_type": "code",
    "id": "GS3hpqThLMfd"
   },
   "outputs": [],
   "source": [
    "import numpy as np # linear algebra\n",
    "import pandas as pd # data processing, CSV file I/O (e.g. pd.read_csv)\n",
    "\n",
    "\n",
    "import os\n",
    "\n",
    "import tensorflow as tf\n",
    "from tensorflow.keras import layers \n",
    "from tensorflow import keras\n",
    "import tensorflow_hub as hub\n",
    "from sklearn.model_selection import train_test_split\n",
    "from matplotlib import pyplot as plt\n",
    "\n",
    "try:\n",
    "    from kaggle_datasets import KaggleDatasets\n",
    "    dataset_gcs = KaggleDatasets().get_gcs_path('siim-isic-melanoma-classification')\n",
    "    print('got GCS path via KaggleDatasets .get_gcs_path method')\n",
    "except ModuleNotFoundError:\n",
    "    #hardcode path while testing locally\n",
    "    dataset_gcs = 'gs://'\n"
   ]
  },
  {
   "cell_type": "code",
   "execution_count": 2,
   "metadata": {
    "_cell_guid": "79c7e3d0-c299-4dcb-8224-4455121ee9b0",
    "_uuid": "d629ff2d2480ee46fbb7e2d37f6b5fab8052498a",
    "colab": {
     "base_uri": "https://localhost:8080/",
     "height": 37
    },
    "colab_type": "code",
    "execution": {
     "iopub.execute_input": "2020-08-10T05:29:12.686320Z",
     "iopub.status.busy": "2020-08-10T05:29:12.685158Z",
     "iopub.status.idle": "2020-08-10T05:29:12.690065Z",
     "shell.execute_reply": "2020-08-10T05:29:12.689312Z"
    },
    "id": "5-hPqmwDLMfh",
    "outputId": "959a2520-e16f-4014-9f3f-d60ce5c839cd",
    "papermill": {
     "duration": 0.030991,
     "end_time": "2020-08-10T05:29:12.690195",
     "exception": false,
     "start_time": "2020-08-10T05:29:12.659204",
     "status": "completed"
    },
    "tags": []
   },
   "outputs": [
    {
     "data": {
      "application/vnd.google.colaboratory.intrinsic+json": {
       "type": "string"
      },
      "text/plain": [
       "'2.3.0'"
      ]
     },
     "execution_count": 2,
     "metadata": {
      "tags": []
     },
     "output_type": "execute_result"
    }
   ],
   "source": [
    "tf.__version__\n"
   ]
  },
  {
   "cell_type": "code",
   "execution_count": 3,
   "metadata": {
    "colab": {},
    "colab_type": "code",
    "execution": {
     "iopub.execute_input": "2020-08-10T05:29:12.736349Z",
     "iopub.status.busy": "2020-08-10T05:29:12.735260Z",
     "iopub.status.idle": "2020-08-10T05:29:12.738583Z",
     "shell.execute_reply": "2020-08-10T05:29:12.737845Z"
    },
    "id": "aTNSywU3LMfk",
    "papermill": {
     "duration": 0.028214,
     "end_time": "2020-08-10T05:29:12.738719",
     "exception": false,
     "start_time": "2020-08-10T05:29:12.710505",
     "status": "completed"
    },
    "tags": []
   },
   "outputs": [],
   "source": [
    "params = {\n",
    "    'batch_size' : 128,\n",
    "    'img_size' : [224, 224],\n",
    "    'epochs': 150\n",
    "}\n"
   ]
  },
  {
   "cell_type": "code",
   "execution_count": 4,
   "metadata": {
    "colab": {
     "base_uri": "https://localhost:8080/",
     "height": 768
    },
    "colab_type": "code",
    "execution": {
     "iopub.execute_input": "2020-08-10T05:29:12.890509Z",
     "iopub.status.busy": "2020-08-10T05:29:12.786292Z",
     "iopub.status.idle": "2020-08-10T05:29:17.045160Z",
     "shell.execute_reply": "2020-08-10T05:29:17.044059Z"
    },
    "id": "dQ4ru6rMLMfm",
    "outputId": "8b60351c-5c76-4c93-8306-f5b9c9589315",
    "papermill": {
     "duration": 4.287003,
     "end_time": "2020-08-10T05:29:17.045350",
     "exception": false,
     "start_time": "2020-08-10T05:29:12.758347",
     "status": "completed"
    },
    "tags": []
   },
   "outputs": [
    {
     "name": "stdout",
     "output_type": "stream",
     "text": [
      "Running on TPU  grpc://10.126.129.58:8470\n",
      "INFO:tensorflow:Initializing the TPU system: grpc://10.126.129.58:8470\n"
     ]
    },
    {
     "name": "stderr",
     "output_type": "stream",
     "text": [
      "INFO:tensorflow:Initializing the TPU system: grpc://10.126.129.58:8470\n"
     ]
    },
    {
     "name": "stdout",
     "output_type": "stream",
     "text": [
      "INFO:tensorflow:Clearing out eager caches\n"
     ]
    },
    {
     "name": "stderr",
     "output_type": "stream",
     "text": [
      "INFO:tensorflow:Clearing out eager caches\n"
     ]
    },
    {
     "name": "stdout",
     "output_type": "stream",
     "text": [
      "INFO:tensorflow:Finished initializing TPU system.\n"
     ]
    },
    {
     "name": "stderr",
     "output_type": "stream",
     "text": [
      "INFO:tensorflow:Finished initializing TPU system.\n",
      "WARNING:absl:`tf.distribute.experimental.TPUStrategy` is deprecated, please use  the non experimental symbol `tf.distribute.TPUStrategy` instead.\n"
     ]
    },
    {
     "name": "stdout",
     "output_type": "stream",
     "text": [
      "INFO:tensorflow:Found TPU system:\n"
     ]
    },
    {
     "name": "stderr",
     "output_type": "stream",
     "text": [
      "INFO:tensorflow:Found TPU system:\n"
     ]
    },
    {
     "name": "stdout",
     "output_type": "stream",
     "text": [
      "INFO:tensorflow:*** Num TPU Cores: 8\n"
     ]
    },
    {
     "name": "stderr",
     "output_type": "stream",
     "text": [
      "INFO:tensorflow:*** Num TPU Cores: 8\n"
     ]
    },
    {
     "name": "stdout",
     "output_type": "stream",
     "text": [
      "INFO:tensorflow:*** Num TPU Workers: 1\n"
     ]
    },
    {
     "name": "stderr",
     "output_type": "stream",
     "text": [
      "INFO:tensorflow:*** Num TPU Workers: 1\n"
     ]
    },
    {
     "name": "stdout",
     "output_type": "stream",
     "text": [
      "INFO:tensorflow:*** Num TPU Cores Per Worker: 8\n"
     ]
    },
    {
     "name": "stderr",
     "output_type": "stream",
     "text": [
      "INFO:tensorflow:*** Num TPU Cores Per Worker: 8\n"
     ]
    },
    {
     "name": "stdout",
     "output_type": "stream",
     "text": [
      "INFO:tensorflow:*** Available Device: _DeviceAttributes(/job:localhost/replica:0/task:0/device:CPU:0, CPU, 0, 0)\n"
     ]
    },
    {
     "name": "stderr",
     "output_type": "stream",
     "text": [
      "INFO:tensorflow:*** Available Device: _DeviceAttributes(/job:localhost/replica:0/task:0/device:CPU:0, CPU, 0, 0)\n"
     ]
    },
    {
     "name": "stdout",
     "output_type": "stream",
     "text": [
      "INFO:tensorflow:*** Available Device: _DeviceAttributes(/job:localhost/replica:0/task:0/device:XLA_CPU:0, XLA_CPU, 0, 0)\n"
     ]
    },
    {
     "name": "stderr",
     "output_type": "stream",
     "text": [
      "INFO:tensorflow:*** Available Device: _DeviceAttributes(/job:localhost/replica:0/task:0/device:XLA_CPU:0, XLA_CPU, 0, 0)\n"
     ]
    },
    {
     "name": "stdout",
     "output_type": "stream",
     "text": [
      "INFO:tensorflow:*** Available Device: _DeviceAttributes(/job:worker/replica:0/task:0/device:CPU:0, CPU, 0, 0)\n"
     ]
    },
    {
     "name": "stderr",
     "output_type": "stream",
     "text": [
      "INFO:tensorflow:*** Available Device: _DeviceAttributes(/job:worker/replica:0/task:0/device:CPU:0, CPU, 0, 0)\n"
     ]
    },
    {
     "name": "stdout",
     "output_type": "stream",
     "text": [
      "INFO:tensorflow:*** Available Device: _DeviceAttributes(/job:worker/replica:0/task:0/device:TPU:0, TPU, 0, 0)\n"
     ]
    },
    {
     "name": "stderr",
     "output_type": "stream",
     "text": [
      "INFO:tensorflow:*** Available Device: _DeviceAttributes(/job:worker/replica:0/task:0/device:TPU:0, TPU, 0, 0)\n"
     ]
    },
    {
     "name": "stdout",
     "output_type": "stream",
     "text": [
      "INFO:tensorflow:*** Available Device: _DeviceAttributes(/job:worker/replica:0/task:0/device:TPU:1, TPU, 0, 0)\n"
     ]
    },
    {
     "name": "stderr",
     "output_type": "stream",
     "text": [
      "INFO:tensorflow:*** Available Device: _DeviceAttributes(/job:worker/replica:0/task:0/device:TPU:1, TPU, 0, 0)\n"
     ]
    },
    {
     "name": "stdout",
     "output_type": "stream",
     "text": [
      "INFO:tensorflow:*** Available Device: _DeviceAttributes(/job:worker/replica:0/task:0/device:TPU:2, TPU, 0, 0)\n"
     ]
    },
    {
     "name": "stderr",
     "output_type": "stream",
     "text": [
      "INFO:tensorflow:*** Available Device: _DeviceAttributes(/job:worker/replica:0/task:0/device:TPU:2, TPU, 0, 0)\n"
     ]
    },
    {
     "name": "stdout",
     "output_type": "stream",
     "text": [
      "INFO:tensorflow:*** Available Device: _DeviceAttributes(/job:worker/replica:0/task:0/device:TPU:3, TPU, 0, 0)\n"
     ]
    },
    {
     "name": "stderr",
     "output_type": "stream",
     "text": [
      "INFO:tensorflow:*** Available Device: _DeviceAttributes(/job:worker/replica:0/task:0/device:TPU:3, TPU, 0, 0)\n"
     ]
    },
    {
     "name": "stdout",
     "output_type": "stream",
     "text": [
      "INFO:tensorflow:*** Available Device: _DeviceAttributes(/job:worker/replica:0/task:0/device:TPU:4, TPU, 0, 0)\n"
     ]
    },
    {
     "name": "stderr",
     "output_type": "stream",
     "text": [
      "INFO:tensorflow:*** Available Device: _DeviceAttributes(/job:worker/replica:0/task:0/device:TPU:4, TPU, 0, 0)\n"
     ]
    },
    {
     "name": "stdout",
     "output_type": "stream",
     "text": [
      "INFO:tensorflow:*** Available Device: _DeviceAttributes(/job:worker/replica:0/task:0/device:TPU:5, TPU, 0, 0)\n"
     ]
    },
    {
     "name": "stderr",
     "output_type": "stream",
     "text": [
      "INFO:tensorflow:*** Available Device: _DeviceAttributes(/job:worker/replica:0/task:0/device:TPU:5, TPU, 0, 0)\n"
     ]
    },
    {
     "name": "stdout",
     "output_type": "stream",
     "text": [
      "INFO:tensorflow:*** Available Device: _DeviceAttributes(/job:worker/replica:0/task:0/device:TPU:6, TPU, 0, 0)\n"
     ]
    },
    {
     "name": "stderr",
     "output_type": "stream",
     "text": [
      "INFO:tensorflow:*** Available Device: _DeviceAttributes(/job:worker/replica:0/task:0/device:TPU:6, TPU, 0, 0)\n"
     ]
    },
    {
     "name": "stdout",
     "output_type": "stream",
     "text": [
      "INFO:tensorflow:*** Available Device: _DeviceAttributes(/job:worker/replica:0/task:0/device:TPU:7, TPU, 0, 0)\n"
     ]
    },
    {
     "name": "stderr",
     "output_type": "stream",
     "text": [
      "INFO:tensorflow:*** Available Device: _DeviceAttributes(/job:worker/replica:0/task:0/device:TPU:7, TPU, 0, 0)\n"
     ]
    },
    {
     "name": "stdout",
     "output_type": "stream",
     "text": [
      "INFO:tensorflow:*** Available Device: _DeviceAttributes(/job:worker/replica:0/task:0/device:TPU_SYSTEM:0, TPU_SYSTEM, 0, 0)\n"
     ]
    },
    {
     "name": "stderr",
     "output_type": "stream",
     "text": [
      "INFO:tensorflow:*** Available Device: _DeviceAttributes(/job:worker/replica:0/task:0/device:TPU_SYSTEM:0, TPU_SYSTEM, 0, 0)\n"
     ]
    },
    {
     "name": "stdout",
     "output_type": "stream",
     "text": [
      "INFO:tensorflow:*** Available Device: _DeviceAttributes(/job:worker/replica:0/task:0/device:XLA_CPU:0, XLA_CPU, 0, 0)\n"
     ]
    },
    {
     "name": "stderr",
     "output_type": "stream",
     "text": [
      "INFO:tensorflow:*** Available Device: _DeviceAttributes(/job:worker/replica:0/task:0/device:XLA_CPU:0, XLA_CPU, 0, 0)\n"
     ]
    },
    {
     "name": "stdout",
     "output_type": "stream",
     "text": [
      "REPLICAS:  8\n"
     ]
    }
   ],
   "source": [
    "try:\n",
    "    # TPU detection. No parameters necessary if TPU_NAME environment variable is\n",
    "    # set: this is always the case on Kaggle.\n",
    "    tpu = tf.distribute.cluster_resolver.TPUClusterResolver()\n",
    "    print('Running on TPU ', tpu.master())\n",
    "except ValueError:\n",
    "    tpu = None\n",
    "\n",
    "if tpu:\n",
    "    tf.config.experimental_connect_to_cluster(tpu)\n",
    "    tf.tpu.experimental.initialize_tpu_system(tpu)\n",
    "    strategy = tf.distribute.experimental.TPUStrategy(tpu)\n",
    "else:\n",
    "    # Default distribution strategy in Tensorflow. Works on CPU and single GPU.\n",
    "    strategy = tf.distribute.get_strategy()\n",
    "\n",
    "print(\"REPLICAS: \", strategy.num_replicas_in_sync)"
   ]
  },
  {
   "cell_type": "code",
   "execution_count": 5,
   "metadata": {
    "colab": {},
    "colab_type": "code",
    "execution": {
     "iopub.execute_input": "2020-08-10T05:29:17.098573Z",
     "iopub.status.busy": "2020-08-10T05:29:17.097557Z",
     "iopub.status.idle": "2020-08-10T05:29:17.101236Z",
     "shell.execute_reply": "2020-08-10T05:29:17.100579Z"
    },
    "id": "Z0DRQE47LMfp",
    "papermill": {
     "duration": 0.030113,
     "end_time": "2020-08-10T05:29:17.101371",
     "exception": false,
     "start_time": "2020-08-10T05:29:17.071258",
     "status": "completed"
    },
    "tags": []
   },
   "outputs": [],
   "source": [
    "params['batch_size'] = params['batch_size'] * strategy.num_replicas_in_sync"
   ]
  },
  {
   "cell_type": "code",
   "execution_count": 6,
   "metadata": {
    "colab": {
     "base_uri": "https://localhost:8080/",
     "height": 343
    },
    "colab_type": "code",
    "execution": {
     "iopub.execute_input": "2020-08-10T05:29:17.149207Z",
     "iopub.status.busy": "2020-08-10T05:29:17.148291Z",
     "iopub.status.idle": "2020-08-10T05:29:17.150875Z",
     "shell.execute_reply": "2020-08-10T05:29:17.151459Z"
    },
    "id": "GWzXMYZyLMfs",
    "outputId": "24ce2433-4bb2-4fa0-e4c6-df07258a251c",
    "papermill": {
     "duration": 0.028759,
     "end_time": "2020-08-10T05:29:17.151631",
     "exception": false,
     "start_time": "2020-08-10T05:29:17.122872",
     "status": "completed"
    },
    "tags": []
   },
   "outputs": [
    {
     "name": "stdout",
     "output_type": "stream",
     "text": [
      "Requirement already satisfied: gcsfs in /usr/local/lib/python3.6/dist-packages (0.6.2)\n",
      "Requirement already satisfied: requests in /usr/local/lib/python3.6/dist-packages (from gcsfs) (2.23.0)\n",
      "Requirement already satisfied: google-auth-oauthlib in /usr/local/lib/python3.6/dist-packages (from gcsfs) (0.4.1)\n",
      "Requirement already satisfied: fsspec>=0.6.0 in /usr/local/lib/python3.6/dist-packages (from gcsfs) (0.8.0)\n",
      "Requirement already satisfied: google-auth>=1.2 in /usr/local/lib/python3.6/dist-packages (from gcsfs) (1.17.2)\n",
      "Requirement already satisfied: decorator in /usr/local/lib/python3.6/dist-packages (from gcsfs) (4.4.2)\n",
      "Requirement already satisfied: certifi>=2017.4.17 in /usr/local/lib/python3.6/dist-packages (from requests->gcsfs) (2020.6.20)\n",
      "Requirement already satisfied: urllib3!=1.25.0,!=1.25.1,<1.26,>=1.21.1 in /usr/local/lib/python3.6/dist-packages (from requests->gcsfs) (1.24.3)\n",
      "Requirement already satisfied: chardet<4,>=3.0.2 in /usr/local/lib/python3.6/dist-packages (from requests->gcsfs) (3.0.4)\n",
      "Requirement already satisfied: idna<3,>=2.5 in /usr/local/lib/python3.6/dist-packages (from requests->gcsfs) (2.10)\n",
      "Requirement already satisfied: requests-oauthlib>=0.7.0 in /usr/local/lib/python3.6/dist-packages (from google-auth-oauthlib->gcsfs) (1.3.0)\n",
      "Requirement already satisfied: six>=1.9.0 in /usr/local/lib/python3.6/dist-packages (from google-auth>=1.2->gcsfs) (1.15.0)\n",
      "Requirement already satisfied: rsa<5,>=3.1.4; python_version >= \"3\" in /usr/local/lib/python3.6/dist-packages (from google-auth>=1.2->gcsfs) (4.6)\n",
      "Requirement already satisfied: setuptools>=40.3.0 in /usr/local/lib/python3.6/dist-packages (from google-auth>=1.2->gcsfs) (49.2.0)\n",
      "Requirement already satisfied: pyasn1-modules>=0.2.1 in /usr/local/lib/python3.6/dist-packages (from google-auth>=1.2->gcsfs) (0.2.8)\n",
      "Requirement already satisfied: cachetools<5.0,>=2.0.0 in /usr/local/lib/python3.6/dist-packages (from google-auth>=1.2->gcsfs) (4.1.1)\n",
      "Requirement already satisfied: oauthlib>=3.0.0 in /usr/local/lib/python3.6/dist-packages (from requests-oauthlib>=0.7.0->google-auth-oauthlib->gcsfs) (3.1.0)\n",
      "Requirement already satisfied: pyasn1>=0.1.3 in /usr/local/lib/python3.6/dist-packages (from rsa<5,>=3.1.4; python_version >= \"3\"->google-auth>=1.2->gcsfs) (0.4.8)\n"
     ]
    }
   ],
   "source": [
    "# sub = pd.read_csv(dataset_gcs + '/sample_submission.csv')\n",
    "# sub.head(1)\n",
    "!pip install gcsfs"
   ]
  },
  {
   "cell_type": "code",
   "execution_count": 7,
   "metadata": {
    "colab": {
     "base_uri": "https://localhost:8080/",
     "height": 162
    },
    "colab_type": "code",
    "execution": {
     "iopub.execute_input": "2020-08-10T05:29:17.201629Z",
     "iopub.status.busy": "2020-08-10T05:29:17.200809Z",
     "iopub.status.idle": "2020-08-10T05:29:26.666973Z",
     "shell.execute_reply": "2020-08-10T05:29:26.666355Z"
    },
    "id": "UeRPDwBrLMfu",
    "outputId": "667cd992-c8bd-45c0-acfa-84129f339278",
    "papermill": {
     "duration": 9.493676,
     "end_time": "2020-08-10T05:29:26.667129",
     "exception": false,
     "start_time": "2020-08-10T05:29:17.173453",
     "status": "completed"
    },
    "tags": []
   },
   "outputs": [
    {
     "data": {
      "text/html": [
       "<div>\n",
       "<style scoped>\n",
       "    .dataframe tbody tr th:only-of-type {\n",
       "        vertical-align: middle;\n",
       "    }\n",
       "\n",
       "    .dataframe tbody tr th {\n",
       "        vertical-align: top;\n",
       "    }\n",
       "\n",
       "    .dataframe thead th {\n",
       "        text-align: right;\n",
       "    }\n",
       "</style>\n",
       "<table border=\"1\" class=\"dataframe\">\n",
       "  <thead>\n",
       "    <tr style=\"text-align: right;\">\n",
       "      <th></th>\n",
       "      <th>image_name</th>\n",
       "      <th>patient_id</th>\n",
       "      <th>sex</th>\n",
       "      <th>age_approx</th>\n",
       "      <th>anatom_site_general_challenge</th>\n",
       "      <th>diagnosis</th>\n",
       "      <th>benign_malignant</th>\n",
       "    </tr>\n",
       "    <tr>\n",
       "      <th>target</th>\n",
       "      <th></th>\n",
       "      <th></th>\n",
       "      <th></th>\n",
       "      <th></th>\n",
       "      <th></th>\n",
       "      <th></th>\n",
       "      <th></th>\n",
       "    </tr>\n",
       "  </thead>\n",
       "  <tbody>\n",
       "    <tr>\n",
       "      <th>0</th>\n",
       "      <td>32542</td>\n",
       "      <td>32542</td>\n",
       "      <td>32477</td>\n",
       "      <td>32474</td>\n",
       "      <td>32024</td>\n",
       "      <td>32542</td>\n",
       "      <td>32542</td>\n",
       "    </tr>\n",
       "    <tr>\n",
       "      <th>1</th>\n",
       "      <td>584</td>\n",
       "      <td>584</td>\n",
       "      <td>584</td>\n",
       "      <td>584</td>\n",
       "      <td>575</td>\n",
       "      <td>584</td>\n",
       "      <td>584</td>\n",
       "    </tr>\n",
       "  </tbody>\n",
       "</table>\n",
       "</div>"
      ],
      "text/plain": [
       "        image_name  patient_id  ...  diagnosis  benign_malignant\n",
       "target                          ...                             \n",
       "0            32542       32542  ...      32542             32542\n",
       "1              584         584  ...        584               584\n",
       "\n",
       "[2 rows x 7 columns]"
      ]
     },
     "execution_count": 7,
     "metadata": {
      "tags": []
     },
     "output_type": "execute_result"
    }
   ],
   "source": [
    "train_df = pd.read_csv(dataset_gcs + '/train.csv')\n",
    "train_df.groupby('target').count() "
   ]
  },
  {
   "cell_type": "code",
   "execution_count": 8,
   "metadata": {
    "colab": {},
    "colab_type": "code",
    "execution": {
     "iopub.execute_input": "2020-08-10T05:29:26.721346Z",
     "iopub.status.busy": "2020-08-10T05:29:26.720466Z",
     "iopub.status.idle": "2020-08-10T05:29:26.723851Z",
     "shell.execute_reply": "2020-08-10T05:29:26.723121Z"
    },
    "id": "3QB0P3M8LMfw",
    "papermill": {
     "duration": 0.034585,
     "end_time": "2020-08-10T05:29:26.723985",
     "exception": false,
     "start_time": "2020-08-10T05:29:26.689400",
     "status": "completed"
    },
    "tags": []
   },
   "outputs": [],
   "source": [
    "def decode_image_label(tfrec):\n",
    "    '''\n",
    "    function to decode an image and target label from tfrecord\n",
    "    \n",
    "    args:\n",
    "        tfrec: tfrecord, single record of training/validation data\n",
    "    \n",
    "    returns:\n",
    "        decoded_image: tensor, converted image from tfrecord\n",
    "        label: tensor, integer, either 1 or 0\n",
    "    \n",
    "    '''\n",
    "    \n",
    "    features_dictionary = {\n",
    "        'image': tf.io.FixedLenFeature([], tf.string),\n",
    "        \"target\": tf.io.FixedLenFeature([], tf.int64)\n",
    "        }\n",
    "    features = tf.io.parse_single_example(tfrec, features_dictionary)\n",
    "    decoded_image = tf.io.decode_jpeg(features['image'], 3)\n",
    "    decoded_image = tf.image.resize(decoded_image, params['img_size'])\n",
    "    label = features['target']\n",
    "    \n",
    "    return decoded_image, label\n",
    "    \n"
   ]
  },
  {
   "cell_type": "code",
   "execution_count": 9,
   "metadata": {
    "colab": {},
    "colab_type": "code",
    "execution": {
     "iopub.execute_input": "2020-08-10T05:29:26.777665Z",
     "iopub.status.busy": "2020-08-10T05:29:26.776646Z",
     "iopub.status.idle": "2020-08-10T05:29:26.779776Z",
     "shell.execute_reply": "2020-08-10T05:29:26.779192Z"
    },
    "id": "KGXvzF6BLMfy",
    "papermill": {
     "duration": 0.034023,
     "end_time": "2020-08-10T05:29:26.779907",
     "exception": false,
     "start_time": "2020-08-10T05:29:26.745884",
     "status": "completed"
    },
    "tags": []
   },
   "outputs": [],
   "source": [
    "def decode_image(tfrec):\n",
    "    '''\n",
    "    function to decode an image from tfrecord\n",
    "    \n",
    "    args:\n",
    "        tfrec: tfrecord, single record of training/validation data\n",
    "    \n",
    "    returns:\n",
    "        decoded_image: tensor, converted image from tfrecord\n",
    "        img_name: tensor, string, Id of the decoded image\n",
    "    \n",
    "    '''\n",
    "    \n",
    "    features_dictionary = {\n",
    "        'image': tf.io.FixedLenFeature([], tf.string),\n",
    "        \"image_name\": tf.io.FixedLenFeature([], tf.string)\n",
    "        }\n",
    "    features = tf.io.parse_single_example(tfrec, features_dictionary)\n",
    "    decoded_image = tf.io.decode_jpeg(features['image'], 3)\n",
    "    decoded_image = tf.image.resize(decoded_image, params['img_size'])\n",
    "    img_name = features['image_name']\n",
    "    \n",
    "    return decoded_image, img_name"
   ]
  },
  {
   "cell_type": "code",
   "execution_count": 10,
   "metadata": {
    "colab": {},
    "colab_type": "code",
    "execution": {
     "iopub.execute_input": "2020-08-10T05:29:26.833829Z",
     "iopub.status.busy": "2020-08-10T05:29:26.832680Z",
     "iopub.status.idle": "2020-08-10T05:29:26.836282Z",
     "shell.execute_reply": "2020-08-10T05:29:26.835513Z"
    },
    "id": "1YjPx4SWLMfz",
    "papermill": {
     "duration": 0.034237,
     "end_time": "2020-08-10T05:29:26.836412",
     "exception": false,
     "start_time": "2020-08-10T05:29:26.802175",
     "status": "completed"
    },
    "tags": []
   },
   "outputs": [],
   "source": [
    "def normalize_image_label(decoded_image, label):\n",
    "    '''\n",
    "    function to convert an image tensor values from 0 to 255 \n",
    "    -> -1 to 1\n",
    "    to be used when dealing with tfrecords containing labels\n",
    "    \n",
    "    args:\n",
    "        decoded_image: tensor that is an image with values from 0 to 255\n",
    "        label: tensor, target label\n",
    "    \n",
    "    returns: \n",
    "        image_tensor: tensor that is an image with values from -1 to 1\n",
    "        label, same as input\n",
    "    \n",
    "    '''\n",
    "    \n",
    "    #add dim at the zero axis Shape will be from (x, y, z) -> (None, x, y, z)\n",
    "    image_tensor = tf.expand_dims(decoded_image, 0)\n",
    "    #undo the above line -- this is needed due to TF not allowing a filtered tensor py_function\n",
    "    image_tensor = tf.gather(image_tensor, 0)\n",
    "\n",
    "    # #convert tensor values to between -1 and 1 (0 to 255 -> -1 to 1)\n",
    "    # image_tensor = (tf.cast(image_tensor, tf.float32) - 127.5) / 127.5\n",
    "\n",
    "    #convert tensor values to between 0 and 1 (0 to 255 -> 0 to 1)\n",
    "    image_tensor = (tf.cast(image_tensor, tf.float32) /255.0 )\n",
    "\n",
    "    return image_tensor, label"
   ]
  },
  {
   "cell_type": "code",
   "execution_count": 11,
   "metadata": {
    "colab": {},
    "colab_type": "code",
    "execution": {
     "iopub.execute_input": "2020-08-10T05:29:26.888985Z",
     "iopub.status.busy": "2020-08-10T05:29:26.887989Z",
     "iopub.status.idle": "2020-08-10T05:29:26.890522Z",
     "shell.execute_reply": "2020-08-10T05:29:26.891092Z"
    },
    "id": "VRTS4GnmLMf1",
    "papermill": {
     "duration": 0.032336,
     "end_time": "2020-08-10T05:29:26.891259",
     "exception": false,
     "start_time": "2020-08-10T05:29:26.858923",
     "status": "completed"
    },
    "tags": []
   },
   "outputs": [],
   "source": [
    "def normalize_image(decoded_image):\n",
    "    '''\n",
    "    function to convert an image tensor values from 0 to 255 \n",
    "    -> -1 to 1\n",
    "    \n",
    "    args:\n",
    "        decoded_image: tensor that is an image with values from 0 to 255\n",
    "    \n",
    "    returns: \n",
    "        image_tensor: tensor that is an image with values from -1 to 1\n",
    "    \n",
    "    '''\n",
    "    \n",
    "    #add dim at the zero axis Shape will be from (x, y, z) -> (None, x, y, z)\n",
    "    image_tensor = tf.expand_dims(decoded_image, 0)\n",
    "    #undo the above line -- this is needed due to TF not allowing a filtered tensor py_function\n",
    "    image_tensor = tf.gather(image_tensor, 0)\n",
    "\n",
    "    #convert tensor values to between -1 and 1 (0 to 255 -> -1 to 1)\n",
    "    image_tensor = (tf.cast(image_tensor, tf.float32) - 127.5) / 127.5\n",
    "\n",
    "    return image_tensor"
   ]
  },
  {
   "cell_type": "code",
   "execution_count": 12,
   "metadata": {
    "colab": {},
    "colab_type": "code",
    "execution": {
     "iopub.execute_input": "2020-08-10T05:29:26.944221Z",
     "iopub.status.busy": "2020-08-10T05:29:26.943211Z",
     "iopub.status.idle": "2020-08-10T05:29:26.946291Z",
     "shell.execute_reply": "2020-08-10T05:29:26.945626Z"
    },
    "id": "mBBVpiTzLMf3",
    "papermill": {
     "duration": 0.032591,
     "end_time": "2020-08-10T05:29:26.946428",
     "exception": false,
     "start_time": "2020-08-10T05:29:26.913837",
     "status": "completed"
    },
    "tags": []
   },
   "outputs": [],
   "source": [
    "def random_flip(image, label):\n",
    "    '''\n",
    "    function to randomly flip images on the x and/or y axis\n",
    "    \n",
    "    args:\n",
    "        image: tensor, an image\n",
    "        label: tensor, target label\n",
    "    \n",
    "    returns: \n",
    "        image: tensor, same as input, but possibly flipped on x and/or y axis\n",
    "        label, tensor, same as input\n",
    "    '''\n",
    "    image = tf.image.random_flip_left_right(image)\n",
    "    image = tf.image.random_flip_up_down(image)\n",
    "    return image, label"
   ]
  },
  {
   "cell_type": "code",
   "execution_count": 13,
   "metadata": {
    "colab": {},
    "colab_type": "code",
    "execution": {
     "iopub.execute_input": "2020-08-10T05:29:27.001465Z",
     "iopub.status.busy": "2020-08-10T05:29:27.000601Z",
     "iopub.status.idle": "2020-08-10T05:29:27.005541Z",
     "shell.execute_reply": "2020-08-10T05:29:27.004731Z"
    },
    "id": "q-n0QjpXLMf4",
    "papermill": {
     "duration": 0.036311,
     "end_time": "2020-08-10T05:29:27.005674",
     "exception": false,
     "start_time": "2020-08-10T05:29:26.969363",
     "status": "completed"
    },
    "tags": []
   },
   "outputs": [],
   "source": [
    "def get_train_ds(tfrecords, batch_size):\n",
    "    '''\n",
    "    function to create a ds pipeline from tfrecord files\n",
    "    \n",
    "    args:\n",
    "        tfrecords: list, tfrecord file paths\n",
    "        batch_size: int, batch size for number of records to pass into\n",
    "            model at a time\n",
    "    returns:\n",
    "        ds: tensorflow input pipeline with images and labels\n",
    "    '''\n",
    "    ds = (tf.data.TFRecordDataset(filenames=[tfrecords],\n",
    "                                 num_parallel_reads=tf.data.experimental.AUTOTUNE).\n",
    "          cache(). #need to remove cache while not usnig TPUs\n",
    "          map(decode_image_label, num_parallel_calls=tf.data.experimental.AUTOTUNE).\n",
    "          map(normalize_image_label, num_parallel_calls=tf.data.experimental.AUTOTUNE).\n",
    "          map(random_flip, num_parallel_calls=tf.data.experimental.AUTOTUNE).\n",
    "          repeat().\n",
    "          shuffle(512).\n",
    "          batch(batch_size,\n",
    "               drop_remainder=True).\n",
    "          prefetch(tf.data.experimental.AUTOTUNE)\n",
    "         )\n",
    "    \n",
    "\n",
    "    \n",
    "    return ds\n",
    "    "
   ]
  },
  {
   "cell_type": "code",
   "execution_count": 14,
   "metadata": {
    "colab": {},
    "colab_type": "code",
    "execution": {
     "iopub.execute_input": "2020-08-10T05:29:27.060905Z",
     "iopub.status.busy": "2020-08-10T05:29:27.059951Z",
     "iopub.status.idle": "2020-08-10T05:29:27.063151Z",
     "shell.execute_reply": "2020-08-10T05:29:27.062464Z"
    },
    "id": "yqeQFaHrLMf6",
    "papermill": {
     "duration": 0.034685,
     "end_time": "2020-08-10T05:29:27.063280",
     "exception": false,
     "start_time": "2020-08-10T05:29:27.028595",
     "status": "completed"
    },
    "tags": []
   },
   "outputs": [],
   "source": [
    "def get_test_ds(tfrecords, batch_size):\n",
    "    '''\n",
    "    function to create a dataset for test data\n",
    "    args:\n",
    "        tfrecords: list, tfrecord file paths\n",
    "        batch_size: int, batch size for number of records to pass into\n",
    "            model at a time\n",
    "    returns:\n",
    "        ds: tensorflow input pipeline with images and labels\n",
    "    \n",
    "    '''\n",
    "\n",
    "    ds = (tf.data.TFRecordDataset(filenames=[tfrecords],\n",
    "                                 num_parallel_reads=tf.data.experimental.AUTOTUNE).\n",
    "#           cache(). #there is no reason to cache this ds -- it is only being read 1x\n",
    "          map(decode_image, num_parallel_calls=tf.data.experimental.AUTOTUNE).\n",
    "          map(normalize_image_label, num_parallel_calls=tf.data.experimental.AUTOTUNE).\n",
    "#           map(random_flip).\n",
    "          batch(batch_size).\n",
    "#                 drop_remainder=True).\n",
    "          prefetch(tf.data.experimental.AUTOTUNE)\n",
    "         )\n",
    "    \n",
    "    return ds\n",
    "    ###come back to this"
   ]
  },
  {
   "cell_type": "markdown",
   "metadata": {
    "colab_type": "text",
    "id": "AmG0gCIVLMf8",
    "papermill": {
     "duration": 0.022544,
     "end_time": "2020-08-10T05:29:27.108722",
     "exception": false,
     "start_time": "2020-08-10T05:29:27.086178",
     "status": "completed"
    },
    "tags": []
   },
   "source": [
    "# model architecture"
   ]
  },
  {
   "cell_type": "code",
   "execution_count": 15,
   "metadata": {
    "colab": {},
    "colab_type": "code",
    "execution": {
     "iopub.execute_input": "2020-08-10T05:29:27.170147Z",
     "iopub.status.busy": "2020-08-10T05:29:27.169308Z",
     "iopub.status.idle": "2020-08-10T05:29:27.172297Z",
     "shell.execute_reply": "2020-08-10T05:29:27.172850Z"
    },
    "id": "QO86yIWVLMf8",
    "papermill": {
     "duration": 0.041151,
     "end_time": "2020-08-10T05:29:27.173043",
     "exception": false,
     "start_time": "2020-08-10T05:29:27.131892",
     "status": "completed"
    },
    "tags": []
   },
   "outputs": [],
   "source": [
    "def set_of_layers(input_layer, \n",
    "                  filters_, \n",
    "                  kernal, \n",
    "                  strides_, \n",
    "                  dense=None, \n",
    "                  dense_activation=None,\n",
    "                  dropout=None,\n",
    "                  cnn_activation=None):\n",
    "    '''\n",
    "    function to add the following layers to a model:\n",
    "    Conv2D, MaxPooling2D, BatchNormalization, LeadyReLU, Dense,\n",
    "        Dropout\n",
    "\n",
    "    args:\n",
    "      input_layer : input layer to be fed into above layers\n",
    "      filters_: int, number of filters in Conv2D layer\n",
    "      kernal: int, kernal size in Conv2D layer\n",
    "      strides_: int, stride size in MaxPooling2D layer\n",
    "      dense: int, number of units in dense layer, default is None\n",
    "          Will only add layer if value is passed\n",
    "      dense_activation: str, activation function to pass into Dense layer\n",
    "          default is None\n",
    "      dropout: float, dropout percentage in Dropout layer, default is None\n",
    "        must be less than 1.0. Will only add layer if value is passed \n",
    "      cnn_activation: tensorflow activation layer, default is None\n",
    "          will only add layer is value is passed. Activation layer will be\n",
    "          added after the BatchNormalization layer\n",
    "\n",
    "    returns:\n",
    "      x: model that is the same as the input_layer input plus above \n",
    "        layers added\n",
    "        \n",
    "        \n",
    "    '''\n",
    "    x_dict = {}\n",
    "    for xx in range(len(kernal)):\n",
    "        x_dict[xx] = layers.Conv2D(filters_, (kernal[xx], kernal[xx]),\n",
    "                                   padding='same', activation=cnn_activation)(input_layer)\n",
    "        for _ in range(1): #may be able to try range(2) with the filters halved\n",
    "            x_dict[xx] = layers.Conv2D(filters_, (kernal[xx], kernal[xx]),\n",
    "                                       padding='same', activation=cnn_activation)(x_dict[xx])\n",
    "    x_list = [x_dict[xx] for xx in x_dict]\n",
    "    if len(x_list) > 1:\n",
    "        x = layers.Concatenate()(x_list)\n",
    "    else:\n",
    "        x = x_list[0]\n",
    "    x = layers.MaxPooling2D(strides_, strides_)(x)\n",
    "    x = layers.BatchNormalization()(x)\n",
    "    \n",
    "\n",
    "    \n",
    "    if cnn_activation:\n",
    "        x = cnn_activation(x)\n",
    "    x = layers.ReLU()(x)\n",
    "    if dense:\n",
    "        x = layers.Dense(dense, activation=dense_activation)(x)\n",
    "    if dropout:\n",
    "        x = layers.Dropout(dropout)(x)\n",
    "\n",
    "\n",
    "    return x"
   ]
  },
  {
   "cell_type": "code",
   "execution_count": 16,
   "metadata": {
    "colab": {},
    "colab_type": "code",
    "execution": {
     "iopub.execute_input": "2020-08-10T05:29:27.235107Z",
     "iopub.status.busy": "2020-08-10T05:29:27.234208Z",
     "iopub.status.idle": "2020-08-10T05:29:27.237745Z",
     "shell.execute_reply": "2020-08-10T05:29:27.236995Z"
    },
    "id": "cwUPyepvLMf9",
    "papermill": {
     "duration": 0.041647,
     "end_time": "2020-08-10T05:29:27.237867",
     "exception": false,
     "start_time": "2020-08-10T05:29:27.196220",
     "status": "completed"
    },
    "tags": []
   },
   "outputs": [],
   "source": [
    "def deconv_set_of_layers(input_layer, \n",
    "                         filters_, \n",
    "                         kernal_, \n",
    "                         stride, \n",
    "                         dense=None, \n",
    "                         dense_activation=None, \n",
    "                         dropout=None,\n",
    "                         cnn_activation=None):\n",
    "    '''\n",
    "    function to add the following layers to a model:\n",
    "    Conv2DTranspose, BatchNormalization, LeadyReLU, Dense\n",
    "\n",
    "    args:\n",
    "      input_layer : input layer to be fed into above layers\n",
    "      filters_: int, number of filters in Conv2DTranspose layer\n",
    "      kernal_: int, kernal size in Conv2DTranspose layer\n",
    "      strides_: int, stride size in Conv2DTranspose layer\n",
    "      dense: int, number of units in dense layer, default is None\n",
    "          Will only add layer if value is passed\n",
    "      dense_activation: str, activation function to pass into Dense layer\n",
    "          default is None\n",
    "      dropout: float, dropout percentage in Dropout layer, default is None\n",
    "        must be less than 1.0. Will only add layer if value is passed \n",
    "      cnn_activation: tensorflow activation layer, default is None\n",
    "          will only add layer is value is passed. Activation layer will be\n",
    "          added after the BatchNormalization layer\n",
    "\n",
    "\n",
    "    returns:\n",
    "      x: model that is the same as the input_layer input plus above \n",
    "        layers added\n",
    "    '''\n",
    "\n",
    "        \n",
    "    x_dict = {}\n",
    "    for xx in range(len(kernal_)):\n",
    "        x_dict[xx] = layers.Conv2DTranspose(filters_,\n",
    "                                           kernal_[xx],\n",
    "                                           (stride, stride),\n",
    "                                           padding='same')(input_layer)\n",
    "        x_dict[xx] = layers.BatchNormalization()(x_dict[xx])\n",
    "    x_list = [x_dict[xx] for xx in x_dict]\n",
    "    if len(x_list) > 1:\n",
    "        x = layers.Concatenate()(x_list)\n",
    "    else:\n",
    "        x = x_list[0]\n",
    "    \n",
    "    if cnn_activation:\n",
    "        x = cnn_activation(x)\n",
    "   \n",
    "    if dense:\n",
    "        x = layers.Dense(dense, activation=dense_activation)(x)\n",
    "    \n",
    "    if dropout:\n",
    "        x = layers.Dropout(dropout)(x)\n",
    "    \n",
    "\n",
    "    return x\n"
   ]
  },
  {
   "cell_type": "code",
   "execution_count": 17,
   "metadata": {
    "colab": {},
    "colab_type": "code",
    "id": "ZUGGmJIZLMf_"
   },
   "outputs": [],
   "source": [
    "def create_model(input_shape=[*params['img_size'], 3], bias_output=None):\n",
    "    '''\n",
    "    function to create a model that will be used to train DS via xfer learning\n",
    "    \n",
    "    args:\n",
    "        input_shape: array, default: [1024, 1024, 3], shape\n",
    "            of input tensor that will be fed into model\n",
    "    \n",
    "    returns:\n",
    "        model: keras.Model() model\n",
    "    \n",
    "    '''\n",
    "    \n",
    "    input_tensor = layers.Input(shape=input_shape, name='images_input')\n",
    "    \n",
    "    #input s/b 224, 224, 3 // try to normalize 0 -> 1\n",
    "    densenet = tf.keras.applications.DenseNet121(include_top=False, \n",
    "                                                 input_shape=input_shape, \n",
    "                                                 classes=1)(input_tensor)\n",
    "    end_of_densenet = layers.GlobalAveragePooling2D()(densenet)\n",
    "    dense_layers = layers.Dense(512)(end_of_densenet)\n",
    "    dense_layers = layers.Dropout(0.2)(dense_layers)\n",
    "    ###end of densenet### auc - 0.8844 (-1 -> 1) auc 0.8967 (0 -> 1)\n",
    "    \n",
    "#     #s/b 224, 224, 3 // try to normalize 0 -> 1\n",
    "#     efficientnet = tf.keras.applications.EfficientNetB0(include_top=False,\n",
    "#                                                        input_shape=input_shape,\n",
    "#                                                        classes=1)(input_tensor)\n",
    "#     end_of_efficientnet = layers.GlobalAveragePooling2D()(efficientnet)\n",
    "#     dense_layers = layers.Dense(8)(end_of_efficientnet)\n",
    "#     ###end of efficientnet### auc - 0.8602 (-1 -> 1)\n",
    "    \n",
    "    # #s/b 299, 299, 3 // needs to be -1 -> 1\n",
    "    # inception = tf.keras.applications.InceptionV3(include_top=False,\n",
    "    #                                              input_shape=input_shape,\n",
    "    #                                              classes=1)(input_tensor)\n",
    "    # end_of_inception = layers.GlobalAveragePooling2D()(inception)\n",
    "    # dense_layers = layers.Dense(8)(end_of_inception)\n",
    "    # ##end of inception (2016)### auc - 0.9009 (best)\n",
    "    \n",
    "#     #s/b 299, 299, 3 // needs to be -1 -> 1\n",
    "#     inception_v2 = tf.keras.applications.InceptionResNetV2(include_top=False,\n",
    "#                                                           input_shape=input_shape,\n",
    "#                                                           classes=1)(input_tensor)\n",
    "#     end_of_inceptionv2 = layers.GlobalAveragePooling2D()(inception_v2)\n",
    "#     dense_layers = layers.Dense(8)(end_of_inceptionv2)\n",
    "#     ###end of inception (2017)###\n",
    "    \n",
    "    #s/b 224, 224, 3 // needs to be -1 -> 1\n",
    "    # mobilnet = tf.keras.applications.MobileNet(include_top=False,\n",
    "    #                                           input_shape=input_shape,\n",
    "    #                                           classes=1)(input_tensor)\n",
    "    # end_of_mobilnet = layers.GlobalAveragePooling2D() (mobilnet)\n",
    "    # dense_layers = layers.Dense(8)(end_of_mobilnet)\n",
    "    ###end of mobilnet (v1)### auc - 0.8681\n",
    "\n",
    "    # # s/b 224, 224, 3 // needs to be -1 --> 1\n",
    "    # mobilnet_v2 = tf.keras.applications.MobileNetV2(include_top=False,\n",
    "    #                                                input_shape=input_shape,\n",
    "    #                                                classes=1)(input_tensor)\n",
    "    # end_of_mobilnet_v2 = layers.GlobalAveragePooling2D()(mobilnet_v2)\n",
    "    # dense_layers = layers.Dense(8)(end_of_mobilnet_v2)\n",
    "    # ###end of mobilnet (2018)### #dont use -- immediately overfits training data\n",
    "\n",
    "\n",
    "\n",
    "\n",
    "    \n",
    "\n",
    "\n",
    "\n",
    "    \n",
    "    if bias_output is not None:\n",
    "        bias_output = tf.keras.initializers.Constant(bias_output)\n",
    "    output = layers.Dense(1, activation='sigmoid', bias_initializer=bias_output)(dense_layers)\n",
    "    model = keras.Model(inputs=input_tensor, outputs=output)\n",
    "    \n",
    "    \n",
    "    metrics = [\n",
    "          keras.metrics.TruePositives(name='tp'),\n",
    "          keras.metrics.FalseNegatives(name='fn'), \n",
    "          keras.metrics.BinaryAccuracy(name='accuracy'),\n",
    "          keras.metrics.AUC(name='auc'),\n",
    "    ]\n",
    "    schedule = None\n",
    "    \n",
    "    model.compile(\n",
    "        optimizer=tf.keras.optimizers.Adam(),\n",
    "        loss = tf.keras.losses.BinaryCrossentropy(label_smoothing = 0.01),\n",
    "        metrics=metrics)\n",
    "    \n",
    "    \n",
    "    return model"
   ]
  },
  {
   "cell_type": "code",
   "execution_count": 18,
   "metadata": {
    "colab": {},
    "colab_type": "code",
    "execution": {
     "iopub.execute_input": "2020-08-10T05:29:27.307725Z",
     "iopub.status.busy": "2020-08-10T05:29:27.306683Z",
     "iopub.status.idle": "2020-08-10T05:29:27.309381Z",
     "shell.execute_reply": "2020-08-10T05:29:27.309913Z"
    },
    "id": "nfrWgAxjLMgA",
    "papermill": {
     "duration": 0.048823,
     "end_time": "2020-08-10T05:29:27.310105",
     "exception": false,
     "start_time": "2020-08-10T05:29:27.261282",
     "status": "completed"
    },
    "tags": []
   },
   "outputs": [],
   "source": [
    "def create_model_obsol(input_shape=[*params['img_size'], 3], bias_output=None):\n",
    "    '''\n",
    "    function to create a model that will be trained on train DS\n",
    "    \n",
    "    args:\n",
    "        input_shape: array, default: [1024, 1024, 3], shape\n",
    "            of input tensor that will be fed into model\n",
    "    \n",
    "    returns:\n",
    "        model: keras.Model() model\n",
    "    '''\n",
    "\n",
    "    relu = layers.ReLU()\n",
    "    leakyrelu = layers.LeakyReLU()\n",
    "    input_tensor = layers.Input(shape=input_shape, name='images_input')\n",
    "    x = input_tensor\n",
    "#     filters_list = [64, 128, 256, 512, 1024]\n",
    "    filters_list = [32, 64, 128, 256, 512]\n",
    "    \n",
    "    for filter_ in filters_list:\n",
    "        x = set_of_layers(x, filter_, [3, 5], 2, 16,  dropout=0.35, dense_activation='tanh', \n",
    "                           cnn_activation=relu)\n",
    "        \n",
    "    \n",
    "    output_helper_1 = layers.Flatten(name='flatten_output_helper_1')(x)\n",
    "    output_helper_1 = layers.Dense(128)(output_helper_1)\n",
    "    \n",
    "    \n",
    "    \n",
    "#     filters_list = [1024, 512, 256]\n",
    "    filters_list = [512, 256, 128]\n",
    "    \n",
    "    for filter_ in filters_list:\n",
    "        x = deconv_set_of_layers(x, filter_, [2, 4], 2, 16,  dense_activation='tanh', cnn_activation=relu,\n",
    "                                 dropout=0.35)\n",
    "    \n",
    "    output_helper_2 = layers.Flatten(name='flatten_output_helper_2')(x)\n",
    "    output_helper_2 = layers.Dense(128)(output_helper_2)\n",
    "\n",
    "    \n",
    "#     filters_list = [256, 512, 1024]\n",
    "    filters_list = [128, 256, 512]\n",
    "    \n",
    "    for filter_ in filters_list:\n",
    "        x = set_of_layers(x, filter_, [3, 5], 2, 16,  dropout=0.35, dense_activation='tanh',\n",
    "                           cnn_activation=relu)\n",
    "\n",
    "\n",
    "\n",
    "    x = layers.Flatten(name='flatten_main_output')(x)\n",
    "    x = layers.Dense(128)(x)\n",
    "#     model.add(layers.Dense(64))\n",
    "    \n",
    "    if bias_output is not None:\n",
    "        bias_output = tf.keras.initializers.Constant(bias_output)\n",
    "    output_layer = layers.Dense(1, activation='sigmoid', bias_initializer=bias_output)(x)\n",
    "    \n",
    "    output_helper_1 = layers.Dense(1, activation='sigmoid',\n",
    "                                  bias_initializer=bias_output)(output_helper_1)\n",
    "    output_helper_2 = layers.Dense(1, activation='sigmoid',\n",
    "                                  bias_initializer=bias_output)(output_helper_2)\n",
    "    \n",
    "    model=keras.Model(inputs=[input_tensor],\n",
    "                     outputs=[output_layer, output_helper_1, output_helper_2])\n",
    "\n",
    " \n",
    "           \n",
    "    metrics = [\n",
    "          keras.metrics.TruePositives(name='tp'),\n",
    "          keras.metrics.FalseNegatives(name='fn'), \n",
    "          keras.metrics.BinaryAccuracy(name='accuracy'),\n",
    "          keras.metrics.AUC(name='auc'),\n",
    "    ]\n",
    "    schedule = None\n",
    "    \n",
    "    model.compile(\n",
    "        optimizer=tf.keras.optimizers.Adam(0.00033),\n",
    "        loss = [tf.keras.losses.BinaryCrossentropy(label_smoothing = 0.01),\n",
    "                tf.keras.losses.BinaryCrossentropy(label_smoothing = 0.01),\n",
    "                tf.keras.losses.BinaryCrossentropy(label_smoothing = 0.01)],\n",
    "        metrics=metrics,\n",
    "    loss_weights = [1.0, 0.15, 0.15])\n",
    "    \n",
    "\n",
    "    \n",
    "    return model\n",
    "\n"
   ]
  },
  {
   "cell_type": "code",
   "execution_count": 19,
   "metadata": {
    "colab": {},
    "colab_type": "code",
    "execution": {
     "iopub.execute_input": "2020-08-10T05:29:27.365550Z",
     "iopub.status.busy": "2020-08-10T05:29:27.364537Z",
     "iopub.status.idle": "2020-08-10T05:29:27.367978Z",
     "shell.execute_reply": "2020-08-10T05:29:27.367223Z"
    },
    "id": "ctZtGXcBLMgC",
    "papermill": {
     "duration": 0.034554,
     "end_time": "2020-08-10T05:29:27.368133",
     "exception": false,
     "start_time": "2020-08-10T05:29:27.333579",
     "status": "completed"
    },
    "tags": []
   },
   "outputs": [],
   "source": [
    "def get_ds_size(files):\n",
    "    '''\n",
    "    function to get size of tfrecord Dataset, based on file name\n",
    "    \n",
    "    the file name has the number of records in the file, for example:\n",
    "    train09-2071.tfrec has 2017 records\n",
    "    \n",
    "    args:\n",
    "        files: list of str file names, each item should be the path to a tfrecord file\n",
    "    \n",
    "    returns:\n",
    "        size: int, size of dataset\n",
    "    '''\n",
    "    size = 0\n",
    "    for file in files:\n",
    "        file_size = int(file.split('.tfrec')[0].split('tfrecords/')[1].split('-')[1])\n",
    "        size += file_size\n",
    "    return size"
   ]
  },
  {
   "cell_type": "code",
   "execution_count": 20,
   "metadata": {
    "colab": {},
    "colab_type": "code",
    "execution": {
     "iopub.execute_input": "2020-08-10T05:29:27.591545Z",
     "iopub.status.busy": "2020-08-10T05:29:27.586562Z",
     "iopub.status.idle": "2020-08-10T05:29:28.311476Z",
     "shell.execute_reply": "2020-08-10T05:29:28.310631Z"
    },
    "id": "N7SqvS9ULMgD",
    "papermill": {
     "duration": 0.919898,
     "end_time": "2020-08-10T05:29:28.311604",
     "exception": false,
     "start_time": "2020-08-10T05:29:27.391706",
     "status": "completed"
    },
    "tags": []
   },
   "outputs": [],
   "source": [
    "#get test file paths\n",
    "test_files = tf.io.gfile.glob(dataset_gcs + '/tfrecords/test*.tfrec')\n",
    "\n",
    "#get train and validation file paths\n",
    "train_files, valid_files = train_test_split(tf.io.gfile.glob(dataset_gcs + '/tfrecords/train*.tfrec'),\n",
    "                              test_size=.1, random_state=1)\n",
    "\n",
    "#create datasets\n",
    "train_ds = get_train_ds(train_files, params['batch_size'])\n",
    "valid_ds = get_train_ds(valid_files, params['batch_size'])\n",
    "test_ds = get_test_ds(test_files, params['batch_size'])"
   ]
  },
  {
   "cell_type": "code",
   "execution_count": 21,
   "metadata": {
    "colab": {
     "base_uri": "https://localhost:8080/",
     "height": 34
    },
    "colab_type": "code",
    "execution": {
     "iopub.execute_input": "2020-08-10T05:29:28.365324Z",
     "iopub.status.busy": "2020-08-10T05:29:28.364523Z",
     "iopub.status.idle": "2020-08-10T05:29:28.367784Z",
     "shell.execute_reply": "2020-08-10T05:29:28.368736Z"
    },
    "id": "fVGrZ5WFLMgE",
    "outputId": "b6240b77-84e3-44f8-d388-fea5394ed70f",
    "papermill": {
     "duration": 0.034059,
     "end_time": "2020-08-10T05:29:28.368958",
     "exception": false,
     "start_time": "2020-08-10T05:29:28.334899",
     "status": "completed"
    },
    "tags": []
   },
   "outputs": [
    {
     "name": "stdout",
     "output_type": "stream",
     "text": [
      "the dataset consists of: 28984 training images, 4142 validation images, and 10982 test images\n"
     ]
    }
   ],
   "source": [
    "train_size, valid_size = get_ds_size(train_files), get_ds_size(valid_files)\n",
    "test_size = get_ds_size(test_files)\n",
    "print('the dataset consists of: {} training images, {} validation images, and {} test images'.\n",
    "     format(train_size, valid_size, test_size))"
   ]
  },
  {
   "cell_type": "code",
   "execution_count": 21,
   "metadata": {
    "colab": {},
    "colab_type": "code",
    "id": "gVpGnOMJLMgG",
    "papermill": {
     "duration": 0.024878,
     "end_time": "2020-08-10T05:29:28.418699",
     "exception": false,
     "start_time": "2020-08-10T05:29:28.393821",
     "status": "completed"
    },
    "tags": []
   },
   "outputs": [],
   "source": []
  },
  {
   "cell_type": "code",
   "execution_count": 22,
   "metadata": {
    "colab": {},
    "colab_type": "code",
    "execution": {
     "iopub.execute_input": "2020-08-10T05:29:28.473067Z",
     "iopub.status.busy": "2020-08-10T05:29:28.471947Z",
     "iopub.status.idle": "2020-08-10T05:29:28.475504Z",
     "shell.execute_reply": "2020-08-10T05:29:28.474867Z"
    },
    "id": "aykTwKSdLMgH",
    "papermill": {
     "duration": 0.033353,
     "end_time": "2020-08-10T05:29:28.475640",
     "exception": false,
     "start_time": "2020-08-10T05:29:28.442287",
     "status": "completed"
    },
    "tags": []
   },
   "outputs": [],
   "source": [
    "epoch_steps = train_size / params['batch_size'] \n",
    "valid_steps = valid_size / params['batch_size']\n",
    "test_steps = 1.0 * test_size / params['batch_size'] "
   ]
  },
  {
   "cell_type": "code",
   "execution_count": 23,
   "metadata": {
    "colab": {},
    "colab_type": "code",
    "execution": {
     "iopub.execute_input": "2020-08-10T05:29:28.534284Z",
     "iopub.status.busy": "2020-08-10T05:29:28.533405Z",
     "iopub.status.idle": "2020-08-10T05:29:28.574657Z",
     "shell.execute_reply": "2020-08-10T05:29:28.575364Z"
    },
    "id": "ZSyag_aJLMgI",
    "papermill": {
     "duration": 0.076334,
     "end_time": "2020-08-10T05:29:28.575543",
     "exception": false,
     "start_time": "2020-08-10T05:29:28.499209",
     "status": "completed"
    },
    "tags": []
   },
   "outputs": [],
   "source": [
    "#calculate class weights\n",
    "\n",
    "targets = train_df.groupby('target').count()['diagnosis'].to_list()\n",
    "target_0 = targets[0]\n",
    "target_1 = targets[1]\n",
    "total = target_0 + target_1\n",
    "\n",
    "class_weight_0 = (1 / target_0) * (total) / 2.0\n",
    "class_weight_1 = (1 / target_1) * (total) / 2.0\n",
    "\n",
    "class_weights = {0: class_weight_0, 1: class_weight_1}\n",
    "\n",
    "initial_bias = np.log([target_1 / target_0])\n",
    "\n"
   ]
  },
  {
   "cell_type": "code",
   "execution_count": 24,
   "metadata": {
    "colab": {},
    "colab_type": "code",
    "id": "M_-z4cMRLMgJ",
    "papermill": {
     "duration": 0.025821,
     "end_time": "2020-08-10T05:29:28.626335",
     "exception": false,
     "start_time": "2020-08-10T05:29:28.600514",
     "status": "completed"
    },
    "tags": []
   },
   "outputs": [],
   "source": [
    "def lr_schedule_fn(epoch, lr):\n",
    "    if epoch < 10:\n",
    "        return 0.000001\n",
    "    elif epoch == 10:\n",
    "        return 0.001\n",
    "    elif epoch %2 ==0 and epoch < 49:\n",
    "        return lr * 0.75\n",
    "    else:\n",
    "        return lr"
   ]
  },
  {
   "cell_type": "code",
   "execution_count": 25,
   "metadata": {
    "colab": {
     "base_uri": "https://localhost:8080/",
     "height": 357
    },
    "colab_type": "code",
    "execution": {
     "iopub.execute_input": "2020-08-10T05:29:28.680038Z",
     "iopub.status.busy": "2020-08-10T05:29:28.679268Z",
     "iopub.status.idle": "2020-08-10T05:29:34.746441Z",
     "shell.execute_reply": "2020-08-10T05:29:34.747377Z"
    },
    "id": "fOtpzGueLMgK",
    "outputId": "c41f7663-8d16-4e44-b281-4ccfa6c9c6d7",
    "papermill": {
     "duration": 6.097709,
     "end_time": "2020-08-10T05:29:34.747615",
     "exception": false,
     "start_time": "2020-08-10T05:29:28.649906",
     "status": "completed"
    },
    "tags": []
   },
   "outputs": [
    {
     "name": "stdout",
     "output_type": "stream",
     "text": [
      "Model: \"functional_1\"\n",
      "_________________________________________________________________\n",
      "Layer (type)                 Output Shape              Param #   \n",
      "=================================================================\n",
      "images_input (InputLayer)    [(None, 224, 224, 3)]     0         \n",
      "_________________________________________________________________\n",
      "densenet121 (Functional)     (None, 7, 7, 1024)        7037504   \n",
      "_________________________________________________________________\n",
      "global_average_pooling2d (Gl (None, 1024)              0         \n",
      "_________________________________________________________________\n",
      "dense (Dense)                (None, 512)               524800    \n",
      "_________________________________________________________________\n",
      "dropout (Dropout)            (None, 512)               0         \n",
      "_________________________________________________________________\n",
      "dense_1 (Dense)              (None, 1)                 513       \n",
      "=================================================================\n",
      "Total params: 7,562,817\n",
      "Trainable params: 7,479,169\n",
      "Non-trainable params: 83,648\n",
      "_________________________________________________________________\n"
     ]
    }
   ],
   "source": [
    "with strategy.scope():\n",
    "    model = create_model(bias_output=initial_bias)\n",
    "    model.summary()"
   ]
  },
  {
   "cell_type": "markdown",
   "metadata": {
    "colab_type": "text",
    "id": "PpMHxSTyLMgL",
    "papermill": {
     "duration": 0.023785,
     "end_time": "2020-08-10T05:29:34.802909",
     "exception": false,
     "start_time": "2020-08-10T05:29:34.779124",
     "status": "completed"
    },
    "tags": []
   },
   "source": [
    "# Training"
   ]
  },
  {
   "cell_type": "code",
   "execution_count": 26,
   "metadata": {
    "colab": {
     "base_uri": "https://localhost:8080/",
     "height": 1000
    },
    "colab_type": "code",
    "execution": {
     "iopub.execute_input": "2020-08-10T05:29:34.863831Z",
     "iopub.status.busy": "2020-08-10T05:29:34.862857Z",
     "iopub.status.idle": "2020-08-10T07:26:16.782372Z",
     "shell.execute_reply": "2020-08-10T07:26:16.781673Z"
    },
    "id": "kS9LOS2sLMgL",
    "outputId": "b571bd1d-7e30-4fd5-ff3c-ed70ae46a992",
    "papermill": {
     "duration": 7001.954688,
     "end_time": "2020-08-10T07:26:16.782530",
     "exception": false,
     "start_time": "2020-08-10T05:29:34.827842",
     "status": "completed"
    },
    "tags": []
   },
   "outputs": [
    {
     "name": "stdout",
     "output_type": "stream",
     "text": [
      "Epoch 1/150\n",
      " 2/28 [=>............................] - ETA: 7s - loss: 1.2401 - tp: 2.0000 - fn: 32.0000 - accuracy: 0.9482 - auc: 0.4759WARNING:tensorflow:Callbacks method `on_train_batch_end` is slow compared to the batch time (batch time: 0.0166s vs `on_train_batch_end` time: 0.5720s). Check your callbacks.\n"
     ]
    },
    {
     "name": "stderr",
     "output_type": "stream",
     "text": [
      "WARNING:tensorflow:Callbacks method `on_train_batch_end` is slow compared to the batch time (batch time: 0.0166s vs `on_train_batch_end` time: 0.5720s). Check your callbacks.\n"
     ]
    },
    {
     "name": "stdout",
     "output_type": "stream",
     "text": [
      "29/28 [==============================] - ETA: 0s - loss: 1.0911 - tp: 61.0000 - fn: 463.0000 - accuracy: 0.9352 - auc: 0.5736WARNING:tensorflow:Callbacks method `on_test_batch_end` is slow compared to the batch time (batch time: 0.0062s vs `on_test_batch_end` time: 0.1957s). Check your callbacks.\n"
     ]
    },
    {
     "name": "stderr",
     "output_type": "stream",
     "text": [
      "WARNING:tensorflow:Callbacks method `on_test_batch_end` is slow compared to the batch time (batch time: 0.0062s vs `on_test_batch_end` time: 0.1957s). Check your callbacks.\n"
     ]
    },
    {
     "name": "stdout",
     "output_type": "stream",
     "text": [
      "\b\b\b\b\b\b\b\b\b\b\b\b\b\b\b\b\b\b\b\b\b\b\b\b\b\b\b\b\b\b\b\b\b\b\b\b\b\b\b\b\b\b\b\b\b\b\b\b\b\b\b\b\b\b\b\b\b\b\b\b\b\b\b\b\b\b\b\b\b\b\b\b\b\b\b\b\b\b\b\b\b\b\b\b\b\b\b\b\b\b\b\b\b\b\b\b\b\b\b\b\b\b\b\b\b\b\b\b\b\b\b\b\b\b\b\b\b\b\b\b\b\b\b\b\b\r",
      "29/28 [==============================] - 42s 1s/step - loss: 1.0911 - tp: 61.0000 - fn: 463.0000 - accuracy: 0.9352 - auc: 0.5736 - val_loss: 0.1515 - val_tp: 0.0000e+00 - val_fn: 85.0000 - val_accuracy: 0.9834 - val_auc: 0.5593\n",
      "Epoch 2/150\n",
      "29/28 [==============================] - 24s 832ms/step - loss: 0.9025 - tp: 91.0000 - fn: 434.0000 - accuracy: 0.8982 - auc: 0.6327 - val_loss: 0.1739 - val_tp: 0.0000e+00 - val_fn: 87.0000 - val_accuracy: 0.9811 - val_auc: 0.5739\n",
      "Epoch 3/150\n",
      "29/28 [==============================] - 22s 749ms/step - loss: 0.8203 - tp: 152.0000 - fn: 379.0000 - accuracy: 0.8513 - auc: 0.6556 - val_loss: 0.2111 - val_tp: 1.0000 - val_fn: 87.0000 - val_accuracy: 0.9734 - val_auc: 0.5704\n",
      "Epoch 4/150\n",
      "29/28 [==============================] - 24s 835ms/step - loss: 0.7362 - tp: 198.0000 - fn: 329.0000 - accuracy: 0.8054 - auc: 0.6807 - val_loss: 0.2455 - val_tp: 6.0000 - val_fn: 76.0000 - val_accuracy: 0.9615 - val_auc: 0.5881\n",
      "Epoch 5/150\n",
      "29/28 [==============================] - 24s 827ms/step - loss: 0.6795 - tp: 262.0000 - fn: 269.0000 - accuracy: 0.7637 - auc: 0.7079 - val_loss: 0.2764 - val_tp: 11.0000 - val_fn: 73.0000 - val_accuracy: 0.9387 - val_auc: 0.6463\n",
      "Epoch 6/150\n",
      "29/28 [==============================] - 24s 835ms/step - loss: 0.6485 - tp: 300.0000 - fn: 220.0000 - accuracy: 0.7322 - auc: 0.7229 - val_loss: 0.3046 - val_tp: 19.0000 - val_fn: 64.0000 - val_accuracy: 0.9119 - val_auc: 0.7081\n",
      "Epoch 7/150\n",
      "29/28 [==============================] - 24s 838ms/step - loss: 0.6151 - tp: 342.0000 - fn: 188.0000 - accuracy: 0.7101 - auc: 0.7484 - val_loss: 0.3373 - val_tp: 27.0000 - val_fn: 57.0000 - val_accuracy: 0.8896 - val_auc: 0.7116\n",
      "Epoch 8/150\n",
      "29/28 [==============================] - 24s 841ms/step - loss: 0.6043 - tp: 359.0000 - fn: 177.0000 - accuracy: 0.7028 - auc: 0.7613 - val_loss: 0.3730 - val_tp: 31.0000 - val_fn: 55.0000 - val_accuracy: 0.8562 - val_auc: 0.7130\n",
      "Epoch 9/150\n",
      "29/28 [==============================] - 24s 836ms/step - loss: 0.5962 - tp: 364.0000 - fn: 161.0000 - accuracy: 0.6978 - auc: 0.7676 - val_loss: 0.4067 - val_tp: 33.0000 - val_fn: 53.0000 - val_accuracy: 0.8281 - val_auc: 0.7322\n",
      "Epoch 10/150\n",
      "29/28 [==============================] - 24s 843ms/step - loss: 0.5866 - tp: 376.0000 - fn: 154.0000 - accuracy: 0.6941 - auc: 0.7759 - val_loss: 0.4409 - val_tp: 39.0000 - val_fn: 44.0000 - val_accuracy: 0.8053 - val_auc: 0.7404\n",
      "Epoch 11/150\n",
      "29/28 [==============================] - 22s 743ms/step - loss: 0.5991 - tp: 409.0000 - fn: 119.0000 - accuracy: 0.7181 - auc: 0.8159 - val_loss: 0.3880 - val_tp: 1.0000 - val_fn: 84.0000 - val_accuracy: 0.9816 - val_auc: 0.5112\n",
      "Epoch 12/150\n",
      "29/28 [==============================] - 24s 838ms/step - loss: 0.4728 - tp: 434.0000 - fn: 98.0000 - accuracy: 0.7375 - auc: 0.8591 - val_loss: 0.7267 - val_tp: 66.0000 - val_fn: 19.0000 - val_accuracy: 0.6508 - val_auc: 0.8051\n",
      "Epoch 13/150\n",
      "29/28 [==============================] - 22s 751ms/step - loss: 0.4080 - tp: 459.0000 - fn: 77.0000 - accuracy: 0.7754 - auc: 0.8969 - val_loss: 1.4909 - val_tp: 79.0000 - val_fn: 8.0000 - val_accuracy: 0.5572 - val_auc: 0.8019\n",
      "Epoch 14/150\n",
      "29/28 [==============================] - 24s 826ms/step - loss: 0.3747 - tp: 453.0000 - fn: 70.0000 - accuracy: 0.8062 - auc: 0.9138 - val_loss: 1.1894 - val_tp: 79.0000 - val_fn: 6.0000 - val_accuracy: 0.5684 - val_auc: 0.8449\n",
      "Epoch 15/150\n",
      "29/28 [==============================] - 25s 846ms/step - loss: 0.3139 - tp: 488.0000 - fn: 44.0000 - accuracy: 0.8384 - auc: 0.9405 - val_loss: 1.0217 - val_tp: 75.0000 - val_fn: 10.0000 - val_accuracy: 0.6262 - val_auc: 0.8570\n",
      "Epoch 16/150\n",
      "29/28 [==============================] - 22s 752ms/step - loss: 0.3013 - tp: 465.0000 - fn: 56.0000 - accuracy: 0.8485 - auc: 0.9454 - val_loss: 0.3765 - val_tp: 44.0000 - val_fn: 40.0000 - val_accuracy: 0.8586 - val_auc: 0.8567\n",
      "Epoch 17/150\n",
      "29/28 [==============================] - 24s 839ms/step - loss: 0.2884 - tp: 477.0000 - fn: 48.0000 - accuracy: 0.8580 - auc: 0.9509 - val_loss: 0.7066 - val_tp: 78.0000 - val_fn: 6.0000 - val_accuracy: 0.7318 - val_auc: 0.8883\n",
      "Epoch 18/150\n",
      "29/28 [==============================] - 24s 833ms/step - loss: 0.2450 - tp: 490.0000 - fn: 37.0000 - accuracy: 0.8824 - auc: 0.9646 - val_loss: 0.3354 - val_tp: 64.0000 - val_fn: 25.0000 - val_accuracy: 0.8646 - val_auc: 0.8944\n",
      "Epoch 19/150\n",
      "29/28 [==============================] - 22s 747ms/step - loss: 0.2302 - tp: 502.0000 - fn: 29.0000 - accuracy: 0.8992 - auc: 0.9702 - val_loss: 0.4147 - val_tp: 69.0000 - val_fn: 16.0000 - val_accuracy: 0.8324 - val_auc: 0.8903\n",
      "Epoch 20/150\n",
      "29/28 [==============================] - 22s 749ms/step - loss: 0.2329 - tp: 494.0000 - fn: 33.0000 - accuracy: 0.8922 - auc: 0.9692 - val_loss: 0.2420 - val_tp: 45.0000 - val_fn: 42.0000 - val_accuracy: 0.9020 - val_auc: 0.8667\n",
      "Epoch 21/150\n",
      "29/28 [==============================] - 24s 829ms/step - loss: 0.1947 - tp: 501.0000 - fn: 23.0000 - accuracy: 0.9076 - auc: 0.9791 - val_loss: 0.2428 - val_tp: 53.0000 - val_fn: 33.0000 - val_accuracy: 0.9027 - val_auc: 0.9050\n",
      "Epoch 22/150\n",
      "29/28 [==============================] - 24s 832ms/step - loss: 0.1650 - tp: 507.0000 - fn: 18.0000 - accuracy: 0.9262 - auc: 0.9853 - val_loss: 0.1540 - val_tp: 41.0000 - val_fn: 45.0000 - val_accuracy: 0.9484 - val_auc: 0.9111\n",
      "Epoch 23/150\n",
      "29/28 [==============================] - 24s 838ms/step - loss: 0.1626 - tp: 512.0000 - fn: 18.0000 - accuracy: 0.9298 - auc: 0.9861 - val_loss: 0.2612 - val_tp: 59.0000 - val_fn: 28.0000 - val_accuracy: 0.8992 - val_auc: 0.9121\n",
      "Epoch 24/150\n",
      "29/28 [==============================] - 24s 831ms/step - loss: 0.1474 - tp: 519.0000 - fn: 15.0000 - accuracy: 0.9387 - auc: 0.9889 - val_loss: 0.2106 - val_tp: 61.0000 - val_fn: 29.0000 - val_accuracy: 0.9201 - val_auc: 0.9195\n",
      "Epoch 25/150\n",
      "29/28 [==============================] - 22s 745ms/step - loss: 0.1201 - tp: 512.0000 - fn: 7.0000 - accuracy: 0.9506 - auc: 0.9932 - val_loss: 0.1463 - val_tp: 45.0000 - val_fn: 41.0000 - val_accuracy: 0.9527 - val_auc: 0.9079\n",
      "Epoch 26/150\n",
      "29/28 [==============================] - 22s 747ms/step - loss: 0.1205 - tp: 522.0000 - fn: 9.0000 - accuracy: 0.9558 - auc: 0.9931 - val_loss: 0.1973 - val_tp: 48.0000 - val_fn: 39.0000 - val_accuracy: 0.9271 - val_auc: 0.8889\n",
      "Epoch 27/150\n",
      "29/28 [==============================] - 22s 759ms/step - loss: 0.1081 - tp: 517.0000 - fn: 8.0000 - accuracy: 0.9596 - auc: 0.9950 - val_loss: 0.1687 - val_tp: 50.0000 - val_fn: 38.0000 - val_accuracy: 0.9426 - val_auc: 0.9044\n",
      "Epoch 28/150\n",
      "29/28 [==============================] - 22s 750ms/step - loss: 0.1039 - tp: 524.0000 - fn: 8.0000 - accuracy: 0.9658 - auc: 0.9956 - val_loss: 0.1577 - val_tp: 49.0000 - val_fn: 35.0000 - val_accuracy: 0.9496 - val_auc: 0.8983\n",
      "Epoch 29/150\n",
      "29/28 [==============================] - 22s 752ms/step - loss: 0.0927 - tp: 518.0000 - fn: 8.0000 - accuracy: 0.9681 - auc: 0.9964 - val_loss: 0.1367 - val_tp: 37.0000 - val_fn: 47.0000 - val_accuracy: 0.9572 - val_auc: 0.8912\n",
      "Epoch 30/150\n",
      "29/28 [==============================] - 22s 751ms/step - loss: 0.0832 - tp: 519.0000 - fn: 5.0000 - accuracy: 0.9729 - auc: 0.9976 - val_loss: 0.1272 - val_tp: 36.0000 - val_fn: 45.0000 - val_accuracy: 0.9633 - val_auc: 0.8925\n",
      "Epoch 31/150\n",
      "29/28 [==============================] - 22s 746ms/step - loss: 0.0838 - tp: 521.0000 - fn: 4.0000 - accuracy: 0.9748 - auc: 0.9975 - val_loss: 0.1201 - val_tp: 32.0000 - val_fn: 52.0000 - val_accuracy: 0.9680 - val_auc: 0.8897\n",
      "Epoch 32/150\n",
      "29/28 [==============================] - 22s 746ms/step - loss: 0.0755 - tp: 529.0000 - fn: 3.0000 - accuracy: 0.9776 - auc: 0.9982 - val_loss: 0.1105 - val_tp: 28.0000 - val_fn: 55.0000 - val_accuracy: 0.9719 - val_auc: 0.8755\n",
      "Epoch 33/150\n",
      "29/28 [==============================] - 22s 751ms/step - loss: 0.0699 - tp: 531.0000 - fn: 1.0000 - accuracy: 0.9807 - auc: 0.9986 - val_loss: 0.1133 - val_tp: 34.0000 - val_fn: 53.0000 - val_accuracy: 0.9723 - val_auc: 0.8770\n",
      "Epoch 34/150\n",
      "29/28 [==============================] - 22s 745ms/step - loss: 0.0651 - tp: 525.0000 - fn: 1.0000 - accuracy: 0.9849 - auc: 0.9988 - val_loss: 0.1196 - val_tp: 29.0000 - val_fn: 58.0000 - val_accuracy: 0.9697 - val_auc: 0.8723\n",
      "Epoch 35/150\n",
      "29/28 [==============================] - 21s 740ms/step - loss: 0.0623 - tp: 530.0000 - fn: 2.0000 - accuracy: 0.9864 - auc: 0.9990 - val_loss: 0.1154 - val_tp: 29.0000 - val_fn: 58.0000 - val_accuracy: 0.9697 - val_auc: 0.8799\n",
      "Epoch 36/150\n",
      "29/28 [==============================] - 22s 747ms/step - loss: 0.0592 - tp: 528.0000 - fn: 1.0000 - accuracy: 0.9870 - auc: 0.9993 - val_loss: 0.1130 - val_tp: 29.0000 - val_fn: 57.0000 - val_accuracy: 0.9719 - val_auc: 0.8813\n",
      "Epoch 37/150\n",
      "29/28 [==============================] - 22s 750ms/step - loss: 0.0582 - tp: 520.0000 - fn: 1.0000 - accuracy: 0.9879 - auc: 0.9994 - val_loss: 0.1146 - val_tp: 27.0000 - val_fn: 60.0000 - val_accuracy: 0.9713 - val_auc: 0.8791\n",
      "Epoch 38/150\n",
      "29/28 [==============================] - 22s 752ms/step - loss: 0.0584 - tp: 526.0000 - fn: 2.0000 - accuracy: 0.9872 - auc: 0.9992 - val_loss: 0.1120 - val_tp: 26.0000 - val_fn: 62.0000 - val_accuracy: 0.9740 - val_auc: 0.8790\n",
      "Epoch 39/150\n",
      "29/28 [==============================] - 22s 753ms/step - loss: 0.0544 - tp: 519.0000 - fn: 0.0000e+00 - accuracy: 0.9904 - auc: 0.9994 - val_loss: 0.1126 - val_tp: 26.0000 - val_fn: 59.0000 - val_accuracy: 0.9752 - val_auc: 0.8538\n",
      "Epoch 40/150\n",
      "29/28 [==============================] - 22s 746ms/step - loss: 0.0546 - tp: 531.0000 - fn: 1.0000 - accuracy: 0.9896 - auc: 0.9995 - val_loss: 0.1115 - val_tp: 23.0000 - val_fn: 59.0000 - val_accuracy: 0.9752 - val_auc: 0.8401\n",
      "Epoch 41/150\n",
      "29/28 [==============================] - 22s 745ms/step - loss: 0.0542 - tp: 530.0000 - fn: 0.0000e+00 - accuracy: 0.9905 - auc: 0.9994 - val_loss: 0.1128 - val_tp: 25.0000 - val_fn: 60.0000 - val_accuracy: 0.9730 - val_auc: 0.8674\n",
      "Epoch 42/150\n",
      "29/28 [==============================] - 22s 751ms/step - loss: 0.0525 - tp: 519.0000 - fn: 0.0000e+00 - accuracy: 0.9902 - auc: 0.9996 - val_loss: 0.1174 - val_tp: 27.0000 - val_fn: 60.0000 - val_accuracy: 0.9729 - val_auc: 0.8414\n",
      "Epoch 43/150\n",
      "29/28 [==============================] - 22s 751ms/step - loss: 0.0512 - tp: 530.0000 - fn: 1.0000 - accuracy: 0.9916 - auc: 0.9996 - val_loss: 0.1166 - val_tp: 22.0000 - val_fn: 65.0000 - val_accuracy: 0.9730 - val_auc: 0.8521\n",
      "Epoch 44/150\n",
      "29/28 [==============================] - 22s 745ms/step - loss: 0.0518 - tp: 529.0000 - fn: 0.0000e+00 - accuracy: 0.9923 - auc: 0.9995 - val_loss: 0.1177 - val_tp: 24.0000 - val_fn: 63.0000 - val_accuracy: 0.9709 - val_auc: 0.8602\n",
      "Epoch 45/150\n",
      "29/28 [==============================] - 22s 752ms/step - loss: 0.0538 - tp: 524.0000 - fn: 2.0000 - accuracy: 0.9912 - auc: 0.9995 - val_loss: 0.1207 - val_tp: 27.0000 - val_fn: 58.0000 - val_accuracy: 0.9697 - val_auc: 0.8861\n",
      "Epoch 46/150\n",
      "29/28 [==============================] - 22s 749ms/step - loss: 0.0516 - tp: 528.0000 - fn: 0.0000e+00 - accuracy: 0.9909 - auc: 0.9996 - val_loss: 0.1161 - val_tp: 24.0000 - val_fn: 63.0000 - val_accuracy: 0.9713 - val_auc: 0.8600\n",
      "Epoch 47/150\n",
      "29/28 [==============================] - 22s 752ms/step - loss: 0.0522 - tp: 528.0000 - fn: 1.0000 - accuracy: 0.9920 - auc: 0.9996 - val_loss: 0.1161 - val_tp: 28.0000 - val_fn: 59.0000 - val_accuracy: 0.9729 - val_auc: 0.8398\n",
      "Epoch 48/150\n",
      "29/28 [==============================] - 22s 752ms/step - loss: 0.0515 - tp: 531.0000 - fn: 0.0000e+00 - accuracy: 0.9923 - auc: 0.9996 - val_loss: 0.1221 - val_tp: 28.0000 - val_fn: 57.0000 - val_accuracy: 0.9723 - val_auc: 0.8681\n",
      "Epoch 49/150\n",
      "29/28 [==============================] - 22s 754ms/step - loss: 0.0505 - tp: 524.0000 - fn: 0.0000e+00 - accuracy: 0.9911 - auc: 0.9997 - val_loss: 0.1138 - val_tp: 24.0000 - val_fn: 64.0000 - val_accuracy: 0.9709 - val_auc: 0.8627\n",
      "Epoch 50/150\n",
      "29/28 [==============================] - 22s 757ms/step - loss: 0.0501 - tp: 530.0000 - fn: 0.0000e+00 - accuracy: 0.9922 - auc: 0.9997 - val_loss: 0.1119 - val_tp: 27.0000 - val_fn: 57.0000 - val_accuracy: 0.9750 - val_auc: 0.8600\n",
      "Epoch 51/150\n",
      "29/28 [==============================] - 22s 754ms/step - loss: 0.0502 - tp: 529.0000 - fn: 0.0000e+00 - accuracy: 0.9930 - auc: 0.9997 - val_loss: 0.1169 - val_tp: 26.0000 - val_fn: 57.0000 - val_accuracy: 0.9730 - val_auc: 0.8479\n",
      "Epoch 52/150\n",
      "29/28 [==============================] - 22s 743ms/step - loss: 0.0504 - tp: 525.0000 - fn: 1.0000 - accuracy: 0.9922 - auc: 0.9996 - val_loss: 0.1221 - val_tp: 24.0000 - val_fn: 63.0000 - val_accuracy: 0.9730 - val_auc: 0.8487\n",
      "Epoch 53/150\n",
      "29/28 [==============================] - 22s 749ms/step - loss: 0.0494 - tp: 536.0000 - fn: 0.0000e+00 - accuracy: 0.9925 - auc: 0.9997 - val_loss: 0.1203 - val_tp: 29.0000 - val_fn: 59.0000 - val_accuracy: 0.9707 - val_auc: 0.8578\n",
      "Epoch 54/150\n",
      "29/28 [==============================] - 22s 748ms/step - loss: 0.0478 - tp: 529.0000 - fn: 0.0000e+00 - accuracy: 0.9933 - auc: 0.9998 - val_loss: 0.1161 - val_tp: 24.0000 - val_fn: 62.0000 - val_accuracy: 0.9736 - val_auc: 0.8491\n",
      "Epoch 55/150\n",
      "29/28 [==============================] - 22s 747ms/step - loss: 0.0485 - tp: 527.0000 - fn: 0.0000e+00 - accuracy: 0.9934 - auc: 0.9996 - val_loss: 0.1096 - val_tp: 26.0000 - val_fn: 59.0000 - val_accuracy: 0.9756 - val_auc: 0.8542\n",
      "Epoch 56/150\n",
      "29/28 [==============================] - 22s 745ms/step - loss: 0.0492 - tp: 527.0000 - fn: 0.0000e+00 - accuracy: 0.9930 - auc: 0.9996 - val_loss: 0.1213 - val_tp: 23.0000 - val_fn: 61.0000 - val_accuracy: 0.9732 - val_auc: 0.8639\n",
      "Epoch 57/150\n",
      "29/28 [==============================] - 22s 752ms/step - loss: 0.0488 - tp: 525.0000 - fn: 0.0000e+00 - accuracy: 0.9929 - auc: 0.9996 - val_loss: 0.1257 - val_tp: 23.0000 - val_fn: 62.0000 - val_accuracy: 0.9699 - val_auc: 0.8578\n",
      "Epoch 58/150\n",
      "29/28 [==============================] - 21s 738ms/step - loss: 0.0482 - tp: 522.0000 - fn: 0.0000e+00 - accuracy: 0.9929 - auc: 0.9997 - val_loss: 0.1202 - val_tp: 22.0000 - val_fn: 64.0000 - val_accuracy: 0.9723 - val_auc: 0.8500\n",
      "Epoch 59/150\n",
      "29/28 [==============================] - 26s 885ms/step - loss: 0.0487 - tp: 531.0000 - fn: 0.0000e+00 - accuracy: 0.9930 - auc: 0.9997 - val_loss: 0.1140 - val_tp: 26.0000 - val_fn: 56.0000 - val_accuracy: 0.9771 - val_auc: 0.8460\n"
     ]
    }
   ],
   "source": [
    "early_stopping = tf.keras.callbacks.EarlyStopping(monitor='val_auc', #val_auc\n",
    "                                patience=35,\n",
    "                                mode='max',\n",
    "                                restore_best_weights=True)\n",
    "lr_schedule = tf.keras.callbacks.LearningRateScheduler(lr_schedule_fn)\n",
    "\n",
    "\n",
    "history = model.fit(\n",
    "    train_ds,\n",
    "#     batch_size=params['batch_size'],\n",
    "    epochs= params['epochs'], \n",
    "    steps_per_epoch=epoch_steps,\n",
    "    validation_data=valid_ds,\n",
    "    validation_steps=valid_steps,\n",
    "    class_weight=class_weights,\n",
    "    callbacks=[early_stopping, lr_schedule]\n",
    ")\n",
    "\n"
   ]
  },
  {
   "cell_type": "code",
   "execution_count": 27,
   "metadata": {
    "colab": {
     "base_uri": "https://localhost:8080/",
     "height": 139
    },
    "colab_type": "code",
    "execution": {
     "iopub.execute_input": "2020-08-10T07:26:17.988752Z",
     "iopub.status.busy": "2020-08-10T07:26:17.987551Z",
     "iopub.status.idle": "2020-08-10T07:27:05.467405Z",
     "shell.execute_reply": "2020-08-10T07:27:05.466555Z"
    },
    "id": "eA4PkEzsLMgM",
    "outputId": "decaa3a9-f6d8-485d-fd7e-a94d80b7bc2d",
    "papermill": {
     "duration": 48.044916,
     "end_time": "2020-08-10T07:27:05.467551",
     "exception": false,
     "start_time": "2020-08-10T07:26:17.422635",
     "status": "completed"
    },
    "tags": []
   },
   "outputs": [
    {
     "name": "stdout",
     "output_type": "stream",
     "text": [
      "WARNING:tensorflow:From /usr/local/lib/python3.6/dist-packages/tensorflow/python/data/ops/multi_device_iterator_ops.py:601: get_next_as_optional (from tensorflow.python.data.ops.iterator_ops) is deprecated and will be removed in a future version.\n",
      "Instructions for updating:\n",
      "Use `tf.data.Iterator.get_next_as_optional()` instead.\n"
     ]
    },
    {
     "name": "stderr",
     "output_type": "stream",
     "text": [
      "WARNING:tensorflow:From /usr/local/lib/python3.6/dist-packages/tensorflow/python/data/ops/multi_device_iterator_ops.py:601: get_next_as_optional (from tensorflow.python.data.ops.iterator_ops) is deprecated and will be removed in a future version.\n",
      "Instructions for updating:\n",
      "Use `tf.data.Iterator.get_next_as_optional()` instead.\n"
     ]
    }
   ],
   "source": [
    "predictions = model.predict(test_ds.map(lambda img, igs: img), steps=test_steps)  "
   ]
  },
  {
   "cell_type": "code",
   "execution_count": 28,
   "metadata": {
    "colab": {
     "base_uri": "https://localhost:8080/",
     "height": 445
    },
    "colab_type": "code",
    "execution": {
     "iopub.execute_input": "2020-08-10T07:27:06.572095Z",
     "iopub.status.busy": "2020-08-10T07:27:06.571043Z",
     "iopub.status.idle": "2020-08-10T07:27:10.897767Z",
     "shell.execute_reply": "2020-08-10T07:27:10.896877Z"
    },
    "id": "1U9IhzWcLMgN",
    "outputId": "8403c7ea-f8ab-49ce-f470-9a35f269d094",
    "papermill": {
     "duration": 4.884037,
     "end_time": "2020-08-10T07:27:10.897906",
     "exception": false,
     "start_time": "2020-08-10T07:27:06.013869",
     "status": "completed"
    },
    "tags": []
   },
   "outputs": [
    {
     "name": "stdout",
     "output_type": "stream",
     "text": [
      "WARNING:tensorflow:AutoGraph could not transform <function <lambda> at 0x7f61ebac00d0> and will run it as-is.\n",
      "Cause: could not parse the source code:\n",
      "\n",
      "                          map(lambda img, ids:ids).\n",
      "\n",
      "This error may be avoided by creating the lambda in a standalone statement.\n",
      "\n",
      "To silence this warning, decorate the function with @tf.autograph.experimental.do_not_convert\n"
     ]
    },
    {
     "name": "stderr",
     "output_type": "stream",
     "text": [
      "WARNING:tensorflow:AutoGraph could not transform <function <lambda> at 0x7f61ebac00d0> and will run it as-is.\n",
      "Cause: could not parse the source code:\n",
      "\n",
      "                          map(lambda img, ids:ids).\n",
      "\n",
      "This error may be avoided by creating the lambda in a standalone statement.\n",
      "\n",
      "To silence this warning, decorate the function with @tf.autograph.experimental.do_not_convert\n"
     ]
    },
    {
     "name": "stdout",
     "output_type": "stream",
     "text": [
      "WARNING: AutoGraph could not transform <function <lambda> at 0x7f61ebac00d0> and will run it as-is.\n",
      "Cause: could not parse the source code:\n",
      "\n",
      "                          map(lambda img, ids:ids).\n",
      "\n",
      "This error may be avoided by creating the lambda in a standalone statement.\n",
      "\n",
      "To silence this warning, decorate the function with @tf.autograph.experimental.do_not_convert\n"
     ]
    }
   ],
   "source": [
    "prediction_ids = next(iter(test_ds.\n",
    "                          map(lambda img, ids:ids).\n",
    "                          unbatch().\n",
    "                          batch(test_size))).numpy().astype('str')"
   ]
  },
  {
   "cell_type": "code",
   "execution_count": 29,
   "metadata": {
    "colab": {},
    "colab_type": "code",
    "execution": {
     "iopub.execute_input": "2020-08-10T07:27:12.128064Z",
     "iopub.status.busy": "2020-08-10T07:27:12.127208Z",
     "iopub.status.idle": "2020-08-10T07:27:12.142643Z",
     "shell.execute_reply": "2020-08-10T07:27:12.141837Z"
    },
    "id": "kQ7UGn3vLMgO",
    "papermill": {
     "duration": 0.574152,
     "end_time": "2020-08-10T07:27:12.142772",
     "exception": false,
     "start_time": "2020-08-10T07:27:11.568620",
     "status": "completed"
    },
    "tags": []
   },
   "outputs": [],
   "source": [
    "prediction_dict = {\n",
    "    'image_name': prediction_ids,\n",
    "    'target': np.concatenate(predictions)\n",
    "}\n",
    "submission_ds = pd.DataFrame(prediction_dict)"
   ]
  },
  {
   "cell_type": "code",
   "execution_count": 30,
   "metadata": {
    "colab": {
     "base_uri": "https://localhost:8080/",
     "height": 204
    },
    "colab_type": "code",
    "execution": {
     "iopub.execute_input": "2020-08-10T07:27:13.356629Z",
     "iopub.status.busy": "2020-08-10T07:27:13.355341Z",
     "iopub.status.idle": "2020-08-10T07:27:13.360912Z",
     "shell.execute_reply": "2020-08-10T07:27:13.360045Z"
    },
    "id": "1A4o3bZ4LMgP",
    "outputId": "a85dc9d6-02ac-4b2c-c830-cb9fdd738d47",
    "papermill": {
     "duration": 0.660873,
     "end_time": "2020-08-10T07:27:13.361076",
     "exception": false,
     "start_time": "2020-08-10T07:27:12.700203",
     "status": "completed"
    },
    "tags": []
   },
   "outputs": [
    {
     "data": {
      "text/html": [
       "<div>\n",
       "<style scoped>\n",
       "    .dataframe tbody tr th:only-of-type {\n",
       "        vertical-align: middle;\n",
       "    }\n",
       "\n",
       "    .dataframe tbody tr th {\n",
       "        vertical-align: top;\n",
       "    }\n",
       "\n",
       "    .dataframe thead th {\n",
       "        text-align: right;\n",
       "    }\n",
       "</style>\n",
       "<table border=\"1\" class=\"dataframe\">\n",
       "  <thead>\n",
       "    <tr style=\"text-align: right;\">\n",
       "      <th></th>\n",
       "      <th>image_name</th>\n",
       "      <th>target</th>\n",
       "    </tr>\n",
       "  </thead>\n",
       "  <tbody>\n",
       "    <tr>\n",
       "      <th>0</th>\n",
       "      <td>ISIC_6381819</td>\n",
       "      <td>0.873947</td>\n",
       "    </tr>\n",
       "    <tr>\n",
       "      <th>1</th>\n",
       "      <td>ISIC_5583376</td>\n",
       "      <td>0.042837</td>\n",
       "    </tr>\n",
       "    <tr>\n",
       "      <th>2</th>\n",
       "      <td>ISIC_6408546</td>\n",
       "      <td>0.002236</td>\n",
       "    </tr>\n",
       "    <tr>\n",
       "      <th>3</th>\n",
       "      <td>ISIC_6932354</td>\n",
       "      <td>0.356838</td>\n",
       "    </tr>\n",
       "    <tr>\n",
       "      <th>4</th>\n",
       "      <td>ISIC_8191278</td>\n",
       "      <td>0.004068</td>\n",
       "    </tr>\n",
       "  </tbody>\n",
       "</table>\n",
       "</div>"
      ],
      "text/plain": [
       "     image_name    target\n",
       "0  ISIC_6381819  0.873947\n",
       "1  ISIC_5583376  0.042837\n",
       "2  ISIC_6408546  0.002236\n",
       "3  ISIC_6932354  0.356838\n",
       "4  ISIC_8191278  0.004068"
      ]
     },
     "execution_count": 30,
     "metadata": {
      "tags": []
     },
     "output_type": "execute_result"
    }
   ],
   "source": [
    "submission_ds.head()"
   ]
  },
  {
   "cell_type": "code",
   "execution_count": 31,
   "metadata": {
    "colab": {},
    "colab_type": "code",
    "execution": {
     "iopub.execute_input": "2020-08-10T07:27:14.495784Z",
     "iopub.status.busy": "2020-08-10T07:27:14.494636Z",
     "iopub.status.idle": "2020-08-10T07:27:14.562995Z",
     "shell.execute_reply": "2020-08-10T07:27:14.562184Z"
    },
    "id": "KcsPat4yLMgQ",
    "papermill": {
     "duration": 0.640161,
     "end_time": "2020-08-10T07:27:14.563171",
     "exception": false,
     "start_time": "2020-08-10T07:27:13.923010",
     "status": "completed"
    },
    "tags": []
   },
   "outputs": [],
   "source": [
    "submission_ds.to_csv('submission.csv', index=False)"
   ]
  },
  {
   "cell_type": "markdown",
   "metadata": {
    "colab_type": "text",
    "id": "ubGSnZkvLMgR",
    "papermill": {
     "duration": 0.560236,
     "end_time": "2020-08-10T07:27:15.750840",
     "exception": false,
     "start_time": "2020-08-10T07:27:15.190604",
     "status": "completed"
    },
    "tags": []
   },
   "source": [
    "# Metrics"
   ]
  },
  {
   "cell_type": "code",
   "execution_count": 32,
   "metadata": {
    "colab": {},
    "colab_type": "code",
    "execution": {
     "iopub.execute_input": "2020-08-10T07:27:16.938779Z",
     "iopub.status.busy": "2020-08-10T07:27:16.937645Z",
     "iopub.status.idle": "2020-08-10T07:27:16.940763Z",
     "shell.execute_reply": "2020-08-10T07:27:16.941337Z"
    },
    "id": "UxBeXMGxLMgR",
    "papermill": {
     "duration": 0.629839,
     "end_time": "2020-08-10T07:27:16.941507",
     "exception": false,
     "start_time": "2020-08-10T07:27:16.311668",
     "status": "completed"
    },
    "tags": []
   },
   "outputs": [],
   "source": [
    "def plot_metric(metric1, metric2, ylabel):\n",
    "    plt.plot(history.history[metric1], label=metric1)\n",
    "    plt.plot(history.history[metric2], label=metric2)\n",
    "    plt.ylabel(ylabel)\n",
    "    plt.xlabel('epoch')\n",
    "    plt.legend()\n",
    "    plt.show()"
   ]
  },
  {
   "cell_type": "code",
   "execution_count": 33,
   "metadata": {
    "colab": {
     "base_uri": "https://localhost:8080/",
     "height": 803
    },
    "colab_type": "code",
    "execution": {
     "iopub.execute_input": "2020-08-10T07:27:18.076192Z",
     "iopub.status.busy": "2020-08-10T07:27:18.075358Z",
     "iopub.status.idle": "2020-08-10T07:27:18.785477Z",
     "shell.execute_reply": "2020-08-10T07:27:18.784625Z"
    },
    "id": "eMIClAMiLMgS",
    "outputId": "3b6ed78f-4f97-43da-ff64-f693aa279075",
    "papermill": {
     "duration": 1.275459,
     "end_time": "2020-08-10T07:27:18.785617",
     "exception": false,
     "start_time": "2020-08-10T07:27:17.510158",
     "status": "completed"
    },
    "tags": []
   },
   "outputs": [
    {
     "data": {
      "image/png": "[encoded data removed]",
      "text/plain": [
       "<Figure size 432x288 with 1 Axes>"
      ]
     },
     "metadata": {
      "needs_background": "light",
      "tags": []
     },
     "output_type": "display_data"
    },
    {
     "data": {
      "image/png": "[encoded data removed]",
      "text/plain": [
       "<Figure size 432x288 with 1 Axes>"
      ]
     },
     "metadata": {
      "needs_background": "light",
      "tags": []
     },
     "output_type": "display_data"
    },
    {
     "data": {
      "image/png": "[encoded data removed]",
      "text/plain": [
       "<Figure size 432x288 with 1 Axes>"
      ]
     },
     "metadata": {
      "needs_background": "light",
      "tags": []
     },
     "output_type": "display_data"
    }
   ],
   "source": [
    "plot_metric('auc', 'val_auc', 'auc')\n",
    "plot_metric('loss', 'val_loss', 'loss')\n",
    "plot_metric('accuracy', 'val_accuracy', 'accuracy')"
   ]
  },
  {
   "cell_type": "code",
   "execution_count": 34,
   "metadata": {
    "colab": {
     "base_uri": "https://localhost:8080/",
     "height": 1000
    },
    "colab_type": "code",
    "execution": {
     "iopub.execute_input": "2020-08-10T07:27:20.013676Z",
     "iopub.status.busy": "2020-08-10T07:27:19.987689Z",
     "iopub.status.idle": "2020-08-10T07:27:20.026708Z",
     "shell.execute_reply": "2020-08-10T07:27:20.027321Z"
    },
    "id": "5Q8vZ-fALMgS",
    "outputId": "2854dbfa-0304-4c0f-8d7d-d9e9b7477163",
    "papermill": {
     "duration": 0.603291,
     "end_time": "2020-08-10T07:27:20.027521",
     "exception": false,
     "start_time": "2020-08-10T07:27:19.424230",
     "status": "completed"
    },
    "tags": []
   },
   "outputs": [
    {
     "data": {
      "text/plain": [
       "{'accuracy': [0.9352437853813171,\n",
       "  0.8981680870056152,\n",
       "  0.8513267636299133,\n",
       "  0.8053609728813171,\n",
       "  0.763671875,\n",
       "  0.7321524620056152,\n",
       "  0.7101293206214905,\n",
       "  0.702788233757019,\n",
       "  0.6978043913841248,\n",
       "  0.6941002011299133,\n",
       "  0.7180765271186829,\n",
       "  0.7375067472457886,\n",
       "  0.775390625,\n",
       "  0.8061691522598267,\n",
       "  0.8383957147598267,\n",
       "  0.8485317826271057,\n",
       "  0.8579606413841248,\n",
       "  0.8823747038841248,\n",
       "  0.8991783261299133,\n",
       "  0.892207682132721,\n",
       "  0.907563328742981,\n",
       "  0.9261853694915771,\n",
       "  0.9297885298728943,\n",
       "  0.9386786222457886,\n",
       "  0.9505994319915771,\n",
       "  0.9557515978813171,\n",
       "  0.9595568180084229,\n",
       "  0.9657529592514038,\n",
       "  0.968143880367279,\n",
       "  0.9728919863700867,\n",
       "  0.9748114347457886,\n",
       "  0.9776400923728943,\n",
       "  0.9807381629943848,\n",
       "  0.9848800897598267,\n",
       "  0.9864291548728943,\n",
       "  0.9870015978813171,\n",
       "  0.9878771305084229,\n",
       "  0.9872036576271057,\n",
       "  0.9903690814971924,\n",
       "  0.989594578742981,\n",
       "  0.9905037879943848,\n",
       "  0.990234375,\n",
       "  0.991581380367279,\n",
       "  0.9922548532485962,\n",
       "  0.9912109375,\n",
       "  0.9909078478813171,\n",
       "  0.9919517636299133,\n",
       "  0.9922548532485962,\n",
       "  0.9910762310028076,\n",
       "  0.9921538233757019,\n",
       "  0.9929620027542114,\n",
       "  0.9922211766242981,\n",
       "  0.9924569129943848,\n",
       "  0.9932650923728943,\n",
       "  0.9934334754943848,\n",
       "  0.9929956793785095,\n",
       "  0.9928609728813171,\n",
       "  0.9929283261299133,\n",
       "  0.9930293560028076],\n",
       " 'auc': [0.57356196641922,\n",
       "  0.6327027082443237,\n",
       "  0.6555544137954712,\n",
       "  0.6807308793067932,\n",
       "  0.7078806757926941,\n",
       "  0.722899854183197,\n",
       "  0.7484153509140015,\n",
       "  0.7613467574119568,\n",
       "  0.7675794959068298,\n",
       "  0.7759376764297485,\n",
       "  0.8159242272377014,\n",
       "  0.8591353893280029,\n",
       "  0.8968521952629089,\n",
       "  0.9137769341468811,\n",
       "  0.9405189156532288,\n",
       "  0.9453967809677124,\n",
       "  0.9508848190307617,\n",
       "  0.9646434783935547,\n",
       "  0.970232367515564,\n",
       "  0.9691712260246277,\n",
       "  0.9790500402450562,\n",
       "  0.9853335618972778,\n",
       "  0.9861375689506531,\n",
       "  0.9889200925827026,\n",
       "  0.9932306408882141,\n",
       "  0.993114709854126,\n",
       "  0.9949504137039185,\n",
       "  0.995551586151123,\n",
       "  0.9964299201965332,\n",
       "  0.9975880980491638,\n",
       "  0.9975235462188721,\n",
       "  0.9982105493545532,\n",
       "  0.9986060857772827,\n",
       "  0.9988093972206116,\n",
       "  0.9990309476852417,\n",
       "  0.9993364810943604,\n",
       "  0.9993534684181213,\n",
       "  0.9992429614067078,\n",
       "  0.9994428753852844,\n",
       "  0.9995366334915161,\n",
       "  0.9994287490844727,\n",
       "  0.999636173248291,\n",
       "  0.9996432662010193,\n",
       "  0.9994869232177734,\n",
       "  0.9994946122169495,\n",
       "  0.9995755553245544,\n",
       "  0.9996389746665955,\n",
       "  0.9996447563171387,\n",
       "  0.9996869564056396,\n",
       "  0.9996850490570068,\n",
       "  0.9996514916419983,\n",
       "  0.9995843768119812,\n",
       "  0.9997154474258423,\n",
       "  0.9997685551643372,\n",
       "  0.9996349811553955,\n",
       "  0.999629557132721,\n",
       "  0.999626636505127,\n",
       "  0.9997014403343201,\n",
       "  0.9997098445892334],\n",
       " 'fn': [463.0,\n",
       "  434.0,\n",
       "  379.0,\n",
       "  329.0,\n",
       "  269.0,\n",
       "  220.0,\n",
       "  188.0,\n",
       "  177.0,\n",
       "  161.0,\n",
       "  154.0,\n",
       "  119.0,\n",
       "  98.0,\n",
       "  77.0,\n",
       "  70.0,\n",
       "  44.0,\n",
       "  56.0,\n",
       "  48.0,\n",
       "  37.0,\n",
       "  29.0,\n",
       "  33.0,\n",
       "  23.0,\n",
       "  18.0,\n",
       "  18.0,\n",
       "  15.0,\n",
       "  7.0,\n",
       "  9.0,\n",
       "  8.0,\n",
       "  8.0,\n",
       "  8.0,\n",
       "  5.0,\n",
       "  4.0,\n",
       "  3.0,\n",
       "  1.0,\n",
       "  1.0,\n",
       "  2.0,\n",
       "  1.0,\n",
       "  1.0,\n",
       "  2.0,\n",
       "  0.0,\n",
       "  1.0,\n",
       "  0.0,\n",
       "  0.0,\n",
       "  1.0,\n",
       "  0.0,\n",
       "  2.0,\n",
       "  0.0,\n",
       "  1.0,\n",
       "  0.0,\n",
       "  0.0,\n",
       "  0.0,\n",
       "  0.0,\n",
       "  1.0,\n",
       "  0.0,\n",
       "  0.0,\n",
       "  0.0,\n",
       "  0.0,\n",
       "  0.0,\n",
       "  0.0,\n",
       "  0.0],\n",
       " 'loss': [1.0911086797714233,\n",
       "  0.9024794101715088,\n",
       "  0.8203005790710449,\n",
       "  0.7362220287322998,\n",
       "  0.6795262694358826,\n",
       "  0.6485139727592468,\n",
       "  0.6151409149169922,\n",
       "  0.6043140888214111,\n",
       "  0.596156656742096,\n",
       "  0.5865987539291382,\n",
       "  0.5990551710128784,\n",
       "  0.4728119671344757,\n",
       "  0.40801507234573364,\n",
       "  0.3746839165687561,\n",
       "  0.3138650059700012,\n",
       "  0.3013001084327698,\n",
       "  0.28837382793426514,\n",
       "  0.24500320851802826,\n",
       "  0.23016999661922455,\n",
       "  0.23294958472251892,\n",
       "  0.1947154402732849,\n",
       "  0.16501855850219727,\n",
       "  0.16258156299591064,\n",
       "  0.1474204808473587,\n",
       "  0.1200580894947052,\n",
       "  0.12045424431562424,\n",
       "  0.10814819484949112,\n",
       "  0.10385762155056,\n",
       "  0.09266596287488937,\n",
       "  0.08324829488992691,\n",
       "  0.08377671986818314,\n",
       "  0.07547228783369064,\n",
       "  0.06992005556821823,\n",
       "  0.06507226824760437,\n",
       "  0.062283534556627274,\n",
       "  0.059249985963106155,\n",
       "  0.058183956891298294,\n",
       "  0.05836665257811546,\n",
       "  0.05439721420407295,\n",
       "  0.054638709872961044,\n",
       "  0.054233551025390625,\n",
       "  0.05252204090356827,\n",
       "  0.05118574574589729,\n",
       "  0.0518367737531662,\n",
       "  0.05379815772175789,\n",
       "  0.05155858397483826,\n",
       "  0.052204959094524384,\n",
       "  0.05151277035474777,\n",
       "  0.05052982270717621,\n",
       "  0.05006004124879837,\n",
       "  0.05022190511226654,\n",
       "  0.05039595812559128,\n",
       "  0.049444664269685745,\n",
       "  0.04781791940331459,\n",
       "  0.04848214611411095,\n",
       "  0.049193158745765686,\n",
       "  0.04879278689622879,\n",
       "  0.048248693346977234,\n",
       "  0.0487353540956974],\n",
       " 'lr': [1e-06,\n",
       "  1e-06,\n",
       "  1e-06,\n",
       "  1e-06,\n",
       "  1e-06,\n",
       "  1e-06,\n",
       "  1e-06,\n",
       "  1e-06,\n",
       "  1e-06,\n",
       "  1e-06,\n",
       "  0.001,\n",
       "  0.001,\n",
       "  0.00075,\n",
       "  0.00075,\n",
       "  0.0005625,\n",
       "  0.0005625,\n",
       "  0.00042187498,\n",
       "  0.00042187498,\n",
       "  0.00031640625,\n",
       "  0.00031640625,\n",
       "  0.00023730469,\n",
       "  0.00023730469,\n",
       "  0.00017797851,\n",
       "  0.00017797851,\n",
       "  0.00013348387,\n",
       "  0.00013348387,\n",
       "  0.000100112906,\n",
       "  0.000100112906,\n",
       "  7.508468e-05,\n",
       "  7.508468e-05,\n",
       "  5.631351e-05,\n",
       "  5.631351e-05,\n",
       "  4.2235133e-05,\n",
       "  4.2235133e-05,\n",
       "  3.167635e-05,\n",
       "  3.167635e-05,\n",
       "  2.3757264e-05,\n",
       "  2.3757264e-05,\n",
       "  1.7817947e-05,\n",
       "  1.7817947e-05,\n",
       "  1.336346e-05,\n",
       "  1.336346e-05,\n",
       "  1.0022595e-05,\n",
       "  1.0022595e-05,\n",
       "  7.5169464e-06,\n",
       "  7.5169464e-06,\n",
       "  5.63771e-06,\n",
       "  5.63771e-06,\n",
       "  4.2282823e-06,\n",
       "  4.2282823e-06,\n",
       "  4.2282823e-06,\n",
       "  4.2282823e-06,\n",
       "  4.2282823e-06,\n",
       "  4.2282823e-06,\n",
       "  4.2282823e-06,\n",
       "  4.2282823e-06,\n",
       "  4.2282823e-06,\n",
       "  4.2282823e-06,\n",
       "  4.2282823e-06],\n",
       " 'tp': [61.0,\n",
       "  91.0,\n",
       "  152.0,\n",
       "  198.0,\n",
       "  262.0,\n",
       "  300.0,\n",
       "  342.0,\n",
       "  359.0,\n",
       "  364.0,\n",
       "  376.0,\n",
       "  409.0,\n",
       "  434.0,\n",
       "  459.0,\n",
       "  453.0,\n",
       "  488.0,\n",
       "  465.0,\n",
       "  477.0,\n",
       "  490.0,\n",
       "  502.0,\n",
       "  494.0,\n",
       "  501.0,\n",
       "  507.0,\n",
       "  512.0,\n",
       "  519.0,\n",
       "  512.0,\n",
       "  522.0,\n",
       "  517.0,\n",
       "  524.0,\n",
       "  518.0,\n",
       "  519.0,\n",
       "  521.0,\n",
       "  529.0,\n",
       "  531.0,\n",
       "  525.0,\n",
       "  530.0,\n",
       "  528.0,\n",
       "  520.0,\n",
       "  526.0,\n",
       "  519.0,\n",
       "  531.0,\n",
       "  530.0,\n",
       "  519.0,\n",
       "  530.0,\n",
       "  529.0,\n",
       "  524.0,\n",
       "  528.0,\n",
       "  528.0,\n",
       "  531.0,\n",
       "  524.0,\n",
       "  530.0,\n",
       "  529.0,\n",
       "  525.0,\n",
       "  536.0,\n",
       "  529.0,\n",
       "  527.0,\n",
       "  527.0,\n",
       "  525.0,\n",
       "  522.0,\n",
       "  531.0],\n",
       " 'val_accuracy': [0.9833984375,\n",
       "  0.9810547232627869,\n",
       "  0.973437488079071,\n",
       "  0.9615234732627869,\n",
       "  0.938671886920929,\n",
       "  0.911914050579071,\n",
       "  0.8896484375,\n",
       "  0.856249988079071,\n",
       "  0.828125,\n",
       "  0.8052734732627869,\n",
       "  0.981640636920929,\n",
       "  0.6507812738418579,\n",
       "  0.5572265982627869,\n",
       "  0.568359375,\n",
       "  0.626171886920929,\n",
       "  0.858593761920929,\n",
       "  0.7318359613418579,\n",
       "  0.8646484613418579,\n",
       "  0.8324218988418579,\n",
       "  0.9019531607627869,\n",
       "  0.9027343988418579,\n",
       "  0.948437511920929,\n",
       "  0.899218738079071,\n",
       "  0.920117199420929,\n",
       "  0.9527344107627869,\n",
       "  0.9271484613418579,\n",
       "  0.942578136920929,\n",
       "  0.9496093988418579,\n",
       "  0.957226574420929,\n",
       "  0.9632812738418579,\n",
       "  0.967968761920929,\n",
       "  0.971875011920929,\n",
       "  0.9722656607627869,\n",
       "  0.9697265625,\n",
       "  0.9697265625,\n",
       "  0.971875011920929,\n",
       "  0.9712890982627869,\n",
       "  0.9740234613418579,\n",
       "  0.9751953482627869,\n",
       "  0.9751953482627869,\n",
       "  0.9730468988418579,\n",
       "  0.972851574420929,\n",
       "  0.9730468988418579,\n",
       "  0.970898449420929,\n",
       "  0.9697265625,\n",
       "  0.9712890982627869,\n",
       "  0.972851574420929,\n",
       "  0.9722656607627869,\n",
       "  0.970898449420929,\n",
       "  0.9750000238418579,\n",
       "  0.9730468988418579,\n",
       "  0.9730468988418579,\n",
       "  0.970703125,\n",
       "  0.9736328125,\n",
       "  0.9755859375,\n",
       "  0.9732422232627869,\n",
       "  0.969921886920929,\n",
       "  0.9722656607627869,\n",
       "  0.9771484732627869],\n",
       " 'val_auc': [0.5592957139015198,\n",
       "  0.5738688707351685,\n",
       "  0.5704176425933838,\n",
       "  0.5880903005599976,\n",
       "  0.6463428139686584,\n",
       "  0.7080698013305664,\n",
       "  0.711609959602356,\n",
       "  0.7129992842674255,\n",
       "  0.7321791052818298,\n",
       "  0.7404232621192932,\n",
       "  0.5112059116363525,\n",
       "  0.8051207065582275,\n",
       "  0.8019417524337769,\n",
       "  0.84491366147995,\n",
       "  0.8570082187652588,\n",
       "  0.8567221164703369,\n",
       "  0.8882770538330078,\n",
       "  0.8943760395050049,\n",
       "  0.8902737498283386,\n",
       "  0.8666857481002808,\n",
       "  0.9050248861312866,\n",
       "  0.9110845923423767,\n",
       "  0.9120733737945557,\n",
       "  0.9194521307945251,\n",
       "  0.9078730344772339,\n",
       "  0.888948917388916,\n",
       "  0.9043971300125122,\n",
       "  0.8982575535774231,\n",
       "  0.8912329077720642,\n",
       "  0.8925296664237976,\n",
       "  0.8897470235824585,\n",
       "  0.875487744808197,\n",
       "  0.8769600987434387,\n",
       "  0.872342586517334,\n",
       "  0.879935085773468,\n",
       "  0.8813095092773438,\n",
       "  0.8790797591209412,\n",
       "  0.879017174243927,\n",
       "  0.8537788391113281,\n",
       "  0.8401491045951843,\n",
       "  0.8673685789108276,\n",
       "  0.8414373397827148,\n",
       "  0.8521254062652588,\n",
       "  0.8602317571640015,\n",
       "  0.8861265182495117,\n",
       "  0.8600365519523621,\n",
       "  0.839826226234436,\n",
       "  0.8680576086044312,\n",
       "  0.8627285957336426,\n",
       "  0.8599970936775208,\n",
       "  0.847927451133728,\n",
       "  0.8486735820770264,\n",
       "  0.8577588200569153,\n",
       "  0.8491154313087463,\n",
       "  0.8542331457138062,\n",
       "  0.8638668060302734,\n",
       "  0.8577733635902405,\n",
       "  0.8499735593795776,\n",
       "  0.8460238575935364],\n",
       " 'val_fn': [85.0,\n",
       "  87.0,\n",
       "  87.0,\n",
       "  76.0,\n",
       "  73.0,\n",
       "  64.0,\n",
       "  57.0,\n",
       "  55.0,\n",
       "  53.0,\n",
       "  44.0,\n",
       "  84.0,\n",
       "  19.0,\n",
       "  8.0,\n",
       "  6.0,\n",
       "  10.0,\n",
       "  40.0,\n",
       "  6.0,\n",
       "  25.0,\n",
       "  16.0,\n",
       "  42.0,\n",
       "  33.0,\n",
       "  45.0,\n",
       "  28.0,\n",
       "  29.0,\n",
       "  41.0,\n",
       "  39.0,\n",
       "  38.0,\n",
       "  35.0,\n",
       "  47.0,\n",
       "  45.0,\n",
       "  52.0,\n",
       "  55.0,\n",
       "  53.0,\n",
       "  58.0,\n",
       "  58.0,\n",
       "  57.0,\n",
       "  60.0,\n",
       "  62.0,\n",
       "  59.0,\n",
       "  59.0,\n",
       "  60.0,\n",
       "  60.0,\n",
       "  65.0,\n",
       "  63.0,\n",
       "  58.0,\n",
       "  63.0,\n",
       "  59.0,\n",
       "  57.0,\n",
       "  64.0,\n",
       "  57.0,\n",
       "  57.0,\n",
       "  63.0,\n",
       "  59.0,\n",
       "  62.0,\n",
       "  59.0,\n",
       "  61.0,\n",
       "  62.0,\n",
       "  64.0,\n",
       "  56.0],\n",
       " 'val_loss': [0.15149109065532684,\n",
       "  0.17390403151512146,\n",
       "  0.2111000120639801,\n",
       "  0.24552631378173828,\n",
       "  0.2764459252357483,\n",
       "  0.3045669496059418,\n",
       "  0.3373320698738098,\n",
       "  0.37297675013542175,\n",
       "  0.4066954553127289,\n",
       "  0.44088393449783325,\n",
       "  0.38802751898765564,\n",
       "  0.7266926169395447,\n",
       "  1.4909290075302124,\n",
       "  1.1893672943115234,\n",
       "  1.021730661392212,\n",
       "  0.3765261769294739,\n",
       "  0.7066012620925903,\n",
       "  0.3353757858276367,\n",
       "  0.41468459367752075,\n",
       "  0.24204134941101074,\n",
       "  0.24279795587062836,\n",
       "  0.15404297411441803,\n",
       "  0.26119670271873474,\n",
       "  0.21064940094947815,\n",
       "  0.14633378386497498,\n",
       "  0.19727076590061188,\n",
       "  0.1686677783727646,\n",
       "  0.15773068368434906,\n",
       "  0.13670478761196136,\n",
       "  0.12723536789417267,\n",
       "  0.12008235603570938,\n",
       "  0.1105322614312172,\n",
       "  0.11329557746648788,\n",
       "  0.11961553245782852,\n",
       "  0.11535648256540298,\n",
       "  0.11299245804548264,\n",
       "  0.11459808796644211,\n",
       "  0.11196251958608627,\n",
       "  0.11260240525007248,\n",
       "  0.11154510080814362,\n",
       "  0.11283997446298599,\n",
       "  0.11742293834686279,\n",
       "  0.11664877086877823,\n",
       "  0.11766073852777481,\n",
       "  0.12066838890314102,\n",
       "  0.11607855558395386,\n",
       "  0.11605402082204819,\n",
       "  0.12210772186517715,\n",
       "  0.11376072466373444,\n",
       "  0.11186064779758453,\n",
       "  0.11686182022094727,\n",
       "  0.12213893979787827,\n",
       "  0.12030582875013351,\n",
       "  0.11609206348657608,\n",
       "  0.10962339490652084,\n",
       "  0.12129818648099899,\n",
       "  0.12574853003025055,\n",
       "  0.12024617195129395,\n",
       "  0.11398688703775406],\n",
       " 'val_tp': [0.0,\n",
       "  0.0,\n",
       "  1.0,\n",
       "  6.0,\n",
       "  11.0,\n",
       "  19.0,\n",
       "  27.0,\n",
       "  31.0,\n",
       "  33.0,\n",
       "  39.0,\n",
       "  1.0,\n",
       "  66.0,\n",
       "  79.0,\n",
       "  79.0,\n",
       "  75.0,\n",
       "  44.0,\n",
       "  78.0,\n",
       "  64.0,\n",
       "  69.0,\n",
       "  45.0,\n",
       "  53.0,\n",
       "  41.0,\n",
       "  59.0,\n",
       "  61.0,\n",
       "  45.0,\n",
       "  48.0,\n",
       "  50.0,\n",
       "  49.0,\n",
       "  37.0,\n",
       "  36.0,\n",
       "  32.0,\n",
       "  28.0,\n",
       "  34.0,\n",
       "  29.0,\n",
       "  29.0,\n",
       "  29.0,\n",
       "  27.0,\n",
       "  26.0,\n",
       "  26.0,\n",
       "  23.0,\n",
       "  25.0,\n",
       "  27.0,\n",
       "  22.0,\n",
       "  24.0,\n",
       "  27.0,\n",
       "  24.0,\n",
       "  28.0,\n",
       "  28.0,\n",
       "  24.0,\n",
       "  27.0,\n",
       "  26.0,\n",
       "  24.0,\n",
       "  29.0,\n",
       "  24.0,\n",
       "  26.0,\n",
       "  23.0,\n",
       "  23.0,\n",
       "  22.0,\n",
       "  26.0]}"
      ]
     },
     "execution_count": 34,
     "metadata": {
      "tags": []
     },
     "output_type": "execute_result"
    }
   ],
   "source": [
    "history.history"
   ]
  },
  {
   "cell_type": "code",
   "execution_count": 35,
   "metadata": {
    "colab": {},
    "colab_type": "code",
    "execution": {
     "iopub.execute_input": "2020-08-10T07:27:21.261282Z",
     "iopub.status.busy": "2020-08-10T07:27:21.257010Z",
     "iopub.status.idle": "2020-08-10T07:27:22.506785Z",
     "shell.execute_reply": "2020-08-10T07:27:22.505913Z"
    },
    "id": "2LH6uE5yLMgT",
    "papermill": {
     "duration": 1.91359,
     "end_time": "2020-08-10T07:27:22.506968",
     "exception": false,
     "start_time": "2020-08-10T07:27:20.593378",
     "status": "completed"
    },
    "tags": []
   },
   "outputs": [],
   "source": [
    "model.save('model.h5')"
   ]
  },
  {
   "cell_type": "code",
   "execution_count": null,
   "metadata": {
    "colab": {},
    "colab_type": "code",
    "id": "FqS_fPjDLMgj"
   },
   "outputs": [],
   "source": []
  }
 ],
 "metadata": {
  "accelerator": "TPU",
  "colab": {
   "name": "predictions_draft.ipynb",
   "provenance": []
  },
  "kernelspec": {
   "display_name": "Python 3",
   "language": "python",
   "name": "python3"
  },
  "language_info": {
   "codemirror_mode": {
    "name": "ipython",
    "version": 3
   },
   "file_extension": ".py",
   "mimetype": "text/x-python",
   "name": "python",
   "nbconvert_exporter": "python",
   "pygments_lexer": "ipython3",
   "version": "3.7.3"
  },
  "papermill": {
   "duration": 7110.3586,
   "end_time": "2020-08-10T07:27:30.001979",
   "environment_variables": {},
   "exception": null,
   "input_path": "__notebook__.ipynb",
   "output_path": "__notebook__.ipynb",
   "parameters": {},
   "start_time": "2020-08-10T05:28:59.643379",
   "version": "2.1.0"
  }
 },
 "nbformat": 4,
 "nbformat_minor": 1
}
