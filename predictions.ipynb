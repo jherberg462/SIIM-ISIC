{
 "cells": [
  {
   "cell_type": "code",
   "execution_count": null,
   "metadata": {
    "_cell_guid": "b1076dfc-b9ad-4769-8c92-a6c4dae69d19",
    "_uuid": "8f2839f25d086af736a60e9eeb907d3b93b6e0e5",
    "colab": {},
    "colab_type": "code",
    "execution": {
     "iopub.execute_input": "2020-08-10T05:29:05.046274Z",
     "iopub.status.busy": "2020-08-10T05:29:05.045400Z",
     "iopub.status.idle": "2020-08-10T05:29:12.636858Z",
     "shell.execute_reply": "2020-08-10T05:29:12.637518Z"
    },
    "id": "PF6_qaQlLMfX",
    "papermill": {
     "duration": 7.621096,
     "end_time": "2020-08-10T05:29:12.637757",
     "exception": false,
     "start_time": "2020-08-10T05:29:05.016661",
     "status": "completed"
    },
    "tags": []
   },
   "outputs": [],
   "source": [
    "!pip install fsspec --upgrade"
   ]
  },
  {
   "cell_type": "code",
   "execution_count": 1,
   "metadata": {
    "colab": {},
    "colab_type": "code",
    "id": "GS3hpqThLMfd"
   },
   "outputs": [],
   "source": [
    "import numpy as np # linear algebra\n",
    "import pandas as pd # data processing, CSV file I/O (e.g. pd.read_csv)\n",
    "\n",
    "\n",
    "import os\n",
    "\n",
    "import tensorflow as tf\n",
    "from tensorflow.keras import layers \n",
    "from tensorflow import keras\n",
    "import tensorflow_hub as hub\n",
    "from sklearn.model_selection import train_test_split\n",
    "from matplotlib import pyplot as plt\n",
    "\n",
    "try:\n",
    "    from kaggle_datasets import KaggleDatasets\n",
    "    dataset_gcs = KaggleDatasets().get_gcs_path('siim-isic-melanoma-classification')\n",
    "    print('got GCS path via KaggleDatasets .get_gcs_path method')\n",
    "except ModuleNotFoundError:\n",
    "    #hardcode path while testing locally\n",
    "    dataset_gcs = 'gs://'\n"
   ]
  },
  {
   "cell_type": "code",
   "execution_count": 2,
   "metadata": {
    "_cell_guid": "79c7e3d0-c299-4dcb-8224-4455121ee9b0",
    "_uuid": "d629ff2d2480ee46fbb7e2d37f6b5fab8052498a",
    "colab": {
     "base_uri": "https://localhost:8080/",
     "height": 37
    },
    "colab_type": "code",
    "execution": {
     "iopub.execute_input": "2020-08-10T05:29:12.686320Z",
     "iopub.status.busy": "2020-08-10T05:29:12.685158Z",
     "iopub.status.idle": "2020-08-10T05:29:12.690065Z",
     "shell.execute_reply": "2020-08-10T05:29:12.689312Z"
    },
    "id": "5-hPqmwDLMfh",
    "outputId": "0f86acce-25b6-4112-fae6-dc4c8881cff6",
    "papermill": {
     "duration": 0.030991,
     "end_time": "2020-08-10T05:29:12.690195",
     "exception": false,
     "start_time": "2020-08-10T05:29:12.659204",
     "status": "completed"
    },
    "tags": []
   },
   "outputs": [
    {
     "data": {
      "application/vnd.google.colaboratory.intrinsic+json": {
       "type": "string"
      },
      "text/plain": [
       "'2.3.0'"
      ]
     },
     "execution_count": 2,
     "metadata": {
      "tags": []
     },
     "output_type": "execute_result"
    }
   ],
   "source": [
    "tf.__version__\n"
   ]
  },
  {
   "cell_type": "code",
   "execution_count": 3,
   "metadata": {
    "colab": {},
    "colab_type": "code",
    "execution": {
     "iopub.execute_input": "2020-08-10T05:29:12.736349Z",
     "iopub.status.busy": "2020-08-10T05:29:12.735260Z",
     "iopub.status.idle": "2020-08-10T05:29:12.738583Z",
     "shell.execute_reply": "2020-08-10T05:29:12.737845Z"
    },
    "id": "aTNSywU3LMfk",
    "papermill": {
     "duration": 0.028214,
     "end_time": "2020-08-10T05:29:12.738719",
     "exception": false,
     "start_time": "2020-08-10T05:29:12.710505",
     "status": "completed"
    },
    "tags": []
   },
   "outputs": [],
   "source": [
    "params = {\n",
    "    'batch_size' : 128,\n",
    "    'img_size' : [224, 224],\n",
    "    'epochs': 150\n",
    "}\n"
   ]
  },
  {
   "cell_type": "code",
   "execution_count": 4,
   "metadata": {
    "colab": {
     "base_uri": "https://localhost:8080/",
     "height": 768
    },
    "colab_type": "code",
    "execution": {
     "iopub.execute_input": "2020-08-10T05:29:12.890509Z",
     "iopub.status.busy": "2020-08-10T05:29:12.786292Z",
     "iopub.status.idle": "2020-08-10T05:29:17.045160Z",
     "shell.execute_reply": "2020-08-10T05:29:17.044059Z"
    },
    "id": "dQ4ru6rMLMfm",
    "outputId": "cd275c1b-5078-4455-8a1d-ed910e1ad420",
    "papermill": {
     "duration": 4.287003,
     "end_time": "2020-08-10T05:29:17.045350",
     "exception": false,
     "start_time": "2020-08-10T05:29:12.758347",
     "status": "completed"
    },
    "tags": []
   },
   "outputs": [
    {
     "name": "stdout",
     "output_type": "stream",
     "text": [
      "Running on TPU  grpc://10.126.129.58:8470\n",
      "INFO:tensorflow:Initializing the TPU system: grpc://10.126.129.58:8470\n"
     ]
    },
    {
     "name": "stderr",
     "output_type": "stream",
     "text": [
      "INFO:tensorflow:Initializing the TPU system: grpc://10.126.129.58:8470\n"
     ]
    },
    {
     "name": "stdout",
     "output_type": "stream",
     "text": [
      "INFO:tensorflow:Clearing out eager caches\n"
     ]
    },
    {
     "name": "stderr",
     "output_type": "stream",
     "text": [
      "INFO:tensorflow:Clearing out eager caches\n"
     ]
    },
    {
     "name": "stdout",
     "output_type": "stream",
     "text": [
      "INFO:tensorflow:Finished initializing TPU system.\n"
     ]
    },
    {
     "name": "stderr",
     "output_type": "stream",
     "text": [
      "INFO:tensorflow:Finished initializing TPU system.\n",
      "WARNING:absl:`tf.distribute.experimental.TPUStrategy` is deprecated, please use  the non experimental symbol `tf.distribute.TPUStrategy` instead.\n"
     ]
    },
    {
     "name": "stdout",
     "output_type": "stream",
     "text": [
      "INFO:tensorflow:Found TPU system:\n"
     ]
    },
    {
     "name": "stderr",
     "output_type": "stream",
     "text": [
      "INFO:tensorflow:Found TPU system:\n"
     ]
    },
    {
     "name": "stdout",
     "output_type": "stream",
     "text": [
      "INFO:tensorflow:*** Num TPU Cores: 8\n"
     ]
    },
    {
     "name": "stderr",
     "output_type": "stream",
     "text": [
      "INFO:tensorflow:*** Num TPU Cores: 8\n"
     ]
    },
    {
     "name": "stdout",
     "output_type": "stream",
     "text": [
      "INFO:tensorflow:*** Num TPU Workers: 1\n"
     ]
    },
    {
     "name": "stderr",
     "output_type": "stream",
     "text": [
      "INFO:tensorflow:*** Num TPU Workers: 1\n"
     ]
    },
    {
     "name": "stdout",
     "output_type": "stream",
     "text": [
      "INFO:tensorflow:*** Num TPU Cores Per Worker: 8\n"
     ]
    },
    {
     "name": "stderr",
     "output_type": "stream",
     "text": [
      "INFO:tensorflow:*** Num TPU Cores Per Worker: 8\n"
     ]
    },
    {
     "name": "stdout",
     "output_type": "stream",
     "text": [
      "INFO:tensorflow:*** Available Device: _DeviceAttributes(/job:localhost/replica:0/task:0/device:CPU:0, CPU, 0, 0)\n"
     ]
    },
    {
     "name": "stderr",
     "output_type": "stream",
     "text": [
      "INFO:tensorflow:*** Available Device: _DeviceAttributes(/job:localhost/replica:0/task:0/device:CPU:0, CPU, 0, 0)\n"
     ]
    },
    {
     "name": "stdout",
     "output_type": "stream",
     "text": [
      "INFO:tensorflow:*** Available Device: _DeviceAttributes(/job:localhost/replica:0/task:0/device:XLA_CPU:0, XLA_CPU, 0, 0)\n"
     ]
    },
    {
     "name": "stderr",
     "output_type": "stream",
     "text": [
      "INFO:tensorflow:*** Available Device: _DeviceAttributes(/job:localhost/replica:0/task:0/device:XLA_CPU:0, XLA_CPU, 0, 0)\n"
     ]
    },
    {
     "name": "stdout",
     "output_type": "stream",
     "text": [
      "INFO:tensorflow:*** Available Device: _DeviceAttributes(/job:worker/replica:0/task:0/device:CPU:0, CPU, 0, 0)\n"
     ]
    },
    {
     "name": "stderr",
     "output_type": "stream",
     "text": [
      "INFO:tensorflow:*** Available Device: _DeviceAttributes(/job:worker/replica:0/task:0/device:CPU:0, CPU, 0, 0)\n"
     ]
    },
    {
     "name": "stdout",
     "output_type": "stream",
     "text": [
      "INFO:tensorflow:*** Available Device: _DeviceAttributes(/job:worker/replica:0/task:0/device:TPU:0, TPU, 0, 0)\n"
     ]
    },
    {
     "name": "stderr",
     "output_type": "stream",
     "text": [
      "INFO:tensorflow:*** Available Device: _DeviceAttributes(/job:worker/replica:0/task:0/device:TPU:0, TPU, 0, 0)\n"
     ]
    },
    {
     "name": "stdout",
     "output_type": "stream",
     "text": [
      "INFO:tensorflow:*** Available Device: _DeviceAttributes(/job:worker/replica:0/task:0/device:TPU:1, TPU, 0, 0)\n"
     ]
    },
    {
     "name": "stderr",
     "output_type": "stream",
     "text": [
      "INFO:tensorflow:*** Available Device: _DeviceAttributes(/job:worker/replica:0/task:0/device:TPU:1, TPU, 0, 0)\n"
     ]
    },
    {
     "name": "stdout",
     "output_type": "stream",
     "text": [
      "INFO:tensorflow:*** Available Device: _DeviceAttributes(/job:worker/replica:0/task:0/device:TPU:2, TPU, 0, 0)\n"
     ]
    },
    {
     "name": "stderr",
     "output_type": "stream",
     "text": [
      "INFO:tensorflow:*** Available Device: _DeviceAttributes(/job:worker/replica:0/task:0/device:TPU:2, TPU, 0, 0)\n"
     ]
    },
    {
     "name": "stdout",
     "output_type": "stream",
     "text": [
      "INFO:tensorflow:*** Available Device: _DeviceAttributes(/job:worker/replica:0/task:0/device:TPU:3, TPU, 0, 0)\n"
     ]
    },
    {
     "name": "stderr",
     "output_type": "stream",
     "text": [
      "INFO:tensorflow:*** Available Device: _DeviceAttributes(/job:worker/replica:0/task:0/device:TPU:3, TPU, 0, 0)\n"
     ]
    },
    {
     "name": "stdout",
     "output_type": "stream",
     "text": [
      "INFO:tensorflow:*** Available Device: _DeviceAttributes(/job:worker/replica:0/task:0/device:TPU:4, TPU, 0, 0)\n"
     ]
    },
    {
     "name": "stderr",
     "output_type": "stream",
     "text": [
      "INFO:tensorflow:*** Available Device: _DeviceAttributes(/job:worker/replica:0/task:0/device:TPU:4, TPU, 0, 0)\n"
     ]
    },
    {
     "name": "stdout",
     "output_type": "stream",
     "text": [
      "INFO:tensorflow:*** Available Device: _DeviceAttributes(/job:worker/replica:0/task:0/device:TPU:5, TPU, 0, 0)\n"
     ]
    },
    {
     "name": "stderr",
     "output_type": "stream",
     "text": [
      "INFO:tensorflow:*** Available Device: _DeviceAttributes(/job:worker/replica:0/task:0/device:TPU:5, TPU, 0, 0)\n"
     ]
    },
    {
     "name": "stdout",
     "output_type": "stream",
     "text": [
      "INFO:tensorflow:*** Available Device: _DeviceAttributes(/job:worker/replica:0/task:0/device:TPU:6, TPU, 0, 0)\n"
     ]
    },
    {
     "name": "stderr",
     "output_type": "stream",
     "text": [
      "INFO:tensorflow:*** Available Device: _DeviceAttributes(/job:worker/replica:0/task:0/device:TPU:6, TPU, 0, 0)\n"
     ]
    },
    {
     "name": "stdout",
     "output_type": "stream",
     "text": [
      "INFO:tensorflow:*** Available Device: _DeviceAttributes(/job:worker/replica:0/task:0/device:TPU:7, TPU, 0, 0)\n"
     ]
    },
    {
     "name": "stderr",
     "output_type": "stream",
     "text": [
      "INFO:tensorflow:*** Available Device: _DeviceAttributes(/job:worker/replica:0/task:0/device:TPU:7, TPU, 0, 0)\n"
     ]
    },
    {
     "name": "stdout",
     "output_type": "stream",
     "text": [
      "INFO:tensorflow:*** Available Device: _DeviceAttributes(/job:worker/replica:0/task:0/device:TPU_SYSTEM:0, TPU_SYSTEM, 0, 0)\n"
     ]
    },
    {
     "name": "stderr",
     "output_type": "stream",
     "text": [
      "INFO:tensorflow:*** Available Device: _DeviceAttributes(/job:worker/replica:0/task:0/device:TPU_SYSTEM:0, TPU_SYSTEM, 0, 0)\n"
     ]
    },
    {
     "name": "stdout",
     "output_type": "stream",
     "text": [
      "INFO:tensorflow:*** Available Device: _DeviceAttributes(/job:worker/replica:0/task:0/device:XLA_CPU:0, XLA_CPU, 0, 0)\n"
     ]
    },
    {
     "name": "stderr",
     "output_type": "stream",
     "text": [
      "INFO:tensorflow:*** Available Device: _DeviceAttributes(/job:worker/replica:0/task:0/device:XLA_CPU:0, XLA_CPU, 0, 0)\n"
     ]
    },
    {
     "name": "stdout",
     "output_type": "stream",
     "text": [
      "REPLICAS:  8\n"
     ]
    }
   ],
   "source": [
    "try:\n",
    "    # TPU detection. No parameters necessary if TPU_NAME environment variable is\n",
    "    # set: this is always the case on Kaggle.\n",
    "    tpu = tf.distribute.cluster_resolver.TPUClusterResolver()\n",
    "    print('Running on TPU ', tpu.master())\n",
    "except ValueError:\n",
    "    tpu = None\n",
    "\n",
    "if tpu:\n",
    "    tf.config.experimental_connect_to_cluster(tpu)\n",
    "    tf.tpu.experimental.initialize_tpu_system(tpu)\n",
    "    strategy = tf.distribute.experimental.TPUStrategy(tpu)\n",
    "else:\n",
    "    # Default distribution strategy in Tensorflow. Works on CPU and single GPU.\n",
    "    strategy = tf.distribute.get_strategy()\n",
    "\n",
    "print(\"REPLICAS: \", strategy.num_replicas_in_sync)"
   ]
  },
  {
   "cell_type": "code",
   "execution_count": 5,
   "metadata": {
    "colab": {},
    "colab_type": "code",
    "execution": {
     "iopub.execute_input": "2020-08-10T05:29:17.098573Z",
     "iopub.status.busy": "2020-08-10T05:29:17.097557Z",
     "iopub.status.idle": "2020-08-10T05:29:17.101236Z",
     "shell.execute_reply": "2020-08-10T05:29:17.100579Z"
    },
    "id": "Z0DRQE47LMfp",
    "papermill": {
     "duration": 0.030113,
     "end_time": "2020-08-10T05:29:17.101371",
     "exception": false,
     "start_time": "2020-08-10T05:29:17.071258",
     "status": "completed"
    },
    "tags": []
   },
   "outputs": [],
   "source": [
    "params['batch_size'] = params['batch_size'] * strategy.num_replicas_in_sync"
   ]
  },
  {
   "cell_type": "code",
   "execution_count": 6,
   "metadata": {
    "colab": {
     "base_uri": "https://localhost:8080/",
     "height": 343
    },
    "colab_type": "code",
    "execution": {
     "iopub.execute_input": "2020-08-10T05:29:17.149207Z",
     "iopub.status.busy": "2020-08-10T05:29:17.148291Z",
     "iopub.status.idle": "2020-08-10T05:29:17.150875Z",
     "shell.execute_reply": "2020-08-10T05:29:17.151459Z"
    },
    "id": "GWzXMYZyLMfs",
    "outputId": "11f9ed0c-9ee7-4010-e6e6-90115bfa87ba",
    "papermill": {
     "duration": 0.028759,
     "end_time": "2020-08-10T05:29:17.151631",
     "exception": false,
     "start_time": "2020-08-10T05:29:17.122872",
     "status": "completed"
    },
    "tags": []
   },
   "outputs": [
    {
     "name": "stdout",
     "output_type": "stream",
     "text": [
      "Requirement already satisfied: gcsfs in /usr/local/lib/python3.6/dist-packages (0.6.2)\n",
      "Requirement already satisfied: google-auth>=1.2 in /usr/local/lib/python3.6/dist-packages (from gcsfs) (1.17.2)\n",
      "Requirement already satisfied: google-auth-oauthlib in /usr/local/lib/python3.6/dist-packages (from gcsfs) (0.4.1)\n",
      "Requirement already satisfied: decorator in /usr/local/lib/python3.6/dist-packages (from gcsfs) (4.4.2)\n",
      "Requirement already satisfied: requests in /usr/local/lib/python3.6/dist-packages (from gcsfs) (2.23.0)\n",
      "Requirement already satisfied: fsspec>=0.6.0 in /usr/local/lib/python3.6/dist-packages (from gcsfs) (0.8.0)\n",
      "Requirement already satisfied: cachetools<5.0,>=2.0.0 in /usr/local/lib/python3.6/dist-packages (from google-auth>=1.2->gcsfs) (4.1.1)\n",
      "Requirement already satisfied: six>=1.9.0 in /usr/local/lib/python3.6/dist-packages (from google-auth>=1.2->gcsfs) (1.15.0)\n",
      "Requirement already satisfied: pyasn1-modules>=0.2.1 in /usr/local/lib/python3.6/dist-packages (from google-auth>=1.2->gcsfs) (0.2.8)\n",
      "Requirement already satisfied: rsa<5,>=3.1.4; python_version >= \"3\" in /usr/local/lib/python3.6/dist-packages (from google-auth>=1.2->gcsfs) (4.6)\n",
      "Requirement already satisfied: setuptools>=40.3.0 in /usr/local/lib/python3.6/dist-packages (from google-auth>=1.2->gcsfs) (49.2.0)\n",
      "Requirement already satisfied: requests-oauthlib>=0.7.0 in /usr/local/lib/python3.6/dist-packages (from google-auth-oauthlib->gcsfs) (1.3.0)\n",
      "Requirement already satisfied: idna<3,>=2.5 in /usr/local/lib/python3.6/dist-packages (from requests->gcsfs) (2.10)\n",
      "Requirement already satisfied: certifi>=2017.4.17 in /usr/local/lib/python3.6/dist-packages (from requests->gcsfs) (2020.6.20)\n",
      "Requirement already satisfied: urllib3!=1.25.0,!=1.25.1,<1.26,>=1.21.1 in /usr/local/lib/python3.6/dist-packages (from requests->gcsfs) (1.24.3)\n",
      "Requirement already satisfied: chardet<4,>=3.0.2 in /usr/local/lib/python3.6/dist-packages (from requests->gcsfs) (3.0.4)\n",
      "Requirement already satisfied: pyasn1<0.5.0,>=0.4.6 in /usr/local/lib/python3.6/dist-packages (from pyasn1-modules>=0.2.1->google-auth>=1.2->gcsfs) (0.4.8)\n",
      "Requirement already satisfied: oauthlib>=3.0.0 in /usr/local/lib/python3.6/dist-packages (from requests-oauthlib>=0.7.0->google-auth-oauthlib->gcsfs) (3.1.0)\n"
     ]
    }
   ],
   "source": [
    "# sub = pd.read_csv(dataset_gcs + '/sample_submission.csv')\n",
    "# sub.head(1)\n",
    "!pip install gcsfs"
   ]
  },
  {
   "cell_type": "code",
   "execution_count": 7,
   "metadata": {
    "colab": {
     "base_uri": "https://localhost:8080/",
     "height": 162
    },
    "colab_type": "code",
    "execution": {
     "iopub.execute_input": "2020-08-10T05:29:17.201629Z",
     "iopub.status.busy": "2020-08-10T05:29:17.200809Z",
     "iopub.status.idle": "2020-08-10T05:29:26.666973Z",
     "shell.execute_reply": "2020-08-10T05:29:26.666355Z"
    },
    "id": "UeRPDwBrLMfu",
    "outputId": "33cdd5fd-41f6-4ac7-ba89-33719edd1e5a",
    "papermill": {
     "duration": 9.493676,
     "end_time": "2020-08-10T05:29:26.667129",
     "exception": false,
     "start_time": "2020-08-10T05:29:17.173453",
     "status": "completed"
    },
    "tags": []
   },
   "outputs": [
    {
     "data": {
      "text/html": [
       "<div>\n",
       "<style scoped>\n",
       "    .dataframe tbody tr th:only-of-type {\n",
       "        vertical-align: middle;\n",
       "    }\n",
       "\n",
       "    .dataframe tbody tr th {\n",
       "        vertical-align: top;\n",
       "    }\n",
       "\n",
       "    .dataframe thead th {\n",
       "        text-align: right;\n",
       "    }\n",
       "</style>\n",
       "<table border=\"1\" class=\"dataframe\">\n",
       "  <thead>\n",
       "    <tr style=\"text-align: right;\">\n",
       "      <th></th>\n",
       "      <th>image_name</th>\n",
       "      <th>patient_id</th>\n",
       "      <th>sex</th>\n",
       "      <th>age_approx</th>\n",
       "      <th>anatom_site_general_challenge</th>\n",
       "      <th>diagnosis</th>\n",
       "      <th>benign_malignant</th>\n",
       "    </tr>\n",
       "    <tr>\n",
       "      <th>target</th>\n",
       "      <th></th>\n",
       "      <th></th>\n",
       "      <th></th>\n",
       "      <th></th>\n",
       "      <th></th>\n",
       "      <th></th>\n",
       "      <th></th>\n",
       "    </tr>\n",
       "  </thead>\n",
       "  <tbody>\n",
       "    <tr>\n",
       "      <th>0</th>\n",
       "      <td>32542</td>\n",
       "      <td>32542</td>\n",
       "      <td>32477</td>\n",
       "      <td>32474</td>\n",
       "      <td>32024</td>\n",
       "      <td>32542</td>\n",
       "      <td>32542</td>\n",
       "    </tr>\n",
       "    <tr>\n",
       "      <th>1</th>\n",
       "      <td>584</td>\n",
       "      <td>584</td>\n",
       "      <td>584</td>\n",
       "      <td>584</td>\n",
       "      <td>575</td>\n",
       "      <td>584</td>\n",
       "      <td>584</td>\n",
       "    </tr>\n",
       "  </tbody>\n",
       "</table>\n",
       "</div>"
      ],
      "text/plain": [
       "        image_name  patient_id  ...  diagnosis  benign_malignant\n",
       "target                          ...                             \n",
       "0            32542       32542  ...      32542             32542\n",
       "1              584         584  ...        584               584\n",
       "\n",
       "[2 rows x 7 columns]"
      ]
     },
     "execution_count": 7,
     "metadata": {
      "tags": []
     },
     "output_type": "execute_result"
    }
   ],
   "source": [
    "train_df = pd.read_csv(dataset_gcs + '/train.csv')\n",
    "train_df.groupby('target').count() "
   ]
  },
  {
   "cell_type": "code",
   "execution_count": 8,
   "metadata": {
    "colab": {},
    "colab_type": "code",
    "execution": {
     "iopub.execute_input": "2020-08-10T05:29:26.721346Z",
     "iopub.status.busy": "2020-08-10T05:29:26.720466Z",
     "iopub.status.idle": "2020-08-10T05:29:26.723851Z",
     "shell.execute_reply": "2020-08-10T05:29:26.723121Z"
    },
    "id": "3QB0P3M8LMfw",
    "papermill": {
     "duration": 0.034585,
     "end_time": "2020-08-10T05:29:26.723985",
     "exception": false,
     "start_time": "2020-08-10T05:29:26.689400",
     "status": "completed"
    },
    "tags": []
   },
   "outputs": [],
   "source": [
    "def decode_image_label(tfrec):\n",
    "    '''\n",
    "    function to decode an image and target label from tfrecord\n",
    "    \n",
    "    args:\n",
    "        tfrec: tfrecord, single record of training/validation data\n",
    "    \n",
    "    returns:\n",
    "        decoded_image: tensor, converted image from tfrecord\n",
    "        label: tensor, integer, either 1 or 0\n",
    "    \n",
    "    '''\n",
    "    \n",
    "    features_dictionary = {\n",
    "        'image': tf.io.FixedLenFeature([], tf.string),\n",
    "        \"target\": tf.io.FixedLenFeature([], tf.int64)\n",
    "        }\n",
    "    features = tf.io.parse_single_example(tfrec, features_dictionary)\n",
    "    decoded_image = tf.io.decode_jpeg(features['image'], 3)\n",
    "    decoded_image = tf.image.resize(decoded_image, params['img_size'])\n",
    "    label = features['target']\n",
    "    \n",
    "    return decoded_image, label\n",
    "    \n"
   ]
  },
  {
   "cell_type": "code",
   "execution_count": 9,
   "metadata": {
    "colab": {},
    "colab_type": "code",
    "execution": {
     "iopub.execute_input": "2020-08-10T05:29:26.777665Z",
     "iopub.status.busy": "2020-08-10T05:29:26.776646Z",
     "iopub.status.idle": "2020-08-10T05:29:26.779776Z",
     "shell.execute_reply": "2020-08-10T05:29:26.779192Z"
    },
    "id": "KGXvzF6BLMfy",
    "papermill": {
     "duration": 0.034023,
     "end_time": "2020-08-10T05:29:26.779907",
     "exception": false,
     "start_time": "2020-08-10T05:29:26.745884",
     "status": "completed"
    },
    "tags": []
   },
   "outputs": [],
   "source": [
    "def decode_image(tfrec):\n",
    "    '''\n",
    "    function to decode an image from tfrecord\n",
    "    \n",
    "    args:\n",
    "        tfrec: tfrecord, single record of training/validation data\n",
    "    \n",
    "    returns:\n",
    "        decoded_image: tensor, converted image from tfrecord\n",
    "        img_name: tensor, string, Id of the decoded image\n",
    "    \n",
    "    '''\n",
    "    \n",
    "    features_dictionary = {\n",
    "        'image': tf.io.FixedLenFeature([], tf.string),\n",
    "        \"image_name\": tf.io.FixedLenFeature([], tf.string)\n",
    "        }\n",
    "    features = tf.io.parse_single_example(tfrec, features_dictionary)\n",
    "    decoded_image = tf.io.decode_jpeg(features['image'], 3)\n",
    "    decoded_image = tf.image.resize(decoded_image, params['img_size'])\n",
    "    img_name = features['image_name']\n",
    "    \n",
    "    return decoded_image, img_name"
   ]
  },
  {
   "cell_type": "code",
   "execution_count": 10,
   "metadata": {
    "colab": {},
    "colab_type": "code",
    "execution": {
     "iopub.execute_input": "2020-08-10T05:29:26.833829Z",
     "iopub.status.busy": "2020-08-10T05:29:26.832680Z",
     "iopub.status.idle": "2020-08-10T05:29:26.836282Z",
     "shell.execute_reply": "2020-08-10T05:29:26.835513Z"
    },
    "id": "1YjPx4SWLMfz",
    "papermill": {
     "duration": 0.034237,
     "end_time": "2020-08-10T05:29:26.836412",
     "exception": false,
     "start_time": "2020-08-10T05:29:26.802175",
     "status": "completed"
    },
    "tags": []
   },
   "outputs": [],
   "source": [
    "def normalize_image_label(decoded_image, label):\n",
    "    '''\n",
    "    function to convert an image tensor values from 0 to 255 \n",
    "    -> -1 to 1\n",
    "    to be used when dealing with tfrecords containing labels\n",
    "    \n",
    "    args:\n",
    "        decoded_image: tensor that is an image with values from 0 to 255\n",
    "        label: tensor, target label\n",
    "    \n",
    "    returns: \n",
    "        image_tensor: tensor that is an image with values from -1 to 1\n",
    "        label, same as input\n",
    "    \n",
    "    '''\n",
    "    \n",
    "    #add dim at the zero axis Shape will be from (x, y, z) -> (None, x, y, z)\n",
    "    image_tensor = tf.expand_dims(decoded_image, 0)\n",
    "    #undo the above line -- this is needed due to TF not allowing a filtered tensor py_function\n",
    "    image_tensor = tf.gather(image_tensor, 0)\n",
    "\n",
    "    # #convert tensor values to between -1 and 1 (0 to 255 -> -1 to 1)\n",
    "    # image_tensor = (tf.cast(image_tensor, tf.float32) - 127.5) / 127.5\n",
    "\n",
    "    #convert tensor values to between 0 and 1 (0 to 255 -> 0 to 1)\n",
    "    image_tensor = (tf.cast(image_tensor, tf.float32) /255.0 )\n",
    "\n",
    "    return image_tensor, label"
   ]
  },
  {
   "cell_type": "code",
   "execution_count": 11,
   "metadata": {
    "colab": {},
    "colab_type": "code",
    "execution": {
     "iopub.execute_input": "2020-08-10T05:29:26.888985Z",
     "iopub.status.busy": "2020-08-10T05:29:26.887989Z",
     "iopub.status.idle": "2020-08-10T05:29:26.890522Z",
     "shell.execute_reply": "2020-08-10T05:29:26.891092Z"
    },
    "id": "VRTS4GnmLMf1",
    "papermill": {
     "duration": 0.032336,
     "end_time": "2020-08-10T05:29:26.891259",
     "exception": false,
     "start_time": "2020-08-10T05:29:26.858923",
     "status": "completed"
    },
    "tags": []
   },
   "outputs": [],
   "source": [
    "def normalize_image(decoded_image):\n",
    "    '''\n",
    "    function to convert an image tensor values from 0 to 255 \n",
    "    -> -1 to 1\n",
    "    \n",
    "    args:\n",
    "        decoded_image: tensor that is an image with values from 0 to 255\n",
    "    \n",
    "    returns: \n",
    "        image_tensor: tensor that is an image with values from -1 to 1\n",
    "    \n",
    "    '''\n",
    "    \n",
    "    #add dim at the zero axis Shape will be from (x, y, z) -> (None, x, y, z)\n",
    "    image_tensor = tf.expand_dims(decoded_image, 0)\n",
    "    #undo the above line -- this is needed due to TF not allowing a filtered tensor py_function\n",
    "    image_tensor = tf.gather(image_tensor, 0)\n",
    "\n",
    "    #convert tensor values to between -1 and 1 (0 to 255 -> -1 to 1)\n",
    "    image_tensor = (tf.cast(image_tensor, tf.float32) - 127.5) / 127.5\n",
    "\n",
    "    return image_tensor"
   ]
  },
  {
   "cell_type": "code",
   "execution_count": 12,
   "metadata": {
    "colab": {},
    "colab_type": "code",
    "execution": {
     "iopub.execute_input": "2020-08-10T05:29:26.944221Z",
     "iopub.status.busy": "2020-08-10T05:29:26.943211Z",
     "iopub.status.idle": "2020-08-10T05:29:26.946291Z",
     "shell.execute_reply": "2020-08-10T05:29:26.945626Z"
    },
    "id": "mBBVpiTzLMf3",
    "papermill": {
     "duration": 0.032591,
     "end_time": "2020-08-10T05:29:26.946428",
     "exception": false,
     "start_time": "2020-08-10T05:29:26.913837",
     "status": "completed"
    },
    "tags": []
   },
   "outputs": [],
   "source": [
    "def random_flip(image, label):\n",
    "    '''\n",
    "    function to randomly flip images on the x and/or y axis\n",
    "    \n",
    "    args:\n",
    "        image: tensor, an image\n",
    "        label: tensor, target label\n",
    "    \n",
    "    returns: \n",
    "        image: tensor, same as input, but possibly flipped on x and/or y axis\n",
    "        label, tensor, same as input\n",
    "    '''\n",
    "    image = tf.image.random_flip_left_right(image)\n",
    "    image = tf.image.random_flip_up_down(image)\n",
    "    return image, label"
   ]
  },
  {
   "cell_type": "code",
   "execution_count": 13,
   "metadata": {
    "colab": {},
    "colab_type": "code",
    "execution": {
     "iopub.execute_input": "2020-08-10T05:29:27.001465Z",
     "iopub.status.busy": "2020-08-10T05:29:27.000601Z",
     "iopub.status.idle": "2020-08-10T05:29:27.005541Z",
     "shell.execute_reply": "2020-08-10T05:29:27.004731Z"
    },
    "id": "q-n0QjpXLMf4",
    "papermill": {
     "duration": 0.036311,
     "end_time": "2020-08-10T05:29:27.005674",
     "exception": false,
     "start_time": "2020-08-10T05:29:26.969363",
     "status": "completed"
    },
    "tags": []
   },
   "outputs": [],
   "source": [
    "def get_train_ds(tfrecords, batch_size):\n",
    "    '''\n",
    "    function to create a ds pipeline from tfrecord files\n",
    "    \n",
    "    args:\n",
    "        tfrecords: list, tfrecord file paths\n",
    "        batch_size: int, batch size for number of records to pass into\n",
    "            model at a time\n",
    "    returns:\n",
    "        ds: tensorflow input pipeline with images and labels\n",
    "    '''\n",
    "    ds = (tf.data.TFRecordDataset(filenames=[tfrecords],\n",
    "                                 num_parallel_reads=tf.data.experimental.AUTOTUNE).\n",
    "          cache(). #need to remove cache while not usnig TPUs\n",
    "          map(decode_image_label, num_parallel_calls=tf.data.experimental.AUTOTUNE).\n",
    "          map(normalize_image_label, num_parallel_calls=tf.data.experimental.AUTOTUNE).\n",
    "          map(random_flip, num_parallel_calls=tf.data.experimental.AUTOTUNE).\n",
    "          repeat().\n",
    "          shuffle(512).\n",
    "          batch(batch_size,\n",
    "               drop_remainder=True).\n",
    "          prefetch(tf.data.experimental.AUTOTUNE)\n",
    "         )\n",
    "    \n",
    "\n",
    "    \n",
    "    return ds\n",
    "    "
   ]
  },
  {
   "cell_type": "code",
   "execution_count": 14,
   "metadata": {
    "colab": {},
    "colab_type": "code",
    "execution": {
     "iopub.execute_input": "2020-08-10T05:29:27.060905Z",
     "iopub.status.busy": "2020-08-10T05:29:27.059951Z",
     "iopub.status.idle": "2020-08-10T05:29:27.063151Z",
     "shell.execute_reply": "2020-08-10T05:29:27.062464Z"
    },
    "id": "yqeQFaHrLMf6",
    "papermill": {
     "duration": 0.034685,
     "end_time": "2020-08-10T05:29:27.063280",
     "exception": false,
     "start_time": "2020-08-10T05:29:27.028595",
     "status": "completed"
    },
    "tags": []
   },
   "outputs": [],
   "source": [
    "def get_test_ds(tfrecords, batch_size):\n",
    "    '''\n",
    "    function to create a dataset for test data\n",
    "    args:\n",
    "        tfrecords: list, tfrecord file paths\n",
    "        batch_size: int, batch size for number of records to pass into\n",
    "            model at a time\n",
    "    returns:\n",
    "        ds: tensorflow input pipeline with images and labels\n",
    "    \n",
    "    '''\n",
    "\n",
    "    ds = (tf.data.TFRecordDataset(filenames=[tfrecords],\n",
    "                                 num_parallel_reads=tf.data.experimental.AUTOTUNE).\n",
    "#           cache(). #there is no reason to cache this ds -- it is only being read 1x\n",
    "          map(decode_image, num_parallel_calls=tf.data.experimental.AUTOTUNE).\n",
    "          map(normalize_image_label, num_parallel_calls=tf.data.experimental.AUTOTUNE).\n",
    "#           map(random_flip).\n",
    "          batch(batch_size).\n",
    "#                 drop_remainder=True).\n",
    "          prefetch(tf.data.experimental.AUTOTUNE)\n",
    "         )\n",
    "    \n",
    "    return ds\n",
    "    ###come back to this"
   ]
  },
  {
   "cell_type": "markdown",
   "metadata": {
    "colab_type": "text",
    "id": "AmG0gCIVLMf8",
    "papermill": {
     "duration": 0.022544,
     "end_time": "2020-08-10T05:29:27.108722",
     "exception": false,
     "start_time": "2020-08-10T05:29:27.086178",
     "status": "completed"
    },
    "tags": []
   },
   "source": [
    "# model architecture"
   ]
  },
  {
   "cell_type": "code",
   "execution_count": 15,
   "metadata": {
    "colab": {},
    "colab_type": "code",
    "execution": {
     "iopub.execute_input": "2020-08-10T05:29:27.170147Z",
     "iopub.status.busy": "2020-08-10T05:29:27.169308Z",
     "iopub.status.idle": "2020-08-10T05:29:27.172297Z",
     "shell.execute_reply": "2020-08-10T05:29:27.172850Z"
    },
    "id": "QO86yIWVLMf8",
    "papermill": {
     "duration": 0.041151,
     "end_time": "2020-08-10T05:29:27.173043",
     "exception": false,
     "start_time": "2020-08-10T05:29:27.131892",
     "status": "completed"
    },
    "tags": []
   },
   "outputs": [],
   "source": [
    "def set_of_layers(input_layer, \n",
    "                  filters_, \n",
    "                  kernal, \n",
    "                  strides_, \n",
    "                  dense=None, \n",
    "                  dense_activation=None,\n",
    "                  dropout=None,\n",
    "                  cnn_activation=None):\n",
    "    '''\n",
    "    function to add the following layers to a model:\n",
    "    Conv2D, MaxPooling2D, BatchNormalization, LeadyReLU, Dense,\n",
    "        Dropout\n",
    "\n",
    "    args:\n",
    "      input_layer : input layer to be fed into above layers\n",
    "      filters_: int, number of filters in Conv2D layer\n",
    "      kernal: int, kernal size in Conv2D layer\n",
    "      strides_: int, stride size in MaxPooling2D layer\n",
    "      dense: int, number of units in dense layer, default is None\n",
    "          Will only add layer if value is passed\n",
    "      dense_activation: str, activation function to pass into Dense layer\n",
    "          default is None\n",
    "      dropout: float, dropout percentage in Dropout layer, default is None\n",
    "        must be less than 1.0. Will only add layer if value is passed \n",
    "      cnn_activation: tensorflow activation layer, default is None\n",
    "          will only add layer is value is passed. Activation layer will be\n",
    "          added after the BatchNormalization layer\n",
    "\n",
    "    returns:\n",
    "      x: model that is the same as the input_layer input plus above \n",
    "        layers added\n",
    "        \n",
    "        \n",
    "    '''\n",
    "    x_dict = {}\n",
    "    for xx in range(len(kernal)):\n",
    "        x_dict[xx] = layers.Conv2D(filters_, (kernal[xx], kernal[xx]),\n",
    "                                   padding='same', activation=cnn_activation)(input_layer)\n",
    "        for _ in range(1): #may be able to try range(2) with the filters halved\n",
    "            x_dict[xx] = layers.Conv2D(filters_, (kernal[xx], kernal[xx]),\n",
    "                                       padding='same', activation=cnn_activation)(x_dict[xx])\n",
    "    x_list = [x_dict[xx] for xx in x_dict]\n",
    "    if len(x_list) > 1:\n",
    "        x = layers.Concatenate()(x_list)\n",
    "    else:\n",
    "        x = x_list[0]\n",
    "    x = layers.MaxPooling2D(strides_, strides_)(x)\n",
    "    x = layers.BatchNormalization()(x)\n",
    "    \n",
    "\n",
    "    \n",
    "    if cnn_activation:\n",
    "        x = cnn_activation(x)\n",
    "    x = layers.ReLU()(x)\n",
    "    if dense:\n",
    "        x = layers.Dense(dense, activation=dense_activation)(x)\n",
    "    if dropout:\n",
    "        x = layers.Dropout(dropout)(x)\n",
    "\n",
    "\n",
    "    return x"
   ]
  },
  {
   "cell_type": "code",
   "execution_count": 16,
   "metadata": {
    "colab": {},
    "colab_type": "code",
    "execution": {
     "iopub.execute_input": "2020-08-10T05:29:27.235107Z",
     "iopub.status.busy": "2020-08-10T05:29:27.234208Z",
     "iopub.status.idle": "2020-08-10T05:29:27.237745Z",
     "shell.execute_reply": "2020-08-10T05:29:27.236995Z"
    },
    "id": "cwUPyepvLMf9",
    "papermill": {
     "duration": 0.041647,
     "end_time": "2020-08-10T05:29:27.237867",
     "exception": false,
     "start_time": "2020-08-10T05:29:27.196220",
     "status": "completed"
    },
    "tags": []
   },
   "outputs": [],
   "source": [
    "def deconv_set_of_layers(input_layer, \n",
    "                         filters_, \n",
    "                         kernal_, \n",
    "                         stride, \n",
    "                         dense=None, \n",
    "                         dense_activation=None, \n",
    "                         dropout=None,\n",
    "                         cnn_activation=None):\n",
    "    '''\n",
    "    function to add the following layers to a model:\n",
    "    Conv2DTranspose, BatchNormalization, LeadyReLU, Dense\n",
    "\n",
    "    args:\n",
    "      input_layer : input layer to be fed into above layers\n",
    "      filters_: int, number of filters in Conv2DTranspose layer\n",
    "      kernal_: int, kernal size in Conv2DTranspose layer\n",
    "      strides_: int, stride size in Conv2DTranspose layer\n",
    "      dense: int, number of units in dense layer, default is None\n",
    "          Will only add layer if value is passed\n",
    "      dense_activation: str, activation function to pass into Dense layer\n",
    "          default is None\n",
    "      dropout: float, dropout percentage in Dropout layer, default is None\n",
    "        must be less than 1.0. Will only add layer if value is passed \n",
    "      cnn_activation: tensorflow activation layer, default is None\n",
    "          will only add layer is value is passed. Activation layer will be\n",
    "          added after the BatchNormalization layer\n",
    "\n",
    "\n",
    "    returns:\n",
    "      x: model that is the same as the input_layer input plus above \n",
    "        layers added\n",
    "    '''\n",
    "\n",
    "        \n",
    "    x_dict = {}\n",
    "    for xx in range(len(kernal_)):\n",
    "        x_dict[xx] = layers.Conv2DTranspose(filters_,\n",
    "                                           kernal_[xx],\n",
    "                                           (stride, stride),\n",
    "                                           padding='same')(input_layer)\n",
    "        x_dict[xx] = layers.BatchNormalization()(x_dict[xx])\n",
    "    x_list = [x_dict[xx] for xx in x_dict]\n",
    "    if len(x_list) > 1:\n",
    "        x = layers.Concatenate()(x_list)\n",
    "    else:\n",
    "        x = x_list[0]\n",
    "    \n",
    "    if cnn_activation:\n",
    "        x = cnn_activation(x)\n",
    "   \n",
    "    if dense:\n",
    "        x = layers.Dense(dense, activation=dense_activation)(x)\n",
    "    \n",
    "    if dropout:\n",
    "        x = layers.Dropout(dropout)(x)\n",
    "    \n",
    "\n",
    "    return x\n"
   ]
  },
  {
   "cell_type": "code",
   "execution_count": 17,
   "metadata": {
    "colab": {},
    "colab_type": "code",
    "id": "ZUGGmJIZLMf_"
   },
   "outputs": [],
   "source": [
    "def create_model(input_shape=[*params['img_size'], 3], bias_output=None):\n",
    "    '''\n",
    "    function to create a model that will be used to train DS via xfer learning\n",
    "    \n",
    "    args:\n",
    "        input_shape: array, default: [1024, 1024, 3], shape\n",
    "            of input tensor that will be fed into model\n",
    "    \n",
    "    returns:\n",
    "        model: keras.Model() model\n",
    "    \n",
    "    '''\n",
    "    \n",
    "    input_tensor = layers.Input(shape=input_shape, name='images_input')\n",
    "    \n",
    "    #input s/b 224, 224, 3 // try to normalize 0 -> 1\n",
    "    densenet = tf.keras.applications.DenseNet121(include_top=False, \n",
    "                                                 input_shape=input_shape, \n",
    "                                                 classes=1)(input_tensor)\n",
    "    end_of_densenet = layers.GlobalAveragePooling2D()(densenet)\n",
    "    dense_layers = layers.Dense(512)(end_of_densenet)\n",
    "    dense_layers = layers.Dropout(0.7)(dense_layers)\n",
    "    ###end of densenet### auc - 0.8844 (-1 -> 1) auc 0.8967 (0 -> 1)\n",
    "    \n",
    "#     #s/b 224, 224, 3 // try to normalize 0 -> 1\n",
    "#     efficientnet = tf.keras.applications.EfficientNetB0(include_top=False,\n",
    "#                                                        input_shape=input_shape,\n",
    "#                                                        classes=1)(input_tensor)\n",
    "#     end_of_efficientnet = layers.GlobalAveragePooling2D()(efficientnet)\n",
    "#     dense_layers = layers.Dense(8)(end_of_efficientnet)\n",
    "#     ###end of efficientnet### auc - 0.8602 (-1 -> 1)\n",
    "    \n",
    "    # #s/b 299, 299, 3 // needs to be -1 -> 1\n",
    "    # inception = tf.keras.applications.InceptionV3(include_top=False,\n",
    "    #                                              input_shape=input_shape,\n",
    "    #                                              classes=1)(input_tensor)\n",
    "    # end_of_inception = layers.GlobalAveragePooling2D()(inception)\n",
    "    # dense_layers = layers.Dense(8)(end_of_inception)\n",
    "    # ##end of inception (2016)### auc - 0.9009 (best)\n",
    "    \n",
    "#     #s/b 299, 299, 3 // needs to be -1 -> 1\n",
    "#     inception_v2 = tf.keras.applications.InceptionResNetV2(include_top=False,\n",
    "#                                                           input_shape=input_shape,\n",
    "#                                                           classes=1)(input_tensor)\n",
    "#     end_of_inceptionv2 = layers.GlobalAveragePooling2D()(inception_v2)\n",
    "#     dense_layers = layers.Dense(8)(end_of_inceptionv2)\n",
    "#     ###end of inception (2017)###\n",
    "    \n",
    "    #s/b 224, 224, 3 // needs to be -1 -> 1\n",
    "    # mobilnet = tf.keras.applications.MobileNet(include_top=False,\n",
    "    #                                           input_shape=input_shape,\n",
    "    #                                           classes=1)(input_tensor)\n",
    "    # end_of_mobilnet = layers.GlobalAveragePooling2D() (mobilnet)\n",
    "    # dense_layers = layers.Dense(8)(end_of_mobilnet)\n",
    "    ###end of mobilnet (v1)### auc - 0.8681\n",
    "\n",
    "    # # s/b 224, 224, 3 // needs to be -1 --> 1\n",
    "    # mobilnet_v2 = tf.keras.applications.MobileNetV2(include_top=False,\n",
    "    #                                                input_shape=input_shape,\n",
    "    #                                                classes=1)(input_tensor)\n",
    "    # end_of_mobilnet_v2 = layers.GlobalAveragePooling2D()(mobilnet_v2)\n",
    "    # dense_layers = layers.Dense(8)(end_of_mobilnet_v2)\n",
    "    # ###end of mobilnet (2018)### #dont use -- immediately overfits training data\n",
    "\n",
    "\n",
    "\n",
    "\n",
    "    \n",
    "\n",
    "\n",
    "\n",
    "    \n",
    "    if bias_output is not None:\n",
    "        bias_output = tf.keras.initializers.Constant(bias_output)\n",
    "    output = layers.Dense(1, activation='sigmoid', bias_initializer=bias_output)(dense_layers)\n",
    "    model = keras.Model(inputs=input_tensor, outputs=output)\n",
    "    \n",
    "    \n",
    "    metrics = [\n",
    "          keras.metrics.TruePositives(name='tp'),\n",
    "          keras.metrics.FalseNegatives(name='fn'), \n",
    "          keras.metrics.BinaryAccuracy(name='accuracy'),\n",
    "          keras.metrics.AUC(name='auc'),\n",
    "    ]\n",
    "    schedule = None\n",
    "    \n",
    "    model.compile(\n",
    "        optimizer=tf.keras.optimizers.Adam(),\n",
    "        loss = tf.keras.losses.BinaryCrossentropy(label_smoothing = 0.01),\n",
    "        metrics=metrics)\n",
    "    \n",
    "    \n",
    "    return model"
   ]
  },
  {
   "cell_type": "code",
   "execution_count": 18,
   "metadata": {
    "colab": {},
    "colab_type": "code",
    "execution": {
     "iopub.execute_input": "2020-08-10T05:29:27.307725Z",
     "iopub.status.busy": "2020-08-10T05:29:27.306683Z",
     "iopub.status.idle": "2020-08-10T05:29:27.309381Z",
     "shell.execute_reply": "2020-08-10T05:29:27.309913Z"
    },
    "id": "nfrWgAxjLMgA",
    "papermill": {
     "duration": 0.048823,
     "end_time": "2020-08-10T05:29:27.310105",
     "exception": false,
     "start_time": "2020-08-10T05:29:27.261282",
     "status": "completed"
    },
    "tags": []
   },
   "outputs": [],
   "source": [
    "def create_model_obsol(input_shape=[*params['img_size'], 3], bias_output=None):\n",
    "    '''\n",
    "    function to create a model that will be trained on train DS\n",
    "    \n",
    "    args:\n",
    "        input_shape: array, default: [1024, 1024, 3], shape\n",
    "            of input tensor that will be fed into model\n",
    "    \n",
    "    returns:\n",
    "        model: keras.Model() model\n",
    "    '''\n",
    "\n",
    "    relu = layers.ReLU()\n",
    "    leakyrelu = layers.LeakyReLU()\n",
    "    input_tensor = layers.Input(shape=input_shape, name='images_input')\n",
    "    x = input_tensor\n",
    "#     filters_list = [64, 128, 256, 512, 1024]\n",
    "    filters_list = [32, 64, 128, 256, 512]\n",
    "    \n",
    "    for filter_ in filters_list:\n",
    "        x = set_of_layers(x, filter_, [3, 5], 2, 16,  dropout=0.35, dense_activation='tanh', \n",
    "                           cnn_activation=relu)\n",
    "        \n",
    "    \n",
    "    output_helper_1 = layers.Flatten(name='flatten_output_helper_1')(x)\n",
    "    output_helper_1 = layers.Dense(128)(output_helper_1)\n",
    "    \n",
    "    \n",
    "    \n",
    "#     filters_list = [1024, 512, 256]\n",
    "    filters_list = [512, 256, 128]\n",
    "    \n",
    "    for filter_ in filters_list:\n",
    "        x = deconv_set_of_layers(x, filter_, [2, 4], 2, 16,  dense_activation='tanh', cnn_activation=relu,\n",
    "                                 dropout=0.35)\n",
    "    \n",
    "    output_helper_2 = layers.Flatten(name='flatten_output_helper_2')(x)\n",
    "    output_helper_2 = layers.Dense(128)(output_helper_2)\n",
    "\n",
    "    \n",
    "#     filters_list = [256, 512, 1024]\n",
    "    filters_list = [128, 256, 512]\n",
    "    \n",
    "    for filter_ in filters_list:\n",
    "        x = set_of_layers(x, filter_, [3, 5], 2, 16,  dropout=0.35, dense_activation='tanh',\n",
    "                           cnn_activation=relu)\n",
    "\n",
    "\n",
    "\n",
    "    x = layers.Flatten(name='flatten_main_output')(x)\n",
    "    x = layers.Dense(128)(x)\n",
    "#     model.add(layers.Dense(64))\n",
    "    \n",
    "    if bias_output is not None:\n",
    "        bias_output = tf.keras.initializers.Constant(bias_output)\n",
    "    output_layer = layers.Dense(1, activation='sigmoid', bias_initializer=bias_output)(x)\n",
    "    \n",
    "    output_helper_1 = layers.Dense(1, activation='sigmoid',\n",
    "                                  bias_initializer=bias_output)(output_helper_1)\n",
    "    output_helper_2 = layers.Dense(1, activation='sigmoid',\n",
    "                                  bias_initializer=bias_output)(output_helper_2)\n",
    "    \n",
    "    model=keras.Model(inputs=[input_tensor],\n",
    "                     outputs=[output_layer, output_helper_1, output_helper_2])\n",
    "\n",
    " \n",
    "           \n",
    "    metrics = [\n",
    "          keras.metrics.TruePositives(name='tp'),\n",
    "          keras.metrics.FalseNegatives(name='fn'), \n",
    "          keras.metrics.BinaryAccuracy(name='accuracy'),\n",
    "          keras.metrics.AUC(name='auc'),\n",
    "    ]\n",
    "    schedule = None\n",
    "    \n",
    "    model.compile(\n",
    "        optimizer=tf.keras.optimizers.Adam(0.00033),\n",
    "        loss = [tf.keras.losses.BinaryCrossentropy(label_smoothing = 0.01),\n",
    "                tf.keras.losses.BinaryCrossentropy(label_smoothing = 0.01),\n",
    "                tf.keras.losses.BinaryCrossentropy(label_smoothing = 0.01)],\n",
    "        metrics=metrics,\n",
    "    loss_weights = [1.0, 0.15, 0.15])\n",
    "    \n",
    "\n",
    "    \n",
    "    return model\n",
    "\n"
   ]
  },
  {
   "cell_type": "code",
   "execution_count": 19,
   "metadata": {
    "colab": {},
    "colab_type": "code",
    "execution": {
     "iopub.execute_input": "2020-08-10T05:29:27.365550Z",
     "iopub.status.busy": "2020-08-10T05:29:27.364537Z",
     "iopub.status.idle": "2020-08-10T05:29:27.367978Z",
     "shell.execute_reply": "2020-08-10T05:29:27.367223Z"
    },
    "id": "ctZtGXcBLMgC",
    "papermill": {
     "duration": 0.034554,
     "end_time": "2020-08-10T05:29:27.368133",
     "exception": false,
     "start_time": "2020-08-10T05:29:27.333579",
     "status": "completed"
    },
    "tags": []
   },
   "outputs": [],
   "source": [
    "def get_ds_size(files):\n",
    "    '''\n",
    "    function to get size of tfrecord Dataset, based on file name\n",
    "    \n",
    "    the file name has the number of records in the file, for example:\n",
    "    train09-2071.tfrec has 2017 records\n",
    "    \n",
    "    args:\n",
    "        files: list of str file names, each item should be the path to a tfrecord file\n",
    "    \n",
    "    returns:\n",
    "        size: int, size of dataset\n",
    "    '''\n",
    "    size = 0\n",
    "    for file in files:\n",
    "        file_size = int(file.split('.tfrec')[0].split('tfrecords/')[1].split('-')[1])\n",
    "        size += file_size\n",
    "    return size"
   ]
  },
  {
   "cell_type": "code",
   "execution_count": 20,
   "metadata": {
    "colab": {},
    "colab_type": "code",
    "execution": {
     "iopub.execute_input": "2020-08-10T05:29:27.591545Z",
     "iopub.status.busy": "2020-08-10T05:29:27.586562Z",
     "iopub.status.idle": "2020-08-10T05:29:28.311476Z",
     "shell.execute_reply": "2020-08-10T05:29:28.310631Z"
    },
    "id": "N7SqvS9ULMgD",
    "papermill": {
     "duration": 0.919898,
     "end_time": "2020-08-10T05:29:28.311604",
     "exception": false,
     "start_time": "2020-08-10T05:29:27.391706",
     "status": "completed"
    },
    "tags": []
   },
   "outputs": [],
   "source": [
    "#get test file paths\n",
    "test_files = tf.io.gfile.glob(dataset_gcs + '/tfrecords/test*.tfrec')\n",
    "\n",
    "#get train and validation file paths\n",
    "train_files, valid_files = train_test_split(tf.io.gfile.glob(dataset_gcs + '/tfrecords/train*.tfrec'),\n",
    "                              test_size=.1, random_state=1)\n",
    "\n",
    "#create datasets\n",
    "train_ds = get_train_ds(train_files, params['batch_size'])\n",
    "valid_ds = get_train_ds(valid_files, params['batch_size'])\n",
    "test_ds = get_test_ds(test_files, params['batch_size'])"
   ]
  },
  {
   "cell_type": "code",
   "execution_count": 21,
   "metadata": {
    "colab": {
     "base_uri": "https://localhost:8080/",
     "height": 34
    },
    "colab_type": "code",
    "execution": {
     "iopub.execute_input": "2020-08-10T05:29:28.365324Z",
     "iopub.status.busy": "2020-08-10T05:29:28.364523Z",
     "iopub.status.idle": "2020-08-10T05:29:28.367784Z",
     "shell.execute_reply": "2020-08-10T05:29:28.368736Z"
    },
    "id": "fVGrZ5WFLMgE",
    "outputId": "28cd62cb-1160-452d-9785-0b7e930ebdab",
    "papermill": {
     "duration": 0.034059,
     "end_time": "2020-08-10T05:29:28.368958",
     "exception": false,
     "start_time": "2020-08-10T05:29:28.334899",
     "status": "completed"
    },
    "tags": []
   },
   "outputs": [
    {
     "name": "stdout",
     "output_type": "stream",
     "text": [
      "the dataset consists of: 28984 training images, 4142 validation images, and 10982 test images\n"
     ]
    }
   ],
   "source": [
    "train_size, valid_size = get_ds_size(train_files), get_ds_size(valid_files)\n",
    "test_size = get_ds_size(test_files)\n",
    "print('the dataset consists of: {} training images, {} validation images, and {} test images'.\n",
    "     format(train_size, valid_size, test_size))"
   ]
  },
  {
   "cell_type": "code",
   "execution_count": 21,
   "metadata": {
    "colab": {},
    "colab_type": "code",
    "id": "gVpGnOMJLMgG",
    "papermill": {
     "duration": 0.024878,
     "end_time": "2020-08-10T05:29:28.418699",
     "exception": false,
     "start_time": "2020-08-10T05:29:28.393821",
     "status": "completed"
    },
    "tags": []
   },
   "outputs": [],
   "source": []
  },
  {
   "cell_type": "code",
   "execution_count": 22,
   "metadata": {
    "colab": {},
    "colab_type": "code",
    "execution": {
     "iopub.execute_input": "2020-08-10T05:29:28.473067Z",
     "iopub.status.busy": "2020-08-10T05:29:28.471947Z",
     "iopub.status.idle": "2020-08-10T05:29:28.475504Z",
     "shell.execute_reply": "2020-08-10T05:29:28.474867Z"
    },
    "id": "aykTwKSdLMgH",
    "papermill": {
     "duration": 0.033353,
     "end_time": "2020-08-10T05:29:28.475640",
     "exception": false,
     "start_time": "2020-08-10T05:29:28.442287",
     "status": "completed"
    },
    "tags": []
   },
   "outputs": [],
   "source": [
    "epoch_steps = train_size / params['batch_size'] \n",
    "valid_steps = valid_size / params['batch_size']\n",
    "test_steps = 1.0 * test_size / params['batch_size'] "
   ]
  },
  {
   "cell_type": "code",
   "execution_count": 23,
   "metadata": {
    "colab": {},
    "colab_type": "code",
    "execution": {
     "iopub.execute_input": "2020-08-10T05:29:28.534284Z",
     "iopub.status.busy": "2020-08-10T05:29:28.533405Z",
     "iopub.status.idle": "2020-08-10T05:29:28.574657Z",
     "shell.execute_reply": "2020-08-10T05:29:28.575364Z"
    },
    "id": "ZSyag_aJLMgI",
    "papermill": {
     "duration": 0.076334,
     "end_time": "2020-08-10T05:29:28.575543",
     "exception": false,
     "start_time": "2020-08-10T05:29:28.499209",
     "status": "completed"
    },
    "tags": []
   },
   "outputs": [],
   "source": [
    "#calculate class weights\n",
    "\n",
    "targets = train_df.groupby('target').count()['diagnosis'].to_list()\n",
    "target_0 = targets[0]\n",
    "target_1 = targets[1]\n",
    "total = target_0 + target_1\n",
    "\n",
    "class_weight_0 = (1 / target_0) * (total) / 2.0\n",
    "class_weight_1 = (1 / target_1) * (total) / 2.0\n",
    "\n",
    "class_weights = {0: class_weight_0, 1: class_weight_1}\n",
    "\n",
    "initial_bias = np.log([target_1 / target_0])\n",
    "\n"
   ]
  },
  {
   "cell_type": "code",
   "execution_count": 24,
   "metadata": {
    "colab": {},
    "colab_type": "code",
    "id": "M_-z4cMRLMgJ",
    "papermill": {
     "duration": 0.025821,
     "end_time": "2020-08-10T05:29:28.626335",
     "exception": false,
     "start_time": "2020-08-10T05:29:28.600514",
     "status": "completed"
    },
    "tags": []
   },
   "outputs": [],
   "source": [
    "def lr_schedule_fn(epoch, lr):\n",
    "    if epoch < 10:\n",
    "        return 0.000001\n",
    "    elif epoch == 10:\n",
    "        return 0.001\n",
    "    elif epoch %2 ==0 and epoch < 49:\n",
    "        return lr * 0.75\n",
    "    else:\n",
    "        return lr"
   ]
  },
  {
   "cell_type": "code",
   "execution_count": 25,
   "metadata": {
    "colab": {
     "base_uri": "https://localhost:8080/",
     "height": 357
    },
    "colab_type": "code",
    "execution": {
     "iopub.execute_input": "2020-08-10T05:29:28.680038Z",
     "iopub.status.busy": "2020-08-10T05:29:28.679268Z",
     "iopub.status.idle": "2020-08-10T05:29:34.746441Z",
     "shell.execute_reply": "2020-08-10T05:29:34.747377Z"
    },
    "id": "fOtpzGueLMgK",
    "outputId": "f8b7a409-b9ad-400d-d789-a1944c9ef05f",
    "papermill": {
     "duration": 6.097709,
     "end_time": "2020-08-10T05:29:34.747615",
     "exception": false,
     "start_time": "2020-08-10T05:29:28.649906",
     "status": "completed"
    },
    "tags": []
   },
   "outputs": [
    {
     "name": "stdout",
     "output_type": "stream",
     "text": [
      "Model: \"functional_1\"\n",
      "_________________________________________________________________\n",
      "Layer (type)                 Output Shape              Param #   \n",
      "=================================================================\n",
      "images_input (InputLayer)    [(None, 224, 224, 3)]     0         \n",
      "_________________________________________________________________\n",
      "densenet121 (Functional)     (None, 7, 7, 1024)        7037504   \n",
      "_________________________________________________________________\n",
      "global_average_pooling2d (Gl (None, 1024)              0         \n",
      "_________________________________________________________________\n",
      "dense (Dense)                (None, 512)               524800    \n",
      "_________________________________________________________________\n",
      "dropout (Dropout)            (None, 512)               0         \n",
      "_________________________________________________________________\n",
      "dense_1 (Dense)              (None, 1)                 513       \n",
      "=================================================================\n",
      "Total params: 7,562,817\n",
      "Trainable params: 7,479,169\n",
      "Non-trainable params: 83,648\n",
      "_________________________________________________________________\n"
     ]
    }
   ],
   "source": [
    "with strategy.scope():\n",
    "    model = create_model(bias_output=initial_bias)\n",
    "    model.summary()"
   ]
  },
  {
   "cell_type": "markdown",
   "metadata": {
    "colab_type": "text",
    "id": "PpMHxSTyLMgL",
    "papermill": {
     "duration": 0.023785,
     "end_time": "2020-08-10T05:29:34.802909",
     "exception": false,
     "start_time": "2020-08-10T05:29:34.779124",
     "status": "completed"
    },
    "tags": []
   },
   "source": [
    "# Training"
   ]
  },
  {
   "cell_type": "code",
   "execution_count": 26,
   "metadata": {
    "colab": {
     "base_uri": "https://localhost:8080/",
     "height": 1000
    },
    "colab_type": "code",
    "execution": {
     "iopub.execute_input": "2020-08-10T05:29:34.863831Z",
     "iopub.status.busy": "2020-08-10T05:29:34.862857Z",
     "iopub.status.idle": "2020-08-10T07:26:16.782372Z",
     "shell.execute_reply": "2020-08-10T07:26:16.781673Z"
    },
    "id": "kS9LOS2sLMgL",
    "outputId": "61c6cab5-8951-4522-d596-60a0f35dda9f",
    "papermill": {
     "duration": 7001.954688,
     "end_time": "2020-08-10T07:26:16.782530",
     "exception": false,
     "start_time": "2020-08-10T05:29:34.827842",
     "status": "completed"
    },
    "tags": []
   },
   "outputs": [
    {
     "name": "stdout",
     "output_type": "stream",
     "text": [
      "Epoch 1/150\n",
      " 2/28 [=>............................] - ETA: 7s - loss: 1.9390 - tp: 3.0000 - fn: 32.0000 - accuracy: 0.9414 - auc: 0.4802WARNING:tensorflow:Callbacks method `on_train_batch_end` is slow compared to the batch time (batch time: 0.0174s vs `on_train_batch_end` time: 0.5721s). Check your callbacks.\n"
     ]
    },
    {
     "name": "stderr",
     "output_type": "stream",
     "text": [
      "WARNING:tensorflow:Callbacks method `on_train_batch_end` is slow compared to the batch time (batch time: 0.0174s vs `on_train_batch_end` time: 0.5721s). Check your callbacks.\n"
     ]
    },
    {
     "name": "stdout",
     "output_type": "stream",
     "text": [
      "29/28 [==============================] - ETA: 0s - loss: 1.9459 - tp: 33.0000 - fn: 490.0000 - accuracy: 0.9370 - auc: 0.4974WARNING:tensorflow:Callbacks method `on_test_batch_end` is slow compared to the batch time (batch time: 0.0073s vs `on_test_batch_end` time: 0.1995s). Check your callbacks.\n"
     ]
    },
    {
     "name": "stderr",
     "output_type": "stream",
     "text": [
      "WARNING:tensorflow:Callbacks method `on_test_batch_end` is slow compared to the batch time (batch time: 0.0073s vs `on_test_batch_end` time: 0.1995s). Check your callbacks.\n"
     ]
    },
    {
     "name": "stdout",
     "output_type": "stream",
     "text": [
      "\b\b\b\b\b\b\b\b\b\b\b\b\b\b\b\b\b\b\b\b\b\b\b\b\b\b\b\b\b\b\b\b\b\b\b\b\b\b\b\b\b\b\b\b\b\b\b\b\b\b\b\b\b\b\b\b\b\b\b\b\b\b\b\b\b\b\b\b\b\b\b\b\b\b\b\b\b\b\b\b\b\b\b\b\b\b\b\b\b\b\b\b\b\b\b\b\b\b\b\b\b\b\b\b\b\b\b\b\b\b\b\b\b\b\b\b\b\b\b\b\b\b\b\b\b\r",
      "29/28 [==============================] - 42s 1s/step - loss: 1.9459 - tp: 33.0000 - fn: 490.0000 - accuracy: 0.9370 - auc: 0.4974 - val_loss: 0.1134 - val_tp: 0.0000e+00 - val_fn: 82.0000 - val_accuracy: 0.9840 - val_auc: 0.5238\n",
      "Epoch 2/150\n",
      "29/28 [==============================] - 24s 835ms/step - loss: 1.8657 - tp: 49.0000 - fn: 480.0000 - accuracy: 0.9233 - auc: 0.4952 - val_loss: 0.1174 - val_tp: 0.0000e+00 - val_fn: 87.0000 - val_accuracy: 0.9830 - val_auc: 0.5273\n",
      "Epoch 3/150\n",
      "29/28 [==============================] - 22s 751ms/step - loss: 1.7228 - tp: 48.0000 - fn: 480.0000 - accuracy: 0.9042 - auc: 0.5095 - val_loss: 0.1224 - val_tp: 1.0000 - val_fn: 86.0000 - val_accuracy: 0.9832 - val_auc: 0.5199\n",
      "Epoch 4/150\n",
      "29/28 [==============================] - 25s 845ms/step - loss: 1.4883 - tp: 73.0000 - fn: 453.0000 - accuracy: 0.8839 - auc: 0.5500 - val_loss: 0.1273 - val_tp: 1.0000 - val_fn: 85.0000 - val_accuracy: 0.9830 - val_auc: 0.5640\n",
      "Epoch 5/150\n",
      "29/28 [==============================] - 25s 854ms/step - loss: 1.4004 - tp: 100.0000 - fn: 426.0000 - accuracy: 0.8638 - auc: 0.5527 - val_loss: 0.1397 - val_tp: 3.0000 - val_fn: 84.0000 - val_accuracy: 0.9809 - val_auc: 0.5687\n",
      "Epoch 6/150\n",
      "29/28 [==============================] - 24s 842ms/step - loss: 1.3351 - tp: 129.0000 - fn: 402.0000 - accuracy: 0.8375 - auc: 0.5549 - val_loss: 0.1504 - val_tp: 3.0000 - val_fn: 83.0000 - val_accuracy: 0.9799 - val_auc: 0.6483\n",
      "Epoch 7/150\n",
      "29/28 [==============================] - 22s 743ms/step - loss: 1.2091 - tp: 142.0000 - fn: 384.0000 - accuracy: 0.8147 - auc: 0.5785 - val_loss: 0.1722 - val_tp: 4.0000 - val_fn: 84.0000 - val_accuracy: 0.9756 - val_auc: 0.6394\n",
      "Epoch 8/150\n",
      "29/28 [==============================] - 24s 844ms/step - loss: 1.1350 - tp: 167.0000 - fn: 366.0000 - accuracy: 0.7919 - auc: 0.5967 - val_loss: 0.2045 - val_tp: 6.0000 - val_fn: 81.0000 - val_accuracy: 0.9658 - val_auc: 0.6540\n",
      "Epoch 9/150\n",
      "29/28 [==============================] - 25s 853ms/step - loss: 1.1066 - tp: 173.0000 - fn: 353.0000 - accuracy: 0.7686 - auc: 0.5931 - val_loss: 0.2437 - val_tp: 7.0000 - val_fn: 77.0000 - val_accuracy: 0.9504 - val_auc: 0.6611\n",
      "Epoch 10/150\n",
      "29/28 [==============================] - 25s 854ms/step - loss: 1.0046 - tp: 231.0000 - fn: 298.0000 - accuracy: 0.7491 - auc: 0.6301 - val_loss: 0.2790 - val_tp: 18.0000 - val_fn: 67.0000 - val_accuracy: 0.9311 - val_auc: 0.7086\n",
      "Epoch 11/150\n",
      "29/28 [==============================] - 22s 756ms/step - loss: 1.3481 - tp: 367.0000 - fn: 166.0000 - accuracy: 0.6339 - auc: 0.6975 - val_loss: 77775.0156 - val_tp: 0.0000e+00 - val_fn: 86.0000 - val_accuracy: 0.9832 - val_auc: 0.5000\n",
      "Epoch 12/150\n",
      "29/28 [==============================] - 22s 759ms/step - loss: 0.5119 - tp: 417.0000 - fn: 117.0000 - accuracy: 0.7329 - auc: 0.8381 - val_loss: 14.0466 - val_tp: 0.0000e+00 - val_fn: 85.0000 - val_accuracy: 0.9811 - val_auc: 0.4985\n",
      "Epoch 13/150\n",
      "29/28 [==============================] - 22s 759ms/step - loss: 0.4507 - tp: 430.0000 - fn: 99.0000 - accuracy: 0.7658 - auc: 0.8724 - val_loss: 2.3818 - val_tp: 10.0000 - val_fn: 74.0000 - val_accuracy: 0.9367 - val_auc: 0.5284\n",
      "Epoch 14/150\n",
      "29/28 [==============================] - 22s 756ms/step - loss: 0.4299 - tp: 452.0000 - fn: 72.0000 - accuracy: 0.7726 - auc: 0.8847 - val_loss: 0.9904 - val_tp: 35.0000 - val_fn: 52.0000 - val_accuracy: 0.8357 - val_auc: 0.6481\n",
      "Epoch 15/150\n",
      "29/28 [==============================] - 25s 866ms/step - loss: 0.3998 - tp: 459.0000 - fn: 72.0000 - accuracy: 0.8003 - auc: 0.9035 - val_loss: 0.6492 - val_tp: 46.0000 - val_fn: 37.0000 - val_accuracy: 0.7777 - val_auc: 0.7679\n",
      "Epoch 16/150\n",
      "29/28 [==============================] - 24s 843ms/step - loss: 0.3849 - tp: 450.0000 - fn: 74.0000 - accuracy: 0.8024 - auc: 0.9082 - val_loss: 0.4586 - val_tp: 61.0000 - val_fn: 21.0000 - val_accuracy: 0.8064 - val_auc: 0.8534\n",
      "Epoch 17/150\n",
      "29/28 [==============================] - 24s 843ms/step - loss: 0.3594 - tp: 462.0000 - fn: 63.0000 - accuracy: 0.8247 - auc: 0.9236 - val_loss: 0.5737 - val_tp: 67.0000 - val_fn: 21.0000 - val_accuracy: 0.7326 - val_auc: 0.8632\n",
      "Epoch 18/150\n",
      "29/28 [==============================] - 24s 836ms/step - loss: 0.3218 - tp: 471.0000 - fn: 56.0000 - accuracy: 0.8422 - auc: 0.9380 - val_loss: 0.3657 - val_tp: 72.0000 - val_fn: 15.0000 - val_accuracy: 0.8271 - val_auc: 0.9001\n",
      "Epoch 19/150\n",
      "29/28 [==============================] - 24s 843ms/step - loss: 0.3044 - tp: 487.0000 - fn: 42.0000 - accuracy: 0.8467 - auc: 0.9444 - val_loss: 0.2813 - val_tp: 64.0000 - val_fn: 21.0000 - val_accuracy: 0.8680 - val_auc: 0.9123\n",
      "Epoch 20/150\n",
      "29/28 [==============================] - 22s 755ms/step - loss: 0.2746 - tp: 483.0000 - fn: 39.0000 - accuracy: 0.8671 - auc: 0.9559 - val_loss: 0.1992 - val_tp: 40.0000 - val_fn: 45.0000 - val_accuracy: 0.9215 - val_auc: 0.8881\n",
      "Epoch 21/150\n",
      "29/28 [==============================] - 24s 840ms/step - loss: 0.2547 - tp: 495.0000 - fn: 33.0000 - accuracy: 0.8783 - auc: 0.9624 - val_loss: 0.1916 - val_tp: 52.0000 - val_fn: 34.0000 - val_accuracy: 0.9293 - val_auc: 0.9218\n",
      "Epoch 22/150\n",
      "29/28 [==============================] - 22s 752ms/step - loss: 0.2287 - tp: 505.0000 - fn: 26.0000 - accuracy: 0.8953 - auc: 0.9703 - val_loss: 0.1855 - val_tp: 42.0000 - val_fn: 45.0000 - val_accuracy: 0.9365 - val_auc: 0.9158\n",
      "Epoch 23/150\n",
      "29/28 [==============================] - 22s 747ms/step - loss: 0.2248 - tp: 496.0000 - fn: 33.0000 - accuracy: 0.9025 - auc: 0.9717 - val_loss: 0.1469 - val_tp: 47.0000 - val_fn: 40.0000 - val_accuracy: 0.9516 - val_auc: 0.9214\n",
      "Epoch 24/150\n",
      "29/28 [==============================] - 22s 750ms/step - loss: 0.2075 - tp: 511.0000 - fn: 21.0000 - accuracy: 0.9067 - auc: 0.9759 - val_loss: 0.2364 - val_tp: 55.0000 - val_fn: 31.0000 - val_accuracy: 0.8957 - val_auc: 0.9081\n",
      "Epoch 25/150\n",
      "29/28 [==============================] - 22s 754ms/step - loss: 0.1976 - tp: 496.0000 - fn: 25.0000 - accuracy: 0.9113 - auc: 0.9781 - val_loss: 0.2373 - val_tp: 55.0000 - val_fn: 34.0000 - val_accuracy: 0.9033 - val_auc: 0.9089\n",
      "Epoch 26/150\n",
      "29/28 [==============================] - 22s 756ms/step - loss: 0.1974 - tp: 507.0000 - fn: 23.0000 - accuracy: 0.9172 - auc: 0.9790 - val_loss: 0.1403 - val_tp: 27.0000 - val_fn: 57.0000 - val_accuracy: 0.9529 - val_auc: 0.9056\n",
      "Epoch 27/150\n",
      "29/28 [==============================] - 22s 747ms/step - loss: 0.1750 - tp: 503.0000 - fn: 26.0000 - accuracy: 0.9291 - auc: 0.9835 - val_loss: 0.1351 - val_tp: 37.0000 - val_fn: 47.0000 - val_accuracy: 0.9580 - val_auc: 0.9103\n",
      "Epoch 28/150\n",
      "29/28 [==============================] - 22s 758ms/step - loss: 0.1623 - tp: 516.0000 - fn: 11.0000 - accuracy: 0.9339 - auc: 0.9858 - val_loss: 0.1338 - val_tp: 31.0000 - val_fn: 56.0000 - val_accuracy: 0.9598 - val_auc: 0.9047\n",
      "Epoch 29/150\n",
      "29/28 [==============================] - 22s 754ms/step - loss: 0.1505 - tp: 508.0000 - fn: 13.0000 - accuracy: 0.9391 - auc: 0.9878 - val_loss: 0.1244 - val_tp: 28.0000 - val_fn: 60.0000 - val_accuracy: 0.9635 - val_auc: 0.9125\n",
      "Epoch 30/150\n",
      "29/28 [==============================] - 22s 756ms/step - loss: 0.1383 - tp: 519.0000 - fn: 12.0000 - accuracy: 0.9476 - auc: 0.9907 - val_loss: 0.1545 - val_tp: 35.0000 - val_fn: 49.0000 - val_accuracy: 0.9482 - val_auc: 0.9163\n",
      "Epoch 31/150\n",
      "29/28 [==============================] - 22s 755ms/step - loss: 0.1223 - tp: 512.0000 - fn: 9.0000 - accuracy: 0.9520 - auc: 0.9927 - val_loss: 0.1712 - val_tp: 48.0000 - val_fn: 39.0000 - val_accuracy: 0.9410 - val_auc: 0.9155\n",
      "Epoch 32/150\n",
      "29/28 [==============================] - 22s 758ms/step - loss: 0.1215 - tp: 520.0000 - fn: 8.0000 - accuracy: 0.9578 - auc: 0.9924 - val_loss: 0.2909 - val_tp: 55.0000 - val_fn: 32.0000 - val_accuracy: 0.9014 - val_auc: 0.9097\n",
      "Epoch 33/150\n",
      "29/28 [==============================] - 22s 754ms/step - loss: 0.1175 - tp: 531.0000 - fn: 5.0000 - accuracy: 0.9552 - auc: 0.9929 - val_loss: 0.1505 - val_tp: 40.0000 - val_fn: 49.0000 - val_accuracy: 0.9494 - val_auc: 0.9069\n",
      "Epoch 34/150\n",
      "29/28 [==============================] - 22s 752ms/step - loss: 0.1150 - tp: 519.0000 - fn: 8.0000 - accuracy: 0.9623 - auc: 0.9933 - val_loss: 0.1321 - val_tp: 29.0000 - val_fn: 58.0000 - val_accuracy: 0.9631 - val_auc: 0.9199\n",
      "Epoch 35/150\n",
      "29/28 [==============================] - 22s 749ms/step - loss: 0.1081 - tp: 525.0000 - fn: 8.0000 - accuracy: 0.9657 - auc: 0.9946 - val_loss: 0.1316 - val_tp: 34.0000 - val_fn: 52.0000 - val_accuracy: 0.9617 - val_auc: 0.9157\n",
      "Epoch 36/150\n",
      "29/28 [==============================] - 22s 751ms/step - loss: 0.1046 - tp: 518.0000 - fn: 6.0000 - accuracy: 0.9657 - auc: 0.9948 - val_loss: 0.1195 - val_tp: 33.0000 - val_fn: 50.0000 - val_accuracy: 0.9688 - val_auc: 0.8848\n",
      "Epoch 37/150\n",
      "29/28 [==============================] - 22s 748ms/step - loss: 0.0981 - tp: 522.0000 - fn: 4.0000 - accuracy: 0.9670 - auc: 0.9956 - val_loss: 0.1212 - val_tp: 34.0000 - val_fn: 50.0000 - val_accuracy: 0.9658 - val_auc: 0.9123\n",
      "Epoch 38/150\n",
      "29/28 [==============================] - 22s 749ms/step - loss: 0.0967 - tp: 520.0000 - fn: 6.0000 - accuracy: 0.9674 - auc: 0.9961 - val_loss: 0.1465 - val_tp: 32.0000 - val_fn: 51.0000 - val_accuracy: 0.9551 - val_auc: 0.9046\n",
      "Epoch 39/150\n",
      "29/28 [==============================] - 22s 752ms/step - loss: 0.0901 - tp: 522.0000 - fn: 3.0000 - accuracy: 0.9717 - auc: 0.9968 - val_loss: 0.1411 - val_tp: 36.0000 - val_fn: 51.0000 - val_accuracy: 0.9611 - val_auc: 0.9027\n",
      "Epoch 40/150\n",
      "29/28 [==============================] - 22s 746ms/step - loss: 0.0913 - tp: 524.0000 - fn: 1.0000 - accuracy: 0.9708 - auc: 0.9962 - val_loss: 0.1262 - val_tp: 27.0000 - val_fn: 56.0000 - val_accuracy: 0.9676 - val_auc: 0.8925\n",
      "Epoch 41/150\n",
      "29/28 [==============================] - 22s 753ms/step - loss: 0.0844 - tp: 527.0000 - fn: 1.0000 - accuracy: 0.9743 - auc: 0.9971 - val_loss: 0.1312 - val_tp: 32.0000 - val_fn: 54.0000 - val_accuracy: 0.9605 - val_auc: 0.9165\n",
      "Epoch 42/150\n",
      "29/28 [==============================] - 22s 755ms/step - loss: 0.0910 - tp: 520.0000 - fn: 6.0000 - accuracy: 0.9730 - auc: 0.9965 - val_loss: 0.1254 - val_tp: 38.0000 - val_fn: 47.0000 - val_accuracy: 0.9662 - val_auc: 0.9043\n",
      "Epoch 43/150\n",
      "29/28 [==============================] - 22s 752ms/step - loss: 0.0840 - tp: 519.0000 - fn: 4.0000 - accuracy: 0.9736 - auc: 0.9972 - val_loss: 0.1264 - val_tp: 30.0000 - val_fn: 58.0000 - val_accuracy: 0.9658 - val_auc: 0.8968\n",
      "Epoch 44/150\n",
      "29/28 [==============================] - 22s 756ms/step - loss: 0.0845 - tp: 528.0000 - fn: 4.0000 - accuracy: 0.9760 - auc: 0.9970 - val_loss: 0.1310 - val_tp: 39.0000 - val_fn: 50.0000 - val_accuracy: 0.9646 - val_auc: 0.8933\n",
      "Epoch 45/150\n",
      "29/28 [==============================] - 22s 752ms/step - loss: 0.0803 - tp: 522.0000 - fn: 1.0000 - accuracy: 0.9756 - auc: 0.9975 - val_loss: 0.1396 - val_tp: 34.0000 - val_fn: 53.0000 - val_accuracy: 0.9617 - val_auc: 0.8988\n",
      "Epoch 46/150\n",
      "29/28 [==============================] - 22s 743ms/step - loss: 0.0799 - tp: 529.0000 - fn: 2.0000 - accuracy: 0.9768 - auc: 0.9975 - val_loss: 0.1303 - val_tp: 38.0000 - val_fn: 46.0000 - val_accuracy: 0.9654 - val_auc: 0.8985\n",
      "Epoch 47/150\n",
      "29/28 [==============================] - 22s 755ms/step - loss: 0.0797 - tp: 532.0000 - fn: 1.0000 - accuracy: 0.9775 - auc: 0.9976 - val_loss: 0.1358 - val_tp: 26.0000 - val_fn: 56.0000 - val_accuracy: 0.9656 - val_auc: 0.8804\n",
      "Epoch 48/150\n",
      "29/28 [==============================] - 22s 753ms/step - loss: 0.0811 - tp: 526.0000 - fn: 3.0000 - accuracy: 0.9773 - auc: 0.9975 - val_loss: 0.1457 - val_tp: 40.0000 - val_fn: 49.0000 - val_accuracy: 0.9596 - val_auc: 0.8837\n",
      "Epoch 49/150\n",
      "29/28 [==============================] - 22s 750ms/step - loss: 0.0814 - tp: 526.0000 - fn: 3.0000 - accuracy: 0.9778 - auc: 0.9975 - val_loss: 0.1316 - val_tp: 40.0000 - val_fn: 45.0000 - val_accuracy: 0.9664 - val_auc: 0.8886\n",
      "Epoch 50/150\n",
      "29/28 [==============================] - 22s 760ms/step - loss: 0.0806 - tp: 522.0000 - fn: 0.0000e+00 - accuracy: 0.9771 - auc: 0.9974 - val_loss: 0.1368 - val_tp: 39.0000 - val_fn: 46.0000 - val_accuracy: 0.9621 - val_auc: 0.8855\n",
      "Epoch 51/150\n",
      "29/28 [==============================] - 22s 753ms/step - loss: 0.0768 - tp: 533.0000 - fn: 1.0000 - accuracy: 0.9780 - auc: 0.9977 - val_loss: 0.1333 - val_tp: 34.0000 - val_fn: 54.0000 - val_accuracy: 0.9646 - val_auc: 0.8861\n",
      "Epoch 52/150\n",
      "29/28 [==============================] - 22s 757ms/step - loss: 0.0795 - tp: 523.0000 - fn: 2.0000 - accuracy: 0.9795 - auc: 0.9975 - val_loss: 0.1327 - val_tp: 41.0000 - val_fn: 46.0000 - val_accuracy: 0.9645 - val_auc: 0.9168\n",
      "Epoch 53/150\n",
      "29/28 [==============================] - 22s 759ms/step - loss: 0.0818 - tp: 531.0000 - fn: 4.0000 - accuracy: 0.9780 - auc: 0.9974 - val_loss: 0.1459 - val_tp: 38.0000 - val_fn: 49.0000 - val_accuracy: 0.9602 - val_auc: 0.8769\n",
      "Epoch 54/150\n",
      "29/28 [==============================] - 22s 747ms/step - loss: 0.0798 - tp: 530.0000 - fn: 3.0000 - accuracy: 0.9783 - auc: 0.9974 - val_loss: 0.1490 - val_tp: 33.0000 - val_fn: 50.0000 - val_accuracy: 0.9607 - val_auc: 0.8759\n",
      "Epoch 55/150\n",
      "29/28 [==============================] - 22s 751ms/step - loss: 0.0752 - tp: 524.0000 - fn: 0.0000e+00 - accuracy: 0.9791 - auc: 0.9980 - val_loss: 0.1458 - val_tp: 36.0000 - val_fn: 49.0000 - val_accuracy: 0.9592 - val_auc: 0.8796\n",
      "Epoch 56/150\n",
      "29/28 [==============================] - 26s 883ms/step - loss: 0.0769 - tp: 526.0000 - fn: 2.0000 - accuracy: 0.9789 - auc: 0.9978 - val_loss: 0.1420 - val_tp: 35.0000 - val_fn: 54.0000 - val_accuracy: 0.9615 - val_auc: 0.8917\n"
     ]
    }
   ],
   "source": [
    "early_stopping = tf.keras.callbacks.EarlyStopping(monitor='val_auc', #val_auc\n",
    "                                patience=35,\n",
    "                                mode='max',\n",
    "                                restore_best_weights=True)\n",
    "lr_schedule = tf.keras.callbacks.LearningRateScheduler(lr_schedule_fn)\n",
    "\n",
    "\n",
    "history = model.fit(\n",
    "    train_ds,\n",
    "#     batch_size=params['batch_size'],\n",
    "    epochs= params['epochs'], \n",
    "    steps_per_epoch=epoch_steps,\n",
    "    validation_data=valid_ds,\n",
    "    validation_steps=valid_steps,\n",
    "    class_weight=class_weights,\n",
    "    callbacks=[early_stopping, lr_schedule]\n",
    ")\n",
    "\n"
   ]
  },
  {
   "cell_type": "code",
   "execution_count": 27,
   "metadata": {
    "colab": {
     "base_uri": "https://localhost:8080/",
     "height": 139
    },
    "colab_type": "code",
    "execution": {
     "iopub.execute_input": "2020-08-10T07:26:17.988752Z",
     "iopub.status.busy": "2020-08-10T07:26:17.987551Z",
     "iopub.status.idle": "2020-08-10T07:27:05.467405Z",
     "shell.execute_reply": "2020-08-10T07:27:05.466555Z"
    },
    "id": "eA4PkEzsLMgM",
    "outputId": "d7c86e21-4660-48ef-bcc8-32084d5b4243",
    "papermill": {
     "duration": 48.044916,
     "end_time": "2020-08-10T07:27:05.467551",
     "exception": false,
     "start_time": "2020-08-10T07:26:17.422635",
     "status": "completed"
    },
    "tags": []
   },
   "outputs": [
    {
     "name": "stdout",
     "output_type": "stream",
     "text": [
      "WARNING:tensorflow:From /usr/local/lib/python3.6/dist-packages/tensorflow/python/data/ops/multi_device_iterator_ops.py:601: get_next_as_optional (from tensorflow.python.data.ops.iterator_ops) is deprecated and will be removed in a future version.\n",
      "Instructions for updating:\n",
      "Use `tf.data.Iterator.get_next_as_optional()` instead.\n"
     ]
    },
    {
     "name": "stderr",
     "output_type": "stream",
     "text": [
      "WARNING:tensorflow:From /usr/local/lib/python3.6/dist-packages/tensorflow/python/data/ops/multi_device_iterator_ops.py:601: get_next_as_optional (from tensorflow.python.data.ops.iterator_ops) is deprecated and will be removed in a future version.\n",
      "Instructions for updating:\n",
      "Use `tf.data.Iterator.get_next_as_optional()` instead.\n"
     ]
    }
   ],
   "source": [
    "predictions = model.predict(test_ds.map(lambda img, igs: img), steps=test_steps)  "
   ]
  },
  {
   "cell_type": "code",
   "execution_count": 28,
   "metadata": {
    "colab": {
     "base_uri": "https://localhost:8080/",
     "height": 445
    },
    "colab_type": "code",
    "execution": {
     "iopub.execute_input": "2020-08-10T07:27:06.572095Z",
     "iopub.status.busy": "2020-08-10T07:27:06.571043Z",
     "iopub.status.idle": "2020-08-10T07:27:10.897767Z",
     "shell.execute_reply": "2020-08-10T07:27:10.896877Z"
    },
    "id": "1U9IhzWcLMgN",
    "outputId": "cb9e3a48-71c2-4634-b614-509b923bfd63",
    "papermill": {
     "duration": 4.884037,
     "end_time": "2020-08-10T07:27:10.897906",
     "exception": false,
     "start_time": "2020-08-10T07:27:06.013869",
     "status": "completed"
    },
    "tags": []
   },
   "outputs": [
    {
     "name": "stdout",
     "output_type": "stream",
     "text": [
      "WARNING:tensorflow:AutoGraph could not transform <function <lambda> at 0x7f100ee380d0> and will run it as-is.\n",
      "Cause: could not parse the source code:\n",
      "\n",
      "                          map(lambda img, ids:ids).\n",
      "\n",
      "This error may be avoided by creating the lambda in a standalone statement.\n",
      "\n",
      "To silence this warning, decorate the function with @tf.autograph.experimental.do_not_convert\n"
     ]
    },
    {
     "name": "stderr",
     "output_type": "stream",
     "text": [
      "WARNING:tensorflow:AutoGraph could not transform <function <lambda> at 0x7f100ee380d0> and will run it as-is.\n",
      "Cause: could not parse the source code:\n",
      "\n",
      "                          map(lambda img, ids:ids).\n",
      "\n",
      "This error may be avoided by creating the lambda in a standalone statement.\n",
      "\n",
      "To silence this warning, decorate the function with @tf.autograph.experimental.do_not_convert\n"
     ]
    },
    {
     "name": "stdout",
     "output_type": "stream",
     "text": [
      "WARNING: AutoGraph could not transform <function <lambda> at 0x7f100ee380d0> and will run it as-is.\n",
      "Cause: could not parse the source code:\n",
      "\n",
      "                          map(lambda img, ids:ids).\n",
      "\n",
      "This error may be avoided by creating the lambda in a standalone statement.\n",
      "\n",
      "To silence this warning, decorate the function with @tf.autograph.experimental.do_not_convert\n"
     ]
    }
   ],
   "source": [
    "prediction_ids = next(iter(test_ds.\n",
    "                          map(lambda img, ids:ids).\n",
    "                          unbatch().\n",
    "                          batch(test_size))).numpy().astype('str')"
   ]
  },
  {
   "cell_type": "code",
   "execution_count": 29,
   "metadata": {
    "colab": {},
    "colab_type": "code",
    "execution": {
     "iopub.execute_input": "2020-08-10T07:27:12.128064Z",
     "iopub.status.busy": "2020-08-10T07:27:12.127208Z",
     "iopub.status.idle": "2020-08-10T07:27:12.142643Z",
     "shell.execute_reply": "2020-08-10T07:27:12.141837Z"
    },
    "id": "kQ7UGn3vLMgO",
    "papermill": {
     "duration": 0.574152,
     "end_time": "2020-08-10T07:27:12.142772",
     "exception": false,
     "start_time": "2020-08-10T07:27:11.568620",
     "status": "completed"
    },
    "tags": []
   },
   "outputs": [],
   "source": [
    "prediction_dict = {\n",
    "    'image_name': prediction_ids,\n",
    "    'target': np.concatenate(predictions)\n",
    "}\n",
    "submission_ds = pd.DataFrame(prediction_dict)"
   ]
  },
  {
   "cell_type": "code",
   "execution_count": 30,
   "metadata": {
    "colab": {
     "base_uri": "https://localhost:8080/",
     "height": 204
    },
    "colab_type": "code",
    "execution": {
     "iopub.execute_input": "2020-08-10T07:27:13.356629Z",
     "iopub.status.busy": "2020-08-10T07:27:13.355341Z",
     "iopub.status.idle": "2020-08-10T07:27:13.360912Z",
     "shell.execute_reply": "2020-08-10T07:27:13.360045Z"
    },
    "id": "1A4o3bZ4LMgP",
    "outputId": "fec80501-f344-442d-8c7e-834aa9d8b71b",
    "papermill": {
     "duration": 0.660873,
     "end_time": "2020-08-10T07:27:13.361076",
     "exception": false,
     "start_time": "2020-08-10T07:27:12.700203",
     "status": "completed"
    },
    "tags": []
   },
   "outputs": [
    {
     "data": {
      "text/html": [
       "<div>\n",
       "<style scoped>\n",
       "    .dataframe tbody tr th:only-of-type {\n",
       "        vertical-align: middle;\n",
       "    }\n",
       "\n",
       "    .dataframe tbody tr th {\n",
       "        vertical-align: top;\n",
       "    }\n",
       "\n",
       "    .dataframe thead th {\n",
       "        text-align: right;\n",
       "    }\n",
       "</style>\n",
       "<table border=\"1\" class=\"dataframe\">\n",
       "  <thead>\n",
       "    <tr style=\"text-align: right;\">\n",
       "      <th></th>\n",
       "      <th>image_name</th>\n",
       "      <th>target</th>\n",
       "    </tr>\n",
       "  </thead>\n",
       "  <tbody>\n",
       "    <tr>\n",
       "      <th>0</th>\n",
       "      <td>ISIC_6381819</td>\n",
       "      <td>0.257537</td>\n",
       "    </tr>\n",
       "    <tr>\n",
       "      <th>1</th>\n",
       "      <td>ISIC_5583376</td>\n",
       "      <td>0.409993</td>\n",
       "    </tr>\n",
       "    <tr>\n",
       "      <th>2</th>\n",
       "      <td>ISIC_6408546</td>\n",
       "      <td>0.006662</td>\n",
       "    </tr>\n",
       "    <tr>\n",
       "      <th>3</th>\n",
       "      <td>ISIC_6932354</td>\n",
       "      <td>0.156194</td>\n",
       "    </tr>\n",
       "    <tr>\n",
       "      <th>4</th>\n",
       "      <td>ISIC_8191278</td>\n",
       "      <td>0.019170</td>\n",
       "    </tr>\n",
       "  </tbody>\n",
       "</table>\n",
       "</div>"
      ],
      "text/plain": [
       "     image_name    target\n",
       "0  ISIC_6381819  0.257537\n",
       "1  ISIC_5583376  0.409993\n",
       "2  ISIC_6408546  0.006662\n",
       "3  ISIC_6932354  0.156194\n",
       "4  ISIC_8191278  0.019170"
      ]
     },
     "execution_count": 30,
     "metadata": {
      "tags": []
     },
     "output_type": "execute_result"
    }
   ],
   "source": [
    "submission_ds.head()"
   ]
  },
  {
   "cell_type": "code",
   "execution_count": 31,
   "metadata": {
    "colab": {},
    "colab_type": "code",
    "execution": {
     "iopub.execute_input": "2020-08-10T07:27:14.495784Z",
     "iopub.status.busy": "2020-08-10T07:27:14.494636Z",
     "iopub.status.idle": "2020-08-10T07:27:14.562995Z",
     "shell.execute_reply": "2020-08-10T07:27:14.562184Z"
    },
    "id": "KcsPat4yLMgQ",
    "papermill": {
     "duration": 0.640161,
     "end_time": "2020-08-10T07:27:14.563171",
     "exception": false,
     "start_time": "2020-08-10T07:27:13.923010",
     "status": "completed"
    },
    "tags": []
   },
   "outputs": [],
   "source": [
    "submission_ds.to_csv('submission.csv', index=False)"
   ]
  },
  {
   "cell_type": "markdown",
   "metadata": {
    "colab_type": "text",
    "id": "ubGSnZkvLMgR",
    "papermill": {
     "duration": 0.560236,
     "end_time": "2020-08-10T07:27:15.750840",
     "exception": false,
     "start_time": "2020-08-10T07:27:15.190604",
     "status": "completed"
    },
    "tags": []
   },
   "source": [
    "# Metrics"
   ]
  },
  {
   "cell_type": "code",
   "execution_count": 32,
   "metadata": {
    "colab": {},
    "colab_type": "code",
    "execution": {
     "iopub.execute_input": "2020-08-10T07:27:16.938779Z",
     "iopub.status.busy": "2020-08-10T07:27:16.937645Z",
     "iopub.status.idle": "2020-08-10T07:27:16.940763Z",
     "shell.execute_reply": "2020-08-10T07:27:16.941337Z"
    },
    "id": "UxBeXMGxLMgR",
    "papermill": {
     "duration": 0.629839,
     "end_time": "2020-08-10T07:27:16.941507",
     "exception": false,
     "start_time": "2020-08-10T07:27:16.311668",
     "status": "completed"
    },
    "tags": []
   },
   "outputs": [],
   "source": [
    "def plot_metric(metric1, metric2, ylabel):\n",
    "    plt.plot(history.history[metric1], label=metric1)\n",
    "    plt.plot(history.history[metric2], label=metric2)\n",
    "    plt.ylabel(ylabel)\n",
    "    plt.xlabel('epoch')\n",
    "    plt.legend()\n",
    "    plt.show()"
   ]
  },
  {
   "cell_type": "code",
   "execution_count": 33,
   "metadata": {
    "colab": {
     "base_uri": "https://localhost:8080/",
     "height": 806
    },
    "colab_type": "code",
    "execution": {
     "iopub.execute_input": "2020-08-10T07:27:18.076192Z",
     "iopub.status.busy": "2020-08-10T07:27:18.075358Z",
     "iopub.status.idle": "2020-08-10T07:27:18.785477Z",
     "shell.execute_reply": "2020-08-10T07:27:18.784625Z"
    },
    "id": "eMIClAMiLMgS",
    "outputId": "b1552272-b660-40d2-863c-cf9d116e8062",
    "papermill": {
     "duration": 1.275459,
     "end_time": "2020-08-10T07:27:18.785617",
     "exception": false,
     "start_time": "2020-08-10T07:27:17.510158",
     "status": "completed"
    },
    "tags": []
   },
   "outputs": [
    {
     "data": {
      "image/png": "[encoded data removed]",
      "text/plain": [
       "<Figure size 432x288 with 1 Axes>"
      ]
     },
     "metadata": {
      "needs_background": "light",
      "tags": []
     },
     "output_type": "display_data"
    },
    {
     "data": {
      "image/png": "[encoded data removed]",
      "text/plain": [
       "<Figure size 432x288 with 1 Axes>"
      ]
     },
     "metadata": {
      "needs_background": "light",
      "tags": []
     },
     "output_type": "display_data"
    },
    {
     "data": {
      "image/png": "[encoded data removed]",
      "text/plain": [
       "<Figure size 432x288 with 1 Axes>"
      ]
     },
     "metadata": {
      "needs_background": "light",
      "tags": []
     },
     "output_type": "display_data"
    }
   ],
   "source": [
    "plot_metric('auc', 'val_auc', 'auc')\n",
    "plot_metric('loss', 'val_loss', 'loss')\n",
    "plot_metric('accuracy', 'val_accuracy', 'accuracy')"
   ]
  },
  {
   "cell_type": "code",
   "execution_count": 34,
   "metadata": {
    "colab": {
     "base_uri": "https://localhost:8080/",
     "height": 1000
    },
    "colab_type": "code",
    "execution": {
     "iopub.execute_input": "2020-08-10T07:27:20.013676Z",
     "iopub.status.busy": "2020-08-10T07:27:19.987689Z",
     "iopub.status.idle": "2020-08-10T07:27:20.026708Z",
     "shell.execute_reply": "2020-08-10T07:27:20.027321Z"
    },
    "id": "5Q8vZ-fALMgS",
    "outputId": "e9ee3718-3447-463b-c64c-249ebb553035",
    "papermill": {
     "duration": 0.603291,
     "end_time": "2020-08-10T07:27:20.027521",
     "exception": false,
     "start_time": "2020-08-10T07:27:19.424230",
     "status": "completed"
    },
    "tags": []
   },
   "outputs": [
    {
     "data": {
      "text/plain": [
       "{'accuracy': [0.9370285272598267,\n",
       "  0.9233229756355286,\n",
       "  0.9041958451271057,\n",
       "  0.8838900923728943,\n",
       "  0.8637526631355286,\n",
       "  0.837520182132721,\n",
       "  0.8146888613700867,\n",
       "  0.7919248342514038,\n",
       "  0.7685546875,\n",
       "  0.7490907907485962,\n",
       "  0.6338900923728943,\n",
       "  0.7328932881355286,\n",
       "  0.7658270597457886,\n",
       "  0.7726293206214905,\n",
       "  0.8002761006355286,\n",
       "  0.802363932132721,\n",
       "  0.8246565461158752,\n",
       "  0.8422346115112305,\n",
       "  0.8467470407485962,\n",
       "  0.8670864701271057,\n",
       "  0.878266453742981,\n",
       "  0.8952720761299133,\n",
       "  0.9024784564971924,\n",
       "  0.9066541194915771,\n",
       "  0.9112675189971924,\n",
       "  0.9171605706214905,\n",
       "  0.929081380367279,\n",
       "  0.9338631629943848,\n",
       "  0.939116358757019,\n",
       "  0.9475687146186829,\n",
       "  0.9519800543785095,\n",
       "  0.9578394293785095,\n",
       "  0.9551791548728943,\n",
       "  0.962250828742981,\n",
       "  0.9656856060028076,\n",
       "  0.9656519293785095,\n",
       "  0.9669652581214905,\n",
       "  0.9673693180084229,\n",
       "  0.9717470407485962,\n",
       "  0.9707704782485962,\n",
       "  0.9743399620056152,\n",
       "  0.973026692867279,\n",
       "  0.9735991358757019,\n",
       "  0.975956380367279,\n",
       "  0.9756196141242981,\n",
       "  0.9768319129943848,\n",
       "  0.9774717092514038,\n",
       "  0.9773033261299133,\n",
       "  0.9778421521186829,\n",
       "  0.9770675897598267,\n",
       "  0.9780441522598267,\n",
       "  0.9794921875,\n",
       "  0.9780441522598267,\n",
       "  0.9782798886299133,\n",
       "  0.979121744632721,\n",
       "  0.978886067867279],\n",
       " 'auc': [0.4974408745765686,\n",
       "  0.495191752910614,\n",
       "  0.5095222592353821,\n",
       "  0.5500084757804871,\n",
       "  0.5527154207229614,\n",
       "  0.5548525452613831,\n",
       "  0.5785152912139893,\n",
       "  0.5966559052467346,\n",
       "  0.5931383967399597,\n",
       "  0.6300969123840332,\n",
       "  0.6975007057189941,\n",
       "  0.8380816578865051,\n",
       "  0.8723979592323303,\n",
       "  0.884745717048645,\n",
       "  0.9034838080406189,\n",
       "  0.9082345962524414,\n",
       "  0.9236204028129578,\n",
       "  0.9380151629447937,\n",
       "  0.9444253444671631,\n",
       "  0.9558852910995483,\n",
       "  0.9624369144439697,\n",
       "  0.9702591896057129,\n",
       "  0.971749484539032,\n",
       "  0.9758818745613098,\n",
       "  0.9781380295753479,\n",
       "  0.9789783954620361,\n",
       "  0.9835193157196045,\n",
       "  0.9857741594314575,\n",
       "  0.9877901673316956,\n",
       "  0.9906800389289856,\n",
       "  0.9926882982254028,\n",
       "  0.9924118518829346,\n",
       "  0.992866039276123,\n",
       "  0.9933352470397949,\n",
       "  0.9945794939994812,\n",
       "  0.9947501420974731,\n",
       "  0.9955601096153259,\n",
       "  0.9960512518882751,\n",
       "  0.996796727180481,\n",
       "  0.9961897730827332,\n",
       "  0.9971216917037964,\n",
       "  0.9964685440063477,\n",
       "  0.9972468018531799,\n",
       "  0.9970229864120483,\n",
       "  0.997473955154419,\n",
       "  0.9974513053894043,\n",
       "  0.9975512027740479,\n",
       "  0.997505247592926,\n",
       "  0.9975045323371887,\n",
       "  0.9973516464233398,\n",
       "  0.9977355599403381,\n",
       "  0.9974855780601501,\n",
       "  0.9973807334899902,\n",
       "  0.997399628162384,\n",
       "  0.9979913234710693,\n",
       "  0.9977954030036926],\n",
       " 'fn': [490.0,\n",
       "  480.0,\n",
       "  480.0,\n",
       "  453.0,\n",
       "  426.0,\n",
       "  402.0,\n",
       "  384.0,\n",
       "  366.0,\n",
       "  353.0,\n",
       "  298.0,\n",
       "  166.0,\n",
       "  117.0,\n",
       "  99.0,\n",
       "  72.0,\n",
       "  72.0,\n",
       "  74.0,\n",
       "  63.0,\n",
       "  56.0,\n",
       "  42.0,\n",
       "  39.0,\n",
       "  33.0,\n",
       "  26.0,\n",
       "  33.0,\n",
       "  21.0,\n",
       "  25.0,\n",
       "  23.0,\n",
       "  26.0,\n",
       "  11.0,\n",
       "  13.0,\n",
       "  12.0,\n",
       "  9.0,\n",
       "  8.0,\n",
       "  5.0,\n",
       "  8.0,\n",
       "  8.0,\n",
       "  6.0,\n",
       "  4.0,\n",
       "  6.0,\n",
       "  3.0,\n",
       "  1.0,\n",
       "  1.0,\n",
       "  6.0,\n",
       "  4.0,\n",
       "  4.0,\n",
       "  1.0,\n",
       "  2.0,\n",
       "  1.0,\n",
       "  3.0,\n",
       "  3.0,\n",
       "  0.0,\n",
       "  1.0,\n",
       "  2.0,\n",
       "  4.0,\n",
       "  3.0,\n",
       "  0.0,\n",
       "  2.0],\n",
       " 'loss': [1.9458585977554321,\n",
       "  1.8656947612762451,\n",
       "  1.7228189706802368,\n",
       "  1.488329529762268,\n",
       "  1.4004203081130981,\n",
       "  1.335138201713562,\n",
       "  1.2091368436813354,\n",
       "  1.1350115537643433,\n",
       "  1.1065596342086792,\n",
       "  1.0046292543411255,\n",
       "  1.348138689994812,\n",
       "  0.5118736624717712,\n",
       "  0.4507274329662323,\n",
       "  0.4298818111419678,\n",
       "  0.39983388781547546,\n",
       "  0.38492146134376526,\n",
       "  0.3594008684158325,\n",
       "  0.3218074440956116,\n",
       "  0.3043573200702667,\n",
       "  0.2745671272277832,\n",
       "  0.25471192598342896,\n",
       "  0.22874929010868073,\n",
       "  0.2247854769229889,\n",
       "  0.20750607550144196,\n",
       "  0.1976424604654312,\n",
       "  0.19735030829906464,\n",
       "  0.17500346899032593,\n",
       "  0.1622643619775772,\n",
       "  0.15045353770256042,\n",
       "  0.13827429711818695,\n",
       "  0.12230265140533447,\n",
       "  0.12153611332178116,\n",
       "  0.1174975335597992,\n",
       "  0.11502372473478317,\n",
       "  0.10809233039617538,\n",
       "  0.104591965675354,\n",
       "  0.0980825200676918,\n",
       "  0.09666505455970764,\n",
       "  0.09010365605354309,\n",
       "  0.09125632047653198,\n",
       "  0.08435863256454468,\n",
       "  0.09102276712656021,\n",
       "  0.08404046297073364,\n",
       "  0.08449924737215042,\n",
       "  0.08033064007759094,\n",
       "  0.07994649559259415,\n",
       "  0.07972544431686401,\n",
       "  0.08109226822853088,\n",
       "  0.0813540518283844,\n",
       "  0.08058717101812363,\n",
       "  0.07678037136793137,\n",
       "  0.07946498692035675,\n",
       "  0.08176277577877045,\n",
       "  0.07977548986673355,\n",
       "  0.07523871213197708,\n",
       "  0.07692039757966995],\n",
       " 'lr': [1e-06,\n",
       "  1e-06,\n",
       "  1e-06,\n",
       "  1e-06,\n",
       "  1e-06,\n",
       "  1e-06,\n",
       "  1e-06,\n",
       "  1e-06,\n",
       "  1e-06,\n",
       "  1e-06,\n",
       "  0.001,\n",
       "  0.001,\n",
       "  0.00075,\n",
       "  0.00075,\n",
       "  0.0005625,\n",
       "  0.0005625,\n",
       "  0.00042187498,\n",
       "  0.00042187498,\n",
       "  0.00031640625,\n",
       "  0.00031640625,\n",
       "  0.00023730469,\n",
       "  0.00023730469,\n",
       "  0.00017797851,\n",
       "  0.00017797851,\n",
       "  0.00013348387,\n",
       "  0.00013348387,\n",
       "  0.000100112906,\n",
       "  0.000100112906,\n",
       "  7.508468e-05,\n",
       "  7.508468e-05,\n",
       "  5.631351e-05,\n",
       "  5.631351e-05,\n",
       "  4.2235133e-05,\n",
       "  4.2235133e-05,\n",
       "  3.167635e-05,\n",
       "  3.167635e-05,\n",
       "  2.3757264e-05,\n",
       "  2.3757264e-05,\n",
       "  1.7817947e-05,\n",
       "  1.7817947e-05,\n",
       "  1.336346e-05,\n",
       "  1.336346e-05,\n",
       "  1.0022595e-05,\n",
       "  1.0022595e-05,\n",
       "  7.5169464e-06,\n",
       "  7.5169464e-06,\n",
       "  5.63771e-06,\n",
       "  5.63771e-06,\n",
       "  4.2282823e-06,\n",
       "  4.2282823e-06,\n",
       "  4.2282823e-06,\n",
       "  4.2282823e-06,\n",
       "  4.2282823e-06,\n",
       "  4.2282823e-06,\n",
       "  4.2282823e-06,\n",
       "  4.2282823e-06],\n",
       " 'tp': [33.0,\n",
       "  49.0,\n",
       "  48.0,\n",
       "  73.0,\n",
       "  100.0,\n",
       "  129.0,\n",
       "  142.0,\n",
       "  167.0,\n",
       "  173.0,\n",
       "  231.0,\n",
       "  367.0,\n",
       "  417.0,\n",
       "  430.0,\n",
       "  452.0,\n",
       "  459.0,\n",
       "  450.0,\n",
       "  462.0,\n",
       "  471.0,\n",
       "  487.0,\n",
       "  483.0,\n",
       "  495.0,\n",
       "  505.0,\n",
       "  496.0,\n",
       "  511.0,\n",
       "  496.0,\n",
       "  507.0,\n",
       "  503.0,\n",
       "  516.0,\n",
       "  508.0,\n",
       "  519.0,\n",
       "  512.0,\n",
       "  520.0,\n",
       "  531.0,\n",
       "  519.0,\n",
       "  525.0,\n",
       "  518.0,\n",
       "  522.0,\n",
       "  520.0,\n",
       "  522.0,\n",
       "  524.0,\n",
       "  527.0,\n",
       "  520.0,\n",
       "  519.0,\n",
       "  528.0,\n",
       "  522.0,\n",
       "  529.0,\n",
       "  532.0,\n",
       "  526.0,\n",
       "  526.0,\n",
       "  522.0,\n",
       "  533.0,\n",
       "  523.0,\n",
       "  531.0,\n",
       "  530.0,\n",
       "  524.0,\n",
       "  526.0],\n",
       " 'val_accuracy': [0.9839844107627869,\n",
       "  0.9830078482627869,\n",
       "  0.983203113079071,\n",
       "  0.9830078482627869,\n",
       "  0.9808593988418579,\n",
       "  0.9798828363418579,\n",
       "  0.9755859375,\n",
       "  0.9658203125,\n",
       "  0.950390636920929,\n",
       "  0.9310547113418579,\n",
       "  0.983203113079071,\n",
       "  0.9810547232627869,\n",
       "  0.936718761920929,\n",
       "  0.835742175579071,\n",
       "  0.7777343988418579,\n",
       "  0.806445300579071,\n",
       "  0.732617199420929,\n",
       "  0.8271484375,\n",
       "  0.867968738079071,\n",
       "  0.9214844107627869,\n",
       "  0.9292969107627869,\n",
       "  0.9365234375,\n",
       "  0.9515625238418579,\n",
       "  0.895703136920929,\n",
       "  0.9033203125,\n",
       "  0.952929675579071,\n",
       "  0.9580078125,\n",
       "  0.959765613079071,\n",
       "  0.9634765982627869,\n",
       "  0.9482421875,\n",
       "  0.9410156607627869,\n",
       "  0.9013671875,\n",
       "  0.949414074420929,\n",
       "  0.963085949420929,\n",
       "  0.961718738079071,\n",
       "  0.96875,\n",
       "  0.9658203125,\n",
       "  0.955078125,\n",
       "  0.961132824420929,\n",
       "  0.967578113079071,\n",
       "  0.9605469107627869,\n",
       "  0.9662109613418579,\n",
       "  0.9658203125,\n",
       "  0.964648425579071,\n",
       "  0.961718738079071,\n",
       "  0.9654297232627869,\n",
       "  0.965624988079071,\n",
       "  0.9595703482627869,\n",
       "  0.9664062857627869,\n",
       "  0.962109386920929,\n",
       "  0.964648425579071,\n",
       "  0.9644531607627869,\n",
       "  0.960156261920929,\n",
       "  0.960742175579071,\n",
       "  0.959179699420929,\n",
       "  0.9615234732627869],\n",
       " 'val_auc': [0.5237995982170105,\n",
       "  0.527280867099762,\n",
       "  0.5199338793754578,\n",
       "  0.5640251040458679,\n",
       "  0.5686836838722229,\n",
       "  0.6482812166213989,\n",
       "  0.6393867135047913,\n",
       "  0.653995156288147,\n",
       "  0.6611372828483582,\n",
       "  0.7086348533630371,\n",
       "  0.5,\n",
       "  0.4985104203224182,\n",
       "  0.5283508896827698,\n",
       "  0.6480869054794312,\n",
       "  0.7678528428077698,\n",
       "  0.8533620238304138,\n",
       "  0.8632071614265442,\n",
       "  0.9000939130783081,\n",
       "  0.9122763276100159,\n",
       "  0.8881053328514099,\n",
       "  0.9218002557754517,\n",
       "  0.9157766699790955,\n",
       "  0.9213958382606506,\n",
       "  0.908051073551178,\n",
       "  0.908862829208374,\n",
       "  0.9056152701377869,\n",
       "  0.9103315472602844,\n",
       "  0.904720664024353,\n",
       "  0.9124907851219177,\n",
       "  0.916292130947113,\n",
       "  0.9154729247093201,\n",
       "  0.9097302556037903,\n",
       "  0.9068841338157654,\n",
       "  0.9199286103248596,\n",
       "  0.9156720638275146,\n",
       "  0.8847790360450745,\n",
       "  0.912260115146637,\n",
       "  0.9046225547790527,\n",
       "  0.9027097225189209,\n",
       "  0.8925257325172424,\n",
       "  0.9164808988571167,\n",
       "  0.904323935508728,\n",
       "  0.8968286514282227,\n",
       "  0.8932709693908691,\n",
       "  0.8987883925437927,\n",
       "  0.8984702229499817,\n",
       "  0.8803772330284119,\n",
       "  0.8837276101112366,\n",
       "  0.8885847330093384,\n",
       "  0.8854946494102478,\n",
       "  0.8861185908317566,\n",
       "  0.9167644381523132,\n",
       "  0.8769249320030212,\n",
       "  0.8758567571640015,\n",
       "  0.8796168565750122,\n",
       "  0.8916592597961426],\n",
       " 'val_fn': [82.0,\n",
       "  87.0,\n",
       "  86.0,\n",
       "  85.0,\n",
       "  84.0,\n",
       "  83.0,\n",
       "  84.0,\n",
       "  81.0,\n",
       "  77.0,\n",
       "  67.0,\n",
       "  86.0,\n",
       "  85.0,\n",
       "  74.0,\n",
       "  52.0,\n",
       "  37.0,\n",
       "  21.0,\n",
       "  21.0,\n",
       "  15.0,\n",
       "  21.0,\n",
       "  45.0,\n",
       "  34.0,\n",
       "  45.0,\n",
       "  40.0,\n",
       "  31.0,\n",
       "  34.0,\n",
       "  57.0,\n",
       "  47.0,\n",
       "  56.0,\n",
       "  60.0,\n",
       "  49.0,\n",
       "  39.0,\n",
       "  32.0,\n",
       "  49.0,\n",
       "  58.0,\n",
       "  52.0,\n",
       "  50.0,\n",
       "  50.0,\n",
       "  51.0,\n",
       "  51.0,\n",
       "  56.0,\n",
       "  54.0,\n",
       "  47.0,\n",
       "  58.0,\n",
       "  50.0,\n",
       "  53.0,\n",
       "  46.0,\n",
       "  56.0,\n",
       "  49.0,\n",
       "  45.0,\n",
       "  46.0,\n",
       "  54.0,\n",
       "  46.0,\n",
       "  49.0,\n",
       "  50.0,\n",
       "  49.0,\n",
       "  54.0],\n",
       " 'val_loss': [0.11341898888349533,\n",
       "  0.11742930859327316,\n",
       "  0.12236976623535156,\n",
       "  0.12730129063129425,\n",
       "  0.1397142857313156,\n",
       "  0.15041951835155487,\n",
       "  0.17223583161830902,\n",
       "  0.2044999897480011,\n",
       "  0.2436971664428711,\n",
       "  0.2789953649044037,\n",
       "  77775.015625,\n",
       "  14.046599388122559,\n",
       "  2.381843328475952,\n",
       "  0.9904306530952454,\n",
       "  0.6491573452949524,\n",
       "  0.458563894033432,\n",
       "  0.5737478733062744,\n",
       "  0.3657476603984833,\n",
       "  0.28129416704177856,\n",
       "  0.19915084540843964,\n",
       "  0.1915588229894638,\n",
       "  0.18545223772525787,\n",
       "  0.14690133929252625,\n",
       "  0.2364024966955185,\n",
       "  0.23727093636989594,\n",
       "  0.1403486281633377,\n",
       "  0.13505999743938446,\n",
       "  0.13379092514514923,\n",
       "  0.1244279146194458,\n",
       "  0.15452803671360016,\n",
       "  0.17116284370422363,\n",
       "  0.29085323214530945,\n",
       "  0.15050673484802246,\n",
       "  0.1320853978395462,\n",
       "  0.13159744441509247,\n",
       "  0.11951732635498047,\n",
       "  0.12115850299596786,\n",
       "  0.14646780490875244,\n",
       "  0.1411372721195221,\n",
       "  0.12618382275104523,\n",
       "  0.13115014135837555,\n",
       "  0.12542274594306946,\n",
       "  0.12641337513923645,\n",
       "  0.13104316592216492,\n",
       "  0.13958854973316193,\n",
       "  0.13029393553733826,\n",
       "  0.13584139943122864,\n",
       "  0.14572332799434662,\n",
       "  0.1315920501947403,\n",
       "  0.1367933601140976,\n",
       "  0.13327424228191376,\n",
       "  0.13266447186470032,\n",
       "  0.14587275683879852,\n",
       "  0.149049311876297,\n",
       "  0.14584986865520477,\n",
       "  0.14201109111309052],\n",
       " 'val_tp': [0.0,\n",
       "  0.0,\n",
       "  1.0,\n",
       "  1.0,\n",
       "  3.0,\n",
       "  3.0,\n",
       "  4.0,\n",
       "  6.0,\n",
       "  7.0,\n",
       "  18.0,\n",
       "  0.0,\n",
       "  0.0,\n",
       "  10.0,\n",
       "  35.0,\n",
       "  46.0,\n",
       "  61.0,\n",
       "  67.0,\n",
       "  72.0,\n",
       "  64.0,\n",
       "  40.0,\n",
       "  52.0,\n",
       "  42.0,\n",
       "  47.0,\n",
       "  55.0,\n",
       "  55.0,\n",
       "  27.0,\n",
       "  37.0,\n",
       "  31.0,\n",
       "  28.0,\n",
       "  35.0,\n",
       "  48.0,\n",
       "  55.0,\n",
       "  40.0,\n",
       "  29.0,\n",
       "  34.0,\n",
       "  33.0,\n",
       "  34.0,\n",
       "  32.0,\n",
       "  36.0,\n",
       "  27.0,\n",
       "  32.0,\n",
       "  38.0,\n",
       "  30.0,\n",
       "  39.0,\n",
       "  34.0,\n",
       "  38.0,\n",
       "  26.0,\n",
       "  40.0,\n",
       "  40.0,\n",
       "  39.0,\n",
       "  34.0,\n",
       "  41.0,\n",
       "  38.0,\n",
       "  33.0,\n",
       "  36.0,\n",
       "  35.0]}"
      ]
     },
     "execution_count": 34,
     "metadata": {
      "tags": []
     },
     "output_type": "execute_result"
    }
   ],
   "source": [
    "history.history"
   ]
  },
  {
   "cell_type": "code",
   "execution_count": 35,
   "metadata": {
    "colab": {},
    "colab_type": "code",
    "execution": {
     "iopub.execute_input": "2020-08-10T07:27:21.261282Z",
     "iopub.status.busy": "2020-08-10T07:27:21.257010Z",
     "iopub.status.idle": "2020-08-10T07:27:22.506785Z",
     "shell.execute_reply": "2020-08-10T07:27:22.505913Z"
    },
    "id": "2LH6uE5yLMgT",
    "papermill": {
     "duration": 1.91359,
     "end_time": "2020-08-10T07:27:22.506968",
     "exception": false,
     "start_time": "2020-08-10T07:27:20.593378",
     "status": "completed"
    },
    "tags": []
   },
   "outputs": [],
   "source": [
    "model.save('model.h5')"
   ]
  },
  {
   "cell_type": "code",
   "execution_count": null,
   "metadata": {
    "colab": {},
    "colab_type": "code",
    "id": "FqS_fPjDLMgj"
   },
   "outputs": [],
   "source": []
  }
 ],
 "metadata": {
  "accelerator": "TPU",
  "colab": {
   "name": "predictions_draft.ipynb",
   "provenance": []
  },
  "kernelspec": {
   "display_name": "Python 3",
   "language": "python",
   "name": "python3"
  },
  "language_info": {
   "codemirror_mode": {
    "name": "ipython",
    "version": 3
   },
   "file_extension": ".py",
   "mimetype": "text/x-python",
   "name": "python",
   "nbconvert_exporter": "python",
   "pygments_lexer": "ipython3",
   "version": "3.7.3"
  },
  "papermill": {
   "duration": 7110.3586,
   "end_time": "2020-08-10T07:27:30.001979",
   "environment_variables": {},
   "exception": null,
   "input_path": "__notebook__.ipynb",
   "output_path": "__notebook__.ipynb",
   "parameters": {},
   "start_time": "2020-08-10T05:28:59.643379",
   "version": "2.1.0"
  }
 },
 "nbformat": 4,
 "nbformat_minor": 1
}
