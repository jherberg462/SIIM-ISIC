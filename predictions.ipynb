{
 "cells": [
  {
   "cell_type": "code",
   "execution_count": 1,
   "metadata": {
    "_cell_guid": "b1076dfc-b9ad-4769-8c92-a6c4dae69d19",
    "_uuid": "8f2839f25d086af736a60e9eeb907d3b93b6e0e5",
    "execution": {
     "iopub.execute_input": "2020-08-13T07:08:51.024305Z",
     "iopub.status.busy": "2020-08-13T07:08:51.023494Z",
     "iopub.status.idle": "2020-08-13T07:09:00.953853Z",
     "shell.execute_reply": "2020-08-13T07:09:00.953061Z"
    },
    "papermill": {
     "duration": 9.961533,
     "end_time": "2020-08-13T07:09:00.953997",
     "exception": false,
     "start_time": "2020-08-13T07:08:50.992464",
     "status": "completed"
    },
    "tags": []
   },
   "outputs": [
    {
     "name": "stdout",
     "output_type": "stream",
     "text": [
      "Collecting fsspec\r\n",
      "  Downloading fsspec-0.8.0-py3-none-any.whl (85 kB)\r\n",
      "\u001b[K     |████████████████████████████████| 85 kB 759 kB/s \r\n",
      "\u001b[?25hInstalling collected packages: fsspec\r\n",
      "  Attempting uninstall: fsspec\r\n",
      "    Found existing installation: fsspec 0.7.2\r\n",
      "    Uninstalling fsspec-0.7.2:\r\n",
      "      Successfully uninstalled fsspec-0.7.2\r\n",
      "Successfully installed fsspec-0.8.0\r\n",
      "\u001b[33mWARNING: You are using pip version 20.2.1; however, version 20.2.2 is available.\r\n",
      "You should consider upgrading via the '/opt/conda/bin/python3.7 -m pip install --upgrade pip' command.\u001b[0m\r\n"
     ]
    }
   ],
   "source": [
    "!pip install fsspec --upgrade"
   ]
  },
  {
   "cell_type": "code",
   "execution_count": 2,
   "metadata": {
    "execution": {
     "iopub.execute_input": "2020-08-13T07:09:01.020141Z",
     "iopub.status.busy": "2020-08-13T07:09:01.019356Z",
     "iopub.status.idle": "2020-08-13T07:09:07.404166Z",
     "shell.execute_reply": "2020-08-13T07:09:07.403375Z"
    },
    "papermill": {
     "duration": 6.420536,
     "end_time": "2020-08-13T07:09:07.404296",
     "exception": false,
     "start_time": "2020-08-13T07:09:00.983760",
     "status": "completed"
    },
    "tags": []
   },
   "outputs": [
    {
     "name": "stdout",
     "output_type": "stream",
     "text": [
      "got GCS path via KaggleDatasets .get_gcs_path method\n"
     ]
    }
   ],
   "source": [
    "import numpy as np # linear algebra\n",
    "import pandas as pd # data processing, CSV file I/O (e.g. pd.read_csv)\n",
    "\n",
    "\n",
    "import os\n",
    "\n",
    "import tensorflow as tf\n",
    "from tensorflow.keras import layers \n",
    "from tensorflow import keras\n",
    "import tensorflow_hub as hub\n",
    "from sklearn.model_selection import train_test_split\n",
    "from matplotlib import pyplot as plt\n",
    "\n",
    "try:\n",
    "    from kaggle_datasets import KaggleDatasets\n",
    "    dataset_gcs = KaggleDatasets().get_gcs_path('siim-isic-melanoma-classification')\n",
    "    print('got GCS path via KaggleDatasets .get_gcs_path method')\n",
    "except ModuleNotFoundError:\n",
    "    #hardcode path while testing locally\n",
    "    dataset_gcs = 'gs://'\n"
   ]
  },
  {
   "cell_type": "code",
   "execution_count": 3,
   "metadata": {
    "_cell_guid": "79c7e3d0-c299-4dcb-8224-4455121ee9b0",
    "_uuid": "d629ff2d2480ee46fbb7e2d37f6b5fab8052498a",
    "execution": {
     "iopub.execute_input": "2020-08-13T07:09:07.467567Z",
     "iopub.status.busy": "2020-08-13T07:09:07.466641Z",
     "iopub.status.idle": "2020-08-13T07:09:07.470797Z",
     "shell.execute_reply": "2020-08-13T07:09:07.471345Z"
    },
    "papermill": {
     "duration": 0.039312,
     "end_time": "2020-08-13T07:09:07.471525",
     "exception": false,
     "start_time": "2020-08-13T07:09:07.432213",
     "status": "completed"
    },
    "tags": []
   },
   "outputs": [
    {
     "data": {
      "text/plain": [
       "'2.3.0'"
      ]
     },
     "execution_count": 3,
     "metadata": {},
     "output_type": "execute_result"
    }
   ],
   "source": [
    "tf.__version__\n"
   ]
  },
  {
   "cell_type": "code",
   "execution_count": 4,
   "metadata": {
    "execution": {
     "iopub.execute_input": "2020-08-13T07:09:07.534444Z",
     "iopub.status.busy": "2020-08-13T07:09:07.533475Z",
     "iopub.status.idle": "2020-08-13T07:09:07.535895Z",
     "shell.execute_reply": "2020-08-13T07:09:07.536429Z"
    },
    "papermill": {
     "duration": 0.036801,
     "end_time": "2020-08-13T07:09:07.536627",
     "exception": false,
     "start_time": "2020-08-13T07:09:07.499826",
     "status": "completed"
    },
    "tags": []
   },
   "outputs": [],
   "source": [
    "params = {\n",
    "    'batch_size' : 128,\n",
    "    'img_size' : [299, 299],\n",
    "    'epochs': 80\n",
    "}\n"
   ]
  },
  {
   "cell_type": "code",
   "execution_count": 5,
   "metadata": {
    "execution": {
     "iopub.execute_input": "2020-08-13T07:09:07.681464Z",
     "iopub.status.busy": "2020-08-13T07:09:07.680301Z",
     "iopub.status.idle": "2020-08-13T07:09:12.101830Z",
     "shell.execute_reply": "2020-08-13T07:09:12.100697Z"
    },
    "papermill": {
     "duration": 4.536984,
     "end_time": "2020-08-13T07:09:12.101972",
     "exception": false,
     "start_time": "2020-08-13T07:09:07.564988",
     "status": "completed"
    },
    "tags": []
   },
   "outputs": [
    {
     "name": "stdout",
     "output_type": "stream",
     "text": [
      "Running on TPU  grpc://10.0.0.2:8470\n",
      "REPLICAS:  8\n"
     ]
    }
   ],
   "source": [
    "try:\n",
    "    # TPU detection. No parameters necessary if TPU_NAME environment variable is\n",
    "    # set: this is always the case on Kaggle.\n",
    "    tpu = tf.distribute.cluster_resolver.TPUClusterResolver()\n",
    "    print('Running on TPU ', tpu.master())\n",
    "except ValueError:\n",
    "    tpu = None\n",
    "\n",
    "if tpu:\n",
    "    tf.config.experimental_connect_to_cluster(tpu)\n",
    "    tf.tpu.experimental.initialize_tpu_system(tpu)\n",
    "    strategy = tf.distribute.experimental.TPUStrategy(tpu)\n",
    "else:\n",
    "    # Default distribution strategy in Tensorflow. Works on CPU and single GPU.\n",
    "    strategy = tf.distribute.get_strategy()\n",
    "\n",
    "print(\"REPLICAS: \", strategy.num_replicas_in_sync)"
   ]
  },
  {
   "cell_type": "code",
   "execution_count": 6,
   "metadata": {
    "execution": {
     "iopub.execute_input": "2020-08-13T07:09:12.167161Z",
     "iopub.status.busy": "2020-08-13T07:09:12.166379Z",
     "iopub.status.idle": "2020-08-13T07:09:12.170483Z",
     "shell.execute_reply": "2020-08-13T07:09:12.169749Z"
    },
    "papermill": {
     "duration": 0.038881,
     "end_time": "2020-08-13T07:09:12.170642",
     "exception": false,
     "start_time": "2020-08-13T07:09:12.131761",
     "status": "completed"
    },
    "tags": []
   },
   "outputs": [],
   "source": [
    "params['batch_size'] = params['batch_size'] * strategy.num_replicas_in_sync"
   ]
  },
  {
   "cell_type": "code",
   "execution_count": 7,
   "metadata": {
    "execution": {
     "iopub.execute_input": "2020-08-13T07:09:12.234770Z",
     "iopub.status.busy": "2020-08-13T07:09:12.233917Z",
     "iopub.status.idle": "2020-08-13T07:09:12.238430Z",
     "shell.execute_reply": "2020-08-13T07:09:12.237725Z"
    },
    "papermill": {
     "duration": 0.038625,
     "end_time": "2020-08-13T07:09:12.238585",
     "exception": false,
     "start_time": "2020-08-13T07:09:12.199960",
     "status": "completed"
    },
    "tags": []
   },
   "outputs": [],
   "source": [
    "# sub = pd.read_csv(dataset_gcs + '/sample_submission.csv')\n",
    "# sub.head(1)"
   ]
  },
  {
   "cell_type": "code",
   "execution_count": 8,
   "metadata": {
    "execution": {
     "iopub.execute_input": "2020-08-13T07:09:12.303010Z",
     "iopub.status.busy": "2020-08-13T07:09:12.301903Z",
     "iopub.status.idle": "2020-08-13T07:09:21.813187Z",
     "shell.execute_reply": "2020-08-13T07:09:21.812415Z"
    },
    "papermill": {
     "duration": 9.545615,
     "end_time": "2020-08-13T07:09:21.813315",
     "exception": false,
     "start_time": "2020-08-13T07:09:12.267700",
     "status": "completed"
    },
    "tags": []
   },
   "outputs": [
    {
     "data": {
      "text/html": [
       "<div>\n",
       "<style scoped>\n",
       "    .dataframe tbody tr th:only-of-type {\n",
       "        vertical-align: middle;\n",
       "    }\n",
       "\n",
       "    .dataframe tbody tr th {\n",
       "        vertical-align: top;\n",
       "    }\n",
       "\n",
       "    .dataframe thead th {\n",
       "        text-align: right;\n",
       "    }\n",
       "</style>\n",
       "<table border=\"1\" class=\"dataframe\">\n",
       "  <thead>\n",
       "    <tr style=\"text-align: right;\">\n",
       "      <th></th>\n",
       "      <th>image_name</th>\n",
       "      <th>patient_id</th>\n",
       "      <th>sex</th>\n",
       "      <th>age_approx</th>\n",
       "      <th>anatom_site_general_challenge</th>\n",
       "      <th>diagnosis</th>\n",
       "      <th>benign_malignant</th>\n",
       "    </tr>\n",
       "    <tr>\n",
       "      <th>target</th>\n",
       "      <th></th>\n",
       "      <th></th>\n",
       "      <th></th>\n",
       "      <th></th>\n",
       "      <th></th>\n",
       "      <th></th>\n",
       "      <th></th>\n",
       "    </tr>\n",
       "  </thead>\n",
       "  <tbody>\n",
       "    <tr>\n",
       "      <th>0</th>\n",
       "      <td>32542</td>\n",
       "      <td>32542</td>\n",
       "      <td>32477</td>\n",
       "      <td>32474</td>\n",
       "      <td>32024</td>\n",
       "      <td>32542</td>\n",
       "      <td>32542</td>\n",
       "    </tr>\n",
       "    <tr>\n",
       "      <th>1</th>\n",
       "      <td>584</td>\n",
       "      <td>584</td>\n",
       "      <td>584</td>\n",
       "      <td>584</td>\n",
       "      <td>575</td>\n",
       "      <td>584</td>\n",
       "      <td>584</td>\n",
       "    </tr>\n",
       "  </tbody>\n",
       "</table>\n",
       "</div>"
      ],
      "text/plain": [
       "        image_name  patient_id    sex  age_approx  \\\n",
       "target                                              \n",
       "0            32542       32542  32477       32474   \n",
       "1              584         584    584         584   \n",
       "\n",
       "        anatom_site_general_challenge  diagnosis  benign_malignant  \n",
       "target                                                              \n",
       "0                               32024      32542             32542  \n",
       "1                                 575        584               584  "
      ]
     },
     "execution_count": 8,
     "metadata": {},
     "output_type": "execute_result"
    }
   ],
   "source": [
    "train_df = pd.read_csv(dataset_gcs + '/train.csv')\n",
    "train_df.groupby('target').count() "
   ]
  },
  {
   "cell_type": "code",
   "execution_count": 9,
   "metadata": {
    "execution": {
     "iopub.execute_input": "2020-08-13T07:09:21.882711Z",
     "iopub.status.busy": "2020-08-13T07:09:21.881800Z",
     "iopub.status.idle": "2020-08-13T07:09:21.885038Z",
     "shell.execute_reply": "2020-08-13T07:09:21.884373Z"
    },
    "papermill": {
     "duration": 0.042125,
     "end_time": "2020-08-13T07:09:21.885167",
     "exception": false,
     "start_time": "2020-08-13T07:09:21.843042",
     "status": "completed"
    },
    "tags": []
   },
   "outputs": [],
   "source": [
    "def decode_image_label(tfrec):\n",
    "    '''\n",
    "    function to decode an image and target label from tfrecord\n",
    "    \n",
    "    args:\n",
    "        tfrec: tfrecord, single record of training/validation data\n",
    "    \n",
    "    returns:\n",
    "        decoded_image: tensor, converted image from tfrecord\n",
    "        label: tensor, integer, either 1 or 0\n",
    "    \n",
    "    '''\n",
    "    \n",
    "    features_dictionary = {\n",
    "        'image': tf.io.FixedLenFeature([], tf.string),\n",
    "        \"target\": tf.io.FixedLenFeature([], tf.int64)\n",
    "        }\n",
    "    features = tf.io.parse_single_example(tfrec, features_dictionary)\n",
    "    decoded_image = tf.io.decode_jpeg(features['image'], 3)\n",
    "    decoded_image = tf.image.resize(decoded_image, params['img_size'])\n",
    "    label = features['target']\n",
    "    \n",
    "    return decoded_image, label\n",
    "    \n"
   ]
  },
  {
   "cell_type": "code",
   "execution_count": 10,
   "metadata": {
    "execution": {
     "iopub.execute_input": "2020-08-13T07:09:21.954434Z",
     "iopub.status.busy": "2020-08-13T07:09:21.953298Z",
     "iopub.status.idle": "2020-08-13T07:09:21.956690Z",
     "shell.execute_reply": "2020-08-13T07:09:21.956085Z"
    },
    "papermill": {
     "duration": 0.042049,
     "end_time": "2020-08-13T07:09:21.956822",
     "exception": false,
     "start_time": "2020-08-13T07:09:21.914773",
     "status": "completed"
    },
    "tags": []
   },
   "outputs": [],
   "source": [
    "def decode_image(tfrec):\n",
    "    '''\n",
    "    function to decode an image from tfrecord\n",
    "    \n",
    "    args:\n",
    "        tfrec: tfrecord, single record of training/validation data\n",
    "    \n",
    "    returns:\n",
    "        decoded_image: tensor, converted image from tfrecord\n",
    "        img_name: tensor, string, Id of the decoded image\n",
    "    \n",
    "    '''\n",
    "    \n",
    "    features_dictionary = {\n",
    "        'image': tf.io.FixedLenFeature([], tf.string),\n",
    "        \"image_name\": tf.io.FixedLenFeature([], tf.string)\n",
    "        }\n",
    "    features = tf.io.parse_single_example(tfrec, features_dictionary)\n",
    "    decoded_image = tf.io.decode_jpeg(features['image'], 3)\n",
    "    decoded_image = tf.image.resize(decoded_image, params['img_size'])\n",
    "    img_name = features['image_name']\n",
    "    \n",
    "    return decoded_image, img_name"
   ]
  },
  {
   "cell_type": "code",
   "execution_count": 11,
   "metadata": {
    "execution": {
     "iopub.execute_input": "2020-08-13T07:09:22.026767Z",
     "iopub.status.busy": "2020-08-13T07:09:22.025929Z",
     "iopub.status.idle": "2020-08-13T07:09:22.029395Z",
     "shell.execute_reply": "2020-08-13T07:09:22.028679Z"
    },
    "papermill": {
     "duration": 0.043097,
     "end_time": "2020-08-13T07:09:22.029533",
     "exception": false,
     "start_time": "2020-08-13T07:09:21.986436",
     "status": "completed"
    },
    "tags": []
   },
   "outputs": [],
   "source": [
    "def normalize_image_label(decoded_image, label):\n",
    "    '''\n",
    "    function to convert an image tensor values from 0 to 255 \n",
    "    -> -1 to 1\n",
    "    to be used when dealing with tfrecords containing labels\n",
    "    \n",
    "    args:\n",
    "        decoded_image: tensor that is an image with values from 0 to 255\n",
    "        label: tensor, target label\n",
    "    \n",
    "    returns: \n",
    "        image_tensor: tensor that is an image with values from -1 to 1\n",
    "        label, same as input\n",
    "    \n",
    "    '''\n",
    "    \n",
    "    #add dim at the zero axis Shape will be from (x, y, z) -> (None, x, y, z)\n",
    "    image_tensor = tf.expand_dims(decoded_image, 0)\n",
    "    #undo the above line -- this is needed due to TF not allowing a filtered tensor py_function\n",
    "    image_tensor = tf.gather(image_tensor, 0)\n",
    "\n",
    "    #convert tensor values to between -1 and 1 (0 to 255 -> -1 to 1)\n",
    "    image_tensor = (tf.cast(image_tensor, tf.float32) - 127.5) / 127.5\n",
    "\n",
    "    return image_tensor, label"
   ]
  },
  {
   "cell_type": "code",
   "execution_count": 12,
   "metadata": {
    "execution": {
     "iopub.execute_input": "2020-08-13T07:09:22.096298Z",
     "iopub.status.busy": "2020-08-13T07:09:22.095549Z",
     "iopub.status.idle": "2020-08-13T07:09:22.099194Z",
     "shell.execute_reply": "2020-08-13T07:09:22.098504Z"
    },
    "papermill": {
     "duration": 0.040057,
     "end_time": "2020-08-13T07:09:22.099318",
     "exception": false,
     "start_time": "2020-08-13T07:09:22.059261",
     "status": "completed"
    },
    "tags": []
   },
   "outputs": [],
   "source": [
    "def normalize_image(decoded_image):\n",
    "    '''\n",
    "    function to convert an image tensor values from 0 to 255 \n",
    "    -> -1 to 1\n",
    "    \n",
    "    args:\n",
    "        decoded_image: tensor that is an image with values from 0 to 255\n",
    "    \n",
    "    returns: \n",
    "        image_tensor: tensor that is an image with values from -1 to 1\n",
    "    \n",
    "    '''\n",
    "    \n",
    "    #add dim at the zero axis Shape will be from (x, y, z) -> (None, x, y, z)\n",
    "    image_tensor = tf.expand_dims(decoded_image, 0)\n",
    "    #undo the above line -- this is needed due to TF not allowing a filtered tensor py_function\n",
    "    image_tensor = tf.gather(image_tensor, 0)\n",
    "\n",
    "    #convert tensor values to between -1 and 1 (0 to 255 -> -1 to 1)\n",
    "    image_tensor = (tf.cast(image_tensor, tf.float32) - 127.5) / 127.5\n",
    "\n",
    "    return image_tensor"
   ]
  },
  {
   "cell_type": "code",
   "execution_count": 13,
   "metadata": {
    "execution": {
     "iopub.execute_input": "2020-08-13T07:09:22.166475Z",
     "iopub.status.busy": "2020-08-13T07:09:22.165710Z",
     "iopub.status.idle": "2020-08-13T07:09:22.169772Z",
     "shell.execute_reply": "2020-08-13T07:09:22.168960Z"
    },
    "papermill": {
     "duration": 0.039596,
     "end_time": "2020-08-13T07:09:22.169906",
     "exception": false,
     "start_time": "2020-08-13T07:09:22.130310",
     "status": "completed"
    },
    "tags": []
   },
   "outputs": [],
   "source": [
    "def random_flip(image, label):\n",
    "    '''\n",
    "    function to randomly flip images on the x and/or y axis\n",
    "    \n",
    "    args:\n",
    "        image: tensor, an image\n",
    "        label: tensor, target label\n",
    "    \n",
    "    returns: \n",
    "        image: tensor, same as input, but possibly flipped on x and/or y axis\n",
    "        label, tensor, same as input\n",
    "    '''\n",
    "    image = tf.image.random_flip_left_right(image)\n",
    "    image = tf.image.random_flip_up_down(image)\n",
    "    return image, label"
   ]
  },
  {
   "cell_type": "code",
   "execution_count": 14,
   "metadata": {
    "execution": {
     "iopub.execute_input": "2020-08-13T07:09:22.240730Z",
     "iopub.status.busy": "2020-08-13T07:09:22.239618Z",
     "iopub.status.idle": "2020-08-13T07:09:22.242389Z",
     "shell.execute_reply": "2020-08-13T07:09:22.242945Z"
    },
    "papermill": {
     "duration": 0.043265,
     "end_time": "2020-08-13T07:09:22.243106",
     "exception": false,
     "start_time": "2020-08-13T07:09:22.199841",
     "status": "completed"
    },
    "tags": []
   },
   "outputs": [],
   "source": [
    "def get_train_ds(tfrecords, batch_size):\n",
    "    '''\n",
    "    function to create a ds pipeline from tfrecord files\n",
    "    \n",
    "    args:\n",
    "        tfrecords: list, tfrecord file paths\n",
    "        batch_size: int, batch size for number of records to pass into\n",
    "            model at a time\n",
    "    returns:\n",
    "        ds: tensorflow input pipeline with images and labels\n",
    "    '''\n",
    "    ds = (tf.data.TFRecordDataset(filenames=[tfrecords],\n",
    "                                 num_parallel_reads=tf.data.experimental.AUTOTUNE).\n",
    "#           cache(). #need to remove cache while not usnig TPUs\n",
    "          map(decode_image_label, num_parallel_calls=tf.data.experimental.AUTOTUNE).\n",
    "          map(normalize_image_label, num_parallel_calls=tf.data.experimental.AUTOTUNE).\n",
    "          map(random_flip, num_parallel_calls=tf.data.experimental.AUTOTUNE).\n",
    "          repeat().\n",
    "          shuffle(512).\n",
    "          batch(batch_size,\n",
    "               drop_remainder=True).\n",
    "          prefetch(tf.data.experimental.AUTOTUNE)\n",
    "         )\n",
    "    \n",
    "\n",
    "    \n",
    "    return ds\n",
    "    "
   ]
  },
  {
   "cell_type": "code",
   "execution_count": 15,
   "metadata": {
    "execution": {
     "iopub.execute_input": "2020-08-13T07:09:22.311597Z",
     "iopub.status.busy": "2020-08-13T07:09:22.310783Z",
     "iopub.status.idle": "2020-08-13T07:09:22.313940Z",
     "shell.execute_reply": "2020-08-13T07:09:22.314495Z"
    },
    "papermill": {
     "duration": 0.041901,
     "end_time": "2020-08-13T07:09:22.314685",
     "exception": false,
     "start_time": "2020-08-13T07:09:22.272784",
     "status": "completed"
    },
    "tags": []
   },
   "outputs": [],
   "source": [
    "def get_test_ds(tfrecords, batch_size):\n",
    "    '''\n",
    "    function to create a dataset for test data\n",
    "    args:\n",
    "        tfrecords: list, tfrecord file paths\n",
    "        batch_size: int, batch size for number of records to pass into\n",
    "            model at a time\n",
    "    returns:\n",
    "        ds: tensorflow input pipeline with images and labels\n",
    "    \n",
    "    '''\n",
    "\n",
    "    ds = (tf.data.TFRecordDataset(filenames=[tfrecords],\n",
    "                                 num_parallel_reads=tf.data.experimental.AUTOTUNE).\n",
    "          cache(). #there is no reason to cache this ds -- it is only being read 1x\n",
    "          map(decode_image, num_parallel_calls=tf.data.experimental.AUTOTUNE).\n",
    "          map(normalize_image_label, num_parallel_calls=tf.data.experimental.AUTOTUNE).\n",
    "#           map(random_flip).\n",
    "          batch(batch_size).\n",
    "#                 drop_remainder=True).\n",
    "          prefetch(tf.data.experimental.AUTOTUNE)\n",
    "         )\n",
    "    \n",
    "    return ds\n",
    "    ###come back to this"
   ]
  },
  {
   "cell_type": "markdown",
   "metadata": {
    "papermill": {
     "duration": 0.029635,
     "end_time": "2020-08-13T07:09:22.380097",
     "exception": false,
     "start_time": "2020-08-13T07:09:22.350462",
     "status": "completed"
    },
    "tags": []
   },
   "source": [
    "# model architecture"
   ]
  },
  {
   "cell_type": "code",
   "execution_count": 16,
   "metadata": {
    "execution": {
     "iopub.execute_input": "2020-08-13T07:09:22.471838Z",
     "iopub.status.busy": "2020-08-13T07:09:22.471037Z",
     "iopub.status.idle": "2020-08-13T07:09:22.475082Z",
     "shell.execute_reply": "2020-08-13T07:09:22.474348Z"
    },
    "papermill": {
     "duration": 0.064158,
     "end_time": "2020-08-13T07:09:22.475211",
     "exception": false,
     "start_time": "2020-08-13T07:09:22.411053",
     "status": "completed"
    },
    "tags": []
   },
   "outputs": [],
   "source": [
    "def set_of_layers(input_layer, \n",
    "                  filters_, \n",
    "                  kernal, \n",
    "                  strides_, \n",
    "                  dense=None, \n",
    "                  dense_activation=None,\n",
    "                  dropout=None,\n",
    "                  cnn_activation=None):\n",
    "    '''\n",
    "    function to add the following layers to a model:\n",
    "    Conv2D, MaxPooling2D, BatchNormalization, LeadyReLU, Dense,\n",
    "        Dropout\n",
    "\n",
    "    args:\n",
    "      input_layer : input layer to be fed into above layers\n",
    "      filters_: int, number of filters in Conv2D layer\n",
    "      kernal: int, kernal size in Conv2D layer\n",
    "      strides_: int, stride size in MaxPooling2D layer\n",
    "      dense: int, number of units in dense layer, default is None\n",
    "          Will only add layer if value is passed\n",
    "      dense_activation: str, activation function to pass into Dense layer\n",
    "          default is None\n",
    "      dropout: float, dropout percentage in Dropout layer, default is None\n",
    "        must be less than 1.0. Will only add layer if value is passed \n",
    "      cnn_activation: tensorflow activation layer, default is None\n",
    "          will only add layer is value is passed. Activation layer will be\n",
    "          added after the BatchNormalization layer\n",
    "\n",
    "    returns:\n",
    "      x: model that is the same as the input_layer input plus above \n",
    "        layers added\n",
    "        \n",
    "        \n",
    "    '''\n",
    "    x_dict = {}\n",
    "    for xx in range(len(kernal)):\n",
    "        x_dict[xx] = layers.Conv2D(filters_, (kernal[xx], kernal[xx]),\n",
    "                                   padding='same', activation=cnn_activation)(input_layer)\n",
    "        for _ in range(1): #may be able to try range(2) with the filters halved\n",
    "            x_dict[xx] = layers.Conv2D(filters_, (kernal[xx], kernal[xx]),\n",
    "                                       padding='same', activation=cnn_activation)(x_dict[xx])\n",
    "    x_list = [x_dict[xx] for xx in x_dict]\n",
    "    if len(x_list) > 1:\n",
    "        x = layers.Concatenate()(x_list)\n",
    "    else:\n",
    "        x = x_list[0]\n",
    "    x = layers.MaxPooling2D(strides_, strides_)(x)\n",
    "    x = layers.BatchNormalization()(x)\n",
    "    \n",
    "\n",
    "    \n",
    "    if cnn_activation:\n",
    "        x = cnn_activation(x)\n",
    "    x = layers.ReLU()(x)\n",
    "    if dense:\n",
    "        x = layers.Dense(dense, activation=dense_activation)(x)\n",
    "    if dropout:\n",
    "        x = layers.Dropout(dropout)(x)\n",
    "\n",
    "\n",
    "    return x"
   ]
  },
  {
   "cell_type": "code",
   "execution_count": 17,
   "metadata": {
    "execution": {
     "iopub.execute_input": "2020-08-13T07:09:22.549160Z",
     "iopub.status.busy": "2020-08-13T07:09:22.548005Z",
     "iopub.status.idle": "2020-08-13T07:09:22.551768Z",
     "shell.execute_reply": "2020-08-13T07:09:22.550795Z"
    },
    "papermill": {
     "duration": 0.047089,
     "end_time": "2020-08-13T07:09:22.551946",
     "exception": false,
     "start_time": "2020-08-13T07:09:22.504857",
     "status": "completed"
    },
    "tags": []
   },
   "outputs": [],
   "source": [
    "def deconv_set_of_layers(input_layer, \n",
    "                         filters_, \n",
    "                         kernal_, \n",
    "                         stride, \n",
    "                         dense=None, \n",
    "                         dense_activation=None, \n",
    "                         dropout=None,\n",
    "                         cnn_activation=None):\n",
    "    '''\n",
    "    function to add the following layers to a model:\n",
    "    Conv2DTranspose, BatchNormalization, LeadyReLU, Dense\n",
    "\n",
    "    args:\n",
    "      input_layer : input layer to be fed into above layers\n",
    "      filters_: int, number of filters in Conv2DTranspose layer\n",
    "      kernal_: int, kernal size in Conv2DTranspose layer\n",
    "      strides_: int, stride size in Conv2DTranspose layer\n",
    "      dense: int, number of units in dense layer, default is None\n",
    "          Will only add layer if value is passed\n",
    "      dense_activation: str, activation function to pass into Dense layer\n",
    "          default is None\n",
    "      dropout: float, dropout percentage in Dropout layer, default is None\n",
    "        must be less than 1.0. Will only add layer if value is passed \n",
    "      cnn_activation: tensorflow activation layer, default is None\n",
    "          will only add layer is value is passed. Activation layer will be\n",
    "          added after the BatchNormalization layer\n",
    "\n",
    "\n",
    "    returns:\n",
    "      x: model that is the same as the input_layer input plus above \n",
    "        layers added\n",
    "    '''\n",
    "\n",
    "        \n",
    "    x_dict = {}\n",
    "    for xx in range(len(kernal_)):\n",
    "        x_dict[xx] = layers.Conv2DTranspose(filters_,\n",
    "                                           kernal_[xx],\n",
    "                                           (stride, stride),\n",
    "                                           padding='same')(input_layer)\n",
    "        x_dict[xx] = layers.BatchNormalization()(x_dict[xx])\n",
    "    x_list = [x_dict[xx] for xx in x_dict]\n",
    "    if len(x_list) > 1:\n",
    "        x = layers.Concatenate()(x_list)\n",
    "    else:\n",
    "        x = x_list[0]\n",
    "    \n",
    "    if cnn_activation:\n",
    "        x = cnn_activation(x)\n",
    "   \n",
    "    if dense:\n",
    "        x = layers.Dense(dense, activation=dense_activation)(x)\n",
    "    \n",
    "    if dropout:\n",
    "        x = layers.Dropout(dropout)(x)\n",
    "    \n",
    "\n",
    "    return x\n"
   ]
  },
  {
   "cell_type": "code",
   "execution_count": 18,
   "metadata": {
    "execution": {
     "iopub.execute_input": "2020-08-13T07:09:22.636245Z",
     "iopub.status.busy": "2020-08-13T07:09:22.627918Z",
     "iopub.status.idle": "2020-08-13T07:09:22.639861Z",
     "shell.execute_reply": "2020-08-13T07:09:22.639094Z"
    },
    "papermill": {
     "duration": 0.052814,
     "end_time": "2020-08-13T07:09:22.640001",
     "exception": false,
     "start_time": "2020-08-13T07:09:22.587187",
     "status": "completed"
    },
    "tags": []
   },
   "outputs": [],
   "source": [
    "def create_model(input_shape=[*params['img_size'], 3], bias_output=None):\n",
    "    '''\n",
    "    function to create a model that will be used to train DS via xfer learning\n",
    "    \n",
    "    args:\n",
    "        input_shape: array, default: [1024, 1024, 3], shape\n",
    "            of input tensor that will be fed into model\n",
    "    \n",
    "    returns:\n",
    "        model: keras.Model() model\n",
    "    \n",
    "    '''\n",
    "    \n",
    "    input_tensor = layers.Input(shape=input_shape, name='images_input')\n",
    "    \n",
    "#     #input s/b 224, 224, 3 // try to normalize 0 -> 1\n",
    "#     densenet = tf.keras.applications.DenseNet121(include_top=False, \n",
    "#                                                  input_shape=input_shape, \n",
    "#                                                  classes=1)(input_tensor)\n",
    "#     end_of_densenet = layers.GlobalAveragePooling2D()(densenet)\n",
    "#     dense_layers = layers.Dense(512)(end_of_densenet)\n",
    "#     ###end of densenet### auc - 0.8844 (-1 -> 1)\n",
    "    \n",
    "#     #s/b 224, 224, 3 // try to normalize 0 -> 1\n",
    "#     efficientnet = tf.keras.applications.EfficientNetB0(include_top=False,\n",
    "#                                                        input_shape=input_shape,\n",
    "#                                                        classes=1)(input_tensor)\n",
    "#     end_of_efficientnet = layers.GlobalAveragePooling2D()(efficientnet)\n",
    "#     dense_layers = layers.Dense(8)(end_of_efficientnet)\n",
    "#     ###end of efficientnet### auc - 0.8602 (-1 -> 1)\n",
    "    \n",
    "#     #s/b 299, 299, 3 // needs to be -1 -> 1\n",
    "#     inception = tf.keras.applications.InceptionV3(include_top=False,\n",
    "#                                                  input_shape=input_shape,\n",
    "#                                                  classes=1)(input_tensor)\n",
    "#     end_of_inception = layers.GlobalAveragePooling2D()(inception)\n",
    "#     dense_layers = layers.Dense(8)(end_of_inception)\n",
    "#     ##end of inception (2016)###\n",
    "    \n",
    "    #s/b 299, 299, 3 // needs to be -1 -> 1\n",
    "    inception_v2 = tf.keras.applications.InceptionResNetV2(include_top=False,\n",
    "                                                          input_shape=input_shape,\n",
    "                                                          classes=1)(input_tensor)\n",
    "    end_of_inceptionv2 = layers.GlobalAveragePooling2D()(inception_v2)\n",
    "    dense_layers = layers.Dense(8)(end_of_inceptionv2)\n",
    "    ###end of inception (2017)###\n",
    "    \n",
    "\n",
    "\n",
    "\n",
    "    \n",
    "    if bias_output is not None:\n",
    "        bias_output = tf.keras.initializers.Constant(bias_output)\n",
    "    output = layers.Dense(1, activation='sigmoid', bias_initializer=bias_output)(dense_layers)\n",
    "    model = keras.Model(inputs=input_tensor, outputs=output)\n",
    "    \n",
    "    \n",
    "    metrics = [\n",
    "          keras.metrics.TruePositives(name='tp'),\n",
    "          keras.metrics.FalseNegatives(name='fn'), \n",
    "          keras.metrics.BinaryAccuracy(name='accuracy'),\n",
    "          keras.metrics.AUC(name='auc'),\n",
    "    ]\n",
    "    schedule = None\n",
    "    \n",
    "    model.compile(\n",
    "        optimizer=tf.keras.optimizers.Adam(),\n",
    "        loss = tf.keras.losses.BinaryCrossentropy(label_smoothing = 0.01),\n",
    "        metrics=metrics)\n",
    "    \n",
    "    \n",
    "    return model"
   ]
  },
  {
   "cell_type": "code",
   "execution_count": 19,
   "metadata": {
    "execution": {
     "iopub.execute_input": "2020-08-13T07:09:22.730929Z",
     "iopub.status.busy": "2020-08-13T07:09:22.727873Z",
     "iopub.status.idle": "2020-08-13T07:09:22.734731Z",
     "shell.execute_reply": "2020-08-13T07:09:22.733722Z"
    },
    "papermill": {
     "duration": 0.06466,
     "end_time": "2020-08-13T07:09:22.734873",
     "exception": false,
     "start_time": "2020-08-13T07:09:22.670213",
     "status": "completed"
    },
    "tags": []
   },
   "outputs": [],
   "source": [
    "def create_model_obsol(input_shape=[*params['img_size'], 3], bias_output=None):\n",
    "    '''\n",
    "    function to create a model that will be trained on train DS\n",
    "    \n",
    "    args:\n",
    "        input_shape: array, default: [1024, 1024, 3], shape\n",
    "            of input tensor that will be fed into model\n",
    "    \n",
    "    returns:\n",
    "        model: keras.Model() model\n",
    "    '''\n",
    "\n",
    "    relu = layers.ReLU()\n",
    "    leakyrelu = layers.LeakyReLU()\n",
    "    input_tensor = layers.Input(shape=input_shape, name='images_input')\n",
    "    x = input_tensor\n",
    "#     filters_list = [64, 128, 256, 512, 1024]\n",
    "    filters_list = [32, 64, 128, 256, 512]\n",
    "    \n",
    "    for filter_ in filters_list:\n",
    "        x = set_of_layers(x, filter_, [3, 5], 2, 16,  dropout=0.35, dense_activation='tanh', \n",
    "                           cnn_activation=relu)\n",
    "        \n",
    "    \n",
    "    output_helper_1 = layers.Flatten(name='flatten_output_helper_1')(x)\n",
    "    output_helper_1 = layers.Dense(128)(output_helper_1)\n",
    "    \n",
    "    \n",
    "    \n",
    "#     filters_list = [1024, 512, 256]\n",
    "    filters_list = [512, 256, 128]\n",
    "    \n",
    "    for filter_ in filters_list:\n",
    "        x = deconv_set_of_layers(x, filter_, [2, 4], 2, 16,  dense_activation='tanh', cnn_activation=relu,\n",
    "                                 dropout=0.35)\n",
    "    \n",
    "    output_helper_2 = layers.Flatten(name='flatten_output_helper_2')(x)\n",
    "    output_helper_2 = layers.Dense(128)(output_helper_2)\n",
    "\n",
    "    \n",
    "#     filters_list = [256, 512, 1024]\n",
    "    filters_list = [128, 256, 512]\n",
    "    \n",
    "    for filter_ in filters_list:\n",
    "        x = set_of_layers(x, filter_, [3, 5], 2, 16,  dropout=0.35, dense_activation='tanh',\n",
    "                           cnn_activation=relu)\n",
    "\n",
    "\n",
    "\n",
    "    x = layers.Flatten(name='flatten_main_output')(x)\n",
    "    x = layers.Dense(128)(x)\n",
    "#     model.add(layers.Dense(64))\n",
    "    \n",
    "    if bias_output is not None:\n",
    "        bias_output = tf.keras.initializers.Constant(bias_output)\n",
    "    output_layer = layers.Dense(1, activation='sigmoid', bias_initializer=bias_output)(x)\n",
    "    \n",
    "    output_helper_1 = layers.Dense(1, activation='sigmoid',\n",
    "                                  bias_initializer=bias_output)(output_helper_1)\n",
    "    output_helper_2 = layers.Dense(1, activation='sigmoid',\n",
    "                                  bias_initializer=bias_output)(output_helper_2)\n",
    "    \n",
    "    model=keras.Model(inputs=[input_tensor],\n",
    "                     outputs=[output_layer, output_helper_1, output_helper_2])\n",
    "\n",
    " \n",
    "           \n",
    "    metrics = [\n",
    "          keras.metrics.TruePositives(name='tp'),\n",
    "          keras.metrics.FalseNegatives(name='fn'), \n",
    "          keras.metrics.BinaryAccuracy(name='accuracy'),\n",
    "          keras.metrics.AUC(name='auc'),\n",
    "    ]\n",
    "    schedule = None\n",
    "    \n",
    "    model.compile(\n",
    "        optimizer=tf.keras.optimizers.Adam(0.00033),\n",
    "        loss = [tf.keras.losses.BinaryCrossentropy(label_smoothing = 0.01),\n",
    "                tf.keras.losses.BinaryCrossentropy(label_smoothing = 0.01),\n",
    "                tf.keras.losses.BinaryCrossentropy(label_smoothing = 0.01)],\n",
    "        metrics=metrics,\n",
    "    loss_weights = [1.0, 0.15, 0.15])\n",
    "    \n",
    "\n",
    "    \n",
    "    return model\n",
    "\n"
   ]
  },
  {
   "cell_type": "code",
   "execution_count": 20,
   "metadata": {
    "execution": {
     "iopub.execute_input": "2020-08-13T07:09:22.813998Z",
     "iopub.status.busy": "2020-08-13T07:09:22.812827Z",
     "iopub.status.idle": "2020-08-13T07:09:22.815429Z",
     "shell.execute_reply": "2020-08-13T07:09:22.816251Z"
    },
    "papermill": {
     "duration": 0.050337,
     "end_time": "2020-08-13T07:09:22.816495",
     "exception": false,
     "start_time": "2020-08-13T07:09:22.766158",
     "status": "completed"
    },
    "tags": []
   },
   "outputs": [],
   "source": [
    "def get_ds_size(files):\n",
    "    '''\n",
    "    function to get size of tfrecord Dataset, based on file name\n",
    "    \n",
    "    the file name has the number of records in the file, for example:\n",
    "    train09-2071.tfrec has 2017 records\n",
    "    \n",
    "    args:\n",
    "        files: list of str file names, each item should be the path to a tfrecord file\n",
    "    \n",
    "    returns:\n",
    "        size: int, size of dataset\n",
    "    '''\n",
    "    size = 0\n",
    "    for file in files:\n",
    "        file_size = int(file.split('.tfrec')[0].split('tfrecords/')[1].split('-')[1])\n",
    "        size += file_size\n",
    "    return size"
   ]
  },
  {
   "cell_type": "code",
   "execution_count": 21,
   "metadata": {
    "execution": {
     "iopub.execute_input": "2020-08-13T07:09:22.891840Z",
     "iopub.status.busy": "2020-08-13T07:09:22.890896Z",
     "iopub.status.idle": "2020-08-13T07:09:23.540966Z",
     "shell.execute_reply": "2020-08-13T07:09:23.541532Z"
    },
    "papermill": {
     "duration": 0.688413,
     "end_time": "2020-08-13T07:09:23.541703",
     "exception": false,
     "start_time": "2020-08-13T07:09:22.853290",
     "status": "completed"
    },
    "tags": []
   },
   "outputs": [],
   "source": [
    "#get test file paths\n",
    "test_files = tf.io.gfile.glob(dataset_gcs + '/tfrecords/test*.tfrec')\n",
    "\n",
    "#get train and validation file paths\n",
    "train_files, valid_files = train_test_split(tf.io.gfile.glob(dataset_gcs + '/tfrecords/train*.tfrec'),\n",
    "                              test_size=.1, random_state=1)\n",
    "\n",
    "#create datasets\n",
    "train_ds = get_train_ds(train_files, params['batch_size'])\n",
    "valid_ds = get_train_ds(valid_files, params['batch_size'])\n",
    "test_ds = get_test_ds(test_files, params['batch_size'])"
   ]
  },
  {
   "cell_type": "code",
   "execution_count": 22,
   "metadata": {
    "execution": {
     "iopub.execute_input": "2020-08-13T07:09:23.612713Z",
     "iopub.status.busy": "2020-08-13T07:09:23.611726Z",
     "iopub.status.idle": "2020-08-13T07:09:23.615682Z",
     "shell.execute_reply": "2020-08-13T07:09:23.616362Z"
    },
    "papermill": {
     "duration": 0.040674,
     "end_time": "2020-08-13T07:09:23.616557",
     "exception": false,
     "start_time": "2020-08-13T07:09:23.575883",
     "status": "completed"
    },
    "tags": []
   },
   "outputs": [
    {
     "name": "stdout",
     "output_type": "stream",
     "text": [
      "the dataset consists of: 28984 training images, 4142 validation images, and 10982 test images\n"
     ]
    }
   ],
   "source": [
    "train_size, valid_size = get_ds_size(train_files), get_ds_size(valid_files)\n",
    "test_size = get_ds_size(test_files)\n",
    "print('the dataset consists of: {} training images, {} validation images, and {} test images'.\n",
    "     format(train_size, valid_size, test_size))"
   ]
  },
  {
   "cell_type": "code",
   "execution_count": null,
   "metadata": {
    "papermill": {
     "duration": 0.029548,
     "end_time": "2020-08-13T07:09:23.676354",
     "exception": false,
     "start_time": "2020-08-13T07:09:23.646806",
     "status": "completed"
    },
    "tags": []
   },
   "outputs": [],
   "source": []
  },
  {
   "cell_type": "code",
   "execution_count": 23,
   "metadata": {
    "execution": {
     "iopub.execute_input": "2020-08-13T07:09:23.741957Z",
     "iopub.status.busy": "2020-08-13T07:09:23.741065Z",
     "iopub.status.idle": "2020-08-13T07:09:23.744036Z",
     "shell.execute_reply": "2020-08-13T07:09:23.743313Z"
    },
    "papermill": {
     "duration": 0.038138,
     "end_time": "2020-08-13T07:09:23.744160",
     "exception": false,
     "start_time": "2020-08-13T07:09:23.706022",
     "status": "completed"
    },
    "tags": []
   },
   "outputs": [],
   "source": [
    "epoch_steps = train_size / params['batch_size'] \n",
    "valid_steps = valid_size / params['batch_size']\n",
    "test_steps = 1.0 * test_size / params['batch_size'] "
   ]
  },
  {
   "cell_type": "code",
   "execution_count": 24,
   "metadata": {
    "execution": {
     "iopub.execute_input": "2020-08-13T07:09:23.813494Z",
     "iopub.status.busy": "2020-08-13T07:09:23.812404Z",
     "iopub.status.idle": "2020-08-13T07:09:23.843672Z",
     "shell.execute_reply": "2020-08-13T07:09:23.842882Z"
    },
    "papermill": {
     "duration": 0.069923,
     "end_time": "2020-08-13T07:09:23.843801",
     "exception": false,
     "start_time": "2020-08-13T07:09:23.773878",
     "status": "completed"
    },
    "tags": []
   },
   "outputs": [],
   "source": [
    "#calculate class weights\n",
    "\n",
    "targets = train_df.groupby('target').count()['diagnosis'].to_list()\n",
    "target_0 = targets[0]\n",
    "target_1 = targets[1]\n",
    "total = target_0 + target_1\n",
    "\n",
    "class_weight_0 = (1 / target_0) * (total) / 2.0\n",
    "class_weight_1 = (1 / target_1) * (total) / 2.0\n",
    "\n",
    "class_weights = {0: class_weight_0, 1: class_weight_1}\n",
    "\n",
    "initial_bias = np.log([target_1 / target_0])\n",
    "\n"
   ]
  },
  {
   "cell_type": "code",
   "execution_count": 25,
   "metadata": {
    "execution": {
     "iopub.execute_input": "2020-08-13T07:09:23.910747Z",
     "iopub.status.busy": "2020-08-13T07:09:23.909689Z",
     "iopub.status.idle": "2020-08-13T07:09:23.913024Z",
     "shell.execute_reply": "2020-08-13T07:09:23.912261Z"
    },
    "papermill": {
     "duration": 0.039548,
     "end_time": "2020-08-13T07:09:23.913147",
     "exception": false,
     "start_time": "2020-08-13T07:09:23.873599",
     "status": "completed"
    },
    "tags": []
   },
   "outputs": [],
   "source": [
    "def lr_schedule_fn(epoch, lr):\n",
    "    if epoch < 2:\n",
    "        return 0.000001\n",
    "    elif epoch == 2:\n",
    "        return 0.001\n",
    "    elif epoch %2 ==0 and epoch < 49:\n",
    "        return lr * 0.75\n",
    "    else:\n",
    "        return lr"
   ]
  },
  {
   "cell_type": "code",
   "execution_count": 26,
   "metadata": {
    "execution": {
     "iopub.execute_input": "2020-08-13T07:09:23.979957Z",
     "iopub.status.busy": "2020-08-13T07:09:23.979150Z",
     "iopub.status.idle": "2020-08-13T07:10:36.507464Z",
     "shell.execute_reply": "2020-08-13T07:10:36.508294Z"
    },
    "papermill": {
     "duration": 72.565114,
     "end_time": "2020-08-13T07:10:36.508567",
     "exception": false,
     "start_time": "2020-08-13T07:09:23.943453",
     "status": "completed"
    },
    "tags": []
   },
   "outputs": [
    {
     "name": "stdout",
     "output_type": "stream",
     "text": [
      "Downloading data from https://storage.googleapis.com/tensorflow/keras-applications/inception_resnet_v2/inception_resnet_v2_weights_tf_dim_ordering_tf_kernels_notop.h5\n",
      "219062272/219055592 [==============================] - 2s 0us/step\n",
      "Model: \"functional_1\"\n",
      "_________________________________________________________________\n",
      "Layer (type)                 Output Shape              Param #   \n",
      "=================================================================\n",
      "images_input (InputLayer)    [(None, 299, 299, 3)]     0         \n",
      "_________________________________________________________________\n",
      "inception_resnet_v2 (Functio (None, 8, 8, 1536)        54336736  \n",
      "_________________________________________________________________\n",
      "global_average_pooling2d (Gl (None, 1536)              0         \n",
      "_________________________________________________________________\n",
      "dense (Dense)                (None, 8)                 12296     \n",
      "_________________________________________________________________\n",
      "dense_1 (Dense)              (None, 1)                 9         \n",
      "=================================================================\n",
      "Total params: 54,349,041\n",
      "Trainable params: 54,288,497\n",
      "Non-trainable params: 60,544\n",
      "_________________________________________________________________\n"
     ]
    }
   ],
   "source": [
    "with strategy.scope():\n",
    "    model = create_model(bias_output=initial_bias)\n",
    "    model.summary()"
   ]
  },
  {
   "cell_type": "markdown",
   "metadata": {
    "papermill": {
     "duration": 0.031052,
     "end_time": "2020-08-13T07:10:36.571860",
     "exception": false,
     "start_time": "2020-08-13T07:10:36.540808",
     "status": "completed"
    },
    "tags": []
   },
   "source": [
    "# Training"
   ]
  },
  {
   "cell_type": "code",
   "execution_count": 27,
   "metadata": {
    "execution": {
     "iopub.execute_input": "2020-08-13T07:10:36.650625Z",
     "iopub.status.busy": "2020-08-13T07:10:36.649562Z",
     "iopub.status.idle": "2020-08-13T07:30:13.685273Z",
     "shell.execute_reply": "2020-08-13T07:30:13.686184Z"
    },
    "papermill": {
     "duration": 1177.083089,
     "end_time": "2020-08-13T07:30:13.686433",
     "exception": false,
     "start_time": "2020-08-13T07:10:36.603344",
     "status": "completed"
    },
    "tags": []
   },
   "outputs": [
    {
     "name": "stdout",
     "output_type": "stream",
     "text": [
      "Epoch 1/80\n",
      "29/28 [==============================] - 58s 2s/step - loss: 1.8055 - tp: 0.0000e+00 - fn: 524.0000 - accuracy: 0.9824 - auc: 0.5292 - val_loss: 0.1046 - val_tp: 0.0000e+00 - val_fn: 87.0000 - val_accuracy: 0.9830 - val_auc: 0.6005\n",
      "Epoch 2/80\n",
      "29/28 [==============================] - 35s 1s/step - loss: 1.7605 - tp: 0.0000e+00 - fn: 527.0000 - accuracy: 0.9823 - auc: 0.5777 - val_loss: 0.1027 - val_tp: 0.0000e+00 - val_fn: 85.0000 - val_accuracy: 0.9834 - val_auc: 0.5989\n",
      "Epoch 3/80\n",
      "29/28 [==============================] - 34s 1s/step - loss: 0.6547 - tp: 392.0000 - fn: 134.0000 - accuracy: 0.7149 - auc: 0.7887 - val_loss: 4304.2886 - val_tp: 87.0000 - val_fn: 0.0000e+00 - val_accuracy: 0.0170 - val_auc: 0.5001\n",
      "Epoch 4/80\n",
      "29/28 [==============================] - 33s 1s/step - loss: 0.4199 - tp: 426.0000 - fn: 105.0000 - accuracy: 0.7854 - auc: 0.8905 - val_loss: 72.9392 - val_tp: 63.0000 - val_fn: 21.0000 - val_accuracy: 0.4510 - val_auc: 0.5479\n",
      "Epoch 5/80\n",
      "29/28 [==============================] - 38s 1s/step - loss: 0.3584 - tp: 471.0000 - fn: 57.0000 - accuracy: 0.8081 - auc: 0.9218 - val_loss: 0.7593 - val_tp: 63.0000 - val_fn: 24.0000 - val_accuracy: 0.7328 - val_auc: 0.7762\n",
      "Epoch 6/80\n",
      "29/28 [==============================] - 34s 1s/step - loss: 0.2997 - tp: 482.0000 - fn: 43.0000 - accuracy: 0.8572 - auc: 0.9461 - val_loss: 0.6536 - val_tp: 61.0000 - val_fn: 26.0000 - val_accuracy: 0.7621 - val_auc: 0.7745\n",
      "Epoch 7/80\n",
      "29/28 [==============================] - 37s 1s/step - loss: 0.2784 - tp: 496.0000 - fn: 37.0000 - accuracy: 0.8656 - auc: 0.9557 - val_loss: 0.4004 - val_tp: 56.0000 - val_fn: 30.0000 - val_accuracy: 0.8469 - val_auc: 0.8714\n",
      "Epoch 8/80\n",
      "29/28 [==============================] - 38s 1s/step - loss: 0.2306 - tp: 502.0000 - fn: 27.0000 - accuracy: 0.8950 - auc: 0.9698 - val_loss: 0.3024 - val_tp: 49.0000 - val_fn: 36.0000 - val_accuracy: 0.8809 - val_auc: 0.8791\n",
      "Epoch 9/80\n",
      "29/28 [==============================] - 37s 1s/step - loss: 0.1975 - tp: 505.0000 - fn: 21.0000 - accuracy: 0.9108 - auc: 0.9786 - val_loss: 0.2023 - val_tp: 39.0000 - val_fn: 44.0000 - val_accuracy: 0.9289 - val_auc: 0.8802\n",
      "Epoch 10/80\n",
      "29/28 [==============================] - 37s 1s/step - loss: 0.1851 - tp: 513.0000 - fn: 18.0000 - accuracy: 0.9174 - auc: 0.9814 - val_loss: 0.3115 - val_tp: 59.0000 - val_fn: 27.0000 - val_accuracy: 0.8939 - val_auc: 0.9014\n",
      "Epoch 11/80\n",
      "29/28 [==============================] - 33s 1s/step - loss: 0.1513 - tp: 512.0000 - fn: 17.0000 - accuracy: 0.9426 - auc: 0.9883 - val_loss: 0.3506 - val_tp: 55.0000 - val_fn: 30.0000 - val_accuracy: 0.8830 - val_auc: 0.8984\n",
      "Epoch 12/80\n",
      "29/28 [==============================] - 31s 1s/step - loss: 0.1524 - tp: 521.0000 - fn: 14.0000 - accuracy: 0.9371 - auc: 0.9879 - val_loss: 0.3324 - val_tp: 60.0000 - val_fn: 23.0000 - val_accuracy: 0.8855 - val_auc: 0.8867\n",
      "Epoch 13/80\n",
      "29/28 [==============================] - 33s 1s/step - loss: 0.1378 - tp: 515.0000 - fn: 11.0000 - accuracy: 0.9515 - auc: 0.9897 - val_loss: 0.1228 - val_tp: 30.0000 - val_fn: 57.0000 - val_accuracy: 0.9656 - val_auc: 0.8693\n",
      "Epoch 14/80\n",
      "29/28 [==============================] - 33s 1s/step - loss: 0.1110 - tp: 524.0000 - fn: 7.0000 - accuracy: 0.9596 - auc: 0.9940 - val_loss: 0.0977 - val_tp: 24.0000 - val_fn: 62.0000 - val_accuracy: 0.9770 - val_auc: 0.8700\n",
      "Epoch 15/80\n",
      "29/28 [==============================] - 33s 1s/step - loss: 0.0972 - tp: 516.0000 - fn: 7.0000 - accuracy: 0.9663 - auc: 0.9963 - val_loss: 0.1348 - val_tp: 39.0000 - val_fn: 48.0000 - val_accuracy: 0.9631 - val_auc: 0.8959\n",
      "Epoch 16/80\n",
      "29/28 [==============================] - 33s 1s/step - loss: 0.0830 - tp: 519.0000 - fn: 5.0000 - accuracy: 0.9759 - auc: 0.9974 - val_loss: 0.1202 - val_tp: 40.0000 - val_fn: 49.0000 - val_accuracy: 0.9668 - val_auc: 0.8761\n",
      "Epoch 17/80\n",
      "29/28 [==============================] - 34s 1s/step - loss: 0.0798 - tp: 520.0000 - fn: 8.0000 - accuracy: 0.9758 - auc: 0.9980 - val_loss: 0.1288 - val_tp: 33.0000 - val_fn: 53.0000 - val_accuracy: 0.9637 - val_auc: 0.8830\n",
      "Epoch 18/80\n",
      "29/28 [==============================] - 34s 1s/step - loss: 0.0690 - tp: 522.0000 - fn: 3.0000 - accuracy: 0.9809 - auc: 0.9987 - val_loss: 0.1229 - val_tp: 36.0000 - val_fn: 51.0000 - val_accuracy: 0.9682 - val_auc: 0.8639\n",
      "Epoch 19/80\n",
      "29/28 [==============================] - 33s 1s/step - loss: 0.0641 - tp: 528.0000 - fn: 4.0000 - accuracy: 0.9838 - auc: 0.9991 - val_loss: 0.1050 - val_tp: 29.0000 - val_fn: 54.0000 - val_accuracy: 0.9752 - val_auc: 0.8439\n",
      "Epoch 20/80\n",
      "29/28 [==============================] - 33s 1s/step - loss: 0.0613 - tp: 526.0000 - fn: 2.0000 - accuracy: 0.9879 - auc: 0.9992 - val_loss: 0.1093 - val_tp: 32.0000 - val_fn: 53.0000 - val_accuracy: 0.9736 - val_auc: 0.8569\n",
      "Epoch 21/80\n",
      "29/28 [==============================] - 33s 1s/step - loss: 0.0570 - tp: 520.0000 - fn: 3.0000 - accuracy: 0.9894 - auc: 0.9995 - val_loss: 0.1143 - val_tp: 40.0000 - val_fn: 48.0000 - val_accuracy: 0.9703 - val_auc: 0.8768\n",
      "Epoch 22/80\n",
      "29/28 [==============================] - 33s 1s/step - loss: 0.0512 - tp: 527.0000 - fn: 1.0000 - accuracy: 0.9899 - auc: 0.9996 - val_loss: 0.1170 - val_tp: 35.0000 - val_fn: 49.0000 - val_accuracy: 0.9697 - val_auc: 0.8754\n",
      "Epoch 23/80\n",
      "29/28 [==============================] - 34s 1s/step - loss: 0.0532 - tp: 528.0000 - fn: 3.0000 - accuracy: 0.9909 - auc: 0.9995 - val_loss: 0.1120 - val_tp: 31.0000 - val_fn: 53.0000 - val_accuracy: 0.9729 - val_auc: 0.8619\n",
      "Epoch 24/80\n",
      "29/28 [==============================] - 33s 1s/step - loss: 0.0465 - tp: 529.0000 - fn: 1.0000 - accuracy: 0.9941 - auc: 0.9997 - val_loss: 0.1181 - val_tp: 36.0000 - val_fn: 52.0000 - val_accuracy: 0.9709 - val_auc: 0.8712\n",
      "Epoch 25/80\n",
      "29/28 [==============================] - 40s 1s/step - loss: 0.0437 - tp: 523.0000 - fn: 0.0000e+00 - accuracy: 0.9944 - auc: 0.9999 - val_loss: 0.0995 - val_tp: 24.0000 - val_fn: 64.0000 - val_accuracy: 0.9787 - val_auc: 0.8453\n"
     ]
    }
   ],
   "source": [
    "early_stopping = tf.keras.callbacks.EarlyStopping(monitor='val_auc', #val_auc\n",
    "                                patience=15,\n",
    "                                mode='max',\n",
    "                                restore_best_weights=True)\n",
    "lr_schedule = tf.keras.callbacks.LearningRateScheduler(lr_schedule_fn)\n",
    "\n",
    "\n",
    "history = model.fit(\n",
    "    train_ds,\n",
    "#     batch_size=params['batch_size'],\n",
    "    epochs= params['epochs'], \n",
    "    steps_per_epoch=epoch_steps,\n",
    "    validation_data=valid_ds,\n",
    "    validation_steps=valid_steps,\n",
    "    class_weight=class_weights,\n",
    "    callbacks=[early_stopping, lr_schedule]\n",
    ")\n",
    "\n"
   ]
  },
  {
   "cell_type": "code",
   "execution_count": 28,
   "metadata": {
    "execution": {
     "iopub.execute_input": "2020-08-13T07:30:13.865531Z",
     "iopub.status.busy": "2020-08-13T07:30:13.858350Z",
     "iopub.status.idle": "2020-08-13T07:31:02.268978Z",
     "shell.execute_reply": "2020-08-13T07:31:02.268175Z"
    },
    "papermill": {
     "duration": 48.499987,
     "end_time": "2020-08-13T07:31:02.269108",
     "exception": false,
     "start_time": "2020-08-13T07:30:13.769121",
     "status": "completed"
    },
    "tags": []
   },
   "outputs": [],
   "source": [
    "predictions = model.predict(test_ds.map(lambda img, igs: img), steps=test_steps)  "
   ]
  },
  {
   "cell_type": "code",
   "execution_count": 29,
   "metadata": {
    "execution": {
     "iopub.execute_input": "2020-08-13T07:31:02.448051Z",
     "iopub.status.busy": "2020-08-13T07:31:02.439699Z",
     "iopub.status.idle": "2020-08-13T07:31:07.920581Z",
     "shell.execute_reply": "2020-08-13T07:31:07.919955Z"
    },
    "papermill": {
     "duration": 5.568861,
     "end_time": "2020-08-13T07:31:07.920714",
     "exception": false,
     "start_time": "2020-08-13T07:31:02.351853",
     "status": "completed"
    },
    "tags": []
   },
   "outputs": [
    {
     "name": "stdout",
     "output_type": "stream",
     "text": [
      "WARNING: AutoGraph could not transform <function <lambda> at 0x7f7f43252e60> and will run it as-is.\n",
      "Cause: could not parse the source code:\n",
      "\n",
      "                          map(lambda img, ids:ids).\n",
      "\n",
      "This error may be avoided by creating the lambda in a standalone statement.\n",
      "\n",
      "To silence this warning, decorate the function with @tf.autograph.experimental.do_not_convert\n"
     ]
    }
   ],
   "source": [
    "prediction_ids = next(iter(test_ds.\n",
    "                          map(lambda img, ids:ids).\n",
    "                          unbatch().\n",
    "                          batch(test_size))).numpy().astype('str')"
   ]
  },
  {
   "cell_type": "code",
   "execution_count": 30,
   "metadata": {
    "execution": {
     "iopub.execute_input": "2020-08-13T07:31:08.099820Z",
     "iopub.status.busy": "2020-08-13T07:31:08.098784Z",
     "iopub.status.idle": "2020-08-13T07:31:08.114775Z",
     "shell.execute_reply": "2020-08-13T07:31:08.114129Z"
    },
    "papermill": {
     "duration": 0.110305,
     "end_time": "2020-08-13T07:31:08.114899",
     "exception": false,
     "start_time": "2020-08-13T07:31:08.004594",
     "status": "completed"
    },
    "tags": []
   },
   "outputs": [],
   "source": [
    "prediction_dict = {\n",
    "    'image_name': prediction_ids,\n",
    "    'target': np.concatenate(predictions)\n",
    "}\n",
    "submission_ds = pd.DataFrame(prediction_dict)"
   ]
  },
  {
   "cell_type": "code",
   "execution_count": 31,
   "metadata": {
    "execution": {
     "iopub.execute_input": "2020-08-13T07:31:08.291229Z",
     "iopub.status.busy": "2020-08-13T07:31:08.290303Z",
     "iopub.status.idle": "2020-08-13T07:31:08.294849Z",
     "shell.execute_reply": "2020-08-13T07:31:08.294235Z"
    },
    "papermill": {
     "duration": 0.097296,
     "end_time": "2020-08-13T07:31:08.294972",
     "exception": false,
     "start_time": "2020-08-13T07:31:08.197676",
     "status": "completed"
    },
    "tags": []
   },
   "outputs": [
    {
     "data": {
      "text/html": [
       "<div>\n",
       "<style scoped>\n",
       "    .dataframe tbody tr th:only-of-type {\n",
       "        vertical-align: middle;\n",
       "    }\n",
       "\n",
       "    .dataframe tbody tr th {\n",
       "        vertical-align: top;\n",
       "    }\n",
       "\n",
       "    .dataframe thead th {\n",
       "        text-align: right;\n",
       "    }\n",
       "</style>\n",
       "<table border=\"1\" class=\"dataframe\">\n",
       "  <thead>\n",
       "    <tr style=\"text-align: right;\">\n",
       "      <th></th>\n",
       "      <th>image_name</th>\n",
       "      <th>target</th>\n",
       "    </tr>\n",
       "  </thead>\n",
       "  <tbody>\n",
       "    <tr>\n",
       "      <th>0</th>\n",
       "      <td>ISIC_6381819</td>\n",
       "      <td>0.125513</td>\n",
       "    </tr>\n",
       "    <tr>\n",
       "      <th>1</th>\n",
       "      <td>ISIC_5583376</td>\n",
       "      <td>0.867390</td>\n",
       "    </tr>\n",
       "    <tr>\n",
       "      <th>2</th>\n",
       "      <td>ISIC_6408546</td>\n",
       "      <td>0.007129</td>\n",
       "    </tr>\n",
       "    <tr>\n",
       "      <th>3</th>\n",
       "      <td>ISIC_6932354</td>\n",
       "      <td>0.752828</td>\n",
       "    </tr>\n",
       "    <tr>\n",
       "      <th>4</th>\n",
       "      <td>ISIC_8191278</td>\n",
       "      <td>0.162227</td>\n",
       "    </tr>\n",
       "  </tbody>\n",
       "</table>\n",
       "</div>"
      ],
      "text/plain": [
       "     image_name    target\n",
       "0  ISIC_6381819  0.125513\n",
       "1  ISIC_5583376  0.867390\n",
       "2  ISIC_6408546  0.007129\n",
       "3  ISIC_6932354  0.752828\n",
       "4  ISIC_8191278  0.162227"
      ]
     },
     "execution_count": 31,
     "metadata": {},
     "output_type": "execute_result"
    }
   ],
   "source": [
    "submission_ds.head()"
   ]
  },
  {
   "cell_type": "code",
   "execution_count": 32,
   "metadata": {
    "execution": {
     "iopub.execute_input": "2020-08-13T07:31:08.464315Z",
     "iopub.status.busy": "2020-08-13T07:31:08.463530Z",
     "iopub.status.idle": "2020-08-13T07:31:08.524416Z",
     "shell.execute_reply": "2020-08-13T07:31:08.523661Z"
    },
    "papermill": {
     "duration": 0.147717,
     "end_time": "2020-08-13T07:31:08.524568",
     "exception": false,
     "start_time": "2020-08-13T07:31:08.376851",
     "status": "completed"
    },
    "tags": []
   },
   "outputs": [],
   "source": [
    "submission_ds.to_csv('submission.csv', index=False)"
   ]
  },
  {
   "cell_type": "markdown",
   "metadata": {
    "papermill": {
     "duration": 0.081326,
     "end_time": "2020-08-13T07:31:08.686994",
     "exception": false,
     "start_time": "2020-08-13T07:31:08.605668",
     "status": "completed"
    },
    "tags": []
   },
   "source": [
    "# Metrics"
   ]
  },
  {
   "cell_type": "code",
   "execution_count": 33,
   "metadata": {
    "execution": {
     "iopub.execute_input": "2020-08-13T07:31:08.859889Z",
     "iopub.status.busy": "2020-08-13T07:31:08.859106Z",
     "iopub.status.idle": "2020-08-13T07:31:08.862248Z",
     "shell.execute_reply": "2020-08-13T07:31:08.861449Z"
    },
    "papermill": {
     "duration": 0.092658,
     "end_time": "2020-08-13T07:31:08.862375",
     "exception": false,
     "start_time": "2020-08-13T07:31:08.769717",
     "status": "completed"
    },
    "tags": []
   },
   "outputs": [],
   "source": [
    "def plot_metric(metric1, metric2, ylabel):\n",
    "    plt.plot(history.history[metric1], label=metric1)\n",
    "    plt.plot(history.history[metric2], label=metric2)\n",
    "    plt.ylabel(ylabel)\n",
    "    plt.xlabel('epoch')\n",
    "    plt.legend()\n",
    "    plt.show()"
   ]
  },
  {
   "cell_type": "code",
   "execution_count": 34,
   "metadata": {
    "execution": {
     "iopub.execute_input": "2020-08-13T07:31:09.032194Z",
     "iopub.status.busy": "2020-08-13T07:31:09.031388Z",
     "iopub.status.idle": "2020-08-13T07:31:09.657390Z",
     "shell.execute_reply": "2020-08-13T07:31:09.656724Z"
    },
    "papermill": {
     "duration": 0.712273,
     "end_time": "2020-08-13T07:31:09.657534",
     "exception": false,
     "start_time": "2020-08-13T07:31:08.945261",
     "status": "completed"
    },
    "tags": []
   },
   "outputs": [
    {
     "data": {
      "image/png": "[encoded data removed]",
      "text/plain": [
       "<Figure size 432x288 with 1 Axes>"
      ]
     },
     "metadata": {
      "needs_background": "light"
     },
     "output_type": "display_data"
    },
    {
     "data": {
      "image/png": "[encoded data removed]",
      "text/plain": [
       "<Figure size 432x288 with 1 Axes>"
      ]
     },
     "metadata": {
      "needs_background": "light"
     },
     "output_type": "display_data"
    },
    {
     "data": {
      "image/png": "[encoded data removed]",
      "text/plain": [
       "<Figure size 432x288 with 1 Axes>"
      ]
     },
     "metadata": {
      "needs_background": "light"
     },
     "output_type": "display_data"
    }
   ],
   "source": [
    "plot_metric('auc', 'val_auc', 'auc')\n",
    "plot_metric('loss', 'val_loss', 'loss')\n",
    "plot_metric('accuracy', 'val_accuracy', 'accuracy')"
   ]
  },
  {
   "cell_type": "code",
   "execution_count": 35,
   "metadata": {
    "execution": {
     "iopub.execute_input": "2020-08-13T07:31:09.833840Z",
     "iopub.status.busy": "2020-08-13T07:31:09.833122Z",
     "iopub.status.idle": "2020-08-13T07:31:09.838435Z",
     "shell.execute_reply": "2020-08-13T07:31:09.837729Z"
    },
    "papermill": {
     "duration": 0.098593,
     "end_time": "2020-08-13T07:31:09.838573",
     "exception": false,
     "start_time": "2020-08-13T07:31:09.739980",
     "status": "completed"
    },
    "tags": []
   },
   "outputs": [
    {
     "data": {
      "text/plain": [
       "{'loss': [1.8055235147476196,\n",
       "  1.7605324983596802,\n",
       "  0.6546774506568909,\n",
       "  0.41989314556121826,\n",
       "  0.3584263026714325,\n",
       "  0.2997119724750519,\n",
       "  0.27843499183654785,\n",
       "  0.23058511316776276,\n",
       "  0.19748882949352264,\n",
       "  0.18505392968654633,\n",
       "  0.1512925922870636,\n",
       "  0.1524173468351364,\n",
       "  0.13775211572647095,\n",
       "  0.1109883040189743,\n",
       "  0.097203329205513,\n",
       "  0.08303681761026382,\n",
       "  0.07980259507894516,\n",
       "  0.06895075738430023,\n",
       "  0.06406264007091522,\n",
       "  0.06134501099586487,\n",
       "  0.05702981352806091,\n",
       "  0.05116390436887741,\n",
       "  0.05321724712848663,\n",
       "  0.046460073441267014,\n",
       "  0.04373689740896225],\n",
       " 'tp': [0.0,\n",
       "  0.0,\n",
       "  392.0,\n",
       "  426.0,\n",
       "  471.0,\n",
       "  482.0,\n",
       "  496.0,\n",
       "  502.0,\n",
       "  505.0,\n",
       "  513.0,\n",
       "  512.0,\n",
       "  521.0,\n",
       "  515.0,\n",
       "  524.0,\n",
       "  516.0,\n",
       "  519.0,\n",
       "  520.0,\n",
       "  522.0,\n",
       "  528.0,\n",
       "  526.0,\n",
       "  520.0,\n",
       "  527.0,\n",
       "  528.0,\n",
       "  529.0,\n",
       "  523.0],\n",
       " 'fn': [524.0,\n",
       "  527.0,\n",
       "  134.0,\n",
       "  105.0,\n",
       "  57.0,\n",
       "  43.0,\n",
       "  37.0,\n",
       "  27.0,\n",
       "  21.0,\n",
       "  18.0,\n",
       "  17.0,\n",
       "  14.0,\n",
       "  11.0,\n",
       "  7.0,\n",
       "  7.0,\n",
       "  5.0,\n",
       "  8.0,\n",
       "  3.0,\n",
       "  4.0,\n",
       "  2.0,\n",
       "  3.0,\n",
       "  1.0,\n",
       "  3.0,\n",
       "  1.0,\n",
       "  0.0],\n",
       " 'accuracy': [0.9823545217514038,\n",
       "  0.9822534918785095,\n",
       "  0.7149447798728943,\n",
       "  0.7854256629943848,\n",
       "  0.8080549836158752,\n",
       "  0.8572198152542114,\n",
       "  0.8656384944915771,\n",
       "  0.8950363397598267,\n",
       "  0.9108297228813171,\n",
       "  0.9174299240112305,\n",
       "  0.9425848722457886,\n",
       "  0.9370958805084229,\n",
       "  0.9514749646186829,\n",
       "  0.959590494632721,\n",
       "  0.9662580490112305,\n",
       "  0.9758890271186829,\n",
       "  0.9758216738700867,\n",
       "  0.9809401631355286,\n",
       "  0.9838025569915771,\n",
       "  0.9878771305084229,\n",
       "  0.9893588423728943,\n",
       "  0.989863932132721,\n",
       "  0.990874171257019,\n",
       "  0.994140625,\n",
       "  0.9944100379943848],\n",
       " 'auc': [0.529201865196228,\n",
       "  0.5777262449264526,\n",
       "  0.7886915802955627,\n",
       "  0.8905002474784851,\n",
       "  0.9217837452888489,\n",
       "  0.9460974931716919,\n",
       "  0.9557023644447327,\n",
       "  0.969833254814148,\n",
       "  0.9786185026168823,\n",
       "  0.9814088344573975,\n",
       "  0.9882887005805969,\n",
       "  0.9878587126731873,\n",
       "  0.9897218942642212,\n",
       "  0.9940239787101746,\n",
       "  0.9962848424911499,\n",
       "  0.9974163770675659,\n",
       "  0.9980278611183167,\n",
       "  0.998679518699646,\n",
       "  0.9990928769111633,\n",
       "  0.9991877675056458,\n",
       "  0.9994567632675171,\n",
       "  0.9996469616889954,\n",
       "  0.9995407462120056,\n",
       "  0.9997408986091614,\n",
       "  0.9998506903648376],\n",
       " 'val_loss': [0.10458165407180786,\n",
       "  0.10268685966730118,\n",
       "  4304.28857421875,\n",
       "  72.93920135498047,\n",
       "  0.7592759132385254,\n",
       "  0.653618335723877,\n",
       "  0.40038618445396423,\n",
       "  0.3023819923400879,\n",
       "  0.20231810212135315,\n",
       "  0.31153327226638794,\n",
       "  0.35055214166641235,\n",
       "  0.3324225842952728,\n",
       "  0.12277498096227646,\n",
       "  0.09765361249446869,\n",
       "  0.13482430577278137,\n",
       "  0.12019097805023193,\n",
       "  0.12881378829479218,\n",
       "  0.12287934124469757,\n",
       "  0.1050277128815651,\n",
       "  0.1092512235045433,\n",
       "  0.11430257558822632,\n",
       "  0.11700206249952316,\n",
       "  0.11197996139526367,\n",
       "  0.11807966232299805,\n",
       "  0.09948097169399261],\n",
       " 'val_tp': [0.0,\n",
       "  0.0,\n",
       "  87.0,\n",
       "  63.0,\n",
       "  63.0,\n",
       "  61.0,\n",
       "  56.0,\n",
       "  49.0,\n",
       "  39.0,\n",
       "  59.0,\n",
       "  55.0,\n",
       "  60.0,\n",
       "  30.0,\n",
       "  24.0,\n",
       "  39.0,\n",
       "  40.0,\n",
       "  33.0,\n",
       "  36.0,\n",
       "  29.0,\n",
       "  32.0,\n",
       "  40.0,\n",
       "  35.0,\n",
       "  31.0,\n",
       "  36.0,\n",
       "  24.0],\n",
       " 'val_fn': [87.0,\n",
       "  85.0,\n",
       "  0.0,\n",
       "  21.0,\n",
       "  24.0,\n",
       "  26.0,\n",
       "  30.0,\n",
       "  36.0,\n",
       "  44.0,\n",
       "  27.0,\n",
       "  30.0,\n",
       "  23.0,\n",
       "  57.0,\n",
       "  62.0,\n",
       "  48.0,\n",
       "  49.0,\n",
       "  53.0,\n",
       "  51.0,\n",
       "  54.0,\n",
       "  53.0,\n",
       "  48.0,\n",
       "  49.0,\n",
       "  53.0,\n",
       "  52.0,\n",
       "  64.0],\n",
       " 'val_accuracy': [0.9830078482627869,\n",
       "  0.9833984375,\n",
       "  0.01699218712747097,\n",
       "  0.45097658038139343,\n",
       "  0.7328125238418579,\n",
       "  0.7621093988418579,\n",
       "  0.846875011920929,\n",
       "  0.880859375,\n",
       "  0.928906261920929,\n",
       "  0.8939453363418579,\n",
       "  0.883007824420929,\n",
       "  0.885546863079071,\n",
       "  0.965624988079071,\n",
       "  0.9769531488418579,\n",
       "  0.963085949420929,\n",
       "  0.966796875,\n",
       "  0.963671863079071,\n",
       "  0.9681640863418579,\n",
       "  0.9751953482627869,\n",
       "  0.9736328125,\n",
       "  0.9703125357627869,\n",
       "  0.9697265625,\n",
       "  0.972851574420929,\n",
       "  0.970898449420929,\n",
       "  0.978710949420929],\n",
       " 'val_auc': [0.6004610061645508,\n",
       "  0.5989018082618713,\n",
       "  0.5000993013381958,\n",
       "  0.5479191541671753,\n",
       "  0.7762422561645508,\n",
       "  0.7745271325111389,\n",
       "  0.8714368939399719,\n",
       "  0.8791354894638062,\n",
       "  0.8801625967025757,\n",
       "  0.9014087319374084,\n",
       "  0.8984380960464478,\n",
       "  0.8867272734642029,\n",
       "  0.8692856431007385,\n",
       "  0.8699943423271179,\n",
       "  0.8959031701087952,\n",
       "  0.8760762214660645,\n",
       "  0.8830071091651917,\n",
       "  0.8638559579849243,\n",
       "  0.8438616991043091,\n",
       "  0.8569051623344421,\n",
       "  0.8767932057380676,\n",
       "  0.8754457235336304,\n",
       "  0.86189204454422,\n",
       "  0.8712376952171326,\n",
       "  0.8453184962272644],\n",
       " 'lr': [1e-06,\n",
       "  1e-06,\n",
       "  0.001,\n",
       "  0.001,\n",
       "  0.00075,\n",
       "  0.00075,\n",
       "  0.0005625,\n",
       "  0.0005625,\n",
       "  0.00042187498,\n",
       "  0.00042187498,\n",
       "  0.00031640625,\n",
       "  0.00031640625,\n",
       "  0.00023730469,\n",
       "  0.00023730469,\n",
       "  0.00017797851,\n",
       "  0.00017797851,\n",
       "  0.00013348387,\n",
       "  0.00013348387,\n",
       "  0.000100112906,\n",
       "  0.000100112906,\n",
       "  7.508468e-05,\n",
       "  7.508468e-05,\n",
       "  5.631351e-05,\n",
       "  5.631351e-05,\n",
       "  4.2235133e-05]}"
      ]
     },
     "execution_count": 35,
     "metadata": {},
     "output_type": "execute_result"
    }
   ],
   "source": [
    "history.history"
   ]
  },
  {
   "cell_type": "code",
   "execution_count": 36,
   "metadata": {
    "execution": {
     "iopub.execute_input": "2020-08-13T07:31:10.040493Z",
     "iopub.status.busy": "2020-08-13T07:31:10.030226Z",
     "iopub.status.idle": "2020-08-13T07:31:18.654159Z",
     "shell.execute_reply": "2020-08-13T07:31:18.653273Z"
    },
    "papermill": {
     "duration": 8.731854,
     "end_time": "2020-08-13T07:31:18.654296",
     "exception": false,
     "start_time": "2020-08-13T07:31:09.922442",
     "status": "completed"
    },
    "tags": []
   },
   "outputs": [],
   "source": [
    "model.save('model.h5')"
   ]
  },
  {
   "cell_type": "code",
   "execution_count": null,
   "metadata": {
    "papermill": {
     "duration": 0.093693,
     "end_time": "2020-08-13T07:31:44.736930",
     "exception": false,
     "start_time": "2020-08-13T07:31:44.643237",
     "status": "completed"
    },
    "tags": []
   },
   "outputs": [],
   "source": []
  }
 ],
 "metadata": {
  "kernelspec": {
   "display_name": "Python 3",
   "language": "python",
   "name": "python3"
  },
  "language_info": {
   "codemirror_mode": {
    "name": "ipython",
    "version": 3
   },
   "file_extension": ".py",
   "mimetype": "text/x-python",
   "name": "python",
   "nbconvert_exporter": "python",
   "pygments_lexer": "ipython3",
   "version": "3.7.3"
  },
  "papermill": {
   "duration": 1378.820296,
   "end_time": "2020-08-13T07:31:45.042589",
   "environment_variables": {},
   "exception": null,
   "input_path": "__notebook__.ipynb",
   "output_path": "__notebook__.ipynb",
   "parameters": {},
   "start_time": "2020-08-13T07:08:46.222293",
   "version": "2.1.0"
  }
 },
 "nbformat": 4,
 "nbformat_minor": 4
}
