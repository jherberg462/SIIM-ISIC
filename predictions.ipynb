{
 "cells": [
  {
   "cell_type": "code",
   "execution_count": 1,
   "metadata": {
    "_cell_guid": "b1076dfc-b9ad-4769-8c92-a6c4dae69d19",
    "_uuid": "8f2839f25d086af736a60e9eeb907d3b93b6e0e5",
    "execution": {
     "iopub.execute_input": "2020-08-15T06:17:28.681600Z",
     "iopub.status.busy": "2020-08-15T06:17:28.680596Z",
     "iopub.status.idle": "2020-08-15T06:17:38.371549Z",
     "shell.execute_reply": "2020-08-15T06:17:38.370871Z"
    },
    "id": "PF6_qaQlLMfX",
    "papermill": {
     "duration": 9.724278,
     "end_time": "2020-08-15T06:17:38.371670",
     "exception": false,
     "start_time": "2020-08-15T06:17:28.647392",
     "status": "completed"
    },
    "tags": []
   },
   "outputs": [
    {
     "name": "stdout",
     "output_type": "stream",
     "text": [
      "Collecting fsspec\r\n",
      "  Downloading fsspec-0.8.0-py3-none-any.whl (85 kB)\r\n",
      "\u001b[K     |████████████████████████████████| 85 kB 390 kB/s \r\n",
      "\u001b[?25hInstalling collected packages: fsspec\r\n",
      "  Attempting uninstall: fsspec\r\n",
      "    Found existing installation: fsspec 0.7.2\r\n",
      "    Uninstalling fsspec-0.7.2:\r\n",
      "      Successfully uninstalled fsspec-0.7.2\r\n",
      "Successfully installed fsspec-0.8.0\r\n",
      "\u001b[33mWARNING: You are using pip version 20.1.1; however, version 20.2.2 is available.\r\n",
      "You should consider upgrading via the '/opt/conda/bin/python3.7 -m pip install --upgrade pip' command.\u001b[0m\r\n"
     ]
    }
   ],
   "source": [
    "!pip install fsspec --upgrade\n"
   ]
  },
  {
   "cell_type": "code",
   "execution_count": 2,
   "metadata": {
    "execution": {
     "iopub.execute_input": "2020-08-15T06:17:38.431625Z",
     "iopub.status.busy": "2020-08-15T06:17:38.430657Z",
     "iopub.status.idle": "2020-08-15T06:17:45.537512Z",
     "shell.execute_reply": "2020-08-15T06:17:45.536767Z"
    },
    "id": "GS3hpqThLMfd",
    "papermill": {
     "duration": 7.139586,
     "end_time": "2020-08-15T06:17:45.537643",
     "exception": false,
     "start_time": "2020-08-15T06:17:38.398057",
     "status": "completed"
    },
    "tags": []
   },
   "outputs": [
    {
     "name": "stdout",
     "output_type": "stream",
     "text": [
      "got GCS path via KaggleDatasets .get_gcs_path method\n"
     ]
    }
   ],
   "source": [
    "import numpy as np # linear algebra\n",
    "import pandas as pd # data processing, CSV file I/O (e.g. pd.read_csv)\n",
    "\n",
    "\n",
    "import os\n",
    "\n",
    "import tensorflow as tf\n",
    "from tensorflow.keras import layers \n",
    "from tensorflow import keras\n",
    "import tensorflow_hub as hub\n",
    "from sklearn.model_selection import train_test_split\n",
    "from matplotlib import pyplot as plt\n",
    "\n",
    "try:\n",
    "    from kaggle_datasets import KaggleDatasets\n",
    "    dataset_gcs = KaggleDatasets().get_gcs_path('siim-isic-melanoma-classification')\n",
    "    print('got GCS path via KaggleDatasets .get_gcs_path method')\n",
    "except ModuleNotFoundError:\n",
    "    #hardcode path while testing locally\n",
    "    dataset_gcs = 'gs://'\n"
   ]
  },
  {
   "cell_type": "code",
   "execution_count": 3,
   "metadata": {
    "_cell_guid": "79c7e3d0-c299-4dcb-8224-4455121ee9b0",
    "_uuid": "d629ff2d2480ee46fbb7e2d37f6b5fab8052498a",
    "execution": {
     "iopub.execute_input": "2020-08-15T06:17:45.594143Z",
     "iopub.status.busy": "2020-08-15T06:17:45.593316Z",
     "iopub.status.idle": "2020-08-15T06:17:45.598119Z",
     "shell.execute_reply": "2020-08-15T06:17:45.597460Z"
    },
    "id": "5-hPqmwDLMfh",
    "outputId": "84a28cbb-4263-4ea8-dab4-a09b1aea5e77",
    "papermill": {
     "duration": 0.035468,
     "end_time": "2020-08-15T06:17:45.598264",
     "exception": false,
     "start_time": "2020-08-15T06:17:45.562796",
     "status": "completed"
    },
    "tags": []
   },
   "outputs": [
    {
     "data": {
      "text/plain": [
       "'2.2.0'"
      ]
     },
     "execution_count": 3,
     "metadata": {},
     "output_type": "execute_result"
    }
   ],
   "source": [
    "tf.__version__\n"
   ]
  },
  {
   "cell_type": "code",
   "execution_count": 4,
   "metadata": {
    "execution": {
     "iopub.execute_input": "2020-08-15T06:17:45.654458Z",
     "iopub.status.busy": "2020-08-15T06:17:45.653523Z",
     "iopub.status.idle": "2020-08-15T06:17:45.656199Z",
     "shell.execute_reply": "2020-08-15T06:17:45.656675Z"
    },
    "id": "aTNSywU3LMfk",
    "papermill": {
     "duration": 0.033278,
     "end_time": "2020-08-15T06:17:45.656812",
     "exception": false,
     "start_time": "2020-08-15T06:17:45.623534",
     "status": "completed"
    },
    "tags": []
   },
   "outputs": [],
   "source": [
    "params = {\n",
    "    'batch_size' : 128,\n",
    "    'img_size' : [299, 299],\n",
    "    'epochs': 350\n",
    "}\n"
   ]
  },
  {
   "cell_type": "code",
   "execution_count": 5,
   "metadata": {
    "execution": {
     "iopub.execute_input": "2020-08-15T06:17:45.794959Z",
     "iopub.status.busy": "2020-08-15T06:17:45.721993Z",
     "iopub.status.idle": "2020-08-15T06:17:49.995378Z",
     "shell.execute_reply": "2020-08-15T06:17:49.994730Z"
    },
    "id": "dQ4ru6rMLMfm",
    "outputId": "f3a1204a-6467-4474-91ab-a0b851783d25",
    "papermill": {
     "duration": 4.312896,
     "end_time": "2020-08-15T06:17:49.995499",
     "exception": false,
     "start_time": "2020-08-15T06:17:45.682603",
     "status": "completed"
    },
    "tags": []
   },
   "outputs": [
    {
     "name": "stdout",
     "output_type": "stream",
     "text": [
      "Running on TPU  grpc://10.0.0.2:8470\n",
      "REPLICAS:  8\n"
     ]
    }
   ],
   "source": [
    "try:\n",
    "    # TPU detection. No parameters necessary if TPU_NAME environment variable is\n",
    "    # set: this is always the case on Kaggle.\n",
    "    tpu = tf.distribute.cluster_resolver.TPUClusterResolver()\n",
    "    print('Running on TPU ', tpu.master())\n",
    "except ValueError:\n",
    "    tpu = None\n",
    "\n",
    "if tpu:\n",
    "    tf.config.experimental_connect_to_cluster(tpu)\n",
    "    tf.tpu.experimental.initialize_tpu_system(tpu)\n",
    "    strategy = tf.distribute.experimental.TPUStrategy(tpu)\n",
    "else:\n",
    "    # Default distribution strategy in Tensorflow. Works on CPU and single GPU.\n",
    "    strategy = tf.distribute.get_strategy()\n",
    "\n",
    "print(\"REPLICAS: \", strategy.num_replicas_in_sync)"
   ]
  },
  {
   "cell_type": "code",
   "execution_count": 6,
   "metadata": {
    "execution": {
     "iopub.execute_input": "2020-08-15T06:17:50.054444Z",
     "iopub.status.busy": "2020-08-15T06:17:50.053731Z",
     "iopub.status.idle": "2020-08-15T06:17:50.056844Z",
     "shell.execute_reply": "2020-08-15T06:17:50.056338Z"
    },
    "id": "Z0DRQE47LMfp",
    "papermill": {
     "duration": 0.03442,
     "end_time": "2020-08-15T06:17:50.056990",
     "exception": false,
     "start_time": "2020-08-15T06:17:50.022570",
     "status": "completed"
    },
    "tags": []
   },
   "outputs": [],
   "source": [
    "params['batch_size'] = params['batch_size'] * strategy.num_replicas_in_sync"
   ]
  },
  {
   "cell_type": "code",
   "execution_count": 7,
   "metadata": {
    "execution": {
     "iopub.execute_input": "2020-08-15T06:17:50.123453Z",
     "iopub.status.busy": "2020-08-15T06:17:50.116837Z",
     "iopub.status.idle": "2020-08-15T06:17:57.099406Z",
     "shell.execute_reply": "2020-08-15T06:17:57.098773Z"
    },
    "id": "GWzXMYZyLMfs",
    "outputId": "35d3148d-5b0a-4490-93df-858b2272bc90",
    "papermill": {
     "duration": 7.014511,
     "end_time": "2020-08-15T06:17:57.099550",
     "exception": false,
     "start_time": "2020-08-15T06:17:50.085039",
     "status": "completed"
    },
    "tags": []
   },
   "outputs": [
    {
     "name": "stdout",
     "output_type": "stream",
     "text": [
      "Requirement already satisfied: gcsfs in /opt/conda/lib/python3.7/site-packages (0.6.1)\r\n",
      "Requirement already satisfied: google-auth>=1.2 in /opt/conda/lib/python3.7/site-packages (from gcsfs) (1.14.0)\r\n",
      "Requirement already satisfied: fsspec>=0.6.0 in /opt/conda/lib/python3.7/site-packages (from gcsfs) (0.8.0)\r\n",
      "Requirement already satisfied: decorator in /opt/conda/lib/python3.7/site-packages (from gcsfs) (4.4.2)\r\n",
      "Requirement already satisfied: requests in /opt/conda/lib/python3.7/site-packages (from gcsfs) (2.23.0)\r\n",
      "Requirement already satisfied: google-auth-oauthlib in /opt/conda/lib/python3.7/site-packages (from gcsfs) (0.4.1)\r\n",
      "Requirement already satisfied: cachetools<5.0,>=2.0.0 in /opt/conda/lib/python3.7/site-packages (from google-auth>=1.2->gcsfs) (3.1.1)\r\n",
      "Requirement already satisfied: setuptools>=40.3.0 in /opt/conda/lib/python3.7/site-packages (from google-auth>=1.2->gcsfs) (46.1.3.post20200325)\r\n",
      "Requirement already satisfied: rsa<4.1,>=3.1.4 in /opt/conda/lib/python3.7/site-packages (from google-auth>=1.2->gcsfs) (4.0)\r\n",
      "Requirement already satisfied: six>=1.9.0 in /opt/conda/lib/python3.7/site-packages (from google-auth>=1.2->gcsfs) (1.14.0)\r\n",
      "Requirement already satisfied: pyasn1-modules>=0.2.1 in /opt/conda/lib/python3.7/site-packages (from google-auth>=1.2->gcsfs) (0.2.7)\r\n",
      "Requirement already satisfied: certifi>=2017.4.17 in /opt/conda/lib/python3.7/site-packages (from requests->gcsfs) (2020.6.20)\r\n",
      "Requirement already satisfied: urllib3!=1.25.0,!=1.25.1,<1.26,>=1.21.1 in /opt/conda/lib/python3.7/site-packages (from requests->gcsfs) (1.24.3)\r\n",
      "Requirement already satisfied: idna<3,>=2.5 in /opt/conda/lib/python3.7/site-packages (from requests->gcsfs) (2.9)\r\n",
      "Requirement already satisfied: chardet<4,>=3.0.2 in /opt/conda/lib/python3.7/site-packages (from requests->gcsfs) (3.0.4)\r\n",
      "Requirement already satisfied: requests-oauthlib>=0.7.0 in /opt/conda/lib/python3.7/site-packages (from google-auth-oauthlib->gcsfs) (1.2.0)\r\n",
      "Requirement already satisfied: pyasn1>=0.1.3 in /opt/conda/lib/python3.7/site-packages (from rsa<4.1,>=3.1.4->google-auth>=1.2->gcsfs) (0.4.8)\r\n",
      "Requirement already satisfied: oauthlib>=3.0.0 in /opt/conda/lib/python3.7/site-packages (from requests-oauthlib>=0.7.0->google-auth-oauthlib->gcsfs) (3.0.1)\r\n",
      "\u001b[33mWARNING: You are using pip version 20.1.1; however, version 20.2.2 is available.\r\n",
      "You should consider upgrading via the '/opt/conda/bin/python3.7 -m pip install --upgrade pip' command.\u001b[0m\r\n"
     ]
    }
   ],
   "source": [
    "# sub = pd.read_csv(dataset_gcs + '/sample_submission.csv')\n",
    "# sub.head(1)\n",
    "!pip install gcsfs"
   ]
  },
  {
   "cell_type": "code",
   "execution_count": 8,
   "metadata": {
    "execution": {
     "iopub.execute_input": "2020-08-15T06:17:57.163903Z",
     "iopub.status.busy": "2020-08-15T06:17:57.163174Z",
     "iopub.status.idle": "2020-08-15T06:18:06.539180Z",
     "shell.execute_reply": "2020-08-15T06:18:06.538643Z"
    },
    "id": "UeRPDwBrLMfu",
    "outputId": "832ac74b-3ecd-4a3d-92df-5ceb3122f397",
    "papermill": {
     "duration": 9.41056,
     "end_time": "2020-08-15T06:18:06.539304",
     "exception": false,
     "start_time": "2020-08-15T06:17:57.128744",
     "status": "completed"
    },
    "tags": []
   },
   "outputs": [
    {
     "data": {
      "text/html": [
       "<div>\n",
       "<style scoped>\n",
       "    .dataframe tbody tr th:only-of-type {\n",
       "        vertical-align: middle;\n",
       "    }\n",
       "\n",
       "    .dataframe tbody tr th {\n",
       "        vertical-align: top;\n",
       "    }\n",
       "\n",
       "    .dataframe thead th {\n",
       "        text-align: right;\n",
       "    }\n",
       "</style>\n",
       "<table border=\"1\" class=\"dataframe\">\n",
       "  <thead>\n",
       "    <tr style=\"text-align: right;\">\n",
       "      <th></th>\n",
       "      <th>image_name</th>\n",
       "      <th>patient_id</th>\n",
       "      <th>sex</th>\n",
       "      <th>age_approx</th>\n",
       "      <th>anatom_site_general_challenge</th>\n",
       "      <th>diagnosis</th>\n",
       "      <th>benign_malignant</th>\n",
       "    </tr>\n",
       "    <tr>\n",
       "      <th>target</th>\n",
       "      <th></th>\n",
       "      <th></th>\n",
       "      <th></th>\n",
       "      <th></th>\n",
       "      <th></th>\n",
       "      <th></th>\n",
       "      <th></th>\n",
       "    </tr>\n",
       "  </thead>\n",
       "  <tbody>\n",
       "    <tr>\n",
       "      <th>0</th>\n",
       "      <td>32542</td>\n",
       "      <td>32542</td>\n",
       "      <td>32477</td>\n",
       "      <td>32474</td>\n",
       "      <td>32024</td>\n",
       "      <td>32542</td>\n",
       "      <td>32542</td>\n",
       "    </tr>\n",
       "    <tr>\n",
       "      <th>1</th>\n",
       "      <td>584</td>\n",
       "      <td>584</td>\n",
       "      <td>584</td>\n",
       "      <td>584</td>\n",
       "      <td>575</td>\n",
       "      <td>584</td>\n",
       "      <td>584</td>\n",
       "    </tr>\n",
       "  </tbody>\n",
       "</table>\n",
       "</div>"
      ],
      "text/plain": [
       "        image_name  patient_id    sex  age_approx  \\\n",
       "target                                              \n",
       "0            32542       32542  32477       32474   \n",
       "1              584         584    584         584   \n",
       "\n",
       "        anatom_site_general_challenge  diagnosis  benign_malignant  \n",
       "target                                                              \n",
       "0                               32024      32542             32542  \n",
       "1                                 575        584               584  "
      ]
     },
     "execution_count": 8,
     "metadata": {},
     "output_type": "execute_result"
    }
   ],
   "source": [
    "train_df = pd.read_csv(dataset_gcs + '/train.csv')\n",
    "train_df.groupby('target').count() "
   ]
  },
  {
   "cell_type": "code",
   "execution_count": 9,
   "metadata": {
    "execution": {
     "iopub.execute_input": "2020-08-15T06:18:06.625683Z",
     "iopub.status.busy": "2020-08-15T06:18:06.624557Z",
     "iopub.status.idle": "2020-08-15T06:18:06.630104Z",
     "shell.execute_reply": "2020-08-15T06:18:06.629478Z"
    },
    "id": "3QB0P3M8LMfw",
    "papermill": {
     "duration": 0.056808,
     "end_time": "2020-08-15T06:18:06.630270",
     "exception": false,
     "start_time": "2020-08-15T06:18:06.573462",
     "status": "completed"
    },
    "tags": []
   },
   "outputs": [],
   "source": [
    "def decode_image_label(tfrec):\n",
    "    '''\n",
    "    function to decode an image and target label from tfrecord\n",
    "    \n",
    "    args:\n",
    "        tfrec: tfrecord, single record of training/validation data\n",
    "    \n",
    "    returns:\n",
    "        decoded_image: tensor, converted image from tfrecord\n",
    "        label: tensor, integer, either 1 or 0\n",
    "    \n",
    "    '''\n",
    "    \n",
    "    features_dictionary = {\n",
    "        'image': tf.io.FixedLenFeature([], tf.string),\n",
    "        \"target\": tf.io.FixedLenFeature([], tf.int64)\n",
    "        }\n",
    "    features = tf.io.parse_single_example(tfrec, features_dictionary)\n",
    "    decoded_image = tf.io.decode_jpeg(features['image'], 3)\n",
    "    decoded_image = tf.image.resize(decoded_image, params['img_size'])\n",
    "    label = features['target']\n",
    "    \n",
    "    return decoded_image, label\n",
    "    \n"
   ]
  },
  {
   "cell_type": "code",
   "execution_count": 10,
   "metadata": {
    "execution": {
     "iopub.execute_input": "2020-08-15T06:18:06.715294Z",
     "iopub.status.busy": "2020-08-15T06:18:06.714543Z",
     "iopub.status.idle": "2020-08-15T06:18:06.717918Z",
     "shell.execute_reply": "2020-08-15T06:18:06.717202Z"
    },
    "id": "KGXvzF6BLMfy",
    "papermill": {
     "duration": 0.04543,
     "end_time": "2020-08-15T06:18:06.718089",
     "exception": false,
     "start_time": "2020-08-15T06:18:06.672659",
     "status": "completed"
    },
    "tags": []
   },
   "outputs": [],
   "source": [
    "def decode_image(tfrec):\n",
    "    '''\n",
    "    function to decode an image from tfrecord\n",
    "    \n",
    "    args:\n",
    "        tfrec: tfrecord, single record of training/validation data\n",
    "    \n",
    "    returns:\n",
    "        decoded_image: tensor, converted image from tfrecord\n",
    "        img_name: tensor, string, Id of the decoded image\n",
    "    \n",
    "    '''\n",
    "    \n",
    "    features_dictionary = {\n",
    "        'image': tf.io.FixedLenFeature([], tf.string),\n",
    "        \"image_name\": tf.io.FixedLenFeature([], tf.string)\n",
    "        }\n",
    "    features = tf.io.parse_single_example(tfrec, features_dictionary)\n",
    "    decoded_image = tf.io.decode_jpeg(features['image'], 3)\n",
    "    decoded_image = tf.image.resize(decoded_image, params['img_size'])\n",
    "    img_name = features['image_name']\n",
    "    \n",
    "    return decoded_image, img_name"
   ]
  },
  {
   "cell_type": "code",
   "execution_count": 11,
   "metadata": {
    "execution": {
     "iopub.execute_input": "2020-08-15T06:18:06.786071Z",
     "iopub.status.busy": "2020-08-15T06:18:06.785381Z",
     "iopub.status.idle": "2020-08-15T06:18:06.788894Z",
     "shell.execute_reply": "2020-08-15T06:18:06.788325Z"
    },
    "id": "1YjPx4SWLMfz",
    "papermill": {
     "duration": 0.040228,
     "end_time": "2020-08-15T06:18:06.789016",
     "exception": false,
     "start_time": "2020-08-15T06:18:06.748788",
     "status": "completed"
    },
    "tags": []
   },
   "outputs": [],
   "source": [
    "def normalize_image_label(decoded_image, label):\n",
    "    '''\n",
    "    function to convert an image tensor values from 0 to 255 \n",
    "    -> -1 to 1\n",
    "    to be used when dealing with tfrecords containing labels\n",
    "    \n",
    "    args:\n",
    "        decoded_image: tensor that is an image with values from 0 to 255\n",
    "        label: tensor, target label\n",
    "    \n",
    "    returns: \n",
    "        image_tensor: tensor that is an image with values from -1 to 1\n",
    "        label, same as input\n",
    "    \n",
    "    '''\n",
    "    \n",
    "    #add dim at the zero axis Shape will be from (x, y, z) -> (None, x, y, z)\n",
    "    image_tensor = tf.expand_dims(decoded_image, 0)\n",
    "    #undo the above line -- this is needed due to TF not allowing a filtered tensor py_function\n",
    "    image_tensor = tf.gather(image_tensor, 0)\n",
    "\n",
    "    #convert tensor values to between -1 and 1 (0 to 255 -> -1 to 1)\n",
    "    image_tensor = (tf.cast(image_tensor, tf.float32) - 127.5) / 127.5\n",
    "\n",
    "#     #convert tensor values to between 0 and 1 (0 to 255 -> 0 to 1)\n",
    "#     image_tensor = (tf.cast(image_tensor, tf.float32) /255.0 )\n",
    "\n",
    "    return image_tensor, label"
   ]
  },
  {
   "cell_type": "code",
   "execution_count": 12,
   "metadata": {
    "execution": {
     "iopub.execute_input": "2020-08-15T06:18:06.856710Z",
     "iopub.status.busy": "2020-08-15T06:18:06.855966Z",
     "iopub.status.idle": "2020-08-15T06:18:06.859173Z",
     "shell.execute_reply": "2020-08-15T06:18:06.858458Z"
    },
    "id": "VRTS4GnmLMf1",
    "papermill": {
     "duration": 0.040225,
     "end_time": "2020-08-15T06:18:06.859286",
     "exception": false,
     "start_time": "2020-08-15T06:18:06.819061",
     "status": "completed"
    },
    "tags": []
   },
   "outputs": [],
   "source": [
    "def normalize_image(decoded_image):\n",
    "    '''\n",
    "    function to convert an image tensor values from 0 to 255 \n",
    "    -> -1 to 1\n",
    "    \n",
    "    args:\n",
    "        decoded_image: tensor that is an image with values from 0 to 255\n",
    "    \n",
    "    returns: \n",
    "        image_tensor: tensor that is an image with values from -1 to 1\n",
    "    \n",
    "    '''\n",
    "    \n",
    "    #add dim at the zero axis Shape will be from (x, y, z) -> (None, x, y, z)\n",
    "    image_tensor = tf.expand_dims(decoded_image, 0)\n",
    "    #undo the above line -- this is needed due to TF not allowing a filtered tensor py_function\n",
    "    image_tensor = tf.gather(image_tensor, 0)\n",
    "\n",
    "    #convert tensor values to between -1 and 1 (0 to 255 -> -1 to 1)\n",
    "    image_tensor = (tf.cast(image_tensor, tf.float32) - 127.5) / 127.5\n",
    "\n",
    "    return image_tensor"
   ]
  },
  {
   "cell_type": "code",
   "execution_count": 13,
   "metadata": {
    "execution": {
     "iopub.execute_input": "2020-08-15T06:18:06.930675Z",
     "iopub.status.busy": "2020-08-15T06:18:06.930050Z",
     "iopub.status.idle": "2020-08-15T06:18:06.933103Z",
     "shell.execute_reply": "2020-08-15T06:18:06.932431Z"
    },
    "id": "mBBVpiTzLMf3",
    "papermill": {
     "duration": 0.038962,
     "end_time": "2020-08-15T06:18:06.933239",
     "exception": false,
     "start_time": "2020-08-15T06:18:06.894277",
     "status": "completed"
    },
    "tags": []
   },
   "outputs": [],
   "source": [
    "def random_flip(image, label):\n",
    "    '''\n",
    "    function to randomly flip images on the x and/or y axis\n",
    "    \n",
    "    args:\n",
    "        image: tensor, an image\n",
    "        label: tensor, target label\n",
    "    \n",
    "    returns: \n",
    "        image: tensor, same as input, but possibly flipped on x and/or y axis\n",
    "        label, tensor, same as input\n",
    "    '''\n",
    "    image = tf.image.random_flip_left_right(image)\n",
    "    image = tf.image.random_flip_up_down(image)\n",
    "    return image, label"
   ]
  },
  {
   "cell_type": "code",
   "execution_count": 14,
   "metadata": {
    "execution": {
     "iopub.execute_input": "2020-08-15T06:18:07.002867Z",
     "iopub.status.busy": "2020-08-15T06:18:07.002054Z",
     "iopub.status.idle": "2020-08-15T06:18:07.004942Z",
     "shell.execute_reply": "2020-08-15T06:18:07.004354Z"
    },
    "id": "q-n0QjpXLMf4",
    "papermill": {
     "duration": 0.042138,
     "end_time": "2020-08-15T06:18:07.005048",
     "exception": false,
     "start_time": "2020-08-15T06:18:06.962910",
     "status": "completed"
    },
    "tags": []
   },
   "outputs": [],
   "source": [
    "def get_train_ds(tfrecords, batch_size):\n",
    "    '''\n",
    "    function to create a ds pipeline from tfrecord files\n",
    "    \n",
    "    args:\n",
    "        tfrecords: list, tfrecord file paths\n",
    "        batch_size: int, batch size for number of records to pass into\n",
    "            model at a time\n",
    "    returns:\n",
    "        ds: tensorflow input pipeline with images and labels\n",
    "    '''\n",
    "    ds = (tf.data.TFRecordDataset(filenames=[tfrecords],\n",
    "                                 num_parallel_reads=tf.data.experimental.AUTOTUNE).\n",
    "          cache(). #need to remove cache while not usnig TPUs\n",
    "          map(decode_image_label, num_parallel_calls=tf.data.experimental.AUTOTUNE).\n",
    "          map(normalize_image_label, num_parallel_calls=tf.data.experimental.AUTOTUNE).\n",
    "          map(random_flip, num_parallel_calls=tf.data.experimental.AUTOTUNE).\n",
    "          repeat().\n",
    "          shuffle(512).\n",
    "          batch(batch_size,\n",
    "               drop_remainder=True).\n",
    "          prefetch(tf.data.experimental.AUTOTUNE)\n",
    "         )\n",
    "    \n",
    "\n",
    "    \n",
    "    return ds\n",
    "    "
   ]
  },
  {
   "cell_type": "code",
   "execution_count": 15,
   "metadata": {
    "execution": {
     "iopub.execute_input": "2020-08-15T06:18:07.073946Z",
     "iopub.status.busy": "2020-08-15T06:18:07.073205Z",
     "iopub.status.idle": "2020-08-15T06:18:07.076046Z",
     "shell.execute_reply": "2020-08-15T06:18:07.076574Z"
    },
    "id": "yqeQFaHrLMf6",
    "papermill": {
     "duration": 0.042013,
     "end_time": "2020-08-15T06:18:07.076721",
     "exception": false,
     "start_time": "2020-08-15T06:18:07.034708",
     "status": "completed"
    },
    "tags": []
   },
   "outputs": [],
   "source": [
    "def get_test_ds(tfrecords, batch_size):\n",
    "    '''\n",
    "    function to create a dataset for test data\n",
    "    args:\n",
    "        tfrecords: list, tfrecord file paths\n",
    "        batch_size: int, batch size for number of records to pass into\n",
    "            model at a time\n",
    "    returns:\n",
    "        ds: tensorflow input pipeline with images and labels\n",
    "    \n",
    "    '''\n",
    "\n",
    "    ds = (tf.data.TFRecordDataset(filenames=[tfrecords],\n",
    "                                 num_parallel_reads=tf.data.experimental.AUTOTUNE).\n",
    "#           cache(). #there is no reason to cache this ds -- it is only being read 1x\n",
    "          map(decode_image, num_parallel_calls=tf.data.experimental.AUTOTUNE).\n",
    "          map(normalize_image_label, num_parallel_calls=tf.data.experimental.AUTOTUNE).\n",
    "#           map(random_flip).\n",
    "          batch(batch_size).\n",
    "#                 drop_remainder=True).\n",
    "          prefetch(tf.data.experimental.AUTOTUNE)\n",
    "         )\n",
    "    \n",
    "    return ds\n",
    "    ###come back to this"
   ]
  },
  {
   "cell_type": "markdown",
   "metadata": {
    "id": "AmG0gCIVLMf8",
    "papermill": {
     "duration": 0.030602,
     "end_time": "2020-08-15T06:18:07.137214",
     "exception": false,
     "start_time": "2020-08-15T06:18:07.106612",
     "status": "completed"
    },
    "tags": []
   },
   "source": [
    "# model architecture"
   ]
  },
  {
   "cell_type": "code",
   "execution_count": 16,
   "metadata": {
    "execution": {
     "iopub.execute_input": "2020-08-15T06:18:07.215067Z",
     "iopub.status.busy": "2020-08-15T06:18:07.207362Z",
     "iopub.status.idle": "2020-08-15T06:18:07.218679Z",
     "shell.execute_reply": "2020-08-15T06:18:07.217988Z"
    },
    "id": "QO86yIWVLMf8",
    "papermill": {
     "duration": 0.050693,
     "end_time": "2020-08-15T06:18:07.218798",
     "exception": false,
     "start_time": "2020-08-15T06:18:07.168105",
     "status": "completed"
    },
    "tags": []
   },
   "outputs": [],
   "source": [
    "def set_of_layers(input_layer, \n",
    "                  filters_, \n",
    "                  kernal, \n",
    "                  strides_, \n",
    "                  dense=None, \n",
    "                  dense_activation=None,\n",
    "                  dropout=None,\n",
    "                  cnn_activation=None):\n",
    "    '''\n",
    "    function to add the following layers to a model:\n",
    "    Conv2D, MaxPooling2D, BatchNormalization, LeadyReLU, Dense,\n",
    "        Dropout\n",
    "\n",
    "    args:\n",
    "      input_layer : input layer to be fed into above layers\n",
    "      filters_: int, number of filters in Conv2D layer\n",
    "      kernal: int, kernal size in Conv2D layer\n",
    "      strides_: int, stride size in MaxPooling2D layer\n",
    "      dense: int, number of units in dense layer, default is None\n",
    "          Will only add layer if value is passed\n",
    "      dense_activation: str, activation function to pass into Dense layer\n",
    "          default is None\n",
    "      dropout: float, dropout percentage in Dropout layer, default is None\n",
    "        must be less than 1.0. Will only add layer if value is passed \n",
    "      cnn_activation: tensorflow activation layer, default is None\n",
    "          will only add layer is value is passed. Activation layer will be\n",
    "          added after the BatchNormalization layer\n",
    "\n",
    "    returns:\n",
    "      x: model that is the same as the input_layer input plus above \n",
    "        layers added\n",
    "        \n",
    "        \n",
    "    '''\n",
    "    x_dict = {}\n",
    "    for xx in range(len(kernal)):\n",
    "        x_dict[xx] = layers.Conv2D(filters_, (kernal[xx], kernal[xx]),\n",
    "                                   padding='same', activation=cnn_activation)(input_layer)\n",
    "        for _ in range(1): #may be able to try range(2) with the filters halved\n",
    "            x_dict[xx] = layers.Conv2D(filters_, (kernal[xx], kernal[xx]),\n",
    "                                       padding='same', activation=cnn_activation)(x_dict[xx])\n",
    "    x_list = [x_dict[xx] for xx in x_dict]\n",
    "    if len(x_list) > 1:\n",
    "        x = layers.Concatenate()(x_list)\n",
    "    else:\n",
    "        x = x_list[0]\n",
    "    x = layers.MaxPooling2D(strides_, strides_)(x)\n",
    "    x = layers.BatchNormalization()(x)\n",
    "    \n",
    "\n",
    "    \n",
    "    if cnn_activation:\n",
    "        x = cnn_activation(x)\n",
    "    x = layers.ReLU()(x)\n",
    "    if dense:\n",
    "        x = layers.Dense(dense, activation=dense_activation)(x)\n",
    "    if dropout:\n",
    "        x = layers.Dropout(dropout)(x)\n",
    "\n",
    "\n",
    "    return x"
   ]
  },
  {
   "cell_type": "code",
   "execution_count": 17,
   "metadata": {
    "execution": {
     "iopub.execute_input": "2020-08-15T06:18:07.294258Z",
     "iopub.status.busy": "2020-08-15T06:18:07.293535Z",
     "iopub.status.idle": "2020-08-15T06:18:07.296670Z",
     "shell.execute_reply": "2020-08-15T06:18:07.296074Z"
    },
    "id": "cwUPyepvLMf9",
    "papermill": {
     "duration": 0.047339,
     "end_time": "2020-08-15T06:18:07.296787",
     "exception": false,
     "start_time": "2020-08-15T06:18:07.249448",
     "status": "completed"
    },
    "tags": []
   },
   "outputs": [],
   "source": [
    "def deconv_set_of_layers(input_layer, \n",
    "                         filters_, \n",
    "                         kernal_, \n",
    "                         stride, \n",
    "                         dense=None, \n",
    "                         dense_activation=None, \n",
    "                         dropout=None,\n",
    "                         cnn_activation=None):\n",
    "    '''\n",
    "    function to add the following layers to a model:\n",
    "    Conv2DTranspose, BatchNormalization, LeadyReLU, Dense\n",
    "\n",
    "    args:\n",
    "      input_layer : input layer to be fed into above layers\n",
    "      filters_: int, number of filters in Conv2DTranspose layer\n",
    "      kernal_: int, kernal size in Conv2DTranspose layer\n",
    "      strides_: int, stride size in Conv2DTranspose layer\n",
    "      dense: int, number of units in dense layer, default is None\n",
    "          Will only add layer if value is passed\n",
    "      dense_activation: str, activation function to pass into Dense layer\n",
    "          default is None\n",
    "      dropout: float, dropout percentage in Dropout layer, default is None\n",
    "        must be less than 1.0. Will only add layer if value is passed \n",
    "      cnn_activation: tensorflow activation layer, default is None\n",
    "          will only add layer is value is passed. Activation layer will be\n",
    "          added after the BatchNormalization layer\n",
    "\n",
    "\n",
    "    returns:\n",
    "      x: model that is the same as the input_layer input plus above \n",
    "        layers added\n",
    "    '''\n",
    "\n",
    "        \n",
    "    x_dict = {}\n",
    "    for xx in range(len(kernal_)):\n",
    "        x_dict[xx] = layers.Conv2DTranspose(filters_,\n",
    "                                           kernal_[xx],\n",
    "                                           (stride, stride),\n",
    "                                           padding='same')(input_layer)\n",
    "        x_dict[xx] = layers.BatchNormalization()(x_dict[xx])\n",
    "    x_list = [x_dict[xx] for xx in x_dict]\n",
    "    if len(x_list) > 1:\n",
    "        x = layers.Concatenate()(x_list)\n",
    "    else:\n",
    "        x = x_list[0]\n",
    "    \n",
    "    if cnn_activation:\n",
    "        x = cnn_activation(x)\n",
    "   \n",
    "    if dense:\n",
    "        x = layers.Dense(dense, activation=dense_activation)(x)\n",
    "    \n",
    "    if dropout:\n",
    "        x = layers.Dropout(dropout)(x)\n",
    "    \n",
    "\n",
    "    return x\n"
   ]
  },
  {
   "cell_type": "code",
   "execution_count": 18,
   "metadata": {
    "execution": {
     "iopub.execute_input": "2020-08-15T06:18:07.409849Z",
     "iopub.status.busy": "2020-08-15T06:18:07.399351Z",
     "iopub.status.idle": "2020-08-15T06:18:07.417698Z",
     "shell.execute_reply": "2020-08-15T06:18:07.416573Z"
    },
    "id": "ZUGGmJIZLMf_",
    "papermill": {
     "duration": 0.089982,
     "end_time": "2020-08-15T06:18:07.417927",
     "exception": false,
     "start_time": "2020-08-15T06:18:07.327945",
     "status": "completed"
    },
    "tags": []
   },
   "outputs": [],
   "source": [
    "def create_model(input_shape=[*params['img_size'], 3], bias_output=None):\n",
    "    '''\n",
    "    function to create a model that will be used to train DS via xfer learning\n",
    "    \n",
    "    args:\n",
    "        input_shape: array, default: [1024, 1024, 3], shape\n",
    "            of input tensor that will be fed into model\n",
    "    \n",
    "    returns:\n",
    "        model: keras.Model() model\n",
    "    \n",
    "    '''\n",
    "    \n",
    "    input_tensor = layers.Input(shape=input_shape, name='images_input')\n",
    "    \n",
    "    # #input s/b 224, 224, 3 // try to normalize 0 -> 1\n",
    "    # densenet = tf.keras.applications.DenseNet121(include_top=False, \n",
    "    #                                              input_shape=input_shape, \n",
    "    #                                              classes=1)(input_tensor)\n",
    "    # end_of_densenet = layers.GlobalAveragePooling2D()(densenet)\n",
    "    # dense_layers = layers.Dense(512)(end_of_densenet)\n",
    "    # dense_layers = layers.Dropout(0.7)(dense_layers)\n",
    "    # ###end of densenet### auc - 0.8844 (-1 -> 1) auc 0.8967 (0 -> 1)\n",
    "    \n",
    "    # #s/b 224, 224, 3 // \n",
    "    # efficientnet = tf.keras.applications.EfficientNetB0(include_top=False,\n",
    "    #                                                    input_shape=input_shape,\n",
    "    #                                                    classes=1)(input_tensor)\n",
    "    # end_of_efficientnet = layers.GlobalAveragePooling2D()(efficientnet)\n",
    "    # dense_layers = layers.Dense(8)(end_of_efficientnet)\n",
    "    # ###end of efficientnet### auc - 0.8602 (-1 -> 1)\n",
    "\n",
    "#        #s/b 224, 224, 3 // \n",
    "#     efficientnet = tf.keras.applications.EfficientNetB7(include_top=False,\n",
    "#                                                        input_shape=input_shape,\n",
    "#                                                        classes=1)(input_tensor)\n",
    "#     end_of_efficientnet = layers.GlobalAveragePooling2D()(efficientnet)\n",
    "#     dense_layers = layers.Dense(8)(end_of_efficientnet)\n",
    "#     ###end of efficientnet### \n",
    "    \n",
    "    #s/b 299, 299, 3 // needs to be -1 --> 1\n",
    "    xception = tf.keras.applications.Xception(include_top=False,\n",
    "                                                       input_shape=input_shape,\n",
    "                                                       classes=1)(input_tensor)\n",
    "    end_of_xception = layers.GlobalAveragePooling2D()(xception)\n",
    "    dense_layers = layers.Dense(8)(end_of_xception)\n",
    "    ###end of xception###\n",
    "    \n",
    "    # #s/b 299, 299, 3 // needs to be -1 -> 1\n",
    "    # inception = tf.keras.applications.InceptionV3(include_top=False,\n",
    "    #                                              input_shape=input_shape,\n",
    "    #                                              classes=1)(input_tensor)\n",
    "    # end_of_inception = layers.GlobalAveragePooling2D()(inception)\n",
    "    # dense_layers = layers.Dense(8)(end_of_inception)\n",
    "    # ##end of inception (2016)### auc - 0.9009 (best)\n",
    "    \n",
    "#     #s/b 299, 299, 3 // needs to be -1 -> 1\n",
    "#     inception_v2 = tf.keras.applications.InceptionResNetV2(include_top=False,\n",
    "#                                                           input_shape=input_shape,\n",
    "#                                                           classes=1)(input_tensor)\n",
    "#     end_of_inceptionv2 = layers.GlobalAveragePooling2D()(inception_v2)\n",
    "#     dense_layers = layers.Dense(8)(end_of_inceptionv2)\n",
    "#     ###end of inception (2017)###\n",
    "    \n",
    "    #s/b 224, 224, 3 // needs to be -1 -> 1\n",
    "    # mobilnet = tf.keras.applications.MobileNet(include_top=False,\n",
    "    #                                           input_shape=input_shape,\n",
    "    #                                           classes=1)(input_tensor)\n",
    "    # end_of_mobilnet = layers.GlobalAveragePooling2D() (mobilnet)\n",
    "    # dense_layers = layers.Dense(8)(end_of_mobilnet)\n",
    "    ###end of mobilnet (v1)### auc - 0.8681\n",
    "\n",
    "    # # s/b 224, 224, 3 // needs to be -1 --> 1\n",
    "    # mobilnet_v2 = tf.keras.applications.MobileNetV2(include_top=False,\n",
    "    #                                                input_shape=input_shape,\n",
    "    #                                                classes=1)(input_tensor)\n",
    "    # end_of_mobilnet_v2 = layers.GlobalAveragePooling2D()(mobilnet_v2)\n",
    "    # dense_layers = layers.Dense(8)(end_of_mobilnet_v2)\n",
    "    # ###end of mobilnet (2018)### #dont use -- immediately overfits training data\n",
    "\n",
    "\n",
    "\n",
    "\n",
    "    \n",
    "\n",
    "\n",
    "\n",
    "    \n",
    "    if bias_output is not None:\n",
    "        bias_output = tf.keras.initializers.Constant(bias_output)\n",
    "    output = layers.Dense(1, activation='sigmoid', bias_initializer=bias_output)(dense_layers)\n",
    "    model = keras.Model(inputs=input_tensor, outputs=output)\n",
    "    \n",
    "    \n",
    "    metrics = [\n",
    "          keras.metrics.TruePositives(name='tp'),\n",
    "          keras.metrics.FalseNegatives(name='fn'), \n",
    "          keras.metrics.BinaryAccuracy(name='accuracy'),\n",
    "          keras.metrics.AUC(name='auc'),\n",
    "    ]\n",
    "    schedule = None\n",
    "    \n",
    "    model.compile(\n",
    "        optimizer=tf.keras.optimizers.Adam(),\n",
    "        loss = tf.keras.losses.BinaryCrossentropy(label_smoothing = 0.01),\n",
    "        metrics=metrics)\n",
    "    \n",
    "    \n",
    "    return model"
   ]
  },
  {
   "cell_type": "code",
   "execution_count": 19,
   "metadata": {
    "execution": {
     "iopub.execute_input": "2020-08-15T06:18:07.519290Z",
     "iopub.status.busy": "2020-08-15T06:18:07.516570Z",
     "iopub.status.idle": "2020-08-15T06:18:07.522263Z",
     "shell.execute_reply": "2020-08-15T06:18:07.521659Z"
    },
    "id": "nfrWgAxjLMgA",
    "papermill": {
     "duration": 0.058684,
     "end_time": "2020-08-15T06:18:07.522402",
     "exception": false,
     "start_time": "2020-08-15T06:18:07.463718",
     "status": "completed"
    },
    "tags": []
   },
   "outputs": [],
   "source": [
    "def create_model_obsol(input_shape=[*params['img_size'], 3], bias_output=None):\n",
    "    '''\n",
    "    function to create a model that will be trained on train DS\n",
    "    \n",
    "    args:\n",
    "        input_shape: array, default: [1024, 1024, 3], shape\n",
    "            of input tensor that will be fed into model\n",
    "    \n",
    "    returns:\n",
    "        model: keras.Model() model\n",
    "    '''\n",
    "\n",
    "    relu = layers.ReLU()\n",
    "    leakyrelu = layers.LeakyReLU()\n",
    "    input_tensor = layers.Input(shape=input_shape, name='images_input')\n",
    "    x = input_tensor\n",
    "#     filters_list = [64, 128, 256, 512, 1024]\n",
    "    filters_list = [32, 64, 128, 256, 512]\n",
    "    \n",
    "    for filter_ in filters_list:\n",
    "        x = set_of_layers(x, filter_, [3, 5], 2, 16,  dropout=0.35, dense_activation='tanh', \n",
    "                           cnn_activation=relu)\n",
    "        \n",
    "    \n",
    "    output_helper_1 = layers.Flatten(name='flatten_output_helper_1')(x)\n",
    "    output_helper_1 = layers.Dense(128)(output_helper_1)\n",
    "    \n",
    "    \n",
    "    \n",
    "#     filters_list = [1024, 512, 256]\n",
    "    filters_list = [512, 256, 128]\n",
    "    \n",
    "    for filter_ in filters_list:\n",
    "        x = deconv_set_of_layers(x, filter_, [2, 4], 2, 16,  dense_activation='tanh', cnn_activation=relu,\n",
    "                                 dropout=0.35)\n",
    "    \n",
    "    output_helper_2 = layers.Flatten(name='flatten_output_helper_2')(x)\n",
    "    output_helper_2 = layers.Dense(128)(output_helper_2)\n",
    "\n",
    "    \n",
    "#     filters_list = [256, 512, 1024]\n",
    "    filters_list = [128, 256, 512]\n",
    "    \n",
    "    for filter_ in filters_list:\n",
    "        x = set_of_layers(x, filter_, [3, 5], 2, 16,  dropout=0.35, dense_activation='tanh',\n",
    "                           cnn_activation=relu)\n",
    "\n",
    "\n",
    "\n",
    "    x = layers.Flatten(name='flatten_main_output')(x)\n",
    "    x = layers.Dense(128)(x)\n",
    "#     model.add(layers.Dense(64))\n",
    "    \n",
    "    if bias_output is not None:\n",
    "        bias_output = tf.keras.initializers.Constant(bias_output)\n",
    "    output_layer = layers.Dense(1, activation='sigmoid', bias_initializer=bias_output)(x)\n",
    "    \n",
    "    output_helper_1 = layers.Dense(1, activation='sigmoid',\n",
    "                                  bias_initializer=bias_output)(output_helper_1)\n",
    "    output_helper_2 = layers.Dense(1, activation='sigmoid',\n",
    "                                  bias_initializer=bias_output)(output_helper_2)\n",
    "    \n",
    "    model=keras.Model(inputs=[input_tensor],\n",
    "                     outputs=[output_layer, output_helper_1, output_helper_2])\n",
    "\n",
    " \n",
    "           \n",
    "    metrics = [\n",
    "          keras.metrics.TruePositives(name='tp'),\n",
    "          keras.metrics.FalseNegatives(name='fn'), \n",
    "          keras.metrics.BinaryAccuracy(name='accuracy'),\n",
    "          keras.metrics.AUC(name='auc'),\n",
    "    ]\n",
    "    schedule = None\n",
    "    \n",
    "    model.compile(\n",
    "        optimizer=tf.keras.optimizers.Adam(0.00033),\n",
    "        loss = [tf.keras.losses.BinaryCrossentropy(label_smoothing = 0.01),\n",
    "                tf.keras.losses.BinaryCrossentropy(label_smoothing = 0.01),\n",
    "                tf.keras.losses.BinaryCrossentropy(label_smoothing = 0.01)],\n",
    "        metrics=metrics,\n",
    "    loss_weights = [1.0, 0.15, 0.15])\n",
    "    \n",
    "\n",
    "    \n",
    "    return model\n",
    "\n"
   ]
  },
  {
   "cell_type": "code",
   "execution_count": 20,
   "metadata": {
    "execution": {
     "iopub.execute_input": "2020-08-15T06:18:07.597199Z",
     "iopub.status.busy": "2020-08-15T06:18:07.596498Z",
     "iopub.status.idle": "2020-08-15T06:18:07.599846Z",
     "shell.execute_reply": "2020-08-15T06:18:07.599316Z"
    },
    "id": "ctZtGXcBLMgC",
    "papermill": {
     "duration": 0.046815,
     "end_time": "2020-08-15T06:18:07.600010",
     "exception": false,
     "start_time": "2020-08-15T06:18:07.553195",
     "status": "completed"
    },
    "tags": []
   },
   "outputs": [],
   "source": [
    "def get_ds_size(files):\n",
    "    '''\n",
    "    function to get size of tfrecord Dataset, based on file name\n",
    "    \n",
    "    the file name has the number of records in the file, for example:\n",
    "    train09-2071.tfrec has 2017 records\n",
    "    \n",
    "    args:\n",
    "        files: list of str file names, each item should be the path to a tfrecord file\n",
    "    \n",
    "    returns:\n",
    "        size: int, size of dataset\n",
    "    '''\n",
    "    size = 0\n",
    "    for file in files:\n",
    "        file_size = int(file.split('.tfrec')[0].split('tfrecords/')[1].split('-')[1])\n",
    "        size += file_size\n",
    "    return size"
   ]
  },
  {
   "cell_type": "code",
   "execution_count": 21,
   "metadata": {
    "execution": {
     "iopub.execute_input": "2020-08-15T06:18:07.960063Z",
     "iopub.status.busy": "2020-08-15T06:18:07.958980Z",
     "iopub.status.idle": "2020-08-15T06:18:08.646343Z",
     "shell.execute_reply": "2020-08-15T06:18:08.646865Z"
    },
    "id": "N7SqvS9ULMgD",
    "papermill": {
     "duration": 1.018079,
     "end_time": "2020-08-15T06:18:08.647069",
     "exception": false,
     "start_time": "2020-08-15T06:18:07.628990",
     "status": "completed"
    },
    "tags": []
   },
   "outputs": [],
   "source": [
    "#get test file paths\n",
    "test_files = tf.io.gfile.glob(dataset_gcs + '/tfrecords/test*.tfrec')\n",
    "\n",
    "#get train and validation file paths\n",
    "train_files, valid_files = train_test_split(tf.io.gfile.glob(dataset_gcs + '/tfrecords/train*.tfrec'),\n",
    "                              test_size=.1, random_state=1)\n",
    "\n",
    "#create datasets\n",
    "train_ds = get_train_ds(train_files, params['batch_size'])\n",
    "valid_ds = get_train_ds(valid_files, params['batch_size'])\n",
    "test_ds = get_test_ds(test_files, params['batch_size'])"
   ]
  },
  {
   "cell_type": "code",
   "execution_count": 22,
   "metadata": {
    "execution": {
     "iopub.execute_input": "2020-08-15T06:18:08.709601Z",
     "iopub.status.busy": "2020-08-15T06:18:08.708663Z",
     "iopub.status.idle": "2020-08-15T06:18:08.713022Z",
     "shell.execute_reply": "2020-08-15T06:18:08.712469Z"
    },
    "id": "fVGrZ5WFLMgE",
    "outputId": "0c9f07a1-f059-4154-ab61-ee251be6951a",
    "papermill": {
     "duration": 0.037474,
     "end_time": "2020-08-15T06:18:08.713152",
     "exception": false,
     "start_time": "2020-08-15T06:18:08.675678",
     "status": "completed"
    },
    "tags": []
   },
   "outputs": [
    {
     "name": "stdout",
     "output_type": "stream",
     "text": [
      "the dataset consists of: 28984 training images, 4142 validation images, and 10982 test images\n"
     ]
    }
   ],
   "source": [
    "train_size, valid_size = get_ds_size(train_files), get_ds_size(valid_files)\n",
    "test_size = get_ds_size(test_files)\n",
    "print('the dataset consists of: {} training images, {} validation images, and {} test images'.\n",
    "     format(train_size, valid_size, test_size))"
   ]
  },
  {
   "cell_type": "code",
   "execution_count": null,
   "metadata": {
    "id": "gVpGnOMJLMgG",
    "papermill": {
     "duration": 0.028807,
     "end_time": "2020-08-15T06:18:08.770464",
     "exception": false,
     "start_time": "2020-08-15T06:18:08.741657",
     "status": "completed"
    },
    "tags": []
   },
   "outputs": [],
   "source": []
  },
  {
   "cell_type": "code",
   "execution_count": 23,
   "metadata": {
    "execution": {
     "iopub.execute_input": "2020-08-15T06:18:08.832600Z",
     "iopub.status.busy": "2020-08-15T06:18:08.831608Z",
     "iopub.status.idle": "2020-08-15T06:18:08.835023Z",
     "shell.execute_reply": "2020-08-15T06:18:08.834389Z"
    },
    "id": "aykTwKSdLMgH",
    "papermill": {
     "duration": 0.036953,
     "end_time": "2020-08-15T06:18:08.835146",
     "exception": false,
     "start_time": "2020-08-15T06:18:08.798193",
     "status": "completed"
    },
    "tags": []
   },
   "outputs": [],
   "source": [
    "epoch_steps = train_size / params['batch_size'] \n",
    "valid_steps = valid_size / params['batch_size']\n",
    "test_steps = 1.0 * test_size / params['batch_size'] "
   ]
  },
  {
   "cell_type": "code",
   "execution_count": 24,
   "metadata": {
    "execution": {
     "iopub.execute_input": "2020-08-15T06:18:08.900832Z",
     "iopub.status.busy": "2020-08-15T06:18:08.899978Z",
     "iopub.status.idle": "2020-08-15T06:18:08.928120Z",
     "shell.execute_reply": "2020-08-15T06:18:08.927398Z"
    },
    "id": "ZSyag_aJLMgI",
    "papermill": {
     "duration": 0.064556,
     "end_time": "2020-08-15T06:18:08.928238",
     "exception": false,
     "start_time": "2020-08-15T06:18:08.863682",
     "status": "completed"
    },
    "tags": []
   },
   "outputs": [],
   "source": [
    "#calculate class weights\n",
    "\n",
    "targets = train_df.groupby('target').count()['diagnosis'].to_list()\n",
    "target_0 = targets[0]\n",
    "target_1 = targets[1]\n",
    "total = target_0 + target_1\n",
    "\n",
    "class_weight_0 = (1 / target_0) * (total) / 2.0\n",
    "class_weight_1 = (1 / target_1) * (total) / 2.0\n",
    "\n",
    "class_weights = {0: class_weight_0, 1: class_weight_1}\n",
    "\n",
    "initial_bias = np.log([target_1 / target_0])\n",
    "\n"
   ]
  },
  {
   "cell_type": "code",
   "execution_count": 25,
   "metadata": {
    "execution": {
     "iopub.execute_input": "2020-08-15T06:18:08.994516Z",
     "iopub.status.busy": "2020-08-15T06:18:08.993628Z",
     "iopub.status.idle": "2020-08-15T06:18:08.996138Z",
     "shell.execute_reply": "2020-08-15T06:18:08.996696Z"
    },
    "id": "M_-z4cMRLMgJ",
    "papermill": {
     "duration": 0.040141,
     "end_time": "2020-08-15T06:18:08.996844",
     "exception": false,
     "start_time": "2020-08-15T06:18:08.956703",
     "status": "completed"
    },
    "tags": []
   },
   "outputs": [],
   "source": [
    "def lr_schedule_fn(epoch, lr):\n",
    "    if epoch < 8:\n",
    "        return 0.000001\n",
    "    elif epoch == 8:\n",
    "        return 0.001\n",
    "    elif epoch %2 ==0 and epoch < 49:\n",
    "        return lr * 0.75\n",
    "    else:\n",
    "        return lr"
   ]
  },
  {
   "cell_type": "code",
   "execution_count": 26,
   "metadata": {
    "execution": {
     "iopub.execute_input": "2020-08-15T06:18:09.065161Z",
     "iopub.status.busy": "2020-08-15T06:18:09.064345Z",
     "iopub.status.idle": "2020-08-15T06:18:27.093268Z",
     "shell.execute_reply": "2020-08-15T06:18:27.092502Z"
    },
    "id": "fOtpzGueLMgK",
    "outputId": "fc3dc0c6-374b-40e1-fa96-787198b49945",
    "papermill": {
     "duration": 18.06607,
     "end_time": "2020-08-15T06:18:27.093502",
     "exception": false,
     "start_time": "2020-08-15T06:18:09.027432",
     "status": "completed"
    },
    "tags": []
   },
   "outputs": [
    {
     "name": "stdout",
     "output_type": "stream",
     "text": [
      "Downloading data from https://storage.googleapis.com/tensorflow/keras-applications/xception/xception_weights_tf_dim_ordering_tf_kernels_notop.h5\n",
      "83689472/83683744 [==============================] - 2s 0us/step\n",
      "Model: \"model\"\n",
      "_________________________________________________________________\n",
      "Layer (type)                 Output Shape              Param #   \n",
      "=================================================================\n",
      "images_input (InputLayer)    [(None, 299, 299, 3)]     0         \n",
      "_________________________________________________________________\n",
      "xception (Model)             (None, 10, 10, 2048)      20861480  \n",
      "_________________________________________________________________\n",
      "global_average_pooling2d (Gl (None, 2048)              0         \n",
      "_________________________________________________________________\n",
      "dense (Dense)                (None, 8)                 16392     \n",
      "_________________________________________________________________\n",
      "dense_1 (Dense)              (None, 1)                 9         \n",
      "=================================================================\n",
      "Total params: 20,877,881\n",
      "Trainable params: 20,823,353\n",
      "Non-trainable params: 54,528\n",
      "_________________________________________________________________\n"
     ]
    }
   ],
   "source": [
    "with strategy.scope():\n",
    "    model = create_model(bias_output=initial_bias)\n",
    "    model.summary()"
   ]
  },
  {
   "cell_type": "markdown",
   "metadata": {
    "id": "PpMHxSTyLMgL",
    "papermill": {
     "duration": 0.029807,
     "end_time": "2020-08-15T06:18:27.153564",
     "exception": false,
     "start_time": "2020-08-15T06:18:27.123757",
     "status": "completed"
    },
    "tags": []
   },
   "source": [
    "# Training"
   ]
  },
  {
   "cell_type": "code",
   "execution_count": 27,
   "metadata": {
    "execution": {
     "iopub.execute_input": "2020-08-15T06:18:27.225838Z",
     "iopub.status.busy": "2020-08-15T06:18:27.224873Z",
     "iopub.status.idle": "2020-08-15T06:42:07.558085Z",
     "shell.execute_reply": "2020-08-15T06:42:07.557073Z"
    },
    "id": "kS9LOS2sLMgL",
    "outputId": "a026509a-8ff1-409f-95bf-797b1da5e06d",
    "papermill": {
     "duration": 1420.374985,
     "end_time": "2020-08-15T06:42:07.558294",
     "exception": false,
     "start_time": "2020-08-15T06:18:27.183309",
     "status": "completed"
    },
    "tags": []
   },
   "outputs": [
    {
     "name": "stdout",
     "output_type": "stream",
     "text": [
      "Epoch 1/350\n",
      "29/28 [==============================] - 50s 2s/step - loss: 2.0124 - tp: 0.0000e+00 - fn: 526.0000 - accuracy: 0.9823 - auc: 0.5577 - val_loss: 0.1058 - val_tp: 0.0000e+00 - val_fn: 85.0000 - val_accuracy: 0.9834 - val_auc: 0.5649 - lr: 1.0000e-06\n",
      "Epoch 2/350\n",
      "29/28 [==============================] - 30s 1s/step - loss: 1.9666 - tp: 0.0000e+00 - fn: 526.0000 - accuracy: 0.9823 - auc: 0.5959 - val_loss: 0.1073 - val_tp: 0.0000e+00 - val_fn: 87.0000 - val_accuracy: 0.9830 - val_auc: 0.5845 - lr: 1.0000e-06\n",
      "Epoch 3/350\n",
      "29/28 [==============================] - 28s 969ms/step - loss: 1.9282 - tp: 0.0000e+00 - fn: 527.0000 - accuracy: 0.9823 - auc: 0.6300 - val_loss: 0.1035 - val_tp: 0.0000e+00 - val_fn: 83.0000 - val_accuracy: 0.9838 - val_auc: 0.5727 - lr: 1.0000e-06\n",
      "Epoch 4/350\n",
      "29/28 [==============================] - 27s 930ms/step - loss: 1.8957 - tp: 0.0000e+00 - fn: 528.0000 - accuracy: 0.9822 - auc: 0.6429 - val_loss: 0.1080 - val_tp: 0.0000e+00 - val_fn: 89.0000 - val_accuracy: 0.9826 - val_auc: 0.5885 - lr: 1.0000e-06\n",
      "Epoch 5/350\n",
      "29/28 [==============================] - 27s 939ms/step - loss: 1.8252 - tp: 0.0000e+00 - fn: 525.0000 - accuracy: 0.9823 - auc: 0.6935 - val_loss: 0.1044 - val_tp: 0.0000e+00 - val_fn: 86.0000 - val_accuracy: 0.9832 - val_auc: 0.6123 - lr: 1.0000e-06\n",
      "Epoch 6/350\n",
      "29/28 [==============================] - 28s 961ms/step - loss: 1.8077 - tp: 0.0000e+00 - fn: 532.0000 - accuracy: 0.9821 - auc: 0.7082 - val_loss: 0.1012 - val_tp: 0.0000e+00 - val_fn: 84.0000 - val_accuracy: 0.9836 - val_auc: 0.6643 - lr: 1.0000e-06\n",
      "Epoch 7/350\n",
      "29/28 [==============================] - 27s 940ms/step - loss: 1.7356 - tp: 0.0000e+00 - fn: 525.0000 - accuracy: 0.9823 - auc: 0.7348 - val_loss: 0.1012 - val_tp: 0.0000e+00 - val_fn: 86.0000 - val_accuracy: 0.9832 - val_auc: 0.6897 - lr: 1.0000e-06\n",
      "Epoch 8/350\n",
      "29/28 [==============================] - 27s 933ms/step - loss: 1.7127 - tp: 0.0000e+00 - fn: 531.0000 - accuracy: 0.9821 - auc: 0.7454 - val_loss: 0.0985 - val_tp: 0.0000e+00 - val_fn: 83.0000 - val_accuracy: 0.9838 - val_auc: 0.7025 - lr: 1.0000e-06\n",
      "Epoch 9/350\n",
      "29/28 [==============================] - 33s 1s/step - loss: 0.6185 - tp: 370.0000 - fn: 156.0000 - accuracy: 0.7855 - auc: 0.8205 - val_loss: 13.8932 - val_tp: 88.0000 - val_fn: 0.0000e+00 - val_accuracy: 0.1463 - val_auc: 0.6385 - lr: 0.0010\n",
      "Epoch 10/350\n",
      "29/28 [==============================] - 29s 995ms/step - loss: 0.3861 - tp: 447.0000 - fn: 84.0000 - accuracy: 0.8183 - auc: 0.9133 - val_loss: 3.7382 - val_tp: 83.0000 - val_fn: 0.0000e+00 - val_accuracy: 0.3748 - val_auc: 0.8084 - lr: 0.0010\n",
      "Epoch 11/350\n",
      "29/28 [==============================] - 32s 1s/step - loss: 0.3006 - tp: 479.0000 - fn: 52.0000 - accuracy: 0.8700 - auc: 0.9495 - val_loss: 3.9877 - val_tp: 82.0000 - val_fn: 1.0000 - val_accuracy: 0.4379 - val_auc: 0.8112 - lr: 7.5000e-04\n",
      "Epoch 12/350\n",
      "29/28 [==============================] - 27s 915ms/step - loss: 0.2722 - tp: 483.0000 - fn: 51.0000 - accuracy: 0.8901 - auc: 0.9604 - val_loss: 1.0857 - val_tp: 78.0000 - val_fn: 7.0000 - val_accuracy: 0.7088 - val_auc: 0.8937 - lr: 7.5000e-04\n",
      "Epoch 13/350\n",
      "29/28 [==============================] - 39s 1s/step - loss: 0.2214 - tp: 493.0000 - fn: 34.0000 - accuracy: 0.9168 - auc: 0.9743 - val_loss: 0.3295 - val_tp: 63.0000 - val_fn: 23.0000 - val_accuracy: 0.8982 - val_auc: 0.9174 - lr: 5.6250e-04\n",
      "Epoch 14/350\n",
      "29/28 [==============================] - 26s 896ms/step - loss: 0.1795 - tp: 512.0000 - fn: 19.0000 - accuracy: 0.9262 - auc: 0.9843 - val_loss: 0.1702 - val_tp: 38.0000 - val_fn: 50.0000 - val_accuracy: 0.9500 - val_auc: 0.8900 - lr: 5.6250e-04\n",
      "Epoch 15/350\n",
      "29/28 [==============================] - 38s 1s/step - loss: 0.1387 - tp: 512.0000 - fn: 13.0000 - accuracy: 0.9474 - auc: 0.9919 - val_loss: 0.1799 - val_tp: 45.0000 - val_fn: 40.0000 - val_accuracy: 0.9420 - val_auc: 0.9129 - lr: 4.2187e-04\n",
      "Epoch 16/350\n",
      "29/28 [==============================] - 29s 997ms/step - loss: 0.1110 - tp: 520.0000 - fn: 8.0000 - accuracy: 0.9628 - auc: 0.9957 - val_loss: 0.1217 - val_tp: 27.0000 - val_fn: 57.0000 - val_accuracy: 0.9664 - val_auc: 0.8949 - lr: 4.2187e-04\n",
      "Epoch 17/350\n",
      "29/28 [==============================] - 28s 965ms/step - loss: 0.1069 - tp: 510.0000 - fn: 12.0000 - accuracy: 0.9668 - auc: 0.9959 - val_loss: 0.1298 - val_tp: 40.0000 - val_fn: 47.0000 - val_accuracy: 0.9635 - val_auc: 0.9104 - lr: 3.1641e-04\n",
      "Epoch 18/350\n",
      "29/28 [==============================] - 25s 878ms/step - loss: 0.0945 - tp: 517.0000 - fn: 10.0000 - accuracy: 0.9739 - auc: 0.9973 - val_loss: 0.1120 - val_tp: 24.0000 - val_fn: 64.0000 - val_accuracy: 0.9725 - val_auc: 0.9019 - lr: 3.1641e-04\n",
      "Epoch 19/350\n",
      "29/28 [==============================] - 38s 1s/step - loss: 0.0778 - tp: 529.0000 - fn: 4.0000 - accuracy: 0.9801 - auc: 0.9986 - val_loss: 0.1093 - val_tp: 22.0000 - val_fn: 67.0000 - val_accuracy: 0.9715 - val_auc: 0.8935 - lr: 2.3730e-04\n",
      "Epoch 20/350\n",
      "29/28 [==============================] - 30s 1s/step - loss: 0.0786 - tp: 519.0000 - fn: 6.0000 - accuracy: 0.9819 - auc: 0.9986 - val_loss: 0.1050 - val_tp: 24.0000 - val_fn: 60.0000 - val_accuracy: 0.9725 - val_auc: 0.9221 - lr: 2.3730e-04\n",
      "Epoch 21/350\n",
      "29/28 [==============================] - 29s 1s/step - loss: 0.0662 - tp: 522.0000 - fn: 4.0000 - accuracy: 0.9854 - auc: 0.9993 - val_loss: 0.1092 - val_tp: 22.0000 - val_fn: 65.0000 - val_accuracy: 0.9744 - val_auc: 0.8911 - lr: 1.7798e-04\n",
      "Epoch 22/350\n",
      "29/28 [==============================] - 26s 905ms/step - loss: 0.0575 - tp: 522.0000 - fn: 2.0000 - accuracy: 0.9908 - auc: 0.9996 - val_loss: 0.0894 - val_tp: 17.0000 - val_fn: 66.0000 - val_accuracy: 0.9809 - val_auc: 0.8871 - lr: 1.7798e-04\n",
      "Epoch 23/350\n",
      "29/28 [==============================] - 30s 1s/step - loss: 0.0560 - tp: 526.0000 - fn: 3.0000 - accuracy: 0.9920 - auc: 0.9998 - val_loss: 0.0944 - val_tp: 22.0000 - val_fn: 68.0000 - val_accuracy: 0.9783 - val_auc: 0.8914 - lr: 1.3348e-04\n",
      "Epoch 24/350\n",
      "29/28 [==============================] - 26s 897ms/step - loss: 0.0557 - tp: 525.0000 - fn: 3.0000 - accuracy: 0.9925 - auc: 0.9997 - val_loss: 0.0911 - val_tp: 31.0000 - val_fn: 55.0000 - val_accuracy: 0.9809 - val_auc: 0.9040 - lr: 1.3348e-04\n",
      "Epoch 25/350\n",
      "29/28 [==============================] - 27s 928ms/step - loss: 0.0513 - tp: 527.0000 - fn: 1.0000 - accuracy: 0.9940 - auc: 0.9998 - val_loss: 0.0910 - val_tp: 21.0000 - val_fn: 64.0000 - val_accuracy: 0.9791 - val_auc: 0.8872 - lr: 1.0011e-04\n",
      "Epoch 26/350\n",
      "29/28 [==============================] - 28s 969ms/step - loss: 0.0487 - tp: 527.0000 - fn: 2.0000 - accuracy: 0.9956 - auc: 0.9999 - val_loss: 0.0915 - val_tp: 20.0000 - val_fn: 66.0000 - val_accuracy: 0.9791 - val_auc: 0.9079 - lr: 1.0011e-04\n",
      "Epoch 27/350\n",
      "29/28 [==============================] - 26s 906ms/step - loss: 0.0491 - tp: 528.0000 - fn: 1.0000 - accuracy: 0.9958 - auc: 0.9999 - val_loss: 0.0922 - val_tp: 21.0000 - val_fn: 61.0000 - val_accuracy: 0.9781 - val_auc: 0.8954 - lr: 7.5085e-05\n",
      "Epoch 28/350\n",
      "29/28 [==============================] - 28s 973ms/step - loss: 0.0443 - tp: 525.0000 - fn: 0.0000e+00 - accuracy: 0.9971 - auc: 1.0000 - val_loss: 0.0886 - val_tp: 15.0000 - val_fn: 69.0000 - val_accuracy: 0.9801 - val_auc: 0.8758 - lr: 7.5085e-05\n",
      "Epoch 29/350\n",
      "29/28 [==============================] - 27s 943ms/step - loss: 0.0442 - tp: 531.0000 - fn: 0.0000e+00 - accuracy: 0.9973 - auc: 0.9999 - val_loss: 0.0904 - val_tp: 19.0000 - val_fn: 63.0000 - val_accuracy: 0.9803 - val_auc: 0.8950 - lr: 5.6314e-05\n",
      "Epoch 30/350\n",
      "29/28 [==============================] - 27s 942ms/step - loss: 0.0438 - tp: 522.0000 - fn: 1.0000 - accuracy: 0.9977 - auc: 1.0000 - val_loss: 0.0905 - val_tp: 17.0000 - val_fn: 65.0000 - val_accuracy: 0.9801 - val_auc: 0.8764 - lr: 5.6314e-05\n",
      "Epoch 31/350\n",
      "29/28 [==============================] - 28s 976ms/step - loss: 0.0437 - tp: 528.0000 - fn: 1.0000 - accuracy: 0.9976 - auc: 0.9999 - val_loss: 0.0933 - val_tp: 15.0000 - val_fn: 71.0000 - val_accuracy: 0.9781 - val_auc: 0.8811 - lr: 4.2235e-05\n",
      "Epoch 32/350\n",
      "29/28 [==============================] - 31s 1s/step - loss: 0.0419 - tp: 525.0000 - fn: 0.0000e+00 - accuracy: 0.9983 - auc: 1.0000 - val_loss: 0.0925 - val_tp: 16.0000 - val_fn: 71.0000 - val_accuracy: 0.9787 - val_auc: 0.8798 - lr: 4.2235e-05\n",
      "Epoch 33/350\n",
      "29/28 [==============================] - 30s 1s/step - loss: 0.0417 - tp: 534.0000 - fn: 0.0000e+00 - accuracy: 0.9982 - auc: 1.0000 - val_loss: 0.0923 - val_tp: 16.0000 - val_fn: 68.0000 - val_accuracy: 0.9797 - val_auc: 0.8785 - lr: 3.1676e-05\n",
      "Epoch 34/350\n",
      "29/28 [==============================] - 32s 1s/step - loss: 0.0418 - tp: 529.0000 - fn: 0.0000e+00 - accuracy: 0.9982 - auc: 1.0000 - val_loss: 0.0927 - val_tp: 18.0000 - val_fn: 69.0000 - val_accuracy: 0.9789 - val_auc: 0.8951 - lr: 3.1676e-05\n",
      "Epoch 35/350\n",
      "29/28 [==============================] - 27s 925ms/step - loss: 0.0412 - tp: 528.0000 - fn: 0.0000e+00 - accuracy: 0.9982 - auc: 1.0000 - val_loss: 0.0914 - val_tp: 18.0000 - val_fn: 67.0000 - val_accuracy: 0.9797 - val_auc: 0.8788 - lr: 2.3757e-05\n",
      "Epoch 36/350\n",
      "29/28 [==============================] - 26s 904ms/step - loss: 0.0412 - tp: 526.0000 - fn: 0.0000e+00 - accuracy: 0.9986 - auc: 1.0000 - val_loss: 0.0894 - val_tp: 18.0000 - val_fn: 66.0000 - val_accuracy: 0.9801 - val_auc: 0.8899 - lr: 2.3757e-05\n",
      "Epoch 37/350\n",
      "29/28 [==============================] - 29s 1s/step - loss: 0.0407 - tp: 529.0000 - fn: 0.0000e+00 - accuracy: 0.9987 - auc: 1.0000 - val_loss: 0.0926 - val_tp: 21.0000 - val_fn: 67.0000 - val_accuracy: 0.9783 - val_auc: 0.8897 - lr: 1.7818e-05\n",
      "Epoch 38/350\n",
      "29/28 [==============================] - 28s 954ms/step - loss: 0.0416 - tp: 523.0000 - fn: 1.0000 - accuracy: 0.9986 - auc: 1.0000 - val_loss: 0.0947 - val_tp: 21.0000 - val_fn: 64.0000 - val_accuracy: 0.9785 - val_auc: 0.8864 - lr: 1.7818e-05\n",
      "Epoch 39/350\n",
      "29/28 [==============================] - 42s 1s/step - loss: 0.0412 - tp: 523.0000 - fn: 0.0000e+00 - accuracy: 0.9986 - auc: 1.0000 - val_loss: 0.0953 - val_tp: 19.0000 - val_fn: 67.0000 - val_accuracy: 0.9773 - val_auc: 0.8908 - lr: 1.3363e-05\n",
      "Epoch 40/350\n",
      "29/28 [==============================] - 26s 903ms/step - loss: 0.0412 - tp: 531.0000 - fn: 0.0000e+00 - accuracy: 0.9983 - auc: 1.0000 - val_loss: 0.0915 - val_tp: 19.0000 - val_fn: 70.0000 - val_accuracy: 0.9783 - val_auc: 0.9014 - lr: 1.3363e-05\n",
      "Epoch 41/350\n",
      "29/28 [==============================] - 29s 1s/step - loss: 0.0404 - tp: 521.0000 - fn: 0.0000e+00 - accuracy: 0.9985 - auc: 1.0000 - val_loss: 0.0931 - val_tp: 14.0000 - val_fn: 69.0000 - val_accuracy: 0.9785 - val_auc: 0.8906 - lr: 1.0023e-05\n",
      "Epoch 42/350\n",
      "29/28 [==============================] - 27s 923ms/step - loss: 0.0401 - tp: 527.0000 - fn: 0.0000e+00 - accuracy: 0.9989 - auc: 1.0000 - val_loss: 0.0938 - val_tp: 20.0000 - val_fn: 66.0000 - val_accuracy: 0.9775 - val_auc: 0.8820 - lr: 1.0023e-05\n",
      "Epoch 43/350\n",
      "29/28 [==============================] - 36s 1s/step - loss: 0.0400 - tp: 529.0000 - fn: 0.0000e+00 - accuracy: 0.9988 - auc: 1.0000 - val_loss: 0.0928 - val_tp: 19.0000 - val_fn: 69.0000 - val_accuracy: 0.9789 - val_auc: 0.8840 - lr: 7.5169e-06\n",
      "Epoch 44/350\n",
      "29/28 [==============================] - 27s 916ms/step - loss: 0.0399 - tp: 529.0000 - fn: 0.0000e+00 - accuracy: 0.9989 - auc: 1.0000 - val_loss: 0.0909 - val_tp: 22.0000 - val_fn: 65.0000 - val_accuracy: 0.9807 - val_auc: 0.8767 - lr: 7.5169e-06\n",
      "Epoch 45/350\n",
      "29/28 [==============================] - 30s 1s/step - loss: 0.0401 - tp: 526.0000 - fn: 0.0000e+00 - accuracy: 0.9987 - auc: 1.0000 - val_loss: 0.0914 - val_tp: 16.0000 - val_fn: 66.0000 - val_accuracy: 0.9797 - val_auc: 0.8613 - lr: 5.6377e-06\n"
     ]
    }
   ],
   "source": [
    "early_stopping = tf.keras.callbacks.EarlyStopping(monitor='val_auc', #val_auc\n",
    "                                patience=25,\n",
    "                                mode='max',\n",
    "                                restore_best_weights=True)\n",
    "lr_schedule = tf.keras.callbacks.LearningRateScheduler(lr_schedule_fn)\n",
    "\n",
    "\n",
    "history = model.fit(\n",
    "    train_ds,\n",
    "#     batch_size=params['batch_size'],\n",
    "    epochs= params['epochs'], \n",
    "    steps_per_epoch=epoch_steps,\n",
    "    validation_data=valid_ds,\n",
    "    validation_steps=valid_steps,\n",
    "    class_weight=class_weights,\n",
    "    callbacks=[early_stopping, lr_schedule]\n",
    ")\n",
    "\n"
   ]
  },
  {
   "cell_type": "code",
   "execution_count": 28,
   "metadata": {
    "execution": {
     "iopub.execute_input": "2020-08-15T06:42:07.831963Z",
     "iopub.status.busy": "2020-08-15T06:42:07.830719Z",
     "iopub.status.idle": "2020-08-15T06:42:29.421441Z",
     "shell.execute_reply": "2020-08-15T06:42:29.420804Z"
    },
    "id": "eA4PkEzsLMgM",
    "papermill": {
     "duration": 21.728551,
     "end_time": "2020-08-15T06:42:29.421579",
     "exception": false,
     "start_time": "2020-08-15T06:42:07.693028",
     "status": "completed"
    },
    "tags": []
   },
   "outputs": [],
   "source": [
    "predictions = model.predict(test_ds.map(lambda img, igs: img), steps=test_steps)  "
   ]
  },
  {
   "cell_type": "code",
   "execution_count": 29,
   "metadata": {
    "execution": {
     "iopub.execute_input": "2020-08-15T06:42:29.665567Z",
     "iopub.status.busy": "2020-08-15T06:42:29.664749Z",
     "iopub.status.idle": "2020-08-15T06:42:36.596240Z",
     "shell.execute_reply": "2020-08-15T06:42:36.595596Z"
    },
    "id": "1U9IhzWcLMgN",
    "papermill": {
     "duration": 7.056685,
     "end_time": "2020-08-15T06:42:36.596413",
     "exception": false,
     "start_time": "2020-08-15T06:42:29.539728",
     "status": "completed"
    },
    "tags": []
   },
   "outputs": [
    {
     "name": "stdout",
     "output_type": "stream",
     "text": [
      "WARNING: AutoGraph could not transform <function <lambda> at 0x7feed96aaef0> and will run it as-is.\n",
      "Cause: could not parse the source code:\n",
      "\n",
      "                          map(lambda img, ids:ids).\n",
      "\n",
      "This error may be avoided by creating the lambda in a standalone statement.\n",
      "\n",
      "To silence this warning, decorate the function with @tf.autograph.experimental.do_not_convert\n"
     ]
    }
   ],
   "source": [
    "prediction_ids = next(iter(test_ds.\n",
    "                          map(lambda img, ids:ids).\n",
    "                          unbatch().\n",
    "                          batch(test_size))).numpy().astype('str')"
   ]
  },
  {
   "cell_type": "code",
   "execution_count": 30,
   "metadata": {
    "execution": {
     "iopub.execute_input": "2020-08-15T06:42:36.841195Z",
     "iopub.status.busy": "2020-08-15T06:42:36.840449Z",
     "iopub.status.idle": "2020-08-15T06:42:36.854011Z",
     "shell.execute_reply": "2020-08-15T06:42:36.853317Z"
    },
    "id": "kQ7UGn3vLMgO",
    "papermill": {
     "duration": 0.140028,
     "end_time": "2020-08-15T06:42:36.854132",
     "exception": false,
     "start_time": "2020-08-15T06:42:36.714104",
     "status": "completed"
    },
    "tags": []
   },
   "outputs": [],
   "source": [
    "prediction_dict = {\n",
    "    'image_name': prediction_ids,\n",
    "    'target': np.concatenate(predictions)\n",
    "}\n",
    "submission_ds = pd.DataFrame(prediction_dict)"
   ]
  },
  {
   "cell_type": "code",
   "execution_count": 31,
   "metadata": {
    "execution": {
     "iopub.execute_input": "2020-08-15T06:42:37.132320Z",
     "iopub.status.busy": "2020-08-15T06:42:37.131336Z",
     "iopub.status.idle": "2020-08-15T06:42:37.135799Z",
     "shell.execute_reply": "2020-08-15T06:42:37.135259Z"
    },
    "id": "1A4o3bZ4LMgP",
    "papermill": {
     "duration": 0.129012,
     "end_time": "2020-08-15T06:42:37.135964",
     "exception": false,
     "start_time": "2020-08-15T06:42:37.006952",
     "status": "completed"
    },
    "tags": []
   },
   "outputs": [
    {
     "data": {
      "text/html": [
       "<div>\n",
       "<style scoped>\n",
       "    .dataframe tbody tr th:only-of-type {\n",
       "        vertical-align: middle;\n",
       "    }\n",
       "\n",
       "    .dataframe tbody tr th {\n",
       "        vertical-align: top;\n",
       "    }\n",
       "\n",
       "    .dataframe thead th {\n",
       "        text-align: right;\n",
       "    }\n",
       "</style>\n",
       "<table border=\"1\" class=\"dataframe\">\n",
       "  <thead>\n",
       "    <tr style=\"text-align: right;\">\n",
       "      <th></th>\n",
       "      <th>image_name</th>\n",
       "      <th>target</th>\n",
       "    </tr>\n",
       "  </thead>\n",
       "  <tbody>\n",
       "    <tr>\n",
       "      <th>0</th>\n",
       "      <td>ISIC_6381819</td>\n",
       "      <td>0.728494</td>\n",
       "    </tr>\n",
       "    <tr>\n",
       "      <th>1</th>\n",
       "      <td>ISIC_5583376</td>\n",
       "      <td>0.020745</td>\n",
       "    </tr>\n",
       "    <tr>\n",
       "      <th>2</th>\n",
       "      <td>ISIC_6408546</td>\n",
       "      <td>0.018593</td>\n",
       "    </tr>\n",
       "    <tr>\n",
       "      <th>3</th>\n",
       "      <td>ISIC_6932354</td>\n",
       "      <td>0.069885</td>\n",
       "    </tr>\n",
       "    <tr>\n",
       "      <th>4</th>\n",
       "      <td>ISIC_8191278</td>\n",
       "      <td>0.022228</td>\n",
       "    </tr>\n",
       "  </tbody>\n",
       "</table>\n",
       "</div>"
      ],
      "text/plain": [
       "     image_name    target\n",
       "0  ISIC_6381819  0.728494\n",
       "1  ISIC_5583376  0.020745\n",
       "2  ISIC_6408546  0.018593\n",
       "3  ISIC_6932354  0.069885\n",
       "4  ISIC_8191278  0.022228"
      ]
     },
     "execution_count": 31,
     "metadata": {},
     "output_type": "execute_result"
    }
   ],
   "source": [
    "submission_ds.head()"
   ]
  },
  {
   "cell_type": "code",
   "execution_count": 32,
   "metadata": {
    "execution": {
     "iopub.execute_input": "2020-08-15T06:42:37.378556Z",
     "iopub.status.busy": "2020-08-15T06:42:37.377852Z",
     "iopub.status.idle": "2020-08-15T06:42:37.445295Z",
     "shell.execute_reply": "2020-08-15T06:42:37.444703Z"
    },
    "id": "KcsPat4yLMgQ",
    "papermill": {
     "duration": 0.192488,
     "end_time": "2020-08-15T06:42:37.445432",
     "exception": false,
     "start_time": "2020-08-15T06:42:37.252944",
     "status": "completed"
    },
    "tags": []
   },
   "outputs": [],
   "source": [
    "submission_ds.to_csv('submission.csv', index=False)"
   ]
  },
  {
   "cell_type": "markdown",
   "metadata": {
    "id": "ubGSnZkvLMgR",
    "papermill": {
     "duration": 0.117192,
     "end_time": "2020-08-15T06:42:37.682369",
     "exception": false,
     "start_time": "2020-08-15T06:42:37.565177",
     "status": "completed"
    },
    "tags": []
   },
   "source": [
    "# Metrics"
   ]
  },
  {
   "cell_type": "code",
   "execution_count": 33,
   "metadata": {
    "execution": {
     "iopub.execute_input": "2020-08-15T06:42:37.918091Z",
     "iopub.status.busy": "2020-08-15T06:42:37.917191Z",
     "iopub.status.idle": "2020-08-15T06:42:37.920073Z",
     "shell.execute_reply": "2020-08-15T06:42:37.919378Z"
    },
    "id": "UxBeXMGxLMgR",
    "papermill": {
     "duration": 0.123928,
     "end_time": "2020-08-15T06:42:37.920191",
     "exception": false,
     "start_time": "2020-08-15T06:42:37.796263",
     "status": "completed"
    },
    "tags": []
   },
   "outputs": [],
   "source": [
    "def plot_metric(metric1, metric2, ylabel):\n",
    "    plt.plot(history.history[metric1], label=metric1)\n",
    "    plt.plot(history.history[metric2], label=metric2)\n",
    "    plt.ylabel(ylabel)\n",
    "    plt.xlabel('epoch')\n",
    "    plt.legend()\n",
    "    plt.show()"
   ]
  },
  {
   "cell_type": "code",
   "execution_count": 34,
   "metadata": {
    "execution": {
     "iopub.execute_input": "2020-08-15T06:42:38.159424Z",
     "iopub.status.busy": "2020-08-15T06:42:38.158735Z",
     "iopub.status.idle": "2020-08-15T06:42:38.758553Z",
     "shell.execute_reply": "2020-08-15T06:42:38.757750Z"
    },
    "id": "eMIClAMiLMgS",
    "papermill": {
     "duration": 0.722601,
     "end_time": "2020-08-15T06:42:38.758682",
     "exception": false,
     "start_time": "2020-08-15T06:42:38.036081",
     "status": "completed"
    },
    "tags": []
   },
   "outputs": [
    {
     "data": {
      "image/png": "[encoded data removed]",
      "text/plain": [
       "<Figure size 432x288 with 1 Axes>"
      ]
     },
     "metadata": {
      "needs_background": "light"
     },
     "output_type": "display_data"
    },
    {
     "data": {
      "image/png": "[encoded data removed]",
      "text/plain": [
       "<Figure size 432x288 with 1 Axes>"
      ]
     },
     "metadata": {
      "needs_background": "light"
     },
     "output_type": "display_data"
    },
    {
     "data": {
      "image/png": "[encoded data removed]",
      "text/plain": [
       "<Figure size 432x288 with 1 Axes>"
      ]
     },
     "metadata": {
      "needs_background": "light"
     },
     "output_type": "display_data"
    }
   ],
   "source": [
    "plot_metric('auc', 'val_auc', 'auc')\n",
    "plot_metric('loss', 'val_loss', 'loss')\n",
    "plot_metric('accuracy', 'val_accuracy', 'accuracy')"
   ]
  },
  {
   "cell_type": "code",
   "execution_count": 35,
   "metadata": {
    "execution": {
     "iopub.execute_input": "2020-08-15T06:42:39.018632Z",
     "iopub.status.busy": "2020-08-15T06:42:39.017621Z",
     "iopub.status.idle": "2020-08-15T06:42:39.022322Z",
     "shell.execute_reply": "2020-08-15T06:42:39.022826Z"
    },
    "id": "5Q8vZ-fALMgS",
    "papermill": {
     "duration": 0.135752,
     "end_time": "2020-08-15T06:42:39.023046",
     "exception": false,
     "start_time": "2020-08-15T06:42:38.887294",
     "status": "completed"
    },
    "tags": []
   },
   "outputs": [
    {
     "data": {
      "text/plain": [
       "{'loss': [2.012378215789795,\n",
       "  1.9665923118591309,\n",
       "  1.9282231330871582,\n",
       "  1.8956577777862549,\n",
       "  1.8251866102218628,\n",
       "  1.8076640367507935,\n",
       "  1.7356233596801758,\n",
       "  1.7127195596694946,\n",
       "  0.6185227632522583,\n",
       "  0.38614240288734436,\n",
       "  0.3006373941898346,\n",
       "  0.2721904516220093,\n",
       "  0.22139035165309906,\n",
       "  0.17946037650108337,\n",
       "  0.13867886364459991,\n",
       "  0.1110159307718277,\n",
       "  0.10691604763269424,\n",
       "  0.09448535740375519,\n",
       "  0.07784224301576614,\n",
       "  0.07859523594379425,\n",
       "  0.06623730063438416,\n",
       "  0.057517122477293015,\n",
       "  0.055967897176742554,\n",
       "  0.055711984634399414,\n",
       "  0.05129721388220787,\n",
       "  0.04865892976522446,\n",
       "  0.04905298352241516,\n",
       "  0.04427919536828995,\n",
       "  0.044208236038684845,\n",
       "  0.043815456330776215,\n",
       "  0.04366938769817352,\n",
       "  0.04187522083520889,\n",
       "  0.041720036417245865,\n",
       "  0.04179215058684349,\n",
       "  0.0411880686879158,\n",
       "  0.04119154065847397,\n",
       "  0.040661297738552094,\n",
       "  0.04159662872552872,\n",
       "  0.041165366768836975,\n",
       "  0.04120394587516785,\n",
       "  0.040414053946733475,\n",
       "  0.040136661380529404,\n",
       "  0.03995058313012123,\n",
       "  0.03985770046710968,\n",
       "  0.0401436872780323],\n",
       " 'tp': [0.0,\n",
       "  0.0,\n",
       "  0.0,\n",
       "  0.0,\n",
       "  0.0,\n",
       "  0.0,\n",
       "  0.0,\n",
       "  0.0,\n",
       "  370.0,\n",
       "  447.0,\n",
       "  479.0,\n",
       "  483.0,\n",
       "  493.0,\n",
       "  512.0,\n",
       "  512.0,\n",
       "  520.0,\n",
       "  510.0,\n",
       "  517.0,\n",
       "  529.0,\n",
       "  519.0,\n",
       "  522.0,\n",
       "  522.0,\n",
       "  526.0,\n",
       "  525.0,\n",
       "  527.0,\n",
       "  527.0,\n",
       "  528.0,\n",
       "  525.0,\n",
       "  531.0,\n",
       "  522.0,\n",
       "  528.0,\n",
       "  525.0,\n",
       "  534.0,\n",
       "  529.0,\n",
       "  528.0,\n",
       "  526.0,\n",
       "  529.0,\n",
       "  523.0,\n",
       "  523.0,\n",
       "  531.0,\n",
       "  521.0,\n",
       "  527.0,\n",
       "  529.0,\n",
       "  529.0,\n",
       "  526.0],\n",
       " 'fn': [526.0,\n",
       "  526.0,\n",
       "  527.0,\n",
       "  528.0,\n",
       "  525.0,\n",
       "  532.0,\n",
       "  525.0,\n",
       "  531.0,\n",
       "  156.0,\n",
       "  84.0,\n",
       "  52.0,\n",
       "  51.0,\n",
       "  34.0,\n",
       "  19.0,\n",
       "  13.0,\n",
       "  8.0,\n",
       "  12.0,\n",
       "  10.0,\n",
       "  4.0,\n",
       "  6.0,\n",
       "  4.0,\n",
       "  2.0,\n",
       "  3.0,\n",
       "  3.0,\n",
       "  1.0,\n",
       "  2.0,\n",
       "  1.0,\n",
       "  0.0,\n",
       "  0.0,\n",
       "  1.0,\n",
       "  1.0,\n",
       "  0.0,\n",
       "  0.0,\n",
       "  0.0,\n",
       "  0.0,\n",
       "  0.0,\n",
       "  0.0,\n",
       "  1.0,\n",
       "  0.0,\n",
       "  0.0,\n",
       "  0.0,\n",
       "  0.0,\n",
       "  0.0,\n",
       "  0.0,\n",
       "  0.0],\n",
       " 'accuracy': [0.9822871685028076,\n",
       "  0.9822871685028076,\n",
       "  0.9822534918785095,\n",
       "  0.9822198152542114,\n",
       "  0.9823208451271057,\n",
       "  0.982085108757019,\n",
       "  0.9823208451271057,\n",
       "  0.9821187853813171,\n",
       "  0.7854593396186829,\n",
       "  0.8183256983757019,\n",
       "  0.8700498342514038,\n",
       "  0.8901198506355286,\n",
       "  0.9167901277542114,\n",
       "  0.9261853694915771,\n",
       "  0.9473666548728943,\n",
       "  0.9627559185028076,\n",
       "  0.9667631983757019,\n",
       "  0.9738685488700867,\n",
       "  0.9800646305084229,\n",
       "  0.9818830490112305,\n",
       "  0.9853852391242981,\n",
       "  0.9907731413841248,\n",
       "  0.9920191168785095,\n",
       "  0.9924569129943848,\n",
       "  0.9940059185028076,\n",
       "  0.9956222772598267,\n",
       "  0.9957906603813171,\n",
       "  0.9971376657485962,\n",
       "  0.9972723722457886,\n",
       "  0.9977437853813171,\n",
       "  0.9976427555084229,\n",
       "  0.9983499646186829,\n",
       "  0.9981815814971924,\n",
       "  0.9982152581214905,\n",
       "  0.9982152581214905,\n",
       "  0.9985856413841248,\n",
       "  0.998686671257019,\n",
       "  0.9986193180084229,\n",
       "  0.9986193180084229,\n",
       "  0.9983162879943848,\n",
       "  0.9984846115112305,\n",
       "  0.9988550543785095,\n",
       "  0.9987877011299133,\n",
       "  0.9988887310028076,\n",
       "  0.998652994632721],\n",
       " 'auc': [0.5576584935188293,\n",
       "  0.5958642959594727,\n",
       "  0.629966139793396,\n",
       "  0.6429246664047241,\n",
       "  0.6934680342674255,\n",
       "  0.7082330584526062,\n",
       "  0.7347764372825623,\n",
       "  0.7453876733779907,\n",
       "  0.8204787373542786,\n",
       "  0.9133234620094299,\n",
       "  0.9495446085929871,\n",
       "  0.9604326486587524,\n",
       "  0.9743245244026184,\n",
       "  0.9843084812164307,\n",
       "  0.9918792843818665,\n",
       "  0.9956745505332947,\n",
       "  0.9959117770195007,\n",
       "  0.9972644448280334,\n",
       "  0.9986042976379395,\n",
       "  0.998577892780304,\n",
       "  0.9993078708648682,\n",
       "  0.9995829463005066,\n",
       "  0.9997503161430359,\n",
       "  0.9997161030769348,\n",
       "  0.9998193383216858,\n",
       "  0.9999001622200012,\n",
       "  0.9998940825462341,\n",
       "  0.9999642968177795,\n",
       "  0.9999468922615051,\n",
       "  0.9999570846557617,\n",
       "  0.999940037727356,\n",
       "  0.9999582171440125,\n",
       "  0.9999664425849915,\n",
       "  0.9999808669090271,\n",
       "  0.9999696016311646,\n",
       "  0.9999831914901733,\n",
       "  0.9999690055847168,\n",
       "  0.9999682307243347,\n",
       "  0.9999719858169556,\n",
       "  0.9999635815620422,\n",
       "  0.9999738931655884,\n",
       "  0.9999805688858032,\n",
       "  0.9999855160713196,\n",
       "  0.9999885559082031,\n",
       "  0.9999871850013733],\n",
       " 'val_loss': [0.1058177500963211,\n",
       "  0.1072925254702568,\n",
       "  0.10350813716650009,\n",
       "  0.10799365490674973,\n",
       "  0.1044265553355217,\n",
       "  0.10122694075107574,\n",
       "  0.10124721378087997,\n",
       "  0.0985177680850029,\n",
       "  13.893176078796387,\n",
       "  3.7381882667541504,\n",
       "  3.9876999855041504,\n",
       "  1.085684061050415,\n",
       "  0.32954010367393494,\n",
       "  0.1701699048280716,\n",
       "  0.17987573146820068,\n",
       "  0.1217280849814415,\n",
       "  0.12978635728359222,\n",
       "  0.1119530126452446,\n",
       "  0.10925105959177017,\n",
       "  0.10499753803014755,\n",
       "  0.10915599018335342,\n",
       "  0.08936518430709839,\n",
       "  0.09438221156597137,\n",
       "  0.09110859781503677,\n",
       "  0.09098301082849503,\n",
       "  0.09147290140390396,\n",
       "  0.09215154498815536,\n",
       "  0.08864417672157288,\n",
       "  0.0903601124882698,\n",
       "  0.09049814194440842,\n",
       "  0.09325533360242844,\n",
       "  0.09254641085863113,\n",
       "  0.09230978786945343,\n",
       "  0.09267159551382065,\n",
       "  0.09139048308134079,\n",
       "  0.08942832797765732,\n",
       "  0.0925716832280159,\n",
       "  0.0947442427277565,\n",
       "  0.0952644869685173,\n",
       "  0.09146928042173386,\n",
       "  0.09308453649282455,\n",
       "  0.09379392862319946,\n",
       "  0.0928451269865036,\n",
       "  0.09091436117887497,\n",
       "  0.09135035425424576],\n",
       " 'val_tp': [0.0,\n",
       "  0.0,\n",
       "  0.0,\n",
       "  0.0,\n",
       "  0.0,\n",
       "  0.0,\n",
       "  0.0,\n",
       "  0.0,\n",
       "  88.0,\n",
       "  83.0,\n",
       "  82.0,\n",
       "  78.0,\n",
       "  63.0,\n",
       "  38.0,\n",
       "  45.0,\n",
       "  27.0,\n",
       "  40.0,\n",
       "  24.0,\n",
       "  22.0,\n",
       "  24.0,\n",
       "  22.0,\n",
       "  17.0,\n",
       "  22.0,\n",
       "  31.0,\n",
       "  21.0,\n",
       "  20.0,\n",
       "  21.0,\n",
       "  15.0,\n",
       "  19.0,\n",
       "  17.0,\n",
       "  15.0,\n",
       "  16.0,\n",
       "  16.0,\n",
       "  18.0,\n",
       "  18.0,\n",
       "  18.0,\n",
       "  21.0,\n",
       "  21.0,\n",
       "  19.0,\n",
       "  19.0,\n",
       "  14.0,\n",
       "  20.0,\n",
       "  19.0,\n",
       "  22.0,\n",
       "  16.0],\n",
       " 'val_fn': [85.0,\n",
       "  87.0,\n",
       "  83.0,\n",
       "  89.0,\n",
       "  86.0,\n",
       "  84.0,\n",
       "  86.0,\n",
       "  83.0,\n",
       "  0.0,\n",
       "  0.0,\n",
       "  1.0,\n",
       "  7.0,\n",
       "  23.0,\n",
       "  50.0,\n",
       "  40.0,\n",
       "  57.0,\n",
       "  47.0,\n",
       "  64.0,\n",
       "  67.0,\n",
       "  60.0,\n",
       "  65.0,\n",
       "  66.0,\n",
       "  68.0,\n",
       "  55.0,\n",
       "  64.0,\n",
       "  66.0,\n",
       "  61.0,\n",
       "  69.0,\n",
       "  63.0,\n",
       "  65.0,\n",
       "  71.0,\n",
       "  71.0,\n",
       "  68.0,\n",
       "  69.0,\n",
       "  67.0,\n",
       "  66.0,\n",
       "  67.0,\n",
       "  64.0,\n",
       "  67.0,\n",
       "  70.0,\n",
       "  69.0,\n",
       "  66.0,\n",
       "  69.0,\n",
       "  65.0,\n",
       "  66.0],\n",
       " 'val_accuracy': [0.9833984375,\n",
       "  0.9830078482627869,\n",
       "  0.9837890863418579,\n",
       "  0.982617199420929,\n",
       "  0.983203113079071,\n",
       "  0.983593761920929,\n",
       "  0.983203113079071,\n",
       "  0.9837890863418579,\n",
       "  0.14628906548023224,\n",
       "  0.37480470538139343,\n",
       "  0.4378906190395355,\n",
       "  0.708789050579071,\n",
       "  0.898242175579071,\n",
       "  0.949999988079071,\n",
       "  0.9419922232627869,\n",
       "  0.9664062857627869,\n",
       "  0.9634765982627869,\n",
       "  0.972460925579071,\n",
       "  0.971484363079071,\n",
       "  0.972460925579071,\n",
       "  0.974414050579071,\n",
       "  0.9808593988418579,\n",
       "  0.978320300579071,\n",
       "  0.9808593988418579,\n",
       "  0.9791015982627869,\n",
       "  0.9791015982627869,\n",
       "  0.9781250357627869,\n",
       "  0.9800781607627869,\n",
       "  0.980273425579071,\n",
       "  0.9800781607627869,\n",
       "  0.9781250357627869,\n",
       "  0.978710949420929,\n",
       "  0.979687511920929,\n",
       "  0.9789062738418579,\n",
       "  0.979687511920929,\n",
       "  0.9800781607627869,\n",
       "  0.978320300579071,\n",
       "  0.978515625,\n",
       "  0.977343738079071,\n",
       "  0.978320300579071,\n",
       "  0.978515625,\n",
       "  0.9775390625,\n",
       "  0.9789062738418579,\n",
       "  0.980664074420929,\n",
       "  0.979687511920929],\n",
       " 'val_auc': [0.5649150609970093,\n",
       "  0.5844734311103821,\n",
       "  0.5726933479309082,\n",
       "  0.5884795188903809,\n",
       "  0.6123487949371338,\n",
       "  0.664283812046051,\n",
       "  0.6896753311157227,\n",
       "  0.702521800994873,\n",
       "  0.6385135054588318,\n",
       "  0.8083543181419373,\n",
       "  0.8112354874610901,\n",
       "  0.8936924338340759,\n",
       "  0.9173814654350281,\n",
       "  0.890018880367279,\n",
       "  0.9128885865211487,\n",
       "  0.8948616981506348,\n",
       "  0.9104427695274353,\n",
       "  0.9018756747245789,\n",
       "  0.8934818506240845,\n",
       "  0.9220718741416931,\n",
       "  0.8911024332046509,\n",
       "  0.8871339559555054,\n",
       "  0.8913859128952026,\n",
       "  0.903967022895813,\n",
       "  0.8872435092926025,\n",
       "  0.907934308052063,\n",
       "  0.895395040512085,\n",
       "  0.8758463263511658,\n",
       "  0.895011305809021,\n",
       "  0.8763517141342163,\n",
       "  0.8811189532279968,\n",
       "  0.8797842860221863,\n",
       "  0.8785012364387512,\n",
       "  0.8951368927955627,\n",
       "  0.878835141658783,\n",
       "  0.8899069428443909,\n",
       "  0.889748752117157,\n",
       "  0.8864314556121826,\n",
       "  0.8907696008682251,\n",
       "  0.9014357924461365,\n",
       "  0.8905831575393677,\n",
       "  0.8820404410362244,\n",
       "  0.883951723575592,\n",
       "  0.8767000436782837,\n",
       "  0.8612870573997498],\n",
       " 'lr': [1e-06,\n",
       "  1e-06,\n",
       "  1e-06,\n",
       "  1e-06,\n",
       "  1e-06,\n",
       "  1e-06,\n",
       "  1e-06,\n",
       "  1e-06,\n",
       "  0.001,\n",
       "  0.001,\n",
       "  0.00075,\n",
       "  0.00075,\n",
       "  0.0005625,\n",
       "  0.0005625,\n",
       "  0.00042187498,\n",
       "  0.00042187498,\n",
       "  0.00031640625,\n",
       "  0.00031640625,\n",
       "  0.00023730469,\n",
       "  0.00023730469,\n",
       "  0.00017797851,\n",
       "  0.00017797851,\n",
       "  0.00013348387,\n",
       "  0.00013348387,\n",
       "  0.000100112906,\n",
       "  0.000100112906,\n",
       "  7.508468e-05,\n",
       "  7.508468e-05,\n",
       "  5.631351e-05,\n",
       "  5.631351e-05,\n",
       "  4.2235133e-05,\n",
       "  4.2235133e-05,\n",
       "  3.167635e-05,\n",
       "  3.167635e-05,\n",
       "  2.3757264e-05,\n",
       "  2.3757264e-05,\n",
       "  1.7817947e-05,\n",
       "  1.7817947e-05,\n",
       "  1.336346e-05,\n",
       "  1.336346e-05,\n",
       "  1.0022595e-05,\n",
       "  1.0022595e-05,\n",
       "  7.5169464e-06,\n",
       "  7.5169464e-06,\n",
       "  5.63771e-06]}"
      ]
     },
     "execution_count": 35,
     "metadata": {},
     "output_type": "execute_result"
    }
   ],
   "source": [
    "history.history"
   ]
  },
  {
   "cell_type": "code",
   "execution_count": 36,
   "metadata": {
    "execution": {
     "iopub.execute_input": "2020-08-15T06:42:39.288900Z",
     "iopub.status.busy": "2020-08-15T06:42:39.283651Z",
     "iopub.status.idle": "2020-08-15T06:42:41.698414Z",
     "shell.execute_reply": "2020-08-15T06:42:41.697702Z"
    },
    "id": "2LH6uE5yLMgT",
    "papermill": {
     "duration": 2.557602,
     "end_time": "2020-08-15T06:42:41.698537",
     "exception": false,
     "start_time": "2020-08-15T06:42:39.140935",
     "status": "completed"
    },
    "tags": []
   },
   "outputs": [],
   "source": [
    "model.save('model.h5')"
   ]
  },
  {
   "cell_type": "code",
   "execution_count": null,
   "metadata": {
    "id": "FqS_fPjDLMgj",
    "papermill": {
     "duration": 0.124601,
     "end_time": "2020-08-15T06:42:41.945288",
     "exception": false,
     "start_time": "2020-08-15T06:42:41.820687",
     "status": "completed"
    },
    "tags": []
   },
   "outputs": [],
   "source": []
  },
  {
   "cell_type": "code",
   "execution_count": null,
   "metadata": {
    "papermill": {
     "duration": 0.117975,
     "end_time": "2020-08-15T06:42:42.182076",
     "exception": false,
     "start_time": "2020-08-15T06:42:42.064101",
     "status": "completed"
    },
    "tags": []
   },
   "outputs": [],
   "source": []
  }
 ],
 "metadata": {
  "kernelspec": {
   "display_name": "Python 3",
   "language": "python",
   "name": "python3"
  },
  "language_info": {
   "codemirror_mode": {
    "name": "ipython",
    "version": 3
   },
   "file_extension": ".py",
   "mimetype": "text/x-python",
   "name": "python",
   "nbconvert_exporter": "python",
   "pygments_lexer": "ipython3",
   "version": "3.7.3"
  },
  "papermill": {
   "duration": 1519.382865,
   "end_time": "2020-08-15T06:42:43.373982",
   "environment_variables": {},
   "exception": null,
   "input_path": "__notebook__.ipynb",
   "output_path": "__notebook__.ipynb",
   "parameters": {},
   "start_time": "2020-08-15T06:17:23.991117",
   "version": "2.1.0"
  }
 },
 "nbformat": 4,
 "nbformat_minor": 4
}
